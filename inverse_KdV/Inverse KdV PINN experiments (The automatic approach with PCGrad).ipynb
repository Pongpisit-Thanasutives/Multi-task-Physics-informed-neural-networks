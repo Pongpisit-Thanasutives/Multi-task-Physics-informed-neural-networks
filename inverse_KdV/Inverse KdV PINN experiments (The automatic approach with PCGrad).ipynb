{
 "cells": [
  {
   "cell_type": "code",
   "execution_count": 2,
   "metadata": {},
   "outputs": [],
   "source": [
    "%load_ext autoreload\n",
    "%autoreload 2 \n",
    "%reload_ext autoreload\n",
    "%matplotlib inline\n",
    "import matplotlib.pyplot as plt\n",
    "\n",
    "# always import gbm_algos first !\n",
    "import xgboost, lightgbm, catboost\n",
    "from gplearn.genetic import SymbolicRegressor\n",
    "\n",
    "# To access the contents of the parent dir\n",
    "import sys; sys.path.insert(0, '../')\n",
    "import os\n",
    "from scipy.io import loadmat\n",
    "from utils import *\n",
    "from preprocess import *\n",
    "\n",
    "# Let's do facy optimizers\n",
    "from optimizers import Lookahead, AdamGC, SGDGC\n",
    "from madgrad import MADGRAD\n",
    "from lbfgsnew import LBFGSNew\n",
    "\n",
    "# Modify at /usr/local/lib/python3.9/site-packages/torch_lr_finder/lr_finder.py\n",
    "from torch_lr_finder import LRFinder\n",
    "\n",
    "# Tracking\n",
    "from tqdm import trange\n",
    "\n",
    "import sympy\n",
    "import sympytorch"
   ]
  },
  {
   "cell_type": "code",
   "execution_count": 3,
   "metadata": {},
   "outputs": [
    {
     "name": "stdout",
     "output_type": "stream",
     "text": [
      "Data is arranged in an uniform grid\n",
      "Fine-tuning with 2000 samples\n",
      "Not including N_res\n"
     ]
    }
   ],
   "source": [
    "include_N_res = False\n",
    "\n",
    "DATA_PATH = '../PDE_FIND_experimental_datasets/kdv.mat'\n",
    "X, T, Exact = space_time_grid(data_path=DATA_PATH, real_solution=True)\n",
    "X_star, u_star = get_trainable_data(X, T, Exact)\n",
    "\n",
    "# Doman bounds\n",
    "lb = X_star.min(axis=0)\n",
    "ub = X_star.max(axis=0)\n",
    "\n",
    "N = 2000\n",
    "print(f\"Fine-tuning with {N} samples\")\n",
    "idx = np.random.choice(X_star.shape[0], N, replace=False)\n",
    "X_u_train = X_star[idx, :]\n",
    "u_train = u_star[idx,:]\n",
    "\n",
    "# Unsup data\n",
    "if include_N_res:\n",
    "    N_res = N//2\n",
    "    idx_res = np.array(range(X_star.shape[0]-1))[~idx]\n",
    "    idx_res = np.random.choice(idx_res.shape[0], N_res, replace=True)\n",
    "    X_res = X_star[idx_res, :]\n",
    "    print(f\"Fine-tuning with {N_res} unsup samples\")\n",
    "    X_u_train = np.vstack([X_u_train, X_res])\n",
    "    u_train = np.vstack([u_train, torch.rand(X_res.shape[0], 1) - 1000])\n",
    "    # del X_res\n",
    "else: print(\"Not including N_res\")\n",
    "\n",
    "# Convert to torch.tensor\n",
    "X_u_train = to_tensor(X_u_train, True)\n",
    "u_train = to_tensor(u_train, False)\n",
    "X_star = to_tensor(X_star, True)\n",
    "u_star = to_tensor(u_star, False)\n",
    "\n",
    "# lb and ub are used in adversarial training\n",
    "scaling_factor = 1.0\n",
    "lb = scaling_factor*to_tensor(lb, False)\n",
    "ub = scaling_factor*to_tensor(ub, False)\n",
    "\n",
    "# Feature names, base on the symbolic regression results\n",
    "feature_names=('uf', 'u_x', 'u_xxx'); feature2index = {}"
   ]
  },
  {
   "cell_type": "code",
   "execution_count": 4,
   "metadata": {},
   "outputs": [
    {
     "name": "stdout",
     "output_type": "stream",
     "text": [
      "Loaded from ./saved_path_inverse_kdv/kdv_gp_symreg_10000labeledsamples.pkl\n",
      "-1.0*X0*X1 - 0.172*X2 {X1, X0, X2}\n"
     ]
    },
    {
     "data": {
      "text/plain": [
       "SymPyModule(expressions=(-1.0*X0*X1 - 0.172*X2,))"
      ]
     },
     "execution_count": 4,
     "metadata": {},
     "output_type": "execute_result"
    }
   ],
   "source": [
    "program = pickle_load('./saved_path_inverse_kdv/kdv_gp_symreg_10000labeledsamples.pkl')\n",
    "pde_expr, variables,  = build_exp(program); print(pde_expr, variables)\n",
    "mod = sympytorch.SymPyModule(expressions=[pde_expr]); mod.train()"
   ]
  },
  {
   "cell_type": "code",
   "execution_count": 5,
   "metadata": {},
   "outputs": [],
   "source": [
    "class PINN(nn.Module):\n",
    "    def __init__(self, model, loss_fn, index2features, scale=False, lb=None, ub=None, pretrained=False):\n",
    "        super(PINN, self).__init__()\n",
    "        self.model = model\n",
    "        if not pretrained: self.model.apply(self.xavier_init)\n",
    "        self.callable_loss_fn = loss_fn\n",
    "        self.index2features = index2features; self.feature2index = {}\n",
    "        for idx, fn in enumerate(self.index2features): self.feature2index[fn] = str(idx)\n",
    "        self.scale = scale; self.lb, self.ub = lb, ub\n",
    "        self.diff_flag = diff_flag(self.index2features)\n",
    "        \n",
    "    def xavier_init(self, m):\n",
    "        if type(m) == nn.Linear:\n",
    "            torch.nn.init.xavier_uniform_(m.weight)\n",
    "            m.bias.data.fill_(0.01)\n",
    "        \n",
    "    def forward(self, x, t):\n",
    "        H = torch.cat([x, t], dim=1)\n",
    "        if self.scale: H = self.neural_net_scale(H)\n",
    "        return self.model(H)\n",
    "    \n",
    "    def loss(self, x, t, y_input, update_network_params=True, update_pde_params=True):\n",
    "        total_loss = []\n",
    "        grads_dict, u_t = self.grads_dict(x, t)\n",
    "        # MSE Loss\n",
    "        if update_network_params:\n",
    "            mse_loss = F.mse_loss(grads_dict['X'+self.feature2index['uf']], y_input)\n",
    "            total_loss.append(mse_loss)\n",
    "        # PDE Loss\n",
    "        if update_pde_params:\n",
    "            l_eq = F.mse_loss(self.callable_loss_fn(**grads_dict).squeeze(-1), u_t/6.0)\n",
    "            total_loss.append(l_eq)\n",
    "            \n",
    "        return total_loss\n",
    "    \n",
    "    def grads_dict(self, x, t):\n",
    "        uf = self.forward(x, t)\n",
    "        u_t = self.gradients(uf, t)[0]\n",
    "        \n",
    "        ### PDE Loss calculation ###\n",
    "        # Without calling grad\n",
    "        derivatives = {}\n",
    "        for t in self.diff_flag[0]:\n",
    "            if t=='uf': derivatives['X'+self.feature2index[t]] = uf\n",
    "            elif t=='x': derivatives['X'+self.feature2index[t]] = x\n",
    "        # With calling grad\n",
    "        for t in self.diff_flag[1]:\n",
    "            out = uf\n",
    "            for c in t:\n",
    "                if c=='x': out = self.gradients(out, x)[0]\n",
    "                elif c=='t': out = self.gradients(out, t)[0]\n",
    "            derivatives['X'+self.feature2index['u_'+t[::-1]]] = out\n",
    "        \n",
    "        return derivatives, u_t\n",
    "    \n",
    "    def gradients(self, func, x):\n",
    "        return grad(func, x, create_graph=True, retain_graph=True, grad_outputs=torch.ones(func.shape))\n",
    "    \n",
    "    def neural_net_scale(self, inp): \n",
    "        return 2*(inp-self.lb/(self.ub-self.lb))-1"
   ]
  },
  {
   "cell_type": "code",
   "execution_count": 5,
   "metadata": {},
   "outputs": [
    {
     "name": "stdout",
     "output_type": "stream",
     "text": [
      "Using old implementation of TorchMLP. See models.py for more new model-related source code.\n"
     ]
    }
   ],
   "source": [
    "model = TorchMLP(dimensions=[2, 50, 50, 50 ,50, 50, 1], activation_function=nn.Tanh, bn=nn.LayerNorm, dropout=None)\n",
    "\n",
    "# Pretrained model\n",
    "semisup_model_state_dict = torch.load(\"./saved_path_inverse_kdv/semisup_model_with_LayerNormDropout_without_physical_reg_trained10000labeledsamples_trained5000unlabeledsamples_1.1e-07.pth\")\n",
    "parameters = OrderedDict()\n",
    "# Filter only the parts that I care about renaming (to be similar to what defined in TorchMLP).\n",
    "inner_part = \"network.model.\"\n",
    "for p in semisup_model_state_dict:\n",
    "    if inner_part in p:\n",
    "        parameters[p.replace(inner_part, \"\")] = semisup_model_state_dict[p]\n",
    "model.load_state_dict(parameters)\n",
    "\n",
    "pinn = PINN(model=model, loss_fn=mod, index2features=feature_names, scale=True, lb=lb, ub=ub, pretrained=True)"
   ]
  },
  {
   "cell_type": "code",
   "execution_count": 6,
   "metadata": {},
   "outputs": [],
   "source": [
    "def closure():\n",
    "    if torch.is_grad_enabled():\n",
    "        optimizer2.zero_grad()\n",
    "    losses = pinn.loss(X_u_train[:, 0:1], X_u_train[:, 1:2], u_train, update_network_params=True, update_pde_params=True)\n",
    "    l = sum(losses)\n",
    "    if l.requires_grad:\n",
    "        l.backward(retain_graph=True)\n",
    "    return l\n",
    "\n",
    "def mtl_closure():\n",
    "    n_obj = 2 # There are two tasks\n",
    "    losses = pinn.loss(X_u_train[:, 0:1], X_u_train[:, 1:2], u_train, update_network_params=True, update_pde_params=True)\n",
    "    updated_grads = []\n",
    "    \n",
    "    for i in range(n_obj):\n",
    "        optimizer1.zero_grad()\n",
    "        losses[i].backward(retain_graph=True)\n",
    "\n",
    "        g_task = []\n",
    "        for param in pinn.parameters():\n",
    "            if param.grad is not None:\n",
    "                g_task.append(Variable(param.grad.clone(), requires_grad=False))\n",
    "            else:\n",
    "                g_task.append(Variable(torch.zeros(param.shape), requires_grad=False))\n",
    "        # appending the gradients from each task\n",
    "        updated_grads.append(g_task)\n",
    "\n",
    "    updated_grads = list(pcgrad.pc_grad_update(updated_grads))[0]\n",
    "    for idx, param in enumerate(pinn.parameters()): \n",
    "        param.grad = (updated_grads[0][idx]+updated_grads[1][idx])\n",
    "        \n",
    "    return sum(losses)"
   ]
  },
  {
   "cell_type": "code",
   "execution_count": 7,
   "metadata": {},
   "outputs": [
    {
     "name": "stdout",
     "output_type": "stream",
     "text": [
      "1st Phase optimization using Adam with PCGrad gradient modification\n",
      "Epoch 0:  2.9671386414520384e-07\n",
      "Epoch 10:  2.92789877676114e-07\n",
      "Epoch 20:  2.952675970391283e-07\n",
      "Epoch 30:  2.886145011871122e-07\n",
      "Epoch 40:  2.8584409506038355e-07\n",
      "Epoch 50:  2.8257386475161184e-07\n",
      "Epoch 60:  2.808275212373701e-07\n",
      "Epoch 70:  2.786840127555479e-07\n",
      "Epoch 80:  2.783053218990972e-07\n",
      "Epoch 90:  2.7918400746784755e-07\n",
      "Epoch 100:  2.773560368041217e-07\n",
      "Epoch 110:  2.7553164727578405e-07\n",
      "Epoch 120:  2.726889363202645e-07\n",
      "Epoch 130:  2.7057262741436716e-07\n",
      "Epoch 140:  2.6844259082281496e-07\n",
      "Epoch 150:  2.7003159175365e-07\n",
      "Epoch 160:  2.735752673288516e-07\n",
      "Epoch 170:  2.691403437893314e-07\n",
      "Epoch 180:  2.6468580927030416e-07\n",
      "Epoch 190:  2.687432356651698e-07\n",
      "Epoch 200:  2.6690929644246353e-07\n",
      "Epoch 210:  2.6396645580462064e-07\n",
      "Epoch 220:  2.607164901746728e-07\n",
      "Epoch 230:  2.585310880931502e-07\n",
      "Epoch 240:  2.579488409537589e-07\n",
      "Epoch 250:  2.591726797618321e-07\n",
      "Epoch 260:  2.574458903836785e-07\n",
      "Epoch 270:  2.5504442646706593e-07\n",
      "Epoch 280:  2.540458297062287e-07\n",
      "Epoch 290:  2.523973421375558e-07\n",
      "Epoch 300:  2.548753741393739e-07\n",
      "Epoch 310:  2.520259272387193e-07\n",
      "Epoch 320:  2.4859917857611435e-07\n",
      "Epoch 330:  2.475060512097116e-07\n",
      "Epoch 340:  2.470477227234369e-07\n",
      "Epoch 350:  2.4459092173856334e-07\n",
      "Epoch 360:  2.4558369204896735e-07\n",
      "Epoch 370:  2.496978765975655e-07\n",
      "Epoch 380:  2.470574429480621e-07\n",
      "Epoch 390:  2.442833419991075e-07\n",
      "Epoch 400:  2.4191066927414795e-07\n",
      "Epoch 410:  2.4004452825465705e-07\n",
      "Epoch 420:  2.3849460717428883e-07\n",
      "Epoch 430:  2.372462546418319e-07\n",
      "Epoch 440:  2.360003321655313e-07\n",
      "Epoch 450:  2.3605394972037175e-07\n",
      "Epoch 460:  2.3557348072245077e-07\n",
      "Epoch 470:  2.34522417486005e-07\n",
      "Epoch 480:  2.3343247335105843e-07\n",
      "Epoch 490:  2.3222528966471145e-07\n",
      "Epoch 500:  2.3139688209994347e-07\n",
      "Epoch 510:  2.304026622823585e-07\n",
      "Epoch 520:  2.2977749836172734e-07\n",
      "Epoch 530:  2.2930714749236358e-07\n",
      "Epoch 540:  2.2817354761173192e-07\n",
      "Epoch 550:  2.2694683821100625e-07\n",
      "Epoch 560:  2.2618135631091718e-07\n",
      "Epoch 570:  2.2455395765064168e-07\n",
      "Epoch 580:  2.2614727868131013e-07\n",
      "Epoch 590:  2.2543918021256104e-07\n",
      "Epoch 600:  2.2454130998994515e-07\n",
      "Epoch 610:  2.2421133394345816e-07\n",
      "Epoch 620:  2.2321583514894883e-07\n",
      "Epoch 630:  2.2171326463649166e-07\n",
      "Epoch 640:  2.2016112666278786e-07\n",
      "Epoch 650:  2.1901385593992018e-07\n",
      "Epoch 660:  2.1795599991492054e-07\n",
      "Epoch 670:  2.1691671747703367e-07\n",
      "Epoch 680:  2.160465442102577e-07\n",
      "Epoch 690:  2.1523371174225758e-07\n",
      "Epoch 700:  2.1455335286191257e-07\n",
      "Epoch 710:  2.143085566785885e-07\n",
      "Epoch 720:  2.1280300188664114e-07\n",
      "Epoch 730:  2.1250565396258025e-07\n",
      "Epoch 740:  2.1273412187383656e-07\n",
      "Epoch 750:  2.1141676143088262e-07\n",
      "Epoch 760:  2.1142153627806692e-07\n",
      "Epoch 770:  2.1035880592989997e-07\n",
      "Epoch 780:  2.089848578634701e-07\n",
      "Epoch 790:  2.08588971872814e-07\n",
      "Epoch 800:  2.0815642187699268e-07\n",
      "Epoch 810:  2.0790149335425667e-07\n",
      "Epoch 820:  2.0637725128835882e-07\n",
      "Epoch 830:  2.0584180049354472e-07\n",
      "Epoch 840:  2.0533450140192144e-07\n",
      "Epoch 850:  2.0476336715091747e-07\n",
      "Epoch 860:  2.041693250021126e-07\n",
      "Epoch 870:  2.034675645745665e-07\n",
      "Epoch 880:  2.036491082435532e-07\n",
      "Epoch 890:  2.0258843846931995e-07\n",
      "Epoch 900:  2.0190469740555272e-07\n",
      "Epoch 910:  2.0098269715163042e-07\n",
      "Epoch 920:  2.0012689105897152e-07\n",
      "Epoch 930:  1.9954910612796084e-07\n",
      "Epoch 940:  1.990415654518074e-07\n",
      "Epoch 950:  1.9799676920229103e-07\n",
      "Epoch 960:  1.9768518200180552e-07\n",
      "Epoch 970:  1.969681875380047e-07\n",
      "Epoch 980:  1.9627526626209146e-07\n",
      "Epoch 990:  1.95847064787813e-07\n",
      "Epoch 999:  1.9561133512979723e-07\n",
      "2nd Phase optimization using LBFGS\n",
      "Epoch 0:  1.9525948857790354e-07\n",
      "Epoch 10:  1.9525948857790354e-07\n",
      "Epoch 20:  1.9525948857790354e-07\n",
      "Epoch 30:  1.9525948857790354e-07\n",
      "Epoch 40:  1.9525948857790354e-07\n",
      "Epoch 49:  1.9525948857790354e-07\n"
     ]
    }
   ],
   "source": [
    "epochs1, epochs2 = 1000, 50\n",
    "# TODO: Save best state dict and training for more epochs.\n",
    "optimizer1 = MADGRAD(pinn.parameters(), lr=1e-7, momentum=0.9)\n",
    "pinn.train(); best_train_loss = 1e6\n",
    "\n",
    "print('1st Phase optimization using Adam with PCGrad gradient modification')\n",
    "for i in range(epochs1):\n",
    "    optimizer1.step(mtl_closure)\n",
    "    l = mtl_closure()\n",
    "    if (i % 10) == 0 or i == epochs1-1:\n",
    "        print(\"Epoch {}: \".format(i), l.item())\n",
    "\n",
    "optimizer2 = torch.optim.LBFGS(pinn.parameters(), lr=1e-1, max_iter=500, max_eval=int(500*1.25), history_size=300, line_search_fn='strong_wolfe')\n",
    "print('2nd Phase optimization using LBFGS')\n",
    "for i in range(epochs2):\n",
    "    optimizer2.step(closure)\n",
    "    l = closure()\n",
    "    if (i % 10) == 0 or i == epochs2-1:\n",
    "        print(\"Epoch {}: \".format(i), l.item())"
   ]
  },
  {
   "cell_type": "code",
   "execution_count": 13,
   "metadata": {},
   "outputs": [],
   "source": [
    "pred_params = [6.0*x.item() for x in pinn.callable_loss_fn.parameters()]"
   ]
  },
  {
   "cell_type": "code",
   "execution_count": 14,
   "metadata": {},
   "outputs": [
    {
     "data": {
      "text/plain": [
       "(0.8563891053199768, 0.6776228547096252)"
      ]
     },
     "execution_count": 14,
     "metadata": {},
     "output_type": "execute_result"
    }
   ],
   "source": [
    "results = np.array([(abs(pred_params[0]+1))*100, (abs(pred_params[1]+6))*100/6])\n",
    "results.mean(), results.std()"
   ]
  },
  {
   "cell_type": "code",
   "execution_count": 15,
   "metadata": {},
   "outputs": [
    {
     "data": {
      "text/plain": [
       "[-1.015340119600296, -6.010725975036621]"
      ]
     },
     "execution_count": 15,
     "metadata": {},
     "output_type": "execute_result"
    }
   ],
   "source": [
    "pred_params"
   ]
  }
 ],
 "metadata": {
  "kernelspec": {
   "display_name": "Python 3",
   "language": "python",
   "name": "python3"
  },
  "language_info": {
   "codemirror_mode": {
    "name": "ipython",
    "version": 3
   },
   "file_extension": ".py",
   "mimetype": "text/x-python",
   "name": "python",
   "nbconvert_exporter": "python",
   "pygments_lexer": "ipython3",
   "version": "3.9.6"
  }
 },
 "nbformat": 4,
 "nbformat_minor": 4
}
