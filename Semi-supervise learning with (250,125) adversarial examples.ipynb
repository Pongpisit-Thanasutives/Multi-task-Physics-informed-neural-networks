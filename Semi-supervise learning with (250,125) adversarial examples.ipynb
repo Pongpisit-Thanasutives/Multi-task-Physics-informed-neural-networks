{
 "cells": [
  {
   "cell_type": "code",
   "execution_count": 1,
   "metadata": {},
   "outputs": [
    {
     "name": "stderr",
     "output_type": "stream",
     "text": [
      "[MLENS] backend: threading\n"
     ]
    },
    {
     "name": "stdout",
     "output_type": "stream",
     "text": [
      "[pyKeOps]: Warning, no cuda detected. Switching to cpu only.\n"
     ]
    }
   ],
   "source": [
    "%load_ext autoreload\n",
    "%autoreload 2 \n",
    "%reload_ext autoreload\n",
    "import matplotlib.pyplot as plt\n",
    "\n",
    "# always import gbm_algos first !\n",
    "import xgboost, lightgbm, catboost\n",
    "\n",
    "# Core\n",
    "import numpy as np\n",
    "import scipy.io as io\n",
    "from torch.autograd import grad\n",
    "from torch.utils.data import DataLoader, Dataset\n",
    "\n",
    "# Sklearn\n",
    "from sklearn.ensemble import RandomForestRegressor\n",
    "from mlens.ensemble import SuperLearner\n",
    "\n",
    "# Let's do facy optimizers\n",
    "from optimizers import Lookahead, AdamGC, SGDGC\n",
    "from madgrad import MADGRAD\n",
    "from lbfgsnew import LBFGSNew\n",
    "# Modify at /usr/local/lib/python3.9/site-packages/torch_lr_finder/lr_finder.py\n",
    "from torch_lr_finder import LRFinder\n",
    "from onecyclelr import OneCycleLR\n",
    "import pcgrad\n",
    "from pytorch_stats_loss import torch_wasserstein_loss, torch_energy_loss\n",
    "from geomloss import SamplesLoss\n",
    "from utils import *\n",
    "\n",
    "from tqdm import trange"
   ]
  },
  {
   "cell_type": "code",
   "execution_count": 2,
   "metadata": {},
   "outputs": [
    {
     "name": "stdout",
     "output_type": "stream",
     "text": [
      "Training with 500 samples\n",
      "Training with 250 unsup samples\n"
     ]
    }
   ],
   "source": [
    "DATA_PATH = \"/Users/pongpisit/Desktop/research/pinn/Solving-Differential-Equations-with-Neural-Networks/SymbolicMathematics/data/burgers_shock.mat\"\n",
    "data = io.loadmat(DATA_PATH)\n",
    "\n",
    "t = data['t'].flatten()[:,None]\n",
    "x = data['x'].flatten()[:,None]\n",
    "Exact = np.real(data['usol']).T\n",
    "\n",
    "X, T = np.meshgrid(x,t)\n",
    "\n",
    "X_star = np.hstack((X.flatten()[:,None], T.flatten()[:,None]))\n",
    "u_star = Exact.flatten()[:,None]              \n",
    "\n",
    "# Doman bounds\n",
    "lb = X_star.min(0)\n",
    "ub = X_star.max(0)\n",
    "\n",
    "N = 500\n",
    "print(f\"Training with {N} samples\")\n",
    "idx = np.random.choice(X_star.shape[0], N, replace=False)\n",
    "X_u_train = X_star[idx, :]\n",
    "u_train = u_star[idx,:]\n",
    "\n",
    "# Unsup data\n",
    "N_res = N//2\n",
    "idx_res = np.array(range(X_star.shape[0]-1))[~idx]\n",
    "idx_res = np.random.choice(idx_res.shape[0], N_res, replace=True)\n",
    "X_res = X_star[idx_res, :]\n",
    "print(f\"Training with {N_res} unsup samples\")\n",
    "X_u_train = np.vstack([X_u_train, X_res])\n",
    "u_train = np.vstack([u_train, torch.rand(X_res.shape[0], 1) - 1000])\n",
    "# del X_res\n",
    "\n",
    "# Convert to torch.tensor\n",
    "X_u_train = torch.tensor(X_u_train).float().requires_grad_(True)\n",
    "u_train = torch.tensor(u_train).float().requires_grad_(True)\n",
    "X_star = torch.tensor(X_star).float().requires_grad_(True)\n",
    "u_star = torch.tensor(u_star).float().requires_grad_(True)\n",
    "# lb and ub are used in adversarial training\n",
    "scaling_factor = 1.0\n",
    "lb = scaling_factor*to_tensor(lb, False)\n",
    "ub = scaling_factor*to_tensor(ub, False)\n",
    "feature_names=['uf', 'u_x',  'u_xx', 'u_tt', 'u_xt', 'u_tx']"
   ]
  },
  {
   "cell_type": "code",
   "execution_count": 3,
   "metadata": {},
   "outputs": [],
   "source": [
    "class Network(nn.Module):\n",
    "    def __init__(self, model):\n",
    "        super(Network, self).__init__()\n",
    "        # pls init the self.model before\n",
    "        self.model = model\n",
    "        # For tracking\n",
    "        self.index2features = ('uf', 'u_x',  'u_xx', 'u_tt', 'u_xt', 'u_tx')\n",
    "        self.uf = None\n",
    "        \n",
    "    def xavier_init(self, m):\n",
    "        if type(m) == nn.Linear:\n",
    "            torch.nn.init.xavier_uniform_(m.weight)\n",
    "            m.bias.data.fill_(0.01)\n",
    "        \n",
    "    def forward(self, x, t):\n",
    "        self.uf = self.model(torch.cat([x, t], dim=1))\n",
    "        return self.uf\n",
    "    \n",
    "    def get_selector_data(self, x, t):\n",
    "        uf = self.forward(x, t)\n",
    "        \n",
    "        ### PDE Loss calculation ###\n",
    "        # first-order derivatives\n",
    "        u_t = self.gradients(uf, t)[0]\n",
    "        u_x = self.gradients(uf, x)[0]\n",
    "        # Homo second-order derivatives\n",
    "        u_tt = self.gradients(u_t,t)[0]\n",
    "        u_xx = self.gradients(u_x, x)[0]\n",
    "        # Hetero second-order derivatives\n",
    "        u_xt = self.gradients(u_t, x)[0]\n",
    "        u_tx = self.gradients(u_x, t)[0]\n",
    "        \n",
    "        X_selector = torch.cat([uf, u_x, u_xx, u_tt, u_xt, u_tx], dim=1)\n",
    "        y_selector = u_t\n",
    "        \n",
    "        return X_selector, y_selector\n",
    "    \n",
    "    def gradients(self, func, x):\n",
    "        return grad(func, x, create_graph=True, retain_graph=True, grad_outputs=torch.ones(func.shape))"
   ]
  },
  {
   "cell_type": "code",
   "execution_count": 4,
   "metadata": {},
   "outputs": [],
   "source": [
    "# Does the SeclectorNetwork has to be a neural networks ???\n",
    "class SeclectorNetwork(nn.Module):\n",
    "    def __init__(self, X_train_dim, bn=None):\n",
    "        super().__init__()\n",
    "        # Nonlinear model, Training with PDE reg.\n",
    "        self.nonlinear_model = TorchMLP(dimensions=[X_train_dim, 50, 50, 1], activation_function=nn.Tanh, bn=bn, dropout=nn.Dropout(p=0.1), inp_drop=False)\n",
    "        \n",
    "    def xavier_init(self, m):\n",
    "        if type(m) == nn.Linear:\n",
    "            torch.nn.init.xavier_uniform_(m.weight)\n",
    "            m.bias.data.fill_(0.01)\n",
    "        \n",
    "    def forward(self, inn):\n",
    "        ut_approx = self.nonlinear_model(inn)\n",
    "        return ut_approx\n",
    "    \n",
    "    def loss(self, X_input, y_input):\n",
    "        ut_approx = self.forward(X_input)\n",
    "        mse_loss = F.mse_loss(ut_approx, y_input, reduction='mean')\n",
    "        return mse_loss\n",
    "\n",
    "class SemiSupModel(nn.Module):\n",
    "    def __init__(self, network, selector, normalize_derivative_features=False, mini=None, maxi=None):\n",
    "        super(SemiSupModel, self).__init__()\n",
    "        self.network = network\n",
    "        self.selector = selector\n",
    "        self.normalize_derivative_features = normalize_derivative_features\n",
    "        self.mini = mini\n",
    "        self.maxi = maxi\n",
    "    def forward(self, X_u_train):\n",
    "        X_selector, y_selector = self.network.get_selector_data(*dimension_slicing(X_u_train))\n",
    "        if self.normalize_derivative_features:\n",
    "            X_selector = (X_selector-self.mini)/(self.maxi-self.mini)\n",
    "        unsup_loss = self.selector.loss(X_selector, y_selector)\n",
    "        return self.network.uf, unsup_loss"
   ]
  },
  {
   "cell_type": "code",
   "execution_count": 6,
   "metadata": {},
   "outputs": [
    {
     "name": "stdout",
     "output_type": "stream",
     "text": [
      "Use pretrained weights\n"
     ]
    }
   ],
   "source": [
    "# network = Network(model=TorchMLP(dimensions=[6, 50, 50, 50 ,50, 50, 1], bn=nn.BatchNorm1d))\n",
    "# selector = SeclectorNetwork(X_train_dim=6, bn=nn.LayerNorm)\n",
    "\n",
    "### Version without normalized derivatives ###\n",
    "# semisup_model = SemiSupModel(network=Network(model=TorchMLP(dimensions=[2, 50, 50, 50 ,50, 50, 1], activation_function=nn.Tanh, bn=nn.LayerNorm, dropout=None)),\n",
    "#                              selector=SeclectorNetwork(X_train_dim=6, bn=nn.LayerNorm),\n",
    "#                              normalize_derivative_features=False, \n",
    "#                              mini=None, \n",
    "#                              maxi=None)\n",
    "\n",
    "### Version with normalized derivatives ###\n",
    "pretrained_state_dict = torch.load('./saved_path_inverse_burger/lbfgsnew_results/semisup_model_with_LayerNormDropout_without_physical_reg_trained500labeledsamples_trained0unlabeledsamples_9.1e-04.pth')\n",
    "network_state_dict = None\n",
    "is_pretrained = True\n",
    "semisup_model = SemiSupModel(network=Network(model=TorchMLP(dimensions=[2, 50, 50, 50 ,50, 50, 1], activation_function=nn.Tanh, bn=nn.LayerNorm, dropout=None)),\n",
    "                             selector=SeclectorNetwork(X_train_dim=6, bn=nn.LayerNorm),\n",
    "                             normalize_derivative_features=True, \n",
    "                             mini=None, \n",
    "                             maxi=None)\n",
    "if is_pretrained:\n",
    "    print(\"Use pretrained weights\")\n",
    "    semisup_model.load_state_dict(pretrained_state_dict)\n",
    "    network_state_dict = semisup_model.network.state_dict()\n",
    "    semisup_model.eval()\n",
    "    referenced_derivatives, _ = semisup_model.network.get_selector_data(*dimension_slicing(X_star))\n",
    "    semisup_model.mini = torch.min(referenced_derivatives, axis=0)[0].detach().requires_grad_(False)\n",
    "    semisup_model.maxi = torch.max(referenced_derivatives, axis=0)[0].detach().requires_grad_(False)"
   ]
  },
  {
   "cell_type": "code",
   "execution_count": 7,
   "metadata": {},
   "outputs": [],
   "source": [
    "def pcgrad_closure():\n",
    "    global N, X_u_train, u_train\n",
    "    uf, unsup_loss = semisup_model(X_u_train)\n",
    "    losses = [F.mse_loss(uf[:N, :], u_train), unsup_loss]\n",
    "    updated_grads = []\n",
    "    \n",
    "    for i in range(2):\n",
    "        optimizer1.zero_grad()\n",
    "        losses[i].backward(retain_graph=True)\n",
    "\n",
    "        g_task = []\n",
    "        for param in semisup_model.parameters():\n",
    "            if param.grad is not None:\n",
    "                g_task.append(Variable(param.grad.clone(), requires_grad=False))\n",
    "            else:\n",
    "                g_task.append(Variable(torch.zeros(param.shape), requires_grad=False))\n",
    "        # appending the gradients from each task\n",
    "        updated_grads.append(g_task)\n",
    "\n",
    "    updated_grads = list(pcgrad.pc_grad_update(updated_grads))[0]\n",
    "    for idx, param in enumerate(semisup_model.parameters()):\n",
    "        param.grad = (updated_grads[0][idx]+updated_grads[1][idx])\n",
    "        \n",
    "    return sum(losses)\n",
    "\n",
    "def closure():\n",
    "    global N, X_u_train, u_train\n",
    "    if torch.is_grad_enabled():\n",
    "        optimizer2.zero_grad()\n",
    "    mse_loss = F.mse_loss(semisup_model.network(*dimension_slicing(X_u_train))[:N, :], u_train)\n",
    "    if mse_loss.requires_grad:\n",
    "        mse_loss.backward(retain_graph=False)\n",
    "    return mse_loss"
   ]
  },
  {
   "cell_type": "code",
   "execution_count": 8,
   "metadata": {},
   "outputs": [
    {
     "name": "stdout",
     "output_type": "stream",
     "text": [
      "Learning rate finding\n"
     ]
    },
    {
     "data": {
      "application/vnd.jupyter.widget-view+json": {
       "model_id": "8a24298519b344d384831ad47dcc5602",
       "version_major": 2,
       "version_minor": 0
      },
      "text/plain": [
       "HBox(children=(HTML(value=''), FloatProgress(value=0.0, max=300.0), HTML(value='')))"
      ]
     },
     "metadata": {},
     "output_type": "display_data"
    },
    {
     "name": "stdout",
     "output_type": "stream",
     "text": [
      "Stopping early, the loss has diverged\n",
      "\n",
      "Learning rate search finished. See the graph with {finder_name}.plot()\n",
      "LR suggestion: steepest gradient\n",
      "Suggested LR: 4.92E-07\n"
     ]
    },
    {
     "data": {
      "image/png": "[encoded data removed]",
      "text/plain": [
       "<Figure size 432x288 with 1 Axes>"
      ]
     },
     "metadata": {
      "needs_background": "light"
     },
     "output_type": "display_data"
    },
    {
     "name": "stdout",
     "output_type": "stream",
     "text": [
      "Deleted the fake labels used in Learning rate finder\n"
     ]
    }
   ],
   "source": [
    "params = semisup_model.parameters()\n",
    "\n",
    "### For SGD and Adam ###\n",
    "learning_rate1, learning_rate2 = 1e-7, 1e-1\n",
    "\n",
    "### For LBFGS (a good choice already!!!) ###\n",
    "# print(\"Using LBFGS's learning rate set\")\n",
    "# learning_rate1, learning_rate2 = 8e-2, 5e-2 # (1e-1, 5e-2) is also OK!\n",
    "\n",
    "choice = 'MAD'; auto_lr = True\n",
    "if choice == 'LBFGS':\n",
    "    optimizer1 = torch.optim.LBFGS(params, lr=learning_rate1, \n",
    "                                   max_iter=100, max_eval=125, \n",
    "                                  history_size=120, line_search_fn='strong_wolfe')\n",
    "if choice == 'Adam':\n",
    "    optimizer1 = AdamGC(params, lr=learning_rate1, use_gc=True, gc_conv_only=False, gc_loc=False)\n",
    "if choice == 'SGD':\n",
    "    optimizer1 = SGDGC(params, lr=learning_rate1, use_gc=True, nesterov=True, momentum=0.95)\n",
    "if choice == 'MAD':\n",
    "    optimizer1 = MADGRAD(params, lr=learning_rate1, momentum=0.9)\n",
    "\n",
    "if choice != 'LBFGS' and auto_lr:\n",
    "    print('Learning rate finding')\n",
    "    bs = 4000; bs = X_u_train.shape[0] if bs>X_u_train.shape[0] else bs\n",
    "    criterion = LadderLoss(return_list=True)\n",
    "    trainloader = get_dataloader(X_u_train, u_train, bs=bs)\n",
    "    \n",
    "    lr_finder = LRFinder(semisup_model, optimizer=optimizer1, \n",
    "                         closure=pcgrad_update, criterion=criterion, device=\"cpu\")\n",
    "    lr_finder.range_test(trainloader, val_loader=None, end_lr=100, num_iter=300)\n",
    "    \n",
    "    # to inspect the loss-learning rate graph\n",
    "    suggested_lr, _ = lr_finder.plot()\n",
    "    # To prevent divergence during the second stage training.\n",
    "    # suggested_lr = min(suggested_lr, 5e-3)\n",
    "    lr_finder.reset(); plt.show()\n",
    "\n",
    "else:\n",
    "    lr_finder = None\n",
    "    suggested_lr = None\n",
    "    \n",
    "print(\"Deleted the fake labels used in Learning rate finder\")\n",
    "u_train = u_train[:N, :]"
   ]
  },
  {
   "cell_type": "code",
   "execution_count": 9,
   "metadata": {},
   "outputs": [],
   "source": [
    "# Set the learing_rate to the suggested one.\n",
    "# suggested_lr = 1e-5\n",
    "\n",
    "if lr_finder and suggested_lr:\n",
    "    optimizer1 = lr_finder.optimizer\n",
    "\n",
    "for g in optimizer1.param_groups:\n",
    "    g['lr'] = suggested_lr\n",
    "\n",
    "epochs1 = 300; epochs2 = 30000;"
   ]
  },
  {
   "cell_type": "code",
   "execution_count": 10,
   "metadata": {
    "tags": []
   },
   "outputs": [],
   "source": [
    "# Setting up the generator\n",
    "generator = TorchMLP([2, 50, 50, 2])\n",
    "# generator_training_epochs indicates how string the generator is\n",
    "adv_f = 100; generator_training_epochs = 300; generator_training_limit = epochs1-100\n",
    "# I can use the Learning rate finder to find a good lr for the generator optim  as well\n",
    "generator_optimizer = torch.optim.SGD(generator.parameters(), lr=3e-4, momentum=0.95)\n",
    "sinkhorn_loss = SamplesLoss(\"sinkhorn\", p=2, blur=1.0)"
   ]
  },
  {
   "cell_type": "markdown",
   "metadata": {},
   "source": [
    "### Experiments with the generator"
   ]
  },
  {
   "cell_type": "code",
   "execution_count": 11,
   "metadata": {},
   "outputs": [
    {
     "name": "stderr",
     "output_type": "stream",
     "text": [
      "  0%|          | 0/300 [00:00<?, ?it/s]"
     ]
    },
    {
     "name": "stdout",
     "output_type": "stream",
     "text": [
      "Training the generator for \n"
     ]
    },
    {
     "name": "stderr",
     "output_type": "stream",
     "text": [
      "100%|██████████| 300/300 [00:22<00:00, 13.40it/s]\n"
     ]
    },
    {
     "name": "stdout",
     "output_type": "stream",
     "text": [
      "The best generator loss: -3.18418288230896\n",
      "Semi-supervised solver loss @Epoch 0:  2.486341714859009\n"
     ]
    },
    {
     "name": "stderr",
     "output_type": "stream",
     "text": [
      "  1%|          | 2/300 [00:00<00:24, 11.94it/s]"
     ]
    },
    {
     "name": "stdout",
     "output_type": "stream",
     "text": [
      "Training the generator for \n"
     ]
    },
    {
     "name": "stderr",
     "output_type": "stream",
     "text": [
      "100%|██████████| 300/300 [00:22<00:00, 13.28it/s]\n"
     ]
    },
    {
     "name": "stdout",
     "output_type": "stream",
     "text": [
      "The best generator loss: 0.5636008977890015\n",
      "Semi-supervised solver loss @Epoch 100:  0.2007068693637848\n"
     ]
    },
    {
     "name": "stderr",
     "output_type": "stream",
     "text": [
      "  1%|          | 2/300 [00:00<00:24, 12.39it/s]"
     ]
    },
    {
     "name": "stdout",
     "output_type": "stream",
     "text": [
      "Training the generator for \n"
     ]
    },
    {
     "name": "stderr",
     "output_type": "stream",
     "text": [
      "100%|██████████| 300/300 [00:22<00:00, 13.28it/s]\n"
     ]
    },
    {
     "name": "stdout",
     "output_type": "stream",
     "text": [
      "The best generator loss: 0.591063916683197\n",
      "Semi-supervised solver loss @Epoch 200:  0.17796669900417328\n"
     ]
    }
   ],
   "source": [
    "curr_loss = 1000; F_print = 10 if choice == 'LBFGS' else 100\n",
    "\n",
    "# Stage I\n",
    "# How long should I pretrain selector part of the model?\n",
    "for _ in range(1):\n",
    "    # Reinit the semisup_model.network weights\n",
    "    semisup_model.network.load_state_dict(network_state_dict)\n",
    "    for i in range(epochs1):\n",
    "        if i%adv_f==0 and i<=generator_training_limit:\n",
    "            best_generator_loss = 1000; best_generator_state_dict = None\n",
    "            o_tensor = X_u_train[:N, :] # or X_u_train ?\n",
    "            print(\"Training the generator for \")\n",
    "            for _ in trange(generator_training_epochs):\n",
    "                semisup_model.eval()\n",
    "                generator.train()\n",
    "                generator_optimizer.zero_grad()\n",
    "                X_gen = scale_to_range(generator(o_tensor), lb, ub)\n",
    "                unsup_loss = semisup_model(X_gen)[1]\n",
    "#                 d_loss = F.mse_loss(X_gen, o_tensor)\n",
    "                d_loss = F.mse_loss(X_gen, o_tensor)\n",
    "                generator_loss = d_loss-unsup_loss\n",
    "                generator_loss.backward(retain_graph=True)\n",
    "                generator_optimizer.step()\n",
    "                # Saving the best_generator_state_dict\n",
    "                if generator_loss.item() < best_generator_loss:\n",
    "                    best_generator_loss = generator_loss.item()\n",
    "                    best_generator_state_dict = generator.state_dict()\n",
    "\n",
    "            print(\"The best generator loss:\", best_generator_loss)\n",
    "            generator.load_state_dict(best_generator_state_dict)\n",
    "            generator.eval()\n",
    "            X_gen = scale_to_range(generator(o_tensor), lb, ub)\n",
    "            if N_res<X_gen.shape[0]: X_gen = sampling_from_rows(X_gen, N_res)\n",
    "            X_u_train = torch.cat([X_u_train[:N, :], X_gen], dim=0).detach().requires_grad_(True)\n",
    "\n",
    "        semisup_model.train()\n",
    "        generator_optimizer.zero_grad()\n",
    "        optimizer1.step(pcgrad_closure)\n",
    "        l = pcgrad_closure()\n",
    "        if (i % F_print) == 0:\n",
    "            if l.item() != curr_loss:\n",
    "                curr_loss = l.item()\n",
    "            else:\n",
    "                print(\"Semi-supervised solver loss @Epoch {}: \".format(i), curr_loss)\n",
    "                print(\"Finishing the first stage\")\n",
    "                break\n",
    "            print(\"Semi-supervised solver loss @Epoch {}: \".format(i), curr_loss)"
   ]
  },
  {
   "cell_type": "code",
   "execution_count": 12,
   "metadata": {},
   "outputs": [],
   "source": [
    "optimizer2 = LBFGSNew(semisup_model.network.parameters(), \n",
    "                              lr=learning_rate2, max_iter=100, max_eval=125, \n",
    "                              history_size=120, line_search_fn=True, batch_mode=False)\n",
    "\n",
    "# optimizer2 = torch.optim.LBFGS(semisup_model.network.parameters(), \n",
    "#                               lr=learning_rate2, max_iter=100, max_eval=125, \n",
    "#                               history_size=120, line_search_fn='strong_wolfe')"
   ]
  },
  {
   "cell_type": "code",
   "execution_count": 13,
   "metadata": {},
   "outputs": [
    {
     "name": "stdout",
     "output_type": "stream",
     "text": [
      "Epoch 0:  1.486625933466712e-06\n",
      "Epoch 100:  9.273864520764619e-08\n",
      "Epoch 200:  4.429161393204595e-08\n",
      "Epoch 300:  2.4391203723439503e-08\n",
      "Epoch 400:  1.7658988937796494e-08\n",
      "Epoch 500:  1.1833122037785415e-08\n",
      "Epoch 600:  8.283874031178584e-09\n",
      "Epoch 700:  6.800862539790842e-09\n",
      "Epoch 800:  5.8494107335604895e-09\n",
      "Epoch 900:  4.669451492134158e-09\n",
      "Epoch 1000:  4.314312906927853e-09\n",
      "Epoch 1100:  3.824858207934767e-09\n",
      "Epoch 1200:  3.5138525422695466e-09\n",
      "Epoch 1300:  3.1004705469683813e-09\n",
      "Epoch 1400:  2.7930939783260555e-09\n",
      "Epoch 1500:  2.55351340072707e-09\n",
      "Epoch 1600:  2.418030442541408e-09\n",
      "Epoch 1700:  2.2021167112029616e-09\n",
      "Epoch 1800:  2.1949286832523285e-09\n",
      "Epoch 1900:  1.9732391276505723e-09\n",
      "Epoch 2000:  1.7952728192938139e-09\n",
      "Epoch 2100:  1.7337667967964876e-09\n",
      "Epoch 2200:  1.7274645047749004e-09\n",
      "Epoch 2300:  1.6944902148097185e-09\n",
      "Epoch 2400:  1.590238274395972e-09\n",
      "Epoch 2500:  1.5799428432217155e-09\n",
      "Epoch 2600:  1.5783752083109448e-09\n",
      "Epoch 2700:  1.5797912977788542e-09\n",
      "Epoch 2800:  1.5768854000342003e-09\n",
      "Epoch 2900:  1.5715937440319294e-09\n",
      "Epoch 3000:  1.5316784507390935e-09\n",
      "Epoch 3100:  1.470726873620265e-09\n",
      "Epoch 3200:  1.4559526917423682e-09\n",
      "Epoch 3300:  1.4490895150487404e-09\n",
      "Epoch 3400:  1.4263389358504241e-09\n",
      "Epoch 3500:  1.3623505656923385e-09\n",
      "Epoch 3600:  1.3407863708181367e-09\n",
      "Epoch 3700:  1.3333217863120694e-09\n",
      "Epoch 3800:  1.3270313736768458e-09\n",
      "Epoch 3900:  1.318697706587102e-09\n",
      "Epoch 4000:  1.2940332139166344e-09\n",
      "Epoch 4100:  1.2806253835151438e-09\n",
      "Epoch 4200:  1.2768218704550804e-09\n",
      "Epoch 4300:  1.2711909302964841e-09\n",
      "Epoch 4400:  1.263070092960561e-09\n",
      "Epoch 4500:  1.2509083768819096e-09\n",
      "Epoch 4600:  1.2318952524736915e-09\n",
      "Epoch 4700:  1.2141769811790937e-09\n",
      "Epoch 4800:  1.2135757954112592e-09\n",
      "Epoch 4900:  1.2062755239128364e-09\n",
      "Epoch 5000:  1.2055314524417327e-09\n",
      "Epoch 5100:  1.2019845119226602e-09\n",
      "Epoch 5200:  1.195559540256852e-09\n",
      "Epoch 5300:  1.1933323218471514e-09\n",
      "Epoch 5400:  1.192612120171077e-09\n",
      "Epoch 5500:  1.1923189102702736e-09\n",
      "Epoch 5600:  1.1907710373293412e-09\n",
      "Epoch 5700:  1.1900845864332155e-09\n",
      "Epoch 5800:  1.1900275209697497e-09\n",
      "Epoch 5900:  1.1884994099986557e-09\n",
      "Epoch 6000:  1.186456488611043e-09\n",
      "Epoch 6100:  1.1822998136068463e-09\n",
      "Epoch 6200:  1.1736661642558488e-09\n",
      "Epoch 6300:  1.1603822347439063e-09\n",
      "Epoch 6400:  1.1483813899815232e-09\n",
      "Epoch 6500:  1.1294950530427172e-09\n",
      "Epoch 6600:  1.1096007446198541e-09\n",
      "Epoch 6700:  1.1022048829190112e-09\n",
      "Epoch 6800:  1.0955155671510397e-09\n",
      "Epoch 6900:  1.0929602778375624e-09\n",
      "Epoch 7000:  1.0893596025240981e-09\n",
      "Epoch 7100:  1.0796615823593925e-09\n",
      "Epoch 7200:  1.072474664631784e-09\n",
      "Epoch 7300:  1.0559184637770613e-09\n",
      "Epoch 7400:  1.0418896856378979e-09\n",
      "Epoch 7500:  1.0173292208648377e-09\n",
      "Epoch 7600:  1.0035815511955093e-09\n",
      "Epoch 7700:  9.967620062667493e-10\n",
      "Epoch 7800:  9.93627513601325e-10\n",
      "Epoch 7900:  9.896432562328528e-10\n",
      "Epoch 8000:  9.86908776923201e-10\n",
      "Epoch 8100:  9.83571002421968e-10\n",
      "Epoch 8200:  9.794411948149673e-10\n",
      "Epoch 8300:  9.694411939875636e-10\n",
      "Epoch 8400:  9.652517674041405e-10\n",
      "Epoch 8500:  9.569909309448121e-10\n",
      "Epoch 8600:  9.45342470970445e-10\n",
      "Epoch 8700:  9.353653407373486e-10\n",
      "Epoch 8800:  9.229654818199151e-10\n",
      "Epoch 8900:  9.015266311251935e-10\n",
      "Epoch 9000:  8.960184816331207e-10\n",
      "Epoch 9100:  8.924870287252418e-10\n",
      "Epoch 9200:  8.911509863374079e-10\n",
      "Epoch 9300:  8.887251490286019e-10\n",
      "Epoch 9400:  8.878073831652955e-10\n",
      "Epoch 9500:  8.867389045263963e-10\n",
      "Epoch 9600:  8.867973577686428e-10\n",
      "Epoch 9700:  8.832363729283088e-10\n",
      "Epoch 9800:  8.812773844013577e-10\n",
      "Epoch 9900:  8.759307723593679e-10\n",
      "Epoch 10000:  8.717367938615439e-10\n",
      "Epoch 10100:  8.656651506733226e-10\n",
      "Epoch 10200:  8.500287695945019e-10\n",
      "Epoch 10300:  8.44246228481893e-10\n",
      "Epoch 10400:  8.324443911966739e-10\n",
      "Epoch 10500:  8.204584234228207e-10\n",
      "Epoch 10600:  8.114595106967215e-10\n",
      "Epoch 10700:  8.046711075238022e-10\n",
      "Epoch 10800:  7.973520732562633e-10\n",
      "Epoch 10900:  7.915977873196312e-10\n",
      "Epoch 11000:  7.842576033034732e-10\n",
      "Epoch 11100:  7.8270473435893e-10\n",
      "Epoch 11200:  7.816577385355572e-10\n",
      "Epoch 11300:  7.795667444909782e-10\n",
      "Epoch 11400:  7.76412323322262e-10\n",
      "Epoch 11500:  7.724905159989248e-10\n",
      "Epoch 11600:  7.695877268787399e-10\n",
      "Epoch 11700:  7.645409305645501e-10\n",
      "Epoch 11800:  7.471782081935885e-10\n",
      "Epoch 11900:  7.365526522029597e-10\n",
      "Epoch 12000:  7.316266481538491e-10\n",
      "Epoch 12100:  7.284552960840074e-10\n",
      "Epoch 12200:  7.250068878583704e-10\n",
      "Epoch 12300:  7.210945174307426e-10\n",
      "Epoch 12400:  7.194300710722246e-10\n",
      "Epoch 12500:  7.173831528817232e-10\n",
      "Epoch 12600:  7.171657157023503e-10\n",
      "Epoch 12700:  7.168041715743811e-10\n",
      "Epoch 12800:  7.154213887972105e-10\n",
      "Epoch 12900:  7.146250813327981e-10\n",
      "Epoch 13000:  7.12867487262514e-10\n",
      "Epoch 13100:  7.122381573410053e-10\n",
      "Epoch 13200:  7.098935883576019e-10\n",
      "Epoch 13300:  7.052048944800049e-10\n",
      "Epoch 13400:  7.007331381814197e-10\n",
      "Epoch 13500:  6.9774086508545e-10\n",
      "Epoch 13600:  6.905195304440781e-10\n",
      "Epoch 13700:  6.852120537637063e-10\n",
      "Epoch 13800:  6.801361696062713e-10\n",
      "Epoch 13900:  6.757749915209388e-10\n",
      "Epoch 14000:  6.70800692770257e-10\n",
      "Epoch 14100:  6.678037567375839e-10\n",
      "Epoch 14200:  6.660954565695931e-10\n",
      "Epoch 14300:  6.608409930386472e-10\n",
      "Epoch 14400:  6.571220234619091e-10\n",
      "Epoch 14500:  6.517432704633563e-10\n",
      "Epoch 14600:  6.479672354231525e-10\n",
      "Epoch 14700:  6.466499558044347e-10\n",
      "Epoch 14800:  6.448075962062205e-10\n",
      "Epoch 14900:  6.415147857374848e-10\n",
      "Epoch 15000:  6.398626073433888e-10\n",
      "Epoch 15100:  6.373833127959472e-10\n",
      "Epoch 15200:  6.361916549124658e-10\n",
      "Epoch 15300:  6.339249125630886e-10\n",
      "Epoch 15400:  6.331592472541558e-10\n",
      "Epoch 15500:  6.313402023394588e-10\n",
      "Epoch 15600:  6.256744011778892e-10\n",
      "Epoch 15700:  6.180179701331667e-10\n",
      "Epoch 15800:  6.099667437808876e-10\n",
      "Epoch 15900:  6.034646671260191e-10\n",
      "Epoch 16000:  5.993180396401954e-10\n",
      "Epoch 16100:  5.972040084678554e-10\n",
      "Epoch 16200:  5.93837590212587e-10\n",
      "Epoch 16300:  5.912862977019984e-10\n",
      "Epoch 16400:  5.904994271332953e-10\n",
      "Epoch 16500:  5.890178900180842e-10\n",
      "Epoch 16600:  5.85945791886644e-10\n",
      "Epoch 16700:  5.825937510195445e-10\n",
      "Epoch 16800:  5.792481494459878e-10\n",
      "Epoch 16900:  5.75157921289815e-10\n",
      "Epoch 17000:  5.732221364240786e-10\n",
      "Epoch 17100:  5.701620287013043e-10\n",
      "Epoch 17200:  5.687217363714581e-10\n",
      "Epoch 17300:  5.67171531962174e-10\n",
      "Epoch 17400:  5.654716139780191e-10\n",
      "Epoch 17500:  5.652250334442499e-10\n",
      "Epoch 17600:  5.652875390005363e-10\n",
      "Epoch 17700:  5.644998357645648e-10\n",
      "Epoch 17800:  5.639977929128293e-10\n",
      "Epoch 17900:  5.627195376334271e-10\n",
      "Epoch 18000:  5.615580778162155e-10\n",
      "Epoch 18100:  5.601562547141725e-10\n",
      "Epoch 18200:  5.597715624361399e-10\n",
      "Epoch 18300:  5.577059369876736e-10\n",
      "Epoch 18400:  5.559280813471901e-10\n",
      "Epoch 18500:  5.547006187711645e-10\n",
      "Epoch 18600:  5.534087077485594e-10\n",
      "Epoch 18700:  5.524602442186222e-10\n",
      "Epoch 18800:  5.521337276270799e-10\n",
      "Epoch 18900:  5.499728450431007e-10\n",
      "Epoch 19000:  5.47219880520089e-10\n",
      "Epoch 19100:  5.430896288238785e-10\n",
      "Epoch 19200:  5.408757330904734e-10\n",
      "Epoch 19300:  5.376959988367958e-10\n",
      "Epoch 19400:  5.351146192822398e-10\n",
      "Epoch 19500:  5.347965403856847e-10\n",
      "Epoch 19600:  5.338066655369289e-10\n",
      "Epoch 19700:  5.334691577374429e-10\n",
      "Epoch 19800:  5.332191910234485e-10\n",
      "Epoch 19900:  5.305874628547258e-10\n"
     ]
    }
   ],
   "source": [
    "curr_loss = 1000\n",
    "# Stage II\n",
    "semisup_model.train()\n",
    "for i in range(20000):\n",
    "    optimizer2.step(closure)\n",
    "    l = closure()\n",
    "    if (i % 100) == 0:\n",
    "        if l.item() != curr_loss:\n",
    "            curr_loss = l.item()\n",
    "        else:\n",
    "            print(\"Finishing the second stage\")\n",
    "            break\n",
    "        print(\"Epoch {}: \".format(i), curr_loss)"
   ]
  },
  {
   "cell_type": "code",
   "execution_count": 16,
   "metadata": {},
   "outputs": [
    {
     "name": "stdout",
     "output_type": "stream",
     "text": [
      "Testing\n",
      "Test MSE: 1.2e-05\n"
     ]
    }
   ],
   "source": [
    "print(\"Testing\")\n",
    "semisup_model.network.eval()\n",
    "# Compare btw the two semi-supervise learning?\n",
    "test_performance = F.mse_loss(semisup_model.network(*dimension_slicing(X_star)).detach(), u_star).item()\n",
    "string_test_performance = scientific2string(test_performance)\n",
    "print('Test MSE:', string_test_performance)"
   ]
  },
  {
   "cell_type": "code",
   "execution_count": 17,
   "metadata": {},
   "outputs": [
    {
     "name": "stdout",
     "output_type": "stream",
     "text": [
      "Saving\n"
     ]
    }
   ],
   "source": [
    "# BEST-2000: 1e-06 (LBFGS)\n",
    "# For saving the plain neural networks.\n",
    "print(\"Saving\")\n",
    "MODEL_PATH = './saved_path_inverse_burger/lbfgsnew_results/semisup_model_with_LayerNormDropout_without_physical_reg_trained500labeledsamples_trained250unlabeledsamples_'+string_test_performance+'.pth'\n",
    "torch.save(semisup_model.state_dict(), MODEL_PATH)\n",
    "\n",
    "# torch.save(semisup_model.state_dict(), \"./saved_path_inverse_burger/semisup_model_with_LayerNormDropout_without_physical_reg_trained2000labeledsamples_trained1000unlabeledsamples.pth\")"
   ]
  },
  {
   "cell_type": "code",
   "execution_count": 16,
   "metadata": {},
   "outputs": [],
   "source": [
    "# Loading the best model and testing\n",
    "# semisup_model.load_state_dict(torch.load(MODEL_PATH), strict=False)\n",
    "# semisup_model.eval()\n",
    "# F.mse_loss(semisup_model.network(*dimension_slicing(X_star)).detach(), u_star)"
   ]
  },
  {
   "cell_type": "code",
   "execution_count": 17,
   "metadata": {},
   "outputs": [],
   "source": [
    "# derivatives_test, dynamics_test = semisup_model.network.get_selector_data(*dimension_slicing(X_star))\n",
    "# derivatives_train, dynamics_train = semisup_model.network.get_selector_data(*dimension_slicing(X_u_train))\n",
    "\n",
    "# derivatives_test, dynamics_test = to_numpy(derivatives_test), to_numpy(dynamics_test)\n",
    "# derivatives_train, dynamics_train = to_numpy(derivatives_train), to_numpy(dynamics_train)\n",
    "\n",
    "# np.save(\"./saved_path_inverse_burger/lbfgsnew_results/data/derivatives-2000-V1.npy\", derivatives_train)\n",
    "# np.save(\"./saved_path_inverse_burger/lbfgsnew_results/data/dynamics-2000-V1.npy\", dynamics_train)\n",
    "# np.save(\"./saved_path_inverse_burger/lbfgsnew_results/data/derivatives-25600-V1.npy\", derivatives_test)\n",
    "# np.save(\"./saved_path_inverse_burger/lbfgsnew_results/data/dynamics-25600-V1.npy\", dynamics_test)"
   ]
  },
  {
   "cell_type": "code",
   "execution_count": 18,
   "metadata": {},
   "outputs": [
    {
     "data": {
      "image/png": "[encoded data removed]",
      "text/plain": [
       "<Figure size 432x288 with 1 Axes>"
      ]
     },
     "metadata": {
      "needs_background": "light"
     },
     "output_type": "display_data"
    }
   ],
   "source": [
    "original_samples = to_numpy(X_u_train[:N, :])\n",
    "generated_samples = to_numpy(X_gen)\n",
    "x = original_samples[:, 0:1]\n",
    "t = original_samples[:, 1:2]\n",
    "x_g = generated_samples[:, 0:1]\n",
    "t_g = generated_samples[:, 1:2]\n",
    "plt.scatter(t, x, label='Original')\n",
    "plt.scatter(t_g, x_g, label='Gen')\n",
    "plt.legend()\n",
    "plt.show()"
   ]
  },
  {
   "cell_type": "code",
   "execution_count": null,
   "metadata": {},
   "outputs": [],
   "source": []
  },
  {
   "cell_type": "code",
   "execution_count": null,
   "metadata": {},
   "outputs": [],
   "source": []
  }
 ],
 "metadata": {
  "kernelspec": {
   "display_name": "Python 3",
   "language": "python",
   "name": "python3"
  },
  "language_info": {
   "codemirror_mode": {
    "name": "ipython",
    "version": 3
   },
   "file_extension": ".py",
   "mimetype": "text/x-python",
   "name": "python",
   "nbconvert_exporter": "python",
   "pygments_lexer": "ipython3",
   "version": "3.9.4"
  }
 },
 "nbformat": 4,
 "nbformat_minor": 4
}
