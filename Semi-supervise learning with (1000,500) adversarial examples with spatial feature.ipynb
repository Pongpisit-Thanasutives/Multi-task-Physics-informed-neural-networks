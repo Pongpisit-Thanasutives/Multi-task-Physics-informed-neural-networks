{
 "cells": [
  {
   "cell_type": "code",
   "execution_count": 1,
   "metadata": {},
   "outputs": [
    {
     "name": "stderr",
     "output_type": "stream",
     "text": [
      "[MLENS] backend: threading\n"
     ]
    },
    {
     "name": "stdout",
     "output_type": "stream",
     "text": [
      "[pyKeOps]: Warning, no cuda detected. Switching to cpu only.\n"
     ]
    }
   ],
   "source": [
    "%load_ext autoreload\n",
    "%autoreload 2 \n",
    "%reload_ext autoreload\n",
    "import matplotlib.pyplot as plt\n",
    "\n",
    "# always import gbm_algos first !\n",
    "import xgboost, lightgbm, catboost\n",
    "\n",
    "# Core\n",
    "import numpy as np\n",
    "import scipy.io as io\n",
    "from torch.autograd import grad\n",
    "from torch.utils.data import DataLoader, Dataset\n",
    "\n",
    "# Sklearn\n",
    "from sklearn.ensemble import RandomForestRegressor\n",
    "from mlens.ensemble import SuperLearner\n",
    "\n",
    "# Let's do facy optimizers\n",
    "from optimizers import Lookahead, AdamGC, SGDGC\n",
    "from madgrad import MADGRAD\n",
    "from lbfgsnew import LBFGSNew\n",
    "# Modify at /usr/local/lib/python3.9/site-packages/torch_lr_finder/lr_finder.py\n",
    "from torch_lr_finder import LRFinder\n",
    "from onecyclelr import OneCycleLR\n",
    "import pcgrad\n",
    "from pytorch_stats_loss import torch_wasserstein_loss, torch_energy_loss\n",
    "from geomloss import SamplesLoss\n",
    "from utils import *\n",
    "\n",
    "from tqdm import trange"
   ]
  },
  {
   "cell_type": "code",
   "execution_count": 2,
   "metadata": {},
   "outputs": [
    {
     "name": "stdout",
     "output_type": "stream",
     "text": [
      "Training with 1000 samples\n",
      "Training with 500 unsup samples\n"
     ]
    }
   ],
   "source": [
    "DATA_PATH = \"/Users/pongpisit/Desktop/research/pinn/Solving-Differential-Equations-with-Neural-Networks/SymbolicMathematics/data/burgers_shock.mat\"\n",
    "data = io.loadmat(DATA_PATH)\n",
    "\n",
    "t = data['t'].flatten()[:,None]\n",
    "x = data['x'].flatten()[:,None]\n",
    "Exact = np.real(data['usol']).T\n",
    "\n",
    "X, T = np.meshgrid(x,t)\n",
    "\n",
    "X_star = np.hstack((X.flatten()[:,None], T.flatten()[:,None]))\n",
    "u_star = Exact.flatten()[:,None]              \n",
    "\n",
    "# Doman bounds\n",
    "lb = X_star.min(0)\n",
    "ub = X_star.max(0)\n",
    "\n",
    "N = 1000\n",
    "print(f\"Training with {N} samples\")\n",
    "idx = np.random.choice(X_star.shape[0], N, replace=False)\n",
    "X_u_train = X_star[idx, :]\n",
    "u_train = u_star[idx,:]\n",
    "\n",
    "# Unsup data\n",
    "N_res = N//2\n",
    "idx_res = np.array(range(X_star.shape[0]-1))[~idx]\n",
    "idx_res = np.random.choice(idx_res.shape[0], N_res, replace=True)\n",
    "X_res = X_star[idx_res, :]\n",
    "print(f\"Training with {N_res} unsup samples\")\n",
    "X_u_train = np.vstack([X_u_train, X_res])\n",
    "u_train = np.vstack([u_train, torch.rand(X_res.shape[0], 1) - 1000])\n",
    "# del X_res\n",
    "\n",
    "# Convert to torch.tensor\n",
    "X_u_train = torch.tensor(X_u_train).float().requires_grad_(True)\n",
    "u_train = torch.tensor(u_train).float().requires_grad_(True)\n",
    "X_star = torch.tensor(X_star).float().requires_grad_(True)\n",
    "u_star = torch.tensor(u_star).float().requires_grad_(True)\n",
    "# lb and ub are used in adversarial training\n",
    "scaling_factor = 1.0\n",
    "lb = scaling_factor*to_tensor(lb, False)\n",
    "ub = scaling_factor*to_tensor(ub, False)\n",
    "feature_names=['uf', 'u_x',  'u_xx', 'u_tt', 'u_xt', 'u_tx']"
   ]
  },
  {
   "cell_type": "code",
   "execution_count": 3,
   "metadata": {},
   "outputs": [],
   "source": [
    "class Network(nn.Module):\n",
    "    def __init__(self, model):\n",
    "        super(Network, self).__init__()\n",
    "        # pls init the self.model before\n",
    "        self.model = model\n",
    "        # For tracking\n",
    "        self.index2features = ('uf', 'u_x',  'u_xx', 'u_tt', 'u_xt', 'u_tx')\n",
    "        self.uf = None\n",
    "        \n",
    "    def xavier_init(self, m):\n",
    "        if type(m) == nn.Linear:\n",
    "            torch.nn.init.xavier_uniform_(m.weight)\n",
    "            m.bias.data.fill_(0.01)\n",
    "        \n",
    "    def forward(self, x, t):\n",
    "        self.uf = self.model(torch.cat([x, t], dim=1))\n",
    "        return self.uf\n",
    "    \n",
    "    def get_selector_data(self, x, t):\n",
    "        uf = self.forward(x, t)\n",
    "        \n",
    "        ### PDE Loss calculation ###\n",
    "        # first-order derivatives\n",
    "        u_t = self.gradients(uf, t)[0]\n",
    "        u_x = self.gradients(uf, x)[0]\n",
    "        # Homo second-order derivatives\n",
    "        u_tt = self.gradients(u_t,t)[0]\n",
    "        u_xx = self.gradients(u_x, x)[0]\n",
    "        # Hetero second-order derivatives\n",
    "        u_xt = self.gradients(u_t, x)[0]\n",
    "        u_tx = self.gradients(u_x, t)[0]\n",
    "        \n",
    "        X_selector = torch.cat([uf, u_x, u_xx, u_tt, u_xt, u_tx], dim=1)\n",
    "        y_selector = u_t\n",
    "        \n",
    "        return X_selector, y_selector\n",
    "    \n",
    "    def gradients(self, func, x):\n",
    "        return grad(func, x, create_graph=True, retain_graph=True, grad_outputs=torch.ones(func.shape))"
   ]
  },
  {
   "cell_type": "code",
   "execution_count": 4,
   "metadata": {},
   "outputs": [],
   "source": [
    "# Does the SeclectorNetwork has to be a neural networks ???\n",
    "class SeclectorNetwork(nn.Module):\n",
    "    def __init__(self, X_train_dim, bn=None):\n",
    "        super().__init__()\n",
    "        # Nonlinear model, Training with PDE reg.\n",
    "        self.nonlinear_model = TorchMLP(dimensions=[X_train_dim, 50, 50, 1], activation_function=nn.Tanh, bn=bn, dropout=nn.Dropout(p=0.1), inp_drop=False)\n",
    "        \n",
    "    def xavier_init(self, m):\n",
    "        if type(m) == nn.Linear:\n",
    "            torch.nn.init.xavier_uniform_(m.weight)\n",
    "            m.bias.data.fill_(0.01)\n",
    "        \n",
    "    def forward(self, inn):\n",
    "        ut_approx = self.nonlinear_model(inn)\n",
    "        return ut_approx\n",
    "    \n",
    "    def loss(self, X_input, y_input):\n",
    "        ut_approx = self.forward(X_input)\n",
    "        mse_loss = F.mse_loss(ut_approx, y_input, reduction='mean')\n",
    "        return mse_loss\n",
    "\n",
    "class SemiSupModel(nn.Module):\n",
    "    def __init__(self, network, selector, normalize_derivative_features=False, mini=None, maxi=None):\n",
    "        super(SemiSupModel, self).__init__()\n",
    "        self.network = network\n",
    "        self.selector = selector\n",
    "        self.normalize_derivative_features = normalize_derivative_features\n",
    "        self.mini = mini\n",
    "        self.maxi = maxi\n",
    "    def forward(self, X_u_train):\n",
    "        X_selector, y_selector = self.network.get_selector_data(*dimension_slicing(X_u_train))\n",
    "        if self.normalize_derivative_features:\n",
    "            X_selector = (X_selector-self.mini)/(self.maxi-self.mini)\n",
    "        unsup_loss = self.selector.loss(X_selector, y_selector)\n",
    "        return self.network.uf, unsup_loss"
   ]
  },
  {
   "cell_type": "code",
   "execution_count": 5,
   "metadata": {},
   "outputs": [
    {
     "name": "stdout",
     "output_type": "stream",
     "text": [
      "Use pretrained weights\n"
     ]
    }
   ],
   "source": [
    "# network = Network(model=TorchMLP(dimensions=[6, 50, 50, 50 ,50, 50, 1], bn=nn.BatchNorm1d))\n",
    "# selector = SeclectorNetwork(X_train_dim=6, bn=nn.LayerNorm)\n",
    "\n",
    "### Version without normalized derivatives ###\n",
    "# semisup_model = SemiSupModel(network=Network(model=TorchMLP(dimensions=[2, 50, 50, 50 ,50, 50, 1], activation_function=nn.Tanh, bn=nn.LayerNorm, dropout=None)),\n",
    "#                              selector=SeclectorNetwork(X_train_dim=6, bn=nn.LayerNorm),\n",
    "#                              normalize_derivative_features=False, \n",
    "#                              mini=None, \n",
    "#                              maxi=None)\n",
    "\n",
    "### Version with normalized derivatives ###\n",
    "pretrained_state_dict = torch.load('./saved_path_inverse_burger/lbfgsnew_results/semisup_model_with_LayerNormDropout_without_physical_reg_trained1000labeledsamples_trained0unlabeledsamples_1.6e-06.pth')\n",
    "network_state_dict = None\n",
    "is_pretrained = True\n",
    "semisup_model = SemiSupModel(network=Network(model=TorchMLP(dimensions=[2, 50, 50, 50 ,50, 50, 1], activation_function=nn.Tanh, bn=nn.LayerNorm, dropout=None)),\n",
    "                             selector=SeclectorNetwork(X_train_dim=6, bn=nn.LayerNorm),\n",
    "                             normalize_derivative_features=True, \n",
    "                             mini=None, \n",
    "                             maxi=None)\n",
    "if is_pretrained:\n",
    "    print(\"Use pretrained weights\")\n",
    "    semisup_model.load_state_dict(pretrained_state_dict)\n",
    "    network_state_dict = semisup_model.network.state_dict()\n",
    "    semisup_model.eval()\n",
    "    referenced_derivatives, _ = semisup_model.network.get_selector_data(*dimension_slicing(X_star))\n",
    "    semisup_model.mini = torch.min(referenced_derivatives, axis=0)[0].detach().requires_grad_(False)\n",
    "    semisup_model.maxi = torch.max(referenced_derivatives, axis=0)[0].detach().requires_grad_(False)"
   ]
  },
  {
   "cell_type": "code",
   "execution_count": 6,
   "metadata": {},
   "outputs": [],
   "source": [
    "def pcgrad_closure():\n",
    "    global N, X_u_train, u_train\n",
    "    uf, unsup_loss = semisup_model(X_u_train)\n",
    "    losses = [F.mse_loss(uf[:N, :], u_train), unsup_loss]\n",
    "    updated_grads = []\n",
    "    \n",
    "    for i in range(2):\n",
    "        optimizer1.zero_grad()\n",
    "        losses[i].backward(retain_graph=True)\n",
    "\n",
    "        g_task = []\n",
    "        for param in semisup_model.parameters():\n",
    "            if param.grad is not None:\n",
    "                g_task.append(Variable(param.grad.clone(), requires_grad=False))\n",
    "            else:\n",
    "                g_task.append(Variable(torch.zeros(param.shape), requires_grad=False))\n",
    "        # appending the gradients from each task\n",
    "        updated_grads.append(g_task)\n",
    "\n",
    "    updated_grads = list(pcgrad.pc_grad_update(updated_grads))[0]\n",
    "    for idx, param in enumerate(semisup_model.parameters()):\n",
    "        param.grad = (updated_grads[0][idx]+updated_grads[1][idx])\n",
    "        \n",
    "    return sum(losses)\n",
    "\n",
    "def closure():\n",
    "    global N, X_u_train, u_train\n",
    "    if torch.is_grad_enabled():\n",
    "        optimizer2.zero_grad()\n",
    "    mse_loss = F.mse_loss(semisup_model.network(*dimension_slicing(X_u_train))[:N, :], u_train)\n",
    "    if mse_loss.requires_grad:\n",
    "        mse_loss.backward(retain_graph=False)\n",
    "    return mse_loss"
   ]
  },
  {
   "cell_type": "code",
   "execution_count": 7,
   "metadata": {},
   "outputs": [
    {
     "name": "stdout",
     "output_type": "stream",
     "text": [
      "Learning rate finding\n"
     ]
    },
    {
     "data": {
      "application/vnd.jupyter.widget-view+json": {
       "model_id": "373988bbdd7a485d9ce2d331075dc790",
       "version_major": 2,
       "version_minor": 0
      },
      "text/plain": [
       "HBox(children=(HTML(value=''), FloatProgress(value=0.0, max=300.0), HTML(value='')))"
      ]
     },
     "metadata": {},
     "output_type": "display_data"
    },
    {
     "name": "stdout",
     "output_type": "stream",
     "text": [
      "Stopping early, the loss has diverged\n",
      "\n",
      "Learning rate search finished. See the graph with {finder_name}.plot()\n",
      "LR suggestion: steepest gradient\n",
      "Suggested LR: 3.48E-07\n"
     ]
    },
    {
     "data": {
      "image/png": "[encoded data removed]",
      "text/plain": [
       "<Figure size 432x288 with 1 Axes>"
      ]
     },
     "metadata": {
      "needs_background": "light"
     },
     "output_type": "display_data"
    },
    {
     "name": "stdout",
     "output_type": "stream",
     "text": [
      "Deleted the fake labels used in Learning rate finder\n"
     ]
    }
   ],
   "source": [
    "params = semisup_model.parameters()\n",
    "\n",
    "### For SGD and Adam ###\n",
    "learning_rate1, learning_rate2 = 1e-7, 1e-1\n",
    "\n",
    "### For LBFGS (a good choice already!!!) ###\n",
    "# print(\"Using LBFGS's learning rate set\")\n",
    "# learning_rate1, learning_rate2 = 8e-2, 5e-2 # (1e-1, 5e-2) is also OK!\n",
    "\n",
    "choice = 'MAD'; auto_lr = True\n",
    "if choice == 'LBFGS':\n",
    "    optimizer1 = torch.optim.LBFGS(params, lr=learning_rate1, \n",
    "                                   max_iter=100, max_eval=125, \n",
    "                                  history_size=120, line_search_fn='strong_wolfe')\n",
    "if choice == 'Adam':\n",
    "    optimizer1 = AdamGC(params, lr=learning_rate1, use_gc=True, gc_conv_only=False, gc_loc=False)\n",
    "if choice == 'SGD':\n",
    "    optimizer1 = SGDGC(params, lr=learning_rate1, use_gc=True, nesterov=True, momentum=0.95)\n",
    "if choice == 'MAD':\n",
    "    optimizer1 = MADGRAD(params, lr=learning_rate1, momentum=0.9)\n",
    "\n",
    "if choice != 'LBFGS' and auto_lr:\n",
    "    print('Learning rate finding')\n",
    "    bs = 4000; bs = X_u_train.shape[0] if bs>X_u_train.shape[0] else bs\n",
    "    criterion = LadderLoss(return_list=True)\n",
    "    trainloader = get_dataloader(X_u_train, u_train, bs=bs)\n",
    "    \n",
    "    lr_finder = LRFinder(semisup_model, optimizer=optimizer1, \n",
    "                         closure=pcgrad_update, criterion=criterion, device=\"cpu\")\n",
    "    lr_finder.range_test(trainloader, val_loader=None, end_lr=100, num_iter=300)\n",
    "    \n",
    "    # to inspect the loss-learning rate graph\n",
    "    suggested_lr, _ = lr_finder.plot()\n",
    "    # To prevent divergence during the second stage training.\n",
    "    # suggested_lr = min(suggested_lr, 5e-3)\n",
    "    lr_finder.reset(); plt.show()\n",
    "\n",
    "else:\n",
    "    lr_finder = None\n",
    "    suggested_lr = None\n",
    "    \n",
    "print(\"Deleted the fake labels used in Learning rate finder\")\n",
    "u_train = u_train[:N, :]"
   ]
  },
  {
   "cell_type": "code",
   "execution_count": 8,
   "metadata": {},
   "outputs": [],
   "source": [
    "# Set the learing_rate to the suggested one.\n",
    "# suggested_lr = 1e-5\n",
    "\n",
    "if lr_finder and suggested_lr:\n",
    "    optimizer1 = lr_finder.optimizer\n",
    "\n",
    "for g in optimizer1.param_groups:\n",
    "    g['lr'] = suggested_lr\n",
    "\n",
    "epochs1 = 300; epochs2 = 30000;"
   ]
  },
  {
   "cell_type": "code",
   "execution_count": 9,
   "metadata": {
    "tags": []
   },
   "outputs": [],
   "source": [
    "# Setting up the generator\n",
    "generator = TorchMLP([2, 50, 50, 2])\n",
    "# generator_training_epochs indicates how string the generator is\n",
    "adv_f = 100; generator_training_epochs = 300; generator_training_limit = epochs1-100\n",
    "# I can use the Learning rate finder to find a good lr for the generator optim  as well\n",
    "generator_optimizer = torch.optim.SGD(generator.parameters(), lr=3e-4, momentum=0.95)\n",
    "sinkhorn_loss = SamplesLoss(\"sinkhorn\", p=2, blur=1.0)"
   ]
  },
  {
   "cell_type": "markdown",
   "metadata": {},
   "source": [
    "### Experiments with the generator"
   ]
  },
  {
   "cell_type": "code",
   "execution_count": 10,
   "metadata": {},
   "outputs": [
    {
     "name": "stderr",
     "output_type": "stream",
     "text": [
      "  0%|          | 0/300 [00:00<?, ?it/s]"
     ]
    },
    {
     "name": "stdout",
     "output_type": "stream",
     "text": [
      "Training the generator for \n"
     ]
    },
    {
     "name": "stderr",
     "output_type": "stream",
     "text": [
      "100%|██████████| 300/300 [00:52<00:00,  5.66it/s]\n"
     ]
    },
    {
     "name": "stdout",
     "output_type": "stream",
     "text": [
      "The best generator loss: -2.6131134033203125\n",
      "Semi-supervised solver loss @Epoch 0:  1.1830030679702759\n"
     ]
    },
    {
     "name": "stderr",
     "output_type": "stream",
     "text": [
      "  0%|          | 1/300 [00:00<00:54,  5.45it/s]"
     ]
    },
    {
     "name": "stdout",
     "output_type": "stream",
     "text": [
      "Training the generator for \n"
     ]
    },
    {
     "name": "stderr",
     "output_type": "stream",
     "text": [
      "100%|██████████| 300/300 [00:55<00:00,  5.45it/s]\n"
     ]
    },
    {
     "name": "stdout",
     "output_type": "stream",
     "text": [
      "The best generator loss: -0.5488461852073669\n",
      "Semi-supervised solver loss @Epoch 100:  0.49460431933403015\n"
     ]
    },
    {
     "name": "stderr",
     "output_type": "stream",
     "text": [
      "  0%|          | 1/300 [00:00<00:54,  5.46it/s]"
     ]
    },
    {
     "name": "stdout",
     "output_type": "stream",
     "text": [
      "Training the generator for \n"
     ]
    },
    {
     "name": "stderr",
     "output_type": "stream",
     "text": [
      "100%|██████████| 300/300 [01:03<00:00,  4.74it/s]\n"
     ]
    },
    {
     "name": "stdout",
     "output_type": "stream",
     "text": [
      "The best generator loss: -0.12598395347595215\n",
      "Semi-supervised solver loss @Epoch 200:  0.25751250982284546\n"
     ]
    }
   ],
   "source": [
    "curr_loss = 1000; F_print = 10 if choice == 'LBFGS' else 100\n",
    "\n",
    "# Stage I\n",
    "# How long should I pretrain selector part of the model?\n",
    "for _ in range(1):\n",
    "    # Reinit the semisup_model.network weights\n",
    "    semisup_model.network.load_state_dict(network_state_dict)\n",
    "    for i in range(epochs1):\n",
    "        if i%adv_f==0 and i<=generator_training_limit:\n",
    "            best_generator_loss = 1000; best_generator_state_dict = None\n",
    "            o_tensor = X_u_train[:N, :] # or X_u_train ?\n",
    "            print(\"Training the generator for \")\n",
    "            for _ in trange(generator_training_epochs):\n",
    "                semisup_model.eval()\n",
    "                generator.train()\n",
    "                generator_optimizer.zero_grad()\n",
    "                X_gen = scale_to_range(generator(o_tensor), lb, ub)\n",
    "                unsup_loss = semisup_model(X_gen)[1]\n",
    "#                 d_loss = F.mse_loss(X_gen, o_tensor)\n",
    "                d_loss = F.mse_loss(X_gen, o_tensor)\n",
    "                generator_loss = d_loss-unsup_loss\n",
    "                generator_loss.backward(retain_graph=True)\n",
    "                generator_optimizer.step()\n",
    "                # Saving the best_generator_state_dict\n",
    "                if generator_loss.item() < best_generator_loss:\n",
    "                    best_generator_loss = generator_loss.item()\n",
    "                    best_generator_state_dict = generator.state_dict()\n",
    "\n",
    "            print(\"The best generator loss:\", best_generator_loss)\n",
    "            generator.load_state_dict(best_generator_state_dict)\n",
    "            generator.eval()\n",
    "            X_gen = scale_to_range(generator(o_tensor), lb, ub)\n",
    "            if N_res<X_gen.shape[0]: X_gen = sampling_from_rows(X_gen, N_res)\n",
    "            X_u_train = torch.cat([X_u_train[:N, :], X_gen], dim=0).detach().requires_grad_(True)\n",
    "\n",
    "        semisup_model.train()\n",
    "        generator_optimizer.zero_grad()\n",
    "        optimizer1.step(pcgrad_closure)\n",
    "        l = pcgrad_closure()\n",
    "        if (i % F_print) == 0:\n",
    "            if l.item() != curr_loss:\n",
    "                curr_loss = l.item()\n",
    "            else:\n",
    "                print(\"Semi-supervised solver loss @Epoch {}: \".format(i), curr_loss)\n",
    "                print(\"Finishing the first stage\")\n",
    "                break\n",
    "            print(\"Semi-supervised solver loss @Epoch {}: \".format(i), curr_loss)"
   ]
  },
  {
   "cell_type": "code",
   "execution_count": 11,
   "metadata": {},
   "outputs": [],
   "source": [
    "optimizer2 = LBFGSNew(semisup_model.network.parameters(), \n",
    "                              lr=learning_rate2, max_iter=100, max_eval=125, \n",
    "                              history_size=120, line_search_fn=True, batch_mode=False)\n",
    "\n",
    "# optimizer2 = torch.optim.LBFGS(semisup_model.network.parameters(), \n",
    "#                               lr=learning_rate2, max_iter=100, max_eval=125, \n",
    "#                               history_size=120, line_search_fn='strong_wolfe')"
   ]
  },
  {
   "cell_type": "code",
   "execution_count": 12,
   "metadata": {},
   "outputs": [
    {
     "name": "stdout",
     "output_type": "stream",
     "text": [
      "Epoch 0:  3.842959358735243e-06\n",
      "Epoch 100:  8.522012251432898e-08\n",
      "Epoch 200:  4.024239430577836e-08\n",
      "Epoch 300:  2.511194097110092e-08\n",
      "Epoch 400:  1.718848530174455e-08\n",
      "Epoch 500:  1.3011965727116603e-08\n",
      "Epoch 600:  9.626741181989473e-09\n",
      "Epoch 700:  7.783191868782069e-09\n",
      "Epoch 800:  6.3591096832738e-09\n",
      "Epoch 900:  5.336173725112303e-09\n",
      "Epoch 1000:  4.752135573937721e-09\n",
      "Epoch 1100:  3.7544483078022495e-09\n",
      "Epoch 1200:  3.473671128517708e-09\n",
      "Epoch 1300:  3.2415539141794625e-09\n",
      "Epoch 1400:  2.893987716134916e-09\n",
      "Epoch 1500:  2.8184969913525038e-09\n",
      "Epoch 1600:  2.7347366593488687e-09\n",
      "Epoch 1700:  2.6620621262907207e-09\n",
      "Epoch 1800:  2.426969292201875e-09\n",
      "Epoch 1900:  2.3300499307765676e-09\n",
      "Epoch 2000:  2.305162949411965e-09\n",
      "Epoch 2100:  2.2286934520110435e-09\n",
      "Epoch 2200:  2.077052529969592e-09\n",
      "Epoch 2300:  2.0651655940895353e-09\n",
      "Epoch 2400:  1.876311328530278e-09\n",
      "Epoch 2500:  1.8673951274195133e-09\n",
      "Epoch 2600:  1.850965491989598e-09\n",
      "Epoch 2700:  1.8079802099890685e-09\n",
      "Epoch 2800:  1.8040476890135437e-09\n",
      "Epoch 2900:  1.7530991103242854e-09\n",
      "Epoch 3000:  1.7109771377477045e-09\n",
      "Epoch 3100:  1.7052180778520665e-09\n",
      "Epoch 3200:  1.7015111541951455e-09\n",
      "Epoch 3300:  1.6567031080327865e-09\n",
      "Epoch 3400:  1.5923905527515103e-09\n",
      "Epoch 3500:  1.573983499092435e-09\n",
      "Epoch 3600:  1.5684011867023173e-09\n",
      "Epoch 3700:  1.5602028557992753e-09\n",
      "Epoch 3800:  1.5370417161264527e-09\n",
      "Epoch 3900:  1.4911242240955858e-09\n",
      "Epoch 4000:  1.4769652167956338e-09\n",
      "Epoch 4100:  1.4728913644290742e-09\n",
      "Epoch 4200:  1.468911436930398e-09\n",
      "Epoch 4300:  1.4603659392875556e-09\n",
      "Epoch 4400:  1.4214545096535858e-09\n",
      "Epoch 4500:  1.3800099951666311e-09\n",
      "Epoch 4600:  1.36447864118594e-09\n",
      "Epoch 4700:  1.3581316071764604e-09\n",
      "Epoch 4800:  1.3522510888819284e-09\n",
      "Epoch 4900:  1.3342073001965105e-09\n",
      "Epoch 5000:  1.273205318952364e-09\n",
      "Epoch 5100:  1.2607782595708272e-09\n",
      "Epoch 5200:  1.2575530616842912e-09\n",
      "Epoch 5300:  1.2519576486624828e-09\n",
      "Epoch 5400:  1.2480286804006369e-09\n",
      "Epoch 5500:  1.2419280048803216e-09\n",
      "Epoch 5600:  1.230990198664017e-09\n",
      "Epoch 5700:  1.2153982265061813e-09\n",
      "Epoch 5800:  1.195142096399593e-09\n",
      "Epoch 5900:  1.1864556004326232e-09\n",
      "Epoch 6000:  1.1795322496510607e-09\n",
      "Epoch 6100:  1.1740790561987069e-09\n",
      "Epoch 6200:  1.170961438923257e-09\n",
      "Epoch 6300:  1.149354722507212e-09\n",
      "Epoch 6400:  1.1326682924917009e-09\n",
      "Epoch 6500:  1.1210599115685227e-09\n",
      "Epoch 6600:  1.1133031163623741e-09\n",
      "Epoch 6700:  1.1068266303482233e-09\n",
      "Epoch 6800:  1.098054536186055e-09\n",
      "Epoch 6900:  1.092828383342237e-09\n",
      "Epoch 7000:  1.087875900473989e-09\n",
      "Epoch 7100:  1.07184239261926e-09\n",
      "Epoch 7200:  1.0649835457954282e-09\n",
      "Epoch 7300:  1.0583165455102517e-09\n",
      "Epoch 7400:  1.0556420182439297e-09\n",
      "Epoch 7500:  1.0525330607080718e-09\n",
      "Epoch 7600:  1.0515143200606758e-09\n",
      "Epoch 7700:  1.0479693779430477e-09\n",
      "Epoch 7800:  1.0449328069483954e-09\n",
      "Epoch 7900:  1.0366857372545724e-09\n",
      "Epoch 8000:  1.0304276321093653e-09\n",
      "Epoch 8100:  1.0232528158127252e-09\n",
      "Epoch 8200:  1.0114008519579443e-09\n",
      "Epoch 8300:  1.0007477069251536e-09\n",
      "Epoch 8400:  9.952940693835899e-10\n",
      "Epoch 8500:  9.907992204460925e-10\n",
      "Epoch 8600:  9.832372693807656e-10\n",
      "Epoch 8700:  9.80608927392268e-10\n",
      "Epoch 8800:  9.79199166195599e-10\n",
      "Epoch 8900:  9.76846270539511e-10\n",
      "Epoch 9000:  9.76154490572867e-10\n",
      "Epoch 9100:  9.744246520781985e-10\n",
      "Epoch 9200:  9.738481132615107e-10\n",
      "Epoch 9300:  9.720068083751698e-10\n",
      "Epoch 9400:  9.70412750156413e-10\n",
      "Epoch 9500:  9.660496846919386e-10\n",
      "Epoch 9600:  9.594873784379843e-10\n",
      "Epoch 9700:  9.441720738578852e-10\n",
      "Epoch 9800:  9.333788186793868e-10\n",
      "Epoch 9900:  9.180222693139228e-10\n",
      "Epoch 10000:  9.112559595791936e-10\n",
      "Epoch 10100:  9.054039740163944e-10\n",
      "Epoch 10200:  8.963542130757673e-10\n",
      "Epoch 10300:  8.947158014471768e-10\n",
      "Epoch 10400:  8.907308779448897e-10\n",
      "Epoch 10500:  8.856104738441672e-10\n",
      "Epoch 10600:  8.832687359294766e-10\n",
      "Epoch 10700:  8.747947366494202e-10\n",
      "Epoch 10800:  8.721074973294662e-10\n",
      "Epoch 10900:  8.633566639382195e-10\n",
      "Epoch 11000:  8.518706851035063e-10\n",
      "Epoch 11100:  8.457201605693854e-10\n",
      "Epoch 11200:  8.407100571261594e-10\n",
      "Epoch 11300:  8.32123481231406e-10\n",
      "Epoch 11400:  8.245868987621918e-10\n",
      "Epoch 11500:  8.171482379637496e-10\n",
      "Epoch 11600:  8.148473007452139e-10\n",
      "Epoch 11700:  8.125755623922259e-10\n",
      "Epoch 11800:  8.068714030251556e-10\n",
      "Epoch 11900:  8.027731257520543e-10\n",
      "Epoch 12000:  7.986670769177806e-10\n",
      "Epoch 12100:  7.909620736157308e-10\n",
      "Epoch 12200:  7.785764810641638e-10\n",
      "Epoch 12300:  7.661274392667394e-10\n",
      "Epoch 12400:  7.610143071268283e-10\n",
      "Epoch 12500:  7.57047591282145e-10\n",
      "Epoch 12600:  7.526319567574546e-10\n",
      "Epoch 12700:  7.472302776534434e-10\n",
      "Epoch 12800:  7.446405714262028e-10\n",
      "Epoch 12900:  7.415898450879865e-10\n",
      "Epoch 13000:  7.367825238802084e-10\n",
      "Epoch 13100:  7.32620852872401e-10\n",
      "Epoch 13200:  7.282434100197577e-10\n",
      "Epoch 13300:  7.219215225617859e-10\n",
      "Epoch 13400:  7.141268132393463e-10\n",
      "Epoch 13500:  7.115718014816252e-10\n",
      "Epoch 13600:  7.09966585521471e-10\n",
      "Epoch 13700:  7.073990282435716e-10\n",
      "Epoch 13800:  7.053799766509883e-10\n",
      "Epoch 13900:  7.008775226857722e-10\n",
      "Epoch 14000:  6.934760543586549e-10\n",
      "Epoch 14100:  6.904363747395337e-10\n",
      "Epoch 14200:  6.897130089278392e-10\n",
      "Epoch 14300:  6.892195147933933e-10\n",
      "Epoch 14400:  6.869924074059952e-10\n",
      "Epoch 14500:  6.865433777036856e-10\n",
      "Epoch 14600:  6.844732003408183e-10\n",
      "Epoch 14700:  6.829579679568099e-10\n",
      "Epoch 14800:  6.822892251179269e-10\n",
      "Epoch 14900:  6.800716656485406e-10\n",
      "Epoch 15000:  6.791714968201745e-10\n",
      "Epoch 15100:  6.769073634949052e-10\n",
      "Epoch 15200:  6.752755576933112e-10\n",
      "Epoch 15300:  6.727621237878623e-10\n",
      "Epoch 15400:  6.714104827665324e-10\n",
      "Epoch 15500:  6.681555864140876e-10\n",
      "Epoch 15600:  6.659347517867786e-10\n",
      "Epoch 15700:  6.638883887077895e-10\n",
      "Epoch 15800:  6.625703874441058e-10\n",
      "Epoch 15900:  6.586895473503773e-10\n",
      "Epoch 16000:  6.57305876394787e-10\n",
      "Epoch 16100:  6.546654884864722e-10\n",
      "Epoch 16200:  6.523073192710171e-10\n",
      "Epoch 16300:  6.509102701279801e-10\n",
      "Epoch 16400:  6.485806336442579e-10\n",
      "Epoch 16500:  6.482436809562842e-10\n",
      "Epoch 16600:  6.468294788675166e-10\n",
      "Epoch 16700:  6.464748736334514e-10\n",
      "Epoch 16800:  6.453583223375858e-10\n",
      "Epoch 16900:  6.438676813935729e-10\n",
      "Epoch 17000:  6.436584598645823e-10\n",
      "Epoch 17100:  6.421256859567848e-10\n",
      "Epoch 17200:  6.414624942330249e-10\n",
      "Epoch 17300:  6.402276486738856e-10\n",
      "Epoch 17400:  6.397016250048182e-10\n",
      "Epoch 17500:  6.412542719047565e-10\n",
      "Epoch 17600:  6.389379580973298e-10\n",
      "Epoch 17700:  6.38019859167116e-10\n",
      "Epoch 17800:  6.370675098565926e-10\n",
      "Epoch 17900:  6.36372454732026e-10\n",
      "Epoch 18000:  6.322790069290818e-10\n",
      "Epoch 18100:  6.309079925159722e-10\n",
      "Epoch 18200:  6.299615828986305e-10\n",
      "Epoch 18300:  6.291018261883607e-10\n",
      "Epoch 18400:  6.272150576691615e-10\n",
      "Epoch 18500:  6.255588824721769e-10\n",
      "Epoch 18600:  6.243199290878465e-10\n",
      "Epoch 18700:  6.197879431901754e-10\n",
      "Epoch 18800:  6.179098899217195e-10\n",
      "Epoch 18900:  6.141196440268004e-10\n",
      "Epoch 19000:  6.096179117065503e-10\n",
      "Epoch 19100:  6.07556116527519e-10\n",
      "Epoch 19200:  6.060205115510087e-10\n",
      "Epoch 19300:  6.052740531004019e-10\n",
      "Epoch 19400:  6.000527297267411e-10\n",
      "Epoch 19500:  5.993440743701228e-10\n",
      "Epoch 19600:  5.980511086356444e-10\n",
      "Epoch 19700:  5.971977357077662e-10\n",
      "Epoch 19800:  5.956603543744166e-10\n",
      "Epoch 19900:  5.944794101431228e-10\n",
      "Epoch 20000:  5.938758373957853e-10\n",
      "Epoch 20100:  5.933500357713228e-10\n",
      "Epoch 20200:  5.927547896966701e-10\n",
      "Epoch 20300:  5.918001089177949e-10\n",
      "Epoch 20400:  5.897696775392092e-10\n",
      "Epoch 20500:  5.880876896569021e-10\n",
      "Epoch 20600:  5.877922037988981e-10\n",
      "Epoch 20700:  5.864216334749983e-10\n",
      "Epoch 20800:  5.854803863947211e-10\n",
      "Epoch 20900:  5.844557060541433e-10\n",
      "Epoch 21000:  5.843475703315448e-10\n",
      "Epoch 21100:  5.83035564272194e-10\n",
      "Epoch 21200:  5.82615955480037e-10\n",
      "Epoch 21300:  5.822228810181684e-10\n",
      "Epoch 21400:  5.807712089023198e-10\n",
      "Epoch 21500:  5.799846714005241e-10\n",
      "Epoch 21600:  5.796790270018448e-10\n",
      "Epoch 21700:  5.781927159276279e-10\n",
      "Epoch 21800:  5.76740988300628e-10\n",
      "Epoch 21900:  5.756295440306758e-10\n",
      "Epoch 22000:  5.743123199231093e-10\n",
      "Epoch 22100:  5.739054786957354e-10\n",
      "Epoch 22200:  5.726484841872548e-10\n",
      "Epoch 22300:  5.685132364874335e-10\n",
      "Epoch 22400:  5.672526892652741e-10\n",
      "Epoch 22500:  5.649377077254769e-10\n",
      "Epoch 22600:  5.644568146223605e-10\n",
      "Epoch 22700:  5.638067790414425e-10\n",
      "Epoch 22800:  5.629702815035387e-10\n",
      "Epoch 22900:  5.61499402529364e-10\n",
      "Epoch 23000:  5.613277065386058e-10\n",
      "Epoch 23100:  5.591217488998268e-10\n",
      "Epoch 23200:  5.587376672444577e-10\n",
      "Epoch 23300:  5.582598827658103e-10\n",
      "Epoch 23400:  5.585187867751529e-10\n",
      "Epoch 23500:  5.568721039850288e-10\n",
      "Epoch 23600:  5.55863743922913e-10\n",
      "Epoch 23700:  5.555371718202196e-10\n",
      "Epoch 23800:  5.552781012774233e-10\n",
      "Epoch 23900:  5.548410064726284e-10\n",
      "Epoch 24000:  5.551569204342854e-10\n",
      "Epoch 24100:  5.537770242369788e-10\n",
      "Epoch 24200:  5.533614122477104e-10\n",
      "Epoch 24300:  5.529244284652179e-10\n",
      "Epoch 24400:  5.522726720386117e-10\n",
      "Epoch 24500:  5.51387935310288e-10\n",
      "Epoch 24600:  5.502132083279321e-10\n",
      "Epoch 24700:  5.487488241584515e-10\n",
      "Epoch 24800:  5.475395692400298e-10\n",
      "Epoch 24900:  5.472088338009939e-10\n",
      "Epoch 25000:  5.460929486389432e-10\n",
      "Epoch 25100:  5.458257734680672e-10\n",
      "Epoch 25200:  5.440190520289434e-10\n",
      "Epoch 25300:  5.435339400783334e-10\n",
      "Epoch 25400:  5.438081651654159e-10\n",
      "Epoch 25500:  5.42593359131871e-10\n",
      "Epoch 25600:  5.417480353209214e-10\n",
      "Epoch 25700:  5.404635072814301e-10\n",
      "Epoch 25800:  5.397735591827768e-10\n",
      "Epoch 25900:  5.389432233826597e-10\n",
      "Epoch 26000:  5.373798073193825e-10\n",
      "Epoch 26100:  5.364790833795041e-10\n",
      "Epoch 26200:  5.349844456326025e-10\n",
      "Epoch 26300:  5.343659958967351e-10\n",
      "Epoch 26400:  5.32938693176277e-10\n",
      "Epoch 26500:  5.314010342871711e-10\n",
      "Epoch 26600:  5.284505610880785e-10\n",
      "Epoch 26700:  5.287088544747576e-10\n",
      "Epoch 26800:  5.279133241664624e-10\n",
      "Epoch 26900:  5.287585924662608e-10\n",
      "Epoch 27000:  5.286167614748649e-10\n",
      "Epoch 27100:  5.282337900425205e-10\n",
      "Epoch 27200:  5.276274417376214e-10\n",
      "Epoch 27300:  5.279152115456043e-10\n",
      "Epoch 27400:  5.276237780016402e-10\n",
      "Epoch 27500:  5.275245240632387e-10\n",
      "Epoch 27600:  5.275250236635998e-10\n",
      "Epoch 27700:  5.267907221551127e-10\n",
      "Epoch 27800:  5.26358012731265e-10\n",
      "Epoch 27900:  5.264137459271012e-10\n",
      "Epoch 28000:  5.260732405254487e-10\n",
      "Epoch 28100:  5.256018953403441e-10\n",
      "Epoch 28200:  5.257129731539578e-10\n",
      "Epoch 28300:  5.253456003551094e-10\n",
      "Epoch 28400:  5.25194054912248e-10\n",
      "Epoch 28500:  5.248279033587266e-10\n",
      "Epoch 28600:  5.237060229923429e-10\n",
      "Epoch 28700:  5.240606837375594e-10\n",
      "Epoch 28800:  5.232388411435807e-10\n",
      "Epoch 28900:  5.23365184523783e-10\n",
      "Epoch 29000:  5.221398313715042e-10\n",
      "Epoch 29100:  5.21735543657087e-10\n",
      "Epoch 29200:  5.204733866115419e-10\n",
      "Epoch 29300:  5.20207210641388e-10\n",
      "Epoch 29400:  5.190914365016397e-10\n",
      "Epoch 29500:  5.180281203998049e-10\n",
      "Epoch 29600:  5.157890781148922e-10\n",
      "Epoch 29700:  5.137966163637486e-10\n",
      "Epoch 29800:  5.127371305313488e-10\n",
      "Epoch 29900:  5.119067947312317e-10\n"
     ]
    }
   ],
   "source": [
    "curr_loss = 1000\n",
    "# Stage II\n",
    "semisup_model.train()\n",
    "for i in range(epochs2):\n",
    "    optimizer2.step(closure)\n",
    "    l = closure()\n",
    "    if (i % 100) == 0:\n",
    "        if l.item() != curr_loss:\n",
    "            curr_loss = l.item()\n",
    "        else:\n",
    "            print(\"Finishing the second stage\")\n",
    "            break\n",
    "        print(\"Epoch {}: \".format(i), curr_loss)"
   ]
  },
  {
   "cell_type": "code",
   "execution_count": 14,
   "metadata": {},
   "outputs": [
    {
     "name": "stdout",
     "output_type": "stream",
     "text": [
      "Testing\n",
      "Test MSE: 4.8e-07\n"
     ]
    }
   ],
   "source": [
    "print(\"Testing\")\n",
    "semisup_model.network.eval()\n",
    "# Compare btw the two semi-supervise learning?\n",
    "test_performance = F.mse_loss(semisup_model.network(*dimension_slicing(X_star)).detach(), u_star).item()\n",
    "string_test_performance = scientific2string(test_performance)\n",
    "print('Test MSE:', string_test_performance)"
   ]
  },
  {
   "cell_type": "code",
   "execution_count": 15,
   "metadata": {},
   "outputs": [
    {
     "name": "stdout",
     "output_type": "stream",
     "text": [
      "Saving\n"
     ]
    }
   ],
   "source": [
    "# BEST-2000: 1e-06 (LBFGS)\n",
    "# For saving the plain neural networks.\n",
    "print(\"Saving\")\n",
    "MODEL_PATH = './saved_path_inverse_burger/lbfgsnew_results/semisup_model_with_LayerNormDropout_without_physical_reg_trained1000labeledsamples_trained500unlabeledsamples_'+string_test_performance+'.pth'\n",
    "torch.save(semisup_model.state_dict(), MODEL_PATH)\n",
    "\n",
    "# torch.save(semisup_model.state_dict(), \"./saved_path_inverse_burger/semisup_model_with_LayerNormDropout_without_physical_reg_trained2000labeledsamples_trained1000unlabeledsamples.pth\")"
   ]
  },
  {
   "cell_type": "code",
   "execution_count": 16,
   "metadata": {},
   "outputs": [],
   "source": [
    "# Loading the best model and testing\n",
    "# semisup_model.load_state_dict(torch.load(MODEL_PATH), strict=False)\n",
    "# semisup_model.eval()\n",
    "# F.mse_loss(semisup_model.network(*dimension_slicing(X_star)).detach(), u_star)"
   ]
  },
  {
   "cell_type": "code",
   "execution_count": 17,
   "metadata": {},
   "outputs": [],
   "source": [
    "# derivatives_test, dynamics_test = semisup_model.network.get_selector_data(*dimension_slicing(X_star))\n",
    "# derivatives_train, dynamics_train = semisup_model.network.get_selector_data(*dimension_slicing(X_u_train))\n",
    "\n",
    "# derivatives_test, dynamics_test = to_numpy(derivatives_test), to_numpy(dynamics_test)\n",
    "# derivatives_train, dynamics_train = to_numpy(derivatives_train), to_numpy(dynamics_train)\n",
    "\n",
    "# np.save(\"./saved_path_inverse_burger/lbfgsnew_results/data/derivatives-2000-V1.npy\", derivatives_train)\n",
    "# np.save(\"./saved_path_inverse_burger/lbfgsnew_results/data/dynamics-2000-V1.npy\", dynamics_train)\n",
    "# np.save(\"./saved_path_inverse_burger/lbfgsnew_results/data/derivatives-25600-V1.npy\", derivatives_test)\n",
    "# np.save(\"./saved_path_inverse_burger/lbfgsnew_results/data/dynamics-25600-V1.npy\", dynamics_test)"
   ]
  },
  {
   "cell_type": "code",
   "execution_count": 18,
   "metadata": {},
   "outputs": [
    {
     "data": {
      "image/png": "[encoded data removed]",
      "text/plain": [
       "<Figure size 432x288 with 1 Axes>"
      ]
     },
     "metadata": {
      "needs_background": "light"
     },
     "output_type": "display_data"
    }
   ],
   "source": [
    "original_samples = to_numpy(X_u_train[:N, :])\n",
    "generated_samples = to_numpy(X_gen)\n",
    "x = original_samples[:, 0:1]\n",
    "t = original_samples[:, 1:2]\n",
    "x_g = generated_samples[:, 0:1]\n",
    "t_g = generated_samples[:, 1:2]\n",
    "plt.scatter(t, x, label='Original')\n",
    "plt.scatter(t_g, x_g, label='Gen')\n",
    "plt.legend()\n",
    "plt.show()"
   ]
  },
  {
   "cell_type": "code",
   "execution_count": null,
   "metadata": {},
   "outputs": [],
   "source": []
  },
  {
   "cell_type": "code",
   "execution_count": null,
   "metadata": {},
   "outputs": [],
   "source": []
  }
 ],
 "metadata": {
  "kernelspec": {
   "display_name": "Python 3",
   "language": "python",
   "name": "python3"
  },
  "language_info": {
   "codemirror_mode": {
    "name": "ipython",
    "version": 3
   },
   "file_extension": ".py",
   "mimetype": "text/x-python",
   "name": "python",
   "nbconvert_exporter": "python",
   "pygments_lexer": "ipython3",
   "version": "3.9.4"
  }
 },
 "nbformat": 4,
 "nbformat_minor": 4
}
