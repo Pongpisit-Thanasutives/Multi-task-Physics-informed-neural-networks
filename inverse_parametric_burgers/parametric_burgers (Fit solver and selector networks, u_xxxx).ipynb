{
 "cells": [
  {
   "cell_type": "code",
   "execution_count": 1,
   "metadata": {},
   "outputs": [
    {
     "name": "stdout",
     "output_type": "stream",
     "text": [
      "Populating the interactive namespace from numpy and matplotlib\n",
      "Running Python 3.9.7\n",
      "You can use npar for np.array\n"
     ]
    }
   ],
   "source": [
    "%pylab inline\n",
    "%matplotlib inline\n",
    "import matplotlib.pyplot as plt\n",
    "\n",
    "import numpy as np\n",
    "import sys; sys.path.insert(0, \"../\"); from utils import *\n",
    "from models import TanhProb\n",
    "from parametric_discovery_pinnV2 import ParametricSolver\n",
    "\n",
    "# Let's do facy optimizers\n",
    "from optimizers import Lookahead, AdamGC, SGDGC\n",
    "from madgrad import MADGRAD\n",
    "from lbfgsnew import LBFGSNew\n",
    "\n",
    "from pde_diff import TrainSTRidge, FiniteDiff, print_pde\n",
    "from robust_pde_diff import print_pde, RobustPCA, Robust_LRSTR\n",
    "from parametric_pde_diff import TrainSGTRidge, create_groups\n",
    "\n",
    "from scipy.integrate import odeint\n",
    "from numpy.fft import fft, ifft, fftfreq\n",
    "from time import time\n",
    "\n",
    "from pysr import pysr, best\n",
    "\n",
    "fontsize = 20"
   ]
  },
  {
   "cell_type": "code",
   "execution_count": 2,
   "metadata": {},
   "outputs": [],
   "source": [
    "noise_intensity = 0.01; noisy_xt = True"
   ]
  },
  {
   "cell_type": "code",
   "execution_count": 3,
   "metadata": {},
   "outputs": [
    {
     "name": "stdout",
     "output_type": "stream",
     "text": [
      "Loaded from ../parametric_pde_data/parametric_burgers.pkl\n",
      "Noisy Exact\n",
      "Noisy X_train\n"
     ]
    }
   ],
   "source": [
    "data = pickle_load(\"../parametric_pde_data/parametric_burgers.pkl\")\n",
    "\n",
    "x = data['x']; spatial_dims = x.shape[0]\n",
    "t = data['t']; time_dims = t.shape[0]\n",
    "\n",
    "Exact = data['u']\n",
    "X, T = np.meshgrid(x, t)\n",
    "\n",
    "if noise_intensity > 0.0:\n",
    "    print(\"Noisy Exact\")\n",
    "    Exact = perturb(Exact, intensity=noise_intensity, noise_type=\"normal\")\n",
    "else: print(\"Clean Exact\")\n",
    "\n",
    "X_star = np.hstack((to_column_vector(X), to_column_vector(T)))\n",
    "u_star = to_column_vector(Exact.T)\n",
    "\n",
    "# domain bounds\n",
    "lb = X_star.min(axis=0)\n",
    "ub = X_star.max(axis=0)\n",
    "\n",
    "# Sampling training data points\n",
    "N = 20000\n",
    "training_idxs = sampling_from_rows(X_star, N, True)\n",
    "X_train = X_star[training_idxs, :]\n",
    "u_train = u_star[training_idxs, :]\n",
    "\n",
    "if noise_intensity > 0.0 and noisy_xt:\n",
    "    print(\"Noisy X_train\")\n",
    "    X_train = perturb(X_train, intensity=noise_intensity, noise_type=\"normal\")\n",
    "else: print(\"Clean X_train\")\n",
    "\n",
    "# to_tensor\n",
    "X_star = to_tensor(X_star, True)\n",
    "u_star = to_tensor(u_star, False)\n",
    "X_train = to_tensor(X_train, True)\n",
    "u_train = to_tensor(u_train, False)\n",
    "lb = to_tensor(lb, False)\n",
    "ub = to_tensor(ub, False)\n",
    "\n",
    "u_xx_true = 0.1*np.ones(time_dims)\n",
    "uu_x_true = -1*(1+0.25*np.sin(t))"
   ]
  },
  {
   "cell_type": "code",
   "execution_count": 4,
   "metadata": {},
   "outputs": [],
   "source": [
    "class AttentionSelectorNetwork(nn.Module):\n",
    "    def __init__(self, layers, prob_activation=torch.sigmoid, bn=None, reg_intensity=1e-3):\n",
    "        super(AttentionSelectorNetwork, self).__init__()\n",
    "        # Nonlinear model, Training with PDE reg.\n",
    "        assert len(layers) > 1\n",
    "        self.linear1 = nn.Linear(layers[0], layers[0])\n",
    "        self.prob_activation = prob_activation\n",
    "        self.nonlinear_model = TorchMLP(dimensions=layers, activation_function=nn.Tanh, bn=bn, dropout=nn.Dropout(p=0.1))\n",
    "        self.latest_weighted_features = None\n",
    "        self.th = (1/layers[0])-(1e-10)\n",
    "        self.reg_intensity = reg_intensity\n",
    "        self.w = torch.tensor([1.0, 1.0, 1.0, 2.0, 3.0, 4.0])\n",
    "        \n",
    "    def xavier_init(self, m):\n",
    "        if type(m) == nn.Linear:\n",
    "            torch.nn.init.xavier_uniform_(m.weight)\n",
    "            m.bias.data.fill_(0.01)\n",
    "        \n",
    "    def forward(self, inn, bi=False):\n",
    "        if bi: att = binarize(self.weighted_features(inn), self.th)\n",
    "        else: att = F.threshold(self.weighted_features(inn), self.th, 0.0)\n",
    "        return self.nonlinear_model(inn*att)\n",
    "    \n",
    "    def weighted_features(self, inn):\n",
    "        self.latest_weighted_features = self.prob_activation(self.linear1(inn)).mean(axis=0)\n",
    "        return self.latest_weighted_features\n",
    "    \n",
    "    def loss(self, X_input, y_input):\n",
    "        ut_approx = self.forward(X_input)\n",
    "        mse_loss = F.mse_loss(ut_approx, y_input, reduction='mean')\n",
    "        reg_term = F.relu(self.latest_weighted_features-self.th)\n",
    "        \n",
    "        l1 = mse_loss\n",
    "        l2 = torch.norm(reg_term, p=0)+torch.dot(self.w, reg_term)\n",
    "        \n",
    "        return l1+self.reg_intensity*(l2)\n",
    "\n",
    "class SemiSupModel(nn.Module):\n",
    "    def __init__(self, network, selector, normalize_derivative_features=False, mini=None, maxi=None):\n",
    "        super(SemiSupModel, self).__init__()\n",
    "        self.network = network\n",
    "        self.selector = selector\n",
    "        self.normalize_derivative_features = normalize_derivative_features\n",
    "        self.mini = mini\n",
    "        self.maxi = maxi\n",
    "        \n",
    "    def forward(self, X_u_train):\n",
    "        X_selector, y_selector = self.network.gradients_dict(*dimension_slicing(X_u_train))\n",
    "        est = X_selector[:, 0:1]\n",
    "        if self.normalize_derivative_features:\n",
    "            X_selector = (X_selector-self.mini)/(self.maxi-self.mini)\n",
    "        unsup_loss = self.selector.loss(X_selector, y_selector)\n",
    "        return est, unsup_loss"
   ]
  },
  {
   "cell_type": "code",
   "execution_count": 5,
   "metadata": {},
   "outputs": [
    {
     "name": "stdout",
     "output_type": "stream",
     "text": [
      "Using old implementation of TorchMLP. See models.py for more new model-related source code.\n",
      "Use pretrained weights\n",
      "Using old implementation of TorchMLP. See models.py for more new model-related source code.\n"
     ]
    }
   ],
   "source": [
    "### Version with normalized derivatives ###\n",
    "# pretrained_state_dict = torch.load('../saved_path_inverse_burger/lbfgsnew_results/semisup_model_with_LayerNormDropout_without_physical_reg_trained250labeledsamples_trained0unlabeledsamples_2.2e-03.pth')\n",
    "pretrained_state_dict = torch.load(\"./new_weights/pretrained_20000samples.pth\")\n",
    "network_state_dict = None\n",
    "use_pretrained_weights = True\n",
    "lets_pretrain = False\n",
    "\n",
    "semisup_model = SemiSupModel(network=ParametricSolver(scale=False, lb=lb, ub=ub, input_feature='t', highest_order=4),\n",
    "                            # Be careful of choosing the prob_activation to compute the attentional weights!\n",
    "                            selector=AttentionSelectorNetwork([5, 50, 50, 1], bn=nn.LayerNorm),\n",
    "                            normalize_derivative_features=True,\n",
    "                            mini=None,\n",
    "                            maxi=None)\n",
    "\n",
    "if use_pretrained_weights:\n",
    "    print(\"Use pretrained weights\")\n",
    "    semisup_model.load_state_dict(pretrained_state_dict, strict=False)\n",
    "    network_state_dict = semisup_model.network.state_dict()\n",
    "    semisup_model.eval()\n",
    "    referenced_derivatives, _ = semisup_model.network.gradients_dict(*dimension_slicing(X_star))\n",
    "    semisup_model.mini = torch.min(referenced_derivatives, axis=0)[0].detach().requires_grad_(False)\n",
    "    semisup_model.maxi = torch.max(referenced_derivatives, axis=0)[0].detach().requires_grad_(False)\n",
    "    \n",
    "semisup_model.selector = AttentionSelectorNetwork([6, 50, 50, 1], bn=nn.LayerNorm)"
   ]
  },
  {
   "cell_type": "code",
   "execution_count": 6,
   "metadata": {},
   "outputs": [
    {
     "data": {
      "text/plain": [
       "4.280871507944539e-06"
      ]
     },
     "execution_count": 6,
     "metadata": {},
     "output_type": "execute_result"
    }
   ],
   "source": [
    "F.mse_loss(semisup_model.network(*dimension_slicing(X_star)).detach(), u_star).item()"
   ]
  },
  {
   "cell_type": "code",
   "execution_count": 7,
   "metadata": {},
   "outputs": [],
   "source": [
    "if lets_pretrain:\n",
    "    print(\"Pretraining...\")\n",
    "    pretraining_optimizer = LBFGSNew(semisup_model.network.parameters(), \n",
    "                                     lr=1e-1, max_iter=300, \n",
    "                                     max_eval=int(300*1.25), history_size=150, \n",
    "                                     line_search_fn=True, batch_mode=False)\n",
    "\n",
    "    semisup_model.train()\n",
    "    for i in range(200):\n",
    "        def pretraining_closure():\n",
    "            global N, X_train, u_train\n",
    "            if torch.is_grad_enabled(): pretraining_optimizer.zero_grad()\n",
    "            # Only focusing on first [:N, :] elements\n",
    "            mse_loss = F.mse_loss(semisup_model.network(*dimension_slicing(X_train))[:N, :], u_train[:N, :])\n",
    "            if mse_loss.requires_grad: mse_loss.backward(retain_graph=False)\n",
    "            return mse_loss\n",
    "\n",
    "        pretraining_optimizer.step(pretraining_closure)\n",
    "\n",
    "        l = pretraining_closure()\n",
    "        if (i % 10) == 0:\n",
    "            curr_loss = l.item()\n",
    "            print(\"Epoch {}: \".format(i), curr_loss)\n",
    "            \n",
    "            # Sneak on the test performance...\n",
    "            semisup_model.network.eval()\n",
    "            test_performance = F.mse_loss(semisup_model.network(*dimension_slicing(X_star)).detach(), u_star).item()\n",
    "            string_test_performance = scientific2string(test_performance)\n",
    "            print('Test MSE:', string_test_performance)\n",
    "    \n",
    "    print(\"Computing derivatives features\")\n",
    "    semisup_model.eval()\n",
    "    referenced_derivatives, _ = semisup_model.network.gradients_dict(*dimension_slicing(X_star))\n",
    "    semisup_model.mini = torch.min(referenced_derivatives, axis=0)[0].detach().requires_grad_(False)\n",
    "    semisup_model.maxi = torch.max(referenced_derivatives, axis=0)[0].detach().requires_grad_(False)"
   ]
  },
  {
   "cell_type": "code",
   "execution_count": 8,
   "metadata": {},
   "outputs": [],
   "source": [
    "def pcgrad_closure(return_list=False):\n",
    "    global N, X_train, u_train\n",
    "    predictions, unsup_loss = semisup_model(X_train)\n",
    "    losses = [F.mse_loss(predictions[:N, :], u_train[:N, :]), unsup_loss]\n",
    "    updated_grads = []\n",
    "    \n",
    "    for i in range(2):\n",
    "        optimizer.zero_grad()\n",
    "        losses[i].backward(retain_graph=True)\n",
    "\n",
    "        g_task = []\n",
    "        for param in semisup_model.parameters():\n",
    "            if param.grad is not None:\n",
    "                g_task.append(Variable(param.grad.clone(), requires_grad=False))\n",
    "            else:\n",
    "                g_task.append(Variable(torch.zeros(param.shape), requires_grad=False))\n",
    "        # appending the gradients from each task\n",
    "        updated_grads.append(g_task)\n",
    "\n",
    "    updated_grads = list(pcgrad.pc_grad_update(updated_grads))[0]\n",
    "    for idx, param in enumerate(semisup_model.parameters()):\n",
    "        param.grad = (updated_grads[0][idx]+updated_grads[1][idx])\n",
    "        \n",
    "    if not return_list: return losses[0]+losses[1]\n",
    "    else: return losses"
   ]
  },
  {
   "cell_type": "code",
   "execution_count": 9,
   "metadata": {},
   "outputs": [
    {
     "name": "stdout",
     "output_type": "stream",
     "text": [
      "[tensor(6.5990e-05, grad_fn=<MseLossBackward0>), tensor(7.9428, grad_fn=<AddBackward0>)]\n",
      "tensor([0.5016, 0.3921, 0.5840, 0.4724, 0.5754, 0.5792],\n",
      "       grad_fn=<MeanBackward1>)\n",
      "tensor([1, 3, 0, 4, 5, 2])\n",
      "[tensor(6.8821e-05, grad_fn=<MseLossBackward0>), tensor(0.0796, grad_fn=<AddBackward0>)]\n",
      "tensor([0.5248, 0.5429, 0.6121, 0.4724, 0.5851, 0.6410],\n",
      "       grad_fn=<MeanBackward1>)\n",
      "tensor([3, 0, 1, 4, 2, 5])\n",
      "[tensor(6.8862e-05, grad_fn=<MseLossBackward0>), tensor(0.0200, grad_fn=<AddBackward0>)]\n",
      "tensor([0.5051, 0.5443, 0.6083, 0.4574, 0.5525, 0.6090],\n",
      "       grad_fn=<MeanBackward1>)\n",
      "tensor([3, 0, 1, 4, 2, 5])\n",
      "[tensor(7.0241e-05, grad_fn=<MseLossBackward0>), tensor(0.0157, grad_fn=<AddBackward0>)]\n",
      "tensor([0.4745, 0.5314, 0.5993, 0.4361, 0.5030, 0.5518],\n",
      "       grad_fn=<MeanBackward1>)\n",
      "tensor([3, 0, 4, 1, 5, 2])\n",
      "[tensor(7.0532e-05, grad_fn=<MseLossBackward0>), tensor(0.0147, grad_fn=<AddBackward0>)]\n",
      "tensor([0.4368, 0.5144, 0.5882, 0.4104, 0.4419, 0.4766],\n",
      "       grad_fn=<MeanBackward1>)\n",
      "tensor([3, 0, 4, 5, 1, 2])\n",
      "[tensor(7.0417e-05, grad_fn=<MseLossBackward0>), tensor(0.0139, grad_fn=<AddBackward0>)]\n",
      "tensor([0.3942, 0.4945, 0.5753, 0.3813, 0.3747, 0.3904],\n",
      "       grad_fn=<MeanBackward1>)\n",
      "tensor([4, 3, 5, 0, 1, 2])\n",
      "[tensor(7.0317e-05, grad_fn=<MseLossBackward0>), tensor(0.0131, grad_fn=<AddBackward0>)]\n",
      "tensor([0.3498, 0.4723, 0.5610, 0.3505, 0.3092, 0.3066],\n",
      "       grad_fn=<MeanBackward1>)\n",
      "tensor([5, 4, 0, 3, 1, 2])\n",
      "[tensor(7.0225e-05, grad_fn=<MseLossBackward0>), tensor(0.0124, grad_fn=<AddBackward0>)]\n",
      "tensor([0.3064, 0.4484, 0.5459, 0.3192, 0.2515, 0.2361],\n",
      "       grad_fn=<MeanBackward1>)\n",
      "tensor([5, 4, 0, 3, 1, 2])\n",
      "[tensor(7.0142e-05, grad_fn=<MseLossBackward0>), tensor(0.0119, grad_fn=<AddBackward0>)]\n",
      "tensor([0.2662, 0.4230, 0.5303, 0.2887, 0.2041, 0.1825],\n",
      "       grad_fn=<MeanBackward1>)\n",
      "tensor([5, 4, 0, 3, 1, 2])\n",
      "[tensor(7.0062e-05, grad_fn=<MseLossBackward0>), tensor(0.0105, grad_fn=<AddBackward0>)]\n",
      "tensor([0.2303, 0.3966, 0.5148, 0.2597, 0.1668, 0.1542],\n",
      "       grad_fn=<MeanBackward1>)\n",
      "tensor([5, 4, 0, 3, 1, 2])\n"
     ]
    }
   ],
   "source": [
    "# Joint training | Do lambda comparison here\n",
    "optimizer = MADGRAD([{'params':semisup_model.network.parameters()}, {'params':semisup_model.selector.parameters()}], lr=1e-6)\n",
    "optimizer.param_groups[0]['lr'] = 1e-7\n",
    "optimizer.param_groups[1]['lr'] = 1e-1\n",
    "\n",
    "# Use ~idx to sample adversarial data points\n",
    "for i in range(250):\n",
    "    semisup_model.train()\n",
    "    optimizer.step(pcgrad_closure)\n",
    "    if i%25==0:\n",
    "        loss = pcgrad_closure(return_list=True); print(loss)\n",
    "        fi = semisup_model.selector.latest_weighted_features\n",
    "        print(fi); print(torch.argsort(fi))"
   ]
  },
  {
   "cell_type": "code",
   "execution_count": 11,
   "metadata": {},
   "outputs": [],
   "source": [
    "# save(semisup_model, \"./new_weights/noisy_semisup_model_uxxxx_20000_unfinetuned.pth\")"
   ]
  },
  {
   "cell_type": "code",
   "execution_count": 12,
   "metadata": {},
   "outputs": [],
   "source": [
    "# semisup_model = load_weights(semisup_model, \"./new_weights/noisy_semisup_model_uxxxx_20000_unfinetuned.pth\")"
   ]
  },
  {
   "cell_type": "markdown",
   "metadata": {},
   "source": [
    "#### Fine-tuning the solver network"
   ]
  },
  {
   "cell_type": "code",
   "execution_count": 15,
   "metadata": {},
   "outputs": [
    {
     "name": "stdout",
     "output_type": "stream",
     "text": [
      "6.422686419682577e-05\n",
      "6.422686419682577e-05\n",
      "6.422686419682577e-05\n",
      "6.422686419682577e-05\n",
      "6.422686419682577e-05\n"
     ]
    }
   ],
   "source": [
    "# Fine-tuning the solver network\n",
    "f_opt = torch.optim.LBFGS(semisup_model.network.parameters(), lr=1e-1, max_iter=300, max_eval=int(1.25*300), history_size=300)\n",
    "\n",
    "def finetuning_closure():\n",
    "    global N, X_train, u_train\n",
    "    if torch.is_grad_enabled(): f_opt.zero_grad()\n",
    "    # the solver network only consider the first N samples.\n",
    "    loss = F.mse_loss(semisup_model.network(*dimension_slicing(X_train[:N, :])), u_train[:N, :])\n",
    "    if loss.requires_grad: loss.backward(retain_graph=True)\n",
    "    return loss\n",
    "\n",
    "semisup_model.network.train()\n",
    "semisup_model.selector.eval()\n",
    "\n",
    "for i in range(50):\n",
    "    f_opt.step(finetuning_closure)\n",
    "    if i%10==0:\n",
    "        loss = finetuning_closure()\n",
    "        print(loss.item())"
   ]
  },
  {
   "cell_type": "code",
   "execution_count": 16,
   "metadata": {},
   "outputs": [],
   "source": [
    "referenced_derivatives, u_t = semisup_model.network.gradients_dict(*dimension_slicing(X_star))\n",
    "referenced_derivatives = to_numpy(referenced_derivatives)\n",
    "u_t = to_numpy(u_t)\n",
    "feature_names = ['u', 'u_x', 'u_xx']"
   ]
  },
  {
   "cell_type": "code",
   "execution_count": 17,
   "metadata": {},
   "outputs": [],
   "source": [
    "referenced_derivatives = np.delete(referenced_derivatives, -1, axis=1)\n",
    "referenced_derivatives = np.delete(referenced_derivatives, -1, axis=1)\n",
    "referenced_derivatives = np.delete(referenced_derivatives, 1, axis=1)"
   ]
  },
  {
   "cell_type": "code",
   "execution_count": 18,
   "metadata": {},
   "outputs": [],
   "source": [
    "poly = PolynomialFeatures(degree=2, interaction_only=True, include_bias=False)\n",
    "Theta = poly.fit_transform(referenced_derivatives)\n",
    "\n",
    "poly_feature_names = poly.get_feature_names(feature_names)\n",
    "for i, f in enumerate(poly_feature_names):\n",
    "    poly_feature_names[i] = f.replace(\" \", \"*\")"
   ]
  },
  {
   "cell_type": "code",
   "execution_count": 19,
   "metadata": {},
   "outputs": [
    {
     "name": "stdout",
     "output_type": "stream",
     "text": [
      "The outputs can be used by the TrainSGTRidge function.\n"
     ]
    }
   ],
   "source": [
    "Theta_grouped, Ut_grouped = create_groups(Theta, u_t, spatial_dims, time_dims)"
   ]
  },
  {
   "cell_type": "code",
   "execution_count": 20,
   "metadata": {},
   "outputs": [
    {
     "name": "stderr",
     "output_type": "stream",
     "text": [
      "/Users/pongpisit/Desktop/Multi-task-Physics-informed-neural-networks/inverse_parametric_burgers/../parametric_pde_diff.py:609: FutureWarning: arrays to stack must be passed as a \"sequence\" type such as list or tuple. Support for non-sequence iterables such as generators is deprecated as of NumPy 1.16 and will raise an error in the future.\n",
      "  candidate_norms[i] = Norm(np.vstack(A[:,i] for A in As), normalize)\n",
      "/Users/pongpisit/Desktop/Multi-task-Physics-informed-neural-networks/inverse_parametric_burgers/../parametric_pde_diff.py:579: FutureWarning: `rcond` parameter will change to the default of machine precision times ``max(M, N)`` where M and N are the input matrix dimensions.\n",
      "To use the future default and silence this warning we advise to pass `rcond=None`, to keep using the old, explicitly pass `rcond=-1`.\n",
      "  W[biginds,i] = np.linalg.lstsq(Xs[i][:, biginds],ys[i])[0].reshape(len(biginds))\n"
     ]
    }
   ],
   "source": [
    "Xi,Tol,Losses = TrainSGTRidge(Theta_grouped, Ut_grouped)\n",
    "xi = Xi[np.argmin(Losses)]"
   ]
  },
  {
   "cell_type": "code",
   "execution_count": 21,
   "metadata": {},
   "outputs": [
    {
     "data": {
      "text/plain": [
       "['u', 'u_x', 'u_xx', 'u*u_x', 'u*u_xx', 'u_x*u_xx']"
      ]
     },
     "execution_count": 21,
     "metadata": {},
     "output_type": "execute_result"
    }
   ],
   "source": [
    "poly_feature_names"
   ]
  },
  {
   "cell_type": "markdown",
   "metadata": {},
   "source": [
    "#### Plotting the results"
   ]
  },
  {
   "cell_type": "code",
   "execution_count": 22,
   "metadata": {},
   "outputs": [
    {
     "name": "stdout",
     "output_type": "stream",
     "text": [
      "2 -> u_xx\n",
      "3 -> u*u_x\n"
     ]
    },
    {
     "data": {
      "text/plain": [
       "<matplotlib.legend.Legend at 0x1559236d0>"
      ]
     },
     "execution_count": 22,
     "metadata": {},
     "output_type": "execute_result"
    },
    {
     "data": {
      "image/png": "[encoded data removed]",
      "text/plain": [
       "<Figure size 864x576 with 1 Axes>"
      ]
     },
     "metadata": {
      "needs_background": "light"
     },
     "output_type": "display_data"
    }
   ],
   "source": [
    "pylab.rcParams['figure.figsize'] = (12, 8)\n",
    "for j in range(xi.shape[0]): \n",
    "    if np.linalg.norm(xi[j,:]) > 10**-10:\n",
    "        print(j, '->', poly_feature_names[j])\n",
    "        plot(xi[j,:], label = poly_feature_names[j])\n",
    "\n",
    "title('Burgers Equation Coefficients', fontsize = 16)\n",
    "xlabel('Time', fontsize = 16)\n",
    "ylabel('Coefficient Value', fontsize = 16)\n",
    "legend(loc='center left', bbox_to_anchor=(1, 0.5), fontsize = 14)"
   ]
  },
  {
   "cell_type": "code",
   "execution_count": 23,
   "metadata": {},
   "outputs": [
    {
     "name": "stdout",
     "output_type": "stream",
     "text": [
      "Running on julia -O3 /var/folders/z3/_stfms3523dd5mnfr3ch5n100000gp/T/tmplkj6hgj_/runfile.jl\n",
      "Activating environment on workers.\n",
      "      From worker 4:\t  Activating environment at `/usr/local/lib/python3.9/site-packages/Project.toml`\n",
      "      From worker 3:\t  Activating environment at `/usr/local/lib/python3.9/site-packages/Project.toml`\n",
      "      From worker 5:\t  Activating environment at `/usr/local/lib/python3.9/site-packages/Project.toml`\n",
      "      From worker 2:\t  Activating environment at `/usr/local/lib/python3.9/site-packages/Project.toml`\n",
      "Importing installed module on workers...Finished!\n",
      "Testing module on workers...Finished!\n",
      "Testing entire pipeline on workers...Finished!\n",
      "Started!\n",
      "\n",
      "Cycles per second: 5.480e+02\n",
      "Head worker occupation: 2.1%\n",
      "Progress: 1 / 250 total iterations (0.400%)\n",
      "==============================\n",
      "Hall of Fame:\n",
      "-----------------------------------------\n",
      "Complexity  Loss       Score     Equation\n",
      "1           2.420e-02  -0.000e+00  -1.0548803\n",
      "5           2.414e-02  6.300e-04  (-1.0414143 + (-0.0026919472 * x0))\n",
      "6           2.727e-03  2.181e+00  (-1.0147734 + (-0.2202415 * sin(x0)))\n",
      "8           1.689e-03  2.395e-01  (-1.0091552 + (-0.22477338 * sin(0.96490824 * x0)))\n",
      "10          1.532e-03  4.884e-02  (-1.0081918 + (-0.22329181 * sin(0.15368977 + (0.9419107 * x0))))\n",
      "15          1.078e-03  7.026e-02  (-1.0081656 + (-0.32886824 * (sin(0.95416546 * x0) * sin(cos(cos(-1.123338 * x0))))))\n",
      "17          9.447e-04  6.611e-02  (-1.0258989 + (-0.32880175 * (sin(0.2526325 + (0.92973614 * x0)) * sin(cos(cos(0.41516525 * x0))))))\n",
      "\n",
      "==============================\n",
      "\n",
      "Cycles per second: 1.680e+03\n",
      "Head worker occupation: 1.7%\n",
      "Progress: 2 / 250 total iterations (0.800%)\n",
      "==============================\n",
      "Hall of Fame:\n",
      "-----------------------------------------\n",
      "Complexity  Loss       Score     Equation\n",
      "1           2.420e-02  -0.000e+00  -1.0548803\n",
      "5           2.414e-02  6.300e-04  (-1.0414143 + (-0.0026919472 * x0))\n",
      "6           2.727e-03  2.181e+00  (-1.0147734 + (-0.2202415 * sin(x0)))\n",
      "8           1.689e-03  2.395e-01  (-1.0091552 + (-0.22477338 * sin(0.96490824 * x0)))\n",
      "10          1.532e-03  4.884e-02  (-1.0081918 + (-0.22329181 * sin(0.15368977 + (0.9419107 * x0))))\n",
      "15          1.078e-03  7.026e-02  (-1.0081656 + (-0.32886824 * (sin(0.95416546 * x0) * sin(cos(cos(-1.123338 * x0))))))\n",
      "17          9.447e-04  6.611e-02  (-1.0258989 + (-0.32880175 * (sin(0.2526325 + (0.92973614 * x0)) * sin(cos(cos(0.41516525 * x0))))))\n",
      "\n",
      "==============================\n",
      "\n",
      "Cycles per second: 4.120e+03\n",
      "Head worker occupation: 1.7%\n",
      "Progress: 3 / 250 total iterations (1.200%)\n",
      "==============================\n",
      "Hall of Fame:\n",
      "-----------------------------------------\n",
      "Complexity  Loss       Score     Equation\n",
      "1           2.420e-02  -0.000e+00  -1.0548803\n",
      "5           2.414e-02  6.300e-04  (-1.0414143 + (-0.0026919472 * x0))\n",
      "6           2.727e-03  2.181e+00  (-1.0147734 + (-0.2202415 * sin(x0)))\n",
      "8           1.689e-03  2.395e-01  (-1.0091552 + (-0.22477338 * sin(0.96490824 * x0)))\n",
      "10          1.532e-03  4.884e-02  (-1.0081918 + (-0.22329181 * sin(0.15368977 + (0.9419107 * x0))))\n",
      "15          1.078e-03  7.026e-02  (-1.0081656 + (-0.32886824 * (sin(0.95416546 * x0) * sin(cos(cos(-1.123338 * x0))))))\n",
      "17          9.447e-04  6.611e-02  (-1.0258989 + (-0.32880175 * (sin(0.2526325 + (0.92973614 * x0)) * sin(cos(cos(0.41516525 * x0))))))\n",
      "\n",
      "==============================\n",
      "\n",
      "Cycles per second: 3.510e+03\n",
      "Head worker occupation: 1.4%\n",
      "Progress: 4 / 250 total iterations (1.600%)\n",
      "==============================\n",
      "Hall of Fame:\n",
      "-----------------------------------------\n",
      "Complexity  Loss       Score     Equation\n",
      "1           2.420e-02  -0.000e+00  -1.0548803\n",
      "5           2.414e-02  6.300e-04  (-1.0414143 + (-0.0026919472 * x0))\n",
      "6           2.727e-03  2.181e+00  (-1.0147734 + (-0.2202415 * sin(x0)))\n",
      "8           1.689e-03  2.395e-01  (-1.0091552 + (-0.22477338 * sin(0.96490824 * x0)))\n",
      "10          1.532e-03  4.884e-02  (-1.0081918 + (-0.22329181 * sin(0.15368977 + (0.9419107 * x0))))\n",
      "15          1.078e-03  7.026e-02  (-1.0081656 + (-0.32886824 * (sin(0.95416546 * x0) * sin(cos(cos(-1.123338 * x0))))))\n",
      "17          9.447e-04  6.611e-02  (-1.0258989 + (-0.32880175 * (sin(0.2526325 + (0.92973614 * x0)) * sin(cos(cos(0.41516525 * x0))))))\n",
      "\n",
      "==============================\n",
      "\n",
      "Cycles per second: 3.960e+03\n",
      "Head worker occupation: 1.4%\n",
      "Progress: 5 / 250 total iterations (2.000%)\n",
      "==============================\n",
      "Hall of Fame:\n",
      "-----------------------------------------\n",
      "Complexity  Loss       Score     Equation\n",
      "1           2.420e-02  -0.000e+00  -1.0548803\n",
      "5           2.414e-02  6.300e-04  (-1.0414143 + (-0.0026919472 * x0))\n",
      "6           2.727e-03  2.181e+00  (-1.0147734 + (-0.2202415 * sin(x0)))\n",
      "8           1.689e-03  2.395e-01  (-1.0091552 + (-0.22477338 * sin(0.96490824 * x0)))\n",
      "10          1.532e-03  4.884e-02  (-1.0081918 + (-0.22329181 * sin(0.15368977 + (0.9419107 * x0))))\n",
      "15          1.078e-03  7.026e-02  (-1.0081656 + (-0.32886824 * (sin(0.95416546 * x0) * sin(cos(cos(-1.123338 * x0))))))\n",
      "17          9.447e-04  6.611e-02  (-1.0258989 + (-0.32880175 * (sin(0.2526325 + (0.92973614 * x0)) * sin(cos(cos(0.41516525 * x0))))))\n",
      "\n",
      "==============================\n",
      "\n",
      "Cycles per second: 6.300e+03\n",
      "Head worker occupation: 1.4%\n",
      "Progress: 7 / 250 total iterations (2.800%)\n",
      "==============================\n",
      "Hall of Fame:\n",
      "-----------------------------------------\n",
      "Complexity  Loss       Score     Equation\n",
      "1           2.420e-02  -0.000e+00  -1.0548803\n",
      "5           2.414e-02  6.300e-04  (-1.0414143 + (-0.0026919472 * x0))\n",
      "6           2.727e-03  2.181e+00  (-1.0147734 + (-0.2202415 * sin(x0)))\n",
      "8           1.689e-03  2.395e-01  (-1.0091552 + (-0.22477338 * sin(0.96490824 * x0)))\n",
      "10          1.532e-03  4.884e-02  (-1.0081918 + (-0.22329181 * sin(0.15368977 + (0.9419107 * x0))))\n",
      "15          1.078e-03  7.026e-02  (-1.0081656 + (-0.32886824 * (sin(0.95416546 * x0) * sin(cos(cos(-1.123338 * x0))))))\n",
      "17          9.447e-04  6.611e-02  (-1.0258989 + (-0.32880175 * (sin(0.2526325 + (0.92973614 * x0)) * sin(cos(cos(0.41516525 * x0))))))\n",
      "\n",
      "==============================\n"
     ]
    }
   ],
   "source": [
    "# Using PySR to discovry right away is not good (works sometimes, sometimes not!)\n",
    "# if the derivatives are calculated using a neural network.\n",
    "equations = pysr(\n",
    "    t, xi[3, :],\n",
    "    populations=50, npop=1500, niterations=5,\n",
    "    binary_operators=[\"+\", \"*\"],\n",
    "    unary_operators=[\"sin\", \"cos\"],\n",
    ")"
   ]
  },
  {
   "cell_type": "code",
   "execution_count": 24,
   "metadata": {},
   "outputs": [
    {
     "data": {
      "text/latex": [
       "$\\displaystyle - 0.2202415 \\sin{\\left(x_{0} \\right)} - 1.0147734$"
      ],
      "text/plain": [
       "-0.2202415*sin(x0) - 1.0147734"
      ]
     },
     "execution_count": 24,
     "metadata": {},
     "output_type": "execute_result"
    }
   ],
   "source": [
    "best(equations)"
   ]
  },
  {
   "cell_type": "code",
   "execution_count": 25,
   "metadata": {},
   "outputs": [],
   "source": [
    "### Noisless results ###\n",
    "\n",
    "# Feature importance, noisless, 20000 samples\n",
    "# [u, (t, x), u_x, u_xx, u_xxx, u_xxxx] use this one, −0.2202415sin(t)−1.0147734\n",
    "# [0.3749, 0.5576, 0.2653, 0.4035, 0.1606, 0.1559]\n",
    "\n",
    "# [u, t, u_x, u_xx, u_xxx] # −0.17302118sin(t)−1.0449685\n",
    "# [0.2571, 0.4659, 0.3104, 0.6222, 0.1864]\n",
    "\n",
    "# [t, x, u, u_x, u_xx, u_xxx]\n",
    "# [0.3860, 0.3632, 0.3038, 0.5936, 0.3489, 0.1597]\n",
    "\n",
    "### Noissy results ###\n",
    "\n",
    "# Feature importance, noisy, 20000 samples, (-1.0178235 + (-0.21506631 * sin(t)))\n",
    "# [u, (t, x), u_x, u_xx, u_xxx, u_xxxx]\n",
    "# [0.2303, 0.3966, 0.5148, 0.2597, 0.1668, 0.1542]"
   ]
  },
  {
   "cell_type": "code",
   "execution_count": null,
   "metadata": {},
   "outputs": [],
   "source": []
  }
 ],
 "metadata": {
  "kernelspec": {
   "display_name": "Python 3",
   "language": "python",
   "name": "python3"
  },
  "language_info": {
   "codemirror_mode": {
    "name": "ipython",
    "version": 3
   },
   "file_extension": ".py",
   "mimetype": "text/x-python",
   "name": "python",
   "nbconvert_exporter": "python",
   "pygments_lexer": "ipython3",
   "version": "3.9.7"
  }
 },
 "nbformat": 4,
 "nbformat_minor": 4
}
