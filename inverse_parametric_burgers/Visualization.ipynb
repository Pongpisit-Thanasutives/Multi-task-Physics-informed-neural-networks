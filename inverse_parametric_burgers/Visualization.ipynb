{
 "cells": [
  {
   "cell_type": "code",
   "execution_count": 1,
   "metadata": {},
   "outputs": [
    {
     "name": "stdout",
     "output_type": "stream",
     "text": [
      "Populating the interactive namespace from numpy and matplotlib\n",
      "Running Python 3.9.8\n",
      "You can use npar for np.array\n"
     ]
    }
   ],
   "source": [
    "%pylab inline\n",
    "\n",
    "# plotting\n",
    "%matplotlib inline\n",
    "import matplotlib.pyplot as plt\n",
    "plt.rcParams.update({'font.size': 10})\n",
    "plt.style.use('science')\n",
    "import matplotlib.gridspec as gridspec\n",
    "from mpl_toolkits.axes_grid1 import make_axes_locatable\n",
    "\n",
    "import numpy as np\n",
    "from sympy import sympify\n",
    "import sys; sys.path.insert(0, \"../\"); from utils import *\n",
    "from models import SympyTorch, PartialDerivativeCalculator, CoeffLearner\n",
    "from parametric_discovery_pinn import ParametricPINN, BurgerPINN, FinalParametricPINN, RobustPCANN\n",
    "from pytorch_robust_pca import *\n",
    "from madgrad import MADGRAD\n",
    "\n",
    "from pde_diff import TrainSTRidge, FiniteDiff, print_pde\n",
    "from robust_pde_diff import print_pde, RobustPCA, Robust_LRSTR\n",
    "from parametric_pde_diff import TrainSGTRidge, create_groups\n",
    "\n",
    "from scipy.integrate import odeint\n",
    "from numpy.fft import fft, ifft, fftfreq\n",
    "from time import time\n",
    "\n",
    "from pysr import pysr, best\n",
    "\n",
    "fontsize = 20"
   ]
  },
  {
   "cell_type": "code",
   "execution_count": 2,
   "metadata": {},
   "outputs": [
    {
     "name": "stdout",
     "output_type": "stream",
     "text": [
      "Loaded from ../parametric_pde_data/parametric_burgers.pkl\n",
      "Denoising on\n",
      "Clean (x, t)\n",
      "Clean labels\n"
     ]
    }
   ],
   "source": [
    "data = pickle_load(\"../parametric_pde_data/parametric_burgers.pkl\")\n",
    "\n",
    "x = data['x']; spatial_dims = x.shape[0]\n",
    "t = data['t']; time_dims = t.shape[0]\n",
    "\n",
    "Exact = data['u']\n",
    "X, T = np.meshgrid(x, t)\n",
    "\n",
    "# Adding noise\n",
    "noise_intensity = 0.01\n",
    "NOISELESS_MODE = False\n",
    "if NOISELESS_MODE: print(\"Denoising off\")\n",
    "else: print(\"Denoising on\")\n",
    "noisy_xt = False; noisy_labels = False; mode = int(noisy_xt)+int(noisy_labels)\n",
    "\n",
    "X_star = np.hstack((to_column_vector(X), to_column_vector(T)))\n",
    "u_star = to_column_vector(Exact.T)\n",
    "\n",
    "# domain bounds\n",
    "lb = X_star.min(axis=0)\n",
    "ub = X_star.max(axis=0)\n",
    "\n",
    "# Sampling training data points\n",
    "N = 25000\n",
    "training_idxs = sampling_from_rows(X_star, N, True)\n",
    "X_train = X_star[training_idxs, :]\n",
    "u_train = u_star[training_idxs, :]\n",
    "\n",
    "# Add noise to (x, t) before setting the lb, and ub.\n",
    "if noisy_xt: \n",
    "    print(\"Noisy (x, t)\")\n",
    "    X_train_clean = X_train\n",
    "    X_train = perturb(X_train, intensity=noise_intensity, noise_type=\"normal\")\n",
    "else: print(\"Clean (x, t)\")\n",
    "if noisy_labels:\n",
    "    print(\"Noisy labels\")\n",
    "    u_train_clean = u_train\n",
    "    u_train = perturb(u_train, intensity=noise_intensity, noise_type=\"normal\")\n",
    "else: print(\"Clean labels\")\n",
    "\n",
    "# converting to tensor\n",
    "X_star = to_tensor(X_star, True)\n",
    "X_train = to_tensor(X_train, True)\n",
    "u_train = to_tensor(u_train, False)\n",
    "lb = to_tensor(lb, False)\n",
    "ub = to_tensor(ub, False)\n",
    "\n",
    "u_xx_true = 0.1*np.ones(time_dims)\n",
    "uu_x_true = -1*(1+0.25*np.sin(t))\n",
    "\n",
    "feature_names = ['u', 'u_x', 'u_xx']\n",
    "\n",
    "# del X_star, u_star, X, T, Exact, data"
   ]
  },
  {
   "cell_type": "code",
   "execution_count": 3,
   "metadata": {},
   "outputs": [],
   "source": [
    "# 1st stage results\n",
    "# Clean all: −0.2202415sin(t)−1.0147734\n",
    "# Noisy1: −0.21593435sin(t)−1.0181545\n",
    "# Noisy2 (-1.0178235 + (-0.21506631 * sin(t))) | \"-0.1872898*sin(t)-1.0238724\""
   ]
  },
  {
   "cell_type": "code",
   "execution_count": 4,
   "metadata": {},
   "outputs": [
    {
     "name": "stdout",
     "output_type": "stream",
     "text": [
      "Loaded the pretrained weights\n"
     ]
    }
   ],
   "source": [
    "pinn = ParametricPINN(scale=False, lb=lb, ub=ub)\n",
    "print(\"Loaded the pretrained weights\")\n",
    "pinn.load_state_dict(torch.load(\"./saved_path_inverse_parametric_burgers/parametric_pinn.pth\"))\n",
    "model = nn.Sequential(pinn.preprocessor_net, pinn.pde_solver_net)\n",
    "\n",
    "if mode == 0 or mode > 2: func_terms = [\"-0.2202415*sin(t)-1.0147734\", \"0.09875935\"]\n",
    "elif mode == 1: func_terms = [\"-0.21593435*sin(t)-1.0181545\", \"0.09875935\"]\n",
    "elif mode == 2: func_terms = [\"-0.1872898*sin(t)-1.0238724\", \"0.09875935\"]\n",
    "\n",
    "pde_terms = [\"u*u_x\", \"u_xx\"]\n",
    "final_burger_pinn = FinalParametricPINN(model=model, pde_terms=pde_terms, func_terms=func_terms, uncert=True, scale=pinn.scale, lb=pinn.lb, ub=pinn.ub)\n",
    "del pinn"
   ]
  },
  {
   "cell_type": "code",
   "execution_count": 5,
   "metadata": {},
   "outputs": [],
   "source": [
    "_, x_fft, x_PSD = fft1d_denoise(X_train[:, 0:1], c=-5, return_real=True)\n",
    "_, t_fft, t_PSD = fft1d_denoise(X_train[:, 1:2], c=-5, return_real=True)\n",
    "_, u_train_fft, u_train_PSD = fft1d_denoise(u_train, c=-5, return_real=True)\n",
    "x_fft, x_PSD = x_fft.detach(), x_PSD.detach()\n",
    "t_fft, t_PSD = t_fft.detach(), t_PSD.detach()"
   ]
  },
  {
   "cell_type": "code",
   "execution_count": 6,
   "metadata": {},
   "outputs": [],
   "source": [
    "### New implementation ###\n",
    "class RobustFinalParametricPINN(nn.Module):\n",
    "    def __init__(self, pinn, init_cs=(0.1, 0.1), init_betas=(0.0, 0.0), noiseless_mode=True):\n",
    "        super(RobustFinalParametricPINN, self).__init__()\n",
    "        self.pinn = pinn\n",
    "        self.noiseless_mode = noiseless_mode\n",
    "        self.in_fft_nn = None; self.out_fft_nn = None\n",
    "        self.inp_rpca = None; self.out_rpca = None\n",
    "        if not self.noiseless_mode:\n",
    "            # FFTNN\n",
    "            self.in_fft_nn = FFTTh(c=init_cs[0])\n",
    "            self.out_fft_nn = FFTTh(c=init_cs[1])\n",
    "\n",
    "            # Robust Beta-PCA\n",
    "            self.inp_rpca = RobustPCANN(beta=init_betas[0], is_beta_trainable=True, inp_dims=2, hidden_dims=32)\n",
    "            self.out_rpca = RobustPCANN(beta=init_betas[1], is_beta_trainable=True, inp_dims=1, hidden_dims=32)\n",
    "\n",
    "    def forward(self, x, t):\n",
    "        return self.pinn(x, t)\n",
    "\n",
    "    def loss(self, X_input, X_input_noise, y_input, y_input_noise):\n",
    "        if not self.noiseless_mode:\n",
    "            # (1) Denoising FFT on (x, t)\n",
    "            # This line returns the approx. recon.\n",
    "            X_input_noise = cat(torch.fft.ifft(self.in_fft_nn(X_input_noise[1])*X_input_noise[0]).real.reshape(-1, 1), \n",
    "                                torch.fft.ifft(self.in_fft_nn(X_input_noise[3])*X_input_noise[2]).real.reshape(-1, 1))\n",
    "            X_input_noise = X_input-X_input_noise\n",
    "            X_input = self.inp_rpca(X_input, X_input_noise, normalize=True)\n",
    "            \n",
    "            # (2) Denoising FFT on y_input\n",
    "            y_input_noise = y_input-torch.fft.ifft(self.out_fft_nn(y_input_noise[1])*y_input_noise[0]).real.reshape(-1, 1)\n",
    "            y_input = self.out_rpca(y_input, y_input_noise, normalize=True)\n",
    "            \n",
    "        return self.pinn.loss(X_input[:, 0:1], X_input[:, 1:2], y_input)"
   ]
  },
  {
   "cell_type": "code",
   "execution_count": 7,
   "metadata": {},
   "outputs": [],
   "source": [
    "robust_buger_pinn = RobustFinalParametricPINN(pinn=final_burger_pinn, noiseless_mode=NOISELESS_MODE)"
   ]
  },
  {
   "cell_type": "code",
   "execution_count": 8,
   "metadata": {},
   "outputs": [],
   "source": [
    "def pcgrad_closure(return_list=False):\n",
    "    global N, X_train, X_train_L, X_train_S, u_train\n",
    "    losses = robust_buger_pinn.loss(X_train, (x_fft, x_PSD, t_fft, t_PSD), u_train, (u_train_fft, u_train_PSD))\n",
    "    updated_grads = []\n",
    "    \n",
    "    for i in range(2):\n",
    "        optimizer.zero_grad()\n",
    "        losses[i].backward(retain_graph=True)\n",
    "\n",
    "        g_task = []\n",
    "        for param in robust_buger_pinn.parameters():\n",
    "            if param.grad is not None:\n",
    "                g_task.append(Variable(param.grad.clone(), requires_grad=False))\n",
    "            else:\n",
    "                g_task.append(Variable(torch.zeros(param.shape), requires_grad=False))\n",
    "        # appending the gradients from each task\n",
    "        updated_grads.append(g_task)\n",
    "\n",
    "    updated_grads = list(pcgrad.pc_grad_update(updated_grads))[0]\n",
    "    for idx, param in enumerate(robust_buger_pinn.parameters()):\n",
    "        param.grad = (updated_grads[0][idx]+updated_grads[1][idx])\n",
    "        \n",
    "    if not return_list: return losses[0]+losses[1]\n",
    "    else: return losses"
   ]
  },
  {
   "cell_type": "code",
   "execution_count": 9,
   "metadata": {},
   "outputs": [],
   "source": [
    "def finetuning_closure():\n",
    "    global N, X_train, X_train_L, X_train_S, u_train\n",
    "    if torch.is_grad_enabled(): f_opt.zero_grad()\n",
    "    # the solver network only consider the first N samples.\n",
    "    mse_loss, pde_loss = robust_buger_pinn.loss(X_train, (x_fft, x_PSD, t_fft, t_PSD), u_train, (u_train_fft, u_train_PSD))\n",
    "    loss = mse_loss + pde_loss\n",
    "    if loss.requires_grad: loss.backward(retain_graph=True)\n",
    "    return loss"
   ]
  },
  {
   "cell_type": "code",
   "execution_count": 10,
   "metadata": {},
   "outputs": [
    {
     "name": "stdout",
     "output_type": "stream",
     "text": [
      "Loaded the model's weights properly\n"
     ]
    }
   ],
   "source": [
    "if mode == 0: robust_buger_pinn = load_weights(robust_buger_pinn, \"./saved_path_inverse_parametric_burgers/final_parametric_pinn.pth\")\n",
    "elif mode == 1: robust_buger_pinn = load_weights(robust_buger_pinn, \"./saved_path_inverse_parametric_burgers/noisy_final_doublerpca_parametric_pinn(new).pth\")\n",
    "elif mode == 2: robust_buger_pinn = load_weights(robust_buger_pinn, \"./saved_path_inverse_parametric_burgers/noisy2_final_doublerpca_parametric_pinn.pth\")"
   ]
  },
  {
   "cell_type": "code",
   "execution_count": 11,
   "metadata": {},
   "outputs": [],
   "source": [
    "# epochs = 50 # 50 for clean all, 10 for noisy1, 50 for noisy2\n",
    "# f_opt = torch.optim.LBFGS(robust_buger_pinn.parameters(), lr=1e-1, max_iter=500, max_eval=int(1.25*500), history_size=300, line_search_fn='strong_wolfe')\n",
    "# final_burger_pinn.is_uncert = False\n",
    "# for i in range(epochs): # 50 for clean all, 10 for noisy1, 50 for noisy2\n",
    "#     f_opt.step(finetuning_closure)\n",
    "#     if i%10==0: print(finetuning_closure())"
   ]
  },
  {
   "cell_type": "code",
   "execution_count": 12,
   "metadata": {},
   "outputs": [
    {
     "data": {
      "text/plain": [
       "0.004565993856538862"
      ]
     },
     "execution_count": 12,
     "metadata": {},
     "output_type": "execute_result"
    }
   ],
   "source": [
    "u_pred = robust_buger_pinn(X_star[:, 0:1], X_star[:, 1:2]).detach().numpy()\n",
    "rel = relative_l2_error(u_pred, u_star)\n",
    "rel"
   ]
  },
  {
   "cell_type": "code",
   "execution_count": 13,
   "metadata": {},
   "outputs": [
    {
     "data": {
      "image/png": "[encoded data removed]",
      "text/plain": [
       "<Figure size 252x189 with 2 Axes>"
      ]
     },
     "metadata": {
      "needs_background": "light"
     },
     "output_type": "display_data"
    }
   ],
   "source": [
    "fig, ax = plt.subplots(1, 1)\n",
    "\n",
    "h = ax.imshow(Exact.T, interpolation='nearest', cmap='jet', \n",
    "          extent=[lb[0], ub[0], lb[1], ub[1]], \n",
    "          origin='lower', aspect='auto')\n",
    "\n",
    "ax.set_title(\"Exact Dynamics $u_{t} = a(t)uu_{x}+\\epsilon u_{xx}$\\n $a(t)=-1-0.25\\sin(t)$, $\\epsilon = 0.1$\", fontsize = 10)\n",
    "ax.set_xlabel('x')\n",
    "ax.set_ylabel('t')\n",
    "\n",
    "divider = make_axes_locatable(ax)\n",
    "cax = divider.append_axes(\"right\", size=\"5%\", pad=0.05)\n",
    "fig.colorbar(h, cax=cax)\n",
    "\n",
    "# fig.savefig(\"./vis_pics/Exact_Dynamics.png\", dpi=300)\n",
    "plt.show()"
   ]
  },
  {
   "cell_type": "code",
   "execution_count": 14,
   "metadata": {},
   "outputs": [
    {
     "data": {
      "image/png": "[encoded data removed]",
      "text/plain": [
       "<Figure size 252x189 with 2 Axes>"
      ]
     },
     "metadata": {
      "needs_background": "light"
     },
     "output_type": "display_data"
    }
   ],
   "source": [
    "fig, ax = plt.subplots(1, 1)\n",
    "\n",
    "h = ax.imshow(u_pred.reshape(X.T.shape), interpolation='nearest', cmap='jet', \n",
    "          extent=[lb[0], ub[0], lb[1], ub[1]], \n",
    "          origin='lower', aspect='auto')\n",
    "\n",
    "# [-1.00296175, -0.23732963,  0.09999029]\n",
    "# [-1.00088429, -0.24525967,  0.10000382]\n",
    "# [-1.00312865, -0.24390902,  0.09959546]\n",
    "\n",
    "ax.set_title(\"Learned Dynamics $u_{t} = a(t)uu_{x}+\\epsilon u_{xx}$\\n $a(t)=-1.002962-0.237330\\sin(t)$, $\\epsilon = 0.0999905$\", fontsize = 10)\n",
    "# ax.set_title(\"Learned Dynamics $u_{t} = a(t)uu_{x}+\\epsilon u_{xx}$\\n $a(t)=-1.000884-0.245260\\sin(t)$, $\\epsilon = 0.100004$\", fontsize = 10)\n",
    "# ax.set_title(\"Learned Dynamics $u_{t} = a(t)uu_{x}+\\epsilon u_{xx}$\\n $a(t)=-1.003129-0.243909\\sin(t)$, $\\epsilon = 0.099595$\", fontsize = 10)\n",
    "ax.set_xlabel('x')\n",
    "ax.set_ylabel('t')\n",
    "\n",
    "divider = make_axes_locatable(ax)\n",
    "cax = divider.append_axes(\"right\", size=\"5%\", pad=0.05)\n",
    "fig.colorbar(h, cax=cax)\n",
    "\n",
    "fig.savefig(\"./vis_pics/Learned_Dynamics_cleanall.png\", dpi=300)\n",
    "plt.show()"
   ]
  },
  {
   "cell_type": "code",
   "execution_count": 15,
   "metadata": {},
   "outputs": [],
   "source": [
    "# Newer results\n",
    "# w/o DFT\n",
    "# Clean all\n",
    "# array([-0.99938607, -0.2458773 ,  0.09999527])\n",
    "# (0.5717347065607725, 0.7621505091153221)\n",
    "# Noisy1\n",
    "# array([-1.00576413, -0.24115856,  0.0996802])\n",
    "# (1.4775961637496966, 1.4596828696863098)\n",
    "# Noisy2\n",
    "# array([-1.00304902, -0.2355555 ,  0.09983284])\n",
    "# (2.0832871397336343, 2.6130202986986424)\n",
    "\n",
    "# w/ DFT\n",
    "# Clean all | relative l2 error = 0.004565993856538862\n",
    "# array([-1.00296175, -0.23732963,  0.09999029])\n",
    "# (1.7913455764452635, 2.3199980760307097)\n",
    "# Noisy1 | relative l2 error = 0.003108601268109189\n",
    "# array([-1.00088429, -0.24525967,  0.10000382])\n",
    "# (0.66279222567876, 0.8727860836843953)\n",
    "# Noisy2 | relative l2 error = 0.005160425289619849\n",
    "# array([-1.00312865, -0.24390902,  0.09959546])\n",
    "# (1.0512669881184913, 0.980147199375116)"
   ]
  },
  {
   "cell_type": "code",
   "execution_count": 16,
   "metadata": {},
   "outputs": [],
   "source": [
    "# New results\n",
    "\n",
    "# Noisy Exact & Noisy (x, t) & X_train = X_train - self.beta2*self.proj(S) | beta1 = 0.0\n",
    "# an attempt with reasonable results\n",
    "# params: [-0.9991318583488464, -0.23970049619674683, 0.10075154900550842]\n",
    "# errs: (1.6527215639750146, 1.7654708038535187)\n",
    "\n",
    "# Noisy Exact & Clean (x, t) & rpca on (x, t) and rpca on Exact (double rpca)\n",
    "# Exp NO. 1\n",
    "# array([-1.00097609, -0.24441387,  0.10007171])\n",
    "# (0.8012558023134849, 1.0134786013527548)\n",
    "# (Parameter containing:\n",
    "#  tensor([0.0005], requires_grad=True),\n",
    "#  Parameter containing:\n",
    "#  tensor([-0.0059], requires_grad=True))\n",
    "\n",
    "# Noisy Exact & Noisy (x, t) & rpca on (x, t) and rpca on Exact (double rpca)\n",
    "# Exp NO. 1\n",
    "# params: [-1.0021382570266724, -0.24129116535186768, 0.09974975883960724]\n",
    "# errs (1.3158669074376441, 1.5328440955479825)\n",
    "# (0.0,\n",
    "#  Parameter containing:\n",
    "#  tensor([-0.0181], requires_grad=True),\n",
    "#  Parameter containing:\n",
    "#  tensor([0.0015], requires_grad=True))\n",
    "# Exp NO. 2\n",
    "# array([-1.00135529, -0.24140678,  0.09927386])\n",
    "# (1.4329850673675555, 1.437619261928569)\n",
    "# (Parameter containing:\n",
    "#  tensor([0.0010], requires_grad=True),\n",
    "#  Parameter containing:\n",
    "#  tensor([0.0194], requires_grad=True))"
   ]
  },
  {
   "cell_type": "code",
   "execution_count": 17,
   "metadata": {},
   "outputs": [],
   "source": [
    "# Clean Exact and clean (x, t) | final_parametric_pinn.pth\n",
    "# params: [-1.0013394355773926, -0.2480146884918213, 0.0997583195567131]\n",
    "# errs: (0.38991620143254785, 0.28918291006992664)\n",
    "\n",
    "# Noisy Exact and clean (x, t)\n",
    "# params: [-1.0029208660125732, -0.24306637048721313, 0.09983817487955093]\n",
    "# errs: (1.075787842273714, 1.2016070382040953)\n",
    "\n",
    "# Noisy Exact and Noisy (x, t)\n",
    "# params: [-1.0028020143508911, -0.24078042805194855, 0.10122136771678925]\n",
    "# errs: (1.729799310366311, 1.4368618683618857)\n",
    "\n",
    "# ---\n",
    "\n",
    "# Noisy Exact & Clean (x, t) & X_star = X_star_L+X_star_S\n",
    "# params: [-1.000922441482544, -0.24657735228538513, 0.09988813102245331]\n",
    "# errs: (0.5243907372156797, 0.5973244500071551)\n",
    "# Noisy Exact & Noisy (x, t) & X_star = X_star_L+X_star_S\n",
    "# params: [-1.0046403408050537, -0.24455536901950836, 0.1004636213183403]\n",
    "# errs: (1.035169263680774, 0.8079990064924926)"
   ]
  },
  {
   "cell_type": "code",
   "execution_count": 18,
   "metadata": {},
   "outputs": [],
   "source": [
    "# save(final_burger_pinn, \"./saved_path_inverse_parametric_burgers/noisy_final_parametric_pinn.pth\")\n",
    "# save(final_burger_pinn, \"./saved_path_inverse_parametric_burgers/noisy2_final_parametric_pinn.pth\")"
   ]
  },
  {
   "cell_type": "code",
   "execution_count": null,
   "metadata": {},
   "outputs": [],
   "source": []
  },
  {
   "cell_type": "code",
   "execution_count": null,
   "metadata": {},
   "outputs": [],
   "source": []
  }
 ],
 "metadata": {
  "kernelspec": {
   "display_name": "Python 3",
   "language": "python",
   "name": "python3"
  },
  "language_info": {
   "codemirror_mode": {
    "name": "ipython",
    "version": 3
   },
   "file_extension": ".py",
   "mimetype": "text/x-python",
   "name": "python",
   "nbconvert_exporter": "python",
   "pygments_lexer": "ipython3",
   "version": "3.9.8"
  }
 },
 "nbformat": 4,
 "nbformat_minor": 4
}
