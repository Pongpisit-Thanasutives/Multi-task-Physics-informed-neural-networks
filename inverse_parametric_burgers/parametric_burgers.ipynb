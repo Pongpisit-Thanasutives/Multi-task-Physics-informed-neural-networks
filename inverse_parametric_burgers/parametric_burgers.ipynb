{
 "cells": [
  {
   "cell_type": "code",
   "execution_count": 1,
   "metadata": {},
   "outputs": [
    {
     "name": "stdout",
     "output_type": "stream",
     "text": [
      "Populating the interactive namespace from numpy and matplotlib\n"
     ]
    }
   ],
   "source": [
    "%pylab inline\n",
    "%matplotlib inline\n",
    "import matplotlib.pyplot as plt\n",
    "\n",
    "import numpy as np\n",
    "import sys; sys.path.insert(0, \"../\"); from utils import *\n",
    "from parametric_discovery_pinn import ParametricPINN\n",
    "from madgrad import MADGRAD\n",
    "\n",
    "from pde_diff import TrainSTRidge, FiniteDiff, print_pde\n",
    "from robust_pde_diff import print_pde, RobustPCA, Robust_LRSTR\n",
    "from parametric_pde_diff import TrainSGTRidge, create_groups\n",
    "\n",
    "from scipy.integrate import odeint\n",
    "from numpy.fft import fft, ifft, fftfreq\n",
    "from time import time\n",
    "\n",
    "from pysr import pysr, best\n",
    "\n",
    "fontsize = 20"
   ]
  },
  {
   "cell_type": "code",
   "execution_count": 2,
   "metadata": {},
   "outputs": [
    {
     "name": "stdout",
     "output_type": "stream",
     "text": [
      "Loaded from ../parametric_pde_data/parametric_burgers.pkl\n"
     ]
    }
   ],
   "source": [
    "data = pickle_load(\"../parametric_pde_data/parametric_burgers.pkl\")\n",
    "\n",
    "x = data['x']; spatial_dims = x.shape[0]\n",
    "t = data['t']; time_dims = t.shape[0]\n",
    "\n",
    "Exact = data['u']\n",
    "X, T = np.meshgrid(x, t)\n",
    "\n",
    "X_star = np.hstack((to_column_vector(X), to_column_vector(T)))\n",
    "u_star = to_column_vector(Exact.T)\n",
    "\n",
    "# domain bounds\n",
    "lb = X_star.min(axis=0)\n",
    "ub = X_star.max(axis=0)\n",
    "\n",
    "# Sampling training data points\n",
    "N = 20000\n",
    "training_idxs = sampling_from_rows(X_star, N, True)\n",
    "X_train = X_star[training_idxs, :]\n",
    "u_train = u_star[training_idxs, :]\n",
    "\n",
    "# to_tensor\n",
    "X_star = to_tensor(X_star, True)\n",
    "u_star = to_tensor(u_star, False)\n",
    "X_train = to_tensor(X_train, True)\n",
    "u_train = to_tensor(u_train, False)\n",
    "lb = to_tensor(lb, False)\n",
    "ub = to_tensor(ub, False)\n",
    "\n",
    "u_xx_true = 0.1*np.ones(time_dims)\n",
    "uu_x_true = -1*(1+0.25*np.sin(t))"
   ]
  },
  {
   "cell_type": "code",
   "execution_count": 3,
   "metadata": {},
   "outputs": [
    {
     "name": "stdout",
     "output_type": "stream",
     "text": [
      "Loaded the pretrained weights\n"
     ]
    }
   ],
   "source": [
    "pinn = ParametricPINN(scale=False, lb=lb, ub=ub)\n",
    "print(\"Loaded the pretrained weights\")\n",
    "# pinn.load_state_dict(torch.load(\"./saved_path_inverse_parametric_burgers/parametric_pinn.pth\"))"
   ]
  },
  {
   "cell_type": "code",
   "execution_count": 4,
   "metadata": {},
   "outputs": [],
   "source": [
    "def pcgrad_closure(return_list=False):\n",
    "    global N, X_train, u_train\n",
    "    losses = pinn.loss(*dimension_slicing(X_train), u_train)\n",
    "    updated_grads = []\n",
    "    \n",
    "    for i in range(2):\n",
    "        optimizer.zero_grad()\n",
    "        losses[i].backward(retain_graph=True)\n",
    "\n",
    "        g_task = []\n",
    "        for param in pinn.parameters():\n",
    "            if param.grad is not None:\n",
    "                g_task.append(Variable(param.grad.clone(), requires_grad=False))\n",
    "            else:\n",
    "                g_task.append(Variable(torch.zeros(param.shape), requires_grad=False))\n",
    "        # appending the gradients from each task\n",
    "        updated_grads.append(g_task)\n",
    "\n",
    "    updated_grads = list(pcgrad.pc_grad_update(updated_grads))[0]\n",
    "    for idx, param in enumerate(pinn.parameters()):\n",
    "        param.grad = (updated_grads[0][idx]+updated_grads[1][idx])\n",
    "        \n",
    "    if not return_list: return losses[0]+losses[1]\n",
    "    else: return losses"
   ]
  },
  {
   "cell_type": "code",
   "execution_count": 5,
   "metadata": {},
   "outputs": [],
   "source": [
    "def finetuning_closure():\n",
    "    global N, X_train, u_train\n",
    "    if torch.is_grad_enabled(): f_opt.zero_grad()\n",
    "    # the solver network only consider the first N samples.\n",
    "    mse_loss, pde_loss = pinn.loss(*dimension_slicing(X_train), u_train)\n",
    "    loss = mse_loss + pde_loss\n",
    "    if loss.requires_grad: loss.backward(retain_graph=False)\n",
    "    return loss"
   ]
  },
  {
   "cell_type": "code",
   "execution_count": null,
   "metadata": {},
   "outputs": [],
   "source": []
  },
  {
   "cell_type": "markdown",
   "metadata": {},
   "source": [
    "#### Finding the eqs"
   ]
  },
  {
   "cell_type": "code",
   "execution_count": 15,
   "metadata": {},
   "outputs": [
    {
     "name": "stdout",
     "output_type": "stream",
     "text": [
      "['u', 'u_x', 'u_xx']\n"
     ]
    }
   ],
   "source": [
    "grads_dict = pinn.gradients_dict(*dimension_slicing(X_star))\n",
    "\n",
    "feature_names = list(grads_dict.keys())\n",
    "u_t_index = feature_names.index('u_t')\n",
    "\n",
    "referenced_derivatives = np.hstack([t.detach().numpy() for t in list(grads_dict.values())])\n",
    "u_t = referenced_derivatives[:, u_t_index:u_t_index+1]\n",
    "\n",
    "referenced_derivatives = np.delete(referenced_derivatives, u_t_index, 1)\n",
    "del feature_names[u_t_index]\n",
    "\n",
    "print(feature_names)"
   ]
  },
  {
   "cell_type": "code",
   "execution_count": 16,
   "metadata": {},
   "outputs": [],
   "source": [
    "poly = PolynomialFeatures(degree=2, interaction_only=True, include_bias=False)\n",
    "Theta = poly.fit_transform(referenced_derivatives)\n",
    "\n",
    "poly_feature_names = poly.get_feature_names(feature_names)\n",
    "for i, f in enumerate(poly_feature_names):\n",
    "    poly_feature_names[i] = f.replace(\" \", \"*\")"
   ]
  },
  {
   "cell_type": "code",
   "execution_count": 17,
   "metadata": {},
   "outputs": [
    {
     "name": "stdout",
     "output_type": "stream",
     "text": [
      "The outputs can be used by the TrainSGTRidge function.\n"
     ]
    }
   ],
   "source": [
    "Theta_grouped, Ut_grouped = create_groups(Theta, u_t, spatial_dims, time_dims)"
   ]
  },
  {
   "cell_type": "code",
   "execution_count": 18,
   "metadata": {},
   "outputs": [
    {
     "name": "stderr",
     "output_type": "stream",
     "text": [
      "/Users/pongpisit/Desktop/Multi-task-Physics-informed-neural-networks/inverse_parametric_burgers/../parametric_pde_diff.py:602: FutureWarning: arrays to stack must be passed as a \"sequence\" type such as list or tuple. Support for non-sequence iterables such as generators is deprecated as of NumPy 1.16 and will raise an error in the future.\n",
      "  candidate_norms[i] = Norm(np.vstack(A[:,i] for A in As), normalize)\n",
      "/Users/pongpisit/Desktop/Multi-task-Physics-informed-neural-networks/inverse_parametric_burgers/../parametric_pde_diff.py:572: FutureWarning: `rcond` parameter will change to the default of machine precision times ``max(M, N)`` where M and N are the input matrix dimensions.\n",
      "To use the future default and silence this warning we advise to pass `rcond=None`, to keep using the old, explicitly pass `rcond=-1`.\n",
      "  W[biginds,i] = np.linalg.lstsq(Xs[i][:, biginds],ys[i])[0].reshape(len(biginds))\n"
     ]
    }
   ],
   "source": [
    "Xi,Tol,Losses = TrainSGTRidge(Theta_grouped, Ut_grouped)\n",
    "xi = Xi[np.argmin(Losses)]"
   ]
  },
  {
   "cell_type": "code",
   "execution_count": 19,
   "metadata": {},
   "outputs": [
    {
     "data": {
      "text/plain": [
       "['u', 'u_x', 'u_xx', 'u*u_x', 'u*u_xx', 'u_x*u_xx']"
      ]
     },
     "execution_count": 19,
     "metadata": {},
     "output_type": "execute_result"
    }
   ],
   "source": [
    "poly_feature_names"
   ]
  },
  {
   "cell_type": "markdown",
   "metadata": {},
   "source": [
    "#### Plotting the results"
   ]
  },
  {
   "cell_type": "code",
   "execution_count": 20,
   "metadata": {},
   "outputs": [
    {
     "name": "stdout",
     "output_type": "stream",
     "text": [
      "2 -> u_xx\n",
      "3 -> u*u_x\n"
     ]
    },
    {
     "data": {
      "text/plain": [
       "<matplotlib.legend.Legend at 0x15184b880>"
      ]
     },
     "execution_count": 20,
     "metadata": {},
     "output_type": "execute_result"
    },
    {
     "data": {
      "image/png": "[encoded data removed]",
      "text/plain": [
       "<Figure size 864x576 with 1 Axes>"
      ]
     },
     "metadata": {
      "needs_background": "light"
     },
     "output_type": "display_data"
    }
   ],
   "source": [
    "pylab.rcParams['figure.figsize'] = (12, 8)\n",
    "for j in range(xi.shape[0]): \n",
    "    if np.linalg.norm(xi[j,:]) > 10**-10:\n",
    "        print(j, '->', poly_feature_names[j])\n",
    "        plot(xi[j,:], label = poly_feature_names[j])\n",
    "\n",
    "title('Burgers Equation Coefficients', fontsize = 16)\n",
    "xlabel('Time', fontsize = 16)\n",
    "ylabel('Coefficient Value', fontsize = 16)\n",
    "legend(loc='center left', bbox_to_anchor=(1, 0.5), fontsize = 14)"
   ]
  },
  {
   "cell_type": "code",
   "execution_count": 21,
   "metadata": {},
   "outputs": [
    {
     "name": "stdout",
     "output_type": "stream",
     "text": [
      "Running on julia -O3 /var/folders/z3/_stfms3523dd5mnfr3ch5n100000gp/T/tmp_sjum7b0/runfile.jl\n",
      "Activating environment on workers.\n",
      "      From worker 5:\t  Activating environment at `/usr/local/lib/python3.9/site-packages/Project.toml`\n",
      "      From worker 3:\t  Activating environment at `/usr/local/lib/python3.9/site-packages/Project.toml`\n",
      "      From worker 4:\t  Activating environment at `/usr/local/lib/python3.9/site-packages/Project.toml`\n",
      "      From worker 2:\t  Activating environment at `/usr/local/lib/python3.9/site-packages/Project.toml`\n",
      "Importing installed module on workers...Finished!\n",
      "Testing module on workers...Finished!\n",
      "Testing entire pipeline on workers...Finished!\n",
      "Started!\n",
      "\n",
      "Cycles per second: 1.250e+03\n",
      "Head worker occupation: 3.0%\n",
      "Progress: 1 / 250 total iterations (0.400%)\n",
      "==============================\n",
      "Hall of Fame:\n",
      "-----------------------------------------\n",
      "Complexity  Loss       Score     Equation\n",
      "1           2.410e-02  -0.000e+00  -1.0603473\n",
      "5           2.365e-02  4.708e-03  (-1.0237665 + (-0.007316895 * x0))\n",
      "6           7.222e-03  1.186e+00  (-0.992692 + (-0.24094763 * sin(x0)))\n",
      "7           7.056e-03  2.331e-02  (-0.992692 + (-0.24094763 * sin(sin(x0))))\n",
      "8           5.002e-03  3.439e-01  (-1.020714 + (-0.2093318 * sin(-0.21004921 + x0)))\n",
      "9           3.228e-03  4.382e-01  (-1.0148808 + sin(-0.21553895 * sin(0.93948764 * x0)))\n",
      "10          2.625e-03  2.066e-01  (-1.0144776 + (-0.21173777 * sin(0.33030832 + (0.8902831 * x0))))\n",
      "\n",
      "==============================\n",
      "\n",
      "Cycles per second: 3.790e+03\n",
      "Head worker occupation: 2.4%\n",
      "Progress: 2 / 250 total iterations (0.800%)\n",
      "==============================\n",
      "Hall of Fame:\n",
      "-----------------------------------------\n",
      "Complexity  Loss       Score     Equation\n",
      "1           2.410e-02  -0.000e+00  -1.0603473\n",
      "5           2.365e-02  4.708e-03  (-1.0237665 + (-0.007316895 * x0))\n",
      "6           7.222e-03  1.186e+00  (-0.992692 + (-0.24094763 * sin(x0)))\n",
      "7           7.056e-03  2.331e-02  (-0.992692 + (-0.24094763 * sin(sin(x0))))\n",
      "8           5.002e-03  3.439e-01  (-1.020714 + (-0.2093318 * sin(-0.21004921 + x0)))\n",
      "9           3.228e-03  4.382e-01  (-1.0148808 + sin(-0.21553895 * sin(0.93948764 * x0)))\n",
      "10          2.625e-03  2.066e-01  (-1.0144776 + (-0.21173777 * sin(0.33030832 + (0.8902831 * x0))))\n",
      "\n",
      "==============================\n",
      "\n",
      "Cycles per second: 4.040e+03\n",
      "Head worker occupation: 2.0%\n",
      "Progress: 3 / 250 total iterations (1.200%)\n",
      "==============================\n",
      "Hall of Fame:\n",
      "-----------------------------------------\n",
      "Complexity  Loss       Score     Equation\n",
      "1           2.410e-02  -0.000e+00  -1.0603473\n",
      "5           2.365e-02  4.708e-03  (-1.0237665 + (-0.007316895 * x0))\n",
      "6           7.222e-03  1.186e+00  (-0.992692 + (-0.24094763 * sin(x0)))\n",
      "7           7.056e-03  2.331e-02  (-0.992692 + (-0.24094763 * sin(sin(x0))))\n",
      "8           5.002e-03  3.439e-01  (-1.020714 + (-0.2093318 * sin(-0.21004921 + x0)))\n",
      "9           3.228e-03  4.382e-01  (-1.0148808 + sin(-0.21553895 * sin(0.93948764 * x0)))\n",
      "10          2.625e-03  2.066e-01  (-1.0144776 + (-0.21173777 * sin(0.33030832 + (0.8902831 * x0))))\n",
      "\n",
      "==============================\n",
      "\n",
      "Cycles per second: 7.530e+03\n",
      "Head worker occupation: 2.0%\n",
      "Progress: 5 / 250 total iterations (2.000%)\n",
      "==============================\n",
      "Hall of Fame:\n",
      "-----------------------------------------\n",
      "Complexity  Loss       Score     Equation\n",
      "1           2.410e-02  -0.000e+00  -1.0603473\n",
      "5           2.365e-02  4.708e-03  (-1.0237665 + (-0.007316895 * x0))\n",
      "6           7.222e-03  1.186e+00  (-0.992692 + (-0.24094763 * sin(x0)))\n",
      "7           7.056e-03  2.331e-02  (-0.992692 + (-0.24094763 * sin(sin(x0))))\n",
      "8           5.002e-03  3.439e-01  (-1.020714 + (-0.2093318 * sin(-0.21004921 + x0)))\n",
      "9           3.228e-03  4.382e-01  (-1.0148808 + sin(-0.21553895 * sin(0.93948764 * x0)))\n",
      "10          2.625e-03  2.066e-01  (-1.0144776 + (-0.21173777 * sin(0.33030832 + (0.8902831 * x0))))\n",
      "\n",
      "==============================\n",
      "\n",
      "Cycles per second: 7.730e+03\n",
      "Head worker occupation: 1.9%\n",
      "Progress: 6 / 250 total iterations (2.400%)\n",
      "==============================\n",
      "Hall of Fame:\n",
      "-----------------------------------------\n",
      "Complexity  Loss       Score     Equation\n",
      "1           2.410e-02  -0.000e+00  -1.0603473\n",
      "5           2.365e-02  4.708e-03  (-1.0237665 + (-0.007316895 * x0))\n",
      "6           7.222e-03  1.186e+00  (-0.992692 + (-0.24094763 * sin(x0)))\n",
      "7           7.056e-03  2.331e-02  (-0.992692 + (-0.24094763 * sin(sin(x0))))\n",
      "8           5.002e-03  3.439e-01  (-1.020714 + (-0.2093318 * sin(-0.21004921 + x0)))\n",
      "9           3.228e-03  4.382e-01  (-1.0148808 + sin(-0.21553895 * sin(0.93948764 * x0)))\n",
      "10          2.625e-03  2.066e-01  (-1.0144776 + (-0.21173777 * sin(0.33030832 + (0.8902831 * x0))))\n",
      "\n",
      "==============================\n",
      "Killing process... will return when done.\n"
     ]
    }
   ],
   "source": [
    "# Using PySR to discovry right away is not good (works sometimes, sometimes not!)\n",
    "# if the derivatives are calculated using a neural network.\n",
    "equations = pysr(\n",
    "    t, xi[3, :],\n",
    "    populations=50, npop=1500, niterations=5,\n",
    "    binary_operators=[\"+\", \"*\"],\n",
    "    unary_operators=[\"sin\", \"cos\"],\n",
    ")"
   ]
  },
  {
   "cell_type": "code",
   "execution_count": 22,
   "metadata": {},
   "outputs": [
    {
     "data": {
      "text/latex": [
       "$\\displaystyle - 0.24094763 \\sin{\\left(x_{0} \\right)} - 0.992692$"
      ],
      "text/plain": [
       "-0.24094763*sin(x0) - 0.992692"
      ]
     },
     "execution_count": 22,
     "metadata": {},
     "output_type": "execute_result"
    }
   ],
   "source": [
    "best(equations)"
   ]
  },
  {
   "cell_type": "code",
   "execution_count": null,
   "metadata": {},
   "outputs": [],
   "source": []
  },
  {
   "cell_type": "markdown",
   "metadata": {},
   "source": [
    "#### Training"
   ]
  },
  {
   "cell_type": "code",
   "execution_count": 6,
   "metadata": {},
   "outputs": [
    {
     "name": "stdout",
     "output_type": "stream",
     "text": [
      "(tensor(0.0578, grad_fn=<MseLossBackward>), tensor(0.0001, grad_fn=<MseLossBackward>))\n",
      "(tensor(0.0287, grad_fn=<MseLossBackward>), tensor(0.0003, grad_fn=<MseLossBackward>))\n",
      "(tensor(0.0232, grad_fn=<MseLossBackward>), tensor(9.0916e-05, grad_fn=<MseLossBackward>))\n",
      "(tensor(0.0174, grad_fn=<MseLossBackward>), tensor(6.0600e-05, grad_fn=<MseLossBackward>))\n",
      "(tensor(0.0098, grad_fn=<MseLossBackward>), tensor(8.1808e-05, grad_fn=<MseLossBackward>))\n",
      "(tensor(0.0067, grad_fn=<MseLossBackward>), tensor(0.0001, grad_fn=<MseLossBackward>))\n",
      "(tensor(0.0051, grad_fn=<MseLossBackward>), tensor(0.0002, grad_fn=<MseLossBackward>))\n",
      "(tensor(0.0039, grad_fn=<MseLossBackward>), tensor(0.0002, grad_fn=<MseLossBackward>))\n",
      "(tensor(0.0031, grad_fn=<MseLossBackward>), tensor(9.6589e-05, grad_fn=<MseLossBackward>))\n",
      "(tensor(0.0023, grad_fn=<MseLossBackward>), tensor(5.6711e-05, grad_fn=<MseLossBackward>))\n",
      "(tensor(0.0018, grad_fn=<MseLossBackward>), tensor(3.9201e-05, grad_fn=<MseLossBackward>))\n",
      "(tensor(0.0015, grad_fn=<MseLossBackward>), tensor(3.4518e-05, grad_fn=<MseLossBackward>))\n",
      "(tensor(0.0012, grad_fn=<MseLossBackward>), tensor(3.0575e-05, grad_fn=<MseLossBackward>))\n",
      "(tensor(0.0011, grad_fn=<MseLossBackward>), tensor(2.5338e-05, grad_fn=<MseLossBackward>))\n",
      "(tensor(0.0009, grad_fn=<MseLossBackward>), tensor(2.0898e-05, grad_fn=<MseLossBackward>))\n",
      "3.3363434340571985e-05\n",
      "1.2799137039110065e-05\n",
      "1.2162605344201438e-05\n",
      "1.1760881534428336e-05\n",
      "2.87876218862948e-06\n"
     ]
    }
   ],
   "source": [
    "# optimizer = MADGRAD(pinn.parameters(), lr=1e-3, momentum=0.9)\n",
    "# for i in range(150):\n",
    "#     pinn.train()\n",
    "#     optimizer.step(pcgrad_closure)\n",
    "#     if i%10==0:\n",
    "#         loss = pcgrad_closure(return_list=True)\n",
    "#         print(loss)\n",
    "        \n",
    "f_opt = torch.optim.LBFGS(pinn.parameters(), lr=1e-1, max_iter=300, max_eval=int(1.25*300), history_size=300, line_search_fn='strong_wolfe')\n",
    "for i in range(100):\n",
    "    f_opt.step(finetuning_closure)\n",
    "    if i%10==0:\n",
    "        loss = finetuning_closure()\n",
    "        print(loss.item())\n",
    "        \n",
    "# −1.0383017−0.17971173*np.sin(t) will be detected."
   ]
  },
  {
   "cell_type": "code",
   "execution_count": 7,
   "metadata": {},
   "outputs": [
    {
     "data": {
      "text/plain": [
       "(tensor(1.4961e-06, grad_fn=<MseLossBackward>),\n",
       " tensor(7.0702e-07, grad_fn=<MseLossBackward>))"
      ]
     },
     "execution_count": 7,
     "metadata": {},
     "output_type": "execute_result"
    }
   ],
   "source": [
    "pinn.loss(*dimension_slicing(X_star), u_star)"
   ]
  },
  {
   "cell_type": "code",
   "execution_count": 8,
   "metadata": {},
   "outputs": [],
   "source": [
    "u_preds, learned_func = pinn(*dimension_slicing(X_star))\n",
    "learned_func1 = learned_func[:, 0:1].reshape(X.shape).mean(axis=1).detach().numpy()\n",
    "learned_func2 = learned_func[:, 1:2].reshape(X.shape).mean(axis=1).detach().numpy()"
   ]
  },
  {
   "cell_type": "code",
   "execution_count": 9,
   "metadata": {},
   "outputs": [
    {
     "name": "stdout",
     "output_type": "stream",
     "text": [
      "0.009982212815507669\n",
      "1.3799210929571243e-05\n"
     ]
    }
   ],
   "source": [
    "print(np.mean((learned_func1-uu_x_true)**2))\n",
    "print(np.mean((learned_func2-u_xx_true)**2))"
   ]
  },
  {
   "cell_type": "code",
   "execution_count": 10,
   "metadata": {},
   "outputs": [
    {
     "data": {
      "image/png": "[encoded data removed]",
      "text/plain": [
       "<Figure size 432x288 with 1 Axes>"
      ]
     },
     "metadata": {
      "needs_background": "light"
     },
     "output_type": "display_data"
    }
   ],
   "source": [
    "# You can chk from this graph that learned_func1 depend on x or t \n",
    "# Working when using .mean(axis=0) -> depending on x\n",
    "# Working when using .mean(axis=1) -> depending on t\n",
    "plt.scatter(t, uu_x_true)\n",
    "plt.scatter(t, learned_func1)\n",
    "plt.show()"
   ]
  },
  {
   "cell_type": "markdown",
   "metadata": {},
   "source": [
    "#### Check whether f & g are learned correctly"
   ]
  },
  {
   "cell_type": "code",
   "execution_count": 11,
   "metadata": {},
   "outputs": [
    {
     "name": "stdout",
     "output_type": "stream",
     "text": [
      "Running on julia -O3 /var/folders/z3/_stfms3523dd5mnfr3ch5n100000gp/T/tmp2vctlhr2/runfile.jl\n",
      "Activating environment on workers.\n",
      "      From worker 3:\t  Activating environment at `/usr/local/lib/python3.9/site-packages/Project.toml`\n",
      "      From worker 5:\t  Activating environment at `/usr/local/lib/python3.9/site-packages/Project.toml`\n",
      "      From worker 4:\t  Activating environment at `/usr/local/lib/python3.9/site-packages/Project.toml`\n",
      "      From worker 2:\t  Activating environment at `/usr/local/lib/python3.9/site-packages/Project.toml`\n",
      "Importing installed module on workers...Finished!\n",
      "Testing module on workers...Finished!\n",
      "Testing entire pipeline on workers...Finished!\n",
      "Started!\n",
      "\n",
      "Cycles per second: 8.330e+02\n",
      "Head worker occupation: 2.2%\n",
      "Progress: 1 / 250 total iterations (0.400%)\n",
      "==============================\n",
      "Hall of Fame:\n",
      "-----------------------------------------\n",
      "Complexity  Loss       Score     Equation\n",
      "1           2.345e-02  -0.000e+00  -1.0609182\n",
      "5           2.297e-02  5.173e-03  (-1.0231133 + (-0.007560977 * x0))\n",
      "6           7.991e-03  1.056e+00  ((sin(x0) * -0.1872898) + -1.0238724)\n",
      "8           4.129e-03  3.302e-01  (-1.017142 + (-0.20443307 * sin(0.92359686 * x0)))\n",
      "9           4.126e-03  6.271e-04  (-1.0171068 + sin(-0.20557916 * sin(0.92364 * x0)))\n",
      "10          3.260e-03  2.355e-01  (-1.017748 + (-0.20187594 * sin(0.42194214 + (0.8602646 * x0))))\n",
      "16          2.069e-03  7.584e-02  (-1.0111133 + (sin(0.57868886 + (0.8348872 * x0)) * sin(-0.20005326 + (0.07985669 * cos(x0)))))\n",
      "\n",
      "==============================\n",
      "\n",
      "Cycles per second: 4.920e+03\n",
      "Head worker occupation: 2.0%\n",
      "Progress: 2 / 250 total iterations (0.800%)\n",
      "==============================\n",
      "Hall of Fame:\n",
      "-----------------------------------------\n",
      "Complexity  Loss       Score     Equation\n",
      "1           2.345e-02  -0.000e+00  -1.0609182\n",
      "5           2.297e-02  5.173e-03  (-1.0231133 + (-0.007560977 * x0))\n",
      "6           7.991e-03  1.056e+00  ((sin(x0) * -0.1872898) + -1.0238724)\n",
      "8           4.129e-03  3.302e-01  (-1.017142 + (-0.20443307 * sin(0.92359686 * x0)))\n",
      "9           4.126e-03  6.271e-04  (-1.0171068 + sin(-0.20557916 * sin(0.92364 * x0)))\n",
      "10          3.260e-03  2.355e-01  (-1.017748 + (-0.20187594 * sin(0.42194214 + (0.8602646 * x0))))\n",
      "16          2.069e-03  7.584e-02  (-1.0111133 + (sin(0.57868886 + (0.8348872 * x0)) * sin(-0.20005326 + (0.07985669 * cos(x0)))))\n",
      "\n",
      "==============================\n",
      "\n",
      "Cycles per second: 6.280e+03\n",
      "Head worker occupation: 1.9%\n",
      "Progress: 3 / 250 total iterations (1.200%)\n",
      "==============================\n",
      "Hall of Fame:\n",
      "-----------------------------------------\n",
      "Complexity  Loss       Score     Equation\n",
      "1           2.345e-02  -0.000e+00  -1.0609182\n",
      "5           2.297e-02  5.173e-03  (-1.0231133 + (-0.007560977 * x0))\n",
      "6           7.991e-03  1.056e+00  ((sin(x0) * -0.1872898) + -1.0238724)\n",
      "8           4.129e-03  3.302e-01  (-1.017142 + (-0.20443307 * sin(0.92359686 * x0)))\n",
      "9           4.126e-03  6.271e-04  (-1.0171068 + sin(-0.20557916 * sin(0.92364 * x0)))\n",
      "10          3.260e-03  2.355e-01  (-1.017748 + (-0.20187594 * sin(0.42194214 + (0.8602646 * x0))))\n",
      "16          2.069e-03  7.584e-02  (-1.0111133 + (sin(0.57868886 + (0.8348872 * x0)) * sin(-0.20005326 + (0.07985669 * cos(x0)))))\n",
      "\n",
      "==============================\n",
      "\n",
      "Cycles per second: 6.840e+03\n",
      "Head worker occupation: 1.8%\n",
      "Progress: 4 / 250 total iterations (1.600%)\n",
      "==============================\n",
      "Hall of Fame:\n",
      "-----------------------------------------\n",
      "Complexity  Loss       Score     Equation\n",
      "1           2.345e-02  -0.000e+00  -1.0609182\n",
      "5           2.297e-02  5.173e-03  (-1.0231133 + (-0.007560977 * x0))\n",
      "6           7.991e-03  1.056e+00  ((sin(x0) * -0.1872898) + -1.0238724)\n",
      "8           4.129e-03  3.302e-01  (-1.017142 + (-0.20443307 * sin(0.92359686 * x0)))\n",
      "9           4.126e-03  6.271e-04  (-1.0171068 + sin(-0.20557916 * sin(0.92364 * x0)))\n",
      "10          3.260e-03  2.355e-01  (-1.017748 + (-0.20187594 * sin(0.42194214 + (0.8602646 * x0))))\n",
      "16          2.069e-03  7.584e-02  (-1.0111133 + (sin(0.57868886 + (0.8348872 * x0)) * sin(-0.20005326 + (0.07985669 * cos(x0)))))\n",
      "\n",
      "==============================\n",
      "\n",
      "Cycles per second: 6.130e+03\n",
      "Head worker occupation: 1.5%\n",
      "Progress: 5 / 250 total iterations (2.000%)\n",
      "==============================\n",
      "Hall of Fame:\n",
      "-----------------------------------------\n",
      "Complexity  Loss       Score     Equation\n",
      "1           2.345e-02  -0.000e+00  -1.0609182\n",
      "5           2.297e-02  5.173e-03  (-1.0231133 + (-0.007560977 * x0))\n",
      "6           7.991e-03  1.056e+00  ((sin(x0) * -0.1872898) + -1.0238724)\n",
      "8           4.129e-03  3.302e-01  (-1.017142 + (-0.20443307 * sin(0.92359686 * x0)))\n",
      "9           4.126e-03  6.271e-04  (-1.0171068 + sin(-0.20557916 * sin(0.92364 * x0)))\n",
      "10          3.260e-03  2.355e-01  (-1.017748 + (-0.20187594 * sin(0.42194214 + (0.8602646 * x0))))\n",
      "16          2.069e-03  7.584e-02  (-1.0111133 + (sin(0.57868886 + (0.8348872 * x0)) * sin(-0.20005326 + (0.07985669 * cos(x0)))))\n",
      "\n",
      "==============================\n",
      "\n",
      "Cycles per second: 6.450e+03\n",
      "Head worker occupation: 1.5%\n",
      "Progress: 6 / 250 total iterations (2.400%)\n",
      "==============================\n",
      "Hall of Fame:\n",
      "-----------------------------------------\n",
      "Complexity  Loss       Score     Equation\n",
      "1           2.345e-02  -0.000e+00  -1.0609182\n",
      "5           2.297e-02  5.173e-03  (-1.0231133 + (-0.007560977 * x0))\n",
      "6           7.991e-03  1.056e+00  ((sin(x0) * -0.1872898) + -1.0238724)\n",
      "8           4.129e-03  3.302e-01  (-1.017142 + (-0.20443307 * sin(0.92359686 * x0)))\n",
      "9           4.126e-03  6.271e-04  (-1.0171068 + sin(-0.20557916 * sin(0.92364 * x0)))\n",
      "10          3.260e-03  2.355e-01  (-1.017748 + (-0.20187594 * sin(0.42194214 + (0.8602646 * x0))))\n",
      "16          2.069e-03  7.584e-02  (-1.0111133 + (sin(0.57868886 + (0.8348872 * x0)) * sin(-0.20005326 + (0.07985669 * cos(x0)))))\n",
      "\n",
      "==============================\n",
      "\n",
      "Cycles per second: 6.810e+03\n",
      "Head worker occupation: 1.4%\n",
      "Progress: 7 / 250 total iterations (2.800%)\n",
      "==============================\n",
      "Hall of Fame:\n",
      "-----------------------------------------\n",
      "Complexity  Loss       Score     Equation\n",
      "1           2.345e-02  -0.000e+00  -1.0609182\n",
      "5           2.297e-02  5.173e-03  (-1.0231133 + (-0.007560977 * x0))\n",
      "6           7.991e-03  1.056e+00  ((sin(x0) * -0.1872898) + -1.0238724)\n",
      "8           4.129e-03  3.302e-01  (-1.017142 + (-0.20443307 * sin(0.92359686 * x0)))\n",
      "9           4.126e-03  6.271e-04  (-1.0171068 + sin(-0.20557916 * sin(0.92364 * x0)))\n",
      "10          3.260e-03  2.355e-01  (-1.017748 + (-0.20187594 * sin(0.42194214 + (0.8602646 * x0))))\n",
      "16          2.069e-03  7.584e-02  (-1.0111133 + (sin(0.57868886 + (0.8348872 * x0)) * sin(-0.20005326 + (0.07985669 * cos(x0)))))\n",
      "\n",
      "==============================\n",
      "\n",
      "Cycles per second: 6.150e+03\n",
      "Head worker occupation: 1.1%\n",
      "Progress: 8 / 250 total iterations (3.200%)\n",
      "==============================\n",
      "Hall of Fame:\n",
      "-----------------------------------------\n",
      "Complexity  Loss       Score     Equation\n",
      "1           2.345e-02  -0.000e+00  -1.0609182\n",
      "5           2.297e-02  5.173e-03  (-1.0231133 + (-0.007560977 * x0))\n",
      "6           7.991e-03  1.056e+00  ((sin(x0) * -0.1872898) + -1.0238724)\n",
      "8           4.129e-03  3.302e-01  (-1.017142 + (-0.20443307 * sin(0.92359686 * x0)))\n",
      "9           4.126e-03  6.271e-04  (-1.0171068 + sin(-0.20557916 * sin(0.92364 * x0)))\n",
      "10          3.260e-03  2.355e-01  (-1.017748 + (-0.20187594 * sin(0.42194214 + (0.8602646 * x0))))\n",
      "16          2.069e-03  7.584e-02  (-1.0111133 + (sin(0.57868886 + (0.8348872 * x0)) * sin(-0.20005326 + (0.07985669 * cos(x0)))))\n",
      "\n",
      "==============================\n",
      "Killing process... will return when done.\n"
     ]
    }
   ],
   "source": [
    "equations = pysr(\n",
    "    t, learned_func1,\n",
    "    populations=50, npop=1500, niterations=5,\n",
    "    binary_operators=[\"+\", \"*\"],\n",
    "    unary_operators=[\"sin\", \"cos\"],\n",
    ")"
   ]
  },
  {
   "cell_type": "code",
   "execution_count": 12,
   "metadata": {},
   "outputs": [
    {
     "data": {
      "text/latex": [
       "$\\displaystyle - 0.1872898 \\sin{\\left(x_{0} \\right)} - 1.0238724$"
      ],
      "text/plain": [
       "-0.1872898*sin(x0) - 1.0238724"
      ]
     },
     "execution_count": 12,
     "metadata": {},
     "output_type": "execute_result"
    }
   ],
   "source": [
    "best(equations)"
   ]
  },
  {
   "cell_type": "code",
   "execution_count": null,
   "metadata": {},
   "outputs": [],
   "source": [
    "# To discover using TrainSGTRidge\n",
    "\n",
    "# Compute Theta -> Candi features and estimated u_t\n",
    "# Create the groups\n",
    "# Train TrainSGTRidge\n",
    "# Look for np.linalg.norm(xi[j,:]) > 10**-10\n",
    "# Apply PySR on the results"
   ]
  },
  {
   "cell_type": "code",
   "execution_count": null,
   "metadata": {},
   "outputs": [],
   "source": []
  }
 ],
 "metadata": {
  "kernelspec": {
   "display_name": "Python 3",
   "language": "python",
   "name": "python3"
  },
  "language_info": {
   "codemirror_mode": {
    "name": "ipython",
    "version": 3
   },
   "file_extension": ".py",
   "mimetype": "text/x-python",
   "name": "python",
   "nbconvert_exporter": "python",
   "pygments_lexer": "ipython3",
   "version": "3.9.5"
  }
 },
 "nbformat": 4,
 "nbformat_minor": 4
}
