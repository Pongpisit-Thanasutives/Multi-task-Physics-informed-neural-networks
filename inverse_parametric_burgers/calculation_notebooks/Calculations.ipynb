{
 "cells": [
  {
   "cell_type": "code",
   "execution_count": 1,
   "metadata": {},
   "outputs": [
    {
     "name": "stdout",
     "output_type": "stream",
     "text": [
      "Running Python 3.9.8\n",
      "You can use npar for np.array\n"
     ]
    }
   ],
   "source": [
    "import sys; sys.path.insert(0, \"../../\"); from utils import *\n",
    "import numpy as np\n",
    "import torch"
   ]
  },
  {
   "cell_type": "code",
   "execution_count": 2,
   "metadata": {},
   "outputs": [],
   "source": [
    "times = np.linspace(0, 10, 256)"
   ]
  },
  {
   "cell_type": "markdown",
   "metadata": {},
   "source": [
    "### Parametric Burgers discovery results"
   ]
  },
  {
   "cell_type": "code",
   "execution_count": 3,
   "metadata": {},
   "outputs": [],
   "source": [
    "a, b, c = np.abs(np.array([-1.0028020143508911, -0.24078042805194855, 0.10122136771678925])).tolist()"
   ]
  },
  {
   "cell_type": "code",
   "execution_count": 4,
   "metadata": {},
   "outputs": [
    {
     "data": {
      "text/plain": [
       "0.10122136771678925"
      ]
     },
     "execution_count": 4,
     "metadata": {},
     "output_type": "execute_result"
    }
   ],
   "source": [
    "c"
   ]
  },
  {
   "cell_type": "code",
   "execution_count": 5,
   "metadata": {},
   "outputs": [],
   "source": [
    "# Clean Exact and clean (x, t) | final_parametric_pinn.pth\n",
    "ground1 = -0.25*np.sin(times)-1\n",
    "ground2 = npar([0.1])\n",
    "est = -b*np.sin(times)-a"
   ]
  },
  {
   "cell_type": "code",
   "execution_count": 6,
   "metadata": {},
   "outputs": [
    {
     "data": {
      "text/plain": [
       "0.507355004248361"
      ]
     },
     "execution_count": 6,
     "metadata": {},
     "output_type": "execute_result"
    }
   ],
   "source": [
    "err1 = percent_error(est, ground1)\n",
    "err1"
   ]
  },
  {
   "cell_type": "code",
   "execution_count": 7,
   "metadata": {},
   "outputs": [
    {
     "data": {
      "text/plain": [
       "1.22136771678924"
      ]
     },
     "execution_count": 7,
     "metadata": {},
     "output_type": "execute_result"
    }
   ],
   "source": [
    "err2 = 100*abs(0.1-c)/0.1\n",
    "err2"
   ]
  },
  {
   "cell_type": "code",
   "execution_count": 8,
   "metadata": {},
   "outputs": [
    {
     "data": {
      "text/plain": [
       "(0.8643613605188005, 0.35700635627043953)"
      ]
     },
     "execution_count": 8,
     "metadata": {},
     "output_type": "execute_result"
    }
   ],
   "source": [
    "errs = npar([err1, err2])\n",
    "errs.mean(), errs.std()"
   ]
  },
  {
   "cell_type": "code",
   "execution_count": 9,
   "metadata": {},
   "outputs": [],
   "source": [
    "def est_f1(params, domain): return params[1]*np.sin(domain)+params[0]\n",
    "def est_f2(params, domain): return npar(params[2])"
   ]
  },
  {
   "cell_type": "code",
   "execution_count": 10,
   "metadata": {},
   "outputs": [],
   "source": [
    "all_params = [[-0.99938607, -0.2458773 ,  0.09999527], \n",
    "                [-1.00576413, -0.24115856,  0.0996802 ], \n",
    "                [-1.00304902, -0.2355555 ,  0.09983284], \n",
    "                [-1.00296175, -0.23732963,  0.09999029], \n",
    "                [-1.00088429, -0.24525967,  0.10000382], \n",
    "                [-1.00312865, -0.24390902,  0.09959546]]"
   ]
  },
  {
   "cell_type": "code",
   "execution_count": 11,
   "metadata": {},
   "outputs": [
    {
     "name": "stdout",
     "output_type": "stream",
     "text": [
      "0.13238040885283534 0.127650408852827\n",
      "0.42498524449821146 0.10518524449820249\n",
      "0.483865719137908 0.31670571913790846\n",
      "0.3549488474336648 0.3452388474336548\n",
      "0.13378263299909132 0.1299626329991036\n",
      "0.375037565631503 0.029502434368505803\n"
     ]
    }
   ],
   "source": [
    "for params in all_params:\n",
    "    est1 = est_f1(params, times)\n",
    "    est2 = est_f2(params, times)\n",
    "    \n",
    "    errs = npar([percent_error(est1, ground1), percent_error(est2, ground2)])\n",
    "\n",
    "    print(errs.mean(), errs.std())"
   ]
  }
 ],
 "metadata": {
  "kernelspec": {
   "display_name": "Python 3",
   "language": "python",
   "name": "python3"
  },
  "language_info": {
   "codemirror_mode": {
    "name": "ipython",
    "version": 3
   },
   "file_extension": ".py",
   "mimetype": "text/x-python",
   "name": "python",
   "nbconvert_exporter": "python",
   "pygments_lexer": "ipython3",
   "version": "3.9.8"
  }
 },
 "nbformat": 4,
 "nbformat_minor": 4
}
