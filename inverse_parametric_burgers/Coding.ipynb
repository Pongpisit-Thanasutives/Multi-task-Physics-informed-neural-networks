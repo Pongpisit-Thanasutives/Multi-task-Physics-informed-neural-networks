{
 "cells": [
  {
   "cell_type": "code",
   "execution_count": 1,
   "metadata": {},
   "outputs": [
    {
     "name": "stdout",
     "output_type": "stream",
     "text": [
      "Populating the interactive namespace from numpy and matplotlib\n"
     ]
    }
   ],
   "source": [
    "%pylab inline\n",
    "%matplotlib inline\n",
    "import matplotlib.pyplot as plt\n",
    "\n",
    "import numpy as np\n",
    "from sympy import sympify\n",
    "import sys; sys.path.insert(0, \"../\"); from utils import *\n",
    "from models import SympyTorch, PartialDerivativeCalculator, CoeffLearner\n",
    "from parametric_discovery_pinn import ParametricPINN, BurgerPINN\n",
    "from madgrad import MADGRAD\n",
    "\n",
    "from pde_diff import TrainSTRidge, FiniteDiff, print_pde\n",
    "from robust_pde_diff import print_pde, RobustPCA, Robust_LRSTR\n",
    "from parametric_pde_diff import TrainSGTRidge, create_groups\n",
    "\n",
    "from scipy.integrate import odeint\n",
    "from numpy.fft import fft, ifft, fftfreq\n",
    "from time import time\n",
    "\n",
    "from pysr import pysr, best\n",
    "\n",
    "fontsize = 20"
   ]
  },
  {
   "cell_type": "code",
   "execution_count": 2,
   "metadata": {},
   "outputs": [
    {
     "name": "stdout",
     "output_type": "stream",
     "text": [
      "Loaded from ../parametric_pde_data/parametric_burgers.pkl\n"
     ]
    }
   ],
   "source": [
    "data = pickle_load(\"../parametric_pde_data/parametric_burgers.pkl\")\n",
    "\n",
    "x = data['x']; spatial_dims = x.shape[0]\n",
    "t = data['t']; time_dims = t.shape[0]\n",
    "\n",
    "Exact = data['u']\n",
    "X, T = np.meshgrid(x, t)\n",
    "\n",
    "X_star = np.hstack((to_column_vector(X), to_column_vector(T)))\n",
    "u_star = to_column_vector(Exact.T)\n",
    "\n",
    "# domain bounds\n",
    "lb = X_star.min(axis=0)\n",
    "ub = X_star.max(axis=0)\n",
    "\n",
    "# Sampling training data points\n",
    "N = 20000\n",
    "training_idxs = sampling_from_rows(X_star, N, True)\n",
    "X_train = X_star[training_idxs, :]\n",
    "u_train = u_star[training_idxs, :]\n",
    "\n",
    "# to_tensor\n",
    "X_star = to_tensor(X_star, True)\n",
    "u_star = to_tensor(u_star, False)\n",
    "X_train = to_tensor(X_train, True)\n",
    "u_train = to_tensor(u_train, False)\n",
    "lb = to_tensor(lb, False)\n",
    "ub = to_tensor(ub, False)\n",
    "\n",
    "u_xx_true = 0.1*np.ones(time_dims)\n",
    "uu_x_true = -1*(1+0.25*np.sin(t))\n",
    "\n",
    "feature_names = ['u', 'u_x', 'u_xx']"
   ]
  },
  {
   "cell_type": "code",
   "execution_count": 3,
   "metadata": {},
   "outputs": [
    {
     "name": "stdout",
     "output_type": "stream",
     "text": [
      "Loaded the pretrained weights\n"
     ]
    },
    {
     "data": {
      "text/plain": [
       "<All keys matched successfully>"
      ]
     },
     "execution_count": 3,
     "metadata": {},
     "output_type": "execute_result"
    }
   ],
   "source": [
    "pinn = ParametricPINN(scale=False, lb=lb, ub=ub)\n",
    "print(\"Loaded the pretrained weights\")\n",
    "pinn.load_state_dict(torch.load(\"./saved_path_inverse_parametric_burgers/parametric_pinn.pth\"))"
   ]
  },
  {
   "cell_type": "code",
   "execution_count": 4,
   "metadata": {},
   "outputs": [
    {
     "name": "stdout",
     "output_type": "stream",
     "text": [
      "Please ensure that all coefs are different\n"
     ]
    }
   ],
   "source": [
    "expression, _ = build_exp(\"-0.1872898*sin(t)-1.0238724\")\n",
    "mod = SympyTorch(expressions=[expression])"
   ]
  },
  {
   "cell_type": "code",
   "execution_count": 5,
   "metadata": {},
   "outputs": [
    {
     "data": {
      "text/plain": [
       "tensor([[-1.1594],\n",
       "        [-1.1564],\n",
       "        [-1.1655],\n",
       "        [-1.1593],\n",
       "        [-1.1475],\n",
       "        [-1.1713],\n",
       "        [-1.1814],\n",
       "        [-1.1792],\n",
       "        [-1.1430],\n",
       "        [-1.1568],\n",
       "        [-1.0794],\n",
       "        [-1.1031],\n",
       "        [-1.1542],\n",
       "        [-1.0833],\n",
       "        [-1.1187],\n",
       "        [-1.0665],\n",
       "        [-1.0771],\n",
       "        [-1.1056],\n",
       "        [-1.1420],\n",
       "        [-1.1128],\n",
       "        [-1.1277],\n",
       "        [-1.0452],\n",
       "        [-1.0659],\n",
       "        [-1.0568],\n",
       "        [-1.1247],\n",
       "        [-1.1181],\n",
       "        [-1.0646],\n",
       "        [-1.1157],\n",
       "        [-1.0509],\n",
       "        [-1.1309],\n",
       "        [-1.0963],\n",
       "        [-1.1274],\n",
       "        [-1.0327],\n",
       "        [-1.1571],\n",
       "        [-1.1043],\n",
       "        [-1.1149],\n",
       "        [-1.0696],\n",
       "        [-1.1798],\n",
       "        [-1.1707],\n",
       "        [-1.1394],\n",
       "        [-1.1343],\n",
       "        [-1.1010],\n",
       "        [-1.1578],\n",
       "        [-1.1176],\n",
       "        [-1.1290],\n",
       "        [-1.1213],\n",
       "        [-1.1713],\n",
       "        [-1.1120],\n",
       "        [-1.0260],\n",
       "        [-1.1804],\n",
       "        [-1.1350],\n",
       "        [-1.0253],\n",
       "        [-1.0431],\n",
       "        [-1.0285],\n",
       "        [-1.0384],\n",
       "        [-1.0728],\n",
       "        [-1.0965],\n",
       "        [-1.1191],\n",
       "        [-1.1786],\n",
       "        [-1.0590],\n",
       "        [-1.1204],\n",
       "        [-1.1134],\n",
       "        [-1.0272],\n",
       "        [-1.0452],\n",
       "        [-1.0343],\n",
       "        [-1.1440],\n",
       "        [-1.0818],\n",
       "        [-1.0548],\n",
       "        [-1.1791],\n",
       "        [-1.1244],\n",
       "        [-1.1716],\n",
       "        [-1.0822],\n",
       "        [-1.1127],\n",
       "        [-1.0300],\n",
       "        [-1.1690],\n",
       "        [-1.1627],\n",
       "        [-1.1730],\n",
       "        [-1.1301],\n",
       "        [-1.1371],\n",
       "        [-1.1725],\n",
       "        [-1.1241],\n",
       "        [-1.1406],\n",
       "        [-1.0713],\n",
       "        [-1.1310],\n",
       "        [-1.1781],\n",
       "        [-1.1711],\n",
       "        [-1.1544],\n",
       "        [-1.1783],\n",
       "        [-1.0564],\n",
       "        [-1.1424],\n",
       "        [-1.1568],\n",
       "        [-1.0571],\n",
       "        [-1.1648],\n",
       "        [-1.0300],\n",
       "        [-1.0706],\n",
       "        [-1.0344],\n",
       "        [-1.1421],\n",
       "        [-1.0361],\n",
       "        [-1.0531],\n",
       "        [-1.1306]], grad_fn=<SqueezeBackward1>)"
      ]
     },
     "execution_count": 5,
     "metadata": {},
     "output_type": "execute_result"
    }
   ],
   "source": [
    "t = torch.rand(100, 1)\n",
    "mod({'t':t})"
   ]
  },
  {
   "cell_type": "code",
   "execution_count": 6,
   "metadata": {},
   "outputs": [],
   "source": [
    "model = nn.Sequential(pinn.preprocessor_net, pinn.pde_solver_net)"
   ]
  },
  {
   "cell_type": "code",
   "execution_count": 7,
   "metadata": {},
   "outputs": [
    {
     "data": {
      "text/plain": [
       "{'u': tensor([[0.0322],\n",
       "         [0.1881],\n",
       "         [0.0002],\n",
       "         ...,\n",
       "         [0.0005],\n",
       "         [0.0575],\n",
       "         [0.0960]], grad_fn=<AddmmBackward>),\n",
       " 'u_x': tensor([[ 1.0749e-01],\n",
       "         [ 7.1286e-02],\n",
       "         [-7.6606e-05],\n",
       "         ...,\n",
       "         [-1.6100e-04],\n",
       "         [-2.1388e-01],\n",
       "         [ 1.2128e-01]], grad_fn=<SliceBackward>),\n",
       " 'u_xx': tensor([[ 1.0749e-01],\n",
       "         [ 7.1286e-02],\n",
       "         [-7.6606e-05],\n",
       "         ...,\n",
       "         [-1.6100e-04],\n",
       "         [-2.1388e-01],\n",
       "         [ 1.2128e-01]], grad_fn=<SliceBackward>)}"
      ]
     },
     "execution_count": 7,
     "metadata": {},
     "output_type": "execute_result"
    }
   ],
   "source": [
    "xx, tt = dimension_slicing(X_train)\n",
    "u = model(cat(xx, tt))\n",
    "gradients_dict(u, xx, tt, feature_names)"
   ]
  },
  {
   "cell_type": "code",
   "execution_count": 8,
   "metadata": {},
   "outputs": [
    {
     "name": "stdout",
     "output_type": "stream",
     "text": [
      "Please ensure that all coefs are different\n"
     ]
    },
    {
     "data": {
      "text/plain": [
       "tensor([[ 3.4579e-03],\n",
       "        [ 1.3410e-02],\n",
       "        [-1.6341e-08],\n",
       "        ...,\n",
       "        [-7.7689e-08],\n",
       "        [-1.2307e-02],\n",
       "        [ 1.1640e-02]], grad_fn=<SqueezeBackward1>)"
      ]
     },
     "execution_count": 8,
     "metadata": {},
     "output_type": "execute_result"
    }
   ],
   "source": [
    "mod1, variables1 = string2sympytorch(\"u*u_x\")\n",
    "mod1(gradients_dict(u, xx, tt, sorted(list(map(str, variables1)))))"
   ]
  },
  {
   "cell_type": "code",
   "execution_count": 9,
   "metadata": {},
   "outputs": [
    {
     "name": "stdout",
     "output_type": "stream",
     "text": [
      "Please ensure that all coefs are different\n"
     ]
    },
    {
     "data": {
      "text/plain": [
       "tensor([[ 1.0749e-01],\n",
       "        [ 7.1286e-02],\n",
       "        [-7.6606e-05],\n",
       "        ...,\n",
       "        [-1.6100e-04],\n",
       "        [-2.1388e-01],\n",
       "        [ 1.2128e-01]], grad_fn=<SqueezeBackward1>)"
      ]
     },
     "execution_count": 9,
     "metadata": {},
     "output_type": "execute_result"
    }
   ],
   "source": [
    "mod2, variables2 = string2sympytorch(\"u_xx\")\n",
    "mod2(gradients_dict(u, xx, tt, sorted(list(map(str, variables2)))))"
   ]
  },
  {
   "cell_type": "code",
   "execution_count": 10,
   "metadata": {},
   "outputs": [
    {
     "name": "stdout",
     "output_type": "stream",
     "text": [
      "Please ensure that all coefs are different\n",
      "Please ensure that all coefs are different\n",
      "Please ensure that all coefs are different\n",
      "Please ensure that all coefs are different\n"
     ]
    }
   ],
   "source": [
    "pdc = PartialDerivativeCalculator([\"u*u_x\", \"u_xx\"], [\"-0.1872898*sin(t)-1.0238724\", \"0.09875935\"])"
   ]
  },
  {
   "cell_type": "code",
   "execution_count": 11,
   "metadata": {},
   "outputs": [
    {
     "data": {
      "text/plain": [
       "tensor([[-3.5658e-03,  1.0616e-02],\n",
       "        [-1.3566e-02,  7.0401e-03],\n",
       "        [ 1.9781e-08, -7.5656e-06],\n",
       "        ...,\n",
       "        [ 8.1879e-08, -1.5900e-05],\n",
       "        [ 1.4352e-02, -2.1123e-02],\n",
       "        [-1.3273e-02,  1.1978e-02]], grad_fn=<CatBackward>)"
      ]
     },
     "execution_count": 11,
     "metadata": {},
     "output_type": "execute_result"
    }
   ],
   "source": [
    "pdc(u, xx, tt)"
   ]
  },
  {
   "cell_type": "code",
   "execution_count": null,
   "metadata": {},
   "outputs": [],
   "source": []
  }
 ],
 "metadata": {
  "kernelspec": {
   "display_name": "Python 3",
   "language": "python",
   "name": "python3"
  },
  "language_info": {
   "codemirror_mode": {
    "name": "ipython",
    "version": 3
   },
   "file_extension": ".py",
   "mimetype": "text/x-python",
   "name": "python",
   "nbconvert_exporter": "python",
   "pygments_lexer": "ipython3",
   "version": "3.9.5"
  }
 },
 "nbformat": 4,
 "nbformat_minor": 4
}
