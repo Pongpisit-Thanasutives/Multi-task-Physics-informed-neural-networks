{
 "cells": [
  {
   "cell_type": "code",
   "execution_count": 1,
   "metadata": {},
   "outputs": [
    {
     "name": "stdout",
     "output_type": "stream",
     "text": [
      "Populating the interactive namespace from numpy and matplotlib\n"
     ]
    }
   ],
   "source": [
    "%pylab inline\n",
    "%matplotlib inline\n",
    "import matplotlib.pyplot as plt\n",
    "\n",
    "import numpy as np\n",
    "from sympy import sympify\n",
    "import sys; sys.path.insert(0, \"../\"); from utils import *\n",
    "from models import SympyTorch, PartialDerivativeCalculator, CoeffLearner\n",
    "from parametric_discovery_pinn import ParametricPINN, BurgerPINN, FinalParametricPINN\n",
    "from madgrad import MADGRAD\n",
    "\n",
    "from pde_diff import TrainSTRidge, FiniteDiff, print_pde\n",
    "from robust_pde_diff import print_pde, RobustPCA, Robust_LRSTR\n",
    "from parametric_pde_diff import TrainSGTRidge, create_groups\n",
    "\n",
    "from scipy.integrate import odeint\n",
    "from numpy.fft import fft, ifft, fftfreq\n",
    "from time import time\n",
    "\n",
    "from pysr import pysr, best\n",
    "\n",
    "fontsize = 20"
   ]
  },
  {
   "cell_type": "code",
   "execution_count": 2,
   "metadata": {},
   "outputs": [
    {
     "name": "stdout",
     "output_type": "stream",
     "text": [
      "Loaded from ../parametric_pde_data/parametric_burgers.pkl\n"
     ]
    }
   ],
   "source": [
    "data = pickle_load(\"../parametric_pde_data/parametric_burgers.pkl\")\n",
    "\n",
    "x = data['x']; spatial_dims = x.shape[0]\n",
    "t = data['t']; time_dims = t.shape[0]\n",
    "\n",
    "Exact = data['u']\n",
    "X, T = np.meshgrid(x, t)\n",
    "\n",
    "X_star = np.hstack((to_column_vector(X), to_column_vector(T)))\n",
    "u_star = to_column_vector(Exact.T)\n",
    "\n",
    "# domain bounds\n",
    "lb = X_star.min(axis=0)\n",
    "ub = X_star.max(axis=0)\n",
    "\n",
    "# Sampling training data points\n",
    "N = 20000\n",
    "training_idxs = sampling_from_rows(X_star, N, True)\n",
    "X_train = X_star[training_idxs, :]\n",
    "u_train = u_star[training_idxs, :]\n",
    "\n",
    "# to_tensor\n",
    "X_star = to_tensor(X_star, True)\n",
    "u_star = to_tensor(u_star, False)\n",
    "X_train = to_tensor(X_train, True)\n",
    "u_train = to_tensor(u_train, False)\n",
    "lb = to_tensor(lb, False)\n",
    "ub = to_tensor(ub, False)\n",
    "\n",
    "u_xx_true = 0.1*np.ones(time_dims)\n",
    "uu_x_true = -1*(1+0.25*np.sin(t))\n",
    "\n",
    "feature_names = ['u', 'u_x', 'u_xx']"
   ]
  },
  {
   "cell_type": "code",
   "execution_count": 3,
   "metadata": {},
   "outputs": [
    {
     "name": "stdout",
     "output_type": "stream",
     "text": [
      "Loaded the pretrained weights\n"
     ]
    }
   ],
   "source": [
    "pinn = ParametricPINN(scale=False, lb=lb, ub=ub)\n",
    "print(\"Loaded the pretrained weights\")\n",
    "pinn.load_state_dict(torch.load(\"./saved_path_inverse_parametric_burgers/parametric_pinn.pth\"))\n",
    "model = nn.Sequential(pinn.preprocessor_net, pinn.pde_solver_net)\n",
    "\n",
    "pde_terms = [\"u*u_x\", \"u_xx\"]\n",
    "func_terms = [\"-0.1872898*sin(t)-1.0238724\", \"0.09875935\"]\n",
    "final_burger_pinn = FinalParametricPINN(model=model, pde_terms=pde_terms, func_terms=func_terms, scale=pinn.scale, lb=pinn.lb, ub=pinn.ub)\n",
    "del pinn"
   ]
  },
  {
   "cell_type": "code",
   "execution_count": 4,
   "metadata": {},
   "outputs": [],
   "source": [
    "x, t = dimension_slicing(X_train)"
   ]
  },
  {
   "cell_type": "code",
   "execution_count": 5,
   "metadata": {},
   "outputs": [],
   "source": [
    "def pcgrad_closure(return_list=False):\n",
    "    global N, x, t, u_train\n",
    "    losses = final_burger_pinn.loss(x, t, u_train)\n",
    "    updated_grads = []\n",
    "    \n",
    "    for i in range(2):\n",
    "        optimizer.zero_grad()\n",
    "        losses[i].backward(retain_graph=True)\n",
    "\n",
    "        g_task = []\n",
    "        for param in final_burger_pinn.parameters():\n",
    "            if param.grad is not None:\n",
    "                g_task.append(Variable(param.grad.clone(), requires_grad=False))\n",
    "            else:\n",
    "                g_task.append(Variable(torch.zeros(param.shape), requires_grad=False))\n",
    "        # appending the gradients from each task\n",
    "        updated_grads.append(g_task)\n",
    "\n",
    "    updated_grads = list(pcgrad.pc_grad_update(updated_grads))[0]\n",
    "    for idx, param in enumerate(final_burger_pinn.parameters()):\n",
    "        param.grad = (updated_grads[0][idx]+updated_grads[1][idx])\n",
    "        \n",
    "    if not return_list: return losses[0]+losses[1]\n",
    "    else: return losses"
   ]
  },
  {
   "cell_type": "code",
   "execution_count": 6,
   "metadata": {},
   "outputs": [],
   "source": [
    "def finetuning_closure():\n",
    "    global N, x, t, u_train\n",
    "    if torch.is_grad_enabled(): f_opt.zero_grad()\n",
    "    # the solver network only consider the first N samples.\n",
    "    mse_loss, pde_loss = final_burger_pinn.loss(x, t, u_train)\n",
    "    loss = mse_loss + pde_loss\n",
    "    if loss.requires_grad: loss.backward(retain_graph=False)\n",
    "    return loss"
   ]
  },
  {
   "cell_type": "code",
   "execution_count": 7,
   "metadata": {},
   "outputs": [
    {
     "name": "stdout",
     "output_type": "stream",
     "text": [
      "(tensor(1.6520e-05, grad_fn=<MseLossBackward>), tensor(1.4454e-06, grad_fn=<MseLossBackward>))\n",
      "(tensor(1.6372e-05, grad_fn=<MseLossBackward>), tensor(1.4575e-06, grad_fn=<MseLossBackward>))\n",
      "(tensor(1.6190e-05, grad_fn=<MseLossBackward>), tensor(1.4612e-06, grad_fn=<MseLossBackward>))\n",
      "(tensor(1.5999e-05, grad_fn=<MseLossBackward>), tensor(1.4652e-06, grad_fn=<MseLossBackward>))\n",
      "(tensor(1.5785e-05, grad_fn=<MseLossBackward>), tensor(1.4798e-06, grad_fn=<MseLossBackward>))\n",
      "(tensor(1.5598e-05, grad_fn=<MseLossBackward>), tensor(1.4839e-06, grad_fn=<MseLossBackward>))\n",
      "(tensor(1.5408e-05, grad_fn=<MseLossBackward>), tensor(1.4930e-06, grad_fn=<MseLossBackward>))\n",
      "(tensor(1.5235e-05, grad_fn=<MseLossBackward>), tensor(1.4970e-06, grad_fn=<MseLossBackward>))\n",
      "(tensor(1.5054e-05, grad_fn=<MseLossBackward>), tensor(1.5072e-06, grad_fn=<MseLossBackward>))\n",
      "(tensor(1.4885e-05, grad_fn=<MseLossBackward>), tensor(1.5142e-06, grad_fn=<MseLossBackward>))\n",
      "(tensor(1.4732e-05, grad_fn=<MseLossBackward>), tensor(1.5159e-06, grad_fn=<MseLossBackward>))\n",
      "(tensor(1.4604e-05, grad_fn=<MseLossBackward>), tensor(1.5108e-06, grad_fn=<MseLossBackward>))\n",
      "(tensor(1.4490e-05, grad_fn=<MseLossBackward>), tensor(1.5035e-06, grad_fn=<MseLossBackward>))\n",
      "(tensor(1.4374e-05, grad_fn=<MseLossBackward>), tensor(1.4993e-06, grad_fn=<MseLossBackward>))\n",
      "(tensor(1.4253e-05, grad_fn=<MseLossBackward>), tensor(1.4981e-06, grad_fn=<MseLossBackward>))\n",
      "2.7016744752472732e-06\n",
      "2.0360766939120367e-06\n",
      "2.0360766939120367e-06\n",
      "2.0360766939120367e-06\n",
      "2.0360766939120367e-06\n",
      "2.0360766939120367e-06\n",
      "2.0360766939120367e-06\n",
      "2.0360766939120367e-06\n",
      "2.0360766939120367e-06\n",
      "2.0360766939120367e-06\n"
     ]
    }
   ],
   "source": [
    "optimizer = MADGRAD(final_burger_pinn.parameters(), lr=1e-6, momentum=0.9)\n",
    "for i in range(150):\n",
    "    final_burger_pinn.train()\n",
    "    optimizer.step(pcgrad_closure)\n",
    "    if i%10==0:\n",
    "        loss = pcgrad_closure(return_list=True)\n",
    "        print(loss)\n",
    "        \n",
    "f_opt = torch.optim.LBFGS(final_burger_pinn.parameters(), lr=1e-1, max_iter=500, max_eval=int(1.25*500), history_size=300, line_search_fn='strong_wolfe')\n",
    "for i in range(100):\n",
    "    f_opt.step(finetuning_closure)\n",
    "    if i%10==0:\n",
    "        loss = finetuning_closure()\n",
    "        print(loss.item())"
   ]
  },
  {
   "cell_type": "code",
   "execution_count": 8,
   "metadata": {},
   "outputs": [
    {
     "data": {
      "text/plain": [
       "[-1.000471830368042, -0.24403581023216248, 0.09949728101491928]"
      ]
     },
     "execution_count": 8,
     "metadata": {},
     "output_type": "execute_result"
    }
   ],
   "source": [
    "[x.item() for x in final_burger_pinn.pdc.parameters()]"
   ]
  },
  {
   "cell_type": "code",
   "execution_count": 9,
   "metadata": {},
   "outputs": [
    {
     "data": {
      "text/plain": [
       "(0.9785259763399777, 1.01223562666848)"
      ]
     },
     "execution_count": 9,
     "metadata": {},
     "output_type": "execute_result"
    }
   ],
   "source": [
    "errs = np.array([100*(1.000471830368042-1), 100*(0.25-0.24403581023216248)/0.25, 100*(0.1-0.09949728101491928)/0.1])\n",
    "errs.mean(), errs.std()"
   ]
  },
  {
   "cell_type": "code",
   "execution_count": 10,
   "metadata": {},
   "outputs": [],
   "source": [
    "save(final_burger_pinn, \"./saved_path_inverse_parametric_burgers/final_parametric_pinn.pth\")"
   ]
  },
  {
   "cell_type": "code",
   "execution_count": 11,
   "metadata": {},
   "outputs": [
    {
     "data": {
      "text/plain": [
       "array([0.04718304, 2.38567591, 0.50271899])"
      ]
     },
     "execution_count": 11,
     "metadata": {},
     "output_type": "execute_result"
    }
   ],
   "source": [
    "errs"
   ]
  },
  {
   "cell_type": "code",
   "execution_count": null,
   "metadata": {},
   "outputs": [],
   "source": []
  }
 ],
 "metadata": {
  "kernelspec": {
   "display_name": "Python 3",
   "language": "python",
   "name": "python3"
  },
  "language_info": {
   "codemirror_mode": {
    "name": "ipython",
    "version": 3
   },
   "file_extension": ".py",
   "mimetype": "text/x-python",
   "name": "python",
   "nbconvert_exporter": "python",
   "pygments_lexer": "ipython3",
   "version": "3.9.5"
  }
 },
 "nbformat": 4,
 "nbformat_minor": 4
}
