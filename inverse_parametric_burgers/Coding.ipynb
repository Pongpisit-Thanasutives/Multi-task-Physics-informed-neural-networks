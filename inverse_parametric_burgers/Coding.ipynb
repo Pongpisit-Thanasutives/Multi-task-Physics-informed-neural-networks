{
 "cells": [
  {
   "cell_type": "code",
   "execution_count": 1,
   "metadata": {},
   "outputs": [
    {
     "name": "stdout",
     "output_type": "stream",
     "text": [
      "Populating the interactive namespace from numpy and matplotlib\n"
     ]
    }
   ],
   "source": [
    "%pylab inline\n",
    "%matplotlib inline\n",
    "import matplotlib.pyplot as plt\n",
    "\n",
    "import numpy as np\n",
    "from sympy import sympify\n",
    "import sys; sys.path.insert(0, \"../\"); from utils import *\n",
    "from models import SympyTorch, PartialDerivativeCalculator\n",
    "from parametric_discovery_pinn import ParametricPINN, BurgerPINN\n",
    "from madgrad import MADGRAD\n",
    "\n",
    "from pde_diff import TrainSTRidge, FiniteDiff, print_pde\n",
    "from robust_pde_diff import print_pde, RobustPCA, Robust_LRSTR\n",
    "from parametric_pde_diff import TrainSGTRidge, create_groups\n",
    "\n",
    "from scipy.integrate import odeint\n",
    "from numpy.fft import fft, ifft, fftfreq\n",
    "from time import time\n",
    "\n",
    "from pysr import pysr, best\n",
    "\n",
    "fontsize = 20"
   ]
  },
  {
   "cell_type": "code",
   "execution_count": 2,
   "metadata": {},
   "outputs": [
    {
     "name": "stdout",
     "output_type": "stream",
     "text": [
      "Loaded from ../parametric_pde_data/parametric_burgers.pkl\n"
     ]
    }
   ],
   "source": [
    "data = pickle_load(\"../parametric_pde_data/parametric_burgers.pkl\")\n",
    "\n",
    "x = data['x']; spatial_dims = x.shape[0]\n",
    "t = data['t']; time_dims = t.shape[0]\n",
    "\n",
    "Exact = data['u']\n",
    "X, T = np.meshgrid(x, t)\n",
    "\n",
    "X_star = np.hstack((to_column_vector(X), to_column_vector(T)))\n",
    "u_star = to_column_vector(Exact.T)\n",
    "\n",
    "# domain bounds\n",
    "lb = X_star.min(axis=0)\n",
    "ub = X_star.max(axis=0)\n",
    "\n",
    "# Sampling training data points\n",
    "N = 20000\n",
    "training_idxs = sampling_from_rows(X_star, N, True)\n",
    "X_train = X_star[training_idxs, :]\n",
    "u_train = u_star[training_idxs, :]\n",
    "\n",
    "# to_tensor\n",
    "X_star = to_tensor(X_star, True)\n",
    "u_star = to_tensor(u_star, False)\n",
    "X_train = to_tensor(X_train, True)\n",
    "u_train = to_tensor(u_train, False)\n",
    "lb = to_tensor(lb, False)\n",
    "ub = to_tensor(ub, False)\n",
    "\n",
    "u_xx_true = 0.1*np.ones(time_dims)\n",
    "uu_x_true = -1*(1+0.25*np.sin(t))\n",
    "\n",
    "feature_names = ['u', 'u_x', 'u_xx']"
   ]
  },
  {
   "cell_type": "code",
   "execution_count": 3,
   "metadata": {},
   "outputs": [
    {
     "name": "stdout",
     "output_type": "stream",
     "text": [
      "Loaded the pretrained weights\n"
     ]
    },
    {
     "data": {
      "text/plain": [
       "<All keys matched successfully>"
      ]
     },
     "execution_count": 3,
     "metadata": {},
     "output_type": "execute_result"
    }
   ],
   "source": [
    "pinn = ParametricPINN(scale=False, lb=lb, ub=ub)\n",
    "print(\"Loaded the pretrained weights\")\n",
    "pinn.load_state_dict(torch.load(\"./saved_path_inverse_parametric_burgers/parametric_pinn.pth\"))"
   ]
  },
  {
   "cell_type": "code",
   "execution_count": 4,
   "metadata": {},
   "outputs": [
    {
     "name": "stdout",
     "output_type": "stream",
     "text": [
      "Please ensure that all coefs are different\n"
     ]
    }
   ],
   "source": [
    "expression, _ = build_exp(\"-0.1872898*sin(t)-1.0238724\")\n",
    "mod = SympyTorch(expressions=[expression])"
   ]
  },
  {
   "cell_type": "code",
   "execution_count": 5,
   "metadata": {},
   "outputs": [],
   "source": [
    "model = nn.Sequential(pinn.preprocessor_net, pinn.pde_solver_net)"
   ]
  },
  {
   "cell_type": "code",
   "execution_count": 6,
   "metadata": {},
   "outputs": [
    {
     "data": {
      "text/plain": [
       "{'u': tensor([[-1.9075e-04],\n",
       "         [ 3.0206e-04],\n",
       "         [ 5.3166e-04],\n",
       "         ...,\n",
       "         [-1.4277e-04],\n",
       "         [-3.6139e-05],\n",
       "         [ 7.9684e-04]], grad_fn=<AddmmBackward>),\n",
       " 'u_x': tensor([[-1.2518e-04],\n",
       "         [-3.4528e-04],\n",
       "         [ 1.6754e-03],\n",
       "         ...,\n",
       "         [-1.8746e-05],\n",
       "         [-2.1789e-04],\n",
       "         [ 1.0137e-03]], grad_fn=<SliceBackward>),\n",
       " 'u_xx': tensor([[-1.2518e-04],\n",
       "         [-3.4528e-04],\n",
       "         [ 1.6754e-03],\n",
       "         ...,\n",
       "         [-1.8746e-05],\n",
       "         [-2.1789e-04],\n",
       "         [ 1.0137e-03]], grad_fn=<SliceBackward>)}"
      ]
     },
     "execution_count": 6,
     "metadata": {},
     "output_type": "execute_result"
    }
   ],
   "source": [
    "xx, tt = dimension_slicing(X_train)\n",
    "u = model(cat(xx, tt))\n",
    "gradients_dict(u, xx, tt, feature_names)"
   ]
  },
  {
   "cell_type": "code",
   "execution_count": 7,
   "metadata": {},
   "outputs": [
    {
     "name": "stdout",
     "output_type": "stream",
     "text": [
      "Please ensure that all coefs are different\n"
     ]
    },
    {
     "data": {
      "text/plain": [
       "tensor([[ 2.3879e-08],\n",
       "        [-1.0430e-07],\n",
       "        [ 8.9074e-07],\n",
       "        ...,\n",
       "        [ 2.6764e-09],\n",
       "        [ 7.8742e-09],\n",
       "        [ 8.0775e-07]], grad_fn=<SqueezeBackward1>)"
      ]
     },
     "execution_count": 7,
     "metadata": {},
     "output_type": "execute_result"
    }
   ],
   "source": [
    "mod1, variables1 = string2sympytorch(\"u*u_x\")\n",
    "mod1(gradients_dict(u, xx, tt, sorted(list(map(str, variables1)))))"
   ]
  },
  {
   "cell_type": "code",
   "execution_count": 8,
   "metadata": {},
   "outputs": [
    {
     "name": "stdout",
     "output_type": "stream",
     "text": [
      "Please ensure that all coefs are different\n"
     ]
    },
    {
     "data": {
      "text/plain": [
       "tensor([[-1.2518e-04],\n",
       "        [-3.4528e-04],\n",
       "        [ 1.6754e-03],\n",
       "        ...,\n",
       "        [-1.8746e-05],\n",
       "        [-2.1789e-04],\n",
       "        [ 1.0137e-03]], grad_fn=<SqueezeBackward1>)"
      ]
     },
     "execution_count": 8,
     "metadata": {},
     "output_type": "execute_result"
    }
   ],
   "source": [
    "mod2, variables2 = string2sympytorch(\"u_xx\")\n",
    "mod2(gradients_dict(u, xx, tt, sorted(list(map(str, variables2)))))"
   ]
  },
  {
   "cell_type": "code",
   "execution_count": 9,
   "metadata": {},
   "outputs": [],
   "source": [
    "# PartialDerivativeCalculator\n",
    "# FunctionCalculator"
   ]
  },
  {
   "cell_type": "code",
   "execution_count": 10,
   "metadata": {},
   "outputs": [
    {
     "name": "stdout",
     "output_type": "stream",
     "text": [
      "Please ensure that all coefs are different\n",
      "Please ensure that all coefs are different\n"
     ]
    }
   ],
   "source": [
    "pdc = PartialDerivativeCalculator([\"u*u_x\", \"u_xx\"], None)"
   ]
  },
  {
   "cell_type": "code",
   "execution_count": 11,
   "metadata": {},
   "outputs": [
    {
     "data": {
      "text/plain": [
       "tensor([[ 2.3879e-08, -1.2518e-04],\n",
       "        [-1.0430e-07, -3.4528e-04],\n",
       "        [ 8.9074e-07,  1.6754e-03],\n",
       "        ...,\n",
       "        [ 2.6764e-09, -1.8746e-05],\n",
       "        [ 7.8742e-09, -2.1789e-04],\n",
       "        [ 8.0775e-07,  1.0137e-03]], grad_fn=<CatBackward>)"
      ]
     },
     "execution_count": 11,
     "metadata": {},
     "output_type": "execute_result"
    }
   ],
   "source": [
    "pdc(u, xx, tt)"
   ]
  },
  {
   "cell_type": "code",
   "execution_count": null,
   "metadata": {},
   "outputs": [],
   "source": []
  }
 ],
 "metadata": {
  "kernelspec": {
   "display_name": "Python 3",
   "language": "python",
   "name": "python3"
  },
  "language_info": {
   "codemirror_mode": {
    "name": "ipython",
    "version": 3
   },
   "file_extension": ".py",
   "mimetype": "text/x-python",
   "name": "python",
   "nbconvert_exporter": "python",
   "pygments_lexer": "ipython3",
   "version": "3.9.5"
  }
 },
 "nbformat": 4,
 "nbformat_minor": 4
}
