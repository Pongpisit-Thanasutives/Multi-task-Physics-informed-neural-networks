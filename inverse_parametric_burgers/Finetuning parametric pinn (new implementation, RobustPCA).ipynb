{
 "cells": [
  {
   "cell_type": "code",
   "execution_count": 1,
   "metadata": {},
   "outputs": [
    {
     "name": "stdout",
     "output_type": "stream",
     "text": [
      "Populating the interactive namespace from numpy and matplotlib\n",
      "Running Python 3.9.6\n",
      "You can use npar for np.array\n"
     ]
    }
   ],
   "source": [
    "%pylab inline\n",
    "%matplotlib inline\n",
    "import matplotlib.pyplot as plt\n",
    "\n",
    "import numpy as np\n",
    "from sympy import sympify\n",
    "import sys; sys.path.insert(0, \"../\"); from utils import *\n",
    "from models import SympyTorch, PartialDerivativeCalculator, CoeffLearner\n",
    "from parametric_discovery_pinn import ParametricPINN, BurgerPINN, FinalParametricPINN\n",
    "from pytorch_robust_pca import *\n",
    "from madgrad import MADGRAD\n",
    "\n",
    "from pde_diff import TrainSTRidge, FiniteDiff, print_pde\n",
    "from robust_pde_diff import print_pde, RobustPCA, Robust_LRSTR\n",
    "from parametric_pde_diff import TrainSGTRidge, create_groups\n",
    "\n",
    "from scipy.integrate import odeint\n",
    "from numpy.fft import fft, ifft, fftfreq\n",
    "from time import time\n",
    "\n",
    "from pysr import pysr, best\n",
    "\n",
    "fontsize = 20"
   ]
  },
  {
   "cell_type": "code",
   "execution_count": 2,
   "metadata": {},
   "outputs": [
    {
     "name": "stdout",
     "output_type": "stream",
     "text": [
      "Loaded from ../parametric_pde_data/parametric_burgers.pkl\n",
      "Perturbed Exact with intensity = 0.01\n",
      "Noisy (x, t)\n",
      "Running Robust PCA on (x, t)\n",
      "Robust PCA Loss: 7.317856993354171e-33\n",
      "Running Robust PCA on u_train\n"
     ]
    },
    {
     "name": "stderr",
     "output_type": "stream",
     "text": [
      "/Users/pongpisit/Desktop/Multi-task-Physics-informed-neural-networks/inverse_parametric_burgers/../utils.py:182: UserWarning: To copy construct from a tensor, it is recommended to use sourceTensor.clone().detach() or sourceTensor.clone().detach().requires_grad_(True), rather than torch.tensor(sourceTensor).\n",
      "  return torch.tensor(arr).float().requires_grad_(g)\n"
     ]
    }
   ],
   "source": [
    "data = pickle_load(\"../parametric_pde_data/parametric_burgers.pkl\")\n",
    "\n",
    "x = data['x']; spatial_dims = x.shape[0]\n",
    "t = data['t']; time_dims = t.shape[0]\n",
    "\n",
    "Exact = data['u']\n",
    "X, T = np.meshgrid(x, t)\n",
    "\n",
    "# Adding noise\n",
    "noise_intensity = 0.01\n",
    "noisy_xt = True\n",
    "\n",
    "Exact = perturb(Exact, intensity=noise_intensity, noise_type=\"normal\")\n",
    "print(\"Perturbed Exact with intensity =\", float(noise_intensity))\n",
    "\n",
    "X_star = np.hstack((to_column_vector(X), to_column_vector(T)))\n",
    "u_star = to_column_vector(Exact.T)\n",
    "\n",
    "# Add noise to (x, t) before setting the lb, and ub.\n",
    "if noisy_xt: \n",
    "    print(\"Noisy (x, t)\")\n",
    "    X_star = perturb(X_star, intensity=noise_intensity, noise_type=\"normal\")\n",
    "else: print(\"Clean (x, t)\")\n",
    "\n",
    "# domain bounds\n",
    "lb = X_star.min(axis=0)\n",
    "ub = X_star.max(axis=0)\n",
    "\n",
    "# Sampling training data points\n",
    "N = 20000\n",
    "training_idxs = sampling_from_rows(X_star, N, True)\n",
    "X_train = X_star[training_idxs, :]\n",
    "u_train = u_star[training_idxs, :]\n",
    "\n",
    "# Robust PCA\n",
    "print(\"Running Robust PCA on (x, t)\")\n",
    "rpca = R_pca_numpy(X_train)\n",
    "X_train_L, X_train_S = rpca.fit(tol=1e-16, max_iter=20000, iter_print=100, verbose=False)\n",
    "print('Robust PCA Loss:', mean_squared_error(X_train, X_train_L+X_train_S))\n",
    "# X_train_S = (X_train_S-X_train_S.min())-(X_train_S.max()-X_train_S.min())\n",
    "X_train_L = to_tensor(X_train_L, True)\n",
    "X_train_S = to_tensor(X_train_S, True)\n",
    "# X_train = X_train_L + X_train_S\n",
    "\n",
    "print(\"Running Robust PCA on u_train\")\n",
    "u_train_L, u_train_S = R_pca_numpy(u_train).fit(tol=1e-16, max_iter=20000, iter_print=100, verbose=False)\n",
    "u_train_L = to_tensor(u_train_L, False)\n",
    "u_train_S = to_tensor(u_train_S, False)\n",
    "u_train = u_train_L + u_train_S\n",
    "\n",
    "del rpca\n",
    "\n",
    "# to_tensor\n",
    "X_star = to_tensor(X_star, True)\n",
    "u_star = to_tensor(u_star, False)\n",
    "X_train = to_tensor(X_train, True)\n",
    "u_train = to_tensor(u_train, False)\n",
    "lb = to_tensor(lb, False)\n",
    "ub = to_tensor(ub, False)\n",
    "\n",
    "u_xx_true = 0.1*np.ones(time_dims)\n",
    "uu_x_true = -1*(1+0.25*np.sin(t))\n",
    "\n",
    "feature_names = ['u', 'u_x', 'u_xx']\n",
    "\n",
    "del X_star, u_star, X, T, Exact, data"
   ]
  },
  {
   "cell_type": "code",
   "execution_count": 3,
   "metadata": {},
   "outputs": [
    {
     "name": "stdout",
     "output_type": "stream",
     "text": [
      "Loaded the pretrained weights\n"
     ]
    }
   ],
   "source": [
    "pinn = ParametricPINN(scale=False, lb=lb, ub=ub)\n",
    "print(\"Loaded the pretrained weights\")\n",
    "pinn.load_state_dict(torch.load(\"./saved_path_inverse_parametric_burgers/parametric_pinn.pth\"))\n",
    "model = nn.Sequential(pinn.preprocessor_net, pinn.pde_solver_net)\n",
    "\n",
    "pde_terms = [\"u*u_x\", \"u_xx\"]\n",
    "func_terms = [\"-0.1872898*sin(t)-1.0238724\", \"0.09875935\"]\n",
    "final_burger_pinn = FinalParametricPINN(model=model, pde_terms=pde_terms, func_terms=func_terms, uncert=True, scale=pinn.scale, lb=pinn.lb, ub=pinn.ub)\n",
    "del pinn"
   ]
  },
  {
   "cell_type": "code",
   "execution_count": 4,
   "metadata": {},
   "outputs": [],
   "source": [
    "class RobustFinalParametricPINN(nn.Module):\n",
    "    def __init__(self, pinn, beta1=0.0, beta2=0.0, beta3=0.0, is_beta1_trainable=True, is_beta2_trainable=True, is_beta3_trainable=False, hidden_nodes=50):\n",
    "        super(RobustFinalParametricPINN, self).__init__()\n",
    "        self.pinn = pinn\n",
    "        \n",
    "        self.beta1 = beta1\n",
    "        self.beta2 = beta2\n",
    "        self.beta3 = beta3\n",
    "        \n",
    "        if is_beta1_trainable: self.beta1 = nn.Parameter(data=torch.tensor([self.beta1]), requires_grad=True)\n",
    "        if is_beta2_trainable: self.beta2 = nn.Parameter(data=torch.tensor([self.beta2]), requires_grad=True)\n",
    "        if is_beta3_trainable: self.beta3 = nn.Parameter(data=torch.tensor([self.beta3]), requires_grad=True)\n",
    "        \n",
    "        self.proj = nn.Sequential(nn.Linear(2, hidden_nodes), nn.Tanh(), nn.Linear(hidden_nodes, 2), nn.Tanh())\n",
    "        self.labels_proj = nn.Sequential(nn.Linear(1, hidden_nodes), nn.Tanh(), nn.Linear(hidden_nodes, 1), nn.Tanh())\n",
    "        \n",
    "    def forward(self, x, t):\n",
    "        return self.pinn(x, t)\n",
    "            \n",
    "#     def loss(self, L, S, y_train):\n",
    "#         recov = L + S - self.beta2*self.proj(S)\n",
    "#         return self.pinn.loss(recov[:, 0:1], recov[:, 1:2], y_train)\n",
    "    \n",
    "    def loss(self, L, S, y_train_L, y_train_S):\n",
    "        recov = L-self.beta2*self.proj(S)\n",
    "        corr = self.labels_proj(y_train_S)\n",
    "        return self.pinn.loss(recov[:, 0:1], recov[:, 1:2], y_train_L-self.beta3*corr/torch.norm(corr, p=2))"
   ]
  },
  {
   "cell_type": "code",
   "execution_count": 5,
   "metadata": {},
   "outputs": [],
   "source": [
    "robust_buger_pinn = RobustFinalParametricPINN(pinn=final_burger_pinn, is_beta1_trainable=False, is_beta3_trainable=True, hidden_nodes=32)"
   ]
  },
  {
   "cell_type": "code",
   "execution_count": 6,
   "metadata": {},
   "outputs": [],
   "source": [
    "def pcgrad_closure(return_list=False):\n",
    "    global N, X_train, X_train_L, X_train_S, u_train\n",
    "    losses = robust_buger_pinn.loss(X_train, X_train_S, u_train, u_train_S)\n",
    "    updated_grads = []\n",
    "    \n",
    "    for i in range(2):\n",
    "        optimizer.zero_grad()\n",
    "        losses[i].backward(retain_graph=True)\n",
    "\n",
    "        g_task = []\n",
    "        for param in robust_buger_pinn.parameters():\n",
    "            if param.grad is not None:\n",
    "                g_task.append(Variable(param.grad.clone(), requires_grad=False))\n",
    "            else:\n",
    "                g_task.append(Variable(torch.zeros(param.shape), requires_grad=False))\n",
    "        # appending the gradients from each task\n",
    "        updated_grads.append(g_task)\n",
    "\n",
    "    updated_grads = list(pcgrad.pc_grad_update(updated_grads))[0]\n",
    "    for idx, param in enumerate(robust_buger_pinn.parameters()):\n",
    "        param.grad = (updated_grads[0][idx]+updated_grads[1][idx])\n",
    "        \n",
    "    if not return_list: return losses[0]+losses[1]\n",
    "    else: return losses"
   ]
  },
  {
   "cell_type": "code",
   "execution_count": 7,
   "metadata": {},
   "outputs": [],
   "source": [
    "def finetuning_closure():\n",
    "    global N, X_train, X_train_L, X_train_S, u_train\n",
    "    if torch.is_grad_enabled(): f_opt.zero_grad()\n",
    "    # the solver network only consider the first N samples.\n",
    "    mse_loss, pde_loss = robust_buger_pinn.loss(X_train, X_train_S, u_train, u_train_S)\n",
    "    loss = mse_loss + pde_loss\n",
    "    if loss.requires_grad: loss.backward(retain_graph=True)\n",
    "    return loss"
   ]
  },
  {
   "cell_type": "code",
   "execution_count": 8,
   "metadata": {},
   "outputs": [
    {
     "name": "stdout",
     "output_type": "stream",
     "text": [
      "tensor(6.7343e-05, grad_fn=<AddBackward0>)\n",
      "tensor(6.6172e-05, grad_fn=<AddBackward0>)\n",
      "tensor(6.6094e-05, grad_fn=<AddBackward0>)\n",
      "tensor(6.6094e-05, grad_fn=<AddBackward0>)\n",
      "tensor(6.6094e-05, grad_fn=<AddBackward0>)\n"
     ]
    }
   ],
   "source": [
    "# optimizer = MADGRAD(robust_buger_pinn.parameters(), lr=1e-6, momentum=0.9)\n",
    "# robust_buger_pinn.train()\n",
    "# for i in range(150):\n",
    "#     optimizer.step(pcgrad_closure)\n",
    "#     if i%10==0: print(pcgrad_closure(return_list=True))\n",
    "        \n",
    "f_opt = torch.optim.LBFGS(robust_buger_pinn.parameters(), lr=1e-1, max_iter=500, max_eval=int(1.25*500), history_size=300, line_search_fn='strong_wolfe')\n",
    "final_burger_pinn.is_uncert = False\n",
    "for i in range(50):\n",
    "    f_opt.step(finetuning_closure)\n",
    "    if i%10==0: print(finetuning_closure())"
   ]
  },
  {
   "cell_type": "code",
   "execution_count": 9,
   "metadata": {},
   "outputs": [
    {
     "data": {
      "text/plain": [
       "[-1.0021382570266724, -0.24129116535186768, 0.09974975883960724]"
      ]
     },
     "execution_count": 9,
     "metadata": {},
     "output_type": "execute_result"
    }
   ],
   "source": [
    "[x.item() for x in robust_buger_pinn.pinn.pdc.parameters()]"
   ]
  },
  {
   "cell_type": "code",
   "execution_count": 11,
   "metadata": {},
   "outputs": [
    {
     "data": {
      "text/plain": [
       "(1.3158669074376441, 1.5328440955479825)"
      ]
     },
     "execution_count": 11,
     "metadata": {},
     "output_type": "execute_result"
    }
   ],
   "source": [
    "errs = np.array([100*abs(1.0021382570266724-1), 100*abs(0.24129116535186768-0.25)/0.25, 100*abs(0.09974975883960724-0.1)/0.1])\n",
    "errs.mean(), errs.std()"
   ]
  },
  {
   "cell_type": "code",
   "execution_count": 12,
   "metadata": {},
   "outputs": [
    {
     "data": {
      "text/plain": [
       "(0.0,\n",
       " Parameter containing:\n",
       " tensor([-0.0181], requires_grad=True),\n",
       " Parameter containing:\n",
       " tensor([0.0015], requires_grad=True))"
      ]
     },
     "execution_count": 12,
     "metadata": {},
     "output_type": "execute_result"
    }
   ],
   "source": [
    "robust_buger_pinn.beta1, robust_buger_pinn.beta2, robust_buger_pinn.beta3"
   ]
  },
  {
   "cell_type": "code",
   "execution_count": 13,
   "metadata": {},
   "outputs": [],
   "source": [
    "# save(robust_buger_pinn, \"./saved_path_inverse_parametric_burgers/noisy2_final_doublerpca_parametric_pinn.pth\")"
   ]
  },
  {
   "cell_type": "code",
   "execution_count": null,
   "metadata": {},
   "outputs": [],
   "source": [
    "# New results\n",
    "\n",
    "# Noisy Exact & Noisy (x, t) & X_train = X_train - self.beta2*self.proj(S) | beta1 = 0.0\n",
    "# an attempt with reasonable results\n",
    "# params: [-0.9991318583488464, -0.23970049619674683, 0.10075154900550842]\n",
    "# errs: (1.6527215639750146, 1.7654708038535187)\n",
    "\n",
    "# Noisy Exact & Noisy (x, t) & rpca on (x, t) and rpca on Exact (double rpca)\n",
    "# params: [-0.999883770942688, -0.23896124958992004, 0.09957490116357803]\n",
    "# errs (1.6174073020617186, 1.985738038189975)\n",
    "# (0.0,\n",
    "#  Parameter containing:\n",
    "#  tensor([-0.0048], requires_grad=True),\n",
    "#  Parameter containing:\n",
    "#  tensor([-0.0063], requires_grad=True))\n",
    "\n"
   ]
  },
  {
   "cell_type": "code",
   "execution_count": null,
   "metadata": {},
   "outputs": [],
   "source": [
    "# Clean Exact and clean (x, t) | final_parametric_pinn.pth\n",
    "# params: [-1.0013394355773926, -0.2480146884918213, 0.0997583195567131]\n",
    "# errs: (0.38991620143254785, 0.28918291006992664)\n",
    "\n",
    "# Noisy Exact and clean (x, t)\n",
    "# params: [-1.0029208660125732, -0.24306637048721313, 0.09983817487955093]\n",
    "# errs: (1.075787842273714, 1.2016070382040953)\n",
    "\n",
    "# Noisy Exact and Noisy (x, t)\n",
    "# params: [-1.0028020143508911, -0.24078042805194855, 0.10122136771678925]\n",
    "# errs: (1.729799310366311, 1.4368618683618857)\n",
    "\n",
    "# Noisy Exact & Clean (x, t) & X_star = X_star_L+X_star_S\n",
    "# params: [-1.000922441482544, -0.24657735228538513, 0.09988813102245331]\n",
    "# errs: (0.5243907372156797, 0.5973244500071551)\n",
    "# Noisy Exact & Noisy (x, t) & X_star = X_star_L+X_star_S\n",
    "# params: [-1.0046403408050537, -0.24455536901950836, 0.1004636213183403]\n",
    "# errs: (1.035169263680774, 0.8079990064924926)"
   ]
  },
  {
   "cell_type": "code",
   "execution_count": null,
   "metadata": {},
   "outputs": [],
   "source": [
    "# save(final_burger_pinn, \"./saved_path_inverse_parametric_burgers/noisy_final_parametric_pinn.pth\")\n",
    "# save(final_burger_pinn, \"./saved_path_inverse_parametric_burgers/noisy2_final_parametric_pinn.pth\")"
   ]
  },
  {
   "cell_type": "code",
   "execution_count": null,
   "metadata": {},
   "outputs": [],
   "source": []
  }
 ],
 "metadata": {
  "kernelspec": {
   "display_name": "Python 3",
   "language": "python",
   "name": "python3"
  },
  "language_info": {
   "codemirror_mode": {
    "name": "ipython",
    "version": 3
   },
   "file_extension": ".py",
   "mimetype": "text/x-python",
   "name": "python",
   "nbconvert_exporter": "python",
   "pygments_lexer": "ipython3",
   "version": "3.9.6"
  }
 },
 "nbformat": 4,
 "nbformat_minor": 4
}
