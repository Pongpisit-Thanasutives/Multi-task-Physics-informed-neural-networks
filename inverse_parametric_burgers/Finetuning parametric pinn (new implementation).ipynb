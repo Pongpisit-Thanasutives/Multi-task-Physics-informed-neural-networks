{
 "cells": [
  {
   "cell_type": "code",
   "execution_count": 1,
   "metadata": {},
   "outputs": [
    {
     "name": "stdout",
     "output_type": "stream",
     "text": [
      "Populating the interactive namespace from numpy and matplotlib\n",
      "Running Python 3.9.6\n",
      "You can use npar for np.array\n"
     ]
    }
   ],
   "source": [
    "%pylab inline\n",
    "%matplotlib inline\n",
    "import matplotlib.pyplot as plt\n",
    "\n",
    "import numpy as np\n",
    "from sympy import sympify\n",
    "import sys; sys.path.insert(0, \"../\"); from utils import *\n",
    "from models import SympyTorch, PartialDerivativeCalculator, CoeffLearner\n",
    "from parametric_discovery_pinn import ParametricPINN, BurgerPINN, FinalParametricPINN\n",
    "from madgrad import MADGRAD\n",
    "\n",
    "from pde_diff import TrainSTRidge, FiniteDiff, print_pde\n",
    "from robust_pde_diff import print_pde, RobustPCA, Robust_LRSTR\n",
    "from parametric_pde_diff import TrainSGTRidge, create_groups\n",
    "\n",
    "from scipy.integrate import odeint\n",
    "from numpy.fft import fft, ifft, fftfreq\n",
    "from time import time\n",
    "\n",
    "from pysr import pysr, best\n",
    "\n",
    "fontsize = 20"
   ]
  },
  {
   "cell_type": "code",
   "execution_count": 2,
   "metadata": {},
   "outputs": [
    {
     "name": "stdout",
     "output_type": "stream",
     "text": [
      "Loaded from ../parametric_pde_data/parametric_burgers.pkl\n",
      "Perturbed Exact with intensity = 0.01\n",
      "Noisy (x, t)\n"
     ]
    }
   ],
   "source": [
    "data = pickle_load(\"../parametric_pde_data/parametric_burgers.pkl\")\n",
    "\n",
    "x = data['x']; spatial_dims = x.shape[0]\n",
    "t = data['t']; time_dims = t.shape[0]\n",
    "\n",
    "Exact = data['u']\n",
    "X, T = np.meshgrid(x, t)\n",
    "\n",
    "# Adding noise\n",
    "noise_intensity = 0.01\n",
    "noisy_xt = True\n",
    "\n",
    "Exact = perturb(Exact, intensity=noise_intensity, noise_type=\"normal\")\n",
    "print(\"Perturbed Exact with intensity =\", float(noise_intensity))\n",
    "\n",
    "X_star = np.hstack((to_column_vector(X), to_column_vector(T)))\n",
    "u_star = to_column_vector(Exact.T)\n",
    "\n",
    "# Add noise to (x, t) before setting the lb, and ub.\n",
    "if noisy_xt: \n",
    "    print(\"Noisy (x, t)\")\n",
    "    X_star = perturb(X_star, intensity=noise_intensity, noise_type=\"normal\")\n",
    "else: print(\"Clean (x, t)\")\n",
    "\n",
    "# domain bounds\n",
    "lb = X_star.min(axis=0)\n",
    "ub = X_star.max(axis=0)\n",
    "\n",
    "# Sampling training data points\n",
    "N = 20000\n",
    "training_idxs = sampling_from_rows(X_star, N, True)\n",
    "X_train = X_star[training_idxs, :]\n",
    "u_train = u_star[training_idxs, :]\n",
    "\n",
    "# to_tensor\n",
    "X_star = to_tensor(X_star, True)\n",
    "u_star = to_tensor(u_star, False)\n",
    "X_train = to_tensor(X_train, True)\n",
    "u_train = to_tensor(u_train, False)\n",
    "lb = to_tensor(lb, False)\n",
    "ub = to_tensor(ub, False)\n",
    "\n",
    "u_xx_true = 0.1*np.ones(time_dims)\n",
    "uu_x_true = -1*(1+0.25*np.sin(t))\n",
    "\n",
    "feature_names = ['u', 'u_x', 'u_xx']"
   ]
  },
  {
   "cell_type": "code",
   "execution_count": 3,
   "metadata": {},
   "outputs": [
    {
     "name": "stdout",
     "output_type": "stream",
     "text": [
      "Loaded the pretrained weights\n"
     ]
    }
   ],
   "source": [
    "pinn = ParametricPINN(scale=False, lb=lb, ub=ub)\n",
    "print(\"Loaded the pretrained weights\")\n",
    "pinn.load_state_dict(torch.load(\"./saved_path_inverse_parametric_burgers/parametric_pinn.pth\"))\n",
    "model = nn.Sequential(pinn.preprocessor_net, pinn.pde_solver_net)\n",
    "\n",
    "pde_terms = [\"u*u_x\", \"u_xx\"]\n",
    "func_terms = [\"-0.1872898*sin(t)-1.0238724\", \"0.09875935\"]\n",
    "final_burger_pinn = FinalParametricPINN(model=model, pde_terms=pde_terms, func_terms=func_terms, uncert=True, scale=pinn.scale, lb=pinn.lb, ub=pinn.ub)\n",
    "del pinn"
   ]
  },
  {
   "cell_type": "code",
   "execution_count": 4,
   "metadata": {},
   "outputs": [],
   "source": [
    "x, t = dimension_slicing(X_train)"
   ]
  },
  {
   "cell_type": "code",
   "execution_count": 5,
   "metadata": {},
   "outputs": [],
   "source": [
    "def pcgrad_closure(return_list=False):\n",
    "    global N, x, t, u_train\n",
    "    losses = final_burger_pinn.loss(x, t, u_train)\n",
    "    updated_grads = []\n",
    "    \n",
    "    for i in range(2):\n",
    "        optimizer.zero_grad()\n",
    "        losses[i].backward(retain_graph=True)\n",
    "\n",
    "        g_task = []\n",
    "        for param in final_burger_pinn.parameters():\n",
    "            if param.grad is not None:\n",
    "                g_task.append(Variable(param.grad.clone(), requires_grad=False))\n",
    "            else:\n",
    "                g_task.append(Variable(torch.zeros(param.shape), requires_grad=False))\n",
    "        # appending the gradients from each task\n",
    "        updated_grads.append(g_task)\n",
    "\n",
    "    updated_grads = list(pcgrad.pc_grad_update(updated_grads))[0]\n",
    "    for idx, param in enumerate(final_burger_pinn.parameters()):\n",
    "        param.grad = (updated_grads[0][idx]+updated_grads[1][idx])\n",
    "        \n",
    "    if not return_list: return losses[0]+losses[1]\n",
    "    else: return losses"
   ]
  },
  {
   "cell_type": "code",
   "execution_count": 6,
   "metadata": {},
   "outputs": [],
   "source": [
    "def finetuning_closure():\n",
    "    global N, x, t, u_train\n",
    "    if torch.is_grad_enabled(): f_opt.zero_grad()\n",
    "    # the solver network only consider the first N samples.\n",
    "    mse_loss, pde_loss = final_burger_pinn.loss(x, t, u_train)\n",
    "    loss = mse_loss + pde_loss\n",
    "    if loss.requires_grad: loss.backward(retain_graph=False)\n",
    "    return loss"
   ]
  },
  {
   "cell_type": "code",
   "execution_count": 7,
   "metadata": {},
   "outputs": [
    {
     "name": "stdout",
     "output_type": "stream",
     "text": [
      "[tensor(0.6932, grad_fn=<AddBackward0>), tensor(0.6931, grad_fn=<AddBackward0>)]\n",
      "[tensor(0.6926, grad_fn=<AddBackward0>), tensor(0.6925, grad_fn=<AddBackward0>)]\n",
      "[tensor(0.6916, grad_fn=<AddBackward0>), tensor(0.6915, grad_fn=<AddBackward0>)]\n",
      "[tensor(0.6904, grad_fn=<AddBackward0>), tensor(0.6904, grad_fn=<AddBackward0>)]\n",
      "[tensor(0.6892, grad_fn=<AddBackward0>), tensor(0.6892, grad_fn=<AddBackward0>)]\n",
      "[tensor(0.6880, grad_fn=<AddBackward0>), tensor(0.6880, grad_fn=<AddBackward0>)]\n",
      "[tensor(0.6868, grad_fn=<AddBackward0>), tensor(0.6868, grad_fn=<AddBackward0>)]\n",
      "[tensor(0.6856, grad_fn=<AddBackward0>), tensor(0.6856, grad_fn=<AddBackward0>)]\n",
      "[tensor(0.6844, grad_fn=<AddBackward0>), tensor(0.6844, grad_fn=<AddBackward0>)]\n",
      "[tensor(0.6832, grad_fn=<AddBackward0>), tensor(0.6832, grad_fn=<AddBackward0>)]\n",
      "[tensor(0.6820, grad_fn=<AddBackward0>), tensor(0.6820, grad_fn=<AddBackward0>)]\n",
      "[tensor(0.6808, grad_fn=<AddBackward0>), tensor(0.6807, grad_fn=<AddBackward0>)]\n",
      "[tensor(0.6796, grad_fn=<AddBackward0>), tensor(0.6795, grad_fn=<AddBackward0>)]\n",
      "[tensor(0.6783, grad_fn=<AddBackward0>), tensor(0.6783, grad_fn=<AddBackward0>)]\n",
      "[tensor(0.6771, grad_fn=<AddBackward0>), tensor(0.6771, grad_fn=<AddBackward0>)]\n",
      "tensor(0.0122, grad_fn=<AddBackward0>)\n",
      "tensor(0.0120, grad_fn=<AddBackward0>)\n",
      "tensor(0.0120, grad_fn=<AddBackward0>)\n",
      "tensor(0.0120, grad_fn=<AddBackward0>)\n",
      "tensor(0.0120, grad_fn=<AddBackward0>)\n",
      "tensor(0.0120, grad_fn=<AddBackward0>)\n",
      "tensor(0.0120, grad_fn=<AddBackward0>)\n",
      "tensor(0.0120, grad_fn=<AddBackward0>)\n",
      "tensor(0.0120, grad_fn=<AddBackward0>)\n",
      "tensor(0.0120, grad_fn=<AddBackward0>)\n"
     ]
    }
   ],
   "source": [
    "optimizer = MADGRAD(final_burger_pinn.parameters(), lr=1e-6, momentum=0.9)\n",
    "for i in range(150):\n",
    "    final_burger_pinn.train()\n",
    "    optimizer.step(pcgrad_closure)\n",
    "    if i%10==0: print(pcgrad_closure(return_list=True))\n",
    "        \n",
    "f_opt = torch.optim.LBFGS(final_burger_pinn.parameters(), lr=1e-1, max_iter=500, max_eval=int(1.25*500), history_size=300, line_search_fn='strong_wolfe')\n",
    "final_burger_pinn.is_uncert = True\n",
    "for i in range(100):\n",
    "    f_opt.step(finetuning_closure)\n",
    "    if i%10==0: print(finetuning_closure())"
   ]
  },
  {
   "cell_type": "code",
   "execution_count": 8,
   "metadata": {},
   "outputs": [
    {
     "data": {
      "text/plain": [
       "[-1.0028020143508911, -0.24078042805194855, 0.10122136771678925]"
      ]
     },
     "execution_count": 8,
     "metadata": {},
     "output_type": "execute_result"
    }
   ],
   "source": [
    "[x.item() for x in final_burger_pinn.pdc.parameters()]"
   ]
  },
  {
   "cell_type": "code",
   "execution_count": 9,
   "metadata": {},
   "outputs": [
    {
     "data": {
      "text/plain": [
       "(1.729799310366311, 1.4368618683618857)"
      ]
     },
     "execution_count": 9,
     "metadata": {},
     "output_type": "execute_result"
    }
   ],
   "source": [
    "errs = np.array([100*(1.0028020143508911-1), 100*(0.25-0.24078042805194855)/0.25, 100*(0.10122136771678925-0.1)/0.1])\n",
    "errs.mean(), errs.std()"
   ]
  },
  {
   "cell_type": "code",
   "execution_count": 10,
   "metadata": {},
   "outputs": [],
   "source": [
    "# Clean Exact and clean (x, t) | final_parametric_pinn.pth\n",
    "# params: [-1.0013394355773926, -0.2480146884918213, 0.0997583195567131]\n",
    "# errs: (0.38991620143254785, 0.28918291006992664)\n",
    "\n",
    "# Noisy Exact and clean (x, t)\n",
    "# params: [-1.0029208660125732, -0.24306637048721313, 0.09983817487955093]\n",
    "# errs: (1.075787842273714, 1.2016070382040953)\n",
    "\n",
    "# Noisy Exact and Noisy (x, t)\n",
    "# params: [-1.0028020143508911, -0.24078042805194855, 0.10122136771678925]\n",
    "# errs: (1.729799310366311, 1.4368618683618857)"
   ]
  },
  {
   "cell_type": "code",
   "execution_count": 11,
   "metadata": {},
   "outputs": [],
   "source": [
    "# save(final_burger_pinn, \"./saved_path_inverse_parametric_burgers/noisy2_final_parametric_pinn.pth\")"
   ]
  },
  {
   "cell_type": "code",
   "execution_count": null,
   "metadata": {},
   "outputs": [],
   "source": []
  }
 ],
 "metadata": {
  "kernelspec": {
   "display_name": "Python 3",
   "language": "python",
   "name": "python3"
  },
  "language_info": {
   "codemirror_mode": {
    "name": "ipython",
    "version": 3
   },
   "file_extension": ".py",
   "mimetype": "text/x-python",
   "name": "python",
   "nbconvert_exporter": "python",
   "pygments_lexer": "ipython3",
   "version": "3.9.6"
  }
 },
 "nbformat": 4,
 "nbformat_minor": 4
}
