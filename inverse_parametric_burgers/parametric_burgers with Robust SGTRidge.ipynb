{
 "cells": [
  {
   "cell_type": "code",
   "execution_count": 1,
   "metadata": {},
   "outputs": [
    {
     "name": "stdout",
     "output_type": "stream",
     "text": [
      "Populating the interactive namespace from numpy and matplotlib\n"
     ]
    }
   ],
   "source": [
    "%pylab inline\n",
    "%matplotlib inline\n",
    "import matplotlib.pyplot as plt\n",
    "\n",
    "import numpy as np\n",
    "import sys; sys.path.insert(0, \"../\"); from utils import *\n",
    "from parametric_discovery_pinn import ParametricPINN\n",
    "from madgrad import MADGRAD\n",
    "\n",
    "from pde_diff import TrainSTRidge, FiniteDiff, print_pde\n",
    "from robust_pde_diff import print_pde, RobustPCA, Robust_LRSTR, DLrSR\n",
    "from parametric_pde_diff import TrainSGTRidge, create_groups\n",
    "from pytorch_robust_pca import R_pca\n",
    "\n",
    "from scipy.integrate import odeint\n",
    "from numpy.fft import fft, ifft, fftfreq\n",
    "from time import time\n",
    "\n",
    "from pysr import pysr, best\n",
    "\n",
    "fontsize = 20"
   ]
  },
  {
   "cell_type": "code",
   "execution_count": 2,
   "metadata": {},
   "outputs": [
    {
     "name": "stdout",
     "output_type": "stream",
     "text": [
      "Loaded from ../parametric_pde_data/parametric_burgers.pkl\n"
     ]
    }
   ],
   "source": [
    "data = pickle_load(\"../parametric_pde_data/parametric_burgers.pkl\")\n",
    "\n",
    "x = data['x']; spatial_dims = x.shape[0]\n",
    "t = data['t']; time_dims = t.shape[0]\n",
    "\n",
    "Exact = data['u']\n",
    "X, T = np.meshgrid(x, t)\n",
    "\n",
    "X_star = np.hstack((to_column_vector(X), to_column_vector(T)))\n",
    "u_star = to_column_vector(Exact.T)\n",
    "\n",
    "# domain bounds\n",
    "lb = X_star.min(axis=0)\n",
    "ub = X_star.max(axis=0)\n",
    "\n",
    "# Sampling training data points\n",
    "N = 20000\n",
    "training_idxs = sampling_from_rows(X_star, N, True)\n",
    "X_train = X_star[training_idxs, :]\n",
    "u_train = u_star[training_idxs, :]\n",
    "\n",
    "# to_tensor\n",
    "X_star = to_tensor(X_star, True)\n",
    "u_star = to_tensor(u_star, False)\n",
    "X_train = to_tensor(X_train, True)\n",
    "u_train = to_tensor(u_train, False)\n",
    "lb = to_tensor(lb, False)\n",
    "ub = to_tensor(ub, False)\n",
    "\n",
    "u_xx_true = 0.1*np.ones(time_dims)\n",
    "uu_x_true = -1*(1+0.25*np.sin(t))"
   ]
  },
  {
   "cell_type": "code",
   "execution_count": 3,
   "metadata": {},
   "outputs": [
    {
     "name": "stdout",
     "output_type": "stream",
     "text": [
      "Loaded the pretrained weights\n"
     ]
    },
    {
     "data": {
      "text/plain": [
       "<All keys matched successfully>"
      ]
     },
     "execution_count": 3,
     "metadata": {},
     "output_type": "execute_result"
    }
   ],
   "source": [
    "pinn = ParametricPINN(scale=False, lb=lb, ub=ub)\n",
    "print(\"Loaded the pretrained weights\")\n",
    "pinn.load_state_dict(torch.load(\"./saved_path_inverse_parametric_burgers/parametric_pinn.pth\"))"
   ]
  },
  {
   "cell_type": "code",
   "execution_count": 4,
   "metadata": {},
   "outputs": [],
   "source": [
    "def pcgrad_closure(return_list=False):\n",
    "    global N, X_train, u_train\n",
    "    losses = pinn.loss(*dimension_slicing(X_train), u_train)\n",
    "    updated_grads = []\n",
    "    \n",
    "    for i in range(2):\n",
    "        optimizer.zero_grad()\n",
    "        losses[i].backward(retain_graph=True)\n",
    "\n",
    "        g_task = []\n",
    "        for param in pinn.parameters():\n",
    "            if param.grad is not None:\n",
    "                g_task.append(Variable(param.grad.clone(), requires_grad=False))\n",
    "            else:\n",
    "                g_task.append(Variable(torch.zeros(param.shape), requires_grad=False))\n",
    "        # appending the gradients from each task\n",
    "        updated_grads.append(g_task)\n",
    "\n",
    "    updated_grads = list(pcgrad.pc_grad_update(updated_grads))[0]\n",
    "    for idx, param in enumerate(pinn.parameters()):\n",
    "        param.grad = (updated_grads[0][idx]+updated_grads[1][idx])\n",
    "        \n",
    "    if not return_list: return losses[0]+losses[1]\n",
    "    else: return losses"
   ]
  },
  {
   "cell_type": "code",
   "execution_count": 5,
   "metadata": {},
   "outputs": [],
   "source": [
    "def finetuning_closure():\n",
    "    global N, X_train, u_train\n",
    "    if torch.is_grad_enabled(): f_opt.zero_grad()\n",
    "    # the solver network only consider the first N samples.\n",
    "    mse_loss, pde_loss = pinn.loss(*dimension_slicing(X_train), u_train)\n",
    "    loss = mse_loss + pde_loss\n",
    "    if loss.requires_grad: loss.backward(retain_graph=False)\n",
    "    return loss"
   ]
  },
  {
   "cell_type": "markdown",
   "metadata": {},
   "source": [
    "#### Finding the eqs"
   ]
  },
  {
   "cell_type": "code",
   "execution_count": 6,
   "metadata": {},
   "outputs": [
    {
     "name": "stdout",
     "output_type": "stream",
     "text": [
      "['u', 'u_x', 'u_xx']\n"
     ]
    }
   ],
   "source": [
    "grads_dict = pinn.gradients_dict(*dimension_slicing(X_star))\n",
    "\n",
    "feature_names = list(grads_dict.keys())\n",
    "u_t_index = feature_names.index('u_t')\n",
    "\n",
    "referenced_derivatives = np.hstack([t.detach().numpy() for t in list(grads_dict.values())])\n",
    "u_t = referenced_derivatives[:, u_t_index:u_t_index+1]\n",
    "\n",
    "referenced_derivatives = np.delete(referenced_derivatives, u_t_index, 1)\n",
    "del feature_names[u_t_index]\n",
    "\n",
    "print(feature_names)"
   ]
  },
  {
   "cell_type": "markdown",
   "metadata": {},
   "source": [
    "#### Two options \n",
    "    (1) Cal u_t based on Z (needs differentiable RobustPCA function, more proper)\n",
    "    (2) Cal u_t based on u (more easy)\n",
    "    \n",
    "    ================================================================================\n",
    "    \n",
    "    Plan to integrate the AAAI'20 paper\n",
    "\n",
    "    Robust PCA on u (in matrix form) then flatten&auto diff \n",
    "    to calculate u_x, u_xx, and u_t\n",
    "\n",
    "    Preprocessing\n",
    "\n",
    "    TrainSGTRidge\n",
    "\n",
    "    Or DLrSR from robust_pde_diff.py. \n",
    "    Use Theta and u_t as the inputs (โค้ดน่าจะไป grouping ให้)"
   ]
  },
  {
   "cell_type": "code",
   "execution_count": 7,
   "metadata": {},
   "outputs": [
    {
     "name": "stdout",
     "output_type": "stream",
     "text": [
      "Please ensure that the shape of U is correct.\n",
      "iteration:1, err:688.9724052167913, nc_norm:169.87227786177948 eta1:0.025420778098049778\n",
      "iteration:50, err:0.09033453696206675, nc_norm:197.33526989785375 eta1:2.71287892890505\n",
      "iteration:100, err:0.0009302405887594256, nc_norm:95.0008625372764 eta1:318.46717122351953\n",
      "iteration:150, err:1.0474193693984447e-05, nc_norm:94.13253348180172 eta1:37385.13284411307\n",
      "iteration:151, err:9.880181584149757e-06, nc_norm:94.13185828328113 eta1:41123.64612852438\n"
     ]
    }
   ],
   "source": [
    "xx, tt = dimension_slicing(X_star)\n",
    "pred_Exact, _ = pinn(xx, tt)\n",
    "pred_Exact = pred_Exact.reshape(X.shape).T\n",
    "\n",
    "pred_Exact = to_numpy(pred_Exact)\n",
    "Z, E1 = RobustPCA(pred_Exact, lam_2=0.1)\n",
    "\n",
    "# rpca = R_pca(pred_Exact, verbose=True)\n",
    "# Z, E1 = rpca(max_iter=200, iter_print=100)\n",
    "\n",
    "Z = to_column_vector(Z.T)\n",
    "\n",
    "# To dooooo...\n",
    "# Convert RobustPCA to a pytorch differentialble function? -> NaNs all over the place\n",
    "# Autodiff on Z to calculate spatial partial diff\n",
    "# Use Z instead"
   ]
  },
  {
   "cell_type": "code",
   "execution_count": 8,
   "metadata": {},
   "outputs": [],
   "source": [
    "referenced_derivatives[:, 0:1] = Z\n",
    "\n",
    "poly = PolynomialFeatures(degree=2, interaction_only=True, include_bias=False)\n",
    "Theta = poly.fit_transform(referenced_derivatives)\n",
    "\n",
    "poly_feature_names = poly.get_feature_names(feature_names)\n",
    "for i, f in enumerate(poly_feature_names):\n",
    "    poly_feature_names[i] = f.replace(\" \", \"*\")"
   ]
  },
  {
   "cell_type": "code",
   "execution_count": 9,
   "metadata": {},
   "outputs": [
    {
     "name": "stdout",
     "output_type": "stream",
     "text": [
      "The outputs can be used by the TrainSGTRidge function.\n"
     ]
    }
   ],
   "source": [
    "Theta_grouped, Ut_grouped = create_groups(Theta, u_t, spatial_dims, time_dims)"
   ]
  },
  {
   "cell_type": "code",
   "execution_count": 10,
   "metadata": {},
   "outputs": [
    {
     "name": "stderr",
     "output_type": "stream",
     "text": [
      "/Users/pongpisit/Desktop/Multi-task-Physics-informed-neural-networks/inverse_parametric_burgers/../parametric_pde_diff.py:602: FutureWarning: arrays to stack must be passed as a \"sequence\" type such as list or tuple. Support for non-sequence iterables such as generators is deprecated as of NumPy 1.16 and will raise an error in the future.\n",
      "  candidate_norms[i] = Norm(np.vstack(A[:,i] for A in As), normalize)\n",
      "/Users/pongpisit/Desktop/Multi-task-Physics-informed-neural-networks/inverse_parametric_burgers/../parametric_pde_diff.py:572: FutureWarning: `rcond` parameter will change to the default of machine precision times ``max(M, N)`` where M and N are the input matrix dimensions.\n",
      "To use the future default and silence this warning we advise to pass `rcond=None`, to keep using the old, explicitly pass `rcond=-1`.\n",
      "  W[biginds,i] = np.linalg.lstsq(Xs[i][:, biginds],ys[i])[0].reshape(len(biginds))\n"
     ]
    }
   ],
   "source": [
    "Xi,Tol,Losses = TrainSGTRidge(Theta_grouped, Ut_grouped)\n",
    "xi = Xi[np.argmin(Losses)]"
   ]
  },
  {
   "cell_type": "code",
   "execution_count": 11,
   "metadata": {},
   "outputs": [
    {
     "data": {
      "text/plain": [
       "['u', 'u_x', 'u_xx', 'u*u_x', 'u*u_xx', 'u_x*u_xx']"
      ]
     },
     "execution_count": 11,
     "metadata": {},
     "output_type": "execute_result"
    }
   ],
   "source": [
    "poly_feature_names"
   ]
  },
  {
   "cell_type": "markdown",
   "metadata": {},
   "source": [
    "#### Plotting the results"
   ]
  },
  {
   "cell_type": "code",
   "execution_count": 12,
   "metadata": {},
   "outputs": [
    {
     "name": "stdout",
     "output_type": "stream",
     "text": [
      "2 -> u_xx\n",
      "3 -> u*u_x\n"
     ]
    },
    {
     "data": {
      "text/plain": [
       "<matplotlib.legend.Legend at 0x152106640>"
      ]
     },
     "execution_count": 12,
     "metadata": {},
     "output_type": "execute_result"
    },
    {
     "data": {
      "image/png": "[encoded data removed]",
      "text/plain": [
       "<Figure size 864x576 with 1 Axes>"
      ]
     },
     "metadata": {
      "needs_background": "light"
     },
     "output_type": "display_data"
    }
   ],
   "source": [
    "pylab.rcParams['figure.figsize'] = (12, 8)\n",
    "for j in range(xi.shape[0]): \n",
    "    if np.linalg.norm(xi[j,:]) > 10**-10:\n",
    "        print(j, '->', poly_feature_names[j])\n",
    "        plot(xi[j,:], label = poly_feature_names[j])\n",
    "\n",
    "title('Burgers Equation Coefficients', fontsize = 16)\n",
    "xlabel('Time', fontsize = 16)\n",
    "ylabel('Coefficient Value', fontsize = 16)\n",
    "legend(loc='center left', bbox_to_anchor=(1, 0.5), fontsize = 14)"
   ]
  },
  {
   "cell_type": "code",
   "execution_count": null,
   "metadata": {},
   "outputs": [],
   "source": []
  }
 ],
 "metadata": {
  "kernelspec": {
   "display_name": "Python 3",
   "language": "python",
   "name": "python3"
  },
  "language_info": {
   "codemirror_mode": {
    "name": "ipython",
    "version": 3
   },
   "file_extension": ".py",
   "mimetype": "text/x-python",
   "name": "python",
   "nbconvert_exporter": "python",
   "pygments_lexer": "ipython3",
   "version": "3.9.5"
  }
 },
 "nbformat": 4,
 "nbformat_minor": 4
}
