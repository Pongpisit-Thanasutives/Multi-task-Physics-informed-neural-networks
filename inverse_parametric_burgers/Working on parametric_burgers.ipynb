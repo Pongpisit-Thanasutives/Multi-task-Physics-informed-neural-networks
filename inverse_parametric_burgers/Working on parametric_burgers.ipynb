{
 "cells": [
  {
   "cell_type": "code",
   "execution_count": 1,
   "metadata": {},
   "outputs": [],
   "source": [
    "import numpy as np\n",
    "import sys; sys.path.insert(0, \"../\"); from utils import *\n",
    "from parametric_discovery_pinn import ParametricPINN\n",
    "from madgrad import MADGRAD"
   ]
  },
  {
   "cell_type": "code",
   "execution_count": 2,
   "metadata": {},
   "outputs": [
    {
     "name": "stdout",
     "output_type": "stream",
     "text": [
      "Loaded from ../parametric_pde_data/parametric_burgers.pkl\n"
     ]
    }
   ],
   "source": [
    "data = pickle_load(\"../parametric_pde_data/parametric_burgers.pkl\")\n",
    "\n",
    "x = data['x']; spatial_dims = x.shape[0]\n",
    "t = data['t']; time_dims = t.shape[0]\n",
    "\n",
    "Exact = data['u']\n",
    "X, T = np.meshgrid(x, t)\n",
    "\n",
    "X_star = np.hstack((to_column_vector(X), to_column_vector(T)))\n",
    "u_star = to_column_vector(Exact.T)\n",
    "\n",
    "# domain bounds\n",
    "lb = X_star.min(axis=0)\n",
    "ub = X_star.max(axis=0)\n",
    "\n",
    "# Sampling training data points\n",
    "N = 20000\n",
    "training_idxs = sampling_from_rows(X_star, N, True)\n",
    "X_train = X_star[training_idxs, :]\n",
    "u_train = u_star[training_idxs, :]\n",
    "\n",
    "# to_tensor\n",
    "X_star = to_tensor(X_star, True)\n",
    "u_star = to_tensor(u_star, False)\n",
    "X_train = to_tensor(X_train, True)\n",
    "u_train = to_tensor(u_train, False)\n",
    "lb = to_tensor(lb, False)\n",
    "ub = to_tensor(ub, False)\n",
    "\n",
    "u_xx_true = 0.1*np.ones(u_star.shape)\n",
    "uu_x_true = -1*(1+0.25*np.sin(X_star[:, 1:2].detach().numpy()))"
   ]
  },
  {
   "cell_type": "code",
   "execution_count": 3,
   "metadata": {},
   "outputs": [],
   "source": [
    "pinn = ParametricPINN(scale=True, lb=lb, ub=ub)"
   ]
  },
  {
   "cell_type": "code",
   "execution_count": 4,
   "metadata": {},
   "outputs": [],
   "source": [
    "def pcgrad_closure(return_list=False):\n",
    "    global N, X_train, u_train\n",
    "    losses = pinn.loss(*dimension_slicing(X_train), u_train)\n",
    "    updated_grads = []\n",
    "    \n",
    "    for i in range(2):\n",
    "        optimizer.zero_grad()\n",
    "        losses[i].backward(retain_graph=True)\n",
    "\n",
    "        g_task = []\n",
    "        for param in pinn.parameters():\n",
    "            if param.grad is not None:\n",
    "                g_task.append(Variable(param.grad.clone(), requires_grad=False))\n",
    "            else:\n",
    "                g_task.append(Variable(torch.zeros(param.shape), requires_grad=False))\n",
    "        # appending the gradients from each task\n",
    "        updated_grads.append(g_task)\n",
    "\n",
    "    updated_grads = list(pcgrad.pc_grad_update(updated_grads))[0]\n",
    "    for idx, param in enumerate(pinn.parameters()):\n",
    "        param.grad = (updated_grads[0][idx]+updated_grads[1][idx])\n",
    "        \n",
    "    if not return_list: return sum(losses)\n",
    "    else: return losses"
   ]
  },
  {
   "cell_type": "code",
   "execution_count": 5,
   "metadata": {},
   "outputs": [],
   "source": [
    "def finetuning_closure():\n",
    "    global N, X_train, u_train\n",
    "    if torch.is_grad_enabled(): f_opt.zero_grad()\n",
    "    # the solver network only consider the first N samples.\n",
    "    loss = sum(pinn.loss(*dimension_slicing(X_train), u_train))\n",
    "    if loss.requires_grad: loss.backward(retain_graph=False)\n",
    "    return loss"
   ]
  },
  {
   "cell_type": "code",
   "execution_count": 6,
   "metadata": {},
   "outputs": [
    {
     "name": "stdout",
     "output_type": "stream",
     "text": [
      "0.0004037567996419966\n",
      "1.7877066511573503e-06\n",
      "1.78347431756265e-06\n",
      "1.7828524505603127e-06\n",
      "1.7828524505603127e-06\n"
     ]
    }
   ],
   "source": [
    "# ใส่เพิ่มทีหลังได้\n",
    "# optimizer = MADGRAD(pinn.parameters(), lr=1e-3, momentum=0.9)\n",
    "# for i in range(150):\n",
    "#     pinn.train()\n",
    "#     optimizer.step(pcgrad_closure)\n",
    "#     if i%10==0:\n",
    "#         loss = pcgrad_closure(return_list=True)\n",
    "#         print(loss)\n",
    "        \n",
    "f_opt = torch.optim.LBFGS(pinn.parameters(), lr=1e-1, max_iter=300, history_size=300)\n",
    "for i in range(50):\n",
    "    f_opt.step(finetuning_closure)\n",
    "    if i%10==0:\n",
    "        loss = finetuning_closure()\n",
    "        print(loss.item())\n",
    "        \n",
    "# −0.56759363sin(𝑥0)−0.8300467 will be detected."
   ]
  },
  {
   "cell_type": "code",
   "execution_count": 7,
   "metadata": {},
   "outputs": [
    {
     "data": {
      "text/plain": [
       "tensor(1.7851e-06, grad_fn=<AddBackward0>)"
      ]
     },
     "execution_count": 7,
     "metadata": {},
     "output_type": "execute_result"
    }
   ],
   "source": [
    "sum(pinn.loss(*dimension_slicing(X_star), u_star))"
   ]
  },
  {
   "cell_type": "code",
   "execution_count": 13,
   "metadata": {},
   "outputs": [],
   "source": [
    "u_preds, learned_func = pinn(*dimension_slicing(X_star))"
   ]
  },
  {
   "cell_type": "code",
   "execution_count": 14,
   "metadata": {},
   "outputs": [
    {
     "name": "stdout",
     "output_type": "stream",
     "text": [
      "0.011552452\n",
      "1.3926681303858421e-05\n"
     ]
    }
   ],
   "source": [
    "print(np.mean((learned_func[:, 0:1].detach().numpy()-uu_x_true)**2))\n",
    "print(np.mean((learned_func[:, 1:2].detach().numpy()-u_xx_true)**2))"
   ]
  },
  {
   "cell_type": "code",
   "execution_count": 15,
   "metadata": {},
   "outputs": [],
   "source": [
    "%matplotlib inline\n",
    "import matplotlib.pyplot as plt"
   ]
  },
  {
   "cell_type": "code",
   "execution_count": 16,
   "metadata": {},
   "outputs": [
    {
     "data": {
      "image/png": "[encoded data removed]",
      "text/plain": [
       "<Figure size 432x288 with 1 Axes>"
      ]
     },
     "metadata": {
      "needs_background": "light"
     },
     "output_type": "display_data"
    }
   ],
   "source": [
    "time = X_star[:, 1:2].detach().numpy()\n",
    "plt.scatter(time, uu_x_true)\n",
    "plt.scatter(time, learned_func[:, 0:1].detach().numpy())\n",
    "plt.show()"
   ]
  },
  {
   "cell_type": "code",
   "execution_count": 44,
   "metadata": {},
   "outputs": [],
   "source": [
    "from pysr import pysr, best"
   ]
  },
  {
   "cell_type": "code",
   "execution_count": 46,
   "metadata": {},
   "outputs": [
    {
     "name": "stdout",
     "output_type": "stream",
     "text": [
      "Running on julia -O3 /var/folders/z3/_stfms3523dd5mnfr3ch5n100000gp/T/tmpo0i11pro/runfile.jl\n",
      "Activating environment on workers.\n",
      "      From worker 4:\t  Activating environment at `/usr/local/lib/python3.9/site-packages/Project.toml`\n",
      "      From worker 3:\t  Activating environment at `/usr/local/lib/python3.9/site-packages/Project.toml`\n",
      "      From worker 5:\t  Activating environment at `/usr/local/lib/python3.9/site-packages/Project.toml`\n",
      "      From worker 2:\t  Activating environment at `/usr/local/lib/python3.9/site-packages/Project.toml`\n",
      "Importing installed module on workers...Finished!\n",
      "Testing module on workers...Finished!\n",
      "Testing entire pipeline on workers...Finished!\n",
      "Started!\n",
      "\n",
      "Cycles per second: 1.100e+03\n",
      "Head worker occupation: 4.3%\n",
      "Progress: 1 / 250 total iterations (0.400%)\n",
      "==============================\n",
      "Hall of Fame:\n",
      "-----------------------------------------\n",
      "Complexity  Loss       Score     Equation\n",
      "1           2.002e-02  -0.000e+00  -1.0908816\n",
      "5           4.127e-04  9.705e-01  (-0.8492799 + (-0.48320252 * x0))\n",
      "6           1.083e-04  1.338e+00  (-0.8300467 + (-0.56759363 * sin(x0)))\n",
      "8           7.216e-05  2.029e-01  (sin(-7.2256327 + x0) + (-1.3620443 * x0))\n",
      "10          9.226e-06  1.028e+00  ((-0.81369656 + (0.47702125 * x0)) + (-1.1221873 * sin(x0)))\n",
      "\n",
      "==============================\n",
      "\n",
      "Cycles per second: 3.550e+03\n",
      "Head worker occupation: 3.5%\n",
      "Progress: 2 / 250 total iterations (0.800%)\n",
      "==============================\n",
      "Hall of Fame:\n",
      "-----------------------------------------\n",
      "Complexity  Loss       Score     Equation\n",
      "1           2.002e-02  -0.000e+00  -1.0908816\n",
      "5           4.127e-04  9.705e-01  (-0.8492799 + (-0.48320252 * x0))\n",
      "6           1.083e-04  1.338e+00  (-0.8300467 + (-0.56759363 * sin(x0)))\n",
      "8           7.216e-05  2.029e-01  (sin(-7.2256327 + x0) + (-1.3620443 * x0))\n",
      "10          9.226e-06  1.028e+00  ((-0.81369656 + (0.47702125 * x0)) + (-1.1221873 * sin(x0)))\n",
      "\n",
      "==============================\n",
      "\n",
      "Cycles per second: 3.690e+03\n",
      "Head worker occupation: 2.9%\n",
      "Progress: 3 / 250 total iterations (1.200%)\n",
      "==============================\n",
      "Hall of Fame:\n",
      "-----------------------------------------\n",
      "Complexity  Loss       Score     Equation\n",
      "1           2.002e-02  -0.000e+00  -1.0908816\n",
      "5           4.127e-04  9.705e-01  (-0.8492799 + (-0.48320252 * x0))\n",
      "6           1.083e-04  1.338e+00  (-0.8300467 + (-0.56759363 * sin(x0)))\n",
      "8           7.216e-05  2.029e-01  (sin(-7.2256327 + x0) + (-1.3620443 * x0))\n",
      "10          9.226e-06  1.028e+00  ((-0.81369656 + (0.47702125 * x0)) + (-1.1221873 * sin(x0)))\n",
      "\n",
      "==============================\n",
      "\n",
      "Cycles per second: 4.270e+03\n",
      "Head worker occupation: 2.6%\n",
      "Progress: 4 / 250 total iterations (1.600%)\n",
      "==============================\n",
      "Hall of Fame:\n",
      "-----------------------------------------\n",
      "Complexity  Loss       Score     Equation\n",
      "1           2.002e-02  -0.000e+00  -1.0908816\n",
      "5           4.127e-04  9.705e-01  (-0.8492799 + (-0.48320252 * x0))\n",
      "6           1.083e-04  1.338e+00  (-0.8300467 + (-0.56759363 * sin(x0)))\n",
      "8           7.216e-05  2.029e-01  (sin(-7.2256327 + x0) + (-1.3620443 * x0))\n",
      "10          9.226e-06  1.028e+00  ((-0.81369656 + (0.47702125 * x0)) + (-1.1221873 * sin(x0)))\n",
      "\n",
      "==============================\n",
      "\n",
      "Cycles per second: 4.000e+03\n",
      "Head worker occupation: 2.2%\n",
      "Progress: 5 / 250 total iterations (2.000%)\n",
      "==============================\n",
      "Hall of Fame:\n",
      "-----------------------------------------\n",
      "Complexity  Loss       Score     Equation\n",
      "1           2.002e-02  -0.000e+00  -1.0908816\n",
      "5           4.127e-04  9.705e-01  (-0.8492799 + (-0.48320252 * x0))\n",
      "6           1.083e-04  1.338e+00  (-0.8300467 + (-0.56759363 * sin(x0)))\n",
      "8           7.216e-05  2.029e-01  (sin(-7.2256327 + x0) + (-1.3620443 * x0))\n",
      "10          9.226e-06  1.028e+00  ((-0.81369656 + (0.47702125 * x0)) + (-1.1221873 * sin(x0)))\n",
      "\n",
      "==============================\n",
      "\n",
      "Cycles per second: 6.340e+03\n",
      "Head worker occupation: 2.2%\n",
      "Progress: 8 / 250 total iterations (3.200%)\n",
      "==============================\n",
      "Hall of Fame:\n",
      "-----------------------------------------\n",
      "Complexity  Loss       Score     Equation\n",
      "1           2.002e-02  -0.000e+00  -1.0908816\n",
      "5           4.127e-04  9.705e-01  (-0.8492799 + (-0.48320252 * x0))\n",
      "6           1.083e-04  1.338e+00  (-0.8300467 + (-0.56759363 * sin(x0)))\n",
      "8           7.216e-05  2.029e-01  (sin(-7.2256327 + x0) + (-1.3620443 * x0))\n",
      "10          9.226e-06  1.028e+00  ((-0.81369656 + (0.47702125 * x0)) + (-1.1221873 * sin(x0)))\n",
      "\n",
      "==============================\n",
      "\n",
      "Cycles per second: 5.760e+03\n",
      "Head worker occupation: 1.9%\n",
      "Progress: 9 / 250 total iterations (3.600%)\n",
      "==============================\n",
      "Hall of Fame:\n",
      "-----------------------------------------\n",
      "Complexity  Loss       Score     Equation\n",
      "1           2.002e-02  -0.000e+00  -1.0908816\n",
      "5           4.127e-04  9.705e-01  (-0.8492799 + (-0.48320252 * x0))\n",
      "6           1.083e-04  1.338e+00  (-0.8300467 + (-0.56759363 * sin(x0)))\n",
      "8           7.216e-05  2.029e-01  (sin(-7.2256327 + x0) + (-1.3620443 * x0))\n",
      "10          9.226e-06  1.028e+00  ((-0.81369656 + (0.47702125 * x0)) + (-1.1221873 * sin(x0)))\n",
      "\n",
      "==============================\n",
      "\n",
      "Cycles per second: 7.290e+03\n",
      "Head worker occupation: 1.9%\n",
      "Progress: 12 / 250 total iterations (4.800%)\n",
      "==============================\n",
      "Hall of Fame:\n",
      "-----------------------------------------\n",
      "Complexity  Loss       Score     Equation\n",
      "1           2.002e-02  -0.000e+00  -1.0908816\n",
      "5           4.127e-04  9.705e-01  (-0.8492799 + (-0.48320252 * x0))\n",
      "6           1.083e-04  1.338e+00  (-0.8300467 + (-0.56759363 * sin(x0)))\n",
      "8           7.216e-05  2.029e-01  (sin(-7.2256327 + x0) + (-1.3620443 * x0))\n",
      "10          9.226e-06  1.028e+00  ((-0.81369656 + (0.47702125 * x0)) + (-1.1221873 * sin(x0)))\n",
      "\n",
      "==============================\n",
      "\n",
      "Cycles per second: 6.640e+03\n",
      "Head worker occupation: 1.5%\n",
      "Progress: 13 / 250 total iterations (5.200%)\n",
      "==============================\n",
      "Hall of Fame:\n",
      "-----------------------------------------\n",
      "Complexity  Loss       Score     Equation\n",
      "1           2.002e-02  -0.000e+00  -1.0908816\n",
      "5           4.127e-04  9.705e-01  (-0.8492799 + (-0.48320252 * x0))\n",
      "6           1.083e-04  1.338e+00  (-0.8300467 + (-0.56759363 * sin(x0)))\n",
      "8           7.216e-05  2.029e-01  (sin(-7.2256327 + x0) + (-1.3620443 * x0))\n",
      "10          9.226e-06  1.028e+00  ((-0.81369656 + (0.47702125 * x0)) + (-1.1221873 * sin(x0)))\n",
      "\n",
      "==============================\n",
      "\n",
      "Cycles per second: 7.180e+03\n",
      "Head worker occupation: 1.5%\n",
      "Progress: 15 / 250 total iterations (6.000%)\n",
      "==============================\n",
      "Hall of Fame:\n",
      "-----------------------------------------\n",
      "Complexity  Loss       Score     Equation\n",
      "1           2.002e-02  -0.000e+00  -1.0908816\n",
      "5           4.127e-04  9.705e-01  (-0.8492799 + (-0.48320252 * x0))\n",
      "6           1.083e-04  1.338e+00  (-0.8300467 + (-0.56759363 * sin(x0)))\n",
      "8           7.216e-05  2.029e-01  (sin(-7.2256327 + x0) + (-1.3620443 * x0))\n",
      "10          9.226e-06  1.028e+00  ((-0.81369656 + (0.47702125 * x0)) + (-1.1221873 * sin(x0)))\n",
      "\n",
      "==============================\n",
      "\n",
      "Cycles per second: 7.270e+03\n",
      "Head worker occupation: 1.3%\n",
      "Progress: 16 / 250 total iterations (6.400%)\n",
      "==============================\n",
      "Hall of Fame:\n",
      "-----------------------------------------\n",
      "Complexity  Loss       Score     Equation\n",
      "1           2.002e-02  -0.000e+00  -1.0908816\n",
      "5           4.127e-04  9.705e-01  (-0.8492799 + (-0.48320252 * x0))\n",
      "6           1.083e-04  1.338e+00  (-0.8300467 + (-0.56759363 * sin(x0)))\n",
      "8           7.216e-05  2.029e-01  (sin(-7.2256327 + x0) + (-1.3620443 * x0))\n",
      "10          9.226e-06  1.028e+00  ((-0.81369656 + (0.47702125 * x0)) + (-1.1221873 * sin(x0)))\n",
      "\n",
      "==============================\n",
      "\n",
      "Cycles per second: 7.870e+03\n",
      "Head worker occupation: 1.3%\n",
      "Progress: 18 / 250 total iterations (7.200%)\n",
      "==============================\n",
      "Hall of Fame:\n",
      "-----------------------------------------\n",
      "Complexity  Loss       Score     Equation\n",
      "1           2.002e-02  -0.000e+00  -1.0908816\n",
      "5           4.127e-04  9.705e-01  (-0.8492799 + (-0.48320252 * x0))\n",
      "6           1.083e-04  1.338e+00  (-0.8300467 + (-0.56759363 * sin(x0)))\n",
      "8           7.216e-05  2.029e-01  (sin(-7.2256327 + x0) + (-1.3620443 * x0))\n",
      "10          9.226e-06  1.028e+00  ((-0.81369656 + (0.47702125 * x0)) + (-1.1221873 * sin(x0)))\n",
      "\n",
      "==============================\n",
      "\n",
      "Cycles per second: 8.670e+03\n",
      "Head worker occupation: 1.3%\n",
      "Progress: 20 / 250 total iterations (8.000%)\n",
      "==============================\n",
      "Hall of Fame:\n",
      "-----------------------------------------\n",
      "Complexity  Loss       Score     Equation\n",
      "1           2.002e-02  -0.000e+00  -1.0908816\n",
      "5           4.127e-04  9.705e-01  (-0.8492799 + (-0.48320252 * x0))\n",
      "6           1.083e-04  1.338e+00  (-0.8300467 + (-0.56759363 * sin(x0)))\n",
      "8           7.216e-05  2.029e-01  (sin(-7.2256327 + x0) + (-1.3620443 * x0))\n",
      "10          9.226e-06  1.028e+00  ((-0.81369656 + (0.47702125 * x0)) + (-1.1221873 * sin(x0)))\n",
      "\n",
      "==============================\n",
      "\n",
      "Cycles per second: 8.300e+03\n",
      "Head worker occupation: 1.2%\n",
      "Progress: 21 / 250 total iterations (8.400%)\n",
      "==============================\n",
      "Hall of Fame:\n",
      "-----------------------------------------\n",
      "Complexity  Loss       Score     Equation\n",
      "1           2.002e-02  -0.000e+00  -1.0908816\n",
      "5           4.127e-04  9.705e-01  (-0.8492799 + (-0.48320252 * x0))\n",
      "6           1.083e-04  1.338e+00  (-0.8300467 + (-0.56759363 * sin(x0)))\n",
      "8           7.216e-05  2.029e-01  (sin(-7.2256327 + x0) + (-1.3620443 * x0))\n",
      "10          9.226e-06  1.028e+00  ((-0.81369656 + (0.47702125 * x0)) + (-1.1221873 * sin(x0)))\n",
      "\n",
      "==============================\n",
      "\n",
      "Cycles per second: 1.040e+04\n",
      "Head worker occupation: 1.2%\n",
      "Progress: 25 / 250 total iterations (10.000%)\n",
      "==============================\n",
      "Hall of Fame:\n",
      "-----------------------------------------\n",
      "Complexity  Loss       Score     Equation\n",
      "1           2.002e-02  -0.000e+00  -1.0908816\n",
      "5           4.127e-04  9.705e-01  (-0.8492799 + (-0.48320252 * x0))\n",
      "6           1.083e-04  1.338e+00  (-0.8300467 + (-0.56759363 * sin(x0)))\n",
      "8           7.216e-05  2.029e-01  (sin(-7.2256327 + x0) + (-1.3620443 * x0))\n",
      "10          9.226e-06  1.028e+00  ((-0.81369656 + (0.47702125 * x0)) + (-1.1221873 * sin(x0)))\n",
      "\n",
      "==============================\n",
      "\n",
      "Cycles per second: 1.010e+04\n",
      "Head worker occupation: 5.2%\n",
      "Progress: 30 / 250 total iterations (12.000%)\n",
      "==============================\n",
      "Hall of Fame:\n",
      "-----------------------------------------\n",
      "Complexity  Loss       Score     Equation\n",
      "1           2.002e-02  -0.000e+00  -1.0908816\n",
      "5           4.127e-04  9.705e-01  (-0.8492799 + (-0.48320252 * x0))\n",
      "6           1.083e-04  1.338e+00  (-0.8300467 + (-0.56759363 * sin(x0)))\n",
      "8           7.216e-05  2.029e-01  (sin(-7.2256327 + x0) + (-1.3620443 * x0))\n",
      "10          9.226e-06  1.028e+00  ((-0.81369656 + (0.47702125 * x0)) + (-1.1221873 * sin(x0)))\n",
      "\n",
      "==============================\n",
      "Killing process... will return when done.\n"
     ]
    }
   ],
   "source": [
    "xx = (to_tensor(t, False)/10.0).reshape(-1, 1)\n",
    "yy = pinn.parametric_func_net(xx)[:, 0:1].detach().numpy()\n",
    "\n",
    "equations = pysr(\n",
    "    xx.detach().numpy(),\n",
    "    yy,\n",
    "    populations=50,\n",
    "    niterations=5,\n",
    "    binary_operators=[\"+\", \"*\"],\n",
    "    unary_operators=[\n",
    "        \"sin\",\n",
    "        \"cos\"\n",
    "    ]\n",
    ")"
   ]
  },
  {
   "cell_type": "code",
   "execution_count": 49,
   "metadata": {},
   "outputs": [
    {
     "data": {
      "text/latex": [
       "$\\displaystyle - 0.56759363 \\sin{\\left(x_{0} \\right)} - 0.8300467$"
      ],
      "text/plain": [
       "-0.56759363*sin(x0) - 0.8300467"
      ]
     },
     "execution_count": 49,
     "metadata": {},
     "output_type": "execute_result"
    }
   ],
   "source": [
    "best(equations)"
   ]
  },
  {
   "cell_type": "code",
   "execution_count": null,
   "metadata": {},
   "outputs": [],
   "source": []
  }
 ],
 "metadata": {
  "kernelspec": {
   "display_name": "Python 3",
   "language": "python",
   "name": "python3"
  },
  "language_info": {
   "codemirror_mode": {
    "name": "ipython",
    "version": 3
   },
   "file_extension": ".py",
   "mimetype": "text/x-python",
   "name": "python",
   "nbconvert_exporter": "python",
   "pygments_lexer": "ipython3",
   "version": "3.9.5"
  }
 },
 "nbformat": 4,
 "nbformat_minor": 4
}
