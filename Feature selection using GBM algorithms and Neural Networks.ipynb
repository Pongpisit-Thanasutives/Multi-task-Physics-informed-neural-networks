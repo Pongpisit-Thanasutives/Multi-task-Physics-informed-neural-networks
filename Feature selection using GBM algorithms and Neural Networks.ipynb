{
 "cells": [
  {
   "cell_type": "markdown",
   "metadata": {},
   "source": [
    "### Do I need to implement the GPU version for faster computation?"
   ]
  },
  {
   "cell_type": "code",
   "execution_count": 1,
   "metadata": {},
   "outputs": [
    {
     "name": "stderr",
     "output_type": "stream",
     "text": [
      "[MLENS] backend: threading\n"
     ]
    }
   ],
   "source": [
    "%load_ext autoreload\n",
    "%autoreload 2 \n",
    "%reload_ext autoreload\n",
    "\n",
    "from mlens.ensemble import SuperLearner\n",
    "# always import gbm_algos first !\n",
    "import xgboost, lightgbm, catboost\n",
    "\n",
    "import numpy as np\n",
    "import scipy.io as io\n",
    "from torch.autograd import grad\n",
    "import shap\n",
    "from utils import *\n",
    "\n",
    "from sklearn.ensemble import RandomForestRegressor"
   ]
  },
  {
   "cell_type": "code",
   "execution_count": 2,
   "metadata": {},
   "outputs": [
    {
     "name": "stdout",
     "output_type": "stream",
     "text": [
      "Training with 2000 samples\n"
     ]
    }
   ],
   "source": [
    "DATA_PATH = \"/Users/pongpisit/Desktop/research/pinn/Solving-Differential-Equations-with-Neural-Networks/SymbolicMathematics/data/burgers_shock.mat\"\n",
    "data = io.loadmat(DATA_PATH)\n",
    "\n",
    "t = data['t'].flatten()[:,None]\n",
    "x = data['x'].flatten()[:,None]\n",
    "Exact = np.real(data['usol']).T\n",
    "\n",
    "X, T = np.meshgrid(x,t)\n",
    "\n",
    "X_star = np.hstack((X.flatten()[:,None], T.flatten()[:,None]))\n",
    "u_star = Exact.flatten()[:,None]              \n",
    "\n",
    "# Doman bounds\n",
    "lb = X_star.min(0)\n",
    "ub = X_star.max(0)\n",
    "\n",
    "N = 2000\n",
    "print(f\"Training with {N} samples\")\n",
    "idx = np.random.choice(X_star.shape[0], N, replace=False)\n",
    "X_u_train = X_star[idx, :]\n",
    "u_train = u_star[idx,:]\n",
    "\n",
    "# Convert to torch.tensor\n",
    "X_u_train = torch.tensor(X_u_train).float().requires_grad_(True)\n",
    "u_train = torch.tensor(u_train).float().requires_grad_(True)\n",
    "X_star = torch.tensor(X_star).float().requires_grad_(True)\n",
    "u_star = torch.tensor(u_star).float().requires_grad_(True)\n",
    "\n",
    "feature_names=['uf', 'u_x',  'u_xx', 'u_tt', 'u_xt', 'u_tx']"
   ]
  },
  {
   "cell_type": "code",
   "execution_count": 3,
   "metadata": {},
   "outputs": [],
   "source": [
    "class Network(nn.Module):\n",
    "    def __init__(self, model):\n",
    "        super(Network, self).__init__()\n",
    "        self.model = model\n",
    "        self.model.apply(self.xavier_init)\n",
    "        # For tracking\n",
    "        self.index2features = ('uf', 'u_x',  'u_xx', 'u_tt', 'u_xt', 'u_tx')\n",
    "        self.uf = None\n",
    "        \n",
    "    def xavier_init(self, m):\n",
    "        if type(m) == nn.Linear:\n",
    "            torch.nn.init.xavier_uniform_(m.weight)\n",
    "            m.bias.data.fill_(0.01)\n",
    "        \n",
    "    def forward(self, x, t):\n",
    "        self.uf = self.model(torch.cat([x, t], dim=1))\n",
    "        return self.uf\n",
    "    \n",
    "    def get_selector_data(self, x, t):\n",
    "        uf = self.forward(x, t)\n",
    "        \n",
    "        ### PDE Loss calculation ###\n",
    "        # first-order derivatives\n",
    "        u_t = self.gradients(uf, t)[0]\n",
    "        u_x = self.gradients(uf, x)[0]\n",
    "        # Homo second-order derivatives\n",
    "        u_tt = self.gradients(u_t,t)[0]\n",
    "        u_xx = self.gradients(u_x, x)[0]\n",
    "        # Hetero second-order derivatives\n",
    "        u_xt = self.gradients(u_t, x)[0]\n",
    "        u_tx = self.gradients(u_x, t)[0]\n",
    "        \n",
    "        X_selector = torch.cat([uf, u_x, u_xx, u_tt, u_xt, u_tx], dim=1)\n",
    "        y_selector = u_t\n",
    "        \n",
    "        return X_selector, y_selector\n",
    "    \n",
    "    def gradients(self, func, x):\n",
    "        return grad(func, x, create_graph=True, retain_graph=True, grad_outputs=torch.ones(func.shape))"
   ]
  },
  {
   "cell_type": "code",
   "execution_count": 4,
   "metadata": {},
   "outputs": [],
   "source": [
    "# Does the SeclectorNetwork has to be a neural networks ???\n",
    "class SeclectorNetwork(nn.Module):\n",
    "    def __init__(self, X_train_dim):\n",
    "        super().__init__()\n",
    "        # Nonlinear model, Training with noisy features -> chk feature importance\n",
    "        layers = [nn.Linear(X_train_dim, 50), nn.Tanh(), nn.Linear(50, 1)]\n",
    "        self.nonlinear_model = nn.Sequential(*layers)\n",
    "        \n",
    "    def forward(self, inn):\n",
    "        ut_approx = self.nonlinear_model(inn)\n",
    "        return ut_approx\n",
    "    \n",
    "    def loss(self, X_input, y_input):\n",
    "        ut_approx = self.forward(X_input)\n",
    "        mse_loss = F.mse_loss(ut_approx, y_input, reduction='mean')\n",
    "        return mse_loss"
   ]
  },
  {
   "cell_type": "code",
   "execution_count": 5,
   "metadata": {},
   "outputs": [],
   "source": [
    "# network = Network(model=simple_solver_model(50))\n",
    "# selector = SeclectorNetwork(X_train_dim=6)\n",
    "\n",
    "# optimizer = torch.optim.LBFGS(list(network.parameters()) + list(selector.parameters()), \n",
    "#                               lr=5e-2, max_iter=80, max_eval=100, \n",
    "#                               history_size=120, line_search_fn='strong_wolfe')\n",
    "\n",
    "# # optimizer = torch.optim.Adam(list(network.parameters()) + list(selector.parameters()), lr=1e-3)\n",
    "# epochs = 5000; testing = False\n",
    "\n",
    "# if testing:\n",
    "#     # unsupervised_loss\n",
    "#     unsup_loss = selector.loss(*network.get_selector_data(*dimension_slicing(X_u_train)))\n",
    "#     sup_loss = F.mse_loss(network.uf, u_train)\n",
    "\n",
    "#     # No MTL yet, apply the naive summation first to see if it's working?\n",
    "#     total_loss = unsup_loss + sup_loss\n",
    "#     print(total_loss)\n",
    "\n",
    "#     total_loss.backward()"
   ]
  },
  {
   "cell_type": "code",
   "execution_count": 6,
   "metadata": {},
   "outputs": [],
   "source": [
    "# network.train(); selector.train()\n",
    "# curr_loss = 1000\n",
    "\n",
    "# for i in range(epochs):\n",
    "#     def closure():\n",
    "#         optimizer.zero_grad()\n",
    "\n",
    "#         # Total loss calculation process\n",
    "#         # unsupervised_loss\n",
    "#         unsup_loss = selector.loss(*network.get_selector_data(*dimension_slicing(X_u_train)))\n",
    "#         sup_loss = F.mse_loss(network.uf, u_train)\n",
    "\n",
    "#         # No MTL yet, apply the naive summation first to see if it's working?\n",
    "#         total_loss = unsup_loss + sup_loss\n",
    "#         total_loss.backward()\n",
    "        \n",
    "#         return total_loss\n",
    "    \n",
    "#     optimizer.step(closure)\n",
    "    \n",
    "#     l = closure()\n",
    "#     if l.item() != curr_loss:\n",
    "#         curr_loss = l.item()\n",
    "#     else: break; print(\"Stop training.\")\n",
    "    \n",
    "#     if (i % 10) == 0:\n",
    "#         print(\"Epoch {}: \".format(i), curr_loss)\n",
    "\n",
    "# print(\"Testing\")\n",
    "# network.eval()\n",
    "# F.mse_loss(network(*dimension_slicing(X_star)).detach(), u_star) # Around 3e-3"
   ]
  },
  {
   "cell_type": "markdown",
   "metadata": {},
   "source": [
    "### Using statistical models to find feature importance."
   ]
  },
  {
   "cell_type": "code",
   "execution_count": 7,
   "metadata": {},
   "outputs": [],
   "source": [
    "X_np = np.load(\"./saved_path_inverse_burger/data/derivatives-2000-V2.npy\")\n",
    "y_np = np.load(\"./saved_path_inverse_burger/data/dynamics-2000-V2.npy\").ravel()\n",
    "\n",
    "X_np_test = np.load(\"./saved_path_inverse_burger/data/derivatives-25600-V2.npy\")\n",
    "y_np_test = np.load(\"./saved_path_inverse_burger/data/dynamics-25600-V2.npy\").ravel()"
   ]
  },
  {
   "cell_type": "code",
   "execution_count": 8,
   "metadata": {
    "tags": []
   },
   "outputs": [],
   "source": [
    "forest = RandomForestRegressor()\n",
    "xg = xgboost.XGBRegressor(reg_alpha=0.1)\n",
    "cat = catboost.CatBoostRegressor(iterations=None, depth=4, learning_rate=0.1, verbose=0, l2_leaf_reg=10)\n",
    "light = lightgbm.LGBMRegressor(n_estimators=200, learning_rate=0.1, reg_lambda=1)"
   ]
  },
  {
   "cell_type": "code",
   "execution_count": 9,
   "metadata": {},
   "outputs": [
    {
     "data": {
      "text/plain": [
       "SuperLearner(array_check=None, backend=None, folds=3,\n",
       "       layers=[Layer(backend='threading', dtype=<class 'numpy.float32'>, n_jobs=-1,\n",
       "   name='layer-1', propagate_features=None, raise_on_exception=True,\n",
       "   random_state=None, shuffle=False,\n",
       "   stack=[Group(backend='threading', dtype=<class 'numpy.float32'>,\n",
       "   indexer=FoldIndex(X=None, folds=3, raise_on_ex...17d6280>)],\n",
       "   n_jobs=-1, name='group-1', raise_on_exception=True, transformers=[])],\n",
       "   verbose=0)],\n",
       "       model_selection=True, n_jobs=None, raise_on_exception=True,\n",
       "       random_state=None, sample_size=20,\n",
       "       scorer=<function mean_squared_error at 0x1317d6280>, shuffle=False,\n",
       "       verbose=False)"
      ]
     },
     "execution_count": 9,
     "metadata": {},
     "output_type": "execute_result"
    }
   ],
   "source": [
    "ensemble = SuperLearner(scorer=mean_squared_error, folds=3, model_selection=True, n_jobs=3)\n",
    "ensemble.add([xg, light, cat])\n",
    "ensemble.add_meta(forest)\n",
    "ensemble.fit(X_np, y_np)"
   ]
  },
  {
   "cell_type": "code",
   "execution_count": 10,
   "metadata": {},
   "outputs": [
    {
     "name": "stdout",
     "output_type": "stream",
     "text": [
      "Done training\n",
      "Training MSE: 0.0068106884\n",
      "Test MSE: 0.03269797\n",
      "Training GBM algos...\n",
      "Done training\n",
      "Training MSE: 0.0001727756\n",
      "('u_xx', 0.2995062425806188)\n",
      "('u_x', 0.2657608052229761)\n",
      "('uf', 0.17712287340875157)\n",
      "('u_tt', 0.14668808658885826)\n",
      "('u_xt', 0.1109219921987952)\n",
      "('u_tx', 0.0)\n",
      "Done training\n",
      "Training MSE: 0.020548649252686554\n",
      "('u_xx', 0.277)\n",
      "('u_x', 0.2575)\n",
      "('uf', 0.16683333333333333)\n",
      "('u_tt', 0.16233333333333333)\n",
      "('u_xt', 0.13633333333333333)\n",
      "('u_tx', 0.0)\n",
      "Done training\n",
      "Training MSE: 0.000988400443332225\n",
      "('u_x', 0.4000971603499)\n",
      "('uf', 0.33517344012767003)\n",
      "('u_xx', 0.13600354654803215)\n",
      "('u_tt', 0.09044096517279519)\n",
      "('u_tx', 0.019700376078911026)\n",
      "('u_xt', 0.01858451172269141)\n"
     ]
    }
   ],
   "source": [
    "sklearn_model = SklearnModel(model=ensemble, X_train=X_np, y_train=y_np, feature_names=feature_names)\n",
    "print('Test MSE:', sklearn_model.test(X_np_test, y_np_test))\n",
    "print('Training GBM algos...')\n",
    "xg_feature_importance = SklearnModel(model=xg, X_train=X_np, y_train=y_np, feature_names=feature_names).feature_importance()\n",
    "light_feature_importance = SklearnModel(model=light, X_train=X_np, y_train=y_np, feature_names=feature_names).feature_importance()\n",
    "cat_feature_importance = SklearnModel(model=cat, X_train=X_np, y_train=y_np, feature_names=feature_names).feature_importance()"
   ]
  },
  {
   "cell_type": "code",
   "execution_count": 11,
   "metadata": {},
   "outputs": [
    {
     "name": "stdout",
     "output_type": "stream",
     "text": [
      "Done training\n",
      "Training MSE: 0.0001727756\n",
      "('u_xx', 0.2995062425806188)\n",
      "('u_x', 0.2657608052229761)\n",
      "('uf', 0.17712287340875157)\n",
      "('u_tt', 0.14668808658885826)\n",
      "('u_xt', 0.1109219921987952)\n",
      "('u_tx', 0.0)\n",
      "Done training\n",
      "Training MSE: 0.020548649252686554\n",
      "('u_xx', 0.277)\n",
      "('u_x', 0.2575)\n",
      "('uf', 0.16683333333333333)\n",
      "('u_tt', 0.16233333333333333)\n",
      "('u_xt', 0.13633333333333333)\n",
      "('u_tx', 0.0)\n",
      "Done training\n",
      "Training MSE: 0.000988400443332225\n",
      "('u_x', 0.4000971603499)\n",
      "('uf', 0.33517344012767003)\n",
      "('u_xx', 0.13600354654803215)\n",
      "('u_tt', 0.09044096517279519)\n",
      "('u_tx', 0.019700376078911026)\n",
      "('u_xt', 0.01858451172269141)\n"
     ]
    }
   ],
   "source": [
    "xg_feature_importance = SklearnModel(model=xg, X_train=X_np, y_train=y_np, feature_names=feature_names).feature_importance()\n",
    "light_feature_importance = SklearnModel(model=light, X_train=X_np, y_train=y_np, feature_names=feature_names).feature_importance()\n",
    "cat_feature_importance = SklearnModel(model=cat, X_train=X_np, y_train=y_np, feature_names=feature_names).feature_importance()"
   ]
  },
  {
   "cell_type": "code",
   "execution_count": 12,
   "metadata": {},
   "outputs": [
    {
     "data": {
      "text/plain": [
       "{'uf': 0.17712287340875157,\n",
       " 'u_x': 0.2657608052229761,\n",
       " 'u_xx': 0.2995062425806188,\n",
       " 'u_tt': 0.14668808658885826,\n",
       " 'u_xt': 0.11092199219879521,\n",
       " 'u_tx': 0.0}"
      ]
     },
     "execution_count": 12,
     "metadata": {},
     "output_type": "execute_result"
    }
   ],
   "source": [
    "avg_feature_importances = {}\n",
    "for f in feature_names:\n",
    "    avg_feature_importances[f] = (xg_feature_importance[f]+cat_feature_importance[f]+light_feature_importance[f])/3\n",
    "avg_feature_importances"
   ]
  },
  {
   "cell_type": "code",
   "execution_count": 13,
   "metadata": {},
   "outputs": [],
   "source": [
    "# explainer = shap.Explainer(xg)\n",
    "# explainer = shap.explainers.Exact(ensemble.predict, X_np) # OK Features [0, 1, 2] are the best!\n",
    "# shap_values = explainer(X_np)\n",
    "# shap.plots.bar(shap_values)"
   ]
  },
  {
   "cell_type": "code",
   "execution_count": 14,
   "metadata": {},
   "outputs": [],
   "source": [
    "# NEED TO PREPROCESS!!!\n",
    "from sklearn.preprocessing import scale, MinMaxScaler, StandardScaler\n",
    "from sklearn.neural_network import MLPRegressor\n",
    "scaled_X_np = MinMaxScaler().fit_transform(X_np)"
   ]
  },
  {
   "cell_type": "code",
   "execution_count": 15,
   "metadata": {},
   "outputs": [],
   "source": [
    "# Sklearn MLP\n",
    "# sk_nn = MLPRegressor(solver='lbfgs', alpha=5e-3, max_iter=5000, hidden_layer_sizes=(6, 200, 200, 200, 1), activation='tanh')\n",
    "# sk_nn.fit(scaled_X_np, y_np)\n",
    "# print(sk_nn.score(scaled_X_np, y_np))"
   ]
  },
  {
   "cell_type": "code",
   "execution_count": 16,
   "metadata": {},
   "outputs": [],
   "source": [
    "# explain all the predictions in the test set\n",
    "# explainer = shap.KernelExplainer(sk_nn.predict, scaled_X_np)\n",
    "# shap_values = explainer.shap_values(scaled_X_np)\n",
    "# shap.summary_plot(shap_values, scaled_X_np)"
   ]
  },
  {
   "cell_type": "code",
   "execution_count": 17,
   "metadata": {},
   "outputs": [],
   "source": [
    "# The old version of a (big) MLP.\n",
    "# mlp = TorchMLP([6, 512, 512, 512, 1])\n",
    "# mlp.load_state_dict(torch.load(\"./saved_path_inverse_burger/mlp.pth\"))"
   ]
  },
  {
   "cell_type": "code",
   "execution_count": 18,
   "metadata": {},
   "outputs": [],
   "source": [
    "# I should add batch normalization mec.\n",
    "mlp = TorchMLP([6, 200, 200, 200, 1])\n",
    "pred = lambda X: mlp(to_tensor(X)).detach().numpy()"
   ]
  },
  {
   "cell_type": "code",
   "execution_count": 19,
   "metadata": {},
   "outputs": [
    {
     "name": "stdout",
     "output_type": "stream",
     "text": [
      "Epoch 0:  0.5380452871322632\n",
      "Epoch 10:  0.0065165553241968155\n",
      "Epoch 20:  0.0010743874590843916\n",
      "Epoch 30:  0.0007363224285654724\n",
      "Epoch 40:  0.0006227805861271918\n",
      "Epoch 50:  0.0005665054777637124\n"
     ]
    }
   ],
   "source": [
    "scaled_X_tensor = to_tensor(scaled_X_np)\n",
    "y_tensor = to_tensor(y_np).reshape(-1, 1)\n",
    "\n",
    "mlp_optim = torch.optim.LBFGS(mlp.parameters(), \n",
    "                              lr=5e-2, max_iter=100, max_eval=125, \n",
    "                              history_size=120, line_search_fn='strong_wolfe')\n",
    "mlp.train()\n",
    "curr_loss = 1000\n",
    "for i in range(1000):\n",
    "    def mlp_closure():\n",
    "        mlp_optim.zero_grad()\n",
    "        l = F.mse_loss(mlp(scaled_X_tensor), y_tensor)\n",
    "        l.backward()\n",
    "        return l\n",
    "    mlp_optim.step(mlp_closure)\n",
    "    \n",
    "    l = mlp_closure()\n",
    "    if l.item() != curr_loss:\n",
    "        curr_loss = l.item()\n",
    "    else: break; print(\"Stop training.\")\n",
    "    \n",
    "    if (i % 10) == 0:\n",
    "        print(\"Epoch {}: \".format(i), curr_loss)"
   ]
  },
  {
   "cell_type": "code",
   "execution_count": 20,
   "metadata": {},
   "outputs": [
    {
     "name": "stderr",
     "output_type": "stream",
     "text": [
      "Using a non-full backward hook when the forward contains multiple autograd Nodes is deprecated and will be removed in future versions. This hook will be missing some grad_input. Please use register_full_backward_hook to get the documented behavior.\n"
     ]
    },
    {
     "data": {
      "image/png": "[encoded data removed]",
      "text/plain": [
       "<Figure size 576x280.8 with 2 Axes>"
      ]
     },
     "metadata": {
      "needs_background": "light"
     },
     "output_type": "display_data"
    }
   ],
   "source": [
    "e = shap.DeepExplainer(mlp, scaled_X_tensor)\n",
    "shap_values = e.shap_values(scaled_X_tensor)\n",
    "shap.summary_plot(shap_values, features=scaled_X_tensor, feature_names=feature_names)"
   ]
  },
  {
   "cell_type": "code",
   "execution_count": 23,
   "metadata": {},
   "outputs": [],
   "source": [
    "torch.save(mlp.state_dict(), \"./saved_path_inverse_burger/mlp200*3.pth\")"
   ]
  },
  {
   "cell_type": "code",
   "execution_count": null,
   "metadata": {},
   "outputs": [],
   "source": []
  }
 ],
 "metadata": {
  "kernelspec": {
   "display_name": "Python 3",
   "language": "python",
   "name": "python3"
  },
  "language_info": {
   "codemirror_mode": {
    "name": "ipython",
    "version": 3
   },
   "file_extension": ".py",
   "mimetype": "text/x-python",
   "name": "python",
   "nbconvert_exporter": "python",
   "pygments_lexer": "ipython3",
   "version": "3.9.4"
  }
 },
 "nbformat": 4,
 "nbformat_minor": 4
}
