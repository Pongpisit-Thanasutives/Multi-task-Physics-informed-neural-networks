{
 "cells": [
  {
   "cell_type": "code",
   "execution_count": 1,
   "id": "cd37161b-7257-4e55-940b-d9a735c9ad9e",
   "metadata": {},
   "outputs": [],
   "source": [
    "import os\n",
    "import numpy as np\n",
    "import torch\n",
    "import torch.nn as nn\n",
    "import torch.nn.functional as F\n",
    "\n",
    "from torch.autograd import Variable, grad\n",
    "\n",
    "import matplotlib.pyplot as plt\n",
    "from mpl_toolkits import mplot3d\n",
    "from mpl_toolkits.axes_grid1 import make_axes_locatable\n",
    "import scipy\n",
    "import scipy.io as io\n",
    "from pyDOE import lhs\n",
    "\n",
    "from sklearn.metrics import mean_squared_error, mean_absolute_error\n",
    "\n",
    "from pysr import pysr, best, best_callable\n",
    "from gplearn.genetic import SymbolicRegressor\n",
    "\n",
    "from utils import *\n",
    "from ladder import LadderNetwork"
   ]
  },
  {
   "cell_type": "code",
   "execution_count": 11,
   "id": "6f3fad9d-0422-4d9d-9225-3328a1447110",
   "metadata": {},
   "outputs": [],
   "source": [
    "DATA_PATH = \"/Users/pongpisit/Desktop/research/pinn/Solving-Differential-Equations-with-Neural-Networks/SymbolicMathematics/data/burgers_shock.mat\""
   ]
  },
  {
   "cell_type": "code",
   "execution_count": 12,
   "id": "2edda3d3-cdf0-4e4f-8abd-78666402984f",
   "metadata": {},
   "outputs": [
    {
     "name": "stdout",
     "output_type": "stream",
     "text": [
      "Training with 2000 samples\n"
     ]
    }
   ],
   "source": [
    "data = io.loadmat(DATA_PATH)\n",
    "\n",
    "t = data['t'].flatten()[:,None]\n",
    "x = data['x'].flatten()[:,None]\n",
    "Exact = np.real(data['usol']).T\n",
    "\n",
    "X, T = np.meshgrid(x,t)\n",
    "\n",
    "X_star = np.hstack((X.flatten()[:,None], T.flatten()[:,None]))\n",
    "u_star = Exact.flatten()[:,None]              \n",
    "\n",
    "# Doman bounds\n",
    "lb = X_star.min(0)\n",
    "ub = X_star.max(0)\n",
    "\n",
    "N = 2000\n",
    "print(f\"Training with {N} samples\")\n",
    "idx = np.random.choice(X_star.shape[0], N, replace=False)\n",
    "X_u_train = X_star[idx, :]\n",
    "u_train = u_star[idx,:]"
   ]
  },
  {
   "cell_type": "code",
   "execution_count": 13,
   "id": "58f191d7-904b-4015-9b8a-ad7054a41915",
   "metadata": {},
   "outputs": [],
   "source": [
    "class Network(nn.Module):\n",
    "    def __init__(self, model, lambda_1_init, lambda_2_init):\n",
    "        super(Network, self).__init__()\n",
    "        self.model = model\n",
    "        self.model.apply(self.xavier_init)\n",
    "        self.lambda_1 = torch.nn.Parameter(torch.tensor([lambda_1_init]))\n",
    "        self.lambda_2 = torch.nn.Parameter(torch.tensor([lambda_2_init]))\n",
    "        \n",
    "    def xavier_init(self, m):\n",
    "        if type(m) == nn.Linear:\n",
    "            torch.nn.init.xavier_uniform_(m.weight)\n",
    "            m.bias.data.fill_(0.01)\n",
    "        \n",
    "    def forward(self, x, t):\n",
    "        return self.model(torch.cat([x, t], dim=1))\n",
    "    \n",
    "    def loss(self, x, t, y_input, is_pde_parameters_update=False, callable_fn=None):\n",
    "        uf = self.forward(x, t)\n",
    "        total_loss = F.mse_loss(uf, y_input, reduction='mean')\n",
    "        \n",
    "        if is_pde_parameters_update:\n",
    "            lambda_1 = self.lambda_1\n",
    "            lambda_2 = torch.exp(self.lambda_2)\n",
    "            \n",
    "            # PDE Loss calculation\n",
    "            u_t = self.gradients(uf, t)[0]\n",
    "            u_x = self.gradients(uf, x)[0]\n",
    "            u_xx = self.gradients(u_x, x)[0]\n",
    "            l_eq = (u_t + lambda_1*uf*u_x - lambda_2*u_xx)\n",
    "            l_eq = (l_eq**2).mean()\n",
    "            \n",
    "            total_loss = total_loss + l_eq\n",
    "        \n",
    "        return total_loss\n",
    "    \n",
    "    def get_theta(self, x, t):\n",
    "        self.eval()\n",
    "        \n",
    "        uf = self.forward(x, t)\n",
    "        \n",
    "        # PDE Loss calculation\n",
    "        u_t = self.gradients(uf, t)[0]\n",
    "        u_x = self.gradients(uf, x)[0]\n",
    "        u_xx = self.gradients(u_x, x)[0]\n",
    "        \n",
    "        X = torch.cat([-uf*u_x, u_xx], dim=1)\n",
    "        y = u_t\n",
    "        \n",
    "        theta = (torch.inverse(X.T@X))@(X.T@y)\n",
    "        \n",
    "        theta_1 = np.maximum(theta[:, 0][0].detach().item(), torch.finfo(torch.float32).eps)\n",
    "        theta_2 = np.log(np.maximum(theta[:, 0][1].detach().item(), torch.finfo(torch.float32).eps))\n",
    "        \n",
    "        return theta_1, theta_2\n",
    "    \n",
    "    def get_gradients_dict(self, x, t):\n",
    "        self.eval()\n",
    "        \n",
    "        uf = self.forward(x, t)\n",
    "        \n",
    "        ### PDE Loss calculation ###\n",
    "        # first-order derivatives\n",
    "        u_t = self.gradients(uf, t)[0]\n",
    "        u_x = self.gradients(uf, x)[0]\n",
    "        # Homo second-order derivatives\n",
    "        u_tt = self.gradients(u_t,t)[0]\n",
    "        u_xx = self.gradients(u_x, x)[0]\n",
    "        # Hetero second-order derivatives\n",
    "        u_xt = self.gradients(u_t, x)[0]\n",
    "        u_tx = self.gradients(u_x, t)[0]\n",
    "        \n",
    "        return {'uf':uf, 'u_x':u_x, 'u_xx':u_xx, 'u_tt':u_tt, 'u_xt':u_xt, 'u_tx':u_tx}, u_t\n",
    "    \n",
    "    def gradients(self, func, x):\n",
    "        return grad(func, x, create_graph=True, retain_graph=True, grad_outputs=torch.ones(func.shape))\n",
    "    \n",
    "    def set_lambdas(self, lambda_1_init, lambda_2_init):\n",
    "        self.lambda_1 = torch.nn.Parameter(torch.tensor([lambda_1_init]))\n",
    "        self.lambda_2 = torch.nn.Parameter(torch.tensor([lambda_2_init]))"
   ]
  },
  {
   "cell_type": "code",
   "execution_count": 14,
   "id": "b1cac8c9-e5a4-4a8c-b032-c585331c5dd3",
   "metadata": {},
   "outputs": [],
   "source": [
    "hidden_nodes = 50\n",
    "\n",
    "model = nn.Sequential(nn.Linear(2, hidden_nodes), \n",
    "                        nn.Tanh(), \n",
    "                        nn.Linear(hidden_nodes, hidden_nodes),\n",
    "                        nn.Tanh(), \n",
    "                        nn.Linear(hidden_nodes, hidden_nodes),\n",
    "                        nn.Tanh(), \n",
    "                        nn.Linear(hidden_nodes, hidden_nodes),\n",
    "                        nn.Tanh(),\n",
    "                        nn.Linear(hidden_nodes, 1))\n",
    "\n",
    "# model = nn.Sequential(nn.Linear(2, hidden_nodes), \n",
    "#                         nn.Tanh(),  \n",
    "#                         TanhNewtonImplicitLayer(hidden_nodes, max_iter=50),\n",
    "#                         nn.Tanh(), \n",
    "#                         nn.Linear(hidden_nodes, 1))\n",
    "\n",
    "# Doesn't matter, can be anything.\n",
    "lambda_1_init = 0.0\n",
    "lambda_2_init = 0.0\n",
    "\n",
    "network = Network(model=model, lambda_1_init=lambda_1_init, lambda_2_init=lambda_2_init)"
   ]
  },
  {
   "cell_type": "code",
   "execution_count": 15,
   "id": "ead347f7-f0c0-41a4-929f-9680a0d13030",
   "metadata": {},
   "outputs": [],
   "source": [
    "X_u_train = torch.tensor(X_u_train).float().requires_grad_(True)\n",
    "u_train = torch.tensor(u_train).float().requires_grad_(True)\n",
    "\n",
    "X_star = torch.tensor(X_star).float().requires_grad_(True)\n",
    "u_star = torch.tensor(u_star).float().requires_grad_(True)"
   ]
  },
  {
   "cell_type": "code",
   "execution_count": 16,
   "id": "84b92987-e6b9-43a6-a91e-342263af0127",
   "metadata": {},
   "outputs": [
    {
     "name": "stdout",
     "output_type": "stream",
     "text": [
      "Training with learning rate: 0.05\n"
     ]
    }
   ],
   "source": [
    "epochs = 600\n",
    "learning_rate = 5e-2 # Report learning_rate = 5e-2\n",
    "print(\"Training with learning rate:\", learning_rate)\n",
    "\n",
    "# optimizer = torch.optim.Adam(network.parameters(), lr=3e-4)  # metaopt also has .parameters()\n",
    "optimizer = torch.optim.LBFGS(network.parameters(), lr=5e-3, max_iter=50, max_eval=50, line_search_fn='strong_wolfe')\n",
    "# weights_path = './saved_path_inverse_burger/frozen_pinn.pth'\n",
    "# weights_path = './saved_path_inverse_burger/nn_without_physical_reg.pth'"
   ]
  },
  {
   "cell_type": "code",
   "execution_count": 17,
   "id": "47aa96b7-8dd7-44da-96af-f852ab800e55",
   "metadata": {},
   "outputs": [
    {
     "name": "stdout",
     "output_type": "stream",
     "text": [
      "Epoch 0:  0.2412918657064438\n",
      "Epoch 10:  0.0010341339511796832\n",
      "Epoch 20:  0.0002771736471913755\n",
      "Epoch 30:  0.00010327190102543682\n",
      "Epoch 40:  6.218352791620418e-05\n",
      "Epoch 50:  4.0249266021419317e-05\n",
      "Epoch 60:  2.4834700525389053e-05\n",
      "Epoch 70:  1.732042983348947e-05\n",
      "Epoch 80:  1.1642016033874825e-05\n",
      "Epoch 90:  8.07095602795016e-06\n",
      "Epoch 100:  7.099173672031611e-06\n",
      "Epoch 110:  6.3440857047680765e-06\n",
      "Epoch 120:  6.275794021348702e-06\n",
      "Epoch 130:  6.275794021348702e-06\n",
      "Epoch 140:  6.275794021348702e-06\n",
      "Epoch 150:  6.275794021348702e-06\n",
      "Epoch 160:  6.275794021348702e-06\n",
      "Epoch 170:  6.275794021348702e-06\n",
      "Epoch 180:  6.275794021348702e-06\n",
      "Epoch 190:  6.275794021348702e-06\n",
      "Epoch 200:  6.275794021348702e-06\n",
      "Epoch 210:  6.275794021348702e-06\n",
      "Epoch 220:  6.275794021348702e-06\n",
      "Epoch 230:  6.275794021348702e-06\n",
      "Epoch 240:  6.275794021348702e-06\n",
      "Epoch 250:  6.275794021348702e-06\n",
      "Epoch 260:  6.275794021348702e-06\n",
      "Epoch 270:  6.275794021348702e-06\n",
      "Epoch 280:  6.275794021348702e-06\n",
      "Epoch 290:  6.275794021348702e-06\n",
      "Epoch 300:  6.275794021348702e-06\n",
      "Epoch 310:  6.275794021348702e-06\n",
      "Epoch 320:  6.275794021348702e-06\n",
      "Epoch 330:  6.275794021348702e-06\n",
      "Epoch 340:  6.275794021348702e-06\n",
      "Epoch 350:  6.275794021348702e-06\n",
      "Epoch 360:  6.275794021348702e-06\n",
      "Epoch 370:  6.275794021348702e-06\n",
      "Epoch 380:  6.275794021348702e-06\n",
      "Epoch 390:  6.275794021348702e-06\n",
      "Epoch 400:  6.275794021348702e-06\n",
      "Epoch 410:  6.275794021348702e-06\n",
      "Epoch 420:  6.275794021348702e-06\n",
      "Epoch 430:  6.275794021348702e-06\n",
      "Epoch 440:  6.275794021348702e-06\n",
      "Epoch 450:  6.275794021348702e-06\n",
      "Epoch 460:  6.275794021348702e-06\n",
      "Epoch 470:  6.275794021348702e-06\n",
      "Epoch 480:  6.275794021348702e-06\n",
      "Epoch 490:  6.275794021348702e-06\n",
      "Epoch 500:  6.275794021348702e-06\n",
      "Epoch 510:  6.275794021348702e-06\n",
      "Epoch 520:  6.275794021348702e-06\n",
      "Epoch 530:  6.275794021348702e-06\n",
      "Epoch 540:  6.275794021348702e-06\n",
      "Epoch 550:  6.275794021348702e-06\n",
      "Epoch 560:  6.275794021348702e-06\n",
      "Epoch 570:  6.275794021348702e-06\n",
      "Epoch 580:  6.275794021348702e-06\n",
      "Epoch 590:  6.275794021348702e-06\n"
     ]
    }
   ],
   "source": [
    "network.train(); best_train_loss = 1e6\n",
    "for i in range(epochs):\n",
    "    ### Add the closure function to calculate the gradient. For LBFGS.\n",
    "    def closure():\n",
    "        if torch.is_grad_enabled():\n",
    "            optimizer.zero_grad()\n",
    "        l = network.loss(X_u_train[:, 0:1], X_u_train[:, 1:2], u_train, is_pde_parameters_update=False)\n",
    "        if l.requires_grad:\n",
    "            l.backward()\n",
    "        return l\n",
    "\n",
    "    optimizer.step(closure)\n",
    "    \n",
    "    # calculate the loss again for monitoring\n",
    "    l = closure()\n",
    "    \n",
    "#     if i > 400 and float(l.item()) < best_train_loss:\n",
    "#         torch.save(network.state_dict(), './saved_path_inverse_burger/nn_without_physical_reg.pth')\n",
    "#         best_train_loss = float(l.item())\n",
    "\n",
    "    if (i % 10) == 0:\n",
    "        print(\"Epoch {}: \".format(i), l.item())"
   ]
  },
  {
   "cell_type": "markdown",
   "id": "dc098a9b-5e01-4ffa-9171-3a107d986a3e",
   "metadata": {},
   "source": [
    "### Evaluate the MSE loss comparing btw with & without the sparsity (Average the results from 5 evaluations?)\n",
    "### The better one would benefit the Symbolic regression process to recover PDE relation."
   ]
  },
  {
   "cell_type": "code",
   "execution_count": 18,
   "id": "b1e0a886-89b8-4737-9880-d5c88068db04",
   "metadata": {},
   "outputs": [
    {
     "data": {
      "text/plain": [
       "1.2121667168685235e-05"
      ]
     },
     "execution_count": 18,
     "metadata": {},
     "output_type": "execute_result"
    }
   ],
   "source": [
    "# This is a somewhat large generalization gap.\n",
    "evaluate_network_mse(network=network, X_star=X_star, u_star=u_star)"
   ]
  },
  {
   "cell_type": "code",
   "execution_count": null,
   "id": "e0c10c87-dddb-445f-ac17-eb66e41855dc",
   "metadata": {},
   "outputs": [],
   "source": []
  },
  {
   "cell_type": "code",
   "execution_count": null,
   "id": "2b3af6fe-6880-4a5d-8e3f-022b4528f0e2",
   "metadata": {},
   "outputs": [],
   "source": []
  },
  {
   "cell_type": "code",
   "execution_count": null,
   "id": "eebfb7a1-358f-4974-91a3-edb81075f595",
   "metadata": {},
   "outputs": [],
   "source": []
  },
  {
   "cell_type": "code",
   "execution_count": null,
   "id": "925195f5-b09e-45d5-aa77-35074070ae2f",
   "metadata": {},
   "outputs": [],
   "source": []
  },
  {
   "cell_type": "markdown",
   "id": "05255a86-708c-4e16-8d66-a37b06b08c1f",
   "metadata": {},
   "source": [
    "### Precise pde parameters recovery using the PINN technique"
   ]
  },
  {
   "cell_type": "code",
   "execution_count": null,
   "id": "10ca823b-3dad-4eb3-83cf-04deb45fcb71",
   "metadata": {},
   "outputs": [],
   "source": [
    "# lambda_1_init, lambda_2_init = network.get_theta(X_u_train[:, 0:1], X_u_train[:, 1:2])\n",
    "# network.set_lambdas(lambda_1_init, lambda_2_init)\n",
    "\n",
    "lambda_1_init = 0.6860763\n",
    "lambda_2_init = np.log(0.0020577204)\n",
    "\n",
    "### Choosing btw reset model weights or pretraining ###\n",
    "network = Network(model=model, lambda_1_init=lambda_1_init, lambda_2_init=lambda_2_init)\n",
    "optimizer = torch.optim.LBFGS(network.parameters(), lr=5e-2, max_iter=50, max_eval=50, line_search_fn='strong_wolfe')\n",
    "\n",
    "network.train(); best_train_loss = 1e6\n",
    "for i in range(epochs):\n",
    "    ### Add the closure function to calculate the gradient. For LBFGS.\n",
    "    def closure():\n",
    "        if torch.is_grad_enabled():\n",
    "            optimizer.zero_grad()\n",
    "        l = network.loss(X_u_train[:, 0:1], X_u_train[:, 1:2], u_train, is_pde_parameters_update=True)\n",
    "        if l.requires_grad:\n",
    "            l.backward()\n",
    "        return l\n",
    "\n",
    "    optimizer.step(closure)\n",
    "\n",
    "    # calculate the loss again for monitoring\n",
    "    l = closure()\n",
    "\n",
    "    if i > 400 and float(l.item()) < best_train_loss:\n",
    "        torch.save(network.state_dict(), 'nn_with_physical_reg_from_symreg.pth')\n",
    "        best_train_loss = float(l.item())\n",
    "\n",
    "    if (i % 100) == 0:\n",
    "        print(\"Epoch {}: \".format(i), l.item())"
   ]
  },
  {
   "cell_type": "code",
   "execution_count": 7,
   "id": "84dcffcd-abe1-48e0-a8f0-0f48fbe19460",
   "metadata": {},
   "outputs": [
    {
     "data": {
      "text/plain": [
       "<All keys matched successfully>"
      ]
     },
     "execution_count": 7,
     "metadata": {},
     "output_type": "execute_result"
    }
   ],
   "source": [
    "### Loading the best weights ###\n",
    "network.load_state_dict(torch.load(weights_path))"
   ]
  },
  {
   "cell_type": "code",
   "execution_count": 8,
   "id": "3e46204c-4a74-4d89-b274-9231e8fbaabc",
   "metadata": {},
   "outputs": [
    {
     "data": {
      "text/plain": [
       "Network(\n",
       "  (model): Sequential(\n",
       "    (0): Linear(in_features=2, out_features=50, bias=True)\n",
       "    (1): Tanh()\n",
       "    (2): Linear(in_features=50, out_features=50, bias=True)\n",
       "    (3): Tanh()\n",
       "    (4): Linear(in_features=50, out_features=50, bias=True)\n",
       "    (5): Tanh()\n",
       "    (6): Linear(in_features=50, out_features=50, bias=True)\n",
       "    (7): Tanh()\n",
       "    (8): Linear(in_features=50, out_features=1, bias=True)\n",
       "  )\n",
       ")"
      ]
     },
     "execution_count": 8,
     "metadata": {},
     "output_type": "execute_result"
    }
   ],
   "source": [
    "network.eval()"
   ]
  },
  {
   "cell_type": "code",
   "execution_count": 9,
   "id": "ac7f4097-b9d1-4784-89d0-59c213c7b7d7",
   "metadata": {},
   "outputs": [
    {
     "data": {
      "text/plain": [
       "(100.0, 31315.92653589793)"
      ]
     },
     "execution_count": 9,
     "metadata": {},
     "output_type": "execute_result"
    }
   ],
   "source": [
    "nu = 0.01 / np.pi\n",
    "\n",
    "error_lambda_1 = np.abs(network.lambda_1.detach().item() - 1.0)*100\n",
    "error_lambda_2 = np.abs(torch.exp(network.lambda_2).detach().item() - nu) / nu * 100\n",
    "\n",
    "error_lambda_1, error_lambda_2"
   ]
  },
  {
   "cell_type": "code",
   "execution_count": 10,
   "id": "3521bdbb-5359-438f-b3b5-2be55bd51054",
   "metadata": {},
   "outputs": [
    {
     "data": {
      "text/plain": [
       "(1.0, 0.0)"
      ]
     },
     "execution_count": 10,
     "metadata": {},
     "output_type": "execute_result"
    }
   ],
   "source": [
    "1.0, network.lambda_1.detach().item()"
   ]
  },
  {
   "cell_type": "code",
   "execution_count": 11,
   "id": "a8df5c78-98b3-4057-95d7-60d56711b3bb",
   "metadata": {},
   "outputs": [
    {
     "data": {
      "text/plain": [
       "(0.003183098861837907, 1.0)"
      ]
     },
     "execution_count": 11,
     "metadata": {},
     "output_type": "execute_result"
    }
   ],
   "source": [
    "nu, torch.exp(network.lambda_2).detach().item()"
   ]
  },
  {
   "cell_type": "code",
   "execution_count": null,
   "id": "77723975-69ed-4d31-a9f5-f84999a5bb7a",
   "metadata": {},
   "outputs": [],
   "source": []
  },
  {
   "cell_type": "code",
   "execution_count": null,
   "id": "369d0ab6-694b-4b01-9544-53ab5e403b86",
   "metadata": {},
   "outputs": [],
   "source": []
  },
  {
   "cell_type": "code",
   "execution_count": null,
   "id": "a43f3e82-963c-4547-a1b9-9af4e6e88edc",
   "metadata": {},
   "outputs": [],
   "source": []
  },
  {
   "cell_type": "code",
   "execution_count": null,
   "id": "46ca05af-8fd9-414b-ac75-b0775bfda193",
   "metadata": {},
   "outputs": [],
   "source": []
  },
  {
   "cell_type": "code",
   "execution_count": null,
   "id": "62e2423b-a9f6-4525-ab17-9a36d5d5eada",
   "metadata": {},
   "outputs": [],
   "source": []
  },
  {
   "cell_type": "code",
   "execution_count": null,
   "id": "5675d4aa-b44d-4518-a44d-6ecd64dd3e4e",
   "metadata": {},
   "outputs": [],
   "source": []
  },
  {
   "cell_type": "code",
   "execution_count": null,
   "id": "24ac74ba-a018-43f4-85c2-a85a505b89a8",
   "metadata": {},
   "outputs": [],
   "source": []
  },
  {
   "cell_type": "markdown",
   "id": "1e0f544d-2966-424a-8364-ee9d88e1d6f9",
   "metadata": {},
   "source": [
    "### Symbolic regression"
   ]
  },
  {
   "cell_type": "code",
   "execution_count": 12,
   "id": "bd7b779f-716b-46a9-93da-c5e54764a25b",
   "metadata": {},
   "outputs": [
    {
     "name": "stdout",
     "output_type": "stream",
     "text": [
      "dict_keys(['uf', 'u_x', 'u_xx', 'u_tt', 'u_xt', 'u_tx'])\n"
     ]
    }
   ],
   "source": [
    "# grads_dict, target = network.get_gradients_dict(X_u_train[:, 0:1], X_u_train[:, 1:2])\n",
    "# index2features = grads_dict.keys()\n",
    "# print(index2features)\n",
    "\n",
    "# G = torch.cat(list(grads_dict.values()), dim=1).detach().numpy()\n",
    "# target = torch.squeeze(target).detach().numpy()"
   ]
  },
  {
   "cell_type": "code",
   "execution_count": 11,
   "id": "39cf2959-9f5c-4619-90a3-3638853c05dd",
   "metadata": {},
   "outputs": [],
   "source": [
    "# I already have the data\n",
    "G = np.load(\"./saved_path_inverse_burger/data/derivatives-25600-V1-with-1000unlabledsamples.npy\")\n",
    "target = np.load(\"./saved_path_inverse_burger/data/dynamics-25600-V1-with-1000unlabledsamples.npy\")\n",
    "if len(target.shape) > 1:\n",
    "    target = np.squeeze(target)"
   ]
  },
  {
   "cell_type": "code",
   "execution_count": 13,
   "id": "95b51390-3b0c-4e4c-aac0-7f059f84db34",
   "metadata": {},
   "outputs": [
    {
     "name": "stdin",
     "output_type": "stream",
     "text": [
      "I will install Julia packages using PySR's Project.toml file. OK? (y/n):  y\n"
     ]
    },
    {
     "name": "stdout",
     "output_type": "stream",
     "text": [
      "OK. I will install at launch.\n",
      "Running on julia -O3 /var/folders/z3/_stfms3523dd5mnfr3ch5n100000gp/T/tmphw4y73q1/runfile.jl\n",
      "Activating environment on workers.\n",
      "      From worker 5:\t  Activating environment at `/usr/local/lib/python3.9/site-packages/Project.toml`\n",
      "      From worker 4:\t  Activating environment at `/usr/local/lib/python3.9/site-packages/Project.toml`\n",
      "      From worker 3:\t  Activating environment at `/usr/local/lib/python3.9/site-packages/Project.toml`\n",
      "      From worker 2:\t  Activating environment at `/usr/local/lib/python3.9/site-packages/Project.toml`\n",
      "Importing installed module on workers...Finished!\n",
      "Testing module on workers...Finished!\n",
      "Testing entire pipeline on workers...Finished!\n",
      "Started!\n",
      "\n",
      "Cycles per second: 1.180e+03\n",
      "Progress: 1 / 200 total iterations (0.500%)\n",
      "Hall of Fame:\n",
      "-----------------------------------------\n",
      "Complexity  Loss       Score     Equation\n",
      "1           6.776e-01  -0.000e+00  0.0011683702\n",
      "3           6.111e-01  5.166e-02  (-0.41985202 * x0)\n",
      "9           5.583e-01  1.508e-02  ((-0.4216125 * x0) + ((-0.07126945 * x0) * x1))\n",
      "\n",
      "\n",
      "Cycles per second: 6.590e+03\n",
      "Progress: 2 / 200 total iterations (1.000%)\n",
      "Hall of Fame:\n",
      "-----------------------------------------\n",
      "Complexity  Loss       Score     Equation\n",
      "1           6.776e-01  -0.000e+00  0.0011683702\n",
      "3           6.111e-01  5.166e-02  (-0.41985202 * x0)\n",
      "9           5.583e-01  1.508e-02  ((-0.4216125 * x0) + ((-0.07126945 * x0) * x1))\n",
      "\n",
      "\n",
      "Cycles per second: 4.890e+03\n",
      "Progress: 3 / 200 total iterations (1.500%)\n",
      "Hall of Fame:\n",
      "-----------------------------------------\n",
      "Complexity  Loss       Score     Equation\n",
      "1           6.776e-01  -0.000e+00  0.0011683702\n",
      "3           6.111e-01  5.166e-02  (-0.41985202 * x0)\n",
      "9           4.251e-02  4.442e-01  ((0.003075424 * x2) + ((-0.9291712 * x0) * x1))\n",
      "13          4.188e-02  3.734e-03  (((0.0030790435 * x2) + (0.001067 * x4)) + ((-0.9301614 * x0) * x1))\n",
      "\n",
      "\n",
      "Cycles per second: 4.850e+03\n",
      "Progress: 4 / 200 total iterations (2.000%)\n",
      "Hall of Fame:\n",
      "-----------------------------------------\n",
      "Complexity  Loss       Score     Equation\n",
      "1           6.776e-01  -0.000e+00  0.0011683702\n",
      "3           6.111e-01  5.166e-02  (-0.41985202 * x0)\n",
      "9           4.251e-02  4.442e-01  ((0.003075424 * x2) + ((-0.9291712 * x0) * x1))\n",
      "13          4.188e-02  3.734e-03  (((0.0030790435 * x2) + (0.001067 * x4)) + ((-0.9301614 * x0) * x1))\n",
      "\n",
      "\n",
      "Cycles per second: 6.280e+03\n",
      "Progress: 5 / 200 total iterations (2.500%)\n",
      "Hall of Fame:\n",
      "-----------------------------------------\n",
      "Complexity  Loss       Score     Equation\n",
      "1           6.776e-01  -0.000e+00  0.0011683702\n",
      "3           6.111e-01  5.166e-02  (-0.41985202 * x0)\n",
      "9           4.251e-02  4.442e-01  ((0.003075424 * x2) + ((-0.9291712 * x0) * x1))\n",
      "13          4.188e-02  3.734e-03  (((0.0030790435 * x2) + (0.001067 * x4)) + ((-0.9301614 * x0) * x1))\n",
      "\n",
      "\n",
      "Cycles per second: 5.490e+03\n",
      "Progress: 6 / 200 total iterations (3.000%)\n",
      "Hall of Fame:\n",
      "-----------------------------------------\n",
      "Complexity  Loss       Score     Equation\n",
      "1           6.776e-01  -0.000e+00  0.0011683702\n",
      "3           6.111e-01  5.166e-02  (-0.41985202 * x0)\n",
      "9           4.251e-02  4.442e-01  ((0.003075424 * x2) + ((-0.9291712 * x0) * x1))\n",
      "13          4.188e-02  3.734e-03  (((0.0030790435 * x2) + (0.001067 * x4)) + ((-0.9301614 * x0) * x1))\n",
      "\n",
      "\n",
      "Cycles per second: 6.420e+03\n",
      "Progress: 7 / 200 total iterations (3.500%)\n",
      "Hall of Fame:\n",
      "-----------------------------------------\n",
      "Complexity  Loss       Score     Equation\n",
      "1           6.776e-01  -0.000e+00  0.0011683702\n",
      "3           6.111e-01  5.166e-02  (-0.41985202 * x0)\n",
      "9           4.251e-02  4.442e-01  ((0.003075424 * x2) + ((-0.9291712 * x0) * x1))\n",
      "13          4.188e-02  3.734e-03  (((0.0030790435 * x2) + (0.001067 * x4)) + ((-0.9301614 * x0) * x1))\n",
      "\n",
      "\n",
      "Cycles per second: 5.910e+03\n",
      "Progress: 8 / 200 total iterations (4.000%)\n",
      "Hall of Fame:\n",
      "-----------------------------------------\n",
      "Complexity  Loss       Score     Equation\n",
      "1           6.776e-01  -0.000e+00  0.0011683702\n",
      "3           6.111e-01  5.166e-02  (-0.41985202 * x0)\n",
      "9           4.251e-02  4.442e-01  ((0.003075424 * x2) + ((-0.9291712 * x0) * x1))\n",
      "13          4.188e-02  3.734e-03  (((0.0030790435 * x2) + (0.001067 * x4)) + ((-0.9301614 * x0) * x1))\n",
      "\n",
      "\n",
      "Cycles per second: 7.920e+03\n",
      "Progress: 10 / 200 total iterations (5.000%)\n",
      "Hall of Fame:\n",
      "-----------------------------------------\n",
      "Complexity  Loss       Score     Equation\n",
      "1           6.776e-01  -0.000e+00  0.0011683702\n",
      "3           6.111e-01  5.166e-02  (-0.41985202 * x0)\n",
      "9           4.251e-02  4.442e-01  ((0.003075424 * x2) + ((-0.9291712 * x0) * x1))\n",
      "13          4.188e-02  3.734e-03  (((0.0030790435 * x2) + (0.001067 * x4)) + ((-0.9301614 * x0) * x1))\n",
      "\n",
      "Killing process... will return when done.\n"
     ]
    }
   ],
   "source": [
    "equations = pysr(G, target, niterations=20, binary_operators=[\"plus\", \"sub\", \"mult\"], unary_operators=[], batching=True, procs=4, populations=10, npop=2000)"
   ]
  },
  {
   "cell_type": "code",
   "execution_count": 14,
   "id": "6c259251-54ba-4246-8c93-2d6e57ef88c0",
   "metadata": {},
   "outputs": [
    {
     "name": "stdout",
     "output_type": "stream",
     "text": [
      "-0.9291712*x0*x1 + 0.003075424*x2\n"
     ]
    }
   ],
   "source": [
    "# Choose the one with best score => might be overfitting (the lowest loss)\n",
    "print(best(equations))\n",
    "# fn = best_callable(equations)"
   ]
  },
  {
   "cell_type": "code",
   "execution_count": 15,
   "id": "06e6cec9-9e8f-4cd0-a0f3-3121bf604d40",
   "metadata": {},
   "outputs": [],
   "source": [
    "df = equations.drop(labels='lambda_format', axis=1)\n",
    "df.to_pickle('./saved_path_inverse_burger/equations_from_pysr.pkl')"
   ]
  },
  {
   "cell_type": "code",
   "execution_count": 13,
   "id": "3510fbef-5e31-4a75-a9e1-9ab862c3ff2b",
   "metadata": {},
   "outputs": [
    {
     "name": "stdout",
     "output_type": "stream",
     "text": [
      "    |   Population Average    |             Best Individual              |\n",
      "---- ------------------------- ------------------------------------------ ----------\n",
      " Gen   Length          Fitness   Length          Fitness      OOB Fitness  Time Left\n",
      "   0    28.22      2.09563e+57        7         0.314202         0.347012     26.05m\n",
      "   1     7.43      4.10284e+46        7         0.302478         0.452525     34.27m\n",
      "   2     4.43      5.18667e+27        5         0.290303         0.535045     42.47m\n",
      "   3     4.85      1.97667e+30        7         0.289603           0.5684     40.97m\n",
      "   4     6.19      2.94895e+25       13         0.131892         0.134996     36.53m\n",
      "   5     7.24      6.53746e+22       15         0.125058         0.187611     34.19m\n",
      "   6     6.80      1.70287e+35       15        0.0616337        0.0438162     31.96m\n",
      "   7     6.77      3.32202e+26       15        0.0605004        0.0540161     31.20m\n",
      "   8     8.89      2.09327e+28       15        0.0556881        0.0973268     31.73m\n"
     ]
    },
    {
     "name": "stderr",
     "output_type": "stream",
     "text": [
      "/Users/pongpisit/anaconda3/lib/python3.6/site-packages/joblib/externals/loky/process_executor.py:706: UserWarning: A worker stopped while some jobs were given to the executor. This can be caused by a too short worker timeout or by a memory leak.\n",
      "  \"timeout or by a memory leak.\", UserWarning\n"
     ]
    },
    {
     "name": "stdout",
     "output_type": "stream",
     "text": [
      "   9    11.77      3.18222e+26       15        0.0536423        0.0533186     31.35m\n",
      "  10    12.87      2.93116e+23       15        0.0519578        0.0684789     27.37m\n",
      "  11    14.51      5.48416e+21       19        0.0490354        0.0622942     24.73m\n",
      "  12    15.02      3.50781e+24       37        0.0477976        0.0650997     23.75m\n",
      "  13    15.79      5.72234e+27       33        0.0460954         0.055607     20.51m\n",
      "  14    14.06      1.46036e+24       31        0.0467849        0.0494052     16.56m\n",
      "  15    12.73      4.67856e+28       19        0.0470444         0.080213     12.56m\n",
      "  16    11.82       2.0644e+24       27        0.0474535        0.0433376      9.23m\n",
      "  17    11.26      1.47116e+20       11         0.048146         0.102665      6.04m\n",
      "  18    11.00      2.02108e+23       11        0.0484568        0.0998683      3.28m\n",
      "  19    10.92      1.10163e+48       11        0.0482482         0.101745      0.00s\n"
     ]
    },
    {
     "data": {
      "text/plain": [
       "SymbolicRegressor(function_set=('add', 'sub', 'mul'), max_samples=0.9, n_jobs=4,\n",
       "                  p_crossover=0.7, p_hoist_mutation=0.05, p_point_mutation=0.1,\n",
       "                  p_subtree_mutation=0.1, population_size=60000, verbose=1)"
      ]
     },
     "execution_count": 13,
     "metadata": {},
     "output_type": "execute_result"
    }
   ],
   "source": [
    "### The one config that I used, and it was giving a good approx symbolic representation of the data. ###\n",
    "\n",
    "# (1)\n",
    "# est_gp = SymbolicRegressor(population_size=50000, generations=20, function_set=('add', 'sub', 'mul'),\n",
    "#                            p_crossover=0.7, p_subtree_mutation=0.1, p_hoist_mutation=0.05,\n",
    "#                            p_point_mutation=0.1, max_samples=0.9, parsimony_coefficient=0.001,\n",
    "#                            verbose=1, low_memory=True, n_jobs=2)\n",
    "\n",
    "# (2)\n",
    "# est_gp = SymbolicRegressor(population_size=60000, generations=20, function_set=('add', 'sub', 'mul'),\n",
    "#                            p_crossover=0.7, p_subtree_mutation=0.1, p_hoist_mutation=0.05,\n",
    "#                            p_point_mutation=0.1, max_samples=0.9, parsimony_coefficient=0.001,\n",
    "#                            verbose=1, low_memory=True, n_jobs=-1)\n",
    "\n",
    "# const_range=(-1. float(G.shape[1])) ?\n",
    "\n",
    "### Current experiment ###\n",
    "est_gp = SymbolicRegressor(population_size=60000, generations=25, function_set=('add', 'sub', 'mul'),\n",
    "                           p_crossover=0.7, p_subtree_mutation=0.1, p_hoist_mutation=0.05,\n",
    "                           p_point_mutation=0.1, max_samples=0.9, parsimony_coefficient=0.001,\n",
    "                           verbose=1, low_memory=True, n_jobs=-1)\n",
    "\n",
    "est_gp.fit(G, target)"
   ]
  },
  {
   "cell_type": "code",
   "execution_count": 17,
   "id": "e15752c5-62ad-49ad-b1f0-1d0701c07a79",
   "metadata": {},
   "outputs": [
    {
     "name": "stdout",
     "output_type": "stream",
     "text": [
      "(-X0*X1 + 0.00329*X2, {X1, X0, X2})\n"
     ]
    }
   ],
   "source": [
    "from utils import build_exp\n",
    "program = est_gp._program\n",
    "print(build_exp(program))"
   ]
  },
  {
   "cell_type": "code",
   "execution_count": 16,
   "id": "9a56e002-b20e-4433-9e89-de94d4e00e18",
   "metadata": {},
   "outputs": [
    {
     "name": "stdout",
     "output_type": "stream",
     "text": [
      "Saved to ./data/gp_symreg_with_noisy_features2.pkl\n"
     ]
    }
   ],
   "source": [
    "# from utils import pickle_save\n",
    "# pickle_save(est_gp, './data/gp_symreg_with_noisy_features.pkl')"
   ]
  },
  {
   "cell_type": "code",
   "execution_count": null,
   "id": "6f95fb97-6054-4b5d-b3d9-5866b54176a9",
   "metadata": {},
   "outputs": [],
   "source": [
    "# Exreacted equation (for further fine-tuning)\n",
    "# u_t + 0.6860763*uf*u_x - 0.0020577204*u_xx"
   ]
  }
 ],
 "metadata": {
  "kernelspec": {
   "display_name": "Python 3",
   "language": "python",
   "name": "python3"
  },
  "language_info": {
   "codemirror_mode": {
    "name": "ipython",
    "version": 3
   },
   "file_extension": ".py",
   "mimetype": "text/x-python",
   "name": "python",
   "nbconvert_exporter": "python",
   "pygments_lexer": "ipython3",
   "version": "3.9.4"
  }
 },
 "nbformat": 4,
 "nbformat_minor": 5
}
