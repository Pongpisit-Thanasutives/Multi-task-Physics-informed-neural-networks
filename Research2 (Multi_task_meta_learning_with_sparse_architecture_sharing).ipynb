{
 "cells": [
  {
   "cell_type": "code",
   "execution_count": null,
   "metadata": {
    "id": "NnmiR6wcKcKD"
   },
   "outputs": [],
   "source": [
    "import math\n",
    "from collections import defaultdict\n",
    "from itertools import chain\n",
    "from torch.optim import Optimizer\n",
    "import torch\n",
    "import warnings\n",
    "\n",
    "class Lookahead(Optimizer):\n",
    "    def __init__(self, optimizer, k=5, alpha=0.5):\n",
    "        self.optimizer = optimizer\n",
    "        self.k = k\n",
    "        self.alpha = alpha\n",
    "        self.param_groups = self.optimizer.param_groups\n",
    "        self.state = defaultdict(dict)\n",
    "        self.fast_state = self.optimizer.state\n",
    "        for group in self.param_groups:\n",
    "            group[\"counter\"] = 0\n",
    "    \n",
    "    def update(self, group):\n",
    "        for fast in group[\"params\"]:\n",
    "            param_state = self.state[fast]\n",
    "            if \"slow_param\" not in param_state:\n",
    "                param_state[\"slow_param\"] = torch.zeros_like(fast.data)\n",
    "                param_state[\"slow_param\"].copy_(fast.data)\n",
    "            slow = param_state[\"slow_param\"]\n",
    "            slow += (fast.data - slow) * self.alpha\n",
    "            fast.data.copy_(slow)\n",
    "    \n",
    "    def update_lookahead(self):\n",
    "        for group in self.param_groups:\n",
    "            self.update(group)\n",
    "\n",
    "    def step(self, closure=None):\n",
    "        loss = self.optimizer.step(closure)\n",
    "        for group in self.param_groups:\n",
    "            if group[\"counter\"] == 0:\n",
    "                self.update(group)\n",
    "            group[\"counter\"] += 1\n",
    "            if group[\"counter\"] >= self.k:\n",
    "                group[\"counter\"] = 0\n",
    "        return loss\n",
    "\n",
    "    def state_dict(self):\n",
    "        fast_state_dict = self.optimizer.state_dict()\n",
    "        slow_state = {\n",
    "            (id(k) if isinstance(k, torch.Tensor) else k): v\n",
    "            for k, v in self.state.items()\n",
    "        }\n",
    "        fast_state = fast_state_dict[\"state\"]\n",
    "        param_groups = fast_state_dict[\"param_groups\"]\n",
    "        return {\n",
    "            \"fast_state\": fast_state,\n",
    "            \"slow_state\": slow_state,\n",
    "            \"param_groups\": param_groups,\n",
    "        }\n",
    "\n",
    "    def load_state_dict(self, state_dict):\n",
    "        slow_state_dict = {\n",
    "            \"state\": state_dict[\"slow_state\"],\n",
    "            \"param_groups\": state_dict[\"param_groups\"],\n",
    "        }\n",
    "        fast_state_dict = {\n",
    "            \"state\": state_dict[\"fast_state\"],\n",
    "            \"param_groups\": state_dict[\"param_groups\"],\n",
    "        }\n",
    "        super(Lookahead, self).load_state_dict(slow_state_dict)\n",
    "        self.optimizer.load_state_dict(fast_state_dict)\n",
    "        self.fast_state = self.optimizer.state\n",
    "\n",
    "    def add_param_group(self, param_group):\n",
    "        param_group[\"counter\"] = 0\n",
    "        self.optimizer.add_param_group(param_group)\n",
    "\n",
    "def centralized_gradient(x,use_gc=True,gc_conv_only=False):\n",
    "    if use_gc:\n",
    "      if gc_conv_only:\n",
    "        if len(list(x.size()))>3:\n",
    "            x.add_(-x.mean(dim = tuple(range(1,len(list(x.size())))), keepdim = True))\n",
    "      else:\n",
    "        if len(list(x.size()))>1:\n",
    "            x.add_(-x.mean(dim = tuple(range(1,len(list(x.size())))), keepdim = True))\n",
    "    return x\n",
    "\n",
    "class AdamGC(Optimizer):\n",
    "    r\"\"\"Implements Adam algorithm.\n",
    "    It has been proposed in `Adam: A Method for Stochastic Optimization`_.\n",
    "    Arguments:\n",
    "        params (iterable): iterable of parameters to optimize or dicts defining\n",
    "            parameter groups\n",
    "        lr (float, optional): learning rate (default: 1e-3)\n",
    "        betas (Tuple[float, float], optional): coefficients used for computing\n",
    "            running averages of gradient and its square (default: (0.9, 0.999))\n",
    "        eps (float, optional): term added to the denominator to improve\n",
    "            numerical stability (default: 1e-8)\n",
    "        weight_decay (float, optional): weight decay (L2 penalty) (default: 0)\n",
    "        amsgrad (boolean, optional): whether to use the AMSGrad variant of this\n",
    "            algorithm from the paper `On the Convergence of Adam and Beyond`_\n",
    "            (default: False)\n",
    "    .. _Adam\\: A Method for Stochastic Optimization:\n",
    "        https://arxiv.org/abs/1412.6980\n",
    "    .. _On the Convergence of Adam and Beyond:\n",
    "        https://openreview.net/forum?id=ryQu7f-RZ\n",
    "    \"\"\"\n",
    "\n",
    "    def __init__(self, params, lr=1e-3, betas=(0.9, 0.999), eps=1e-8,\n",
    "                 weight_decay=0, amsgrad=False,use_gc=False, gc_conv_only=False,gc_loc=False):\n",
    "        if not 0.0 <= lr:\n",
    "            raise ValueError(\"Invalid learning rate: {}\".format(lr))\n",
    "        if not 0.0 <= eps:\n",
    "            raise ValueError(\"Invalid epsilon value: {}\".format(eps))\n",
    "        if not 0.0 <= betas[0] < 1.0:\n",
    "            raise ValueError(\"Invalid beta parameter at index 0: {}\".format(betas[0]))\n",
    "        if not 0.0 <= betas[1] < 1.0:\n",
    "            raise ValueError(\"Invalid beta parameter at index 1: {}\".format(betas[1]))\n",
    "        if not 0.0 <= weight_decay:\n",
    "            raise ValueError(\"Invalid weight_decay value: {}\".format(weight_decay))\n",
    "        defaults = dict(lr=lr, betas=betas, eps=eps,\n",
    "                        weight_decay=weight_decay, amsgrad=amsgrad)\n",
    "        super(AdamGC, self).__init__(params, defaults)\n",
    "        self.gc_loc=gc_loc\n",
    "        self.use_gc=use_gc\n",
    "        self.gc_conv_only=gc_conv_only\n",
    "\n",
    "    def __setstate__(self, state):\n",
    "        super(AdamGC, self).__setstate__(state)\n",
    "        for group in self.param_groups:\n",
    "            group.setdefault('amsgrad', False)\n",
    "\n",
    "    @torch.no_grad()\n",
    "    def step(self, closure=None):\n",
    "        \"\"\"Performs a single optimization step.\n",
    "        Arguments:\n",
    "            closure (callable, optional): A closure that reevaluates the model\n",
    "                and returns the loss.\n",
    "        \"\"\"\n",
    "        loss = None\n",
    "        if closure is not None:\n",
    "            with torch.enable_grad():\n",
    "                loss = closure()\n",
    "\n",
    "        for group in self.param_groups:\n",
    "            for p in group['params']:\n",
    "                if p.grad is None:\n",
    "                    continue\n",
    "                grad = p.grad\n",
    "                if grad.is_sparse:\n",
    "                    raise RuntimeError('Adam does not support sparse gradients, please consider SparseAdam instead')\n",
    "                amsgrad = group['amsgrad']\n",
    "\n",
    "                state = self.state[p]\n",
    "\n",
    "                # State initialization\n",
    "                if len(state) == 0:\n",
    "                    state['step'] = 0\n",
    "                    # Exponential moving average of gradient values\n",
    "                    state['exp_avg'] = torch.zeros_like(p, memory_format=torch.preserve_format)\n",
    "                    # Exponential moving average of squared gradient values\n",
    "                    state['exp_avg_sq'] = torch.zeros_like(p, memory_format=torch.preserve_format)\n",
    "                    if amsgrad:\n",
    "                        # Maintains max of all exp. moving avg. of sq. grad. values\n",
    "                        state['max_exp_avg_sq'] = torch.zeros_like(p, memory_format=torch.preserve_format)\n",
    "\n",
    "                exp_avg, exp_avg_sq = state['exp_avg'], state['exp_avg_sq']\n",
    "                if amsgrad:\n",
    "                    max_exp_avg_sq = state['max_exp_avg_sq']\n",
    "                beta1, beta2 = group['betas']\n",
    "\n",
    "                state['step'] += 1\n",
    "                bias_correction1 = 1 - beta1 ** state['step']\n",
    "                bias_correction2 = 1 - beta2 ** state['step']\n",
    "\n",
    "                if group['weight_decay'] != 0:\n",
    "                    grad = grad.add(p, alpha=group['weight_decay'])\n",
    "                if self.gc_loc:\n",
    "                   grad=centralized_gradient(grad,use_gc=self.use_gc,gc_conv_only=self.gc_conv_only)\n",
    "                    \n",
    "                # Decay the first and second moment running average coefficient\n",
    "                exp_avg.mul_(beta1).add_(grad, alpha=1 - beta1)\n",
    "                exp_avg_sq.mul_(beta2).addcmul_(grad, grad, value=1 - beta2)\n",
    "                if amsgrad:\n",
    "                    # Maintains the maximum of all 2nd moment running avg. till now\n",
    "                    torch.max(max_exp_avg_sq, exp_avg_sq, out=max_exp_avg_sq)\n",
    "                    # Use the max. for normalizing running avg. of gradient\n",
    "                    denom = (max_exp_avg_sq.sqrt() / math.sqrt(bias_correction2)).add_(group['eps'])\n",
    "                else:\n",
    "                    denom = (exp_avg_sq.sqrt() / math.sqrt(bias_correction2)).add_(group['eps'])\n",
    "\n",
    "                step_size = group['lr'] / bias_correction1\n",
    "                #GC operation \n",
    "                G_grad=exp_avg/denom \n",
    "                if self.gc_loc==False:       \n",
    "                    G_grad=centralized_gradient(G_grad,use_gc=self.use_gc,gc_conv_only=self.gc_conv_only)\n",
    "                \n",
    "                p.add_( G_grad, alpha=-step_size)\n",
    "\n",
    "        return loss"
   ]
  },
  {
   "cell_type": "code",
   "execution_count": null,
   "metadata": {
    "id": "iawYpPIzGseI"
   },
   "outputs": [],
   "source": [
    "# !pip3 install torch-lr-finder\n",
    "# !pip3 install pyDOE\n",
    "# !pip3 install torchmeta\n",
    "# !pip3 install learn2learn\n",
    "# !pip3 install git+https://github.com/numenta/nupic.torch.git\n",
    "# print('Done!!! installing packages')"
   ]
  },
  {
   "cell_type": "code",
   "execution_count": null,
   "metadata": {
    "colab": {
     "base_uri": "https://localhost:8080/"
    },
    "id": "WbGngffUHO6z",
    "outputId": "c4598b17-83ac-4530-fd64-85d02aeab222"
   },
   "outputs": [
    {
     "name": "stdout",
     "output_type": "stream",
     "text": [
      "Drive already mounted at /content/drive; to attempt to forcibly remount, call drive.mount(\"/content/drive\", force_remount=True).\n"
     ]
    }
   ],
   "source": [
    "from google.colab import drive\n",
    "drive.mount('/content/drive')\n",
    "PATH = '/content/drive/MyDrive/Colab Notebooks/'"
   ]
  },
  {
   "cell_type": "code",
   "execution_count": 1,
   "metadata": {
    "id": "v8NU7K8qHRqn"
   },
   "outputs": [],
   "source": [
    "# importing libs\n",
    "import time\n",
    "import random\n",
    "import os\n",
    "import torch\n",
    "import torch.nn as nn\n",
    "import torch.nn.functional as F\n",
    "from torch.autograd import Variable\n",
    "from torch.utils.data import Dataset, DataLoader\n",
    "from torch_lr_finder import LRFinder\n",
    "\n",
    "from nupic.torch.modules import (KWinners, SparseWeights, Flatten, rezero_weights, update_boost_strength)\n",
    "\n",
    "import numpy as np\n",
    "from sklearn.metrics import mean_squared_error, mean_absolute_error\n",
    "\n",
    "from pyDOE import lhs\n",
    "import learn2learn as l2l\n",
    "from learn2learn.optim.transforms import MetaCurvatureTransform\n",
    "\n",
    "import matplotlib.pyplot as plt\n",
    "%matplotlib inline"
   ]
  },
  {
   "cell_type": "code",
   "execution_count": null,
   "metadata": {
    "id": "KO4YMxAsHXiT"
   },
   "outputs": [],
   "source": [
    "class CrossStich(nn.Module):\n",
    "    def __init__(self,):\n",
    "        super(CrossStich, self).__init__()\n",
    "        self.transform = nn.Parameter(data=torch.eye(2), requires_grad=True)\n",
    "    def forward(self, input_1, input_2):\n",
    "        return self.transform[0][0]*input_1 + self.transform[0][1]*input_2, self.transform[1][0]*input_1 + self.transform[1][1]*input_2\n",
    "\n",
    "# MLP configuration\n",
    "INPUT_SIZE = 2  \n",
    "SPARSE_HIDDEN_SIZE = 2048\n",
    "HIDDEN_SIZE = 50\n",
    "OUTPUT_SIZE = 1\n",
    "\n",
    "# Sparsity parameters\n",
    "SPARSITY = 0.2\n",
    "\n",
    "class MLTSparseModel(nn.Module):\n",
    "    def __init__(self, INPUT_SIZE, SPARSE_HIDDEN_SIZE, HIDDEN_SIZE, OUTPUT_SIZE):\n",
    "        super().__init__()\n",
    "        self.sparse1 = SparseWeights(nn.Linear(INPUT_SIZE, SPARSE_HIDDEN_SIZE), sparsity=SPARSITY)\n",
    "        self.sparse2 = SparseWeights(nn.Linear(SPARSE_HIDDEN_SIZE, SPARSE_HIDDEN_SIZE), sparsity=SPARSITY)\n",
    "\n",
    "        # Task1\n",
    "        self.hidden1_t1 = nn.Linear(SPARSE_HIDDEN_SIZE, HIDDEN_SIZE)\n",
    "        self.hidden2_t1 = nn.Linear(HIDDEN_SIZE, OUTPUT_SIZE)\n",
    "\n",
    "        # Task2\n",
    "        self.hidden1_t2 = nn.Linear(SPARSE_HIDDEN_SIZE, HIDDEN_SIZE)\n",
    "        self.hidden2_t2 = nn.Linear(HIDDEN_SIZE, OUTPUT_SIZE)\n",
    "\n",
    "        self.cross_stitch = CrossStich()\n",
    "\n",
    "    def forward(self, x):\n",
    "        x = self.swish(self.sparse1(x))\n",
    "        x = self.swish(self.sparse2(x))\n",
    "        \n",
    "        x_t1 = self.swish(self.hidden1_t1(x))\n",
    "        x_t2 = self.swish(self.hidden1_t2(x))\n",
    "\n",
    "        x_t1, x_t2 = self.cross_stitch(x_t1, x_t2)\n",
    "\n",
    "        x_t1 = self.swish(self.hidden2_t1(x_t1))\n",
    "        x_t2 = self.swish(self.hidden2_t2(x_t2))\n",
    "        \n",
    "        return x_t1, x_t2\n",
    "\n",
    "    def swish(self, x):\n",
    "        return x*torch.sigmoid(x)"
   ]
  },
  {
   "cell_type": "code",
   "execution_count": null,
   "metadata": {
    "id": "H3Wwi6J1Ju6T"
   },
   "outputs": [],
   "source": [
    "torch.cuda.empty_cache()\n",
    "sparse_solver = MLTSparseModel(INPUT_SIZE, SPARSE_HIDDEN_SIZE, HIDDEN_SIZE, OUTPUT_SIZE).cuda()"
   ]
  },
  {
   "cell_type": "code",
   "execution_count": null,
   "metadata": {
    "id": "xBuQnESoeY_6"
   },
   "outputs": [],
   "source": [
    "def get_fxy(X_f, constant):\n",
    "    return -constant*(np.sin(np.pi*X_f[:, 0:1])*np.sin(np.pi*X_f[:, 1:2]))\n",
    "\n",
    "lb = 0\n",
    "ub = 1\n",
    "N_f = 200 # for toy experiment (should be like 1000?)\n",
    "n_tasks = 12000\n",
    "n_b_conditions = 4\n",
    "N_b = 64 # for toy experiment (should be like 200?)\n",
    "\n",
    "def get_interior_data(X_f, constant):\n",
    "    X_f = np.hstack((X_f, get_fxy(X_f, constant), get_fxy(X_f, constant-1+2*np.random.rand())))\n",
    "    return X_f\n",
    "\n",
    "def get_boundary_data(constant, N_b, n_b_conditions):\n",
    "    X_b1 = np.zeros((N_b//n_b_conditions, 4))\n",
    "    X_b1[:, 0:1] = lb + (ub-lb)*lhs(1, N_b//n_b_conditions)\n",
    "    X_b1[:, 1:2] = 0\n",
    "    X_b1[:, 2:3] = 0\n",
    "    X_b1[:, 3:4] = 0\n",
    "\n",
    "    X_b2 = np.zeros((N_b//n_b_conditions, 4))\n",
    "    X_b2[:, 0:1] = lb + (ub-lb)*lhs(1, N_b//n_b_conditions)\n",
    "    X_b2[:, 1:2] = 1\n",
    "    X_b2[:, 2:3] = get_fxy(X_b2, constant)\n",
    "    X_b2[:, 3:4] = get_fxy(X_b2, constant-1+2*np.random.rand())\n",
    "\n",
    "    X_b3 = np.zeros((N_b//n_b_conditions, 4))\n",
    "    X_b3[:, 0:1] = 0\n",
    "    X_b3[:, 1:2] = lb + (ub-lb)*lhs(1, N_b//n_b_conditions)\n",
    "    X_b3[:, 2:3] = 0\n",
    "    X_b3[:, 3:4] = 0\n",
    "\n",
    "    X_b4 = np.zeros((N_b//n_b_conditions, 4))\n",
    "    X_b4[:, 0:1] = 1\n",
    "    X_b4[:, 1:2] = lb + (ub-lb)*lhs(1, N_b//n_b_conditions)\n",
    "    X_b4[:, 2:3] = get_fxy(X_b4, constant)\n",
    "    X_b4[:, 3:4] = get_fxy(X_b4, constant-1+2*np.random.rand())\n",
    "\n",
    "    X_b = np.vstack((X_b1, X_b2, X_b3, X_b4))\n",
    "    np.random.shuffle(X_b)\n",
    "\n",
    "    del X_b1, X_b2, X_b3, X_b4\n",
    "\n",
    "    return X_b\n",
    "\n",
    "class PoissonDataset:\n",
    "    def __init__(self, N_f, N_b, n_b_conditions, constant=None, is_test=False):\n",
    "        self.domain = lb + (ub-lb)*lhs(2, N_f)\n",
    "        \n",
    "        if not constant:\n",
    "            self.constant = np.random.rand()\n",
    "        else:\n",
    "            self.constant = constant\n",
    "            \n",
    "        self.F = torch.tensor(get_interior_data(self.domain, self.constant), requires_grad=True).float()\n",
    "        self.B = torch.tensor(get_boundary_data(self.constant, N_b=N_b, n_b_conditions=n_b_conditions), requires_grad=True).float()\n",
    "        \n",
    "        if not is_test:\n",
    "          self.f_support = self.F[::2].cuda()\n",
    "          self.f_query = self.F[1::2].cuda()\n",
    "          \n",
    "          self.b_support = self.B[::2].cuda()\n",
    "          self.b_query = self.B[1::2].cuda()\n",
    "        \n",
    "          del self.F, self.B\n",
    "\n",
    "        else:\n",
    "          self.F = self.F.cuda()\n",
    "          self.B = self.B.cuda()\n",
    "\n",
    "        del self.domain\n",
    "\n",
    "class PoissonTasks:\n",
    "    def __init__(self, n_tasks, N_f, N_b, n_b_conditions):\n",
    "        self.n_tasks = n_tasks\n",
    "        self.tasks = [PoissonDataset(N_f, N_b, n_b_conditions) for _ in range((self.n_tasks))]\n",
    "        \n",
    "    def __len__(self, ):\n",
    "        return len(self.tasks)\n",
    "\n",
    "class PoissonTorchTestDataset(Dataset):\n",
    "    def __init__(self, plain_dataset, is_test=True):\n",
    "        super(Dataset, self).__init__()\n",
    "        self.is_test = is_test\n",
    "        self.domain = plain_dataset\n",
    "        \n",
    "    def __getitem__(self, index):\n",
    "        if self.is_test:\n",
    "            domain = (torch.squeeze(self.domain.F, dim=0), torch.squeeze(self.domain.B, dim=0))\n",
    "            return domain, 0.0\n",
    "\n",
    "    def __len__(self):\n",
    "        return 1\n",
    "    \n",
    "class FakeLoss(nn.Module):\n",
    "    def __init__(self,):\n",
    "        super().__init__()\n",
    "        \n",
    "    def forward(self, inputs, labels):\n",
    "        # returning only MTL loss => inputs = MTL_loss, uncertainty for each task\n",
    "        return inputs[0]\n",
    "\n",
    "# This obj is for training.\n",
    "# tasks = PoissonTasks(n_tasks, N_f, N_b, n_b_conditions)"
   ]
  },
  {
   "cell_type": "code",
   "execution_count": null,
   "metadata": {
    "id": "NH6JisVoLFG2"
   },
   "outputs": [],
   "source": [
    "class MultiTaskLossWrapper(nn.Module):\n",
    "    def __init__(self, task_num, model):\n",
    "        super(MultiTaskLossWrapper, self).__init__()\n",
    "        self.model = model\n",
    "        self.task_num = task_num\n",
    "        self.log_vars = nn.Parameter(torch.zeros((task_num)))\n",
    "        \n",
    "    def forward(self, data):\n",
    "        if len(data[0].shape) == 2:\n",
    "          outputs = self.model(data[0], data[1])\n",
    "        elif len(data[0].shape) == 3: \n",
    "          outputs = self.model(torch.squeeze(data[0], dim=0), torch.squeeze(data[1], dim=0))\n",
    "        \n",
    "        loss = torch.sum(torch.exp(-self.log_vars[0])*outputs[0] + self.log_vars[0], -1)\n",
    "        loss += torch.sum(torch.exp(-self.log_vars[1])*outputs[1] + self.log_vars[1], -1)\n",
    "        loss = torch.mean(loss)\n",
    "        \n",
    "        return loss, self.log_vars.data.tolist()\n",
    "    \n",
    "class PhysicsInformedWrapper(nn.Module):\n",
    "    def __init__(self, solver):\n",
    "        super().__init__()\n",
    "        self.solver = solver\n",
    "        self._initialize_weights()\n",
    "\n",
    "    def _initialize_weights(self):\n",
    "        for m in self.modules():\n",
    "            if isinstance(m, nn.Linear):\n",
    "                nn.init.xavier_normal_(m.weight)\n",
    "                m.bias.data.fill_(0.0)\n",
    "\n",
    "    def diff(self, out, x):\n",
    "        return torch.autograd.grad(out, x, create_graph=True, retain_graph=True, grad_outputs=torch.ones(out.shape).cuda())[0]\n",
    "\n",
    "    def hess(self, out, x):\n",
    "        return self.diff(self.diff(out, x), x)\n",
    "    \n",
    "    def forward(self, f, b):\n",
    "        xf = f[:, 0:1]\n",
    "        yf = f[:, 1:2]\n",
    "        ffxy1 = f[:, 2:3]\n",
    "        bfxy1 = b[:, 2:3]\n",
    "        ffxy2 = f[:, 3:4]\n",
    "        bfxy2 = b[:, 3:4]\n",
    "\n",
    "        inp = torch.cat([xf, yf], dim=-1)\n",
    "        uf1, uf2 = self.solver(inp)\n",
    "        app_f1 = self.hess(uf1, xf)+self.hess(uf1, yf)\n",
    "        f_loss1 = F.mse_loss(app_f1, ffxy1, reduction='mean')\n",
    "        app_f2 = self.hess(uf2, xf)+self.hess(uf2, yf)\n",
    "        f_loss2 = F.mse_loss(app_f2, ffxy2, reduction='mean')\n",
    "\n",
    "        ub1, ub2 = self.solver(b[:, 0:2])\n",
    "        b_loss1 = F.mse_loss(ub1, bfxy1, reduction='mean')\n",
    "        b_loss2 = F.mse_loss(ub2, bfxy2, reduction='mean')\n",
    "    \n",
    "        return f_loss1+b_loss1, f_loss2+b_loss2"
   ]
  },
  {
   "cell_type": "code",
   "execution_count": null,
   "metadata": {
    "id": "M2G6Magm62Cv"
   },
   "outputs": [],
   "source": [
    "# training code\n",
    "# SAVED_PATH = 'mtl_sparse_metacurve_2048dims0.2sparse_poisson_gpu.pth'\n",
    "# SAVED_PATH = 'mtl_sparse_metacurve_2048dims0.2sparse_poisson_gpu_16000tasks_10epochs.pth'\n",
    "# SAVED_PATH = 'mtl_sparse_metacurve_2048dims0.2sparse_poisson_gpu_24000tasks.pth'\n",
    "SAVED_PATH = 'mtl_sparse_metacurve_2048dims0.2sparse_poisson_gpu_36000tasks.pth'\n",
    "LOAD_PATH = 'mtl_sparse_metacurve_2048dims0.2sparse_poisson_gpu_24000tasks.pth'"
   ]
  },
  {
   "cell_type": "code",
   "execution_count": null,
   "metadata": {
    "id": "WvbipbC5MY1W"
   },
   "outputs": [],
   "source": [
    "mtl_solver = MultiTaskLossWrapper(task_num=2, model=PhysicsInformedWrapper(solver=sparse_solver))\n",
    "\n",
    "# Meta & Adaptation learning rates\n",
    "adapt_lr=5e-3\n",
    "meta_lr=1e-3 # also try both 5e-3 learning rates\n",
    "\n",
    "## MetaCurve ##\n",
    "maml = l2l.algorithms.GBML(mtl_solver, transform=MetaCurvatureTransform, lr=adapt_lr, first_order=False, adapt_transform=False).cuda()\n",
    "## Pretraining with LOAD_PATH ##\n",
    "maml.load_state_dict(torch.load(PATH+LOAD_PATH))\n",
    "\n",
    "## MAML model ##\n",
    "# maml = l2l.algorithms.MAML(mtl_solver, lr=adapt_lr, first_order=False, allow_unused=True).cuda()\n",
    "\n",
    "opt = Lookahead(torch.optim.Adam(maml.parameters(), lr=meta_lr))\n",
    "scheduler = torch.optim.lr_scheduler.ReduceLROnPlateau(opt, 'min', patience=10, factor=0.95)"
   ]
  },
  {
   "cell_type": "code",
   "execution_count": null,
   "metadata": {
    "id": "frHUiCN1SsUD"
   },
   "outputs": [],
   "source": [
    "effective_batch_size = 10\n",
    "adapt_steps = 4\n",
    "epochs = 1; best_ep_loss = 1000\n",
    "\n",
    "# training code\n",
    "# update_batch_size = 10\n",
    "# n_generated_tasks = 1000\n",
    "# adapt_steps = 4\n",
    "# epochs = n_tasks//n_generated_tasks; best_ep_loss = 1000"
   ]
  },
  {
   "cell_type": "code",
   "execution_count": null,
   "metadata": {
    "id": "vniucBPCM_H0"
   },
   "outputs": [],
   "source": [
    "# for e in range(epochs):\n",
    "#   print('> Training ep:', str(e+1))\n",
    "#   ts = PoissonTasks(n_generated_tasks, N_f, N_b, n_b_conditions).tasks\n",
    "#   epoch_loss = 0.0\n",
    "\n",
    "#   for iter in range(0, n_generated_tasks, update_batch_size):\n",
    "#     batch = ts[iter:iter+update_batch_size]\n",
    "\n",
    "#     meta_train_loss = 0.0\n",
    "#     # for each task in the batch\n",
    "#     for i in range(update_batch_size):\n",
    "#       learner = maml.clone()\n",
    "\n",
    "#       # divide the data into support and query sets\n",
    "#       f_support = batch[i].f_support\n",
    "#       b_support = batch[i].b_support\n",
    "\n",
    "#       f_query = batch[i].f_query\n",
    "#       b_query = batch[i].b_query\n",
    "\n",
    "#       for _ in range(adapt_steps): # adaptation_steps\n",
    "#         support_loss = learner(f_support, b_support)[0]\n",
    "#         learner.adapt(support_loss)\n",
    "\n",
    "#       query_loss = learner(f_query, b_query)[0]\n",
    "#       meta_train_loss += query_loss\n",
    "\n",
    "#     meta_train_loss = meta_train_loss / update_batch_size\n",
    "#     if iter//update_batch_size % 10 == 0:\n",
    "#       print('Batch update:', iter//update_batch_size, 'Meta Train Loss', meta_train_loss.item())\n",
    "#     epoch_loss += meta_train_loss.item()\n",
    "\n",
    "#     opt.zero_grad()\n",
    "#     meta_train_loss.backward()\n",
    "#     opt.step()\n",
    "        \n",
    "#   if epoch_loss < best_ep_loss:\n",
    "#       best_ep_loss = epoch_loss\n",
    "#       torch.save(maml.state_dict(), PATH+SAVED_PATH)\n",
    "\n",
    "for e in range(epochs):\n",
    "    print('> Training ep:', str(e+1))\n",
    "    epoch_loss = 0.0\n",
    "    \n",
    "    for iter in range(0, tasks.n_tasks, effective_batch_size):\n",
    "        meta_train_loss = 0.0\n",
    "        batch = tasks.tasks[iter:iter+effective_batch_size]\n",
    "\n",
    "        # for each task in the batch\n",
    "        for i in range(effective_batch_size):\n",
    "            learner = maml.clone()\n",
    "\n",
    "            # divide the data into support and query sets\n",
    "            f_support = batch[i].f_support\n",
    "            b_support = batch[i].b_support\n",
    "\n",
    "            f_query = batch[i].f_query\n",
    "            b_query = batch[i].b_query\n",
    "\n",
    "            for _ in range(adapt_steps): # adaptation_steps\n",
    "                support_loss = learner(f_support, b_support)[0]\n",
    "                learner.adapt(support_loss)\n",
    "\n",
    "            query_loss = learner(f_query, b_query)[0]\n",
    "            meta_train_loss += query_loss\n",
    "\n",
    "        meta_train_loss = meta_train_loss / effective_batch_size\n",
    "        epoch_loss += meta_train_loss.item()\n",
    "        if iter % 100 == 0:\n",
    "            print('Iteration:', iter, 'Meta Train Loss', meta_train_loss.item()) \n",
    "\n",
    "        opt.zero_grad()\n",
    "        meta_train_loss.backward()\n",
    "        scheduler.step(meta_train_loss)\n",
    "        \n",
    "    if epoch_loss < best_ep_loss:\n",
    "        best_ep_loss = epoch_loss\n",
    "        torch.save(maml.state_dict(), PATH+SAVED_PATH)"
   ]
  },
  {
   "cell_type": "markdown",
   "metadata": {
    "id": "v33XnKDN7yCI"
   },
   "source": [
    "### Test section"
   ]
  },
  {
   "cell_type": "code",
   "execution_count": null,
   "metadata": {
    "id": "wQ0dSb8jqRgu"
   },
   "outputs": [],
   "source": []
  },
  {
   "cell_type": "code",
   "execution_count": null,
   "metadata": {
    "id": "JRUpgKRGGBFv"
   },
   "outputs": [],
   "source": [
    "# maml.load_state_dict(torch.load(SAVED_PATH))\n",
    "# torch.save(maml.state_dict(), PATH+SAVED_PATH)"
   ]
  },
  {
   "cell_type": "code",
   "execution_count": null,
   "metadata": {
    "colab": {
     "base_uri": "https://localhost:8080/"
    },
    "id": "pTJFZ0gHNPp8",
    "outputId": "2890e2a1-5fd2-4b06-b624-99c6bd23aceb"
   },
   "outputs": [
    {
     "data": {
      "text/plain": [
       "<All keys matched successfully>"
      ]
     },
     "execution_count": 13,
     "metadata": {
      "tags": []
     },
     "output_type": "execute_result"
    }
   ],
   "source": [
    "# torch.save(maml.state_dict(), PATH+SAVED_PATH)\n",
    "maml.load_state_dict(torch.load(PATH+SAVED_PATH))\n",
    "# maml.load_state_dict(torch.load(PATH+LOAD_PATH))"
   ]
  },
  {
   "cell_type": "code",
   "execution_count": null,
   "metadata": {
    "id": "0ZCs3bJFTFRp"
   },
   "outputs": [],
   "source": [
    "TEST_CONSTANT = 3 # 3 + np.random.rand()\n",
    "target_task = PoissonDataset(N_f=8000, N_b=200, n_b_conditions=4, constant=TEST_CONSTANT, is_test=True)\n",
    "F_data = target_task.F\n",
    "B_data = target_task.B\n",
    "\n",
    "mtl_maml_solver = maml.module\n",
    "mtl_mamal_solver_opt = AdamGC(mtl_maml_solver.parameters(), lr=6e-3, use_gc=True, gc_conv_only=False, gc_loc=False)\n",
    "# mtl_mamal_solver_opt = torch.optim.Adam(mtl_maml_solver.parameters(), lr=6e-3)\n",
    "\n",
    "# OK = obtaining 1e-5 order\n",
    "# torch.optim.Adam 6e-3 -> OK!\n",
    "# AdamGC -> OK!"
   ]
  },
  {
   "cell_type": "markdown",
   "metadata": {
    "id": "y7x38g8PfNUs"
   },
   "source": [
    "### Learning rate finder"
   ]
  },
  {
   "cell_type": "code",
   "execution_count": null,
   "metadata": {
    "colab": {
     "base_uri": "https://localhost:8080/",
     "height": 386,
     "referenced_widgets": [
      "9cc3ee49523b40b9b9ca2b8e6c9fb9a4",
      "0bf2037788de4816b3cccaf3c5b51873",
      "80ea4349671c41c094c450b1e3184803",
      "8e934a9b766f476d902e74f5db634045",
      "d74aeb0bf48b49faa33d220871b82d92",
      "0fa7aa522b6c4dad9697805895586c46",
      "34e5f92d19564f20a1260c805c801c16",
      "e47a9c97f6e2476e8c55220a04fcc57e"
     ]
    },
    "id": "lc7Uj9NvbfsF",
    "outputId": "db5840f1-2546-45fb-a706-b7864cb8b5b0"
   },
   "outputs": [
    {
     "data": {
      "application/vnd.jupyter.widget-view+json": {
       "model_id": "9cc3ee49523b40b9b9ca2b8e6c9fb9a4",
       "version_major": 2,
       "version_minor": 0
      },
      "text/plain": [
       "HBox(children=(FloatProgress(value=0.0, max=300.0), HTML(value='')))"
      ]
     },
     "metadata": {
      "tags": []
     },
     "output_type": "display_data"
    },
    {
     "name": "stdout",
     "output_type": "stream",
     "text": [
      "Stopping early, the loss has diverged\n",
      "Learning rate search finished. See the graph with {finder_name}.plot()\n",
      "LR suggestion: steepest gradient\n",
      "Suggested LR: 1.55E-04\n"
     ]
    },
    {
     "data": {
      "image/png": "[encoded data removed]",
      "text/plain": [
       "<Figure size 432x288 with 1 Axes>"
      ]
     },
     "metadata": {
      "needs_background": "light",
      "tags": []
     },
     "output_type": "display_data"
    }
   ],
   "source": [
    "dl = DataLoader(PoissonTorchTestDataset(plain_dataset=target_task), batch_size=1)\n",
    "\n",
    "lr_finder = LRFinder(mtl_maml_solver, AdamGC(mtl_maml_solver.parameters(), lr=1e-7, use_gc=True, gc_conv_only=False, gc_loc=False), criterion=FakeLoss(), device=\"cuda\")\n",
    "lr_finder.range_test(dl, end_lr=100, num_iter=300)\n",
    "_, suggested_lr = lr_finder.plot() # to inspect the loss-learning rate graph\n",
    "lr_finder.reset() # to reset the model and optimizer to their initial state"
   ]
  },
  {
   "cell_type": "markdown",
   "metadata": {
    "id": "zKxBu8sKb0dU"
   },
   "source": [
    "### Fine-tuning pretrained meta-model"
   ]
  },
  {
   "cell_type": "code",
   "execution_count": null,
   "metadata": {
    "id": "OdlRmpTuwT4O"
   },
   "outputs": [],
   "source": [
    "lr_scale = 10 # smooth descending curve\n",
    "mtl_mamal_solver_opt = AdamGC(mtl_maml_solver.parameters(), lr=lr_scale*suggested_lr, use_gc=True, gc_conv_only=False, gc_loc=False)"
   ]
  },
  {
   "cell_type": "code",
   "execution_count": null,
   "metadata": {
    "id": "q1R47pnwbY57"
   },
   "outputs": [],
   "source": [
    "# save the best chk and do MSE calculation to evaluate.\n",
    "tuning_eps = 1000; best_loss = 1000\n",
    "TMP_PATH = 'tmp.pth'\n",
    "loss_tracks = []\n",
    "all_loss_tracks = []"
   ]
  },
  {
   "cell_type": "code",
   "execution_count": null,
   "metadata": {
    "colab": {
     "base_uri": "https://localhost:8080/"
    },
    "id": "-jL7VHypTFNO",
    "outputId": "66e91887-68d8-484c-c266-cbe6c8343b3b"
   },
   "outputs": [
    {
     "name": "stdout",
     "output_type": "stream",
     "text": [
      "1 15.341192245483398\n",
      "10 -1.5437464714050293\n",
      "20 -2.942711353302002\n",
      "30 -2.9429731369018555\n",
      "40 -3.0802550315856934\n",
      "50 -3.1368813514709473\n",
      "60 -3.2204623222351074\n",
      "70 -3.2601776123046875\n",
      "80 -3.29028058052063\n",
      "90 -3.3203396797180176\n",
      "100 -3.354036808013916\n",
      "110 -3.399216413497925\n",
      "120 -3.468414783477783\n",
      "130 -3.5317163467407227\n",
      "140 -3.325523853302002\n",
      "150 -3.5882139205932617\n",
      "160 -3.6023950576782227\n",
      "170 -3.654759407043457\n",
      "180 -3.6853933334350586\n",
      "190 -3.716686725616455\n",
      "200 -3.7471742630004883\n",
      "210 -3.7764034271240234\n",
      "220 -3.7965598106384277\n",
      "230 -3.8078489303588867\n",
      "240 -3.8372602462768555\n",
      "250 -3.8856425285339355\n",
      "260 -3.9218993186950684\n",
      "270 -3.9541168212890625\n",
      "280 -3.985842227935791\n",
      "290 -4.016458511352539\n",
      "300 -3.553338050842285\n",
      "310 -4.008100509643555\n",
      "320 -4.064155578613281\n",
      "330 -4.114880084991455\n",
      "340 -4.158074855804443\n",
      "350 -4.194862365722656\n",
      "360 -4.227950096130371\n",
      "370 -4.259309768676758\n",
      "380 -4.207085609436035\n",
      "390 -4.254693031311035\n",
      "400 -4.326915264129639\n",
      "410 -4.369609832763672\n",
      "420 -4.407179832458496\n",
      "430 -4.440224647521973\n",
      "440 -4.466280937194824\n",
      "450 -4.472750663757324\n",
      "460 -4.493143081665039\n",
      "470 -4.52396297454834\n",
      "480 -4.582820892333984\n",
      "490 -4.610494613647461\n",
      "500 -4.646137714385986\n",
      "510 -4.680028915405273\n",
      "520 -4.5924506187438965\n",
      "530 -4.565791606903076\n",
      "540 -4.750918388366699\n",
      "550 -4.799243927001953\n",
      "560 -4.828168869018555\n",
      "570 -4.821489334106445\n",
      "580 -4.753891944885254\n",
      "590 -4.912700653076172\n",
      "600 -4.935721397399902\n",
      "610 -4.973643779754639\n",
      "620 -5.012731552124023\n",
      "630 -5.048517227172852\n",
      "640 -5.080445289611816\n",
      "650 -5.001238822937012\n",
      "660 -5.0481462478637695\n",
      "670 -5.149172782897949\n",
      "680 -5.204448699951172\n",
      "690 -5.234576225280762\n",
      "700 -4.612236976623535\n",
      "710 -5.160879135131836\n",
      "720 -5.296767234802246\n",
      "730 -5.345577239990234\n",
      "740 -5.389235496520996\n",
      "750 -5.428963661193848\n",
      "760 -5.464158535003662\n",
      "770 -5.493828773498535\n",
      "780 -5.505440711975098\n",
      "790 -5.541971683502197\n",
      "800 -5.558025360107422\n",
      "810 -5.624483108520508\n",
      "820 -5.594801902770996\n",
      "830 -5.673007011413574\n",
      "840 -5.687732219696045\n",
      "850 -5.7402215003967285\n",
      "860 -5.791672229766846\n",
      "870 -5.790773391723633\n",
      "880 -5.762806415557861\n",
      "890 -5.785495758056641\n",
      "900 -5.886005401611328\n",
      "910 -5.953248023986816\n",
      "920 -5.95293664932251\n",
      "930 -5.873025894165039\n",
      "940 -5.9714155197143555\n",
      "950 -6.071130275726318\n",
      "960 -6.119856357574463\n",
      "970 -6.07884407043457\n",
      "980 -6.154325485229492\n",
      "990 -6.14266300201416\n",
      "1000 -6.230238914489746\n"
     ]
    }
   ],
   "source": [
    "for e in range(tuning_eps):\n",
    "    mtl_mamal_solver_opt.zero_grad()\n",
    "    loss, _ = mtl_maml_solver((F_data, B_data))\n",
    "    loss.backward()\n",
    "    mtl_mamal_solver_opt.step()\n",
    "\n",
    "    if loss.item() < best_loss:\n",
    "      best_loss = loss.item()\n",
    "      torch.save(mtl_maml_solver.state_dict(), TMP_PATH)\n",
    "      \n",
    "    # tracking codes\n",
    "    all_loss_tracks.append(loss.item())\n",
    "    if (e+1)%10 == 0 or e==0:\n",
    "        loss_tracks.append(loss.item())\n",
    "        print(e+1, loss.item())"
   ]
  },
  {
   "cell_type": "code",
   "execution_count": null,
   "metadata": {
    "colab": {
     "base_uri": "https://localhost:8080/"
    },
    "id": "owt9z2yTQ-Be",
    "outputId": "847f82f1-7778-4836-abb3-d64be5f2afc5"
   },
   "outputs": [
    {
     "data": {
      "text/plain": [
       "<All keys matched successfully>"
      ]
     },
     "execution_count": 23,
     "metadata": {
      "tags": []
     },
     "output_type": "execute_result"
    }
   ],
   "source": [
    "mtl_maml_solver.load_state_dict(torch.load(TMP_PATH))"
   ]
  },
  {
   "cell_type": "markdown",
   "metadata": {
    "id": "Z44I2fRQcvqn"
   },
   "source": [
    "### Ground-truth"
   ]
  },
  {
   "cell_type": "code",
   "execution_count": null,
   "metadata": {
    "colab": {
     "base_uri": "https://localhost:8080/",
     "height": 269
    },
    "id": "G9uiGgbtQ-aF",
    "outputId": "e3e779ba-9504-4e5d-ff7a-3ff597f16256"
   },
   "outputs": [
    {
     "data": {
      "image/png": "[encoded data removed]",
      "text/plain": [
       "<Figure size 432x288 with 1 Axes>"
      ]
     },
     "metadata": {
      "needs_background": "light",
      "tags": []
     },
     "output_type": "display_data"
    }
   ],
   "source": [
    "def solution(x, y):\n",
    "    return TEST_CONSTANT*(np.sin(np.pi*x)*np.sin(np.pi*y))/(2*np.pi**2)\n",
    "solution = np.vectorize(solution)\n",
    "\n",
    "delta = 0.005\n",
    "x_test = np.arange(0, 1+delta, step=delta)\n",
    "t_test = np.arange(0, 1+delta, step=delta)\n",
    "xx, tt = np.meshgrid(x_test, t_test)\n",
    "z = solution(xx, tt)\n",
    "\n",
    "X_test = []\n",
    "count = 0\n",
    "for i in range(len(xx)):\n",
    "    for j in range(len(tt)):\n",
    "        X_test.append([xx[i][j], tt[i][j]])\n",
    "X_test = np.array(X_test)\n",
    "X_test = torch.tensor(X_test, requires_grad=False).float().cuda()\n",
    "\n",
    "plt.contourf(x_test, t_test, z)\n",
    "plt.show()"
   ]
  },
  {
   "cell_type": "code",
   "execution_count": null,
   "metadata": {
    "id": "9SFhi4LDa3kX"
   },
   "outputs": [],
   "source": [
    "actual_pde_solver_network = mtl_maml_solver.model.solver\n",
    "actual_pde_solver_network.eval()\n",
    "z_pred = actual_pde_solver_network(X_test)[0].reshape(len(xx), len(tt)).cpu().detach().numpy()"
   ]
  },
  {
   "cell_type": "code",
   "execution_count": null,
   "metadata": {
    "colab": {
     "base_uri": "https://localhost:8080/",
     "height": 320
    },
    "id": "v7ranaIIQ-fF",
    "outputId": "fe119a17-513e-48cd-9667-f4439eddc4b9"
   },
   "outputs": [
    {
     "name": "stdout",
     "output_type": "stream",
     "text": [
      "MAE: 0.005633920635921375\n",
      "MSE: 6.291517850186218e-05\n",
      "Relative l2-norm error: 0.08578036814649767\n"
     ]
    },
    {
     "data": {
      "image/png": "[encoded data removed]",
      "text/plain": [
       "<Figure size 432x288 with 1 Axes>"
      ]
     },
     "metadata": {
      "needs_background": "light",
      "tags": []
     },
     "output_type": "display_data"
    }
   ],
   "source": [
    "plt.contourf(x_test, t_test, z_pred)\n",
    "\n",
    "print('MAE:', mean_absolute_error(z_pred, z))\n",
    "print('MSE:', mean_squared_error(z_pred, z))\n",
    "print('Relative l2-norm error:', np.linalg.norm(z-z_pred,2)/np.linalg.norm(z,2))"
   ]
  },
  {
   "cell_type": "code",
   "execution_count": null,
   "metadata": {
    "id": "wOz01TsXQ-mQ"
   },
   "outputs": [],
   "source": [
    "# History of constant = 3\n",
    "# MAE: 0.006954800332785136\n",
    "# MSE: 8.539573334244011e-05\n",
    "# Relative l2-norm error: 0.11639637550340397\n",
    "\n",
    "# Ranger 6e-3\n",
    "# MAE: 0.009040752131407976\n",
    "# MSE: 0.0001223033956755117\n",
    "# Relative l2-norm error: 0.14228509133475856\n",
    "\n",
    "# 10 * learning_rate_finder\n",
    "# MAE: 0.005633920635921375\n",
    "# MSE: 6.291517850186218e-05\n",
    "# Relative l2-norm error: 0.08578036814649767"
   ]
  },
  {
   "cell_type": "code",
   "execution_count": null,
   "metadata": {
    "id": "_RnhoAJmAvhM"
   },
   "outputs": [],
   "source": [
    "torch.save(mtl_maml_solver.state_dict(), PATH+'best_finetuned_'+'mtl_sparse_metacurve_2048dims0.2sparse_poisson_gpu_36000tasks.pth')"
   ]
  },
  {
   "cell_type": "markdown",
   "metadata": {
    "id": "8L1XkxXsTuQ7"
   },
   "source": [
    "### Comparing the models"
   ]
  },
  {
   "cell_type": "code",
   "execution_count": null,
   "metadata": {
    "id": "r8QABEtZTFLG"
   },
   "outputs": [],
   "source": [
    "mtl_solver = MultiTaskLossWrapper(task_num=2, model=PhysicsInformedWrapper(solver=MLTSparseModel(INPUT_SIZE, SPARSE_HIDDEN_SIZE, HIDDEN_SIZE, OUTPUT_SIZE).cuda())).cuda()\n",
    "mtl_solver_opt = torch.optim.Adam(mtl_solver.parameters(), lr=6e-3)"
   ]
  },
  {
   "cell_type": "code",
   "execution_count": null,
   "metadata": {
    "id": "H6P-6YFPTFJA"
   },
   "outputs": [],
   "source": [
    "TMP2_PATH = 'tmp2.pth'\n",
    "best_loss = 1000\n",
    "loss_tracks2 = []\n",
    "all_loss_tracks2 = []\n",
    "for e in range(tuning_eps):\n",
    "    mtl_solver_opt.zero_grad()\n",
    "    loss, _ = mtl_solver((F_data, B_data))\n",
    "    loss.backward()\n",
    "    mtl_solver_opt.step()\n",
    "    if loss.item() < best_loss:\n",
    "      best_loss = loss.item()\n",
    "      torch.save(mtl_solver.state_dict(), TMP2_PATH)\n",
    "    all_loss_tracks2.append(loss.item())\n",
    "    if (e+1)%100 == 0 or e==0:\n",
    "        loss_tracks2.append(loss.item())"
   ]
  },
  {
   "cell_type": "code",
   "execution_count": null,
   "metadata": {
    "colab": {
     "base_uri": "https://localhost:8080/",
     "height": 320
    },
    "id": "6W5DIBecjaos",
    "outputId": "2e262619-b438-462e-bf9d-8b6df5b7c28a"
   },
   "outputs": [
    {
     "name": "stdout",
     "output_type": "stream",
     "text": [
      "MAE: 0.00737215566709726\n",
      "MSE: 7.409782905397705e-05\n",
      "Relative l2-norm error: 0.08420689877688742\n"
     ]
    },
    {
     "data": {
      "image/png": "[encoded data removed]",
      "text/plain": [
       "<Figure size 432x288 with 1 Axes>"
      ]
     },
     "metadata": {
      "needs_background": "light",
      "tags": []
     },
     "output_type": "display_data"
    }
   ],
   "source": [
    "mtl_solver.load_state_dict(torch.load('tmp2.pth'))\n",
    "mtl_solver.eval()\n",
    "z_pred = mtl_solver.model.solver(X_test)[0].reshape(len(xx), len(tt)).cpu().detach().numpy()\n",
    "\n",
    "plt.contourf(x_test, t_test, z_pred)\n",
    "\n",
    "print('MAE:', mean_absolute_error(z_pred, z))\n",
    "print('MSE:', mean_squared_error(z_pred, z))\n",
    "print('Relative l2-norm error:', np.linalg.norm(z-z_pred,2)/np.linalg.norm(z,2))"
   ]
  },
  {
   "cell_type": "code",
   "execution_count": null,
   "metadata": {
    "colab": {
     "base_uri": "https://localhost:8080/",
     "height": 627
    },
    "id": "qUIfSIyyTFG4",
    "outputId": "8df7e779-f8fd-4f0e-a7df-44f6dc00db2f"
   },
   "outputs": [
    {
     "ename": "ValueError",
     "evalue": "ignored",
     "output_type": "error",
     "traceback": [
      "\u001b[0;31m---------------------------------------------------------------------------\u001b[0m",
      "\u001b[0;31mValueError\u001b[0m                                Traceback (most recent call last)",
      "\u001b[0;32m<ipython-input-32-705e18e90b31>\u001b[0m in \u001b[0;36m<module>\u001b[0;34m()\u001b[0m\n\u001b[0;32m----> 1\u001b[0;31m \u001b[0mplt\u001b[0m\u001b[0;34m.\u001b[0m\u001b[0mplot\u001b[0m\u001b[0;34m(\u001b[0m\u001b[0;34m[\u001b[0m\u001b[0mi\u001b[0m \u001b[0;32mfor\u001b[0m \u001b[0mi\u001b[0m \u001b[0;32min\u001b[0m \u001b[0mrange\u001b[0m\u001b[0;34m(\u001b[0m\u001b[0;36m0\u001b[0m\u001b[0;34m,\u001b[0m \u001b[0;36m1001\u001b[0m\u001b[0;34m,\u001b[0m \u001b[0;36m100\u001b[0m\u001b[0;34m)\u001b[0m\u001b[0;34m]\u001b[0m\u001b[0;34m,\u001b[0m \u001b[0mloss_tracks\u001b[0m\u001b[0;34m,\u001b[0m \u001b[0mmarker\u001b[0m\u001b[0;34m=\u001b[0m\u001b[0;34m'v'\u001b[0m\u001b[0;34m,\u001b[0m \u001b[0mlabel\u001b[0m\u001b[0;34m=\u001b[0m\u001b[0;34m'Meta multi-task sparse solver'\u001b[0m\u001b[0;34m)\u001b[0m\u001b[0;34m\u001b[0m\u001b[0;34m\u001b[0m\u001b[0m\n\u001b[0m\u001b[1;32m      2\u001b[0m \u001b[0mplt\u001b[0m\u001b[0;34m.\u001b[0m\u001b[0mplot\u001b[0m\u001b[0;34m(\u001b[0m\u001b[0;34m[\u001b[0m\u001b[0mi\u001b[0m \u001b[0;32mfor\u001b[0m \u001b[0mi\u001b[0m \u001b[0;32min\u001b[0m \u001b[0mrange\u001b[0m\u001b[0;34m(\u001b[0m\u001b[0;36m0\u001b[0m\u001b[0;34m,\u001b[0m \u001b[0;36m1001\u001b[0m\u001b[0;34m,\u001b[0m \u001b[0;36m100\u001b[0m\u001b[0;34m)\u001b[0m\u001b[0;34m]\u001b[0m\u001b[0;34m,\u001b[0m \u001b[0mloss_tracks2\u001b[0m\u001b[0;34m,\u001b[0m \u001b[0mmarker\u001b[0m\u001b[0;34m=\u001b[0m\u001b[0;34m'.'\u001b[0m\u001b[0;34m,\u001b[0m \u001b[0mlabel\u001b[0m\u001b[0;34m=\u001b[0m\u001b[0;34m'Multi-task sparse solver'\u001b[0m\u001b[0;34m)\u001b[0m\u001b[0;34m\u001b[0m\u001b[0;34m\u001b[0m\u001b[0m\n\u001b[1;32m      3\u001b[0m \u001b[0mplt\u001b[0m\u001b[0;34m.\u001b[0m\u001b[0mxlabel\u001b[0m\u001b[0;34m(\u001b[0m\u001b[0;34m'Epochs'\u001b[0m\u001b[0;34m)\u001b[0m\u001b[0;34m\u001b[0m\u001b[0;34m\u001b[0m\u001b[0m\n\u001b[1;32m      4\u001b[0m \u001b[0mplt\u001b[0m\u001b[0;34m.\u001b[0m\u001b[0mylabel\u001b[0m\u001b[0;34m(\u001b[0m\u001b[0;34m'Fine-tuning loss'\u001b[0m\u001b[0;34m)\u001b[0m\u001b[0;34m\u001b[0m\u001b[0;34m\u001b[0m\u001b[0m\n\u001b[1;32m      5\u001b[0m \u001b[0mplt\u001b[0m\u001b[0;34m.\u001b[0m\u001b[0mlegend\u001b[0m\u001b[0;34m(\u001b[0m\u001b[0;34m)\u001b[0m\u001b[0;34m\u001b[0m\u001b[0;34m\u001b[0m\u001b[0m\n",
      "\u001b[0;32m/usr/local/lib/python3.7/dist-packages/matplotlib/pyplot.py\u001b[0m in \u001b[0;36mplot\u001b[0;34m(scalex, scaley, data, *args, **kwargs)\u001b[0m\n\u001b[1;32m   2761\u001b[0m     return gca().plot(\n\u001b[1;32m   2762\u001b[0m         *args, scalex=scalex, scaley=scaley, **({\"data\": data} if data\n\u001b[0;32m-> 2763\u001b[0;31m         is not None else {}), **kwargs)\n\u001b[0m\u001b[1;32m   2764\u001b[0m \u001b[0;34m\u001b[0m\u001b[0m\n\u001b[1;32m   2765\u001b[0m \u001b[0;34m\u001b[0m\u001b[0m\n",
      "\u001b[0;32m/usr/local/lib/python3.7/dist-packages/matplotlib/axes/_axes.py\u001b[0m in \u001b[0;36mplot\u001b[0;34m(self, scalex, scaley, data, *args, **kwargs)\u001b[0m\n\u001b[1;32m   1645\u001b[0m         \"\"\"\n\u001b[1;32m   1646\u001b[0m         \u001b[0mkwargs\u001b[0m \u001b[0;34m=\u001b[0m \u001b[0mcbook\u001b[0m\u001b[0;34m.\u001b[0m\u001b[0mnormalize_kwargs\u001b[0m\u001b[0;34m(\u001b[0m\u001b[0mkwargs\u001b[0m\u001b[0;34m,\u001b[0m \u001b[0mmlines\u001b[0m\u001b[0;34m.\u001b[0m\u001b[0mLine2D\u001b[0m\u001b[0;34m)\u001b[0m\u001b[0;34m\u001b[0m\u001b[0;34m\u001b[0m\u001b[0m\n\u001b[0;32m-> 1647\u001b[0;31m         \u001b[0mlines\u001b[0m \u001b[0;34m=\u001b[0m \u001b[0;34m[\u001b[0m\u001b[0;34m*\u001b[0m\u001b[0mself\u001b[0m\u001b[0;34m.\u001b[0m\u001b[0m_get_lines\u001b[0m\u001b[0;34m(\u001b[0m\u001b[0;34m*\u001b[0m\u001b[0margs\u001b[0m\u001b[0;34m,\u001b[0m \u001b[0mdata\u001b[0m\u001b[0;34m=\u001b[0m\u001b[0mdata\u001b[0m\u001b[0;34m,\u001b[0m \u001b[0;34m**\u001b[0m\u001b[0mkwargs\u001b[0m\u001b[0;34m)\u001b[0m\u001b[0;34m]\u001b[0m\u001b[0;34m\u001b[0m\u001b[0;34m\u001b[0m\u001b[0m\n\u001b[0m\u001b[1;32m   1648\u001b[0m         \u001b[0;32mfor\u001b[0m \u001b[0mline\u001b[0m \u001b[0;32min\u001b[0m \u001b[0mlines\u001b[0m\u001b[0;34m:\u001b[0m\u001b[0;34m\u001b[0m\u001b[0;34m\u001b[0m\u001b[0m\n\u001b[1;32m   1649\u001b[0m             \u001b[0mself\u001b[0m\u001b[0;34m.\u001b[0m\u001b[0madd_line\u001b[0m\u001b[0;34m(\u001b[0m\u001b[0mline\u001b[0m\u001b[0;34m)\u001b[0m\u001b[0;34m\u001b[0m\u001b[0;34m\u001b[0m\u001b[0m\n",
      "\u001b[0;32m/usr/local/lib/python3.7/dist-packages/matplotlib/axes/_base.py\u001b[0m in \u001b[0;36m__call__\u001b[0;34m(self, *args, **kwargs)\u001b[0m\n\u001b[1;32m    214\u001b[0m                 \u001b[0mthis\u001b[0m \u001b[0;34m+=\u001b[0m \u001b[0margs\u001b[0m\u001b[0;34m[\u001b[0m\u001b[0;36m0\u001b[0m\u001b[0;34m]\u001b[0m\u001b[0;34m,\u001b[0m\u001b[0;34m\u001b[0m\u001b[0;34m\u001b[0m\u001b[0m\n\u001b[1;32m    215\u001b[0m                 \u001b[0margs\u001b[0m \u001b[0;34m=\u001b[0m \u001b[0margs\u001b[0m\u001b[0;34m[\u001b[0m\u001b[0;36m1\u001b[0m\u001b[0;34m:\u001b[0m\u001b[0;34m]\u001b[0m\u001b[0;34m\u001b[0m\u001b[0;34m\u001b[0m\u001b[0m\n\u001b[0;32m--> 216\u001b[0;31m             \u001b[0;32myield\u001b[0m \u001b[0;32mfrom\u001b[0m \u001b[0mself\u001b[0m\u001b[0;34m.\u001b[0m\u001b[0m_plot_args\u001b[0m\u001b[0;34m(\u001b[0m\u001b[0mthis\u001b[0m\u001b[0;34m,\u001b[0m \u001b[0mkwargs\u001b[0m\u001b[0;34m)\u001b[0m\u001b[0;34m\u001b[0m\u001b[0;34m\u001b[0m\u001b[0m\n\u001b[0m\u001b[1;32m    217\u001b[0m \u001b[0;34m\u001b[0m\u001b[0m\n\u001b[1;32m    218\u001b[0m     \u001b[0;32mdef\u001b[0m \u001b[0mget_next_color\u001b[0m\u001b[0;34m(\u001b[0m\u001b[0mself\u001b[0m\u001b[0;34m)\u001b[0m\u001b[0;34m:\u001b[0m\u001b[0;34m\u001b[0m\u001b[0;34m\u001b[0m\u001b[0m\n",
      "\u001b[0;32m/usr/local/lib/python3.7/dist-packages/matplotlib/axes/_base.py\u001b[0m in \u001b[0;36m_plot_args\u001b[0;34m(self, tup, kwargs)\u001b[0m\n\u001b[1;32m    340\u001b[0m \u001b[0;34m\u001b[0m\u001b[0m\n\u001b[1;32m    341\u001b[0m         \u001b[0;32mif\u001b[0m \u001b[0mx\u001b[0m\u001b[0;34m.\u001b[0m\u001b[0mshape\u001b[0m\u001b[0;34m[\u001b[0m\u001b[0;36m0\u001b[0m\u001b[0;34m]\u001b[0m \u001b[0;34m!=\u001b[0m \u001b[0my\u001b[0m\u001b[0;34m.\u001b[0m\u001b[0mshape\u001b[0m\u001b[0;34m[\u001b[0m\u001b[0;36m0\u001b[0m\u001b[0;34m]\u001b[0m\u001b[0;34m:\u001b[0m\u001b[0;34m\u001b[0m\u001b[0;34m\u001b[0m\u001b[0m\n\u001b[0;32m--> 342\u001b[0;31m             raise ValueError(f\"x and y must have same first dimension, but \"\n\u001b[0m\u001b[1;32m    343\u001b[0m                              f\"have shapes {x.shape} and {y.shape}\")\n\u001b[1;32m    344\u001b[0m         \u001b[0;32mif\u001b[0m \u001b[0mx\u001b[0m\u001b[0;34m.\u001b[0m\u001b[0mndim\u001b[0m \u001b[0;34m>\u001b[0m \u001b[0;36m2\u001b[0m \u001b[0;32mor\u001b[0m \u001b[0my\u001b[0m\u001b[0;34m.\u001b[0m\u001b[0mndim\u001b[0m \u001b[0;34m>\u001b[0m \u001b[0;36m2\u001b[0m\u001b[0;34m:\u001b[0m\u001b[0;34m\u001b[0m\u001b[0;34m\u001b[0m\u001b[0m\n",
      "\u001b[0;31mValueError\u001b[0m: x and y must have same first dimension, but have shapes (11,) and (101,)"
     ]
    },
    {
     "data": {
      "image/png": "[encoded data removed]",
      "text/plain": [
       "<Figure size 432x288 with 1 Axes>"
      ]
     },
     "metadata": {
      "needs_background": "light",
      "tags": []
     },
     "output_type": "display_data"
    }
   ],
   "source": [
    "plt.plot([i for i in range(0, 1001, 100)], loss_tracks, marker='v', label='Meta multi-task sparse solver')\n",
    "plt.plot([i for i in range(0, 1001, 100)], loss_tracks2, marker='.', label='Multi-task sparse solver')\n",
    "plt.xlabel('Epochs')\n",
    "plt.ylabel('Fine-tuning loss')\n",
    "plt.legend()\n",
    "# plt.savefig(PATH+'meta_multi-task_sparse_network_solver4.png', dpi=300)\n",
    "plt.show()\n",
    "# With, MAML, the model converges \"faster and smoothier\"!."
   ]
  },
  {
   "cell_type": "code",
   "execution_count": null,
   "metadata": {
    "colab": {
     "base_uri": "https://localhost:8080/"
    },
    "id": "UBpW3VAxTFEh",
    "outputId": "e2b344ea-17d0-41b4-a63e-dcb5e7682b6b"
   },
   "outputs": [
    {
     "data": {
      "text/plain": [
       "(-6.233449459075928, -7.950362682342529)"
      ]
     },
     "execution_count": 33,
     "metadata": {
      "tags": []
     },
     "output_type": "execute_result"
    }
   ],
   "source": [
    "min(all_loss_tracks), min(all_loss_tracks2)"
   ]
  },
  {
   "cell_type": "code",
   "execution_count": null,
   "metadata": {
    "colab": {
     "base_uri": "https://localhost:8080/"
    },
    "id": "KSAzvi-rTFCP",
    "outputId": "4f9da2d8-757e-496c-b6e9-a9674ee2c1f1"
   },
   "outputs": [
    {
     "data": {
      "text/plain": [
       "([15.341192245483398,\n",
       "  -1.5437464714050293,\n",
       "  -2.942711353302002,\n",
       "  -2.9429731369018555,\n",
       "  -3.0802550315856934,\n",
       "  -3.1368813514709473,\n",
       "  -3.2204623222351074,\n",
       "  -3.2601776123046875,\n",
       "  -3.29028058052063,\n",
       "  -3.3203396797180176,\n",
       "  -3.354036808013916,\n",
       "  -3.399216413497925,\n",
       "  -3.468414783477783,\n",
       "  -3.5317163467407227,\n",
       "  -3.325523853302002,\n",
       "  -3.5882139205932617,\n",
       "  -3.6023950576782227,\n",
       "  -3.654759407043457,\n",
       "  -3.6853933334350586,\n",
       "  -3.716686725616455,\n",
       "  -3.7471742630004883,\n",
       "  -3.7764034271240234,\n",
       "  -3.7965598106384277,\n",
       "  -3.8078489303588867,\n",
       "  -3.8372602462768555,\n",
       "  -3.8856425285339355,\n",
       "  -3.9218993186950684,\n",
       "  -3.9541168212890625,\n",
       "  -3.985842227935791,\n",
       "  -4.016458511352539,\n",
       "  -3.553338050842285,\n",
       "  -4.008100509643555,\n",
       "  -4.064155578613281,\n",
       "  -4.114880084991455,\n",
       "  -4.158074855804443,\n",
       "  -4.194862365722656,\n",
       "  -4.227950096130371,\n",
       "  -4.259309768676758,\n",
       "  -4.207085609436035,\n",
       "  -4.254693031311035,\n",
       "  -4.326915264129639,\n",
       "  -4.369609832763672,\n",
       "  -4.407179832458496,\n",
       "  -4.440224647521973,\n",
       "  -4.466280937194824,\n",
       "  -4.472750663757324,\n",
       "  -4.493143081665039,\n",
       "  -4.52396297454834,\n",
       "  -4.582820892333984,\n",
       "  -4.610494613647461,\n",
       "  -4.646137714385986,\n",
       "  -4.680028915405273,\n",
       "  -4.5924506187438965,\n",
       "  -4.565791606903076,\n",
       "  -4.750918388366699,\n",
       "  -4.799243927001953,\n",
       "  -4.828168869018555,\n",
       "  -4.821489334106445,\n",
       "  -4.753891944885254,\n",
       "  -4.912700653076172,\n",
       "  -4.935721397399902,\n",
       "  -4.973643779754639,\n",
       "  -5.012731552124023,\n",
       "  -5.048517227172852,\n",
       "  -5.080445289611816,\n",
       "  -5.001238822937012,\n",
       "  -5.0481462478637695,\n",
       "  -5.149172782897949,\n",
       "  -5.204448699951172,\n",
       "  -5.234576225280762,\n",
       "  -4.612236976623535,\n",
       "  -5.160879135131836,\n",
       "  -5.296767234802246,\n",
       "  -5.345577239990234,\n",
       "  -5.389235496520996,\n",
       "  -5.428963661193848,\n",
       "  -5.464158535003662,\n",
       "  -5.493828773498535,\n",
       "  -5.505440711975098,\n",
       "  -5.541971683502197,\n",
       "  -5.558025360107422,\n",
       "  -5.624483108520508,\n",
       "  -5.594801902770996,\n",
       "  -5.673007011413574,\n",
       "  -5.687732219696045,\n",
       "  -5.7402215003967285,\n",
       "  -5.791672229766846,\n",
       "  -5.790773391723633,\n",
       "  -5.762806415557861,\n",
       "  -5.785495758056641,\n",
       "  -5.886005401611328,\n",
       "  -5.953248023986816,\n",
       "  -5.95293664932251,\n",
       "  -5.873025894165039,\n",
       "  -5.9714155197143555,\n",
       "  -6.071130275726318,\n",
       "  -6.119856357574463,\n",
       "  -6.07884407043457,\n",
       "  -6.154325485229492,\n",
       "  -6.14266300201416,\n",
       "  -6.230238914489746],\n",
       " [4.98391580581665,\n",
       "  -0.399435818195343,\n",
       "  -1.396367073059082,\n",
       "  -2.2397189140319824,\n",
       "  -3.213587760925293,\n",
       "  -3.892157793045044,\n",
       "  -4.774209022521973,\n",
       "  -5.6512274742126465,\n",
       "  -6.749957084655762,\n",
       "  -7.950362682342529,\n",
       "  190.60195922851562])"
      ]
     },
     "execution_count": 34,
     "metadata": {
      "tags": []
     },
     "output_type": "execute_result"
    }
   ],
   "source": [
    "loss_tracks, loss_tracks2"
   ]
  },
  {
   "cell_type": "code",
   "execution_count": null,
   "metadata": {
    "id": "DnKOCSRxBy_j"
   },
   "outputs": [],
   "source": []
  },
  {
   "cell_type": "code",
   "execution_count": null,
   "metadata": {
    "id": "JCEhRZGABy9E"
   },
   "outputs": [],
   "source": []
  },
  {
   "cell_type": "code",
   "execution_count": null,
   "metadata": {
    "id": "pyxkLm1WBy6n"
   },
   "outputs": [],
   "source": []
  },
  {
   "cell_type": "code",
   "execution_count": null,
   "metadata": {
    "id": "l1dFYqhXBy4W"
   },
   "outputs": [],
   "source": []
  },
  {
   "cell_type": "code",
   "execution_count": null,
   "metadata": {
    "id": "8nv1c2jsBy1j"
   },
   "outputs": [],
   "source": []
  },
  {
   "cell_type": "code",
   "execution_count": null,
   "metadata": {
    "id": "VfvwaMxNR-i0"
   },
   "outputs": [],
   "source": []
  }
 ],
 "metadata": {
  "accelerator": "GPU",
  "colab": {
   "collapsed_sections": [],
   "name": "Research2(Multi-task meta-learning with sparse architecture sharing).ipynb",
   "provenance": []
  },
  "kernelspec": {
   "display_name": "Python 3",
   "language": "python",
   "name": "python3"
  },
  "language_info": {
   "codemirror_mode": {
    "name": "ipython",
    "version": 3
   },
   "file_extension": ".py",
   "mimetype": "text/x-python",
   "name": "python",
   "nbconvert_exporter": "python",
   "pygments_lexer": "ipython3",
   "version": "3.8.5"
  },
  "widgets": {
   "application/vnd.jupyter.widget-state+json": {
    "0bf2037788de4816b3cccaf3c5b51873": {
     "model_module": "@jupyter-widgets/base",
     "model_name": "LayoutModel",
     "state": {
      "_model_module": "@jupyter-widgets/base",
      "_model_module_version": "1.2.0",
      "_model_name": "LayoutModel",
      "_view_count": null,
      "_view_module": "@jupyter-widgets/base",
      "_view_module_version": "1.2.0",
      "_view_name": "LayoutView",
      "align_content": null,
      "align_items": null,
      "align_self": null,
      "border": null,
      "bottom": null,
      "display": null,
      "flex": null,
      "flex_flow": null,
      "grid_area": null,
      "grid_auto_columns": null,
      "grid_auto_flow": null,
      "grid_auto_rows": null,
      "grid_column": null,
      "grid_gap": null,
      "grid_row": null,
      "grid_template_areas": null,
      "grid_template_columns": null,
      "grid_template_rows": null,
      "height": null,
      "justify_content": null,
      "justify_items": null,
      "left": null,
      "margin": null,
      "max_height": null,
      "max_width": null,
      "min_height": null,
      "min_width": null,
      "object_fit": null,
      "object_position": null,
      "order": null,
      "overflow": null,
      "overflow_x": null,
      "overflow_y": null,
      "padding": null,
      "right": null,
      "top": null,
      "visibility": null,
      "width": null
     }
    },
    "0fa7aa522b6c4dad9697805895586c46": {
     "model_module": "@jupyter-widgets/base",
     "model_name": "LayoutModel",
     "state": {
      "_model_module": "@jupyter-widgets/base",
      "_model_module_version": "1.2.0",
      "_model_name": "LayoutModel",
      "_view_count": null,
      "_view_module": "@jupyter-widgets/base",
      "_view_module_version": "1.2.0",
      "_view_name": "LayoutView",
      "align_content": null,
      "align_items": null,
      "align_self": null,
      "border": null,
      "bottom": null,
      "display": null,
      "flex": null,
      "flex_flow": null,
      "grid_area": null,
      "grid_auto_columns": null,
      "grid_auto_flow": null,
      "grid_auto_rows": null,
      "grid_column": null,
      "grid_gap": null,
      "grid_row": null,
      "grid_template_areas": null,
      "grid_template_columns": null,
      "grid_template_rows": null,
      "height": null,
      "justify_content": null,
      "justify_items": null,
      "left": null,
      "margin": null,
      "max_height": null,
      "max_width": null,
      "min_height": null,
      "min_width": null,
      "object_fit": null,
      "object_position": null,
      "order": null,
      "overflow": null,
      "overflow_x": null,
      "overflow_y": null,
      "padding": null,
      "right": null,
      "top": null,
      "visibility": null,
      "width": null
     }
    },
    "34e5f92d19564f20a1260c805c801c16": {
     "model_module": "@jupyter-widgets/controls",
     "model_name": "DescriptionStyleModel",
     "state": {
      "_model_module": "@jupyter-widgets/controls",
      "_model_module_version": "1.5.0",
      "_model_name": "DescriptionStyleModel",
      "_view_count": null,
      "_view_module": "@jupyter-widgets/base",
      "_view_module_version": "1.2.0",
      "_view_name": "StyleView",
      "description_width": ""
     }
    },
    "80ea4349671c41c094c450b1e3184803": {
     "model_module": "@jupyter-widgets/controls",
     "model_name": "FloatProgressModel",
     "state": {
      "_dom_classes": [],
      "_model_module": "@jupyter-widgets/controls",
      "_model_module_version": "1.5.0",
      "_model_name": "FloatProgressModel",
      "_view_count": null,
      "_view_module": "@jupyter-widgets/controls",
      "_view_module_version": "1.5.0",
      "_view_name": "ProgressView",
      "bar_style": "danger",
      "description": " 44%",
      "description_tooltip": null,
      "layout": "IPY_MODEL_0fa7aa522b6c4dad9697805895586c46",
      "max": 300,
      "min": 0,
      "orientation": "horizontal",
      "style": "IPY_MODEL_d74aeb0bf48b49faa33d220871b82d92",
      "value": 133
     }
    },
    "8e934a9b766f476d902e74f5db634045": {
     "model_module": "@jupyter-widgets/controls",
     "model_name": "HTMLModel",
     "state": {
      "_dom_classes": [],
      "_model_module": "@jupyter-widgets/controls",
      "_model_module_version": "1.5.0",
      "_model_name": "HTMLModel",
      "_view_count": null,
      "_view_module": "@jupyter-widgets/controls",
      "_view_module_version": "1.5.0",
      "_view_name": "HTMLView",
      "description": "",
      "description_tooltip": null,
      "layout": "IPY_MODEL_e47a9c97f6e2476e8c55220a04fcc57e",
      "placeholder": "​",
      "style": "IPY_MODEL_34e5f92d19564f20a1260c805c801c16",
      "value": " 133/300 [03:11&lt;03:56,  1.41s/it]"
     }
    },
    "9cc3ee49523b40b9b9ca2b8e6c9fb9a4": {
     "model_module": "@jupyter-widgets/controls",
     "model_name": "HBoxModel",
     "state": {
      "_dom_classes": [],
      "_model_module": "@jupyter-widgets/controls",
      "_model_module_version": "1.5.0",
      "_model_name": "HBoxModel",
      "_view_count": null,
      "_view_module": "@jupyter-widgets/controls",
      "_view_module_version": "1.5.0",
      "_view_name": "HBoxView",
      "box_style": "",
      "children": [
       "IPY_MODEL_80ea4349671c41c094c450b1e3184803",
       "IPY_MODEL_8e934a9b766f476d902e74f5db634045"
      ],
      "layout": "IPY_MODEL_0bf2037788de4816b3cccaf3c5b51873"
     }
    },
    "d74aeb0bf48b49faa33d220871b82d92": {
     "model_module": "@jupyter-widgets/controls",
     "model_name": "ProgressStyleModel",
     "state": {
      "_model_module": "@jupyter-widgets/controls",
      "_model_module_version": "1.5.0",
      "_model_name": "ProgressStyleModel",
      "_view_count": null,
      "_view_module": "@jupyter-widgets/base",
      "_view_module_version": "1.2.0",
      "_view_name": "StyleView",
      "bar_color": null,
      "description_width": "initial"
     }
    },
    "e47a9c97f6e2476e8c55220a04fcc57e": {
     "model_module": "@jupyter-widgets/base",
     "model_name": "LayoutModel",
     "state": {
      "_model_module": "@jupyter-widgets/base",
      "_model_module_version": "1.2.0",
      "_model_name": "LayoutModel",
      "_view_count": null,
      "_view_module": "@jupyter-widgets/base",
      "_view_module_version": "1.2.0",
      "_view_name": "LayoutView",
      "align_content": null,
      "align_items": null,
      "align_self": null,
      "border": null,
      "bottom": null,
      "display": null,
      "flex": null,
      "flex_flow": null,
      "grid_area": null,
      "grid_auto_columns": null,
      "grid_auto_flow": null,
      "grid_auto_rows": null,
      "grid_column": null,
      "grid_gap": null,
      "grid_row": null,
      "grid_template_areas": null,
      "grid_template_columns": null,
      "grid_template_rows": null,
      "height": null,
      "justify_content": null,
      "justify_items": null,
      "left": null,
      "margin": null,
      "max_height": null,
      "max_width": null,
      "min_height": null,
      "min_width": null,
      "object_fit": null,
      "object_position": null,
      "order": null,
      "overflow": null,
      "overflow_x": null,
      "overflow_y": null,
      "padding": null,
      "right": null,
      "top": null,
      "visibility": null,
      "width": null
     }
    }
   }
  }
 },
 "nbformat": 4,
 "nbformat_minor": 1
}
