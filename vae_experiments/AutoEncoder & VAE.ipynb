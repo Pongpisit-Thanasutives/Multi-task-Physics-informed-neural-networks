{
 "cells": [
  {
   "cell_type": "code",
   "execution_count": 1,
   "metadata": {},
   "outputs": [
    {
     "name": "stdout",
     "output_type": "stream",
     "text": [
      "You can use npar for np.array\n"
     ]
    }
   ],
   "source": [
    "import sys; sys.path.insert(0, \"../\"); from utils import *\n",
    "from models import VAE, vae_loss, AutoEncoder, ae_loss\n",
    "from tqdm import trange\n",
    "\n",
    "%matplotlib inline\n",
    "import matplotlib.pyplot as plt"
   ]
  },
  {
   "cell_type": "code",
   "execution_count": 2,
   "metadata": {},
   "outputs": [],
   "source": [
    "X = torch.rand(100, 2)"
   ]
  },
  {
   "cell_type": "code",
   "execution_count": 3,
   "metadata": {},
   "outputs": [],
   "source": [
    "ae = AutoEncoder()"
   ]
  },
  {
   "cell_type": "code",
   "execution_count": 4,
   "metadata": {},
   "outputs": [],
   "source": [
    "opt = torch.optim.Adam(ae.parameters(), lr=1e-3)"
   ]
  },
  {
   "cell_type": "code",
   "execution_count": 5,
   "metadata": {},
   "outputs": [
    {
     "name": "stderr",
     "output_type": "stream",
     "text": [
      "100%|██████████| 10000/10000 [00:03<00:00, 2550.79it/s]\n"
     ]
    },
    {
     "data": {
      "text/plain": [
       "[<matplotlib.lines.Line2D at 0x14cb87520>]"
      ]
     },
     "execution_count": 5,
     "metadata": {},
     "output_type": "execute_result"
    },
    {
     "data": {
      "image/png": "[encoded data removed]",
      "text/plain": [
       "<Figure size 432x288 with 1 Axes>"
      ]
     },
     "metadata": {
      "needs_background": "light"
     },
     "output_type": "display_data"
    }
   ],
   "source": [
    "hist = []\n",
    "for i in trange(10000):\n",
    "    opt.zero_grad()\n",
    "    recon_X = ae(X)\n",
    "    loss = ae_loss(recon_X, X, include_l1=0.1)\n",
    "    loss.backward()\n",
    "    opt.step()\n",
    "    if i%100==0: hist.append(loss.item())\n",
    "plt.plot(hist)"
   ]
  },
  {
   "cell_type": "code",
   "execution_count": 6,
   "metadata": {},
   "outputs": [],
   "source": [
    "ae.eval()\n",
    "recon_X = ae(X)"
   ]
  },
  {
   "cell_type": "code",
   "execution_count": 7,
   "metadata": {},
   "outputs": [
    {
     "data": {
      "text/plain": [
       "tensor(6.7855e-06, grad_fn=<MseLossBackward>)"
      ]
     },
     "execution_count": 7,
     "metadata": {},
     "output_type": "execute_result"
    }
   ],
   "source": [
    "# vae_loss(recon_X, X, mu, log_var)\n",
    "F.mse_loss(recon_X, X)"
   ]
  },
  {
   "cell_type": "code",
   "execution_count": 8,
   "metadata": {},
   "outputs": [
    {
     "data": {
      "text/plain": [
       "tensor([[0.0969, 0.8181],\n",
       "        [0.2032, 0.0961],\n",
       "        [0.0975, 0.5487],\n",
       "        [0.5860, 0.1601],\n",
       "        [0.0199, 0.1323],\n",
       "        [0.8814, 0.0635],\n",
       "        [0.2881, 0.6330],\n",
       "        [0.7030, 0.6796],\n",
       "        [0.7991, 0.1272],\n",
       "        [0.2703, 0.8301],\n",
       "        [0.2081, 0.8857],\n",
       "        [0.2625, 0.3337],\n",
       "        [0.1852, 0.5980],\n",
       "        [0.5238, 0.1160],\n",
       "        [0.3979, 0.7427],\n",
       "        [0.9341, 0.2369],\n",
       "        [0.2455, 0.2878],\n",
       "        [0.9901, 0.3389],\n",
       "        [0.5616, 0.0200],\n",
       "        [0.0339, 0.9449],\n",
       "        [0.9659, 0.5180],\n",
       "        [0.3574, 0.2320],\n",
       "        [0.4277, 0.7144],\n",
       "        [0.3243, 0.5074],\n",
       "        [0.9119, 0.7334],\n",
       "        [0.3759, 0.5739],\n",
       "        [0.5075, 0.8819],\n",
       "        [0.2557, 0.7060],\n",
       "        [0.0739, 0.5517],\n",
       "        [0.0903, 0.3743],\n",
       "        [0.5352, 0.1744],\n",
       "        [0.7624, 0.5811],\n",
       "        [0.5688, 0.9726],\n",
       "        [0.4936, 0.2557],\n",
       "        [0.9282, 0.4837],\n",
       "        [0.1133, 0.3390],\n",
       "        [0.0111, 0.7402],\n",
       "        [0.6527, 0.7006],\n",
       "        [0.3382, 0.8495],\n",
       "        [0.1718, 0.8574],\n",
       "        [0.8071, 0.3594],\n",
       "        [0.5359, 0.3858],\n",
       "        [0.8601, 0.6414],\n",
       "        [0.7835, 0.1703],\n",
       "        [0.7576, 0.4813],\n",
       "        [0.5552, 0.0331],\n",
       "        [0.2112, 0.2106],\n",
       "        [0.0505, 0.7301],\n",
       "        [0.7411, 0.8949],\n",
       "        [0.4002, 0.1662],\n",
       "        [0.2028, 0.9520],\n",
       "        [0.1963, 0.1192],\n",
       "        [0.6676, 0.1106],\n",
       "        [0.2280, 0.2649],\n",
       "        [0.8111, 0.4278],\n",
       "        [0.5939, 0.6599],\n",
       "        [0.4155, 0.7725],\n",
       "        [0.2532, 0.4973],\n",
       "        [0.7553, 0.8647],\n",
       "        [0.1062, 0.1254],\n",
       "        [0.4948, 0.3955],\n",
       "        [0.6613, 0.8394],\n",
       "        [0.1628, 0.7710],\n",
       "        [0.2328, 0.2519],\n",
       "        [0.6840, 0.6626],\n",
       "        [0.0293, 0.0912],\n",
       "        [0.8477, 0.7125],\n",
       "        [0.1492, 0.1957],\n",
       "        [0.6251, 0.4282],\n",
       "        [0.5599, 0.1328],\n",
       "        [0.1729, 0.0975],\n",
       "        [0.4242, 0.2894],\n",
       "        [0.6836, 0.7072],\n",
       "        [0.4906, 0.0121],\n",
       "        [0.5388, 0.4146],\n",
       "        [0.2806, 0.3031],\n",
       "        [0.2349, 0.8645],\n",
       "        [0.3162, 0.2439],\n",
       "        [0.6530, 0.7821],\n",
       "        [0.8533, 0.7166],\n",
       "        [0.2542, 0.3430],\n",
       "        [0.3624, 0.7257],\n",
       "        [0.4008, 0.0023],\n",
       "        [0.1012, 0.0267],\n",
       "        [0.1095, 0.2172],\n",
       "        [0.6390, 0.8123],\n",
       "        [0.4881, 0.3894],\n",
       "        [0.0671, 0.4029],\n",
       "        [0.4485, 0.4535],\n",
       "        [0.4121, 0.3661],\n",
       "        [0.2643, 0.8176],\n",
       "        [0.4501, 0.5196],\n",
       "        [0.3407, 0.4917],\n",
       "        [0.0656, 0.1470],\n",
       "        [0.6355, 0.9556],\n",
       "        [0.8409, 0.4001],\n",
       "        [0.1258, 0.7911],\n",
       "        [0.0458, 0.0458],\n",
       "        [0.6295, 0.3216],\n",
       "        [0.1639, 0.0402]])"
      ]
     },
     "execution_count": 8,
     "metadata": {},
     "output_type": "execute_result"
    }
   ],
   "source": [
    "X"
   ]
  },
  {
   "cell_type": "code",
   "execution_count": 9,
   "metadata": {},
   "outputs": [
    {
     "data": {
      "text/plain": [
       "tensor([[0.0939, 0.8163],\n",
       "        [0.2011, 0.0949],\n",
       "        [0.0948, 0.5469],\n",
       "        [0.5832, 0.1578],\n",
       "        [0.0181, 0.1306],\n",
       "        [0.8778, 0.0622],\n",
       "        [0.2851, 0.6309],\n",
       "        [0.6995, 0.6772],\n",
       "        [0.7961, 0.1247],\n",
       "        [0.2671, 0.8281],\n",
       "        [0.2049, 0.8837],\n",
       "        [0.2598, 0.3317],\n",
       "        [0.1824, 0.5961],\n",
       "        [0.5211, 0.1138],\n",
       "        [0.3947, 0.7405],\n",
       "        [0.9308, 0.2342],\n",
       "        [0.2429, 0.2859],\n",
       "        [0.9865, 0.3373],\n",
       "        [0.5590, 0.0177],\n",
       "        [0.0321, 0.9435],\n",
       "        [0.9622, 0.5152],\n",
       "        [0.3548, 0.2300],\n",
       "        [0.4244, 0.7122],\n",
       "        [0.3214, 0.5053],\n",
       "        [0.9080, 0.7307],\n",
       "        [0.3729, 0.5718],\n",
       "        [0.5040, 0.8796],\n",
       "        [0.2526, 0.7041],\n",
       "        [0.0713, 0.5500],\n",
       "        [0.0878, 0.3725],\n",
       "        [0.5325, 0.1721],\n",
       "        [0.7589, 0.5785],\n",
       "        [0.5641, 0.9691],\n",
       "        [0.4908, 0.2535],\n",
       "        [0.9246, 0.4810],\n",
       "        [0.1108, 0.3372],\n",
       "        [0.0083, 0.7385],\n",
       "        [0.6492, 0.6981],\n",
       "        [0.3349, 0.8474],\n",
       "        [0.1687, 0.8555],\n",
       "        [0.8038, 0.3569],\n",
       "        [0.5329, 0.3836],\n",
       "        [0.8565, 0.6387],\n",
       "        [0.7805, 0.1677],\n",
       "        [0.7543, 0.4788],\n",
       "        [0.5525, 0.0308],\n",
       "        [0.2087, 0.2087],\n",
       "        [0.0477, 0.7284],\n",
       "        [0.7373, 0.8924],\n",
       "        [0.3976, 0.1641],\n",
       "        [0.1996, 0.9500],\n",
       "        [0.1943, 0.1179],\n",
       "        [0.6647, 0.1082],\n",
       "        [0.2255, 0.2630],\n",
       "        [0.8077, 0.4252],\n",
       "        [0.5905, 0.6575],\n",
       "        [0.4122, 0.7703],\n",
       "        [0.2504, 0.4953],\n",
       "        [0.7515, 0.8621],\n",
       "        [0.1044, 0.1238],\n",
       "        [0.4918, 0.3933],\n",
       "        [0.6577, 0.8370],\n",
       "        [0.1598, 0.7691],\n",
       "        [0.2303, 0.2499],\n",
       "        [0.6805, 0.6601],\n",
       "        [0.0274, 0.0898],\n",
       "        [0.8439, 0.7099],\n",
       "        [0.1477, 0.1936],\n",
       "        [0.6219, 0.4259],\n",
       "        [0.5572, 0.1305],\n",
       "        [0.1710, 0.0960],\n",
       "        [0.4214, 0.2873],\n",
       "        [0.6800, 0.7047],\n",
       "        [0.4881, 0.0099],\n",
       "        [0.5358, 0.4123],\n",
       "        [0.2780, 0.3011],\n",
       "        [0.2317, 0.8625],\n",
       "        [0.3136, 0.2419],\n",
       "        [0.6494, 0.7797],\n",
       "        [0.8496, 0.7140],\n",
       "        [0.2516, 0.3411],\n",
       "        [0.3593, 0.7236],\n",
       "        [0.3983, 0.0016],\n",
       "        [0.0991, 0.0255],\n",
       "        [0.1080, 0.2151],\n",
       "        [0.6354, 0.8098],\n",
       "        [0.4852, 0.3872],\n",
       "        [0.0646, 0.4012],\n",
       "        [0.4455, 0.4513],\n",
       "        [0.4092, 0.3639],\n",
       "        [0.2612, 0.8156],\n",
       "        [0.4471, 0.5174],\n",
       "        [0.3378, 0.4897],\n",
       "        [0.0638, 0.1453],\n",
       "        [0.6314, 0.9527],\n",
       "        [0.8375, 0.3975],\n",
       "        [0.1228, 0.7893],\n",
       "        [0.0437, 0.0445],\n",
       "        [0.6265, 0.3192],\n",
       "        [0.1618, 0.0389]], grad_fn=<AddmmBackward>)"
      ]
     },
     "execution_count": 9,
     "metadata": {},
     "output_type": "execute_result"
    }
   ],
   "source": [
    "recon_X"
   ]
  },
  {
   "cell_type": "code",
   "execution_count": null,
   "metadata": {},
   "outputs": [],
   "source": []
  },
  {
   "cell_type": "code",
   "execution_count": null,
   "metadata": {},
   "outputs": [],
   "source": []
  }
 ],
 "metadata": {
  "kernelspec": {
   "display_name": "Python 3",
   "language": "python",
   "name": "python3"
  },
  "language_info": {
   "codemirror_mode": {
    "name": "ipython",
    "version": 3
   },
   "file_extension": ".py",
   "mimetype": "text/x-python",
   "name": "python",
   "nbconvert_exporter": "python",
   "pygments_lexer": "ipython3",
   "version": "3.9.6"
  }
 },
 "nbformat": 4,
 "nbformat_minor": 4
}
