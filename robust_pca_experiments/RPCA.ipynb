{
 "cells": [
  {
   "cell_type": "code",
   "execution_count": 1,
   "metadata": {},
   "outputs": [
    {
     "name": "stdout",
     "output_type": "stream",
     "text": [
      "Running Python 3.9.6\n",
      "You can use npar for np.array\n"
     ]
    }
   ],
   "source": [
    "import sys; sys.path.insert(0, \"../\")\n",
    "import numpy as np\n",
    "from models import *\n",
    "from pytorch_robust_pca import *\n",
    "from utils import *"
   ]
  },
  {
   "cell_type": "code",
   "execution_count": 2,
   "metadata": {},
   "outputs": [],
   "source": [
    "import numpy as np\n",
    "\n",
    "# generate low rank synthetic data\n",
    "N = 100\n",
    "num_groups = 3\n",
    "num_values_per_group = 40\n",
    "p_missing = 0.2\n",
    "\n",
    "Ds = []\n",
    "for k in range(num_groups):\n",
    "    d = np.ones((N, num_values_per_group)) * (k + 1) * 10\n",
    "    Ds.append(d)\n",
    "\n",
    "D = np.hstack(Ds)\n",
    "\n",
    "# decimate 20% of data\n",
    "n1, n2 = D.shape\n",
    "S = np.random.rand(n1, n2)\n",
    "D[S < 0.2] = 0\n",
    "\n",
    "D = torch.FloatTensor(D).requires_grad_(False)"
   ]
  },
  {
   "cell_type": "code",
   "execution_count": 3,
   "metadata": {},
   "outputs": [
    {
     "name": "stdout",
     "output_type": "stream",
     "text": [
      "The settings are ...\n",
      "Lambda: tensor(0.0913)\n",
      "Inverse mu: tensor(0.9100)\n"
     ]
    }
   ],
   "source": [
    "model = RobustPCANeuralNet(input_tensor=D)"
   ]
  },
  {
   "cell_type": "code",
   "execution_count": 4,
   "metadata": {},
   "outputs": [
    {
     "name": "stdout",
     "output_type": "stream",
     "text": [
      "0.09817618131637573\n",
      "0.036400508135557175\n",
      "0.014272257685661316\n",
      "0.013292652554810047\n",
      "0.012357961386442184\n"
     ]
    }
   ],
   "source": [
    "max_iter = 10000\n",
    "opt = torch.optim.Adam(model.parameters(), lr=1e-2)\n",
    "for i in range(max_iter):\n",
    "    opt.zero_grad()\n",
    "    L = model(D)\n",
    "    l = model.loss(D, L)\n",
    "    l.backward()\n",
    "    if model.is_terminated(): opt.zero_grad(); break\n",
    "    opt.step()\n",
    "    if i%1000==0: print(l.item())"
   ]
  },
  {
   "cell_type": "code",
   "execution_count": 5,
   "metadata": {},
   "outputs": [
    {
     "data": {
      "text/plain": [
       "tensor(0., grad_fn=<MeanBackward0>)"
      ]
     },
     "execution_count": 5,
     "metadata": {},
     "output_type": "execute_result"
    }
   ],
   "source": [
    "((D-(L+model.S))**2).mean()"
   ]
  },
  {
   "cell_type": "code",
   "execution_count": 6,
   "metadata": {},
   "outputs": [
    {
     "data": {
      "text/plain": [
       "Parameter containing:\n",
       "tensor([[  4.7937,   4.7484,   4.8073,  ...,  15.1697,  14.8914,  15.1446],\n",
       "        [ -4.5126,  -4.5513,   5.4949,  ...,  17.1391,  16.8941,  17.1142],\n",
       "        [  5.3334,   5.2933,   5.3438,  ...,  16.7049,  16.4526,  16.6775],\n",
       "        ...,\n",
       "        [ -5.0594,   4.8938,  -5.0482,  ...,  15.5851,  15.3118, -14.4428],\n",
       "        [  5.4552,   5.4156,   5.4651,  ..., -12.9520,  16.8043,  17.0239],\n",
       "        [  5.1794,  -4.8622,   5.1906,  ...,  16.2693,  16.0088, -13.7603]],\n",
       "       requires_grad=True)"
      ]
     },
     "execution_count": 6,
     "metadata": {},
     "output_type": "execute_result"
    }
   ],
   "source": [
    "model.S"
   ]
  },
  {
   "cell_type": "code",
   "execution_count": 7,
   "metadata": {},
   "outputs": [
    {
     "name": "stdout",
     "output_type": "stream",
     "text": [
      "37\n",
      "120\n"
     ]
    }
   ],
   "source": [
    "print(torch.linalg.matrix_rank(L).item())\n",
    "print(max(L.shape))"
   ]
  },
  {
   "cell_type": "code",
   "execution_count": 8,
   "metadata": {},
   "outputs": [
    {
     "data": {
      "text/plain": [
       "0.30833333333333335"
      ]
     },
     "execution_count": 8,
     "metadata": {},
     "output_type": "execute_result"
    }
   ],
   "source": [
    "torch.linalg.matrix_rank(L).item()/max(L.shape)"
   ]
  },
  {
   "cell_type": "code",
   "execution_count": 9,
   "metadata": {},
   "outputs": [
    {
     "name": "stdout",
     "output_type": "stream",
     "text": [
      "MSE Loss: 2.925412342924538e-11\n"
     ]
    }
   ],
   "source": [
    "rpca = R_pca(D)\n",
    "L, S = rpca(max_iter=10000, iter_print=100)\n",
    "print('MSE Loss:', F.mse_loss(D, L+S).item())"
   ]
  },
  {
   "cell_type": "code",
   "execution_count": 10,
   "metadata": {},
   "outputs": [
    {
     "data": {
      "text/plain": [
       "1"
      ]
     },
     "execution_count": 10,
     "metadata": {},
     "output_type": "execute_result"
    }
   ],
   "source": [
    "np.linalg.matrix_rank(L)"
   ]
  }
 ],
 "metadata": {
  "kernelspec": {
   "display_name": "Python 3",
   "language": "python",
   "name": "python3"
  },
  "language_info": {
   "codemirror_mode": {
    "name": "ipython",
    "version": 3
   },
   "file_extension": ".py",
   "mimetype": "text/x-python",
   "name": "python",
   "nbconvert_exporter": "python",
   "pygments_lexer": "ipython3",
   "version": "3.9.6"
  }
 },
 "nbformat": 4,
 "nbformat_minor": 4
}
