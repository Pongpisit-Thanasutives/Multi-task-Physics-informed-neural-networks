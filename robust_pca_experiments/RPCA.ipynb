{
 "cells": [
  {
   "cell_type": "code",
   "execution_count": 1,
   "metadata": {},
   "outputs": [],
   "source": [
    "from models import *\n",
    "from pytorch_robust_pca import *\n",
    "from utils import *"
   ]
  },
  {
   "cell_type": "code",
   "execution_count": 2,
   "metadata": {},
   "outputs": [],
   "source": [
    "import numpy as np\n",
    "\n",
    "# generate low rank synthetic data\n",
    "N = 100\n",
    "num_groups = 3\n",
    "num_values_per_group = 40\n",
    "p_missing = 0.2\n",
    "\n",
    "Ds = []\n",
    "for k in range(num_groups):\n",
    "    d = np.ones((N, num_values_per_group)) * (k + 1) * 10\n",
    "    Ds.append(d)\n",
    "\n",
    "D = np.hstack(Ds)\n",
    "\n",
    "# decimate 20% of data\n",
    "n1, n2 = D.shape\n",
    "S = np.random.rand(n1, n2)\n",
    "D[S < 0.2] = 0\n",
    "\n",
    "D = torch.FloatTensor(D).requires_grad_(False)"
   ]
  },
  {
   "cell_type": "code",
   "execution_count": 3,
   "metadata": {},
   "outputs": [
    {
     "name": "stdout",
     "output_type": "stream",
     "text": [
      "The settings are ...\n",
      "Lambda: tensor(0.0913)\n",
      "Inverse mu: tensor(0.9100)\n"
     ]
    }
   ],
   "source": [
    "model = RobustPCANeuralNet(input_tensor=D)"
   ]
  },
  {
   "cell_type": "code",
   "execution_count": 4,
   "metadata": {},
   "outputs": [
    {
     "name": "stdout",
     "output_type": "stream",
     "text": [
      "9664.828125\n",
      "3587.5087890625\n",
      "1433.458984375\n",
      "1336.272705078125\n",
      "1241.936767578125\n",
      "tensor([[0., 0., 0.,  ..., 0., 0., 0.],\n",
      "        [0., 0., 0.,  ..., 0., 0., 0.],\n",
      "        [0., 0., 0.,  ..., 0., 0., 0.],\n",
      "        ...,\n",
      "        [0., 0., 0.,  ..., 0., 0., 0.],\n",
      "        [0., 0., 0.,  ..., 0., 0., 0.],\n",
      "        [0., 0., 0.,  ..., 0., 0., 0.]])\n"
     ]
    }
   ],
   "source": [
    "opt = torch.optim.Adam(model.parameters(), lr=1e-2)\n",
    "for i in range(10000):\n",
    "    opt.zero_grad()\n",
    "    L = model(D)\n",
    "    l = model.loss(D, L)\n",
    "    l.backward()\n",
    "    if torch.sum(torch.isnan(model.S.grad)) > 0: opt.zero_grad(); break\n",
    "    opt.step()\n",
    "    if i%1000==0: print(l.item())\n",
    "        \n",
    "print(model.S.grad)"
   ]
  },
  {
   "cell_type": "code",
   "execution_count": 5,
   "metadata": {},
   "outputs": [
    {
     "data": {
      "text/plain": [
       "tensor(0., grad_fn=<MeanBackward0>)"
      ]
     },
     "execution_count": 5,
     "metadata": {},
     "output_type": "execute_result"
    }
   ],
   "source": [
    "((D-(L+model.S))**2).mean()"
   ]
  },
  {
   "cell_type": "code",
   "execution_count": 6,
   "metadata": {},
   "outputs": [
    {
     "data": {
      "text/plain": [
       "tensor([[0., 0., 0.,  ..., 0., 0., 0.],\n",
       "        [0., 0., 0.,  ..., 0., 0., 0.],\n",
       "        [0., 0., 0.,  ..., 0., 0., 0.],\n",
       "        ...,\n",
       "        [0., 0., 0.,  ..., 0., 0., 0.],\n",
       "        [0., 0., 0.,  ..., 0., 0., 0.],\n",
       "        [0., 0., 0.,  ..., 0., 0., 0.]], grad_fn=<SubBackward0>)"
      ]
     },
     "execution_count": 6,
     "metadata": {},
     "output_type": "execute_result"
    }
   ],
   "source": [
    "D-(L+model.S)"
   ]
  },
  {
   "cell_type": "code",
   "execution_count": 7,
   "metadata": {},
   "outputs": [
    {
     "name": "stdout",
     "output_type": "stream",
     "text": [
      "34\n",
      "120\n"
     ]
    }
   ],
   "source": [
    "print(torch.linalg.matrix_rank(L).item())\n",
    "print(max(L.shape))"
   ]
  },
  {
   "cell_type": "code",
   "execution_count": 8,
   "metadata": {},
   "outputs": [
    {
     "data": {
      "text/plain": [
       "28.333333333333332"
      ]
     },
     "execution_count": 8,
     "metadata": {},
     "output_type": "execute_result"
    }
   ],
   "source": [
    "100*(34/120)"
   ]
  },
  {
   "cell_type": "code",
   "execution_count": null,
   "metadata": {},
   "outputs": [],
   "source": []
  }
 ],
 "metadata": {
  "kernelspec": {
   "display_name": "Python 3",
   "language": "python",
   "name": "python3"
  },
  "language_info": {
   "codemirror_mode": {
    "name": "ipython",
    "version": 3
   },
   "file_extension": ".py",
   "mimetype": "text/x-python",
   "name": "python",
   "nbconvert_exporter": "python",
   "pygments_lexer": "ipython3",
   "version": "3.9.5"
  }
 },
 "nbformat": 4,
 "nbformat_minor": 4
}
