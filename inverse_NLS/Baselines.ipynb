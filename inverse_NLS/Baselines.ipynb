{
 "cells": [
  {
   "cell_type": "code",
   "execution_count": 1,
   "metadata": {},
   "outputs": [
    {
     "name": "stdout",
     "output_type": "stream",
     "text": [
      "Populating the interactive namespace from numpy and matplotlib\n"
     ]
    }
   ],
   "source": [
    "import sys; sys.path.insert(0, '../')\n",
    "import os\n",
    "from scipy import io\n",
    "from pde_diff import *\n",
    "from robust_pde_diff import print_pde, RobustPCA, Robust_LRSTR\n",
    "\n",
    "%pylab inline\n",
    "pylab.rcParams['figure.figsize'] = (12, 8)\n",
    "import numpy as np\n",
    "from mpl_toolkits.mplot3d import Axes3D"
   ]
  },
  {
   "cell_type": "code",
   "execution_count": 2,
   "metadata": {},
   "outputs": [],
   "source": [
    "DATA_PATH = '../experimental_data/NLS.mat'\n",
    "data = io.loadmat(DATA_PATH)\n",
    "\n",
    "t = data['tt'].flatten()[:,None]; dt = t[1]-t[0]; nt = len(t)\n",
    "x = data['x'].flatten()[:,None]; dx = x[1]-x[0]; nx = len(x)\n",
    "\n",
    "u = data['uu'].T\n",
    "X, T = np.meshgrid(x,t)\n",
    "\n",
    "dt = t[1]-t[0]\n",
    "dx = x[2]-x[1]\n",
    "n = len(x)\n",
    "m = len(t)"
   ]
  },
  {
   "cell_type": "code",
   "execution_count": 3,
   "metadata": {},
   "outputs": [],
   "source": [
    "# fig = figure()\n",
    "# ax = fig.gca(projection='3d')\n",
    "# surf = ax.plot_surface(X, T, abs(u), rstride=1, cstride=1, cmap=cm.coolwarm,\n",
    "#     linewidth=0, antialiased=False)\n",
    "# title(r'Nonlinear Schrodinger Equation: $|u(x,t)|$', fontsize = 20)\n",
    "# xlabel('x', fontsize = 16)\n",
    "# ylabel('t', fontsize = 16)"
   ]
  },
  {
   "cell_type": "code",
   "execution_count": 4,
   "metadata": {},
   "outputs": [],
   "source": [
    "numpy.random.seed(0)\n",
    "un = u + 0.01/np.sqrt(2)*std(real(u))*np.random.randn(u.shape[0],u.shape[1]) + 0.01/np.sqrt(2)*1j*std(imag(u))*np.random.randn(u.shape[0],u.shape[1])"
   ]
  },
  {
   "cell_type": "code",
   "execution_count": 5,
   "metadata": {},
   "outputs": [
    {
     "name": "stdout",
     "output_type": "stream",
     "text": [
      "Please ensure that the shape of U is correct.\n",
      "iteration:1, err:2289.6707600660666, nc_norm:545.1358975199537 eta1:0.006777382133811959\n",
      "iteration:50, err:0.02005730182989053, nc_norm:608.5434528539637 eta1:0.7232751536179983\n",
      "iteration:91, err:7.903915329710704e-06, nc_norm:308.99351298077977 eta1:36.008384526079695\n"
     ]
    }
   ],
   "source": [
    "un, E1 = RobustPCA(un, lam_2 = 0.3)"
   ]
  },
  {
   "cell_type": "code",
   "execution_count": 6,
   "metadata": {},
   "outputs": [],
   "source": [
    "width_x = 10\n",
    "width_t = 10\n",
    "deg = 4\n",
    "\n",
    "m,n=u.shape\n",
    "\n",
    "m2 = m-2*width_t\n",
    "n2 = n-2*width_x\n",
    "\n",
    "utn = np.zeros((m2,n2), dtype=np.complex64)\n",
    "uxn = np.zeros((m2,n2), dtype=np.complex64)\n",
    "uxxn = np.zeros((m2,n2), dtype=np.complex64)\n",
    "uxxxn = np.zeros((m2,n2), dtype=np.complex64)\n",
    "\n",
    "for i in range(n2):\n",
    "    utn[:,i] = PolyDiff(real(un[:,i+width_x]), dt*np.arange(m), deg = deg, width = width_t)[:,0]\n",
    "    utn[:,i] = utn[:,i]+1j*PolyDiff(imag(un[:,i+width_x]), dt*np.arange(m), deg = deg, width = width_t)[:,0]\n",
    "\n",
    "for i in range(m2):\n",
    "    x_derivatives = PolyDiff(real(un[i+width_t,:]), dx*np.arange(n), deg = deg, diff = 3, width = width_x)\n",
    "    x_derivatives = x_derivatives+1j*PolyDiff(imag(un[i+width_t,:]), dx*np.arange(n), deg = deg, diff = 3, width = width_x)\n",
    "    uxn[i,:] = x_derivatives[:,0]\n",
    "    uxxn[i,:] = x_derivatives[:,1]\n",
    "    uxxxn[i,:] = x_derivatives[:,2]\n",
    "\n",
    "utn = np.reshape(utn, (n2*m2,1), order='F')\n",
    "uxn = np.reshape(uxn, (n2*m2,1), order='F')\n",
    "uxxn = np.reshape(uxxn, (n2*m2,1), order='F')\n",
    "uxxxn = np.reshape(uxxxn, (n2*m2,1), order='F')\n",
    "Xn_ders = np.hstack([np.ones((n2*m2,1)),uxn,uxxn,uxxxn])\n",
    "Xn_data = np.hstack([np.reshape(un[width_t:m-width_t,width_x:n-width_x], (n2*m2,1), order='F'),\n",
    "                     np.reshape(abs(un[width_t:m-width_t,width_x:n-width_x]), (n2*m2,1), order='F')])\n",
    "derivatives_description = ['','u_{x}','u_{xx}', 'u_{xxx}']\n",
    "\n",
    "Xn, rhs_des = build_Theta(Xn_data, Xn_ders, derivatives_description, 3, data_description = ['u','|u|'])"
   ]
  },
  {
   "cell_type": "code",
   "execution_count": 7,
   "metadata": {},
   "outputs": [],
   "source": [
    "# ut = np.zeros((m,n), dtype=np.complex64)\n",
    "# ux = np.zeros((m,n), dtype=np.complex64)\n",
    "# uxx = np.zeros((m,n), dtype=np.complex64)\n",
    "# uxxx = np.zeros((m,n), dtype=np.complex64)\n",
    "\n",
    "# for i in range(n):\n",
    "#     ut[:,i] = FiniteDiff(u[:,i], dt, 1)\n",
    "# for i in range(m):\n",
    "#     ux[i,:] = FiniteDiff(u[i,:], dx, 1)\n",
    "#     uxx[i,:] = FiniteDiff(u[i,:], dx, 2)\n",
    "#     uxxx[i,:] = FiniteDiff(u[i,:], dx, 3)\n",
    "    \n",
    "# ut = np.reshape(ut, (n*m,1), order='F')\n",
    "# ux = np.reshape(ux, (n*m,1), order='F')\n",
    "# uxx = np.reshape(uxx, (n*m,1), order='F')\n",
    "# uxxx = np.reshape(uxxx, (n*m,1), order='F')\n",
    "# X_ders = np.hstack([np.ones((n*m,1)),ux,uxx,uxxx])\n",
    "# X_data = np.hstack([np.reshape(u, (n*m,1), order='F'), np.reshape(abs(u), (n*m,1), order='F')])\n",
    "# derivatives_description = ['','u_{x}','u_{xx}', 'u_{xxx}']\n",
    "\n",
    "# X, rhs_des = build_Theta(X_data, X_ders, derivatives_description, 3, data_description = ['u','|u|'])"
   ]
  },
  {
   "cell_type": "code",
   "execution_count": 9,
   "metadata": {},
   "outputs": [
    {
     "name": "stdout",
     "output_type": "stream",
     "text": [
      "PDE derived using STRidge\n",
      "u_t = (0.000004 +0.527625i)u_{xx}\n",
      "    + (-0.000003 +1.001721i)u|u|^2\n",
      "   \n"
     ]
    }
   ],
   "source": [
    "# Solve with STRidge\n",
    "lam = 1e-2\n",
    "d_tol = 50\n",
    "\n",
    "wn = TrainSTRidge(Xn,utn,lam,d_tol)\n",
    "print(\"PDE derived using STRidge\")\n",
    "print_pde(wn, rhs_des)"
   ]
  },
  {
   "cell_type": "code",
   "execution_count": 10,
   "metadata": {},
   "outputs": [
    {
     "data": {
      "text/plain": [
       "(2.8485500000000052, 2.676449999999997)"
      ]
     },
     "execution_count": 10,
     "metadata": {},
     "output_type": "execute_result"
    }
   ],
   "source": [
    "err = np.abs(np.array([200*(0.527625-0.5), 100*(1.001721-1)]))\n",
    "err.mean(), err.std()"
   ]
  },
  {
   "cell_type": "code",
   "execution_count": 7,
   "metadata": {},
   "outputs": [
    {
     "name": "stdout",
     "output_type": "stream",
     "text": [
      "iteration:1, err:8806.323438941707, nc_norm:2919.200555734746 eta2:0.001818358854185318\n",
      "u_t = \n",
      "u_t = (-0.000133 +0.526551i)u_{xx}\n",
      "    + (-0.000172 +0.999666i)u|u|^2\n",
      "   \n",
      "u_t = (-0.000126 +0.528545i)u_{xx}\n",
      "    + (-0.000168 +1.003451i)u|u|^2\n",
      "   \n",
      "u_t = (-0.000119 +0.527655i)u_{xx}\n",
      "    + (-0.000162 +1.001754i)u|u|^2\n",
      "   \n",
      "u_t = (-0.000114 +0.527654i)u_{xx}\n",
      "    + (-0.000159 +1.001749i)u|u|^2\n",
      "   \n",
      "u_t = (-0.000111 +0.527657i)u_{xx}\n",
      "    + (-0.000155 +1.001754i)u|u|^2\n",
      "   \n",
      "u_t = (-0.000107 +0.527659i)u_{xx}\n",
      "    + (-0.000151 +1.001756i)u|u|^2\n",
      "   \n",
      "u_t = (-0.000105 +0.527659i)u_{xx}\n",
      "    + (-0.000148 +1.001758i)u|u|^2\n",
      "   \n",
      "u_t = (-0.000103 +0.527660i)u_{xx}\n",
      "    + (-0.000145 +1.001758i)u|u|^2\n",
      "   \n",
      "u_t = (-0.000101 +0.527660i)u_{xx}\n",
      "    + (-0.000143 +1.001758i)u|u|^2\n",
      "   \n",
      "u_t = (-0.000100 +0.527659i)u_{xx}\n",
      "    + (-0.000141 +1.001758i)u|u|^2\n",
      "   \n",
      "u_t = (-0.000099 +0.527659i)u_{xx}\n",
      "    + (-0.000140 +1.001758i)u|u|^2\n",
      "   \n",
      "u_t = (-0.000098 +0.527659i)u_{xx}\n",
      "    + (-0.000139 +1.001758i)u|u|^2\n",
      "   \n",
      "u_t = (-0.000098 +0.527659i)u_{xx}\n",
      "    + (-0.000138 +1.001759i)u|u|^2\n",
      "   \n",
      "u_t = (-0.000097 +0.527659i)u_{xx}\n",
      "    + (-0.000137 +1.001759i)u|u|^2\n",
      "   \n",
      "u_t = (-0.000097 +0.527660i)u_{xx}\n",
      "    + (-0.000137 +1.001759i)u|u|^2\n",
      "   \n",
      "u_t = (-0.000097 +0.527660i)u_{xx}\n",
      "    + (-0.000136 +1.001759i)u|u|^2\n",
      "   \n",
      "u_t = (-0.000097 +0.527660i)u_{xx}\n",
      "    + (-0.000136 +1.001759i)u|u|^2\n",
      "   \n",
      "u_t = (-0.000096 +0.527660i)u_{xx}\n",
      "    + (-0.000136 +1.001759i)u|u|^2\n",
      "   \n",
      "u_t = (-0.000096 +0.527660i)u_{xx}\n",
      "    + (-0.000136 +1.001759i)u|u|^2\n",
      "   \n",
      "u_t = (-0.000096 +0.527660i)u_{xx}\n",
      "    + (-0.000136 +1.001759i)u|u|^2\n",
      "   \n",
      "u_t = (-0.000096 +0.527660i)u_{xx}\n",
      "    + (-0.000136 +1.001759i)u|u|^2\n",
      "   \n",
      "u_t = (-0.000096 +0.527660i)u_{xx}\n",
      "    + (-0.000136 +1.001759i)u|u|^2\n",
      "   \n",
      "u_t = (-0.000096 +0.527660i)u_{xx}\n",
      "    + (-0.000136 +1.001759i)u|u|^2\n",
      "   \n",
      "u_t = (-0.000096 +0.527660i)u_{xx}\n",
      "    + (-0.000136 +1.001759i)u|u|^2\n",
      "   \n",
      "u_t = (-0.000096 +0.527660i)u_{xx}\n",
      "    + (-0.000136 +1.001759i)u|u|^2\n",
      "   \n",
      "u_t = (-0.000096 +0.527660i)u_{xx}\n",
      "    + (-0.000136 +1.001759i)u|u|^2\n",
      "   \n",
      "u_t = (-0.000096 +0.527660i)u_{xx}\n",
      "    + (-0.000136 +1.001759i)u|u|^2\n",
      "   \n",
      "u_t = (-0.000096 +0.527660i)u_{xx}\n",
      "    + (-0.000136 +1.001759i)u|u|^2\n",
      "   \n",
      "u_t = (-0.000096 +0.527660i)u_{xx}\n",
      "    + (-0.000136 +1.001759i)u|u|^2\n",
      "   \n",
      "u_t = (-0.000096 +0.527660i)u_{xx}\n",
      "    + (-0.000136 +1.001759i)u|u|^2\n",
      "   \n",
      "u_t = (-0.000096 +0.527660i)u_{xx}\n",
      "    + (-0.000136 +1.001759i)u|u|^2\n",
      "   \n",
      "iteration:50, err:0.0010228207260903424, nc_norm:1651.8802432717007 eta2:13.78988523918519\n",
      "u_t = (-0.000096 +0.527660i)u_{xx}\n",
      "    + (-0.000136 +1.001759i)u|u|^2\n",
      "   \n",
      "u_t = (-0.000096 +0.527660i)u_{xx}\n",
      "    + (-0.000136 +1.001759i)u|u|^2\n",
      "   \n",
      "u_t = (-0.000096 +0.527660i)u_{xx}\n",
      "    + (-0.000136 +1.001759i)u|u|^2\n",
      "   \n",
      "u_t = (-0.000096 +0.527660i)u_{xx}\n",
      "    + (-0.000136 +1.001759i)u|u|^2\n",
      "   \n",
      "u_t = (-0.000096 +0.527660i)u_{xx}\n",
      "    + (-0.000136 +1.001759i)u|u|^2\n",
      "   \n",
      "u_t = (-0.000096 +0.527660i)u_{xx}\n",
      "    + (-0.000136 +1.001759i)u|u|^2\n",
      "   \n",
      "iteration:55, err:8.413162598340297e-06, nc_norm:1642.4595384677814 eta2:34.313647238369285\n",
      "u_t = (-0.000096 +0.527660i)u_{xx}\n",
      "    + (-0.000136 +1.001759i)u|u|^2\n",
      "   \n",
      "PDE derived using RPCA+LRSTR for clear data U\n",
      "u_t = (-0.000096 +0.527660i)u_{xx}\n",
      "    + (-0.000136 +1.001759i)u|u|^2\n",
      "   \n"
     ]
    }
   ],
   "source": [
    "# Not working ???\n",
    "# Z, E1 = RobustPCA(u, lam_2 = 0.3)\n",
    "# Ut, R, rhs_des = build_linear_system(Z, dt, dx, D=3, P=3, time_diff='FD', space_diff='FD')\n",
    "\n",
    "# Solve noiseless data with RPCA + STR\n",
    "# w = TrainSTRidge(R, ut, 10**-5, 500)\n",
    "# print(\"PDE derived using STRidge\")\n",
    "# print_pde(w, rhs_des)\n",
    "\n",
    "# Solve noiseless data with RPCA+LRSTR\n",
    "utn = utn.reshape(m2, n2)\n",
    "w, X, E2 = Robust_LRSTR(Xn, utn, rhs_des, lam_1 = 1e-2, lam_3 = 0.3, lam_4 = 1e-4, d_tol = 50)\n",
    "print_pde(w, rhs_des)"
   ]
  },
  {
   "cell_type": "code",
   "execution_count": 8,
   "metadata": {},
   "outputs": [
    {
     "data": {
      "text/plain": [
       "(2.853950000000005, 2.6780499999999985)"
      ]
     },
     "execution_count": 8,
     "metadata": {},
     "output_type": "execute_result"
    }
   ],
   "source": [
    "err = np.abs(np.array([200*(0.527660-0.5), 100*(1.001759-1)]))\n",
    "err.mean(), err.std()"
   ]
  },
  {
   "cell_type": "code",
   "execution_count": null,
   "metadata": {},
   "outputs": [],
   "source": [
    "# STR U+Noise: (2.8485500000000052, 2.676449999999997)\n",
    "# DLrSR U+Noise: (2.853950000000005, 2.6780499999999985)"
   ]
  }
 ],
 "metadata": {
  "kernelspec": {
   "display_name": "Python 3",
   "language": "python",
   "name": "python3"
  },
  "language_info": {
   "codemirror_mode": {
    "name": "ipython",
    "version": 3
   },
   "file_extension": ".py",
   "mimetype": "text/x-python",
   "name": "python",
   "nbconvert_exporter": "python",
   "pygments_lexer": "ipython3",
   "version": "3.9.6"
  }
 },
 "nbformat": 4,
 "nbformat_minor": 4
}
