{
 "cells": [
  {
   "cell_type": "code",
   "execution_count": 1,
   "metadata": {},
   "outputs": [
    {
     "name": "stdout",
     "output_type": "stream",
     "text": [
      "Running Python 3.9.8\n",
      "You can use npar for np.array\n"
     ]
    }
   ],
   "source": [
    "import numpy as np\n",
    "import sys; sys.path.insert(0, \"../\"); from utils import *"
   ]
  },
  {
   "cell_type": "code",
   "execution_count": 2,
   "metadata": {},
   "outputs": [],
   "source": [
    "ground = [1j, 0.5j]"
   ]
  },
  {
   "cell_type": "code",
   "execution_count": 3,
   "metadata": {},
   "outputs": [],
   "source": [
    "all_params = [[0.00020274+0.99963737j, 0.00024045+0.5002363j],  \n",
    "              [ 2.7845753e-04+0.9986335j,  -5.2443509e-05+0.50016683j], \n",
    "              [-0.05378481+1.0157889j,   0.0151101 +0.48273963j], \n",
    "              [0.00016563+0.9999603j, 0.00023489+0.500134j], \n",
    "              [0.00036821+1.0008494j,  0.00019588+0.49999335j], \n",
    "              [8.1524391e-05+0.9902236j, 5.3029885e-03+0.49562332j]]"
   ]
  },
  {
   "cell_type": "code",
   "execution_count": 4,
   "metadata": {},
   "outputs": [
    {
     "name": "stdout",
     "output_type": "stream",
     "text": [
      "0.05448541322622159 0.012939772720866282\n",
      "0.08721700699852894 0.052241260809938884\n",
      "5.096702061499117 0.508737394909363\n",
      "0.03555850297763373 0.0185263607459595\n",
      "0.06588802447254202 0.026689454651692708\n",
      "1.1764198256004046 0.1987458350169981\n"
     ]
    }
   ],
   "source": [
    "for p1, p2 in all_params:\n",
    "    errs = npar([percent_error(p1, ground[0]), percent_error(p2, ground[1])])\n",
    "    print(errs.mean(), errs.std())"
   ]
  },
  {
   "cell_type": "code",
   "execution_count": null,
   "metadata": {},
   "outputs": [],
   "source": []
  }
 ],
 "metadata": {
  "kernelspec": {
   "display_name": "Python 3",
   "language": "python",
   "name": "python3"
  },
  "language_info": {
   "codemirror_mode": {
    "name": "ipython",
    "version": 3
   },
   "file_extension": ".py",
   "mimetype": "text/x-python",
   "name": "python",
   "nbconvert_exporter": "python",
   "pygments_lexer": "ipython3",
   "version": "3.9.8"
  }
 },
 "nbformat": 4,
 "nbformat_minor": 4
}
