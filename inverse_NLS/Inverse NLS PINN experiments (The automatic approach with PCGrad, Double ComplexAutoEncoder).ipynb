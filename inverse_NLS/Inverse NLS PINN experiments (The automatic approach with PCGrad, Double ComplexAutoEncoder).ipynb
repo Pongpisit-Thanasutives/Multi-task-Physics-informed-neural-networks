{
 "cells": [
  {
   "cell_type": "code",
   "execution_count": 1,
   "metadata": {},
   "outputs": [
    {
     "name": "stdout",
     "output_type": "stream",
     "text": [
      "You can use npar for np.array\n"
     ]
    }
   ],
   "source": [
    "%load_ext autoreload\n",
    "%autoreload 2 \n",
    "%reload_ext autoreload\n",
    "%matplotlib inline\n",
    "\n",
    "import matplotlib.pyplot as plt\n",
    "\n",
    "import numpy as np\n",
    "import scipy.io as io\n",
    "from pyDOE import lhs\n",
    "import torch\n",
    "import torch.nn as nn\n",
    "import torch.nn.functional as F\n",
    "from torchvision import datasets, transforms\n",
    "\n",
    "from complexPyTorch.complexLayers import ComplexLinear\n",
    "\n",
    "import cplxmodule\n",
    "from cplxmodule import cplx\n",
    "from cplxmodule.nn import RealToCplx, CplxToReal, CplxSequential, CplxToCplx\n",
    "from cplxmodule.nn import CplxLinear, CplxModReLU, CplxAdaptiveModReLU, CplxModulus, CplxAngle\n",
    "\n",
    "# To access the contents of the parent dir\n",
    "import sys; sys.path.insert(0, '../')\n",
    "import os\n",
    "from scipy.io import loadmat\n",
    "from lightning_utils import *\n",
    "from utils import *\n",
    "from models import (TorchComplexMLP, ImaginaryDimensionAdder, cplx2tensor, \n",
    "                    ComplexTorchMLP, ComplexSymPyModule, complex_mse)\n",
    "from models import real2cplx, ComplexAutoEncoder, complex_ae_loss\n",
    "from preprocess import *\n",
    "\n",
    "# Model selection\n",
    "# from sparsereg.model import STRidge # Need Sklearn 0.22.0 to run this.\n",
    "from sklearn.preprocessing import PolynomialFeatures\n",
    "from sklearn.linear_model import LinearRegression, Ridge\n",
    "from pde_diff import TrainSTRidge, FiniteDiff, print_pde\n",
    "from RegscorePy.bic import bic\n",
    "\n",
    "from madgrad import MADGRAD\n",
    "\n",
    "from tqdm import trange"
   ]
  },
  {
   "cell_type": "code",
   "execution_count": 2,
   "metadata": {},
   "outputs": [
    {
     "name": "stdout",
     "output_type": "stream",
     "text": [
      "You're running on cpu\n",
      "Perturbed Exact_u and Exact_v with intensity = 0.0070710678118654745\n",
      "Loading pre-calculated (clean) data for reproducibility\n",
      "Perturbed u_train and v_train with intensity = 0.0070710678118654745\n"
     ]
    }
   ],
   "source": [
    "# torch device\n",
    "device = torch.device('cuda' if torch.cuda.is_available() else 'cpu')\n",
    "print(\"You're running on\", device)\n",
    "\n",
    "# Adding noise\n",
    "noise_intensity = 0.01/np.sqrt(2)\n",
    "\n",
    "# Doman bounds\n",
    "lb = np.array([-5.0, 0.0])\n",
    "ub = np.array([5.0, np.pi/2])\n",
    "\n",
    "DATA_PATH = '../experimental_data/NLS.mat'\n",
    "data = io.loadmat(DATA_PATH)\n",
    "\n",
    "t = data['tt'].flatten()[:,None]\n",
    "x = data['x'].flatten()[:,None]\n",
    "Exact = data['uu']\n",
    "Exact_u = np.real(Exact)\n",
    "Exact_v = np.imag(Exact)\n",
    "del Exact\n",
    "if noise_intensity > 0.0:\n",
    "    Exact_u = perturb(Exact_u, intensity=noise_intensity, noise_type=\"normal\")\n",
    "    Exact_v = perturb(Exact_v, intensity=noise_intensity, noise_type=\"normal\")\n",
    "    print(\"Perturbed Exact_u and Exact_v with intensity =\", float(noise_intensity))\n",
    "\n",
    "X, T = np.meshgrid(x,t)\n",
    "\n",
    "X_star = np.hstack((X.flatten()[:,None], T.flatten()[:,None]))\n",
    "u_star = to_column_vector(Exact_u.T)\n",
    "v_star = to_column_vector(Exact_v.T)\n",
    "\n",
    "N = 500\n",
    "idx = np.random.choice(X_star.shape[0], N, replace=False)\n",
    "# idx = np.arange(N) # Just to have an easy dataset for experimenting\n",
    "\n",
    "lb = to_tensor(lb, False).to(device)\n",
    "ub = to_tensor(ub, False).to(device)\n",
    "\n",
    "X_train = to_tensor(X_star[idx, :], True).to(device)\n",
    "u_train = to_tensor(u_star[idx, :], False).to(device)\n",
    "v_train = to_tensor(v_star[idx, :], False).to(device)\n",
    "h_train = torch.complex(u_train, v_train)\n",
    "\n",
    "# No need to use utils.group_diff to speed up the computation\n",
    "feature_names = ['hf', '|hf|', 'h_xx']\n",
    "\n",
    "### Loading (clean) data code here ###\n",
    "print(\"Loading pre-calculated (clean) data for reproducibility\")\n",
    "X_train = to_tensor(np.load(\"./tmp_files/X_train_500+500samples.npy\"), True)[:N, :]\n",
    "uv_train = np.load(\"./tmp_files/uv_train_500samples.npy\")\n",
    "u_train = uv_train[:, 0:1]; v_train = uv_train[:, 1:2]\n",
    "if noise_intensity > 0.0:\n",
    "    u_train = perturb(u_train, intensity=noise_intensity, noise_type=\"normal\")\n",
    "    v_train = perturb(v_train, intensity=noise_intensity, noise_type=\"normal\")\n",
    "    print(\"Perturbed u_train and v_train with intensity =\", float(noise_intensity))\n",
    "u_train, v_train = to_tensor(u_train, False), to_tensor(v_train, False)\n",
    "u_train = u_train[:N, :]; v_train = v_train[:N, :]\n",
    "h_train = torch.complex(u_train, v_train)\n",
    "### ----- ###"
   ]
  },
  {
   "cell_type": "code",
   "execution_count": 3,
   "metadata": {},
   "outputs": [],
   "source": [
    "cn1 = 0.002494+1.002397*1j\n",
    "cn2 = 0.003655+0.500415*1j\n",
    "cns = [cn1, cn2]"
   ]
  },
  {
   "cell_type": "code",
   "execution_count": 4,
   "metadata": {},
   "outputs": [
    {
     "name": "stdout",
     "output_type": "stream",
     "text": [
      "X0*X1 {X0, X1}\n",
      "X2 {X2}\n"
     ]
    },
    {
     "data": {
      "text/plain": [
       "ComplexSymPyModule(\n",
       "  (sympymodule): SymPyModule(expressions=(X0*X1, X2))\n",
       ")"
      ]
     },
     "execution_count": 4,
     "metadata": {},
     "output_type": "execute_result"
    }
   ],
   "source": [
    "# Type the equation got from the symbolic regression step\n",
    "# No need to save the eq save a pickle file before\n",
    "program1 = \"X0*X1\"\n",
    "pde_expr1, variables1,  = build_exp(program1); print(pde_expr1, variables1)\n",
    "\n",
    "program2 = \"X2\"\n",
    "pde_expr2, variables2,  = build_exp(program2); print(pde_expr2, variables2)\n",
    "\n",
    "mod = ComplexSymPyModule(expressions=[pde_expr1, pde_expr2], complex_coeffs=cns); mod.train()"
   ]
  },
  {
   "cell_type": "code",
   "execution_count": 5,
   "metadata": {},
   "outputs": [],
   "source": [
    "class ComplexPINN(nn.Module):\n",
    "    def __init__(self, model, loss_fn, index2features, scale=False, lb=None, ub=None):\n",
    "        super(ComplexPINN, self).__init__()\n",
    "        self.model = model\n",
    "        self.callable_loss_fn = loss_fn\n",
    "        self.index2features = index2features; self.feature2index = {}\n",
    "        for idx, fn in enumerate(self.index2features): self.feature2index[fn] = str(idx)\n",
    "        self.scale = scale; self.lb, self.ub = lb, ub\n",
    "        if self.scale and (self.lb is None or self.ub is None): \n",
    "            print(\"Please provide thw lower and upper bounds of your PDE.\")\n",
    "            print(\"Otherwise, there will be error(s)\")\n",
    "        self.diff_flag = diff_flag(self.index2features)\n",
    "        \n",
    "    def forward(self, x, t):\n",
    "        H = torch.cat([x, t], dim=1)\n",
    "        if self.scale: H = self.neural_net_scale(H)\n",
    "        return self.model(H)\n",
    "    \n",
    "    def loss(self, x, t, y_input, update_network_params=True, update_pde_params=True):\n",
    "        total_loss = []\n",
    "        grads_dict, u_t = self.grads_dict(x, t)\n",
    "        # MSE Loss\n",
    "        if update_network_params:\n",
    "            mse_loss = complex_mse(grads_dict['X'+self.feature2index['hf']], y_input)\n",
    "            total_loss.append(mse_loss)\n",
    "        # PDE Loss\n",
    "        if update_pde_params:\n",
    "            l_eq = complex_mse(self.callable_loss_fn(grads_dict), u_t)\n",
    "            total_loss.append(l_eq)\n",
    "            \n",
    "        return total_loss\n",
    "    \n",
    "    def grads_dict(self, x, t):\n",
    "        uf = self.forward(x, t)\n",
    "        u_t = complex_diff(uf, t)\n",
    "        \n",
    "        ### PDE Loss calculation ###\n",
    "        # Without calling grad\n",
    "        derivatives = {}\n",
    "        for t in self.diff_flag[0]:\n",
    "            if t=='hf': \n",
    "                derivatives['X'+self.feature2index[t]] = cplx2tensor(uf)\n",
    "                derivatives['X1'] = (uf.real**2+uf.imag**2)+0.0j\n",
    "            elif t=='x': derivatives['X'+self.feature2index[t]] = x\n",
    "        # With calling grad\n",
    "        for t in self.diff_flag[1]:\n",
    "            out = uf\n",
    "            for c in t:\n",
    "                if c=='x': out = complex_diff(out, x)\n",
    "                elif c=='t': out = complex_diff(out, t)\n",
    "            derivatives['X'+self.feature2index['h_'+t[::-1]]] = out\n",
    "        \n",
    "        return derivatives, u_t\n",
    "    \n",
    "    def gradients(self, func, x):\n",
    "        return grad(func, x, create_graph=True, retain_graph=True, grad_outputs=torch.ones(func.shape))\n",
    "    \n",
    "    # Must ensure that the implementation of neural_net_scale is consistent\n",
    "    # and hopefully correct\n",
    "    # also, you might not need this function in some datasets\n",
    "    def neural_net_scale(self, inp): \n",
    "        return 2*(inp-self.lb)/(self.ub-self.lb)-1"
   ]
  },
  {
   "cell_type": "code",
   "execution_count": 6,
   "metadata": {},
   "outputs": [
    {
     "name": "stderr",
     "output_type": "stream",
     "text": [
      "/usr/local/lib/python3.9/site-packages/torch/nn/modules/container.py:587: UserWarning: Setting attributes on ParameterDict is not supported.\n",
      "  warnings.warn(\"Setting attributes on ParameterDict is not supported.\")\n"
     ]
    }
   ],
   "source": [
    "inp_dimension = 2\n",
    "act = CplxToCplx[torch.tanh]\n",
    "complex_model = CplxSequential(\n",
    "                            CplxLinear(100, 100, bias=True),\n",
    "                            act(),\n",
    "                            CplxLinear(100, 100, bias=True),\n",
    "                            act(),\n",
    "                            CplxLinear(100, 100, bias=True),\n",
    "                            act(),\n",
    "                            CplxLinear(100, 100, bias=True),\n",
    "                            act(),\n",
    "                            CplxLinear(100, 1, bias=True),\n",
    "                            )\n",
    "complex_model = torch.nn.Sequential(\n",
    "                                    torch.nn.Linear(inp_dimension, 200),\n",
    "                                    RealToCplx(),\n",
    "                                    complex_model\n",
    "                                    )"
   ]
  },
  {
   "cell_type": "code",
   "execution_count": 7,
   "metadata": {},
   "outputs": [],
   "source": [
    "# Pretrained model\n",
    "semisup_model_state_dict = cpu_load(\"./saved_path_inverse_nls/NLS_complex_model_500labeledsamples_jointtrainwith500unlabeledsamples.pth\")\n",
    "parameters = OrderedDict()\n",
    "\n",
    "# Filter only the parts that I care about renaming (to be similar to what defined in TorchMLP).\n",
    "inner_part = \"network.model.\"\n",
    "for p in semisup_model_state_dict:\n",
    "    if inner_part in p:\n",
    "        parameters[p.replace(inner_part, \"\")] = semisup_model_state_dict[p]\n",
    "complex_model.load_state_dict(parameters)\n",
    "\n",
    "pinn = ComplexPINN(model=complex_model, loss_fn=mod, index2features=feature_names, scale=False, lb=lb, ub=ub)"
   ]
  },
  {
   "cell_type": "markdown",
   "metadata": {},
   "source": [
    "#### Double ComplexAutoEncoder\n",
    "    - Is Double better than Single ComplexAutoEncoder?\n",
    "    - Answer: NO, if there is only noise in Exact\n",
    "    \n",
    "    - How about noise on both Exact and (x, t)?"
   ]
  },
  {
   "cell_type": "code",
   "execution_count": 8,
   "metadata": {},
   "outputs": [
    {
     "name": "stderr",
     "output_type": "stream",
     "text": [
      "100%|██████████| 10000/10000 [00:43<00:00, 228.97it/s]\n",
      "  0%|          | 28/10000 [00:00<00:36, 274.35it/s]"
     ]
    },
    {
     "name": "stdout",
     "output_type": "stream",
     "text": [
      "Loss: 1.6144735127454624e-05\n",
      "Done pretraining\n"
     ]
    },
    {
     "name": "stderr",
     "output_type": "stream",
     "text": [
      "100%|██████████| 10000/10000 [00:45<00:00, 219.03it/s]"
     ]
    },
    {
     "name": "stdout",
     "output_type": "stream",
     "text": [
      "Loss: 6.7899300120188855e-06\n",
      "Done pretraining\n"
     ]
    },
    {
     "name": "stderr",
     "output_type": "stream",
     "text": [
      "\n"
     ]
    },
    {
     "data": {
      "text/plain": [
       "ComplexAutoEncoder(\n",
       "  (mlp): CplxSequential(\n",
       "    (0): CplxLinear(\n",
       "      in_features=1, out_features=32, bias=True\n",
       "      (weight): CplxParameter(32, 1)\n",
       "      (bias): CplxParameter(32,)\n",
       "    )\n",
       "    (1): CplxModReLU()\n",
       "    (2): CplxLinear(\n",
       "      in_features=32, out_features=1, bias=True\n",
       "      (weight): CplxParameter(1, 32)\n",
       "      (bias): CplxParameter(1,)\n",
       "    )\n",
       "  )\n",
       ")"
      ]
     },
     "execution_count": 8,
     "metadata": {},
     "output_type": "execute_result"
    }
   ],
   "source": [
    "ct_X_train = real2cplx(X_train)\n",
    "ae = ComplexAutoEncoder(x_dim=2)\n",
    "ae.pretrain(ct_X_train)\n",
    "\n",
    "ct_h_train = real2cplx(h_train)\n",
    "h_ae = ComplexAutoEncoder(x_dim=1)\n",
    "h_ae.pretrain(ct_h_train)"
   ]
  },
  {
   "cell_type": "code",
   "execution_count": 9,
   "metadata": {},
   "outputs": [],
   "source": [
    "def closure():\n",
    "    global X_train, h_train, ct_X_train, ct_h_train\n",
    "    if torch.is_grad_enabled(): optimizer2.zero_grad(set_to_none=True)\n",
    "        \n",
    "    denoised_X = ae(ct_X_train)\n",
    "    denoised_h_train = h_ae(ct_h_train)\n",
    "    \n",
    "    losses = pinn.loss(denoised_X.real[:, 0:1], denoised_X.real[:, 1:2], cplx2tensor(denoised_h_train), update_network_params=True, update_pde_params=True)\n",
    "    l = sum(losses)\n",
    "    l = l+0.1*complex_ae_loss(denoised_X, ct_X_train, include_l1=ae.l1_strength)\n",
    "    l = l+0.01*complex_ae_loss(denoised_h_train, ct_h_train, include_l1=h_ae.l1_strength)\n",
    "    \n",
    "    if l.requires_grad: l.backward(retain_graph=True)\n",
    "    return l\n",
    "\n",
    "def mtl_closure():\n",
    "    global X_train, h_train, ct_X_train, ct_h_train\n",
    "    \n",
    "    denoised_X = ae(ct_X_train)\n",
    "    denoised_h_train = h_ae(ct_h_train)\n",
    "    \n",
    "    losses = pinn.loss(denoised_X.real[:, 0:1], denoised_X.real[:, 1:2], cplx2tensor(denoised_h_train), update_network_params=True, update_pde_params=True)\n",
    "    losses.append(0.1*complex_ae_loss(denoised_X, ct_X_train, include_l1=ae.l1_strength))\n",
    "    losses.append(0.01*complex_ae_loss(denoised_h_train, ct_h_train, include_l1=h_ae.l1_strength))\n",
    "    \n",
    "    n_obj = len(losses)\n",
    "    updated_grads = []\n",
    "    for i in range(n_obj):\n",
    "        optimizer1.zero_grad()\n",
    "        losses[i].backward(retain_graph=True)\n",
    "\n",
    "        g_task = []\n",
    "        for param in list(ae.parameters())+list(h_ae.parameters())+list(pinn.parameters()):\n",
    "            if param.grad is not None:\n",
    "                g_task.append(Variable(param.grad.clone(), requires_grad=False))\n",
    "            else:\n",
    "                g_task.append(Variable(torch.zeros(param.shape), requires_grad=False))\n",
    "        # appending the gradients from each task\n",
    "        updated_grads.append(g_task)\n",
    "\n",
    "    updated_grads = list(pcgrad.pc_grad_update(updated_grads))[0]\n",
    "    for idx, param in enumerate(list(ae.parameters())+list(h_ae.parameters())+list(pinn.parameters())): \n",
    "        param.grad = (updated_grads[0][idx]+updated_grads[1][idx])\n",
    "        \n",
    "    return sum(losses)"
   ]
  },
  {
   "cell_type": "code",
   "execution_count": 10,
   "metadata": {},
   "outputs": [
    {
     "name": "stdout",
     "output_type": "stream",
     "text": [
      "1st Phase optimization using Adam with PCGrad gradient modification\n",
      "Epoch 0:  0.011921461671590805\n",
      "Epoch 10:  0.18568716943264008\n",
      "Epoch 20:  1.9432828426361084\n",
      "Epoch 30:  0.055365946143865585\n",
      "Epoch 40:  0.250823438167572\n",
      "Epoch 50:  0.1355133205652237\n",
      "Epoch 60:  0.013502245768904686\n",
      "Epoch 70:  0.011008135974407196\n",
      "Epoch 80:  0.032282426953315735\n",
      "Epoch 90:  0.056623391807079315\n",
      "Epoch 100:  0.007313797250390053\n",
      "Epoch 110:  0.015200871042907238\n",
      "Epoch 120:  0.029478950425982475\n",
      "Epoch 130:  0.007620926946401596\n",
      "Epoch 140:  0.05735178664326668\n",
      "Epoch 150:  0.011002501472830772\n",
      "Epoch 160:  0.02322903275489807\n",
      "Epoch 170:  0.017787622287869453\n",
      "Epoch 180:  0.030134940519928932\n",
      "Epoch 190:  0.010484563186764717\n",
      "Epoch 200:  0.015352202579379082\n",
      "Epoch 210:  0.005783386062830687\n",
      "Epoch 220:  0.011464017443358898\n",
      "Epoch 230:  0.057042866945266724\n",
      "Epoch 240:  0.009345931932330132\n",
      "Epoch 250:  0.02253582887351513\n",
      "Epoch 260:  0.017887935042381287\n",
      "Epoch 270:  0.01806272566318512\n",
      "Epoch 280:  0.006142221856862307\n",
      "Epoch 290:  0.005636010784655809\n",
      "Epoch 300:  0.0059549640864133835\n",
      "Epoch 310:  0.01790657453238964\n",
      "Epoch 320:  0.012666553258895874\n",
      "Epoch 330:  0.18565772473812103\n",
      "Epoch 340:  2.3674044609069824\n",
      "Epoch 350:  0.4107944667339325\n",
      "Epoch 360:  0.17146717011928558\n",
      "Epoch 370:  0.03970392048358917\n",
      "Epoch 380:  0.1631343960762024\n",
      "Epoch 390:  0.018502486869692802\n",
      "Epoch 400:  0.023473162204027176\n",
      "Epoch 410:  0.015531563200056553\n",
      "Epoch 420:  0.012056035920977592\n",
      "Epoch 430:  0.007127383723855019\n",
      "Epoch 440:  0.00840416643768549\n",
      "Epoch 450:  0.005635696463286877\n",
      "Epoch 460:  0.005446959752589464\n",
      "Epoch 470:  0.00558139942586422\n",
      "Epoch 480:  0.005381785333156586\n",
      "Epoch 490:  0.004940829239785671\n",
      "Epoch 499:  0.004779583774507046\n"
     ]
    }
   ],
   "source": [
    "epochs1, epochs2 = 500, 50\n",
    "# TODO: Save best state dict and training for more epochs.\n",
    "optimizer1 = MADGRAD([{'params':ae.parameters()}, {'params':h_ae.parameters()}, {'params':pinn.parameters()}], lr=1e-7)\n",
    "optimizer1.param_groups[0]['lr'] = 1e-6\n",
    "optimizer1.param_groups[1]['lr'] = 1e-6\n",
    "optimizer1.param_groups[2]['lr'] = 1e-7\n",
    "ae.train(); pinn.train(); best_train_loss = 1e6\n",
    "\n",
    "print('1st Phase optimization using Adam with PCGrad gradient modification')\n",
    "for i in range(epochs1):\n",
    "    optimizer1.step(mtl_closure)\n",
    "    if (i % 10) == 0 or i == epochs1-1:\n",
    "        l = mtl_closure()\n",
    "        print(\"Epoch {}: \".format(i), l.item())"
   ]
  },
  {
   "cell_type": "code",
   "execution_count": 11,
   "metadata": {},
   "outputs": [
    {
     "name": "stdout",
     "output_type": "stream",
     "text": [
      "2nd Phase optimization using LBFGS\n",
      "Epoch 0:  0.00020368066907394677\n",
      "Epoch 5:  4.7321649617515504e-05\n",
      "Epoch 10:  4.335184712545015e-05\n",
      "Epoch 15:  4.335184712545015e-05\n",
      "Epoch 20:  4.335184712545015e-05\n",
      "Epoch 25:  4.335184712545015e-05\n",
      "Epoch 30:  4.335184712545015e-05\n",
      "Epoch 35:  4.335184712545015e-05\n",
      "Epoch 40:  4.335184712545015e-05\n",
      "Epoch 45:  4.335184712545015e-05\n",
      "Epoch 49:  4.335184712545015e-05\n"
     ]
    }
   ],
   "source": [
    "optimizer2 = torch.optim.LBFGS(list(ae.parameters())+list(h_ae.parameters())+list(pinn.parameters()), lr=1e-1, max_iter=500, max_eval=int(500*1.25), history_size=300, line_search_fn='strong_wolfe')\n",
    "ae.train(); pinn.train()\n",
    "\n",
    "print('2nd Phase optimization using LBFGS')\n",
    "for i in range(epochs2):\n",
    "    optimizer2.step(closure)\n",
    "    if (i % 5) == 0 or i == epochs2-1:\n",
    "        l = closure()\n",
    "        print(\"Epoch {}: \".format(i), l.item())"
   ]
  },
  {
   "cell_type": "code",
   "execution_count": 12,
   "metadata": {},
   "outputs": [
    {
     "data": {
      "text/plain": [
       "(0.6835311651229858, 0.6789892911911011)"
      ]
     },
     "execution_count": 12,
     "metadata": {},
     "output_type": "execute_result"
    }
   ],
   "source": [
    "est_coeffs = pinn.callable_loss_fn.complex_coeffs().detach().numpy().ravel()\n",
    "grounds = np.array([1j, 0+0.5j])\n",
    "\n",
    "errs = []\n",
    "for i in range(len(grounds)):\n",
    "    err = est_coeffs[i]-grounds[i]\n",
    "    errs.append(100*abs(err.imag)/abs(grounds[i].imag))\n",
    "errs = np.array(errs)\n",
    "errs.mean(), errs.std()"
   ]
  },
  {
   "cell_type": "code",
   "execution_count": 13,
   "metadata": {},
   "outputs": [
    {
     "data": {
      "text/plain": [
       "array([-0.00052734+1.0000454j, -0.00292129+0.4931874j], dtype=complex64)"
      ]
     },
     "execution_count": 13,
     "metadata": {},
     "output_type": "execute_result"
    }
   ],
   "source": [
    "est_coeffs"
   ]
  },
  {
   "cell_type": "code",
   "execution_count": 14,
   "metadata": {},
   "outputs": [],
   "source": [
    "# save(pinn, \"./saved_path_inverse_nls/noisy_final_finetuned_cpinn.pth\")\n",
    "# save(ae, \"./saved_path_inverse_nls/ae.pth\")\n",
    "# save(h_ae, \"./saved_path_inverse_nls/h_ae.pth\")"
   ]
  },
  {
   "cell_type": "code",
   "execution_count": null,
   "metadata": {},
   "outputs": [],
   "source": []
  }
 ],
 "metadata": {
  "kernelspec": {
   "display_name": "Python 3",
   "language": "python",
   "name": "python3"
  },
  "language_info": {
   "codemirror_mode": {
    "name": "ipython",
    "version": 3
   },
   "file_extension": ".py",
   "mimetype": "text/x-python",
   "name": "python",
   "nbconvert_exporter": "python",
   "pygments_lexer": "ipython3",
   "version": "3.9.6"
  }
 },
 "nbformat": 4,
 "nbformat_minor": 4
}
