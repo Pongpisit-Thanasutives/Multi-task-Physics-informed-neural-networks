{
 "cells": [
  {
   "cell_type": "code",
   "execution_count": 1,
   "metadata": {},
   "outputs": [
    {
     "name": "stdout",
     "output_type": "stream",
     "text": [
      "Populating the interactive namespace from numpy and matplotlib\n",
      "You can use npar for np.array\n"
     ]
    }
   ],
   "source": [
    "%load_ext autoreload\n",
    "%autoreload 2 \n",
    "%reload_ext autoreload\n",
    "%pylab inline\n",
    "%matplotlib inline\n",
    "import matplotlib.pyplot as plt\n",
    "\n",
    "import sys; sys.path.insert(0, \"../\")\n",
    "import sys; sys.path.insert(0, \"../inverse_parametric_burgers/\")\n",
    "\n",
    "import numpy as np\n",
    "from utils import *\n",
    "from parametric_discovery_pinn import ParametricPINN, FinalParametricPINN\n",
    "from madgrad import MADGRAD\n",
    "\n",
    "from pde_diff import TrainSTRidge, FiniteDiff, print_pde\n",
    "from robust_pde_diff import print_pde, RobustPCA, Robust_LRSTR, DLrSR\n",
    "from parametric_pde_diff import TrainSGTRidge, create_groups\n",
    "from pytorch_robust_pca import R_pca\n",
    "\n",
    "from scipy.integrate import odeint\n",
    "from numpy.fft import fft, ifft, fftfreq\n",
    "from time import time\n",
    "\n",
    "from pysr import pysr, best\n",
    "\n",
    "fontsize = 20"
   ]
  },
  {
   "cell_type": "code",
   "execution_count": 2,
   "metadata": {},
   "outputs": [
    {
     "name": "stdout",
     "output_type": "stream",
     "text": [
      "Loaded from ../parametric_pde_data/parametric_ks.pkl\n"
     ]
    }
   ],
   "source": [
    "data = pickle_load(\"../parametric_pde_data/parametric_ks.pkl\")\n",
    "\n",
    "x = data['x']; spatial_dims = x.shape[0]\n",
    "t = data['t']; time_dims = t.shape[0]\n",
    "Exact = data['u']\n",
    "\n",
    "X, T = np.meshgrid(x, t)\n",
    "\n",
    "X_star = np.hstack((to_column_vector(X), to_column_vector(T)))\n",
    "u_star = to_column_vector(Exact.T)\n",
    "\n",
    "# domain bounds\n",
    "lb = X_star.min(axis=0)\n",
    "ub = X_star.max(axis=0)\n",
    "\n",
    "# Sampling training data points\n",
    "N = min(20000, X_star.shape[0])\n",
    "training_idxs = sampling_from_rows(X_star, N, True)\n",
    "X_train = X_star[training_idxs, :]\n",
    "u_train = u_star[training_idxs, :]\n",
    "\n",
    "# to_tensor\n",
    "X_star = to_tensor(X_star, True)\n",
    "u_star = to_tensor(u_star, False)\n",
    "X_train = to_tensor(X_train, True)\n",
    "u_train = to_tensor(u_train, False)\n",
    "lb = to_tensor(lb, False)\n",
    "ub = to_tensor(ub, False)\n",
    "\n",
    "# Ground\n",
    "L = 20\n",
    "uu_x_true = 1 + 0.25*np.sin(x*2*np.pi/L)\n",
    "u_xx_true = -1 + 0.25*np.exp(-(x-2)**2/5)\n",
    "u_4x_true = -1 - 0.25*np.exp(-(x+2)**2/5)\n",
    "\n",
    "eq_name = \"ks\""
   ]
  },
  {
   "cell_type": "code",
   "execution_count": 3,
   "metadata": {},
   "outputs": [],
   "source": [
    "pinn = ParametricPINN(n_funcs=3, scale=True, lb=lb, ub=ub, eq_name=eq_name)\n",
    "model = nn.Sequential(pinn.preprocessor_net, pinn.pde_solver_net)\n",
    "pde_terms = [\"u*u_x\", \"u_xx\", \"u_xxxx\"]\n",
    "func_terms = [\"0.2442022*sin(0.3138633*x)+0.9938625\", \n",
    "              \"0.0922859381292682*exp(x*(1-0.24117917*x))-0.99314696\", \n",
    "              \"-0.12887639*exp(-0.18743528*(x**2)-0.708788816773944*x)-0.9929712\"]\n",
    "final_ks_pinn = FinalParametricPINN(model=model, pde_terms=pde_terms, \n",
    "                                    func_terms=func_terms, uncert=False, \n",
    "                                    scale=pinn.scale, lb=pinn.lb, ub=pinn.ub, \n",
    "                                    trainable_one=True\n",
    "                                       )\n",
    "del pinn"
   ]
  },
  {
   "cell_type": "code",
   "execution_count": 4,
   "metadata": {},
   "outputs": [],
   "source": [
    "x, t = dimension_slicing(X_train)"
   ]
  },
  {
   "cell_type": "code",
   "execution_count": 5,
   "metadata": {},
   "outputs": [],
   "source": [
    "def pcgrad_closure(return_list=False):\n",
    "    global N, x, t, u_train\n",
    "    losses = final_ks_pinn.loss(x, t, u_train)\n",
    "    updated_grads = []\n",
    "    \n",
    "    for i in range(2):\n",
    "        optimizer.zero_grad()\n",
    "        losses[i].backward(retain_graph=True)\n",
    "\n",
    "        g_task = []\n",
    "        for param in final_ks_pinn.parameters():\n",
    "            if param.grad is not None:\n",
    "                g_task.append(Variable(param.grad.clone(), requires_grad=False))\n",
    "            else:\n",
    "                g_task.append(Variable(torch.zeros(param.shape), requires_grad=False))\n",
    "        # appending the gradients from each task\n",
    "        updated_grads.append(g_task)\n",
    "\n",
    "    updated_grads = list(pcgrad.pc_grad_update(updated_grads))[0]\n",
    "    for idx, param in enumerate(final_ks_pinn.parameters()):\n",
    "        param.grad = (updated_grads[0][idx]+updated_grads[1][idx])\n",
    "        \n",
    "    if not return_list: return losses[0]+losses[1]\n",
    "    else: return losses"
   ]
  },
  {
   "cell_type": "code",
   "execution_count": 6,
   "metadata": {},
   "outputs": [],
   "source": [
    "def finetuning_closure():\n",
    "    global N, x, t, u_train\n",
    "    if torch.is_grad_enabled(): f_opt.zero_grad()\n",
    "    # the solver network only consider the first N samples.\n",
    "    mse_loss, pde_loss = final_ks_pinn.loss(x, t, u_train)\n",
    "    loss = mse_loss + pde_loss\n",
    "    if loss.requires_grad: loss.backward(retain_graph=False)\n",
    "    return loss"
   ]
  },
  {
   "cell_type": "markdown",
   "metadata": {},
   "source": [
    "#### GPU needed here..."
   ]
  },
  {
   "cell_type": "code",
   "execution_count": 7,
   "metadata": {},
   "outputs": [
    {
     "name": "stdout",
     "output_type": "stream",
     "text": [
      "[tensor(1.3560, grad_fn=<MseLossBackward>), tensor(2.8107e-09, grad_fn=<MseLossBackward>)]\n",
      "[tensor(1.3500, grad_fn=<MseLossBackward>), tensor(5.0530e-08, grad_fn=<MseLossBackward>)]\n",
      "[tensor(1.3502, grad_fn=<MseLossBackward>), tensor(1.8352e-08, grad_fn=<MseLossBackward>)]\n",
      "[tensor(1.3495, grad_fn=<MseLossBackward>), tensor(8.9463e-08, grad_fn=<MseLossBackward>)]\n",
      "[tensor(1.3492, grad_fn=<MseLossBackward>), tensor(9.6813e-08, grad_fn=<MseLossBackward>)]\n",
      "[tensor(1.3485, grad_fn=<MseLossBackward>), tensor(2.9744e-07, grad_fn=<MseLossBackward>)]\n",
      "[tensor(1.3478, grad_fn=<MseLossBackward>), tensor(3.6682e-07, grad_fn=<MseLossBackward>)]\n",
      "[tensor(1.3467, grad_fn=<MseLossBackward>), tensor(2.8913e-07, grad_fn=<MseLossBackward>)]\n",
      "[tensor(1.3431, grad_fn=<MseLossBackward>), tensor(7.3031e-07, grad_fn=<MseLossBackward>)]\n",
      "[tensor(1.3460, grad_fn=<MseLossBackward>), tensor(6.8098e-07, grad_fn=<MseLossBackward>)]\n",
      "[tensor(1.3534, grad_fn=<MseLossBackward>), tensor(1.3480e-09, grad_fn=<MseLossBackward>)]\n",
      "[tensor(1.3470, grad_fn=<MseLossBackward>), tensor(1.8867e-07, grad_fn=<MseLossBackward>)]\n",
      "[tensor(1.3450, grad_fn=<MseLossBackward>), tensor(2.8547e-07, grad_fn=<MseLossBackward>)]\n",
      "[tensor(1.3350, grad_fn=<MseLossBackward>), tensor(1.6029e-06, grad_fn=<MseLossBackward>)]\n",
      "[tensor(1.3172, grad_fn=<MseLossBackward>), tensor(1.0951e-05, grad_fn=<MseLossBackward>)]\n",
      "[tensor(1.3435, grad_fn=<MseLossBackward>), tensor(3.9388e-06, grad_fn=<MseLossBackward>)]\n",
      "[tensor(1.3417, grad_fn=<MseLossBackward>), tensor(1.8773e-07, grad_fn=<MseLossBackward>)]\n",
      "[tensor(1.3386, grad_fn=<MseLossBackward>), tensor(2.2360e-07, grad_fn=<MseLossBackward>)]\n",
      "[tensor(1.3282, grad_fn=<MseLossBackward>), tensor(4.5933e-07, grad_fn=<MseLossBackward>)]\n",
      "[tensor(1.3045, grad_fn=<MseLossBackward>), tensor(6.9052e-06, grad_fn=<MseLossBackward>)]\n"
     ]
    }
   ],
   "source": [
    "optimizer = MADGRAD(final_ks_pinn.parameters(), lr=1e-2, momentum=0.9)\n",
    "final_ks_pinn.train()\n",
    "\n",
    "for i in range(200):\n",
    "    optimizer.step(pcgrad_closure)\n",
    "    if i%10==0:\n",
    "        loss = pcgrad_closure(return_list=True)\n",
    "        print(loss)\n",
    "        \n",
    "# f_opt = torch.optim.LBFGS(final_ks_pinn.parameters(), lr=1e-1, max_iter=300, max_eval=int(1.25*300), history_size=300, line_search_fn='strong_wolfe')\n",
    "# for i in range(200):\n",
    "#     f_opt.step(finetuning_closure)\n",
    "#     if i%10==0:\n",
    "#         loss = finetuning_closure()\n",
    "#         print(loss.item())"
   ]
  },
  {
   "cell_type": "code",
   "execution_count": 8,
   "metadata": {},
   "outputs": [],
   "source": [
    "save(final_ks_pinn, \"./saved_path_inverse_parametric_ks/tmp.pth\")"
   ]
  },
  {
   "cell_type": "code",
   "execution_count": null,
   "metadata": {},
   "outputs": [],
   "source": []
  }
 ],
 "metadata": {
  "kernelspec": {
   "display_name": "Python 3",
   "language": "python",
   "name": "python3"
  },
  "language_info": {
   "codemirror_mode": {
    "name": "ipython",
    "version": 3
   },
   "file_extension": ".py",
   "mimetype": "text/x-python",
   "name": "python",
   "nbconvert_exporter": "python",
   "pygments_lexer": "ipython3",
   "version": "3.9.6"
  }
 },
 "nbformat": 4,
 "nbformat_minor": 4
}
