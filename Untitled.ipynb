{
 "cells": [
  {
   "cell_type": "code",
   "execution_count": 4,
   "metadata": {},
   "outputs": [],
   "source": [
    "import numpy as np\n",
    "\n",
    "X = np.random.rand(100, 100)"
   ]
  },
  {
   "cell_type": "code",
   "execution_count": null,
   "metadata": {},
   "outputs": [],
   "source": [
    "def mur(X, hidden_states=, max_it=10000, tol=):\n",
    "    row, col = X.shape\n",
    "    W = np.random.rand(row, hidden_states)\n",
    "    H = np.random.rand(hidden_states, col)\n",
    "    \n",
    "    for i in range(max_it):\n",
    "        preds = W@H\n",
    "        W = W*((X@H.T)/(preds@H.T))\n",
    "        H_update = (W.T@X)/(W.T@preds)\n",
    "    "
   ]
  }
 ],
 "metadata": {
  "kernelspec": {
   "display_name": "Python 3",
   "language": "python",
   "name": "python3"
  },
  "language_info": {
   "codemirror_mode": {
    "name": "ipython",
    "version": 3
   },
   "file_extension": ".py",
   "mimetype": "text/x-python",
   "name": "python",
   "nbconvert_exporter": "python",
   "pygments_lexer": "ipython3",
   "version": "3.9.5"
  }
 },
 "nbformat": 4,
 "nbformat_minor": 4
}
