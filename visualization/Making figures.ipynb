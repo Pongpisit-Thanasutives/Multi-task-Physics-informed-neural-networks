{
 "cells": [
  {
   "cell_type": "code",
   "execution_count": 1,
   "metadata": {},
   "outputs": [
    {
     "name": "stdout",
     "output_type": "stream",
     "text": [
      "Running Python 3.9.9\n",
      "You can use npar for np.array\n"
     ]
    }
   ],
   "source": [
    "%matplotlib inline\n",
    "import matplotlib.pyplot as plt\n",
    "plt.rcParams.update({'font.size': 12})\n",
    "plt.style.use('science')\n",
    "\n",
    "import numpy as np\n",
    "import sys; sys.path.insert(0, \"../\"); from utils import *"
   ]
  },
  {
   "cell_type": "code",
   "execution_count": 2,
   "metadata": {},
   "outputs": [],
   "source": [
    "eq_name = \"$\\lambda_{1}=10^{-1}$\"\n",
    "feature_importance = [0.3568, 0.2680, 0.2308, 0.1831]\n",
    "\n",
    "# eq_name = \"$\\lambda_{1}=10^{-3}$\"\n",
    "# feature_importance = [0.7907, 0.7421, 0.4588, 0.1757]\n",
    "\n",
    "# eq_name = \"$\\lambda_{1}=10^{-5}$\"\n",
    "# feature_importance = [0.7129, 0.7818, 0.7408, 0.2371]"
   ]
  },
  {
   "cell_type": "code",
   "execution_count": 3,
   "metadata": {},
   "outputs": [],
   "source": [
    "feature_names = [\"u\", \"u_{x}\", \"u_{xx}\", \"u_{xxx}\"]\n",
    "feature_names = ['$'+e+'$' for e in feature_names]\n",
    "feature_importance = npar(feature_importance)"
   ]
  },
  {
   "cell_type": "code",
   "execution_count": 4,
   "metadata": {},
   "outputs": [],
   "source": [
    "# \\n$[u_t = -0.924525uu_{x}+0.002695u_{xx}]\n",
    "def plot_feature_importance_neural_net(feature_importances, feature_names, eq_name=eq_name, save_path=None):\n",
    "    threshold = 1/len(feature_names)\n",
    "    \n",
    "    # split it up\n",
    "    above_threshold = np.maximum(feature_importance - threshold, 0)\n",
    "    below_threshold = np.minimum(feature_importance, threshold)\n",
    "\n",
    "    # and plot it\n",
    "    fig, ax = plt.subplots()\n",
    "    ax.bar(feature_names, below_threshold, 0.35, color=\"g\")\n",
    "    ax.bar(feature_names, above_threshold, 0.35, color=\"r\", bottom=below_threshold)\n",
    "    \n",
    "    # horizontal line indicating the threshold\n",
    "    ax.plot([-0.175, len(feature_names)*0.8], [threshold, threshold], \"k--\")\n",
    "    plt.title(eq_name)\n",
    "    plt.xlabel(\"Partial derivative candidates\")\n",
    "    plt.ylabel(\"Feature importance\")\n",
    "    \n",
    "    if save_path is not None: fig.savefig(save_path, dpi=300)"
   ]
  },
  {
   "cell_type": "code",
   "execution_count": 5,
   "metadata": {},
   "outputs": [
    {
     "data": {
      "image/png": "[encoded data removed]",
      "text/plain": [
       "<Figure size 252x189 with 1 Axes>"
      ]
     },
     "metadata": {
      "needs_background": "light"
     },
     "output_type": "display_data"
    }
   ],
   "source": [
    "# save_path = None\n",
    "save_path = \"./hyperparameter_study/lambda/1e-1.png\"\n",
    "with plt.style.context(['science']):\n",
    "    plot_feature_importance_neural_net(feature_importance, \n",
    "                                       feature_names, \n",
    "                                       eq_name, \n",
    "                                       save_path=save_path)"
   ]
  },
  {
   "cell_type": "code",
   "execution_count": 6,
   "metadata": {},
   "outputs": [],
   "source": [
    "# !rm './tmp.jpg'"
   ]
  },
  {
   "cell_type": "code",
   "execution_count": 7,
   "metadata": {},
   "outputs": [],
   "source": [
    "# No selector network (Not the same as setting lambda_1 to 0.0) \n",
    "# PDE derived using STRidge\n",
    "# u_t = (0.002543 +0.000000i)u_xx\n",
    "#     + (-0.832252 +0.000000i)uf*u_x\n",
    "\n",
    "# 1e-1\n",
    "# tensor([0.2735, 0.1883, 0.2060, 0.2133])\n",
    "# u_t = (0.002695 +0.000000i)u_xx\n",
    "#     + (-0.924525 +0.000000i)uf*u_x\n",
    "\n",
    "# 1e-3\n",
    "# tensor([0.8153, 0.8142, 0.4398, 0.1562])\n",
    "# u_t = (0.003090 +0.000000i)u_xx\n",
    "#     + (-0.970158 +0.000000i)uf*u_x\n",
    "\n",
    "# 1e-5\n",
    "# tensor([0.6721, 0.7903, 0.7139, 0.3486])\n",
    "# u_t = (0.002594 +0.000000i)u_xx\n",
    "#     + (-0.885143 +0.000000i)uf*u_x"
   ]
  },
  {
   "cell_type": "code",
   "execution_count": 8,
   "metadata": {},
   "outputs": [],
   "source": [
    "# Goals!!!\n",
    "# 3000 | eq found by STR | eq after PINN fine-tuning + mean error\n",
    "# 1000 | eq found by STR | eq after PINN fine-tuning + mean error\n",
    "# 500 | eq found by STR | eq after PINN fine-tuning + mean error\n",
    "\n",
    "# 3000\n",
    "# eq found by STR \n",
    "# u_t = (0.003090 +0.000000i)u_xx\n",
    "#     + (-0.970158 +0.000000i)uf*u_x\n",
    "# eq after PINN fine-tuning + mean error\n",
    "# (-0.9994307160377502, 0.0031862353649783444)\n",
    "# (0.07773227423228249, )\n",
    "\n",
    "# 1000\n",
    "# eq found by STR\n",
    "# u_t = (0.002631 +0.000000i)u_xx\n",
    "#     + (-0.860374 +0.000000i)uf*u_x\n",
    "# eq after PINN fine-tuning + mean error\n",
    "# (-0.9891335368156433, 0.0031485233921557665)\n",
    "# (1.0864333669569826, 0.0002129514786863851)\n",
    "\n",
    "# 500\n",
    "# eq found by STR (failed)\n",
    "# u_t = (-0.072116 +0.000000i)uf*u_x"
   ]
  },
  {
   "cell_type": "code",
   "execution_count": 9,
   "metadata": {},
   "outputs": [
    {
     "name": "stdout",
     "output_type": "stream",
     "text": [
      "Populating the interactive namespace from numpy and matplotlib\n"
     ]
    },
    {
     "name": "stderr",
     "output_type": "stream",
     "text": [
      "/usr/local/lib/python3.9/site-packages/IPython/core/magics/pylab.py:159: UserWarning: pylab import has clobbered these variables: ['diff', 'save']\n",
      "`%matplotlib` prevents importing * from pylab and numpy\n",
      "  warn(\"pylab import has clobbered these variables: %s\"  % clobbered +\n"
     ]
    },
    {
     "data": {
      "text/html": [
       "<style type='text/css'>\n",
       ".datatable table.frame { margin-bottom: 0; }\n",
       ".datatable table.frame thead { border-bottom: none; }\n",
       ".datatable table.frame tr.coltypes td {  color: #FFFFFF;  line-height: 6px;  padding: 0 0.5em;}\n",
       ".datatable .bool    { background: #DDDD99; }\n",
       ".datatable .object  { background: #565656; }\n",
       ".datatable .int     { background: #5D9E5D; }\n",
       ".datatable .float   { background: #4040CC; }\n",
       ".datatable .str     { background: #CC4040; }\n",
       ".datatable .time    { background: #40CC40; }\n",
       ".datatable .row_index {  background: var(--jp-border-color3);  border-right: 1px solid var(--jp-border-color0);  color: var(--jp-ui-font-color3);  font-size: 9px;}\n",
       ".datatable .frame tbody td { text-align: left; }\n",
       ".datatable .frame tr.coltypes .row_index {  background: var(--jp-border-color0);}\n",
       ".datatable th:nth-child(2) { padding-left: 12px; }\n",
       ".datatable .hellipsis {  color: var(--jp-cell-editor-border-color);}\n",
       ".datatable .vellipsis {  background: var(--jp-layout-color0);  color: var(--jp-cell-editor-border-color);}\n",
       ".datatable .na {  color: var(--jp-cell-editor-border-color);  font-size: 80%;}\n",
       ".datatable .sp {  opacity: 0.25;}\n",
       ".datatable .footer { font-size: 9px; }\n",
       ".datatable .frame_dimensions {  background: var(--jp-border-color3);  border-top: 1px solid var(--jp-border-color0);  color: var(--jp-ui-font-color3);  display: inline-block;  opacity: 0.6;  padding: 1px 10px 1px 5px;}\n",
       "</style>\n"
      ],
      "text/plain": [
       "<IPython.core.display.HTML object>"
      ]
     },
     "metadata": {},
     "output_type": "display_data"
    },
    {
     "name": "stdout",
     "output_type": "stream",
     "text": [
      "[pyKeOps]: Warning, no cuda detected. Switching to cpu only.\n"
     ]
    },
    {
     "name": "stderr",
     "output_type": "stream",
     "text": [
      "[MLENS] backend: threading\n"
     ]
    }
   ],
   "source": [
    "%load_ext autoreload\n",
    "%autoreload 2\n",
    "%reload_ext autoreload\n",
    "%pylab inline\n",
    "%matplotlib inline\n",
    "pylab.rcParams['figure.figsize'] = (12, 8)\n",
    "from mpl_toolkits.mplot3d import Axes3D\n",
    "import matplotlib.pyplot as plt\n",
    "plt.style.use('science')\n",
    "\n",
    "# always import gbm_algos first !\n",
    "import xgboost, lightgbm, catboost\n",
    "\n",
    "# Core\n",
    "import numpy as np\n",
    "import scipy.io as io\n",
    "from torch.autograd import grad\n",
    "from torch.utils.data import DataLoader, Dataset\n",
    "\n",
    "# Sklearn\n",
    "from sklearn.ensemble import RandomForestRegressor\n",
    "from mlens.ensemble import SuperLearner\n",
    "\n",
    "# Let's do facy optimizers\n",
    "from optimizers import Lookahead, AdamGC, SGDGC\n",
    "from madgrad import MADGRAD\n",
    "from lbfgsnew import LBFGSNew\n",
    "# Modify at /usr/local/lib/python3.9/site-packages/torch_lr_finder/lr_finder.py\n",
    "from torch_lr_finder import LRFinder\n",
    "from onecyclelr import OneCycleLR\n",
    "import pcgrad\n",
    "from pytorch_stats_loss import torch_wasserstein_loss, torch_energy_loss\n",
    "from geomloss import SamplesLoss\n",
    "from utils import *\n",
    "\n",
    "from tqdm import trange\n",
    "\n",
    "from pde_diff import *\n",
    "from robust_pde_diff import print_pde, RobustPCA, Robust_LRSTR"
   ]
  },
  {
   "cell_type": "code",
   "execution_count": 10,
   "metadata": {},
   "outputs": [],
   "source": [
    "DATA_PATH = \"../experimental_data/burgers_shock.mat\"\n",
    "data = io.loadmat(DATA_PATH)\n",
    "\n",
    "t = data['t'].flatten()[:,None]; dt = t[1]-t[0]; nt = len(t)\n",
    "x = data['x'].flatten()[:,None]; dx = x[1]-x[0]; nx = len(x)\n",
    "u = np.real(data['usol'])\n",
    "Exact = u.T\n",
    "\n",
    "X, T = np.meshgrid(x,t)\n",
    "\n",
    "X_star = np.hstack((X.flatten()[:,None], T.flatten()[:,None]))\n",
    "u_star = Exact.flatten()[:,None]              \n",
    "\n",
    "# Doman bounds\n",
    "lb = X_star.min(0)\n",
    "ub = X_star.max(0) "
   ]
  },
  {
   "cell_type": "code",
   "execution_count": 11,
   "metadata": {},
   "outputs": [
    {
     "name": "stderr",
     "output_type": "stream",
     "text": [
      "<ipython-input-11-44ec68fae5da>:2: MatplotlibDeprecationWarning: Calling gca() with keyword arguments was deprecated in Matplotlib 3.4. Starting two minor releases later, gca() will take no keyword arguments. The gca() function should only be used to get the current axes, or if no axes exist, create new axes with default keyword arguments. To create a new axes with non-default arguments, use plt.axes() or plt.subplot().\n",
      "  ax = fig1.gca(projection='3d')\n"
     ]
    },
    {
     "data": {
      "image/png": "[encoded data removed]",
      "text/plain": [
       "<Figure size 252x189 with 1 Axes>"
      ]
     },
     "metadata": {
      "needs_background": "light"
     },
     "output_type": "display_data"
    }
   ],
   "source": [
    "fig1 = figure()\n",
    "ax = fig1.gca(projection='3d')\n",
    "surf = ax.plot_surface(X, T, u.T, rstride=1, cstride=1, cmap=cm.inferno_r, linewidth=0, antialiased=False)\n",
    "title(\"Burgers' Equation\", fontsize = 16)\n",
    "xlabel('x', fontsize = 12)\n",
    "ylabel('t', fontsize = 12)\n",
    "plt.savefig(\"./burgers/ground.png\", dpi=300)\n",
    "plt.show()"
   ]
  },
  {
   "cell_type": "code",
   "execution_count": null,
   "metadata": {},
   "outputs": [],
   "source": []
  }
 ],
 "metadata": {
  "kernelspec": {
   "display_name": "Python 3",
   "language": "python",
   "name": "python3"
  },
  "language_info": {
   "codemirror_mode": {
    "name": "ipython",
    "version": 3
   },
   "file_extension": ".py",
   "mimetype": "text/x-python",
   "name": "python",
   "nbconvert_exporter": "python",
   "pygments_lexer": "ipython3",
   "version": "3.9.9"
  }
 },
 "nbformat": 4,
 "nbformat_minor": 4
}
