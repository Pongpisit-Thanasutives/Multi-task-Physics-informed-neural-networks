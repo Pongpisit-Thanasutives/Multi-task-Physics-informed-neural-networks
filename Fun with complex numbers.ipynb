{
 "cells": [
  {
   "cell_type": "code",
   "execution_count": 8,
   "metadata": {},
   "outputs": [],
   "source": [
    "import numpy as np\n",
    "import torch\n",
    "import torch.nn as nn\n",
    "import torch.nn.functional as F\n",
    "from torchvision import datasets, transforms\n",
    "from complexPyTorch.complexLayers import ComplexBatchNorm2d, ComplexConv2d, ComplexLinear\n",
    "from complexPyTorch.complexFunctions import complex_relu, complex_max_pool2d\n",
    "from utils import *"
   ]
  },
  {
   "cell_type": "code",
   "execution_count": 9,
   "metadata": {},
   "outputs": [],
   "source": [
    "def random_complex_number(r, c):\n",
    "    a, b = np.random.rand(r, c), np.random.rand(r, c)\n",
    "    return a + b*complex(0, 1)"
   ]
  },
  {
   "cell_type": "code",
   "execution_count": 10,
   "metadata": {},
   "outputs": [],
   "source": [
    "spatial = random_complex_number(100, 1)\n",
    "time = random_complex_number(100, 1)\n",
    "y = spatial**2 + time\n",
    "spatial = torch.tensor(spatial, dtype=torch.complex64).requires_grad_(True)\n",
    "time = torch.tensor(time, dtype=torch.complex64).requires_grad_(True)\n",
    "y = torch.tensor(y, dtype=torch.complex64).reshape(-1, 1)"
   ]
  },
  {
   "cell_type": "code",
   "execution_count": 11,
   "metadata": {},
   "outputs": [],
   "source": [
    "def cat(v1, v2): return torch.cat([v1, v2], dim=-1)\n",
    "\n",
    "class ComplexNet(nn.Module):\n",
    "    def __init__(self, in_features, hidden_features, out_features):\n",
    "        super(ComplexNet, self).__init__()\n",
    "        self.linear1 = ComplexLinear(in_features, hidden_features)\n",
    "        self.linear2 = ComplexLinear(hidden_features, out_features)\n",
    "             \n",
    "    def forward(self, x):\n",
    "        x = self.linear1(x)\n",
    "        x = torch.tanh(x)\n",
    "        x = self.linear2(x)\n",
    "        return x"
   ]
  },
  {
   "cell_type": "code",
   "execution_count": 12,
   "metadata": {},
   "outputs": [
    {
     "name": "stdout",
     "output_type": "stream",
     "text": [
      "3.2557153701782227\n",
      "4.236429958837107e-06\n",
      "2.091291435135645e-06\n"
     ]
    }
   ],
   "source": [
    "device = torch.device('cuda' if torch.cuda.is_available() else 'cpu')\n",
    "model = ComplexNet(2, 50, 1).to(device)\n",
    "optimizer = torch.optim.Adam(model.parameters(), lr=0.01)\n",
    "epochs = 15000\n",
    "target = torch.zeros(y.shape).to(device)\n",
    "model.train()\n",
    "for i in range(epochs):\n",
    "    optimizer.zero_grad()\n",
    "    loss = F.mse_loss((model(torch.cat([spatial, time], dim=-1))-y).abs(), target, reduction='mean')\n",
    "    loss.backward()\n",
    "    if i % 5000==0:\n",
    "        print(loss.item())\n",
    "    optimizer.step()"
   ]
  },
  {
   "cell_type": "code",
   "execution_count": 18,
   "metadata": {},
   "outputs": [
    {
     "data": {
      "text/plain": [
       "tensor(3.4451e-05, grad_fn=<MeanBackward0>)"
      ]
     },
     "execution_count": 18,
     "metadata": {},
     "output_type": "execute_result"
    }
   ],
   "source": [
    "model.eval()\n",
    "predictions = model(cat(spatial, time))\n",
    "# chk derivatives wrt time -> the real part should be close to torch.ones\n",
    "((torch.real(diff(predictions, time)[0]) - torch.ones(size=predictions.shape))**2).mean()"
   ]
  }
 ],
 "metadata": {
  "kernelspec": {
   "display_name": "Python 3",
   "language": "python",
   "name": "python3"
  },
  "language_info": {
   "codemirror_mode": {
    "name": "ipython",
    "version": 3
   },
   "file_extension": ".py",
   "mimetype": "text/x-python",
   "name": "python",
   "nbconvert_exporter": "python",
   "pygments_lexer": "ipython3",
   "version": "3.9.4"
  }
 },
 "nbformat": 4,
 "nbformat_minor": 4
}
