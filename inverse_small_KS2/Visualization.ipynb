{
 "cells": [
  {
   "cell_type": "code",
   "execution_count": 1,
   "metadata": {},
   "outputs": [
    {
     "data": {
      "text/html": [
       "<style type='text/css'>\n",
       ".datatable table.frame { margin-bottom: 0; }\n",
       ".datatable table.frame thead { border-bottom: none; }\n",
       ".datatable table.frame tr.coltypes td {  color: #FFFFFF;  line-height: 6px;  padding: 0 0.5em;}\n",
       ".datatable .bool    { background: #DDDD99; }\n",
       ".datatable .object  { background: #565656; }\n",
       ".datatable .int     { background: #5D9E5D; }\n",
       ".datatable .float   { background: #4040CC; }\n",
       ".datatable .str     { background: #CC4040; }\n",
       ".datatable .time    { background: #40CC40; }\n",
       ".datatable .row_index {  background: var(--jp-border-color3);  border-right: 1px solid var(--jp-border-color0);  color: var(--jp-ui-font-color3);  font-size: 9px;}\n",
       ".datatable .frame tbody td { text-align: left; }\n",
       ".datatable .frame tr.coltypes .row_index {  background: var(--jp-border-color0);}\n",
       ".datatable th:nth-child(2) { padding-left: 12px; }\n",
       ".datatable .hellipsis {  color: var(--jp-cell-editor-border-color);}\n",
       ".datatable .vellipsis {  background: var(--jp-layout-color0);  color: var(--jp-cell-editor-border-color);}\n",
       ".datatable .na {  color: var(--jp-cell-editor-border-color);  font-size: 80%;}\n",
       ".datatable .sp {  opacity: 0.25;}\n",
       ".datatable .footer { font-size: 9px; }\n",
       ".datatable .frame_dimensions {  background: var(--jp-border-color3);  border-top: 1px solid var(--jp-border-color0);  color: var(--jp-ui-font-color3);  display: inline-block;  opacity: 0.6;  padding: 1px 10px 1px 5px;}\n",
       "</style>\n"
      ],
      "text/plain": [
       "<IPython.core.display.HTML object>"
      ]
     },
     "metadata": {},
     "output_type": "display_data"
    },
    {
     "name": "stdout",
     "output_type": "stream",
     "text": [
      "Running Python 3.9.9\n",
      "You can use npar for np.array\n"
     ]
    }
   ],
   "source": [
    "%load_ext autoreload\n",
    "%autoreload 2 \n",
    "%reload_ext autoreload\n",
    "\n",
    "# plotting\n",
    "%matplotlib inline\n",
    "import matplotlib.pyplot as plt\n",
    "plt.rcParams.update({'font.size': 10})\n",
    "plt.style.use('science')\n",
    "import matplotlib.gridspec as gridspec\n",
    "from mpl_toolkits.axes_grid1 import make_axes_locatable\n",
    "\n",
    "# always import gbm_algos first !\n",
    "import xgboost, lightgbm, catboost\n",
    "from gplearn.genetic import SymbolicRegressor\n",
    "\n",
    "# To access the contents of the parent dir\n",
    "import sys; sys.path.insert(0, '../')\n",
    "import os\n",
    "from scipy.io import loadmat\n",
    "from utils import *\n",
    "from preprocess import *\n",
    "from models import RobustPCANN\n",
    "\n",
    "# Let's do facy optimizers\n",
    "from optimizers import Lookahead, AdamGC, SGDGC\n",
    "from madgrad import MADGRAD\n",
    "from lbfgsnew import LBFGSNew\n",
    "\n",
    "from pytorch_robust_pca import *\n",
    "\n",
    "# Modify at /usr/local/lib/python3.9/site-packages/torch_lr_finder/lr_finder.py\n",
    "from torch_lr_finder import LRFinder\n",
    "\n",
    "# Tracking\n",
    "from tqdm import trange\n",
    "\n",
    "import sympy\n",
    "import sympytorch\n",
    "\n",
    "from pde_diff import *"
   ]
  },
  {
   "cell_type": "code",
   "execution_count": 2,
   "metadata": {},
   "outputs": [
    {
     "name": "stdout",
     "output_type": "stream",
     "text": [
      "Data is arranged in an uniform grid\n",
      "Fine-tuning with 60000 samples\n",
      "Clean (x, t)\n",
      "Clean labels\n",
      "Not including N_res\n"
     ]
    }
   ],
   "source": [
    "include_N_res = False\n",
    "\n",
    "# DATA_PATH = '../deephpms_data/KS.mat'\n",
    "DATA_PATH = '../PDE_FIND_experimental_datasets/kuramoto_sivishinky.mat'\n",
    "X, T, Exact = space_time_grid(data_path=DATA_PATH, real_solution=True)\n",
    "X_star, u_star = get_trainable_data(X, T, Exact)\n",
    "\n",
    "# Doman bounds\n",
    "lb = X_star.min(axis=0)\n",
    "ub = X_star.max(axis=0)\n",
    "\n",
    "N = 60000 # 20000, 30000, 60000\n",
    "print(f\"Fine-tuning with {N} samples\")\n",
    "# idx = np.random.choice(X_star.shape[0], N, replace=False)\n",
    "idx = np.arange(N)\n",
    "X_u_train = X_star[idx, :]\n",
    "u_train = u_star[idx,:]\n",
    "\n",
    "noise_intensity = 0.01\n",
    "noisy_xt = False; noisy_labels = False\n",
    "if noisy_xt: X_u_train = perturb(X_u_train, noise_intensity); print(\"Noisy (x, t)\")\n",
    "else: print(\"Clean (x, t)\")\n",
    "if noisy_labels: u_train = perturb(u_train, noise_intensity); print(\"Noisy labels\")\n",
    "else: print(\"Clean labels\")\n",
    "\n",
    "# Unsup data\n",
    "if include_N_res:\n",
    "    N_res = N//2\n",
    "    idx_res = np.array(range(X_star.shape[0]-1))[~idx]\n",
    "    idx_res = np.random.choice(idx_res.shape[0], N_res, replace=True)\n",
    "    X_res = X_star[idx_res, :]\n",
    "    print(f\"Fine-tuning with {N_res} unsup samples\")\n",
    "    X_u_train = np.vstack([X_u_train, X_res])\n",
    "    u_train = np.vstack([u_train, torch.rand(X_res.shape[0], 1) - 1000])\n",
    "    # del X_res\n",
    "else: print(\"Not including N_res\")\n",
    "\n",
    "# Convert to torch.tensor\n",
    "X_u_train = to_tensor(X_u_train, True)\n",
    "u_train = to_tensor(u_train, False)\n",
    "X_star = to_tensor(X_star, True)\n",
    "u_star = to_tensor(u_star, False)\n",
    "\n",
    "# lb and ub are used in adversarial training\n",
    "scaling_factor = 1.0\n",
    "lb = scaling_factor*to_tensor(lb, False)\n",
    "ub = scaling_factor*to_tensor(ub, False)\n",
    "\n",
    "# Feature names, base on the symbolic regression results (only the important features)\n",
    "feature_names=('uf', 'u_x', 'u_xx', 'u_xxxx'); feature2index = {}\n",
    "\n",
    "# del X_star, u_star"
   ]
  },
  {
   "cell_type": "code",
   "execution_count": 3,
   "metadata": {},
   "outputs": [
    {
     "name": "stdout",
     "output_type": "stream",
     "text": [
      "-0.92*u_x*uf - 0.97*u_xx - 0.902*u_xxxx {u_x, u_xx, uf, u_xxxx}\n"
     ]
    },
    {
     "data": {
      "text/plain": [
       "SymPyModule(expressions=(-0.92*u_x*uf - 0.97*u_xx - 0.902*u_xxxx,))"
      ]
     },
     "execution_count": 3,
     "metadata": {},
     "output_type": "execute_result"
    }
   ],
   "source": [
    "# Noisy (x, t) and noisy labels\n",
    "# PDE derived using STRidge\n",
    "# u_t = (-0.912049 +0.000000i)u_xx\n",
    "#     + (-0.909050 +0.000000i)u_xxxx\n",
    "#     + (-0.951584 +0.000000i)uf*u_x\n",
    "\n",
    "# Clean (x, t) but noisy labels\n",
    "# PDE derived using STRidge\n",
    "# u_t = (-0.942656 +0.000000i)u_xx\n",
    "#     + (-0.900600 +0.000000i)u_xxxx\n",
    "#     + (-0.919862 +0.000000i)uf*u_x\n",
    "\n",
    "# Clean all\n",
    "program = '''\n",
    "-0.97*u_xx-0.902*u_xxxx-0.920*uf*u_x\n",
    "''' \n",
    "\n",
    "pde_expr, variables = build_exp(program); print(pde_expr, variables)\n",
    "mod = sympytorch.SymPyModule(expressions=[pde_expr]); mod.train()"
   ]
  },
  {
   "cell_type": "code",
   "execution_count": 4,
   "metadata": {},
   "outputs": [],
   "source": [
    "class RobustPINN(nn.Module):\n",
    "    def __init__(self, model, loss_fn, index2features, scale=False, lb=None, ub=None, pretrained=False, noiseless_mode=True, init_cs=(0.5, 0.5), init_betas=(0.0, 0.0)):\n",
    "        super(RobustPINN, self).__init__()\n",
    "        self.model = model\n",
    "        if not pretrained: self.model.apply(self.xavier_init)\n",
    "        \n",
    "        self.noiseless_mode = noiseless_mode\n",
    "        if self.noiseless_mode: print(\"No denoising\")\n",
    "        else: print(\"With denoising method\")\n",
    "        \n",
    "        self.in_fft_nn = None; self.out_fft_nn = None\n",
    "        self.inp_rpca = None; self.out_rpca = None\n",
    "        if not self.noiseless_mode:\n",
    "            # FFTNN\n",
    "            self.in_fft_nn = FFTTh(c=init_cs[0])\n",
    "            self.out_fft_nn = FFTTh(c=init_cs[1])\n",
    "\n",
    "            # Robust Beta-PCA\n",
    "            self.inp_rpca = RobustPCANN(beta=init_betas[0], is_beta_trainable=True, inp_dims=2, hidden_dims=32)\n",
    "            self.out_rpca = RobustPCANN(beta=init_betas[1], is_beta_trainable=True, inp_dims=1, hidden_dims=32)\n",
    "        \n",
    "        self.callable_loss_fn = loss_fn\n",
    "        self.init_parameters = [nn.Parameter(torch.tensor(x.item())) for x in loss_fn.parameters()]\n",
    "        self.param0 = self.init_parameters[0]\n",
    "        self.param1 = self.init_parameters[1]\n",
    "        self.param2 = self.init_parameters[2]\n",
    "        del self.callable_loss_fn, self.init_parameters\n",
    "        \n",
    "        self.index2features = index2features; self.feature2index = {}\n",
    "        for idx, fn in enumerate(self.index2features): self.feature2index[fn] = str(idx)\n",
    "        self.scale = scale; self.lb, self.ub = lb, ub\n",
    "        self.diff_flag = diff_flag(self.index2features)\n",
    "        \n",
    "    def xavier_init(self, m):\n",
    "        if type(m) == nn.Linear:\n",
    "            torch.nn.init.xavier_uniform_(m.weight)\n",
    "            m.bias.data.fill_(0.01)\n",
    "        \n",
    "    def forward(self, x, t):\n",
    "        H = torch.cat([x, t], dim=1)\n",
    "        if self.scale: H = self.neural_net_scale(H)\n",
    "        return self.model(H)\n",
    "    \n",
    "    def loss(self, X_input, X_input_noise, y_input, y_input_noise, update_network_params=True, update_pde_params=True):\n",
    "        # Denoising process\n",
    "        if not self.noiseless_mode:\n",
    "            # (1) Denoising FFT on (x, t)\n",
    "            # This line returns the approx. recon.\n",
    "            X_input_noise = cat(torch.fft.ifft(self.in_fft_nn(X_input_noise[1])*X_input_noise[0]).real.reshape(-1, 1), \n",
    "                                torch.fft.ifft(self.in_fft_nn(X_input_noise[3])*X_input_noise[2]).real.reshape(-1, 1))\n",
    "            X_input_noise = X_input-X_input_noise\n",
    "            X_input = self.inp_rpca(X_input, X_input_noise, normalize=True)\n",
    "            \n",
    "            # (2) Denoising FFT on y_input\n",
    "            y_input_noise = y_input-torch.fft.ifft(self.out_fft_nn(y_input_noise[1])*y_input_noise[0]).real.reshape(-1, 1)\n",
    "            y_input = self.out_rpca(y_input, y_input_noise, normalize=True)\n",
    "        \n",
    "        grads_dict, u_t = self.grads_dict(X_input[:, 0:1], X_input[:, 1:2])\n",
    "        \n",
    "        total_loss = []\n",
    "        # MSE Loss\n",
    "        if update_network_params:\n",
    "            mse_loss = F.mse_loss(grads_dict[\"uf\"], y_input)\n",
    "            total_loss.append(mse_loss)\n",
    "            \n",
    "        # PDE Loss\n",
    "        if update_pde_params:\n",
    "            u_t_pred = (self.param0*grads_dict[\"uf\"]*grads_dict[\"u_x\"])+(self.param1*grads_dict[\"u_xx\"])+(self.param2*grads_dict[\"u_xxxx\"])\n",
    "            l_eq = F.mse_loss(u_t_pred, u_t)\n",
    "            total_loss.append(l_eq)\n",
    "            \n",
    "        return total_loss\n",
    "    \n",
    "    def grads_dict(self, x, t):\n",
    "        uf = self.forward(x, t)\n",
    "        u_t = self.gradients(uf, t)[0]\n",
    "        u_x = self.gradients(uf, x)[0]\n",
    "        u_xx = self.gradients(u_x, x)[0]\n",
    "        u_xxx = self.gradients(u_xx, x)[0]\n",
    "        u_xxxx = self.gradients(u_xxx, x)[0]        \n",
    "        return {\"uf\":uf, \"u_x\":u_x, \"u_xx\":u_xx, \"u_xxxx\":u_xxxx}, u_t\n",
    "    \n",
    "    def get_selector_data(self, x, t):\n",
    "        uf = self.forward(x, t)\n",
    "        u_t = self.gradients(uf, t)[0]\n",
    "        \n",
    "        ### PDE Loss calculation ###\n",
    "        # 'uf', 'u_x', 'u_xx', 'u_xxxx', 'u_xxx'\n",
    "        u_x = self.gradients(uf, x)[0]\n",
    "        u_xx = self.gradients(u_x, x)[0]\n",
    "        u_xxx = self.gradients(u_xx, x)[0]\n",
    "        u_xxxx = self.gradients(u_xxx, x)[0]\n",
    "        u_xxxxx = self.gradients(u_xxxx, x)[0]\n",
    "        derivatives = []\n",
    "        derivatives.append(uf)\n",
    "        derivatives.append(u_x)\n",
    "        derivatives.append(u_xx)\n",
    "        derivatives.append(u_xxx)\n",
    "        derivatives.append(u_xxxx)\n",
    "        derivatives.append(u_xxxxx)\n",
    "        \n",
    "        return torch.cat(derivatives, dim=1), u_t\n",
    "    \n",
    "    def gradients(self, func, x):\n",
    "        return grad(func, x, create_graph=True, retain_graph=True, grad_outputs=torch.ones(func.shape))\n",
    "    \n",
    "    def neural_net_scale(self, inp): \n",
    "        return -1.0+2.0*(inp-self.lb)/(self.ub-self.lb)"
   ]
  },
  {
   "cell_type": "code",
   "execution_count": 5,
   "metadata": {},
   "outputs": [
    {
     "name": "stdout",
     "output_type": "stream",
     "text": [
      "Using old implementation of TorchMLP. See models.py for more new model-related source code.\n",
      "With denoising method\n",
      "Loaded the model's weights with strict=False\n"
     ]
    }
   ],
   "source": [
    "noiseless_mode = False\n",
    "model = TorchMLP(dimensions=[2, 50, 50, 50 ,50, 50, 1], activation_function=nn.Tanh, bn=nn.LayerNorm, dropout=None)\n",
    "\n",
    "# Pretrained model\n",
    "semisup_model_state_dict = cpu_load(\"./new_saved_path/rudy_KS_chaotic_semisup_model_with_LayerNormDropout_without_physical_reg_trained60000labeledsamples_trained0unlabeledsamples.pth\")\n",
    "parameters = OrderedDict()\n",
    "# Filter only the parts that I care about renaming (to be similar to what defined in TorchMLP).\n",
    "inner_part = \"network.model.\"\n",
    "for p in semisup_model_state_dict:\n",
    "    if inner_part in p:\n",
    "        parameters[p.replace(inner_part, \"\")] = semisup_model_state_dict[p]\n",
    "model.load_state_dict(parameters)\n",
    "\n",
    "pinn = RobustPINN(model=model, loss_fn=mod, \n",
    "                  index2features=feature_names, scale=True, lb=lb, ub=ub, \n",
    "                  pretrained=True, noiseless_mode=noiseless_mode)\n",
    "\n",
    "pinn_weights = \"/Users/pongpisit/Desktop/kuramoto-sivashinsky-solver/weights/dft_fixedcoeffs_last_noisy2.pth\"\n",
    "# pinn_weights = \"/Users/pongpisit/Desktop/kuramoto-sivashinsky-solver/weights/dft_fixedcoeffs_last_noisy1.pth\"\n",
    "# pinn_weights = \"/Users/pongpisit/Desktop/kuramoto-sivashinsky-solver/weights/dft_fixedcoeffs_cleanall.pth\"\n",
    "pinn = load_weights(pinn, pinn_weights)\n",
    "\n",
    "# assigning the prefered loss_fn\n",
    "# model = pinn.model\n",
    "# pinn = RobustPINN(model=model, loss_fn=mod, \n",
    "#                   index2features=feature_names, scale=True, lb=lb, ub=ub, \n",
    "#                   pretrained=True, noiseless_mode=noiseless_mode)"
   ]
  },
  {
   "cell_type": "markdown",
   "metadata": {},
   "source": [
    "#### Use STRidge to discover the hidden relation (on top of the pretrained solver net)"
   ]
  },
  {
   "cell_type": "code",
   "execution_count": 6,
   "metadata": {},
   "outputs": [
    {
     "data": {
      "text/plain": [
       "tensor(0.0004, grad_fn=<MseLossBackward0>)"
      ]
     },
     "execution_count": 6,
     "metadata": {},
     "output_type": "execute_result"
    }
   ],
   "source": [
    "F.mse_loss(pinn(X_u_train[:, 0:1], X_u_train[:, 1:2]), u_train)"
   ]
  },
  {
   "cell_type": "code",
   "execution_count": 7,
   "metadata": {},
   "outputs": [],
   "source": [
    "lets_pretrain = False"
   ]
  },
  {
   "cell_type": "code",
   "execution_count": 8,
   "metadata": {},
   "outputs": [],
   "source": [
    "if lets_pretrain:\n",
    "    xx, tt = X_u_train[:, 0:1], X_u_train[:, 1:2]\n",
    "\n",
    "    pretraining_optimizer = LBFGSNew(pinn.model.parameters(),\n",
    "                                     lr=1e-1, max_iter=500,\n",
    "                                     max_eval=int(500*1.25), history_size=300,\n",
    "                                     line_search_fn=True, batch_mode=False)\n",
    "\n",
    "    model.train()\n",
    "    for i in range(1): # 1, 5, 200\n",
    "        def pretraining_closure():\n",
    "            global xx, tt, u_train\n",
    "            if torch.is_grad_enabled(): pretraining_optimizer.zero_grad()\n",
    "            mse_loss = F.mse_loss(pinn(xx, tt), u_train)\n",
    "            if mse_loss.requires_grad: mse_loss.backward(retain_graph=False)\n",
    "            return mse_loss\n",
    "\n",
    "        pretraining_optimizer.step(pretraining_closure)\n",
    "\n",
    "        if (i%1)==0:\n",
    "            l = pretraining_closure()\n",
    "            curr_loss = l.item()\n",
    "            print(\"Epoch {}: \".format(i), curr_loss)"
   ]
  },
  {
   "cell_type": "code",
   "execution_count": 9,
   "metadata": {},
   "outputs": [],
   "source": [
    "# inn = u_star\n",
    "# Ut, R, rhs_des = build_linear_system(inn.reshape(x.shape[0], t.shape[0]), t[1]-t[0], x[2]-x[1], D=5, P=5, time_diff = 'FD', space_diff = 'FD')\n",
    "# w = TrainSTRidge(R,Ut,10**-6,50)\n",
    "# print(\"PDE derived using STRidge\")\n",
    "# print_pde(w, rhs_des)"
   ]
  },
  {
   "cell_type": "code",
   "execution_count": 10,
   "metadata": {},
   "outputs": [],
   "source": [
    "t_steps = 21\n",
    "NUMBER = 1024*t_steps # 20000, 21000\n",
    "NUMBER = min(NUMBER, X_star.shape[0])\n",
    "start = 0\n",
    "xx, tt = X_star[1024*start:NUMBER, 0:1], X_star[1024*start:NUMBER, 1:2]"
   ]
  },
  {
   "cell_type": "code",
   "execution_count": 11,
   "metadata": {},
   "outputs": [],
   "source": [
    "uf = pinn(xx, tt)\n",
    "u_t = pinn.gradients(uf, tt)[0]\n",
    "\n",
    "### PDE Loss calculation ###\n",
    "# 'uf', 'u_x', 'u_xx', 'u_xxxx', 'u_xxx'\n",
    "u_x = pinn.gradients(uf, xx)[0]\n",
    "u_xx = pinn.gradients(u_x, xx)[0]\n",
    "u_xxx = pinn.gradients(u_xx, xx)[0]\n",
    "u_xxxx = pinn.gradients(u_xxx, xx)[0]\n",
    "# u_xxxxx = pinn.gradients(u_xxxx, xx)[0]\n",
    "\n",
    "derivatives = []\n",
    "derivatives.append(uf)\n",
    "derivatives.append(u_x)\n",
    "derivatives.append(u_xx)\n",
    "# derivatives.append(u_xxx)\n",
    "derivatives.append(u_xxxx)\n",
    "# derivatives.append(u_xxxxx)\n",
    "derivatives = torch.cat(derivatives, dim=1)\n",
    "\n",
    "derivatives = derivatives.detach().numpy()\n",
    "u_t = u_t.detach().numpy()"
   ]
  },
  {
   "cell_type": "code",
   "execution_count": 12,
   "metadata": {},
   "outputs": [],
   "source": [
    "feature_names = [\"uf\", \"u_x\", \"u_xx\", \"u_xxxx\"]\n",
    "\n",
    "X_input = derivatives\n",
    "y_input = u_t\n",
    "\n",
    "poly = PolynomialFeatures(degree=2, interaction_only=True, include_bias=False)\n",
    "X_input = poly.fit_transform(X_input)\n",
    "\n",
    "poly_feature_names = poly.get_feature_names(feature_names)\n",
    "for i, f in enumerate(poly_feature_names): poly_feature_names[i] = f.replace(\" \", \"*\")"
   ]
  },
  {
   "cell_type": "code",
   "execution_count": 13,
   "metadata": {},
   "outputs": [
    {
     "name": "stdout",
     "output_type": "stream",
     "text": [
      "PDE derived using STRidge\n",
      "u_t = (-0.856729 +0.000000i)u_xx\n",
      "    + (-0.779955 +0.000000i)u_xxxx\n",
      "    + (-0.788757 +0.000000i)uf*u_x\n",
      "   \n"
     ]
    }
   ],
   "source": [
    "# # Set normalize=1\n",
    "# w = TrainSTRidge(X_input[:, :], y_input, 1e-6, 100) # 1st run\n",
    "# w = TrainSTRidge(X_input[:, :], y_input, 1e-6, 10, normalize=1) # 2nd run\n",
    "# w = TrainSTRidge(X_input[:, :], y_input, 1e-4, 5, normalize=1, l0_penalty=0.2) # rudy\n",
    "w = TrainSTRidge(X_input[:, :], y_input, 1e-6, 2, normalize=2, l0_penalty=0.2)\n",
    "print(\"PDE derived using STRidge\")\n",
    "print_pde(w, poly_feature_names[:])"
   ]
  },
  {
   "cell_type": "code",
   "execution_count": 14,
   "metadata": {},
   "outputs": [],
   "source": [
    "def to_text(coeffs, feature_names):\n",
    "    out_text = \"u_t = \"\n",
    "    for idx in np.nonzero(sols[-1][\"B\"])[0]:\n",
    "        out_text += f\"{coeffs[idx]}\"+feature_names[idx]\n",
    "    return out_text"
   ]
  },
  {
   "cell_type": "code",
   "execution_count": 15,
   "metadata": {},
   "outputs": [],
   "source": [
    "from l0bnb import fit_path\n",
    "from abess import abessLm"
   ]
  },
  {
   "cell_type": "code",
   "execution_count": 16,
   "metadata": {},
   "outputs": [
    {
     "name": "stdout",
     "output_type": "stream",
     "text": [
      "Preprocessing Data.\n",
      "BnB Started.\n",
      "Iteration: 1. Number of non-zeros:  1\n",
      "Iteration: 2. Number of non-zeros:  3\n"
     ]
    },
    {
     "data": {
      "text/plain": [
       "'u_t = -0.6477919192887923u_xx-0.49011346675833245u_xxxx-0.6048357772598281uf*u_x'"
      ]
     },
     "execution_count": 16,
     "metadata": {},
     "output_type": "execute_result"
    }
   ],
   "source": [
    "sols = fit_path(X_input.astype(np.float64), \n",
    "             np.ravel(y_input).astype(np.float64), \n",
    "             lambda_2 = 1e-3, max_nonzeros = 3, normalize=True, intercept=False)\n",
    "to_text(sols[-1]['B'], poly_feature_names)"
   ]
  },
  {
   "cell_type": "code",
   "execution_count": 17,
   "metadata": {},
   "outputs": [
    {
     "data": {
      "text/plain": [
       "'u_t = -0.8567644299543099u_xx-0.7799707846195983u_xxxx-0.7887464320720021uf*u_x'"
      ]
     },
     "execution_count": 17,
     "metadata": {},
     "output_type": "execute_result"
    }
   ],
   "source": [
    "abess_model = abessLm(support_size=3)\n",
    "abess_model.fit(X_input, y_input)\n",
    "to_text(abess_model.coef_, poly_feature_names)"
   ]
  },
  {
   "cell_type": "code",
   "execution_count": 18,
   "metadata": {},
   "outputs": [
    {
     "data": {
      "text/plain": [
       "0.06336029"
      ]
     },
     "execution_count": 18,
     "metadata": {},
     "output_type": "execute_result"
    }
   ],
   "source": [
    "# 1e-4\n",
    "uf = pinn(X_star[:, 0:1], X_star[:, 1:2]).detach().numpy()\n",
    "mean_squared_error(uf, u_star[:].numpy())"
   ]
  },
  {
   "cell_type": "code",
   "execution_count": 19,
   "metadata": {},
   "outputs": [
    {
     "data": {
      "text/plain": [
       "0.23585932"
      ]
     },
     "execution_count": 19,
     "metadata": {},
     "output_type": "execute_result"
    }
   ],
   "source": [
    "relative_l2_error(uf, u_star[:].numpy())"
   ]
  },
  {
   "cell_type": "code",
   "execution_count": 20,
   "metadata": {},
   "outputs": [
    {
     "data": {
      "text/plain": [
       "array([ 0. ,  0.4,  0.8,  1.2,  1.6,  2. ,  2.4,  2.8,  3.2,  3.6,  4. ,\n",
       "        4.4,  4.8,  5.2,  5.6,  6. ,  6.4,  6.8,  7.2,  7.6,  8. ,  8.4,\n",
       "        8.8,  9.2,  9.6, 10. , 10.4, 10.8, 11.2, 11.6, 12. , 12.4, 12.8,\n",
       "       13.2, 13.6, 14. , 14.4, 14.8, 15.2, 15.6, 16. , 16.4, 16.8, 17.2,\n",
       "       17.6, 18. , 18.4, 18.8, 19.2, 19.6, 20. , 20.4, 20.8, 21.2, 21.6,\n",
       "       22. , 22.4, 22.8, 23.2, 23.6, 24. , 24.4, 24.8, 25.2, 25.6, 26. ,\n",
       "       26.4, 26.8, 27.2, 27.6, 28. , 28.4, 28.8, 29.2, 29.6, 30. , 30.4,\n",
       "       30.8, 31.2, 31.6, 32. , 32.4, 32.8, 33.2, 33.6, 34. , 34.4, 34.8,\n",
       "       35.2, 35.6, 36. , 36.4, 36.8, 37.2, 37.6, 38. , 38.4, 38.8, 39.2,\n",
       "       39.6, 40. , 40.4, 40.8, 41.2, 41.6, 42. , 42.4, 42.8, 43.2, 43.6,\n",
       "       44. ])"
      ]
     },
     "execution_count": 20,
     "metadata": {},
     "output_type": "execute_result"
    }
   ],
   "source": [
    "T[:,0][:111]"
   ]
  },
  {
   "cell_type": "code",
   "execution_count": 21,
   "metadata": {},
   "outputs": [
    {
     "name": "stderr",
     "output_type": "stream",
     "text": [
      "100%|██████████| 110/110 [00:08<00:00, 13.51it/s]\n"
     ]
    }
   ],
   "source": [
    "end = 111\n",
    "performances = []\n",
    "for i in trange(1, end):\n",
    "    NUMBER = min(1024*i, X_star.shape[0])\n",
    "    xx, tt = X_star[:NUMBER, 0:1], X_star[:NUMBER, 1:2]\n",
    "    uf = pinn(xx, tt).detach().numpy()\n",
    "    performances.append(relative_l2_error(uf, u_star[:NUMBER].numpy()))"
   ]
  },
  {
   "cell_type": "code",
   "execution_count": 22,
   "metadata": {},
   "outputs": [
    {
     "data": {
      "image/png": "[encoded data removed]",
      "text/plain": [
       "<Figure size 252x189 with 1 Axes>"
      ]
     },
     "metadata": {
      "needs_background": "light"
     },
     "output_type": "display_data"
    }
   ],
   "source": [
    "plt.plot(T[:, 0][1:end], performances)\n",
    "plt.axvline(x=8.0, color='black', linestyle='--', label=\"t = 8.0\")\n",
    "plt.ylabel(\"Relative $L_{2}$ error\")\n",
    "plt.xlabel('t')\n",
    "# plt.title(\"Noiseless\")\n",
    "plt.title(\"$u$ + Noise \\& $(x, t)$ + Noise\")\n",
    "plt.legend(loc='best')\n",
    "plt.savefig(\"./vis_pics/loss_plots/loss_plot_noisy2.png\", dpi=300)\n",
    "plt.show()"
   ]
  },
  {
   "cell_type": "code",
   "execution_count": 23,
   "metadata": {},
   "outputs": [
    {
     "data": {
      "image/png": "[encoded data removed]",
      "text/plain": [
       "<Figure size 252x189 with 2 Axes>"
      ]
     },
     "metadata": {
      "needs_background": "light"
     },
     "output_type": "display_data"
    }
   ],
   "source": [
    "fig, ax = plt.subplots(1, 1)\n",
    "\n",
    "# Artificial training points\n",
    "# ax.scatter(X_u_train_np[:, 1:2], X_u_train_np[:, 0:1], \n",
    "#            marker='x', color='black')\n",
    "\n",
    "h = ax.imshow(Exact.T, interpolation='nearest', cmap='jet', \n",
    "              extent=[lb[1], ub[1], lb[0], ub[0]], \n",
    "              origin='lower', aspect='auto')\n",
    "\n",
    "ax.set_title(\"Exact Dynamics: $u_t = -uu_{x}-u_{xx}-u_{xxxx}$\", fontsize = 10)\n",
    "ax.set_xlabel('T')\n",
    "ax.set_ylabel('X')\n",
    "\n",
    "divider = make_axes_locatable(ax)\n",
    "cax = divider.append_axes(\"right\", size=\"5%\", pad=0.05)\n",
    "fig.colorbar(h, cax=cax)\n",
    "\n",
    "# fig.savefig(\"./vis_pics/Exact_Dynamics.png\", dpi=300)\n",
    "plt.show()"
   ]
  },
  {
   "cell_type": "code",
   "execution_count": 24,
   "metadata": {},
   "outputs": [],
   "source": [
    "uf = pinn(X_star[:, 0:1], X_star[:, 1:2]).detach().numpy()"
   ]
  },
  {
   "cell_type": "code",
   "execution_count": 25,
   "metadata": {},
   "outputs": [
    {
     "data": {
      "image/png": "[encoded data removed]",
      "text/plain": [
       "<Figure size 252x189 with 2 Axes>"
      ]
     },
     "metadata": {
      "needs_background": "light"
     },
     "output_type": "display_data"
    }
   ],
   "source": [
    "fig, ax = plt.subplots(1, 1)\n",
    "\n",
    "# Artificial training points\n",
    "# ax.scatter(X_u_train_np[:, 1:2], X_u_train_np[:, 0:1], \n",
    "#            marker='x', color='black')\n",
    "\n",
    "h = ax.imshow(uf.reshape(X.shape).T, interpolation='nearest', cmap='jet', \n",
    "              extent=[lb[1], ub[1], lb[0], ub[0]], \n",
    "              origin='lower', aspect='auto')\n",
    "\n",
    "ax.set_title(\"Learned Dynamics: \\n$u_t = -0.999003uu_{x}-0.888291u_{xx}-1.025016u_{xxxx}$\", fontsize = 10)\n",
    "ax.set_xlabel('T')\n",
    "ax.set_ylabel('X')\n",
    "\n",
    "divider = make_axes_locatable(ax)\n",
    "cax = divider.append_axes(\"right\", size=\"5%\", pad=0.05)\n",
    "fig.colorbar(h, cax=cax)\n",
    "\n",
    "# fig.savefig(\"./vis_pics/Learned_Dynamics_noisy2.png\", dpi=300)\n",
    "plt.show()"
   ]
  },
  {
   "cell_type": "code",
   "execution_count": null,
   "metadata": {},
   "outputs": [],
   "source": [
    "# noisy1: [-0.9498964548110962, -0.9398553967475891, -1.0064408779144287]\n",
    "# noisy2: [-1.025016188621521, -0.8882913589477539, -0.9990026354789734]"
   ]
  },
  {
   "cell_type": "code",
   "execution_count": null,
   "metadata": {},
   "outputs": [],
   "source": [
    "fig, ax = plt.subplots(1, 1)\n",
    "\n",
    "# plots filled contour plot\n",
    "ax.contourf(T[:NUMBER//1024, :], X[:NUMBER//1024, :], Exact[:NUMBER//1024, :])\n",
    "\n",
    "ax.set_title('Exact')\n",
    "ax.set_xlabel('T')\n",
    "ax.set_ylabel('X')\n",
    "\n",
    "plt.show()"
   ]
  },
  {
   "cell_type": "code",
   "execution_count": null,
   "metadata": {},
   "outputs": [],
   "source": [
    "fig, ax = plt.subplots(1, 1)\n",
    "\n",
    "# plots filled contour plot\n",
    "ax.contourf(T[:NUMBER//1024, :], X[:NUMBER//1024, :], uf.reshape(NUMBER//1024, 1024))\n",
    "\n",
    "ax.set_title('Learned system dynamics')\n",
    "ax.set_xlabel('T')\n",
    "ax.set_ylabel('X')\n",
    "\n",
    "plt.show()"
   ]
  },
  {
   "cell_type": "code",
   "execution_count": null,
   "metadata": {},
   "outputs": [],
   "source": [
    "end = NUMBER//1024 + 3\n",
    "performances = []\n",
    "for i in trange(1, end):\n",
    "    NUMBER = 1024*i # 20000, 21000\n",
    "    NUMBER = min(NUMBER, X_star.shape[0])\n",
    "    xx, tt = X_star[:NUMBER, 0:1], X_star[:NUMBER, 1:2]\n",
    "    uf = pinn(xx, tt).detach().numpy()\n",
    "    performances.append(mean_squared_error(uf, u_star[:NUMBER].numpy()))"
   ]
  },
  {
   "cell_type": "code",
   "execution_count": null,
   "metadata": {},
   "outputs": [],
   "source": [
    "plt.plot(range(1, end), performances)\n",
    "plt.show()"
   ]
  },
  {
   "cell_type": "code",
   "execution_count": null,
   "metadata": {},
   "outputs": [],
   "source": [
    "performances"
   ]
  },
  {
   "cell_type": "code",
   "execution_count": null,
   "metadata": {},
   "outputs": [],
   "source": [
    "# save(pinn, \"./new_saved_path/KS_rudy_noisy_pretrained_pinn.pth\")"
   ]
  },
  {
   "cell_type": "markdown",
   "metadata": {},
   "source": [
    "#### 2-nd Stage learning"
   ]
  },
  {
   "cell_type": "code",
   "execution_count": null,
   "metadata": {},
   "outputs": [],
   "source": [
    "_, x_fft, x_PSD = fft1d_denoise(X_u_train[:, 0:1], c=-5, return_real=True)\n",
    "_, t_fft, t_PSD = fft1d_denoise(X_u_train[:, 1:2], c=-5, return_real=True)\n",
    "_, u_train_fft, u_train_PSD = fft1d_denoise(u_train, c=-5, return_real=True)"
   ]
  },
  {
   "cell_type": "code",
   "execution_count": null,
   "metadata": {},
   "outputs": [],
   "source": [
    "x_fft, x_PSD = x_fft.detach(), x_PSD.detach()\n",
    "t_fft, t_PSD = t_fft.detach(), t_PSD.detach()"
   ]
  },
  {
   "cell_type": "code",
   "execution_count": null,
   "metadata": {},
   "outputs": [],
   "source": [
    "def closure():\n",
    "    if torch.is_grad_enabled():\n",
    "        optimizer2.zero_grad()\n",
    "    losses = pinn.loss(X_u_train, (x_fft, x_PSD, t_fft, t_PSD), u_train, (u_train_fft, u_train_PSD), update_network_params=True, update_pde_params=True)\n",
    "    l = sum(losses)\n",
    "    if l.requires_grad:\n",
    "        l.backward(retain_graph=True)\n",
    "    return l\n",
    "\n",
    "def mtl_closure():\n",
    "    losses = pinn.loss(X_u_train, (x_fft, x_PSD, t_fft, t_PSD), u_train, (u_train_fft, u_train_PSD), update_network_params=True, update_pde_params=True)\n",
    "    updated_grads = []\n",
    "    \n",
    "    for i in range(len(losses)):\n",
    "        optimizer1.zero_grad()\n",
    "        losses[i].backward(retain_graph=True)\n",
    "\n",
    "        g_task = []\n",
    "        for param in pinn.parameters():\n",
    "            if param.grad is not None:\n",
    "                g_task.append(Variable(param.grad.clone(), requires_grad=False))\n",
    "            else:\n",
    "                g_task.append(Variable(torch.zeros(param.shape), requires_grad=False))\n",
    "        # appending the gradients from each task\n",
    "        updated_grads.append(g_task)\n",
    "\n",
    "    updated_grads = list(pcgrad.pc_grad_update(updated_grads))[0]\n",
    "    for idx, param in enumerate(pinn.parameters()): \n",
    "        param.grad = updated_grads[0][idx]+updated_grads[1][idx]\n",
    "        \n",
    "    return sum(losses)"
   ]
  },
  {
   "cell_type": "code",
   "execution_count": null,
   "metadata": {},
   "outputs": [],
   "source": [
    "# pinn.loss(X_u_train, (x_fft, x_PSD, t_fft, t_PSD), u_train, (u_train_fft, u_train_PSD), update_network_params=True, update_pde_params=True)"
   ]
  },
  {
   "cell_type": "code",
   "execution_count": null,
   "metadata": {},
   "outputs": [],
   "source": [
    "epochs1, epochs2 = 200, 20\n",
    "# TODO: Save best state dict and training for more epochs.\n",
    "optimizer1 = MADGRAD(pinn.parameters(), lr=1e-5, momentum=0.9)\n",
    "pinn.train(); best_train_loss = 1e6\n",
    "\n",
    "print('1st Phase optimization using Adam with PCGrad gradient modification')\n",
    "for i in range(epochs1):\n",
    "    optimizer1.step(mtl_closure)\n",
    "    if (i % 10) == 0 or i == epochs1-1:\n",
    "        l = mtl_closure()\n",
    "        print(\"Epoch {}: \".format(i), l.item())\n",
    "        print(pinn.param0, pinn.param1, pinn.param2)\n",
    "        \n",
    "optimizer2 = torch.optim.LBFGS(pinn.parameters(), lr=1e-1, max_iter=500, max_eval=int(500*1.25), history_size=300, line_search_fn='strong_wolfe')\n",
    "print('2nd Phase optimization using LBFGS')\n",
    "for i in range(epochs2):\n",
    "    optimizer2.step(closure)\n",
    "    if (i % 5) == 0 or i == epochs2-1:\n",
    "        l = closure()\n",
    "        print(\"Epoch {}: \".format(i), l.item())"
   ]
  },
  {
   "cell_type": "code",
   "execution_count": null,
   "metadata": {},
   "outputs": [],
   "source": [
    "pred_params = [pinn.param0.item(), pinn.param1.item(), pinn.param2.item()]\n",
    "print(pred_params)"
   ]
  },
  {
   "cell_type": "code",
   "execution_count": null,
   "metadata": {},
   "outputs": [],
   "source": [
    "errs = 100*np.abs(np.array(pred_params)+1)\n",
    "print(errs.mean(), errs.std())"
   ]
  },
  {
   "cell_type": "code",
   "execution_count": null,
   "metadata": {},
   "outputs": [],
   "source": [
    "save(pinn, \"./new_saved_path/KS_rudy_final_finetuned_no_dft_pinn.pth\")"
   ]
  },
  {
   "cell_type": "code",
   "execution_count": null,
   "metadata": {},
   "outputs": [],
   "source": [
    "### New results ###\n",
    "# finetuned pinn on KS_new.pkl\n",
    "\n",
    "# w/o DFT\n",
    "# clean all\n",
    "# [-1.0038105249404907, -1.0389138460159302, -1.018654465675354]\n",
    "# 2.0459612210591636 1.4387603533171842\n",
    "\n",
    "# w/o DFT\n",
    "# clean (x, t) and noisy lables\n",
    "# 1st run\n",
    "# [-0.9552096724510193, -1.0218358039855957, -1.0091873407363892]\n",
    "# 2.527115742365519 1.4736449310642017\n",
    "# 2nd run\n",
    "# [-0.9824689626693726, -1.0259006023406982, -1.0224767923355103]\n",
    "# 2.1969477335611978 0.34356397750920376\n",
    "\n",
    "# w/o DFT\n",
    "# noisy (x, t) and noisy lables\n",
    "# [-0.9445462822914124, -1.0215760469436646, -1.0037590265274048]\n",
    "# 2.692959705988566 2.1441092139699642\n",
    "\n",
    "###############################\n",
    "# w/ DFT\n",
    "# clean all\n",
    "# [-0.9454907774925232, -1.0266990661621094, -1.0051020383834839]\n",
    "# 2.8770109017690024 2.0223490873202765\n",
    "\n",
    "# w/ DFT\n",
    "# clean (x, t) and noisy lables\n",
    "# [-0.965919554233551, -1.0234534740447998, -1.0168591737747192]\n",
    "# 2.479769786198934 0.7094516920660559\n",
    "\n",
    "# w/ DFT\n",
    "# noisy (x, t) and noisy lables\n",
    "# [-0.9662449955940247, -1.0259292125701904, -1.0150245428085327]\n",
    "# 2.4902919928232827 0.7681037488669546"
   ]
  },
  {
   "cell_type": "code",
   "execution_count": null,
   "metadata": {},
   "outputs": [],
   "source": [
    "### New results ###\n",
    "\n",
    "# w/o DFT\n",
    "# noisy labels\n",
    "# [-0.9948846697807312, -1.0065652132034302, -0.9950999617576599]\n",
    "# 0.5526860555013021 0.07394681988603513\n",
    "\n",
    "# noisy (x, t) and labels\n",
    "# [-0.9892916083335876, -1.011358618736267, -0.9886858463287354]\n",
    "# 1.1127054691314697 0.029659549537678777\n",
    "\n",
    "# /w DFT\n",
    "# clean | /w DFT\n",
    "# [-0.9948897361755371, -1.0049610137939453, -0.9951441287994385]\n",
    "# 0.4975716272989909 0.01043744028051521\n",
    "\n",
    "# noisy (x, t) and labels | /w DFT\n",
    "# [-0.9947568774223328, -1.0052711963653564, -0.9935149550437927]\n",
    "# 0.5666454633076986 0.05789442242742208"
   ]
  },
  {
   "cell_type": "code",
   "execution_count": null,
   "metadata": {},
   "outputs": [],
   "source": [
    "### Without AutoEncoder ###\n",
    "\n",
    "# Clean Exact and (x, t)\n",
    "# [-0.999634325504303, -0.9994997382164001, -0.9995566010475159]\n",
    "# (0.04364450772603353, 0.005516461306387781)\n",
    "\n",
    "# Pretrained with final_finetuned_pinn_5000 (do not use / report)\n",
    "# [-0.9996052980422974, -0.9995099902153015, -0.9995319247245789]\n",
    "# 0.04509290059407552 0.0040754479422416435\n",
    "\n",
    "# Noisy Exact and clean (x, t)\n",
    "# [-0.9967969655990601, -0.9969800114631653, -0.9973703026771545]\n",
    "# (0.2950906753540039, 0.023910676954986623)\n",
    "\n",
    "# Noisy Exact and noisy (x, t)\n",
    "# [-0.9975059032440186, -0.9962050914764404, -0.9969104528427124]\n",
    "# 0.3126184145609538 0.05316856937153804"
   ]
  },
  {
   "cell_type": "code",
   "execution_count": null,
   "metadata": {},
   "outputs": [],
   "source": [
    "### Without AutoEncoder & With Robust PCA ###\n",
    "\n",
    "# Noisy Exact and clean (x, t)\n",
    "# [-1.0003160238265991, -1.0005097389221191, -0.9997726678848267]\n",
    "# (0.035103162129720054, 0.011791963483533422)\n",
    "\n",
    "# Noisy Exact and noisy (x, t) + Robust PCA\n",
    "# [-1.000351071357727, -0.9991073608398438, -0.9980993866920471]\n",
    "# (0.08140603701273601 0.09209241474722876)"
   ]
  },
  {
   "cell_type": "code",
   "execution_count": null,
   "metadata": {},
   "outputs": [],
   "source": [
    "### Without AutoEncoder & With Double Beta-Robust PCA ###\n",
    "\n",
    "# Noisy Exact and clean (x, t)\n",
    "# [-1.0013889074325562, -0.998389720916748, -1.0010501146316528]\n",
    "# 0.1349767049153646 0.023035484282371465\n",
    "\n",
    "# Noisy Exact and noisy (x, t) + Robust PCA\n",
    "# [-0.9980248212814331, -0.9982557892799377, -0.998869001865387]\n",
    "# 0.1616795857747396 0.03562172791384541"
   ]
  }
 ],
 "metadata": {
  "kernelspec": {
   "display_name": "Python 3",
   "language": "python",
   "name": "python3"
  },
  "language_info": {
   "codemirror_mode": {
    "name": "ipython",
    "version": 3
   },
   "file_extension": ".py",
   "mimetype": "text/x-python",
   "name": "python",
   "nbconvert_exporter": "python",
   "pygments_lexer": "ipython3",
   "version": "3.9.9"
  }
 },
 "nbformat": 4,
 "nbformat_minor": 4
}
