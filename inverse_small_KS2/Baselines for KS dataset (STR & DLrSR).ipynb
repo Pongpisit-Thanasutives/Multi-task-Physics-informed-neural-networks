{
 "cells": [
  {
   "cell_type": "markdown",
   "metadata": {},
   "source": [
    "#### Implement the baseline algos here"
   ]
  },
  {
   "cell_type": "code",
   "execution_count": 1,
   "metadata": {},
   "outputs": [
    {
     "name": "stdout",
     "output_type": "stream",
     "text": [
      "Running Python 3.9.7\n",
      "You can use npar for np.array\n",
      "Populating the interactive namespace from numpy and matplotlib\n"
     ]
    },
    {
     "name": "stderr",
     "output_type": "stream",
     "text": [
      "/usr/local/lib/python3.9/site-packages/IPython/core/magics/pylab.py:159: UserWarning: pylab import has clobbered these variables: ['diff', 'save']\n",
      "`%matplotlib` prevents importing * from pylab and numpy\n",
      "  warn(\"pylab import has clobbered these variables: %s\"  % clobbered +\n"
     ]
    }
   ],
   "source": [
    "import sys; sys.path.insert(0, \"../\"); from utils import *\n",
    "import pickle\n",
    "\n",
    "%pylab inline\n",
    "pylab.rcParams['figure.figsize'] = (12, 8)\n",
    "import numpy as np\n",
    "from mpl_toolkits.mplot3d import Axes3D\n",
    "from pde_diff import *\n",
    "import robust_PDE_FIND\n",
    "from robust_PDE_FIND import TrainSTRidge, compute_err, print_pde, RobustPCA, Robust_LRSTR\n",
    "import scipy.io as sio"
   ]
  },
  {
   "cell_type": "code",
   "execution_count": 2,
   "metadata": {},
   "outputs": [
    {
     "name": "stdout",
     "output_type": "stream",
     "text": [
      "Total data points: 64512\n"
     ]
    }
   ],
   "source": [
    "# Loading the KS sols\n",
    "# data = sio.loadmat(\"../R_DLGA_datasets/KS.mat\")\n",
    "data = sio.loadmat(\"../PDE_FIND_experimental_datasets/kuramoto_sivishinky.mat\")\n",
    "\n",
    "t = data['tt'][0,:]\n",
    "x = data['x'][:,0]\n",
    "\n",
    "idx_x = np.arange(len(x))\n",
    "idx_x = idx_x[idx_x%2==0]\n",
    "idx_t = np.arange(len(t))\n",
    "idx_t = idx_t[idx_t%2==0]\n",
    "\n",
    "x = x[idx_x]\n",
    "t = t[idx_t]\n",
    "\n",
    "time_dims = t.shape[0]\n",
    "spatial_dims = x.shape[0]\n",
    "\n",
    "total_points = time_dims*spatial_dims\n",
    "print(\"Total data points:\", total_points)\n",
    "\n",
    "X, T = np.meshgrid(x, t)\n",
    "Exact = data['uu']\n",
    "u = Exact[idx_x][:, idx_t]\n",
    "\n",
    "# DATA_PATH = \"../deephpms_data/KS_new3.pkl\"\n",
    "# data = pickle_load(DATA_PATH)\n",
    "# t = data['t']\n",
    "# x = data['x']\n",
    "# X, T = np.meshgrid(x, t)\n",
    "# Exact = data['u']\n",
    "# u = Exact\n",
    "\n",
    "# from rkstiff import grids\n",
    "# from rkstiff import if34\n",
    "\n",
    "# # Computing the KS sol\n",
    "# # uniform grid spacing, real-valued u -> construct_x_kx_rfft\n",
    "# N = 256\n",
    "# # a, b = 0, 16*np.pi\n",
    "# M = 2\n",
    "# a, b = -M*np.pi, M*np.pi\n",
    "# # a, b = -M, M\n",
    "# x, kx = grids.construct_x_kx_rfft(N, a, b)\n",
    "\n",
    "# L = kx**2*(1-kx**2)\n",
    "# def NL(uFFT):\n",
    "#     u = np.fft.irfft(uFFT)\n",
    "#     ux = np.fft.irfft(1j*kx*uFFT)\n",
    "#     return -np.fft.rfft(u*ux)\n",
    "\n",
    "# u0 = -np.sin(np.pi*x/10)\n",
    "# # u0 = np.cos(x/16)*(1.+np.sin(x/16))\n",
    "# u0FFT = np.fft.rfft(u0)\n",
    "# solver = if34.IF34(linop=L,NLfunc=NL)\n",
    "# ufFFT = solver.evolve(u0FFT, t0=0, tf=10) # store every 20th step in solver.u and solver.t\n",
    "\n",
    "# U = []\n",
    "# for uFFT in solver.u:\n",
    "#     U.append(np.fft.irfft(uFFT))\n",
    "# U = np.array(U)\n",
    "# t = np.array(solver.t)\n",
    "\n",
    "# X, T = np.meshgrid(x, t)\n",
    "# Exact = U.T\n",
    "# u = Exact\n",
    "\n",
    "# spatial_dims = Exact.shape[0]\n",
    "# time_dims = Exact.shape[1]"
   ]
  },
  {
   "cell_type": "code",
   "execution_count": 3,
   "metadata": {},
   "outputs": [],
   "source": [
    "# fig1 = figure()\n",
    "# ax = fig1.gca(projection='3d')\n",
    "# surf = ax.plot_surface(X, T, u.T, rstride=1, cstride=1, cmap=cm.coolwarm,\n",
    "#     linewidth=0, antialiased=False)\n",
    "# title('Kuramoto Sivashinsky Equation', fontsize = 20)\n",
    "# xlabel('x', fontsize = 16)\n",
    "# ylabel('t', fontsize = 16)"
   ]
  },
  {
   "cell_type": "markdown",
   "metadata": {},
   "source": [
    "#### STR"
   ]
  },
  {
   "cell_type": "code",
   "execution_count": 4,
   "metadata": {},
   "outputs": [],
   "source": [
    "dt = t[1]-t[0]\n",
    "dx = x[2]-x[1]\n",
    "Ut, R, rhs_des = build_linear_system(u, dt, dx, D=5, P=5, time_diff = 'FD', space_diff = 'FD')"
   ]
  },
  {
   "cell_type": "code",
   "execution_count": 5,
   "metadata": {},
   "outputs": [],
   "source": [
    "idx = np.random.choice(R.shape[0], R.shape[0], replace=False)"
   ]
  },
  {
   "cell_type": "code",
   "execution_count": 6,
   "metadata": {},
   "outputs": [
    {
     "name": "stderr",
     "output_type": "stream",
     "text": [
      "/Users/pongpisit/Desktop/Multi-task-Physics-informed-neural-networks/inverse_small_KS2/robust_PDE_FIND.py:845: FutureWarning: `rcond` parameter will change to the default of machine precision times ``max(M, N)`` where M and N are the input matrix dimensions.\n",
      "To use the future default and silence this warning we advise to pass `rcond=None`, to keep using the old, explicitly pass `rcond=-1`.\n",
      "  w_best = np.linalg.lstsq(TrainR, TrainY)[0]\n",
      "/Users/pongpisit/Desktop/Multi-task-Physics-informed-neural-networks/inverse_small_KS2/robust_PDE_FIND.py:890: FutureWarning: `rcond` parameter will change to the default of machine precision times ``max(M, N)`` where M and N are the input matrix dimensions.\n",
      "To use the future default and silence this warning we advise to pass `rcond=None`, to keep using the old, explicitly pass `rcond=-1`.\n",
      "  if lam != 0: w = np.linalg.lstsq(X.T.dot(X) + lam*np.eye(d),X.T.dot(y))[0]\n",
      "/Users/pongpisit/Desktop/Multi-task-Physics-informed-neural-networks/inverse_small_KS2/robust_PDE_FIND.py:916: FutureWarning: `rcond` parameter will change to the default of machine precision times ``max(M, N)`` where M and N are the input matrix dimensions.\n",
      "To use the future default and silence this warning we advise to pass `rcond=None`, to keep using the old, explicitly pass `rcond=-1`.\n",
      "  if lam != 0: w[biginds] = np.linalg.lstsq(X[:, biginds].T.dot(X[:, biginds]) + lam*np.eye(len(biginds)),X[:, biginds].T.dot(y))[0]\n",
      "/Users/pongpisit/Desktop/Multi-task-Physics-informed-neural-networks/inverse_small_KS2/robust_PDE_FIND.py:920: FutureWarning: `rcond` parameter will change to the default of machine precision times ``max(M, N)`` where M and N are the input matrix dimensions.\n",
      "To use the future default and silence this warning we advise to pass `rcond=None`, to keep using the old, explicitly pass `rcond=-1`.\n",
      "  if biginds != []: w[biginds] = np.linalg.lstsq(X[:, biginds],y)[0]\n"
     ]
    },
    {
     "name": "stdout",
     "output_type": "stream",
     "text": [
      "PDE derived using STRidge\n",
      "u_t = (-0.887105 +0.000000i)uu_{x}\n",
      "    + (-0.914812 +0.000000i)u_{xx}\n",
      "    + (-0.933346 +0.000000i)u_{xxxx}\n",
      "   \n"
     ]
    }
   ],
   "source": [
    "w = TrainSTRidge(R,Ut,10**-6,50)\n",
    "# w = TrainSTRidge(R[idx, :],Ut[idx, :],10**-6,50)\n",
    "print(\"PDE derived using STRidge\")\n",
    "print_pde(w, rhs_des)"
   ]
  },
  {
   "cell_type": "code",
   "execution_count": 7,
   "metadata": {},
   "outputs": [
    {
     "name": "stdout",
     "output_type": "stream",
     "text": [
      "(512, 126)\n",
      "64512\n"
     ]
    }
   ],
   "source": [
    "print(u.shape)\n",
    "total_points = u.shape[0]*u.shape[1]\n",
    "print(total_points)"
   ]
  },
  {
   "cell_type": "code",
   "execution_count": 8,
   "metadata": {},
   "outputs": [],
   "source": [
    "# 1024*89 -> sample 256*89 to train"
   ]
  },
  {
   "cell_type": "code",
   "execution_count": 11,
   "metadata": {},
   "outputs": [],
   "source": [
    "with open(\"../deephpms_data/KS_new3.pkl\", \"wb\") as f:\n",
    "    pickle.dump(dict({'x':x, 't':t, 'u':u}), f)"
   ]
  },
  {
   "cell_type": "code",
   "execution_count": 11,
   "metadata": {},
   "outputs": [
    {
     "data": {
      "text/plain": [
       "(3.5533333333333346, 2.364533865738074)"
      ]
     },
     "execution_count": 11,
     "metadata": {},
     "output_type": "execute_result"
    }
   ],
   "source": [
    "errs = 100*(np.abs(npar([-0.997619, -1.048322, -1.055897])+1))\n",
    "errs.mean(), errs.std()"
   ]
  },
  {
   "cell_type": "markdown",
   "metadata": {},
   "source": [
    "#### STR + noise"
   ]
  },
  {
   "cell_type": "code",
   "execution_count": 12,
   "metadata": {},
   "outputs": [],
   "source": [
    "noise_intensity = 1e-7\n",
    "numpy.random.seed(0)\n",
    "un = u + noise_intensity*std(u)*np.random.randn(u.shape[0],u.shape[1])"
   ]
  },
  {
   "cell_type": "code",
   "execution_count": 13,
   "metadata": {},
   "outputs": [],
   "source": [
    "Utn, Rn, rhs_des = build_linear_system(un, dt, dx, D=5, P=5, time_diff = 'FD', space_diff = 'FD')"
   ]
  },
  {
   "cell_type": "code",
   "execution_count": 14,
   "metadata": {},
   "outputs": [
    {
     "name": "stdout",
     "output_type": "stream",
     "text": [
      "PDE derived using STRidge\n",
      "u_t = (-0.999528 +0.000000i)uu_{x}\n",
      "    + (-1.001889 +0.000000i)u_{xx}\n",
      "    + (-1.006649 +0.000000i)u_{xxxx}\n",
      "   \n"
     ]
    }
   ],
   "source": [
    "# Solve with STRidge\n",
    "w = TrainSTRidge(Rn,Utn,10**-5, 50)\n",
    "print(\"PDE derived using STRidge\")\n",
    "print_pde(w, rhs_des)"
   ]
  },
  {
   "cell_type": "code",
   "execution_count": 15,
   "metadata": {},
   "outputs": [
    {
     "data": {
      "text/plain": [
       "(19.8931, 1.2385695808741097)"
      ]
     },
     "execution_count": 15,
     "metadata": {},
     "output_type": "execute_result"
    }
   ],
   "source": [
    "errs = 100*(npar([-0.783763, -0.812064, -0.807380])+1)\n",
    "errs.mean(), errs.std()"
   ]
  },
  {
   "cell_type": "markdown",
   "metadata": {},
   "source": [
    "#### DLrSR"
   ]
  },
  {
   "cell_type": "code",
   "execution_count": 14,
   "metadata": {},
   "outputs": [
    {
     "name": "stdout",
     "output_type": "stream",
     "text": [
      "iteration:1, err:1067.415154544554, nc_norm:374.40273112357954 eta1:0.009617105529935862\n",
      "iteration:2, err:1.5776804968715487e-12, nc_norm:9462.345220077881 eta1:0.01057881608292945\n"
     ]
    }
   ],
   "source": [
    "u_in = u\n",
    "\n",
    "Z, E1 = RobustPCA(u_in, lam_2 = 1)\n",
    "\n",
    "diff_type = \"fd\"\n",
    "\n",
    "if diff_type == \"poly\":\n",
    "    ZUtn, ZRn, rhs_des = build_linear_system(Z, dt, dx, D=5, P=5, \n",
    "                                     time_diff = 'poly', space_diff = 'poly', \n",
    "                                     width_x = 20, width_t = 20, deg_x = 6)\n",
    "elif diff_type == \"fd\":\n",
    "    ZUtn, ZRn, rhs_des = build_linear_system(Z, dt, dx, D=5, P=5, time_diff = 'FD', space_diff = 'FD')"
   ]
  },
  {
   "cell_type": "code",
   "execution_count": 15,
   "metadata": {},
   "outputs": [
    {
     "data": {
      "text/plain": [
       "(22784, 1)"
      ]
     },
     "execution_count": 15,
     "metadata": {},
     "output_type": "execute_result"
    }
   ],
   "source": [
    "ZUtn.shape"
   ]
  },
  {
   "cell_type": "code",
   "execution_count": 16,
   "metadata": {},
   "outputs": [],
   "source": [
    "if diff_type == \"poly\":\n",
    "    double_width = 0\n",
    "    for n in range(0, 101):\n",
    "        if ZUtn.shape[0] == (spatial_dims-n)*(time_dims-n):\n",
    "            double_width = n\n",
    "            nx = spatial_dims-n\n",
    "            nt = time_dims-n\n",
    "            print(double_width); break\n",
    "elif diff_type == \"fd\":\n",
    "    (nx,nt) = spatial_dims, time_dims"
   ]
  },
  {
   "cell_type": "code",
   "execution_count": 17,
   "metadata": {},
   "outputs": [
    {
     "name": "stdout",
     "output_type": "stream",
     "text": [
      "iteration:1, err:309.0862924559844, nc_norm:227.27950554574994 eta2:0.03558481379411077\n",
      "u_t = \n",
      "u_t = (-0.053144 +0.000000i)uu_{x}\n",
      "   \n",
      "u_t = (-0.781462 +0.000000i)uu_{x}\n",
      "    + (-0.800460 +0.000000i)u_{xx}\n",
      "    + (-0.805789 +0.000000i)u_{xxxx}\n",
      "   \n",
      "u_t = (-1.202778 +0.000000i)uu_{x}\n",
      "    + (-1.266484 +0.000000i)u_{xx}\n",
      "    + (-1.274580 +0.000000i)u_{xxxx}\n",
      "   \n",
      "u_t = (-1.231895 +0.000000i)uu_{x}\n",
      "    + (-1.302967 +0.000000i)u_{xx}\n",
      "    + (-1.311633 +0.000000i)u_{xxxx}\n",
      "   \n",
      "u_t = (-1.086341 +0.000000i)uu_{x}\n",
      "    + (-1.146310 +0.000000i)u_{xx}\n",
      "    + (-1.154452 +0.000000i)u_{xxxx}\n",
      "   \n",
      "u_t = (-0.981328 +0.000000i)uu_{x}\n",
      "    + (-1.031867 +0.000000i)u_{xx}\n",
      "    + (-1.039472 +0.000000i)u_{xxxx}\n",
      "   \n",
      "u_t = (-0.965909 +0.000000i)uu_{x}\n",
      "    + (-1.014408 +0.000000i)u_{xx}\n",
      "    + (-1.021805 +0.000000i)u_{xxxx}\n",
      "   \n",
      "u_t = (-0.986086 +0.000000i)uu_{x}\n",
      "    + (-1.035959 +0.000000i)u_{xx}\n",
      "    + (-1.043342 +0.000000i)u_{xxxx}\n",
      "   \n",
      "u_t = (-0.998330 +0.000000i)uu_{x}\n",
      "    + (-1.049225 +0.000000i)u_{xx}\n",
      "    + (-1.056643 +0.000000i)u_{xxxx}\n",
      "   \n",
      "u_t = (-0.998891 +0.000000i)uu_{x}\n",
      "    + (-1.049897 +0.000000i)u_{xx}\n",
      "    + (-1.057338 +0.000000i)u_{xxxx}\n",
      "   \n",
      "u_t = (-0.996992 +0.000000i)uu_{x}\n",
      "    + (-1.047869 +0.000000i)u_{xx}\n",
      "    + (-1.055315 +0.000000i)u_{xxxx}\n",
      "   \n",
      "u_t = (-0.996393 +0.000000i)uu_{x}\n",
      "    + (-1.047223 +0.000000i)u_{xx}\n",
      "    + (-1.054666 +0.000000i)u_{xxxx}\n",
      "   \n",
      "u_t = (-0.996484 +0.000000i)uu_{x}\n",
      "    + (-1.047319 +0.000000i)u_{xx}\n",
      "    + (-1.054761 +0.000000i)u_{xxxx}\n",
      "   \n",
      "u_t = (-0.996554 +0.000000i)uu_{x}\n",
      "    + (-1.047393 +0.000000i)u_{xx}\n",
      "    + (-1.054834 +0.000000i)u_{xxxx}\n",
      "   \n",
      "u_t = (-0.996539 +0.000000i)uu_{x}\n",
      "    + (-1.047375 +0.000000i)u_{xx}\n",
      "    + (-1.054815 +0.000000i)u_{xxxx}\n",
      "   \n",
      "u_t = (-0.996506 +0.000000i)uu_{x}\n",
      "    + (-1.047339 +0.000000i)u_{xx}\n",
      "    + (-1.054777 +0.000000i)u_{xxxx}\n",
      "   \n",
      "u_t = (-0.996475 +0.000000i)uu_{x}\n",
      "    + (-1.047303 +0.000000i)u_{xx}\n",
      "    + (-1.054739 +0.000000i)u_{xxxx}\n",
      "   \n",
      "u_t = (-0.996445 +0.000000i)uu_{x}\n",
      "    + (-1.047269 +0.000000i)u_{xx}\n",
      "    + (-1.054704 +0.000000i)u_{xxxx}\n",
      "   \n",
      "u_t = (-0.996418 +0.000000i)uu_{x}\n",
      "    + (-1.047238 +0.000000i)u_{xx}\n",
      "    + (-1.054671 +0.000000i)u_{xxxx}\n",
      "   \n",
      "u_t = (-0.996396 +0.000000i)uu_{x}\n",
      "    + (-1.047213 +0.000000i)u_{xx}\n",
      "    + (-1.054645 +0.000000i)u_{xxxx}\n",
      "   \n",
      "u_t = (-0.996378 +0.000000i)uu_{x}\n",
      "    + (-1.047194 +0.000000i)u_{xx}\n",
      "    + (-1.054625 +0.000000i)u_{xxxx}\n",
      "   \n",
      "u_t = (-0.996366 +0.000000i)uu_{x}\n",
      "    + (-1.047180 +0.000000i)u_{xx}\n",
      "    + (-1.054610 +0.000000i)u_{xxxx}\n",
      "   \n",
      "u_t = (-0.996357 +0.000000i)uu_{x}\n",
      "    + (-1.047171 +0.000000i)u_{xx}\n",
      "    + (-1.054600 +0.000000i)u_{xxxx}\n",
      "   \n",
      "u_t = (-0.996352 +0.000000i)uu_{x}\n",
      "    + (-1.047164 +0.000000i)u_{xx}\n",
      "    + (-1.054594 +0.000000i)u_{xxxx}\n",
      "   \n",
      "u_t = (-0.996348 +0.000000i)uu_{x}\n",
      "    + (-1.047161 +0.000000i)u_{xx}\n",
      "    + (-1.054590 +0.000000i)u_{xxxx}\n",
      "   \n",
      "u_t = (-0.996346 +0.000000i)uu_{x}\n",
      "    + (-1.047159 +0.000000i)u_{xx}\n",
      "    + (-1.054587 +0.000000i)u_{xxxx}\n",
      "   \n",
      "u_t = (-0.996345 +0.000000i)uu_{x}\n",
      "    + (-1.047157 +0.000000i)u_{xx}\n",
      "    + (-1.054586 +0.000000i)u_{xxxx}\n",
      "   \n",
      "u_t = (-0.996345 +0.000000i)uu_{x}\n",
      "    + (-1.047157 +0.000000i)u_{xx}\n",
      "    + (-1.054585 +0.000000i)u_{xxxx}\n",
      "   \n",
      "u_t = (-0.996344 +0.000000i)uu_{x}\n",
      "    + (-1.047156 +0.000000i)u_{xx}\n",
      "    + (-1.054585 +0.000000i)u_{xxxx}\n",
      "   \n",
      "u_t = (-0.996344 +0.000000i)uu_{x}\n",
      "    + (-1.047156 +0.000000i)u_{xx}\n",
      "    + (-1.054585 +0.000000i)u_{xxxx}\n",
      "   \n",
      "u_t = (-0.996344 +0.000000i)uu_{x}\n",
      "    + (-1.047156 +0.000000i)u_{xx}\n",
      "    + (-1.054585 +0.000000i)u_{xxxx}\n",
      "   \n",
      "iteration:50, err:0.00015216324668569834, nc_norm:123.01067399109748 eta2:269.8644975105398\n",
      "u_t = (-0.996344 +0.000000i)uu_{x}\n",
      "    + (-1.047156 +0.000000i)u_{xx}\n",
      "    + (-1.054585 +0.000000i)u_{xxxx}\n",
      "   \n",
      "u_t = (-0.996344 +0.000000i)uu_{x}\n",
      "    + (-1.047156 +0.000000i)u_{xx}\n",
      "    + (-1.054585 +0.000000i)u_{xxxx}\n",
      "   \n",
      "u_t = (-0.996344 +0.000000i)uu_{x}\n",
      "    + (-1.047156 +0.000000i)u_{xx}\n",
      "    + (-1.054584 +0.000000i)u_{xxxx}\n",
      "   \n",
      "u_t = (-0.996344 +0.000000i)uu_{x}\n",
      "    + (-1.047156 +0.000000i)u_{xx}\n",
      "    + (-1.054584 +0.000000i)u_{xxxx}\n",
      "   \n",
      "u_t = (-0.996344 +0.000000i)uu_{x}\n",
      "    + (-1.047156 +0.000000i)u_{xx}\n",
      "    + (-1.054584 +0.000000i)u_{xxxx}\n",
      "   \n",
      "iteration:54, err:3.4641048401968104e-06, nc_norm:122.80712234441735 eta2:559.5910220378553\n",
      "u_t = (-0.996344 +0.000000i)uu_{x}\n",
      "    + (-1.047156 +0.000000i)u_{xx}\n",
      "    + (-1.054584 +0.000000i)u_{xxxx}\n",
      "   \n",
      "u_t = (-0.996344 +0.000000i)uu_{x}\n",
      "    + (-1.047156 +0.000000i)u_{xx}\n",
      "    + (-1.054584 +0.000000i)u_{xxxx}\n",
      "   \n"
     ]
    }
   ],
   "source": [
    "# Solve with DLrSR\n",
    "Utn1 = np.reshape(ZUtn, (nx,nt))\n",
    "w, X, E2 = Robust_LRSTR(ZRn, Utn1, rhs_des, lam_1 = 1e-4, lam_3 = 0.15, lam_4 = 1, d_tol = 5)\n",
    "print_pde(w, rhs_des)"
   ]
  },
  {
   "cell_type": "code",
   "execution_count": 18,
   "metadata": {},
   "outputs": [
    {
     "data": {
      "text/plain": [
       "(3.5131999999999977, 2.2462527729532122)"
      ]
     },
     "execution_count": 18,
     "metadata": {},
     "output_type": "execute_result"
    }
   ],
   "source": [
    "errs = np.abs(100*(npar([-0.996344, -1.047156, -1.054584])+1))\n",
    "errs.mean(), errs.std()"
   ]
  },
  {
   "cell_type": "markdown",
   "metadata": {},
   "source": [
    "#### DLrSR + noise (Normal distributed noise)"
   ]
  },
  {
   "cell_type": "code",
   "execution_count": 19,
   "metadata": {},
   "outputs": [
    {
     "name": "stdout",
     "output_type": "stream",
     "text": [
      "iteration:1, err:1067.4120956604484, nc_norm:374.4662645613448 eta1:0.009617105823414697\n",
      "iteration:2, err:2.023393753421382e-12, nc_norm:9462.38023402353 eta1:0.010578816405756168\n"
     ]
    }
   ],
   "source": [
    "u_in = un\n",
    "Z, E1 = RobustPCA(u_in, lam_2 = 1)\n",
    "ZUtn, ZRn, rhs_des = build_linear_system(Z, dt, dx, D=5, P=5, time_diff = 'FD', space_diff = 'FD')"
   ]
  },
  {
   "cell_type": "code",
   "execution_count": 20,
   "metadata": {},
   "outputs": [
    {
     "name": "stdout",
     "output_type": "stream",
     "text": [
      "iteration:1, err:309.0825598842347, nc_norm:227.39352810368345 eta2:0.035584614135765705\n",
      "u_t = \n",
      "u_t = (-0.053181 +0.000000i)uu_{x}\n",
      "   \n",
      "u_t = (-0.619896 +0.000000i)uu_{x}\n",
      "    + (-0.621807 +0.000000i)u_{xx}\n",
      "    + (-0.617886 +0.000000i)u_{xxxx}\n",
      "   \n",
      "u_t = (0.170612 +0.000000i)u^3\n",
      "    + (-0.032934 +0.000000i)u^5\n",
      "    + (-1.562760 +0.000000i)uu_{x}\n",
      "    + (0.032372 +0.000000i)u^5u_{x}\n",
      "    + (-0.828919 +0.000000i)u_{xx}\n",
      "    + (0.365723 +0.000000i)u^2u_{xx}\n",
      "    + (-0.476496 +0.000000i)uu_{xxx}\n",
      "    + (-0.874345 +0.000000i)u_{xxxx}\n",
      "    + (0.040933 +0.000000i)u^4u_{xxxx}\n",
      "   \n",
      "u_t = (-0.962636 +0.000000i)uu_{x}\n",
      "    + (-1.003189 +0.000000i)u_{xx}\n",
      "    + (-0.996915 +0.000000i)u_{xxxx}\n",
      "   \n",
      "u_t = (-0.846964 +0.000000i)uu_{x}\n",
      "    + (-0.884143 +0.000000i)u_{xx}\n",
      "    + (-0.878044 +0.000000i)u_{xxxx}\n",
      "   \n",
      "u_t = (0.204283 +0.000000i)u^3\n",
      "    + (-0.044902 +0.000000i)u^5\n",
      "    + (-1.552602 +0.000000i)uu_{x}\n",
      "    + (-0.389894 +0.000000i)u^2u_{x}\n",
      "    + (-0.177390 +0.000000i)u^3u_{x}\n",
      "    + (0.108886 +0.000000i)u^4u_{x}\n",
      "    + (0.101811 +0.000000i)u^5u_{x}\n",
      "    + (-0.646595 +0.000000i)u_{xx}\n",
      "    + (-0.257475 +0.000000i)uu_{xx}\n",
      "    + (0.312969 +0.000000i)u^2u_{xx}\n",
      "    + (0.019651 +0.000000i)u^5u_{xx}\n",
      "    + (-0.764340 +0.000000i)uu_{xxx}\n",
      "    + (0.103788 +0.000000i)u^3u_{xxx}\n",
      "    + (-0.693986 +0.000000i)u_{xxxx}\n",
      "    + (-0.427192 +0.000000i)uu_{xxxx}\n",
      "    + (-0.152554 +0.000000i)u^2u_{xxxx}\n",
      "    + (0.118210 +0.000000i)u^3u_{xxxx}\n",
      "    + (0.079681 +0.000000i)u^4u_{xxxx}\n",
      "    + (-0.052927 +0.000000i)uu_{xxxxx}\n",
      "    + (-0.030554 +0.000000i)u^2u_{xxxxx}\n",
      "    + (0.014143 +0.000000i)u^3u_{xxxxx}\n",
      "    + (0.008000 +0.000000i)u^4u_{xxxxx}\n",
      "   \n",
      "u_t = (-0.108088 +0.000000i)uu_{x}\n",
      "   \n",
      "u_t = (-0.106384 +0.000000i)uu_{x}\n",
      "   \n",
      "u_t = (-0.755792 +0.000000i)uu_{x}\n",
      "    + (-0.778321 +0.000000i)u_{xx}\n",
      "    + (-0.773941 +0.000000i)u_{xxxx}\n",
      "   \n",
      "u_t = (-0.869651 +0.000000i)uu_{x}\n",
      "    + (-0.914930 +0.000000i)u_{xx}\n",
      "    + (-0.908460 +0.000000i)u_{xxxx}\n",
      "   \n",
      "u_t = (-0.813676 +0.000000i)uu_{x}\n",
      "    + (-0.848416 +0.000000i)u_{xx}\n",
      "    + (-0.843123 +0.000000i)u_{xxxx}\n",
      "   \n",
      "u_t = (-0.782570 +0.000000i)uu_{x}\n",
      "    + (-0.811089 +0.000000i)u_{xx}\n",
      "    + (-0.806480 +0.000000i)u_{xxxx}\n",
      "   \n",
      "u_t = (-0.782164 +0.000000i)uu_{x}\n",
      "    + (-0.810288 +0.000000i)u_{xx}\n",
      "    + (-0.805695 +0.000000i)u_{xxxx}\n",
      "   \n",
      "u_t = (-0.785099 +0.000000i)uu_{x}\n",
      "    + (-0.813708 +0.000000i)u_{xx}\n",
      "    + (-0.809033 +0.000000i)u_{xxxx}\n",
      "   \n",
      "u_t = (-0.785560 +0.000000i)uu_{x}\n",
      "    + (-0.814278 +0.000000i)u_{xx}\n",
      "    + (-0.809584 +0.000000i)u_{xxxx}\n",
      "   \n",
      "u_t = (-0.785374 +0.000000i)uu_{x}\n",
      "    + (-0.814067 +0.000000i)u_{xx}\n",
      "    + (-0.809375 +0.000000i)u_{xxxx}\n",
      "   \n",
      "u_t = (-0.785274 +0.000000i)uu_{x}\n",
      "    + (-0.813951 +0.000000i)u_{xx}\n",
      "    + (-0.809258 +0.000000i)u_{xxxx}\n",
      "   \n",
      "u_t = (-0.785220 +0.000000i)uu_{x}\n",
      "    + (-0.813891 +0.000000i)u_{xx}\n",
      "    + (-0.809194 +0.000000i)u_{xxxx}\n",
      "   \n",
      "u_t = (-0.785168 +0.000000i)uu_{x}\n",
      "    + (-0.813834 +0.000000i)u_{xx}\n",
      "    + (-0.809134 +0.000000i)u_{xxxx}\n",
      "   \n",
      "u_t = (-0.785120 +0.000000i)uu_{x}\n",
      "    + (-0.813781 +0.000000i)u_{xx}\n",
      "    + (-0.809078 +0.000000i)u_{xxxx}\n",
      "   \n",
      "u_t = (-0.785079 +0.000000i)uu_{x}\n",
      "    + (-0.813736 +0.000000i)u_{xx}\n",
      "    + (-0.809031 +0.000000i)u_{xxxx}\n",
      "   \n",
      "u_t = (-0.785048 +0.000000i)uu_{x}\n",
      "    + (-0.813702 +0.000000i)u_{xx}\n",
      "    + (-0.808994 +0.000000i)u_{xxxx}\n",
      "   \n",
      "u_t = (-0.785024 +0.000000i)uu_{x}\n",
      "    + (-0.813676 +0.000000i)u_{xx}\n",
      "    + (-0.808967 +0.000000i)u_{xxxx}\n",
      "   \n",
      "u_t = (-0.785008 +0.000000i)uu_{x}\n",
      "    + (-0.813658 +0.000000i)u_{xx}\n",
      "    + (-0.808948 +0.000000i)u_{xxxx}\n",
      "   \n",
      "u_t = (-0.784997 +0.000000i)uu_{x}\n",
      "    + (-0.813646 +0.000000i)u_{xx}\n",
      "    + (-0.808935 +0.000000i)u_{xxxx}\n",
      "   \n",
      "u_t = (-0.784991 +0.000000i)uu_{x}\n",
      "    + (-0.813639 +0.000000i)u_{xx}\n",
      "    + (-0.808927 +0.000000i)u_{xxxx}\n",
      "   \n",
      "u_t = (-0.784987 +0.000000i)uu_{x}\n",
      "    + (-0.813634 +0.000000i)u_{xx}\n",
      "    + (-0.808923 +0.000000i)u_{xxxx}\n",
      "   \n",
      "u_t = (-0.784984 +0.000000i)uu_{x}\n",
      "    + (-0.813632 +0.000000i)u_{xx}\n",
      "    + (-0.808920 +0.000000i)u_{xxxx}\n",
      "   \n",
      "u_t = (-0.784983 +0.000000i)uu_{x}\n",
      "    + (-0.813631 +0.000000i)u_{xx}\n",
      "    + (-0.808919 +0.000000i)u_{xxxx}\n",
      "   \n",
      "u_t = (-0.784982 +0.000000i)uu_{x}\n",
      "    + (-0.813630 +0.000000i)u_{xx}\n",
      "    + (-0.808918 +0.000000i)u_{xxxx}\n",
      "   \n",
      "u_t = (-0.784982 +0.000000i)uu_{x}\n",
      "    + (-0.813630 +0.000000i)u_{xx}\n",
      "    + (-0.808918 +0.000000i)u_{xxxx}\n",
      "   \n",
      "iteration:50, err:0.00011364424328013193, nc_norm:122.80975863712561 eta2:269.8629833618562\n",
      "u_t = (-0.784982 +0.000000i)uu_{x}\n",
      "    + (-0.813630 +0.000000i)u_{xx}\n",
      "    + (-0.808918 +0.000000i)u_{xxxx}\n",
      "   \n",
      "u_t = (-0.784982 +0.000000i)uu_{x}\n",
      "    + (-0.813629 +0.000000i)u_{xx}\n",
      "    + (-0.808917 +0.000000i)u_{xxxx}\n",
      "   \n",
      "u_t = (-0.784982 +0.000000i)uu_{x}\n",
      "    + (-0.813629 +0.000000i)u_{xx}\n",
      "    + (-0.808917 +0.000000i)u_{xxxx}\n",
      "   \n",
      "u_t = (-0.784982 +0.000000i)uu_{x}\n",
      "    + (-0.813629 +0.000000i)u_{xx}\n",
      "    + (-0.808917 +0.000000i)u_{xxxx}\n",
      "   \n",
      "iteration:53, err:6.6280616018857644e-06, nc_norm:122.64419510197826 eta2:466.3232352492875\n",
      "u_t = (-0.784982 +0.000000i)uu_{x}\n",
      "    + (-0.813629 +0.000000i)u_{xx}\n",
      "    + (-0.808917 +0.000000i)u_{xxxx}\n",
      "   \n",
      "u_t = (-0.784982 +0.000000i)uu_{x}\n",
      "    + (-0.813629 +0.000000i)u_{xx}\n",
      "    + (-0.808917 +0.000000i)u_{xxxx}\n",
      "   \n"
     ]
    }
   ],
   "source": [
    "# Solve with DLrSR\n",
    "Utn1 = np.reshape(ZUtn, (nx,nt))\n",
    "w, X, E2=Robust_LRSTR(ZRn, Utn1, rhs_des, lam_1 = 1e-4, lam_3 = 0.15, lam_4 = 1, d_tol = 5)\n",
    "print_pde(w, rhs_des)"
   ]
  },
  {
   "cell_type": "code",
   "execution_count": 23,
   "metadata": {},
   "outputs": [
    {
     "data": {
      "text/plain": [
       "(19.749066666666668, 1.254209701587243)"
      ]
     },
     "execution_count": 23,
     "metadata": {},
     "output_type": "execute_result"
    }
   ],
   "source": [
    "errs = np.abs(100*(npar([-0.784982, -0.813629, -0.808917])+1))\n",
    "errs.mean(), errs.std()"
   ]
  },
  {
   "cell_type": "markdown",
   "metadata": {},
   "source": [
    "#### Notes on the AAAI'20 paper\n",
    "    - The algo needs grid. Not possible to run the algo on freely distributed data points.\n",
    "    - Assume strictly sparse-distributed noise.\n",
    "    - It is not clear how to tune the lagrange multiplier hyper parameters so that the optimal true PDE is obtained.\n",
    "    - The PDE solution and the pde diff features are not learned or updated joinly, hence, the sub-optimal equation is discovered, especially in the noisy case."
   ]
  },
  {
   "cell_type": "code",
   "execution_count": null,
   "metadata": {},
   "outputs": [],
   "source": []
  }
 ],
 "metadata": {
  "kernelspec": {
   "display_name": "Python 3",
   "language": "python",
   "name": "python3"
  },
  "language_info": {
   "codemirror_mode": {
    "name": "ipython",
    "version": 3
   },
   "file_extension": ".py",
   "mimetype": "text/x-python",
   "name": "python",
   "nbconvert_exporter": "python",
   "pygments_lexer": "ipython3",
   "version": "3.9.7"
  }
 },
 "nbformat": 4,
 "nbformat_minor": 4
}
