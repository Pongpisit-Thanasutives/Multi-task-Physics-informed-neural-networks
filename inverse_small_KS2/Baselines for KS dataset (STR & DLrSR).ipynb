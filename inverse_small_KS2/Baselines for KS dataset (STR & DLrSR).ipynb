{
 "cells": [
  {
   "cell_type": "markdown",
   "metadata": {},
   "source": [
    "#### Implement the baseline algos here"
   ]
  },
  {
   "cell_type": "code",
   "execution_count": 1,
   "metadata": {},
   "outputs": [
    {
     "name": "stdout",
     "output_type": "stream",
     "text": [
      "Running Python 3.9.8\n",
      "You can use npar for np.array\n",
      "Populating the interactive namespace from numpy and matplotlib\n"
     ]
    },
    {
     "name": "stderr",
     "output_type": "stream",
     "text": [
      "/usr/local/lib/python3.9/site-packages/IPython/core/magics/pylab.py:159: UserWarning: pylab import has clobbered these variables: ['diff', 'save']\n",
      "`%matplotlib` prevents importing * from pylab and numpy\n",
      "  warn(\"pylab import has clobbered these variables: %s\"  % clobbered +\n"
     ]
    }
   ],
   "source": [
    "import sys; sys.path.insert(0, \"../\"); from utils import *\n",
    "import pickle\n",
    "\n",
    "%pylab inline\n",
    "pylab.rcParams['figure.figsize'] = (12, 8)\n",
    "import numpy as np\n",
    "from mpl_toolkits.mplot3d import Axes3D\n",
    "from pde_diff import *\n",
    "import robust_PDE_FIND\n",
    "from robust_PDE_FIND import TrainSTRidge, compute_err, print_pde, RobustPCA, Robust_LRSTR\n",
    "import scipy.io as sio"
   ]
  },
  {
   "cell_type": "code",
   "execution_count": 2,
   "metadata": {},
   "outputs": [
    {
     "name": "stdout",
     "output_type": "stream",
     "text": [
      "Total data points: 257024\n"
     ]
    }
   ],
   "source": [
    "# Loading the KS sols\n",
    "# data = sio.loadmat(\"../R_DLGA_datasets/KS.mat\")\n",
    "data = sio.loadmat(\"../PDE_FIND_experimental_datasets/kuramoto_sivishinky.mat\")\n",
    "\n",
    "t = data['tt'][0,:]\n",
    "x = data['x'][:,0]\n",
    "\n",
    "idx_x = np.arange(len(x))\n",
    "# idx_x = idx_x[idx_x%1==0]\n",
    "idx_t = np.arange(len(t))\n",
    "# idx_t = idx_t[t<=7.6]\n",
    "\n",
    "x = x[idx_x]\n",
    "t = t[idx_t]\n",
    "\n",
    "time_dims = t.shape[0]\n",
    "spatial_dims = x.shape[0]\n",
    "\n",
    "total_points = time_dims*spatial_dims\n",
    "print(\"Total data points:\", total_points)\n",
    "\n",
    "X, T = np.meshgrid(x, t)\n",
    "Exact = data['uu']\n",
    "u = Exact[idx_x][:, idx_t]\n",
    "\n",
    "# DATA_PATH = \"../deephpms_data/KS_new3.pkl\"\n",
    "# data = pickle_load(DATA_PATH)\n",
    "# t = data['t']\n",
    "# x = data['x']\n",
    "# X, T = np.meshgrid(x, t)\n",
    "# Exact = data['u']\n",
    "# u = Exact\n",
    "\n",
    "# from rkstiff import grids\n",
    "# from rkstiff import if34\n",
    "\n",
    "# # Computing the KS sol\n",
    "# # uniform grid spacing, real-valued u -> construct_x_kx_rfft\n",
    "# N = 256\n",
    "# # a, b = 0, 16*np.pi\n",
    "# M = 2\n",
    "# a, b = -M*np.pi, M*np.pi\n",
    "# # a, b = -M, M\n",
    "# x, kx = grids.construct_x_kx_rfft(N, a, b)\n",
    "\n",
    "# L = kx**2*(1-kx**2)\n",
    "# def NL(uFFT):\n",
    "#     u = np.fft.irfft(uFFT)\n",
    "#     ux = np.fft.irfft(1j*kx*uFFT)\n",
    "#     return -np.fft.rfft(u*ux)\n",
    "\n",
    "# u0 = -np.sin(np.pi*x/10)\n",
    "# # u0 = np.cos(x/16)*(1.+np.sin(x/16))\n",
    "# u0FFT = np.fft.rfft(u0)\n",
    "# solver = if34.IF34(linop=L,NLfunc=NL)\n",
    "# ufFFT = solver.evolve(u0FFT, t0=0, tf=10) # store every 20th step in solver.u and solver.t\n",
    "\n",
    "# U = []\n",
    "# for uFFT in solver.u:\n",
    "#     U.append(np.fft.irfft(uFFT))\n",
    "# U = np.array(U)\n",
    "# t = np.array(solver.t)\n",
    "\n",
    "# X, T = np.meshgrid(x, t)\n",
    "# Exact = U.T\n",
    "# u = Exact\n",
    "\n",
    "# spatial_dims = Exact.shape[0]\n",
    "# time_dims = Exact.shape[1]"
   ]
  },
  {
   "cell_type": "code",
   "execution_count": 3,
   "metadata": {},
   "outputs": [],
   "source": [
    "# fig1 = figure()\n",
    "# ax = fig1.gca(projection='3d')\n",
    "# surf = ax.plot_surface(X, T, u.T, rstride=1, cstride=1, cmap=cm.coolwarm,\n",
    "#     linewidth=0, antialiased=False)\n",
    "# title('Kuramoto Sivashinsky Equation', fontsize = 20)\n",
    "# xlabel('x', fontsize = 16)\n",
    "# ylabel('t', fontsize = 16)"
   ]
  },
  {
   "cell_type": "markdown",
   "metadata": {},
   "source": [
    "#### STR"
   ]
  },
  {
   "cell_type": "code",
   "execution_count": 4,
   "metadata": {},
   "outputs": [],
   "source": [
    "dt = t[1]-t[0]\n",
    "dx = x[2]-x[1]\n",
    "Ut, R, rhs_des = build_linear_system(u, dt, dx, D=5, P=5, time_diff = 'FD', space_diff = 'FD')"
   ]
  },
  {
   "cell_type": "code",
   "execution_count": 5,
   "metadata": {},
   "outputs": [],
   "source": [
    "idx = np.random.choice(R.shape[0], R.shape[0], replace=False)"
   ]
  },
  {
   "cell_type": "code",
   "execution_count": 6,
   "metadata": {},
   "outputs": [
    {
     "name": "stderr",
     "output_type": "stream",
     "text": [
      "/Users/pongpisit/Desktop/Multi-task-Physics-informed-neural-networks/inverse_small_KS2/robust_PDE_FIND.py:845: FutureWarning: `rcond` parameter will change to the default of machine precision times ``max(M, N)`` where M and N are the input matrix dimensions.\n",
      "To use the future default and silence this warning we advise to pass `rcond=None`, to keep using the old, explicitly pass `rcond=-1`.\n",
      "  w_best = np.linalg.lstsq(TrainR, TrainY)[0]\n",
      "/Users/pongpisit/Desktop/Multi-task-Physics-informed-neural-networks/inverse_small_KS2/robust_PDE_FIND.py:890: FutureWarning: `rcond` parameter will change to the default of machine precision times ``max(M, N)`` where M and N are the input matrix dimensions.\n",
      "To use the future default and silence this warning we advise to pass `rcond=None`, to keep using the old, explicitly pass `rcond=-1`.\n",
      "  if lam != 0: w = np.linalg.lstsq(X.T.dot(X) + lam*np.eye(d),X.T.dot(y))[0]\n",
      "/Users/pongpisit/Desktop/Multi-task-Physics-informed-neural-networks/inverse_small_KS2/robust_PDE_FIND.py:916: FutureWarning: `rcond` parameter will change to the default of machine precision times ``max(M, N)`` where M and N are the input matrix dimensions.\n",
      "To use the future default and silence this warning we advise to pass `rcond=None`, to keep using the old, explicitly pass `rcond=-1`.\n",
      "  if lam != 0: w[biginds] = np.linalg.lstsq(X[:, biginds].T.dot(X[:, biginds]) + lam*np.eye(len(biginds)),X[:, biginds].T.dot(y))[0]\n",
      "/Users/pongpisit/Desktop/Multi-task-Physics-informed-neural-networks/inverse_small_KS2/robust_PDE_FIND.py:920: FutureWarning: `rcond` parameter will change to the default of machine precision times ``max(M, N)`` where M and N are the input matrix dimensions.\n",
      "To use the future default and silence this warning we advise to pass `rcond=None`, to keep using the old, explicitly pass `rcond=-1`.\n",
      "  if biginds != []: w[biginds] = np.linalg.lstsq(X[:, biginds],y)[0]\n"
     ]
    },
    {
     "name": "stdout",
     "output_type": "stream",
     "text": [
      "PDE derived using STRidge\n",
      "u_t = (-0.984425 +0.000000i)uu_{x}\n",
      "    + (-0.994175 +0.000000i)u_{xx}\n",
      "    + (-0.998730 +0.000000i)u_{xxxx}\n",
      "   \n"
     ]
    }
   ],
   "source": [
    "w = TrainSTRidge(R, Ut, 10**-5, 5)\n",
    "# TrainSTRidge(X_input[:, :], y_input, 1e-6, 10, normalize=1)\n",
    "# w = TrainSTRidge(R[idx, :],Ut[idx, :],10**-6,50)\n",
    "print(\"PDE derived using STRidge\")\n",
    "print_pde(w, rhs_des)"
   ]
  },
  {
   "cell_type": "code",
   "execution_count": 7,
   "metadata": {},
   "outputs": [
    {
     "name": "stdout",
     "output_type": "stream",
     "text": [
      "(1024, 251)\n",
      "257024\n"
     ]
    }
   ],
   "source": [
    "print(u.shape)\n",
    "total_points = u.shape[0]*u.shape[1]\n",
    "print(total_points)"
   ]
  },
  {
   "cell_type": "code",
   "execution_count": 8,
   "metadata": {},
   "outputs": [],
   "source": [
    "# 1024*89 -> sample 256*89 to train"
   ]
  },
  {
   "cell_type": "code",
   "execution_count": 9,
   "metadata": {},
   "outputs": [],
   "source": [
    "# with open(\"../deephpms_data/KS_new3.pkl\", \"wb\") as f:\n",
    "#     pickle.dump(dict({'x':x, 't':t, 'u':u}), f)"
   ]
  },
  {
   "cell_type": "code",
   "execution_count": 8,
   "metadata": {},
   "outputs": [
    {
     "data": {
      "text/plain": [
       "(0.7556666666666656, 0.5966979042102376)"
      ]
     },
     "execution_count": 8,
     "metadata": {},
     "output_type": "execute_result"
    }
   ],
   "source": [
    "# PDE derived using STRidge\n",
    "# u_t = (-0.984425 +0.000000i)uu_{x}\n",
    "#     + (-0.994175 +0.000000i)u_{xx}\n",
    "#     + (-0.998730 +0.000000i)u_{xxxx}\n",
    "\n",
    "errs = 100*(np.abs(npar([-0.984425, -0.994175, -0.998730])+1))\n",
    "errs.mean(), errs.std()"
   ]
  },
  {
   "cell_type": "markdown",
   "metadata": {},
   "source": [
    "#### STR + noise"
   ]
  },
  {
   "cell_type": "code",
   "execution_count": 10,
   "metadata": {},
   "outputs": [],
   "source": [
    "noise_intensity = 0.01\n",
    "numpy.random.seed(0)\n",
    "un = u + noise_intensity*std(u)*np.random.randn(u.shape[0],u.shape[1])"
   ]
  },
  {
   "cell_type": "code",
   "execution_count": 11,
   "metadata": {},
   "outputs": [
    {
     "name": "stdout",
     "output_type": "stream",
     "text": [
      "PDE derived using STRidge\n",
      "u_t = (-0.458521 +0.000000i)uu_{x}\n",
      "    + (-0.480667 +0.000000i)u_{xx}\n",
      "    + (-0.492282 +0.000000i)u_{xxxx}\n",
      "   \n"
     ]
    }
   ],
   "source": [
    "# Utn, Rn, rhs_des = build_linear_system(un, dt, dx, D=5, P=5, time_diff = 'FD', space_diff = 'FD')\n",
    "\n",
    "Utn, Rn, rhs_des = build_linear_system(un, dt, dx, D=5, P=5, \n",
    "                                 time_diff = 'poly', space_diff = 'poly', \n",
    "                                 width_x = 20, width_t = 20, deg_x = 6)\n",
    "# Solve with STRidge\n",
    "w = TrainSTRidge(Rn,Utn,10**-5,5)\n",
    "print(\"PDE derived using STRidge\")\n",
    "print_pde(w, rhs_des)"
   ]
  },
  {
   "cell_type": "code",
   "execution_count": 12,
   "metadata": {},
   "outputs": [],
   "source": [
    "# PDE derived using STRidge\n",
    "# u_t = (-0.458521 +0.000000i)uu_{x}\n",
    "#     + (-0.480667 +0.000000i)u_{xx}\n",
    "#     + (-0.492282 +0.000000i)u_{xxxx}"
   ]
  },
  {
   "cell_type": "code",
   "execution_count": 13,
   "metadata": {},
   "outputs": [
    {
     "data": {
      "text/plain": [
       "(52.284333333333336, 1.4004597110314283)"
      ]
     },
     "execution_count": 13,
     "metadata": {},
     "output_type": "execute_result"
    }
   ],
   "source": [
    "errs = 100*(np.abs(npar([-0.458521, -0.480667, -0.492282])+1))\n",
    "errs.mean(), errs.std()"
   ]
  },
  {
   "cell_type": "markdown",
   "metadata": {},
   "source": [
    "#### DLrSR"
   ]
  },
  {
   "cell_type": "code",
   "execution_count": 40,
   "metadata": {},
   "outputs": [
    {
     "name": "stdout",
     "output_type": "stream",
     "text": [
      "iteration:1, err:6782.698553354604, nc_norm:3140.707575226815 eta1:0.002541325899241079\n",
      "iteration:50, err:0.08699106913499305, nc_norm:2762.854145694224 eta1:0.27120764977924544\n",
      "iteration:100, err:0.0009321212448607521, nc_norm:1753.509475829864 eta1:31.837297315083465\n",
      "iteration:149, err:9.457973655488348e-06, nc_norm:1744.918801098443 eta1:3397.643168365541\n"
     ]
    }
   ],
   "source": [
    "u_in = u\n",
    "\n",
    "Z, E1 = RobustPCA(u_in, lam_2 = 0.3)\n",
    "\n",
    "diff_type = \"fd\"\n",
    "if diff_type == \"poly\":\n",
    "    ZUtn, ZRn, rhs_des = build_linear_system(Z, dt, dx, D=4, P=4, \n",
    "                                     time_diff = 'poly', space_diff = 'poly', \n",
    "                                     width_x = 20, width_t = 20, deg_x = 6)\n",
    "elif diff_type == \"fd\":\n",
    "    ZUtn, ZRn, rhs_des = build_linear_system(Z, dt, dx, D=4, P=4, time_diff = 'FD', space_diff = 'FD')"
   ]
  },
  {
   "cell_type": "code",
   "execution_count": 41,
   "metadata": {},
   "outputs": [
    {
     "data": {
      "text/plain": [
       "(257024, 1)"
      ]
     },
     "execution_count": 41,
     "metadata": {},
     "output_type": "execute_result"
    }
   ],
   "source": [
    "ZUtn.shape"
   ]
  },
  {
   "cell_type": "code",
   "execution_count": 42,
   "metadata": {},
   "outputs": [],
   "source": [
    "if diff_type == \"poly\":\n",
    "    double_width = 0\n",
    "    for n in range(0, 101):\n",
    "        if ZUtn.shape[0] == (spatial_dims-n)*(time_dims-n):\n",
    "            double_width = n\n",
    "            nx = spatial_dims-n\n",
    "            nt = time_dims-n\n",
    "            print(double_width); break\n",
    "elif diff_type == \"fd\":\n",
    "    (nx,nt) = spatial_dims, time_dims"
   ]
  },
  {
   "cell_type": "code",
   "execution_count": 43,
   "metadata": {},
   "outputs": [
    {
     "name": "stdout",
     "output_type": "stream",
     "text": [
      "iteration:1, err:1499.9450715276414, nc_norm:807.220406170525 eta2:0.012510157726562877\n",
      "u_t = \n",
      "u_t = (-0.984022 +0.000000i)uu_{x}\n",
      "    + (-0.993733 +0.000000i)u_{xx}\n",
      "    + (-0.998291 +0.000000i)u_{xxxx}\n",
      "   \n",
      "u_t = (-0.984573 +0.000000i)uu_{x}\n",
      "    + (-0.994294 +0.000000i)u_{xx}\n",
      "    + (-0.998854 +0.000000i)u_{xxxx}\n",
      "   \n",
      "u_t = (-0.984337 +0.000000i)uu_{x}\n",
      "    + (-0.994060 +0.000000i)u_{xx}\n",
      "    + (-0.998618 +0.000000i)u_{xxxx}\n",
      "   \n",
      "u_t = (-0.984345 +0.000000i)uu_{x}\n",
      "    + (-0.994072 +0.000000i)u_{xx}\n",
      "    + (-0.998630 +0.000000i)u_{xxxx}\n",
      "   \n",
      "u_t = (-0.984352 +0.000000i)uu_{x}\n",
      "    + (-0.994083 +0.000000i)u_{xx}\n",
      "    + (-0.998640 +0.000000i)u_{xxxx}\n",
      "   \n",
      "u_t = (-0.984358 +0.000000i)uu_{x}\n",
      "    + (-0.994093 +0.000000i)u_{xx}\n",
      "    + (-0.998650 +0.000000i)u_{xxxx}\n",
      "   \n",
      "u_t = (-0.984365 +0.000000i)uu_{x}\n",
      "    + (-0.994102 +0.000000i)u_{xx}\n",
      "    + (-0.998659 +0.000000i)u_{xxxx}\n",
      "   \n",
      "u_t = (-0.984371 +0.000000i)uu_{x}\n",
      "    + (-0.994112 +0.000000i)u_{xx}\n",
      "    + (-0.998668 +0.000000i)u_{xxxx}\n",
      "   \n",
      "u_t = (-0.984378 +0.000000i)uu_{x}\n",
      "    + (-0.994120 +0.000000i)u_{xx}\n",
      "    + (-0.998676 +0.000000i)u_{xxxx}\n",
      "   \n",
      "u_t = (-0.984384 +0.000000i)uu_{x}\n",
      "    + (-0.994128 +0.000000i)u_{xx}\n",
      "    + (-0.998684 +0.000000i)u_{xxxx}\n",
      "   \n",
      "u_t = (-0.984390 +0.000000i)uu_{x}\n",
      "    + (-0.994136 +0.000000i)u_{xx}\n",
      "    + (-0.998691 +0.000000i)u_{xxxx}\n",
      "   \n",
      "u_t = (-0.984395 +0.000000i)uu_{x}\n",
      "    + (-0.994142 +0.000000i)u_{xx}\n",
      "    + (-0.998697 +0.000000i)u_{xxxx}\n",
      "   \n",
      "u_t = (-0.984400 +0.000000i)uu_{x}\n",
      "    + (-0.994147 +0.000000i)u_{xx}\n",
      "    + (-0.998702 +0.000000i)u_{xxxx}\n",
      "   \n",
      "u_t = (-0.984403 +0.000000i)uu_{x}\n",
      "    + (-0.994150 +0.000000i)u_{xx}\n",
      "    + (-0.998706 +0.000000i)u_{xxxx}\n",
      "   \n",
      "u_t = (-0.984405 +0.000000i)uu_{x}\n",
      "    + (-0.994153 +0.000000i)u_{xx}\n",
      "    + (-0.998708 +0.000000i)u_{xxxx}\n",
      "   \n",
      "u_t = (-0.984407 +0.000000i)uu_{x}\n",
      "    + (-0.994155 +0.000000i)u_{xx}\n",
      "    + (-0.998710 +0.000000i)u_{xxxx}\n",
      "   \n",
      "u_t = (-0.984408 +0.000000i)uu_{x}\n",
      "    + (-0.994156 +0.000000i)u_{xx}\n",
      "    + (-0.998711 +0.000000i)u_{xxxx}\n",
      "   \n",
      "u_t = (-0.984409 +0.000000i)uu_{x}\n",
      "    + (-0.994157 +0.000000i)u_{xx}\n",
      "    + (-0.998712 +0.000000i)u_{xxxx}\n",
      "   \n",
      "u_t = (-0.984410 +0.000000i)uu_{x}\n",
      "    + (-0.994158 +0.000000i)u_{xx}\n",
      "    + (-0.998713 +0.000000i)u_{xxxx}\n",
      "   \n",
      "u_t = (-0.984410 +0.000000i)uu_{x}\n",
      "    + (-0.994158 +0.000000i)u_{xx}\n",
      "    + (-0.998714 +0.000000i)u_{xxxx}\n",
      "   \n",
      "u_t = (-0.984411 +0.000000i)uu_{x}\n",
      "    + (-0.994159 +0.000000i)u_{xx}\n",
      "    + (-0.998714 +0.000000i)u_{xxxx}\n",
      "   \n",
      "u_t = (-0.984411 +0.000000i)uu_{x}\n",
      "    + (-0.994159 +0.000000i)u_{xx}\n",
      "    + (-0.998714 +0.000000i)u_{xxxx}\n",
      "   \n",
      "u_t = (-0.984411 +0.000000i)uu_{x}\n",
      "    + (-0.994159 +0.000000i)u_{xx}\n",
      "    + (-0.998714 +0.000000i)u_{xxxx}\n",
      "   \n",
      "u_t = (-0.984411 +0.000000i)uu_{x}\n",
      "    + (-0.994159 +0.000000i)u_{xx}\n",
      "    + (-0.998714 +0.000000i)u_{xxxx}\n",
      "   \n",
      "u_t = (-0.984411 +0.000000i)uu_{x}\n",
      "    + (-0.994159 +0.000000i)u_{xx}\n",
      "    + (-0.998714 +0.000000i)u_{xxxx}\n",
      "   \n",
      "u_t = (-0.984411 +0.000000i)uu_{x}\n",
      "    + (-0.994159 +0.000000i)u_{xx}\n",
      "    + (-0.998714 +0.000000i)u_{xxxx}\n",
      "   \n",
      "u_t = (-0.984411 +0.000000i)uu_{x}\n",
      "    + (-0.994159 +0.000000i)u_{xx}\n",
      "    + (-0.998714 +0.000000i)u_{xxxx}\n",
      "   \n",
      "u_t = (-0.984411 +0.000000i)uu_{x}\n",
      "    + (-0.994159 +0.000000i)u_{xx}\n",
      "    + (-0.998715 +0.000000i)u_{xxxx}\n",
      "   \n",
      "u_t = (-0.984411 +0.000000i)uu_{x}\n",
      "    + (-0.994159 +0.000000i)u_{xx}\n",
      "    + (-0.998715 +0.000000i)u_{xxxx}\n",
      "   \n",
      "u_t = (-0.984412 +0.000000i)uu_{x}\n",
      "    + (-0.994159 +0.000000i)u_{xx}\n",
      "    + (-0.998715 +0.000000i)u_{xxxx}\n",
      "   \n",
      "u_t = (-0.984412 +0.000000i)uu_{x}\n",
      "    + (-0.994159 +0.000000i)u_{xx}\n",
      "    + (-0.998715 +0.000000i)u_{xxxx}\n",
      "   \n",
      "iteration:50, err:0.010354393255846703, nc_norm:451.54536800160434 eta2:94.87326386446396\n",
      "u_t = (-0.984412 +0.000000i)uu_{x}\n",
      "    + (-0.994159 +0.000000i)u_{xx}\n",
      "    + (-0.998715 +0.000000i)u_{xxxx}\n",
      "   \n",
      "u_t = (-0.984412 +0.000000i)uu_{x}\n",
      "    + (-0.994159 +0.000000i)u_{xx}\n",
      "    + (-0.998715 +0.000000i)u_{xxxx}\n",
      "   \n",
      "u_t = (-0.984412 +0.000000i)uu_{x}\n",
      "    + (-0.994159 +0.000000i)u_{xx}\n",
      "    + (-0.998715 +0.000000i)u_{xxxx}\n",
      "   \n",
      "u_t = (-0.984412 +0.000000i)uu_{x}\n",
      "    + (-0.994159 +0.000000i)u_{xx}\n",
      "    + (-0.998715 +0.000000i)u_{xxxx}\n",
      "   \n",
      "u_t = (-0.984412 +0.000000i)uu_{x}\n",
      "    + (-0.994159 +0.000000i)u_{xx}\n",
      "    + (-0.998715 +0.000000i)u_{xxxx}\n",
      "   \n",
      "u_t = (-0.984412 +0.000000i)uu_{x}\n",
      "    + (-0.994160 +0.000000i)u_{xx}\n",
      "    + (-0.998715 +0.000000i)u_{xxxx}\n",
      "   \n",
      "u_t = (-0.984412 +0.000000i)uu_{x}\n",
      "    + (-0.994160 +0.000000i)u_{xx}\n",
      "    + (-0.998715 +0.000000i)u_{xxxx}\n",
      "   \n",
      "u_t = (-0.984412 +0.000000i)uu_{x}\n",
      "    + (-0.994160 +0.000000i)u_{xx}\n",
      "    + (-0.998715 +0.000000i)u_{xxxx}\n",
      "   \n",
      "u_t = (-0.984412 +0.000000i)uu_{x}\n",
      "    + (-0.994160 +0.000000i)u_{xx}\n",
      "    + (-0.998715 +0.000000i)u_{xxxx}\n",
      "   \n",
      "u_t = (-0.984412 +0.000000i)uu_{x}\n",
      "    + (-0.994160 +0.000000i)u_{xx}\n",
      "    + (-0.998715 +0.000000i)u_{xxxx}\n",
      "   \n",
      "u_t = (-0.984412 +0.000000i)uu_{x}\n",
      "    + (-0.994160 +0.000000i)u_{xx}\n",
      "    + (-0.998715 +0.000000i)u_{xxxx}\n",
      "   \n",
      "u_t = (-0.984412 +0.000000i)uu_{x}\n",
      "    + (-0.994160 +0.000000i)u_{xx}\n",
      "    + (-0.998715 +0.000000i)u_{xxxx}\n",
      "   \n",
      "u_t = (-0.984412 +0.000000i)uu_{x}\n",
      "    + (-0.994159 +0.000000i)u_{xx}\n",
      "    + (-0.998715 +0.000000i)u_{xxxx}\n",
      "   \n",
      "u_t = (-0.984412 +0.000000i)uu_{x}\n",
      "    + (-0.994159 +0.000000i)u_{xx}\n",
      "    + (-0.998715 +0.000000i)u_{xxxx}\n",
      "   \n",
      "u_t = (-0.984412 +0.000000i)uu_{x}\n",
      "    + (-0.994159 +0.000000i)u_{xx}\n",
      "    + (-0.998715 +0.000000i)u_{xxxx}\n",
      "   \n",
      "u_t = (-0.984412 +0.000000i)uu_{x}\n",
      "    + (-0.994159 +0.000000i)u_{xx}\n",
      "    + (-0.998715 +0.000000i)u_{xxxx}\n",
      "   \n",
      "u_t = (-0.984412 +0.000000i)uu_{x}\n",
      "    + (-0.994159 +0.000000i)u_{xx}\n",
      "    + (-0.998715 +0.000000i)u_{xxxx}\n",
      "   \n",
      "u_t = (-0.984412 +0.000000i)uu_{x}\n",
      "    + (-0.994159 +0.000000i)u_{xx}\n",
      "    + (-0.998715 +0.000000i)u_{xxxx}\n",
      "   \n",
      "u_t = (-0.984412 +0.000000i)uu_{x}\n",
      "    + (-0.994159 +0.000000i)u_{xx}\n",
      "    + (-0.998715 +0.000000i)u_{xxxx}\n",
      "   \n",
      "u_t = (-0.984412 +0.000000i)uu_{x}\n",
      "    + (-0.994159 +0.000000i)u_{xx}\n",
      "    + (-0.998715 +0.000000i)u_{xxxx}\n",
      "   \n",
      "u_t = (-0.984412 +0.000000i)uu_{x}\n",
      "    + (-0.994159 +0.000000i)u_{xx}\n",
      "    + (-0.998715 +0.000000i)u_{xxxx}\n",
      "   \n",
      "u_t = (-0.984412 +0.000000i)uu_{x}\n",
      "    + (-0.994159 +0.000000i)u_{xx}\n",
      "    + (-0.998715 +0.000000i)u_{xxxx}\n",
      "   \n",
      "u_t = (-0.984412 +0.000000i)uu_{x}\n",
      "    + (-0.994159 +0.000000i)u_{xx}\n",
      "    + (-0.998715 +0.000000i)u_{xxxx}\n",
      "   \n",
      "u_t = (-0.984412 +0.000000i)uu_{x}\n",
      "    + (-0.994159 +0.000000i)u_{xx}\n",
      "    + (-0.998715 +0.000000i)u_{xxxx}\n",
      "   \n",
      "u_t = (-0.984412 +0.000000i)uu_{x}\n",
      "    + (-0.994159 +0.000000i)u_{xx}\n",
      "    + (-0.998715 +0.000000i)u_{xxxx}\n",
      "   \n",
      "u_t = (-0.984412 +0.000000i)uu_{x}\n",
      "    + (-0.994159 +0.000000i)u_{xx}\n",
      "    + (-0.998715 +0.000000i)u_{xxxx}\n",
      "   \n",
      "iteration:75, err:8.21252098904714e-06, nc_norm:448.4554770515802 eta2:9050.550433344322\n",
      "u_t = (-0.984412 +0.000000i)uu_{x}\n",
      "    + (-0.994159 +0.000000i)u_{xx}\n",
      "    + (-0.998715 +0.000000i)u_{xxxx}\n",
      "   \n",
      "u_t = (-0.984412 +0.000000i)uu_{x}\n",
      "    + (-0.994159 +0.000000i)u_{xx}\n",
      "    + (-0.998715 +0.000000i)u_{xxxx}\n",
      "   \n"
     ]
    }
   ],
   "source": [
    "# Solve with DLrSR\n",
    "Utn1 = np.reshape(ZUtn, (nx,nt))\n",
    "w, X, E2 = Robust_LRSTR(ZRn, Utn1, rhs_des, lam_1 = 1e-5, lam_3 = 0.3, lam_4 = 1e-4, d_tol = 5)\n",
    "print_pde(w, rhs_des)"
   ]
  },
  {
   "cell_type": "code",
   "execution_count": 9,
   "metadata": {},
   "outputs": [
    {
     "data": {
      "text/plain": [
       "(0.7571333333333338, 0.5965986497544998)"
      ]
     },
     "execution_count": 9,
     "metadata": {},
     "output_type": "execute_result"
    }
   ],
   "source": [
    "errs = np.abs(100*(npar([-0.984412, -0.994159, -0.998715])+1))\n",
    "errs.mean(), errs.std()"
   ]
  },
  {
   "cell_type": "markdown",
   "metadata": {},
   "source": [
    "#### DLrSR + noise (Normal distributed noise)"
   ]
  },
  {
   "cell_type": "code",
   "execution_count": 67,
   "metadata": {},
   "outputs": [
    {
     "name": "stdout",
     "output_type": "stream",
     "text": [
      "iteration:1, err:6779.3651218702325, nc_norm:3267.101964367483 eta1:0.0025412325604941247\n",
      "iteration:50, err:0.830026185886509, nc_norm:2831.9579896728214 eta1:0.2711976887655077\n",
      "iteration:84, err:7.473817135667703e-06, nc_norm:1854.7548052580946 eta1:6.928469019885169\n"
     ]
    }
   ],
   "source": [
    "u_in = un\n",
    "Z, E1 = RobustPCA(u_in, lam_2 = 0.1)\n",
    "diff_type = \"poly\"\n",
    "if diff_type == \"poly\":\n",
    "    ZUtn, ZRn, rhs_des = build_linear_system(Z, dt, dx, D=4, P=4, \n",
    "                                     time_diff = 'poly', space_diff = 'poly', \n",
    "                                     width_x = 20, width_t = 20, deg_x = 6)\n",
    "elif diff_type == \"fd\":\n",
    "    ZUtn, ZRn, rhs_des = build_linear_system(Z, dt, dx, D=5, P=5, time_diff = 'FD', space_diff = 'FD')"
   ]
  },
  {
   "cell_type": "code",
   "execution_count": 68,
   "metadata": {},
   "outputs": [
    {
     "name": "stdout",
     "output_type": "stream",
     "text": [
      "40\n"
     ]
    }
   ],
   "source": [
    "if diff_type == \"poly\":\n",
    "    double_width = 0\n",
    "    for n in range(0, 101):\n",
    "        if ZUtn.shape[0] == (spatial_dims-n)*(time_dims-n):\n",
    "            double_width = n\n",
    "            nx = spatial_dims-n\n",
    "            nt = time_dims-n\n",
    "            print(double_width); break\n",
    "elif diff_type == \"fd\":\n",
    "    (nx,nt) = spatial_dims, time_dims"
   ]
  },
  {
   "cell_type": "code",
   "execution_count": 69,
   "metadata": {},
   "outputs": [
    {
     "name": "stdout",
     "output_type": "stream",
     "text": [
      "iteration:1, err:1083.0751108362106, nc_norm:686.6157329685841 eta2:0.015822935836742918\n",
      "u_t = \n",
      "u_t = (-0.177664 +0.000000i)uu_{x}\n",
      "    + (-0.114428 +0.000000i)u_{xx}\n",
      "    + (-0.030660 +0.000000i)uu_{xxx}\n",
      "    + (-0.145993 +0.000000i)u_{xxxx}\n",
      "   \n",
      "u_t = (-0.421044 +0.000000i)uu_{x}\n",
      "    + (-0.263850 +0.000000i)u_{xx}\n",
      "    + (-0.074821 +0.000000i)uu_{xxx}\n",
      "    + (-0.341089 +0.000000i)u_{xxxx}\n",
      "   \n",
      "u_t = (-0.633930 +0.000000i)uu_{x}\n",
      "    + (-0.396793 +0.000000i)u_{xx}\n",
      "    + (-0.112763 +0.000000i)uu_{xxx}\n",
      "    + (-0.513252 +0.000000i)u_{xxxx}\n",
      "   \n",
      "u_t = (-0.740830 +0.000000i)uu_{x}\n",
      "    + (-0.467121 +0.000000i)u_{xx}\n",
      "    + (-0.130753 +0.000000i)uu_{xxx}\n",
      "    + (-0.602070 +0.000000i)u_{xxxx}\n",
      "   \n",
      "u_t = (-0.731976 +0.000000i)uu_{x}\n",
      "    + (-0.466407 +0.000000i)u_{xx}\n",
      "    + (-0.127736 +0.000000i)uu_{xxx}\n",
      "    + (-0.598077 +0.000000i)u_{xxxx}\n",
      "   \n",
      "u_t = (-0.661025 +0.000000i)uu_{x}\n",
      "    + (-0.425745 +0.000000i)u_{xx}\n",
      "    + (-0.113985 +0.000000i)uu_{xxx}\n",
      "    + (-0.543081 +0.000000i)u_{xxxx}\n",
      "   \n",
      "u_t = (-0.598243 +0.000000i)uu_{x}\n",
      "    + (-0.388676 +0.000000i)u_{xx}\n",
      "    + (-0.102162 +0.000000i)uu_{xxx}\n",
      "    + (-0.493743 +0.000000i)u_{xxxx}\n",
      "   \n",
      "u_t = (-0.578549 +0.000000i)uu_{x}\n",
      "    + (-0.377539 +0.000000i)u_{xx}\n",
      "    + (-0.098384 +0.000000i)uu_{xxx}\n",
      "    + (-0.478684 +0.000000i)u_{xxxx}\n",
      "   \n",
      "u_t = (-0.586587 +0.000000i)uu_{x}\n",
      "    + (-0.380934 +0.000000i)u_{xx}\n",
      "    + (-0.100345 +0.000000i)uu_{xxx}\n",
      "    + (-0.484158 +0.000000i)u_{xxxx}\n",
      "   \n",
      "u_t = (-0.597991 +0.000000i)uu_{x}\n",
      "    + (-0.385668 +0.000000i)u_{xx}\n",
      "    + (-0.103074 +0.000000i)uu_{xxx}\n",
      "    + (-0.491779 +0.000000i)u_{xxxx}\n",
      "   \n",
      "u_t = (-0.602371 +0.000000i)uu_{x}\n",
      "    + (-0.387456 +0.000000i)u_{xx}\n",
      "    + (-0.104115 +0.000000i)uu_{xxx}\n",
      "    + (-0.494664 +0.000000i)u_{xxxx}\n",
      "   \n",
      "u_t = (-0.601680 +0.000000i)uu_{x}\n",
      "    + (-0.387300 +0.000000i)u_{xx}\n",
      "    + (-0.103908 +0.000000i)uu_{xxx}\n",
      "    + (-0.494279 +0.000000i)u_{xxxx}\n",
      "   \n",
      "u_t = (-0.600287 +0.000000i)uu_{x}\n",
      "    + (-0.386805 +0.000000i)u_{xx}\n",
      "    + (-0.103554 +0.000000i)uu_{xxx}\n",
      "    + (-0.493405 +0.000000i)u_{xxxx}\n",
      "   \n",
      "u_t = (-0.599763 +0.000000i)uu_{x}\n",
      "    + (-0.386519 +0.000000i)u_{xx}\n",
      "    + (-0.103448 +0.000000i)uu_{xxx}\n",
      "    + (-0.493011 +0.000000i)u_{xxxx}\n",
      "   \n",
      "u_t = (-0.599728 +0.000000i)uu_{x}\n",
      "    + (-0.386388 +0.000000i)u_{xx}\n",
      "    + (-0.103471 +0.000000i)uu_{xxx}\n",
      "    + (-0.492908 +0.000000i)u_{xxxx}\n",
      "   \n",
      "u_t = (-0.599722 +0.000000i)uu_{x}\n",
      "    + (-0.386307 +0.000000i)u_{xx}\n",
      "    + (-0.103491 +0.000000i)uu_{xxx}\n",
      "    + (-0.492850 +0.000000i)u_{xxxx}\n",
      "   \n",
      "u_t = (-0.599669 +0.000000i)uu_{x}\n",
      "    + (-0.386241 +0.000000i)u_{xx}\n",
      "    + (-0.103490 +0.000000i)uu_{xxx}\n",
      "    + (-0.492785 +0.000000i)u_{xxxx}\n",
      "   \n",
      "u_t = (-0.599616 +0.000000i)uu_{x}\n",
      "    + (-0.386189 +0.000000i)u_{xx}\n",
      "    + (-0.103486 +0.000000i)uu_{xxx}\n",
      "    + (-0.492729 +0.000000i)u_{xxxx}\n",
      "   \n",
      "u_t = (-0.599580 +0.000000i)uu_{x}\n",
      "    + (-0.386150 +0.000000i)u_{xx}\n",
      "    + (-0.103483 +0.000000i)uu_{xxx}\n",
      "    + (-0.492689 +0.000000i)u_{xxxx}\n",
      "   \n",
      "u_t = (-0.599557 +0.000000i)uu_{x}\n",
      "    + (-0.386125 +0.000000i)u_{xx}\n",
      "    + (-0.103482 +0.000000i)uu_{xxx}\n",
      "    + (-0.492662 +0.000000i)u_{xxxx}\n",
      "   \n",
      "u_t = (-0.599543 +0.000000i)uu_{x}\n",
      "    + (-0.386108 +0.000000i)u_{xx}\n",
      "    + (-0.103481 +0.000000i)uu_{xxx}\n",
      "    + (-0.492645 +0.000000i)u_{xxxx}\n",
      "   \n",
      "u_t = (-0.599534 +0.000000i)uu_{x}\n",
      "    + (-0.386098 +0.000000i)u_{xx}\n",
      "    + (-0.103481 +0.000000i)uu_{xxx}\n",
      "    + (-0.492635 +0.000000i)u_{xxxx}\n",
      "   \n",
      "u_t = (-0.599529 +0.000000i)uu_{x}\n",
      "    + (-0.386093 +0.000000i)u_{xx}\n",
      "    + (-0.103481 +0.000000i)uu_{xxx}\n",
      "    + (-0.492629 +0.000000i)u_{xxxx}\n",
      "   \n",
      "u_t = (-0.599526 +0.000000i)uu_{x}\n",
      "    + (-0.386090 +0.000000i)u_{xx}\n",
      "    + (-0.103480 +0.000000i)uu_{xxx}\n",
      "    + (-0.492626 +0.000000i)u_{xxxx}\n",
      "   \n",
      "u_t = (-0.599525 +0.000000i)uu_{x}\n",
      "    + (-0.386088 +0.000000i)u_{xx}\n",
      "    + (-0.103480 +0.000000i)uu_{xxx}\n",
      "    + (-0.492625 +0.000000i)u_{xxxx}\n",
      "   \n",
      "u_t = (-0.599524 +0.000000i)uu_{x}\n",
      "    + (-0.386088 +0.000000i)u_{xx}\n",
      "    + (-0.103480 +0.000000i)uu_{xxx}\n",
      "    + (-0.492624 +0.000000i)u_{xxxx}\n",
      "   \n",
      "u_t = (-0.599524 +0.000000i)uu_{x}\n",
      "    + (-0.386087 +0.000000i)u_{xx}\n",
      "    + (-0.103480 +0.000000i)uu_{xxx}\n",
      "    + (-0.492624 +0.000000i)u_{xxxx}\n",
      "   \n",
      "u_t = (-0.599524 +0.000000i)uu_{x}\n",
      "    + (-0.386087 +0.000000i)u_{xx}\n",
      "    + (-0.103480 +0.000000i)uu_{xxx}\n",
      "    + (-0.492624 +0.000000i)u_{xxxx}\n",
      "   \n",
      "u_t = (-0.599524 +0.000000i)uu_{x}\n",
      "    + (-0.386087 +0.000000i)u_{xx}\n",
      "    + (-0.103480 +0.000000i)uu_{xxx}\n",
      "    + (-0.492624 +0.000000i)u_{xxxx}\n",
      "   \n",
      "u_t = (-0.599524 +0.000000i)uu_{x}\n",
      "    + (-0.386087 +0.000000i)u_{xx}\n",
      "    + (-0.103480 +0.000000i)uu_{xxx}\n",
      "    + (-0.492624 +0.000000i)u_{xxxx}\n",
      "   \n",
      "iteration:49, err:3.7222068110384375e-06, nc_norm:347.77634533724336 eta2:99.99697842620223\n",
      "u_t = (-0.599524 +0.000000i)uu_{x}\n",
      "    + (-0.386087 +0.000000i)u_{xx}\n",
      "    + (-0.103480 +0.000000i)uu_{xxx}\n",
      "    + (-0.492624 +0.000000i)u_{xxxx}\n",
      "   \n",
      "u_t = (-0.599524 +0.000000i)uu_{x}\n",
      "    + (-0.386087 +0.000000i)u_{xx}\n",
      "    + (-0.103480 +0.000000i)uu_{xxx}\n",
      "    + (-0.492624 +0.000000i)u_{xxxx}\n",
      "   \n"
     ]
    }
   ],
   "source": [
    "# Solve with DLrSR\n",
    "Utn1 = np.reshape(ZUtn, (nx,nt))\n",
    "w, X, E2 = Robust_LRSTR(ZRn, Utn1, rhs_des, lam_1 = 1e-5, lam_3 = 0.15, lam_4 = 1, d_tol = 5)\n",
    "print_pde(w, rhs_des)"
   ]
  },
  {
   "cell_type": "code",
   "execution_count": 70,
   "metadata": {},
   "outputs": [],
   "source": [
    "# u_t = (-0.599524 +0.000000i)uu_{x}\n",
    "#     + (-0.386087 +0.000000i)u_{xx}\n",
    "#     + (-0.103480 +0.000000i)uu_{xxx}\n",
    "#     + (-0.492624 +0.000000i)u_{xxxx}"
   ]
  },
  {
   "cell_type": "code",
   "execution_count": 71,
   "metadata": {},
   "outputs": [],
   "source": [
    "# errs = np.abs(100*(npar([-0.784982, -0.813629, -0.808917])+1))\n",
    "# errs.mean(), errs.std()"
   ]
  },
  {
   "cell_type": "markdown",
   "metadata": {},
   "source": [
    "#### Notes on the AAAI'20 paper\n",
    "    - The algo needs grid. Not possible to run the algo on freely distributed data points.\n",
    "    - Assume strictly sparse-distributed noise.\n",
    "    - It is not clear how to tune the lagrange multiplier hyper parameters so that the optimal true PDE is obtained.\n",
    "    - The PDE solution and the pde diff features are not learned or updated joinly, hence, the sub-optimal equation is discovered, especially in the noisy case."
   ]
  },
  {
   "cell_type": "code",
   "execution_count": null,
   "metadata": {},
   "outputs": [],
   "source": []
  }
 ],
 "metadata": {
  "kernelspec": {
   "display_name": "Python 3",
   "language": "python",
   "name": "python3"
  },
  "language_info": {
   "codemirror_mode": {
    "name": "ipython",
    "version": 3
   },
   "file_extension": ".py",
   "mimetype": "text/x-python",
   "name": "python",
   "nbconvert_exporter": "python",
   "pygments_lexer": "ipython3",
   "version": "3.9.8"
  }
 },
 "nbformat": 4,
 "nbformat_minor": 4
}
