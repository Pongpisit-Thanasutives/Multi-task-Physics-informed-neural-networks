{
 "cells": [
  {
   "cell_type": "code",
   "execution_count": 1,
   "metadata": {},
   "outputs": [
    {
     "data": {
      "text/html": [
       "<style type='text/css'>\n",
       ".datatable table.frame { margin-bottom: 0; }\n",
       ".datatable table.frame thead { border-bottom: none; }\n",
       ".datatable table.frame tr.coltypes td {  color: #FFFFFF;  line-height: 6px;  padding: 0 0.5em;}\n",
       ".datatable .bool    { background: #DDDD99; }\n",
       ".datatable .object  { background: #565656; }\n",
       ".datatable .int     { background: #5D9E5D; }\n",
       ".datatable .float   { background: #4040CC; }\n",
       ".datatable .str     { background: #CC4040; }\n",
       ".datatable .time    { background: #40CC40; }\n",
       ".datatable .row_index {  background: var(--jp-border-color3);  border-right: 1px solid var(--jp-border-color0);  color: var(--jp-ui-font-color3);  font-size: 9px;}\n",
       ".datatable .frame tbody td { text-align: left; }\n",
       ".datatable .frame tr.coltypes .row_index {  background: var(--jp-border-color0);}\n",
       ".datatable th:nth-child(2) { padding-left: 12px; }\n",
       ".datatable .hellipsis {  color: var(--jp-cell-editor-border-color);}\n",
       ".datatable .vellipsis {  background: var(--jp-layout-color0);  color: var(--jp-cell-editor-border-color);}\n",
       ".datatable .na {  color: var(--jp-cell-editor-border-color);  font-size: 80%;}\n",
       ".datatable .sp {  opacity: 0.25;}\n",
       ".datatable .footer { font-size: 9px; }\n",
       ".datatable .frame_dimensions {  background: var(--jp-border-color3);  border-top: 1px solid var(--jp-border-color0);  color: var(--jp-ui-font-color3);  display: inline-block;  opacity: 0.6;  padding: 1px 10px 1px 5px;}\n",
       "</style>\n"
      ],
      "text/plain": [
       "<IPython.core.display.HTML object>"
      ]
     },
     "metadata": {},
     "output_type": "display_data"
    },
    {
     "name": "stdout",
     "output_type": "stream",
     "text": [
      "Running Python 3.9.7\n",
      "You can use npar for np.array\n"
     ]
    }
   ],
   "source": [
    "%load_ext autoreload\n",
    "%autoreload 2 \n",
    "%reload_ext autoreload\n",
    "%matplotlib inline\n",
    "import matplotlib.pyplot as plt\n",
    "\n",
    "# always import gbm_algos first !\n",
    "import xgboost, lightgbm, catboost\n",
    "from gplearn.genetic import SymbolicRegressor\n",
    "\n",
    "# To access the contents of the parent dir\n",
    "import sys; sys.path.insert(0, '../')\n",
    "import os\n",
    "from scipy.io import loadmat\n",
    "from utils import *\n",
    "from preprocess import *\n",
    "from models import RobustPCANN\n",
    "\n",
    "# Let's do facy optimizers\n",
    "from optimizers import Lookahead, AdamGC, SGDGC\n",
    "from madgrad import MADGRAD\n",
    "from lbfgsnew import LBFGSNew\n",
    "\n",
    "from pytorch_robust_pca import *\n",
    "\n",
    "# Modify at /usr/local/lib/python3.9/site-packages/torch_lr_finder/lr_finder.py\n",
    "from torch_lr_finder import LRFinder\n",
    "\n",
    "# Tracking\n",
    "from tqdm import trange\n",
    "\n",
    "import sympy\n",
    "import sympytorch"
   ]
  },
  {
   "cell_type": "code",
   "execution_count": 2,
   "metadata": {},
   "outputs": [
    {
     "name": "stdout",
     "output_type": "stream",
     "text": [
      "Loaded from ../deephpms_data/KS_simple3.pkl\n",
      "Perturbed Exact with intensity = 0.01\n",
      "Noisy (x, t)\n",
      "Fine-tuning with 5000 samples\n"
     ]
    }
   ],
   "source": [
    "# Loading the KS sol\n",
    "DATA_PATH = \"../deephpms_data/KS_simple3.pkl\"\n",
    "data = pickle_load(DATA_PATH)\n",
    "t = data['t']\n",
    "x = data['x']\n",
    "X, T = np.meshgrid(x, t)\n",
    "Exact = data['u'].T\n",
    "\n",
    "# Adding noise\n",
    "noise_intensity = 0.01\n",
    "noisy_xt = True\n",
    "\n",
    "Exact = perturb(Exact, intensity=noise_intensity, noise_type=\"normal\")\n",
    "print(\"Perturbed Exact with intensity =\", float(noise_intensity))\n",
    "\n",
    "x_star = X.flatten()[:,None]\n",
    "t_star = T.flatten()[:,None]\n",
    "X_star = np.hstack((x_star, t_star))\n",
    "u_star = Exact.T.flatten()[:,None]\n",
    "\n",
    "if noisy_xt: \n",
    "    print(\"Noisy (x, t)\")\n",
    "    X_star = perturb(X_star, intensity=noise_intensity, noise_type=\"normal\")\n",
    "else: print(\"Clean (x, t)\")\n",
    "\n",
    "# Doman bounds\n",
    "lb = X_star.min(axis=0)\n",
    "ub = X_star.max(axis=0)\n",
    "\n",
    "N = 5000\n",
    "print(f\"Fine-tuning with {N} samples\")\n",
    "idx = np.random.choice(X_star.shape[0], N, replace=False)\n",
    "X_u_train = X_star[idx, :]\n",
    "u_train = u_star[idx,:]\n",
    "\n",
    "# Convert to torch.tensor\n",
    "X_u_train = to_tensor(X_u_train, True)\n",
    "u_train = to_tensor(u_train, False)\n",
    "\n",
    "# lb and ub are used in adversarial training\n",
    "scaling_factor = 1.0\n",
    "lb = scaling_factor*to_tensor(lb, False)\n",
    "ub = scaling_factor*to_tensor(ub, False)\n",
    "\n",
    "# Feature names, base on the symbolic regression results\n",
    "feature_names=('uf', 'u_x', 'u_xx', 'u_xxxx'); feature2index = {}"
   ]
  },
  {
   "cell_type": "code",
   "execution_count": 3,
   "metadata": {},
   "outputs": [
    {
     "name": "stdout",
     "output_type": "stream",
     "text": [
      "-0.541081*u_x*uf - 0.534833*u_xx - 0.518928*u_xxxx {u_xx, u_x, uf, u_xxxx}\n"
     ]
    },
    {
     "data": {
      "text/plain": [
       "SymPyModule(expressions=(-0.541081*u_x*uf - 0.534833*u_xx - 0.518928*u_xxxx,))"
      ]
     },
     "execution_count": 3,
     "metadata": {},
     "output_type": "execute_result"
    }
   ],
   "source": [
    "program = '''\n",
    "-0.534833*u_xx-0.518928*u_xxxx-0.541081*uf*u_x\n",
    "'''\n",
    "pde_expr, variables = build_exp(program); print(pde_expr, variables)\n",
    "mod = sympytorch.SymPyModule(expressions=[pde_expr]); mod.train()"
   ]
  },
  {
   "cell_type": "code",
   "execution_count": 4,
   "metadata": {},
   "outputs": [],
   "source": [
    "class RobustPINN(nn.Module):\n",
    "    def __init__(self, model, loss_fn, index2features, scale=False, lb=None, ub=None, pretrained=False, noiseless_mode=True, init_cs=(0.5, 0.5), init_betas=(0.0, 0.0)):\n",
    "        super(RobustPINN, self).__init__()\n",
    "        self.model = model\n",
    "        if not pretrained: self.model.apply(self.xavier_init)\n",
    "        \n",
    "        self.noiseless_mode = noiseless_mode\n",
    "        if self.noiseless_mode: print(\"No denoising\")\n",
    "        \n",
    "        self.in_fft_nn = None; self.out_fft_nn = None\n",
    "        self.inp_rpca = None; self.out_rpca = None\n",
    "        if not self.noiseless_mode:\n",
    "            # FFTNN\n",
    "            self.in_fft_nn = FFTTh(c=init_cs[0])\n",
    "            self.out_fft_nn = FFTTh(c=init_cs[1])\n",
    "\n",
    "            # Robust Beta-PCA\n",
    "            self.inp_rpca = RobustPCANN(beta=init_betas[0], is_beta_trainable=True, inp_dims=2, hidden_dims=32)\n",
    "            self.out_rpca = RobustPCANN(beta=init_betas[1], is_beta_trainable=True, inp_dims=1, hidden_dims=32)\n",
    "        \n",
    "        self.callable_loss_fn = loss_fn        \n",
    "        self.index2features = index2features; self.feature2index = {}\n",
    "        for idx, fn in enumerate(self.index2features): self.feature2index[fn] = str(idx)\n",
    "        self.scale = scale; self.lb, self.ub = lb, ub\n",
    "        self.diff_flag = diff_flag(self.index2features)\n",
    "        \n",
    "    def xavier_init(self, m):\n",
    "        if type(m) == nn.Linear:\n",
    "            torch.nn.init.xavier_uniform_(m.weight)\n",
    "            m.bias.data.fill_(0.01)\n",
    "        \n",
    "    def forward(self, x, t):\n",
    "        H = torch.cat([x, t], dim=1)\n",
    "        if self.scale: H = self.neural_net_scale(H)\n",
    "        return self.model(H)\n",
    "    \n",
    "    def loss(self, X_input, X_input_noise, y_input, y_input_noise, update_network_params=True, update_pde_params=True):\n",
    "        # Denoising process\n",
    "        if not self.noiseless_mode:\n",
    "            # (1) Denoising FFT on (x, t)\n",
    "            # This line returns the approx. recon.\n",
    "            X_input_noise = cat(torch.fft.ifft(self.in_fft_nn(X_input_noise[1])*X_input_noise[0]).real.reshape(-1, 1), \n",
    "                                torch.fft.ifft(self.in_fft_nn(X_input_noise[3])*X_input_noise[2]).real.reshape(-1, 1))\n",
    "            X_input_noise = X_input-X_input_noise\n",
    "            X_input = self.inp_rpca(X_input, X_input_noise, normalize=True)\n",
    "            \n",
    "            # (2) Denoising FFT on y_input\n",
    "            y_input_noise = y_input-torch.fft.ifft(self.out_fft_nn(y_input_noise[1])*y_input_noise[0]).real.reshape(-1, 1)\n",
    "            y_input = self.out_rpca(y_input, y_input_noise, normalize=True)\n",
    "        \n",
    "        grads_dict, u_t = self.grads_dict(X_input[:, 0:1], X_input[:, 1:2])\n",
    "        \n",
    "        total_loss = []\n",
    "        # MSE Loss\n",
    "        if update_network_params:\n",
    "            mse_loss = F.mse_loss(grads_dict[\"uf\"], y_input)\n",
    "            total_loss.append(mse_loss)\n",
    "            \n",
    "        # PDE Loss\n",
    "        if update_pde_params:\n",
    "            u_t_pred = self.callable_loss_fn(**grads_dict)\n",
    "            l_eq = F.mse_loss(u_t_pred.squeeze(-1), u_t)\n",
    "            total_loss.append(l_eq)\n",
    "            \n",
    "        return total_loss\n",
    "    \n",
    "    def grads_dict(self, x, t):\n",
    "        uf = self.forward(x, t)\n",
    "        u_t = self.gradients(uf, t)[0]\n",
    "        \n",
    "        ### PDE Loss calculation ###\n",
    "        derivatives = group_diff(uf, (x, t), self.diff_flag[1], function_notation=\"u\", gd_init={\"uf\":uf})\n",
    "        \n",
    "        return derivatives, u_t\n",
    "    \n",
    "    def gradients(self, func, x):\n",
    "        return grad(func, x, create_graph=True, retain_graph=True, grad_outputs=torch.ones(func.shape))\n",
    "    \n",
    "    def neural_net_scale(self, inp): \n",
    "        return -1.0+2.0*(inp-self.lb)/(self.ub-self.lb)"
   ]
  },
  {
   "cell_type": "code",
   "execution_count": 5,
   "metadata": {},
   "outputs": [
    {
     "name": "stdout",
     "output_type": "stream",
     "text": [
      "Using old implementation of TorchMLP. See models.py for more new model-related source code.\n",
      "No denoising\n"
     ]
    }
   ],
   "source": [
    "model = TorchMLP(dimensions=[2, 50, 50, 50 ,50, 50, 1], activation_function=nn.Tanh, bn=nn.LayerNorm, dropout=None)\n",
    "\n",
    "# Pretrained model\n",
    "semisup_model_state_dict = torch.load(\"./saved_path_inverse_small_KS/simple3_semisup_model_state_dict_250labeledsamples250unlabeledsamples.pth\")\n",
    "parameters = OrderedDict()\n",
    "# Filter only the parts that I care about renaming (to be similar to what defined in TorchMLP).\n",
    "inner_part = \"network.model.\"\n",
    "for p in semisup_model_state_dict:\n",
    "    if inner_part in p:\n",
    "        parameters[p.replace(inner_part, \"\")] = semisup_model_state_dict[p]\n",
    "model.load_state_dict(parameters)\n",
    "\n",
    "pinn = RobustPINN(model=model, loss_fn=mod, \n",
    "                  index2features=feature_names, scale=True, lb=lb, ub=ub, \n",
    "                  pretrained=True, noiseless_mode=True)"
   ]
  },
  {
   "cell_type": "code",
   "execution_count": 6,
   "metadata": {},
   "outputs": [],
   "source": [
    "_, x_fft, x_PSD = fft1d_denoise(X_u_train[:, 0:1], c=-5, return_real=True)\n",
    "_, t_fft, t_PSD = fft1d_denoise(X_u_train[:, 1:2], c=-5, return_real=True)\n",
    "_, u_train_fft, u_train_PSD = fft1d_denoise(u_train, c=-5, return_real=True)"
   ]
  },
  {
   "cell_type": "code",
   "execution_count": 7,
   "metadata": {},
   "outputs": [],
   "source": [
    "x_fft, x_PSD = x_fft.detach(), x_PSD.detach()\n",
    "t_fft, t_PSD = t_fft.detach(), t_PSD.detach()"
   ]
  },
  {
   "cell_type": "code",
   "execution_count": 8,
   "metadata": {},
   "outputs": [
    {
     "name": "stdout",
     "output_type": "stream",
     "text": [
      "Loaded the model's weights properly\n"
     ]
    }
   ],
   "source": [
    "pinn = load_weights(pinn, \"./saved_path_inverse_small_KS/noisy2_final_finetuned_pinn_5000.pth\")"
   ]
  },
  {
   "cell_type": "code",
   "execution_count": 9,
   "metadata": {},
   "outputs": [],
   "source": [
    "def closure():\n",
    "    if torch.is_grad_enabled():\n",
    "        optimizer2.zero_grad()\n",
    "    losses = pinn.loss(X_u_train, (x_fft, x_PSD, t_fft, t_PSD), u_train, (u_train_fft, u_train_PSD), update_network_params=True, update_pde_params=True)\n",
    "    l = sum(losses)\n",
    "    if l.requires_grad:\n",
    "        l.backward(retain_graph=True)\n",
    "    return l\n",
    "\n",
    "def mtl_closure():\n",
    "    losses = pinn.loss(X_u_train, (x_fft, x_PSD, t_fft, t_PSD), u_train, (u_train_fft, u_train_PSD), update_network_params=True, update_pde_params=True)\n",
    "    updated_grads = []\n",
    "    \n",
    "    for i in range(len(losses)):\n",
    "        optimizer1.zero_grad()\n",
    "        losses[i].backward(retain_graph=True)\n",
    "\n",
    "        g_task = []\n",
    "        for param in pinn.parameters():\n",
    "            if param.grad is not None:\n",
    "                g_task.append(Variable(param.grad.clone(), requires_grad=False))\n",
    "            else:\n",
    "                g_task.append(Variable(torch.zeros(param.shape), requires_grad=False))\n",
    "        # appending the gradients from each task\n",
    "        updated_grads.append(g_task)\n",
    "\n",
    "    updated_grads = list(pcgrad.pc_grad_update(updated_grads))[0]\n",
    "    for idx, param in enumerate(pinn.parameters()): \n",
    "        param.grad = updated_grads[0][idx]+updated_grads[1][idx]\n",
    "        \n",
    "    return sum(losses)"
   ]
  },
  {
   "cell_type": "code",
   "execution_count": 10,
   "metadata": {},
   "outputs": [
    {
     "name": "stdout",
     "output_type": "stream",
     "text": [
      "1st Phase optimization using Adam with PCGrad gradient modification\n",
      "Epoch 0:  0.008258280344307423\n",
      "[-1.0003482103347778, -0.9991112947463989, -0.998095691204071]\n",
      "Epoch 10:  0.006900901440531015\n",
      "[-1.000196099281311, -0.9992856383323669, -0.9979609251022339]\n",
      "Epoch 20:  0.006419466808438301\n",
      "[-0.9999366402626038, -0.9995717406272888, -0.9977506399154663]\n",
      "Epoch 30:  0.006215616595000029\n",
      "[-0.9996440410614014, -0.9998934864997864, -0.9975121021270752]\n",
      "Epoch 40:  0.006145183928310871\n",
      "[-0.9993482828140259, -1.0002192258834839, -0.9972690343856812]\n",
      "Epoch 50:  0.006152118090540171\n",
      "[-0.9990488290786743, -1.0005459785461426, -0.9970300197601318]\n",
      "Epoch 60:  0.006193345412611961\n",
      "[-0.9987477660179138, -1.0008718967437744, -0.9967969059944153]\n",
      "Epoch 70:  0.006246547214686871\n",
      "[-0.99844890832901, -1.0011942386627197, -0.9965675473213196]\n",
      "Epoch 80:  0.006299719214439392\n",
      "[-0.9981541633605957, -1.0015125274658203, -0.9963399171829224]\n",
      "Epoch 90:  0.006218679714947939\n",
      "[-0.9978629946708679, -1.0018278360366821, -0.9961123466491699]\n",
      "Epoch 100:  0.005921393632888794\n",
      "[-0.9975679516792297, -1.002149224281311, -0.9958767890930176]\n",
      "Epoch 110:  0.005829576402902603\n",
      "[-0.9972755908966064, -1.0024718046188354, -0.9956337809562683]\n",
      "Epoch 120:  0.005875001195818186\n",
      "[-0.9969869256019592, -1.002790927886963, -0.9953928589820862]\n",
      "Epoch 130:  0.005929217208176851\n",
      "[-0.9966959357261658, -1.0031087398529053, -0.9951587319374084]\n",
      "Epoch 140:  0.005981500260531902\n",
      "[-0.9964070320129395, -1.0034232139587402, -0.9949275851249695]\n",
      "Epoch 150:  0.005918313283473253\n",
      "[-0.9961219429969788, -1.0037347078323364, -0.9946963787078857]\n",
      "Epoch 160:  0.005677423905581236\n",
      "[-0.995833694934845, -1.0040512084960938, -0.9944589734077454]\n",
      "Epoch 170:  0.005595154128968716\n",
      "[-0.9955469965934753, -1.0043694972991943, -0.9942149519920349]\n",
      "Epoch 180:  0.005639678332954645\n",
      "[-0.9952630996704102, -1.0046851634979248, -0.9939720034599304]\n",
      "Epoch 190:  0.005707801319658756\n",
      "[-0.9949772357940674, -1.0049995183944702, -0.9937347769737244]\n",
      "Epoch 199:  0.0057789939455688\n",
      "[-0.9947221279144287, -1.0052794218063354, -0.993523895740509]\n",
      "2nd Phase optimization using LBFGS\n"
     ]
    }
   ],
   "source": [
    "epochs1, epochs2 = 200, 0\n",
    "# TODO: Save best state dict and training for more epochs.\n",
    "optimizer1 = MADGRAD(pinn.parameters(), lr=1e-7, momentum=0.9)\n",
    "pinn.train(); best_train_loss = 1e6\n",
    "\n",
    "print('1st Phase optimization using Adam with PCGrad gradient modification')\n",
    "for i in range(epochs1):\n",
    "    optimizer1.step(mtl_closure)\n",
    "    if (i % 10) == 0 or i == epochs1-1:\n",
    "        l = mtl_closure()\n",
    "        print(\"Epoch {}: \".format(i), l.item())\n",
    "        print([x.item() for x in pinn.callable_loss_fn.parameters()])\n",
    "        \n",
    "optimizer2 = torch.optim.LBFGS(pinn.parameters(), lr=1e-1, max_iter=500, max_eval=int(500*1.25), history_size=300, line_search_fn='strong_wolfe')\n",
    "print('2nd Phase optimization using LBFGS')\n",
    "for i in range(epochs2):\n",
    "    optimizer2.step(closure)\n",
    "    if (i % 10) == 0 or i == epochs2-1:\n",
    "        l = closure()\n",
    "        print(\"Epoch {}: \".format(i), l.item())"
   ]
  },
  {
   "cell_type": "code",
   "execution_count": 18,
   "metadata": {},
   "outputs": [
    {
     "name": "stdout",
     "output_type": "stream",
     "text": [
      "[-0.9892916083335876, -1.011358618736267, -0.9886858463287354]\n"
     ]
    }
   ],
   "source": [
    "pred_params = [x.item() for x in pinn.callable_loss_fn.parameters()]\n",
    "print(pred_params)"
   ]
  },
  {
   "cell_type": "code",
   "execution_count": 19,
   "metadata": {},
   "outputs": [
    {
     "name": "stdout",
     "output_type": "stream",
     "text": [
      "1.1127054691314697 0.029659549537678777\n"
     ]
    }
   ],
   "source": [
    "errs = 100*np.abs(np.array(pred_params)+1)\n",
    "print(errs.mean(), errs.std())"
   ]
  },
  {
   "cell_type": "code",
   "execution_count": 13,
   "metadata": {},
   "outputs": [],
   "source": [
    "### New results ###\n",
    "# w/o DFT\n",
    "\n",
    "# clean\n",
    "# [-0.9948897361755371, -1.0049610137939453, -0.9951441287994385]\n",
    "# 0.4975716272989909 0.01043744028051521\n",
    "\n",
    "# noisy labels\n",
    "# [-0.9948846697807312, -1.0065652132034302, -0.9950999617576599]\n",
    "# 0.5526860555013021 0.07394681988603513\n",
    "\n",
    "# noisy (x, t) and labels\n",
    "# [-0.9892916083335876, -1.011358618736267, -0.9886858463287354]\n",
    "# 1.1127054691314697 0.029659549537678777"
   ]
  },
  {
   "cell_type": "code",
   "execution_count": 14,
   "metadata": {},
   "outputs": [],
   "source": [
    "### Without AutoEncoder ###\n",
    "\n",
    "# Clean Exact and (x, t)\n",
    "# [-0.999634325504303, -0.9994997382164001, -0.9995566010475159]\n",
    "# (0.04364450772603353, 0.005516461306387781)\n",
    "\n",
    "# Pretrained with final_finetuned_pinn_5000 (do not use / report)\n",
    "# [-0.9996052980422974, -0.9995099902153015, -0.9995319247245789]\n",
    "# 0.04509290059407552 0.0040754479422416435\n",
    "\n",
    "# Noisy Exact and clean (x, t)\n",
    "# [-0.9967969655990601, -0.9969800114631653, -0.9973703026771545]\n",
    "# (0.2950906753540039, 0.023910676954986623)\n",
    "\n",
    "# Noisy Exact and noisy (x, t)\n",
    "# [-0.9975059032440186, -0.9962050914764404, -0.9969104528427124]\n",
    "# 0.3126184145609538 0.05316856937153804"
   ]
  },
  {
   "cell_type": "code",
   "execution_count": 15,
   "metadata": {},
   "outputs": [],
   "source": [
    "### Without AutoEncoder & With Robust PCA ###\n",
    "\n",
    "# Noisy Exact and clean (x, t)\n",
    "# [-1.0003160238265991, -1.0005097389221191, -0.9997726678848267]\n",
    "# (0.035103162129720054, 0.011791963483533422)\n",
    "\n",
    "# Noisy Exact and noisy (x, t) + Robust PCA\n",
    "# [-1.000351071357727, -0.9991073608398438, -0.9980993866920471]\n",
    "# (0.08140603701273601 0.09209241474722876)"
   ]
  },
  {
   "cell_type": "code",
   "execution_count": 16,
   "metadata": {},
   "outputs": [],
   "source": [
    "### Without AutoEncoder & With Double Beta-Robust PCA ###\n",
    "\n",
    "# Noisy Exact and clean (x, t)\n",
    "# [-1.0013889074325562, -0.998389720916748, -1.0010501146316528]\n",
    "# 0.1349767049153646 0.023035484282371465\n",
    "\n",
    "# Noisy Exact and noisy (x, t) + Robust PCA\n",
    "# [-0.9980248212814331, -0.9982557892799377, -0.998869001865387]\n",
    "# 0.1616795857747396 0.03562172791384541"
   ]
  }
 ],
 "metadata": {
  "kernelspec": {
   "display_name": "Python 3",
   "language": "python",
   "name": "python3"
  },
  "language_info": {
   "codemirror_mode": {
    "name": "ipython",
    "version": 3
   },
   "file_extension": ".py",
   "mimetype": "text/x-python",
   "name": "python",
   "nbconvert_exporter": "python",
   "pygments_lexer": "ipython3",
   "version": "3.9.7"
  }
 },
 "nbformat": 4,
 "nbformat_minor": 4
}
