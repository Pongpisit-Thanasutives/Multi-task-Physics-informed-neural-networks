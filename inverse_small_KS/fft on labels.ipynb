{
 "cells": [
  {
   "cell_type": "code",
   "execution_count": 1,
   "metadata": {},
   "outputs": [
    {
     "name": "stdout",
     "output_type": "stream",
     "text": [
      "Running Python 3.9.6\n",
      "You can use npar for np.array\n"
     ]
    }
   ],
   "source": [
    "%load_ext autoreload\n",
    "%autoreload 2 \n",
    "%reload_ext autoreload\n",
    "%matplotlib inline\n",
    "import matplotlib.pyplot as plt\n",
    "\n",
    "# always import gbm_algos first !\n",
    "import xgboost, lightgbm, catboost\n",
    "from gplearn.genetic import SymbolicRegressor\n",
    "\n",
    "# To access the contents of the parent dir\n",
    "import sys; sys.path.insert(0, '../')\n",
    "import os\n",
    "from scipy.io import loadmat\n",
    "from utils import *\n",
    "from preprocess import *\n",
    "from models import RobustPCANN\n",
    "\n",
    "# Let's do facy optimizers\n",
    "from optimizers import Lookahead, AdamGC, SGDGC\n",
    "from madgrad import MADGRAD\n",
    "from lbfgsnew import LBFGSNew\n",
    "\n",
    "from pytorch_robust_pca import *\n",
    "\n",
    "# Modify at /usr/local/lib/python3.9/site-packages/torch_lr_finder/lr_finder.py\n",
    "from torch_lr_finder import LRFinder\n",
    "\n",
    "# Tracking\n",
    "from tqdm import trange\n",
    "\n",
    "import sympy\n",
    "import sympytorch"
   ]
  },
  {
   "cell_type": "code",
   "execution_count": 2,
   "metadata": {},
   "outputs": [
    {
     "name": "stdout",
     "output_type": "stream",
     "text": [
      "Loaded from ../deephpms_data/KS_simple3.pkl\n"
     ]
    }
   ],
   "source": [
    "# Loading the KS sol\n",
    "DATA_PATH = \"../deephpms_data/KS_simple3.pkl\"\n",
    "data = pickle_load(DATA_PATH)\n",
    "t = data['t']\n",
    "x = data['x']\n",
    "X, T = np.meshgrid(x, t)\n",
    "Exact = data['u'].T\n",
    "u_star = Exact.T.flatten()[:,None]"
   ]
  },
  {
   "cell_type": "code",
   "execution_count": 3,
   "metadata": {},
   "outputs": [
    {
     "name": "stdout",
     "output_type": "stream",
     "text": [
      "Perturbed u_star with intensity = 0.01\n",
      "Running Robust PCA on u_star\n",
      "Robust PCA Loss: 1.462438343651258e-34\n"
     ]
    }
   ],
   "source": [
    "# Adding noise\n",
    "noise_intensity = 0.01\n",
    "u_star_clean = u_star\n",
    "noise = perturb(u_star, intensity=noise_intensity, noise_type=\"normal\", overwrite=False)\n",
    "u_star = u_star + noise\n",
    "print(\"Perturbed u_star with intensity =\", float(noise_intensity))\n",
    "\n",
    "print(\"Running Robust PCA on u_star\")\n",
    "rpca = R_pca_numpy(u_star)\n",
    "u_star_L, u_star_S = rpca.fit(tol=1e-16, max_iter=10000, iter_print=100, verbose=False)\n",
    "print('Robust PCA Loss:', mean_squared_error(u_star, u_star_L+u_star_S))"
   ]
  },
  {
   "cell_type": "code",
   "execution_count": 4,
   "metadata": {},
   "outputs": [
    {
     "data": {
      "text/plain": [
       "0.7954330560811899"
      ]
     },
     "execution_count": 4,
     "metadata": {},
     "output_type": "execute_result"
    }
   ],
   "source": [
    "((noise-u_star_S)**2).mean()"
   ]
  },
  {
   "cell_type": "code",
   "execution_count": 5,
   "metadata": {},
   "outputs": [],
   "source": [
    "out, PSD = fft1d_denoise(to_tensor(u_star), thres=None, c=0)\n",
    "out = out.detach().numpy()\n",
    "PSD = PSD.detach().numpy()"
   ]
  },
  {
   "cell_type": "code",
   "execution_count": 6,
   "metadata": {},
   "outputs": [
    {
     "data": {
      "text/plain": [
       "0.0025763464225219868"
      ]
     },
     "execution_count": 6,
     "metadata": {},
     "output_type": "execute_result"
    }
   ],
   "source": [
    "((noise-(u_star-out))**2).mean()"
   ]
  },
  {
   "cell_type": "code",
   "execution_count": 7,
   "metadata": {},
   "outputs": [],
   "source": [
    "import seaborn as sns"
   ]
  },
  {
   "cell_type": "code",
   "execution_count": 8,
   "metadata": {},
   "outputs": [
    {
     "data": {
      "image/png": "[encoded data removed]",
      "text/plain": [
       "<Figure size 432x288 with 1 Axes>"
      ]
     },
     "metadata": {
      "needs_background": "light"
     },
     "output_type": "display_data"
    }
   ],
   "source": [
    "# noise_intensity = 0.01 -> Noise magitude ranges from -0.4 to around 0.6.\n",
    "tmp = {\"Real noise\":noise.flatten(), \"Estimated noise\":(u_star-out).flatten()}\n",
    "sns.histplot(tmp, kde=True, stat=\"probability\")\n",
    "plt.xlabel(\"Noise magnitude\")\n",
    "plt.show()"
   ]
  },
  {
   "cell_type": "code",
   "execution_count": 9,
   "metadata": {},
   "outputs": [],
   "source": [
    "n_exps = 50\n",
    "all_fftc0_noises = np.zeros((u_star_S.shape[0], n_exps))\n",
    "all_fftc1_noises = np.zeros(all_fftc0_noises.shape)\n",
    "# all_out_c1 = np.zeros(all_u_star_S.shape)\n",
    "all_noises = np.zeros(all_fftc0_noises.shape)"
   ]
  },
  {
   "cell_type": "markdown",
   "metadata": {},
   "source": [
    "Some goals + Notes\n",
    "    \n",
    "    - Is denoising using FFT better than the Robust PCA algo for init?: YES!\n",
    "    - If so, what is the recommended c wrt the varied noise_intensity?: With noise_intensity = 10, the c=1 starts to perform better. So c=0 is quite good for a wide range of noises.\n",
    "    \n",
    "    - noise_intensity = 10 -> c=1 best, noise_intensity = 0.01 -> c=-1 best, noise_intensity = 1 -> c=0 best. If the medium level of noise is presumed, the c=0 is recommended starting point!\n",
    "    \n",
    "    - In practice, the c hyper-parameter can be easily tuned wrt to the the first-epochs loss.\n",
    "    \n",
    "    - Using fft is sometimes better than knowing only the noise dist."
   ]
  },
  {
   "cell_type": "code",
   "execution_count": 10,
   "metadata": {},
   "outputs": [
    {
     "name": "stdout",
     "output_type": "stream",
     "text": [
      "1\n",
      "Perturbed u_star with intensity = 1.0\n",
      "Running FFT c=0 on u_star\n",
      "Running FFT c=1 on u_star\n",
      "\n",
      "2\n",
      "Perturbed u_star with intensity = 1.0\n",
      "Running FFT c=0 on u_star\n",
      "Running FFT c=1 on u_star\n",
      "\n",
      "3\n",
      "Perturbed u_star with intensity = 1.0\n",
      "Running FFT c=0 on u_star\n",
      "Running FFT c=1 on u_star\n",
      "\n",
      "4\n",
      "Perturbed u_star with intensity = 1.0\n",
      "Running FFT c=0 on u_star\n",
      "Running FFT c=1 on u_star\n",
      "\n",
      "5\n",
      "Perturbed u_star with intensity = 1.0\n",
      "Running FFT c=0 on u_star\n",
      "Running FFT c=1 on u_star\n",
      "\n",
      "6\n",
      "Perturbed u_star with intensity = 1.0\n",
      "Running FFT c=0 on u_star\n",
      "Running FFT c=1 on u_star\n",
      "\n",
      "7\n",
      "Perturbed u_star with intensity = 1.0\n",
      "Running FFT c=0 on u_star\n",
      "Running FFT c=1 on u_star\n",
      "\n",
      "8\n",
      "Perturbed u_star with intensity = 1.0\n",
      "Running FFT c=0 on u_star\n",
      "Running FFT c=1 on u_star\n",
      "\n",
      "9\n",
      "Perturbed u_star with intensity = 1.0\n",
      "Running FFT c=0 on u_star\n",
      "Running FFT c=1 on u_star\n",
      "\n",
      "10\n",
      "Perturbed u_star with intensity = 1.0\n",
      "Running FFT c=0 on u_star\n",
      "Running FFT c=1 on u_star\n",
      "\n",
      "11\n",
      "Perturbed u_star with intensity = 1.0\n",
      "Running FFT c=0 on u_star\n",
      "Running FFT c=1 on u_star\n",
      "\n",
      "12\n",
      "Perturbed u_star with intensity = 1.0\n",
      "Running FFT c=0 on u_star\n",
      "Running FFT c=1 on u_star\n",
      "\n",
      "13\n",
      "Perturbed u_star with intensity = 1.0\n",
      "Running FFT c=0 on u_star\n",
      "Running FFT c=1 on u_star\n",
      "\n",
      "14\n",
      "Perturbed u_star with intensity = 1.0\n",
      "Running FFT c=0 on u_star\n",
      "Running FFT c=1 on u_star\n",
      "\n",
      "15\n",
      "Perturbed u_star with intensity = 1.0\n",
      "Running FFT c=0 on u_star\n",
      "Running FFT c=1 on u_star\n",
      "\n",
      "16\n",
      "Perturbed u_star with intensity = 1.0\n",
      "Running FFT c=0 on u_star\n",
      "Running FFT c=1 on u_star\n",
      "\n",
      "17\n",
      "Perturbed u_star with intensity = 1.0\n",
      "Running FFT c=0 on u_star\n",
      "Running FFT c=1 on u_star\n",
      "\n",
      "18\n",
      "Perturbed u_star with intensity = 1.0\n",
      "Running FFT c=0 on u_star\n",
      "Running FFT c=1 on u_star\n",
      "\n",
      "19\n",
      "Perturbed u_star with intensity = 1.0\n",
      "Running FFT c=0 on u_star\n",
      "Running FFT c=1 on u_star\n",
      "\n",
      "20\n",
      "Perturbed u_star with intensity = 1.0\n",
      "Running FFT c=0 on u_star\n",
      "Running FFT c=1 on u_star\n",
      "\n",
      "21\n",
      "Perturbed u_star with intensity = 1.0\n",
      "Running FFT c=0 on u_star\n",
      "Running FFT c=1 on u_star\n",
      "\n",
      "22\n",
      "Perturbed u_star with intensity = 1.0\n",
      "Running FFT c=0 on u_star\n",
      "Running FFT c=1 on u_star\n",
      "\n",
      "23\n",
      "Perturbed u_star with intensity = 1.0\n",
      "Running FFT c=0 on u_star\n",
      "Running FFT c=1 on u_star\n",
      "\n",
      "24\n",
      "Perturbed u_star with intensity = 1.0\n",
      "Running FFT c=0 on u_star\n",
      "Running FFT c=1 on u_star\n",
      "\n",
      "25\n",
      "Perturbed u_star with intensity = 1.0\n",
      "Running FFT c=0 on u_star\n",
      "Running FFT c=1 on u_star\n",
      "\n",
      "26\n",
      "Perturbed u_star with intensity = 1.0\n",
      "Running FFT c=0 on u_star\n",
      "Running FFT c=1 on u_star\n",
      "\n",
      "27\n",
      "Perturbed u_star with intensity = 1.0\n",
      "Running FFT c=0 on u_star\n",
      "Running FFT c=1 on u_star\n",
      "\n",
      "28\n",
      "Perturbed u_star with intensity = 1.0\n",
      "Running FFT c=0 on u_star\n",
      "Running FFT c=1 on u_star\n",
      "\n",
      "29\n",
      "Perturbed u_star with intensity = 1.0\n",
      "Running FFT c=0 on u_star\n",
      "Running FFT c=1 on u_star\n",
      "\n",
      "30\n",
      "Perturbed u_star with intensity = 1.0\n",
      "Running FFT c=0 on u_star\n",
      "Running FFT c=1 on u_star\n",
      "\n",
      "31\n",
      "Perturbed u_star with intensity = 1.0\n",
      "Running FFT c=0 on u_star\n",
      "Running FFT c=1 on u_star\n",
      "\n",
      "32\n",
      "Perturbed u_star with intensity = 1.0\n",
      "Running FFT c=0 on u_star\n",
      "Running FFT c=1 on u_star\n",
      "\n",
      "33\n",
      "Perturbed u_star with intensity = 1.0\n",
      "Running FFT c=0 on u_star\n",
      "Running FFT c=1 on u_star\n",
      "\n",
      "34\n",
      "Perturbed u_star with intensity = 1.0\n",
      "Running FFT c=0 on u_star\n",
      "Running FFT c=1 on u_star\n",
      "\n",
      "35\n",
      "Perturbed u_star with intensity = 1.0\n",
      "Running FFT c=0 on u_star\n",
      "Running FFT c=1 on u_star\n",
      "\n",
      "36\n",
      "Perturbed u_star with intensity = 1.0\n",
      "Running FFT c=0 on u_star\n",
      "Running FFT c=1 on u_star\n",
      "\n",
      "37\n",
      "Perturbed u_star with intensity = 1.0\n",
      "Running FFT c=0 on u_star\n",
      "Running FFT c=1 on u_star\n",
      "\n",
      "38\n",
      "Perturbed u_star with intensity = 1.0\n",
      "Running FFT c=0 on u_star\n",
      "Running FFT c=1 on u_star\n",
      "\n",
      "39\n",
      "Perturbed u_star with intensity = 1.0\n",
      "Running FFT c=0 on u_star\n",
      "Running FFT c=1 on u_star\n",
      "\n",
      "40\n",
      "Perturbed u_star with intensity = 1.0\n",
      "Running FFT c=0 on u_star\n",
      "Running FFT c=1 on u_star\n",
      "\n",
      "41\n",
      "Perturbed u_star with intensity = 1.0\n",
      "Running FFT c=0 on u_star\n",
      "Running FFT c=1 on u_star\n",
      "\n",
      "42\n",
      "Perturbed u_star with intensity = 1.0\n",
      "Running FFT c=0 on u_star\n",
      "Running FFT c=1 on u_star\n",
      "\n",
      "43\n",
      "Perturbed u_star with intensity = 1.0\n",
      "Running FFT c=0 on u_star\n",
      "Running FFT c=1 on u_star\n",
      "\n",
      "44\n",
      "Perturbed u_star with intensity = 1.0\n",
      "Running FFT c=0 on u_star\n",
      "Running FFT c=1 on u_star\n",
      "\n",
      "45\n",
      "Perturbed u_star with intensity = 1.0\n",
      "Running FFT c=0 on u_star\n",
      "Running FFT c=1 on u_star\n",
      "\n",
      "46\n",
      "Perturbed u_star with intensity = 1.0\n",
      "Running FFT c=0 on u_star\n",
      "Running FFT c=1 on u_star\n",
      "\n",
      "47\n",
      "Perturbed u_star with intensity = 1.0\n",
      "Running FFT c=0 on u_star\n",
      "Running FFT c=1 on u_star\n",
      "\n",
      "48\n",
      "Perturbed u_star with intensity = 1.0\n",
      "Running FFT c=0 on u_star\n",
      "Running FFT c=1 on u_star\n",
      "\n",
      "49\n",
      "Perturbed u_star with intensity = 1.0\n",
      "Running FFT c=0 on u_star\n",
      "Running FFT c=1 on u_star\n",
      "\n",
      "50\n",
      "Perturbed u_star with intensity = 1.0\n",
      "Running FFT c=0 on u_star\n",
      "Running FFT c=1 on u_star\n",
      "\n",
      "DONE...\n"
     ]
    }
   ],
   "source": [
    "for i in range(n_exps):\n",
    "    print(i+1)\n",
    "    # Adding noise\n",
    "    noise_intensity = 1 # c=0 is better than c=1, -1 for noise_intensity = 1\n",
    "    u_star = Exact.T.flatten()[:,None]\n",
    "    noise = perturb(u_star, intensity=noise_intensity, noise_type=\"normal\", overwrite=False)\n",
    "    u_star = u_star + noise\n",
    "    print(\"Perturbed u_star with intensity =\", float(noise_intensity))\n",
    "    all_noises[:, i:i+1] = noise\n",
    "\n",
    "#     print(\"Running Robust PCA on u_star\")\n",
    "#     rpca = R_pca_numpy(u_star)\n",
    "#     u_star_L, u_star_S = rpca.fit(tol=1e-16, max_iter=10000, iter_print=100, verbose=False)\n",
    "#     all_u_star_S[:, i:i+1] = u_star_S\n",
    "    \n",
    "    print(\"Running FFT c=0 on u_star\")\n",
    "    out, PSD = fft1d_denoise(to_tensor(u_star), thres=None, c=0)\n",
    "#     PSD = PSD.detach().numpy()\n",
    "    all_fftc0_noises[:, i:i+1] = (u_star-out.detach().numpy())\n",
    "    \n",
    "    print(\"Running FFT c=1 on u_star\")\n",
    "    out, PSD = fft1d_denoise(to_tensor(u_star), thres=0, c=-1)\n",
    "#     PSD = PSD.detach().numpy()\n",
    "    all_fftc1_noises[:, i:i+1] = (u_star-out.detach().numpy())\n",
    "    \n",
    "    print()\n",
    "    \n",
    "print(\"DONE...\")"
   ]
  },
  {
   "cell_type": "code",
   "execution_count": 11,
   "metadata": {},
   "outputs": [],
   "source": [
    "fftc0_mse = []\n",
    "fftc1_mse = []\n",
    "for i in range(n_exps):\n",
    "    fftc0_mse.append(((all_noises[:, i:i+1]-all_fftc0_noises[:, i:i+1])**2).mean())\n",
    "    fftc1_mse.append(((all_noises[:, i:i+1]-all_fftc1_noises[:, i:i+1])**2).mean())"
   ]
  },
  {
   "cell_type": "code",
   "execution_count": 12,
   "metadata": {},
   "outputs": [],
   "source": [
    "from scipy.stats import ttest_ind"
   ]
  },
  {
   "cell_type": "code",
   "execution_count": 13,
   "metadata": {},
   "outputs": [
    {
     "name": "stdout",
     "output_type": "stream",
     "text": [
      "FFT c=0 is better than FFT c=1\n"
     ]
    }
   ],
   "source": [
    "t_stat, p_val = ttest_ind(fftc0_mse, fftc1_mse, equal_var=False, alternative='less')\n",
    "if p_val/2 < 0.05: print(\"FFT c=0 is better than FFT c=1\")\n",
    "else: print(\"FFT c=1 is better than FFT c=0\")"
   ]
  },
  {
   "cell_type": "code",
   "execution_count": 14,
   "metadata": {},
   "outputs": [
    {
     "data": {
      "text/plain": [
       "(0.3275186803736617, 0.7959294294355537)"
      ]
     },
     "execution_count": 14,
     "metadata": {},
     "output_type": "execute_result"
    }
   ],
   "source": [
    "npar(fftc0_mse).mean(), npar(fftc1_mse).mean()"
   ]
  },
  {
   "cell_type": "code",
   "execution_count": 15,
   "metadata": {},
   "outputs": [
    {
     "data": {
      "text/plain": [
       "(-539.645571993963, 5.0633898440179615e-172)"
      ]
     },
     "execution_count": 15,
     "metadata": {},
     "output_type": "execute_result"
    }
   ],
   "source": [
    "t_stat, p_val # (-780.8335423299599, 2.6398217397035094e-102)\n",
    "# print(\"FFT c=0 is better than Robust PCA\")"
   ]
  },
  {
   "cell_type": "code",
   "execution_count": 16,
   "metadata": {},
   "outputs": [],
   "source": [
    "# import seaborn as sns\n",
    "# import pandas as pd"
   ]
  },
  {
   "cell_type": "code",
   "execution_count": 17,
   "metadata": {},
   "outputs": [],
   "source": [
    "# tmp = pd.DataFrame({\"FFT\":fft_mse, \"Robust PCA\":rpca_mse})\n",
    "# sns.histplot(data=tmp, stat=\"count\")\n",
    "# plt.xlabel(\"MSE to the true noise\")\n",
    "# plt.show()"
   ]
  },
  {
   "cell_type": "code",
   "execution_count": null,
   "metadata": {},
   "outputs": [],
   "source": []
  }
 ],
 "metadata": {
  "kernelspec": {
   "display_name": "Python 3",
   "language": "python",
   "name": "python3"
  },
  "language_info": {
   "codemirror_mode": {
    "name": "ipython",
    "version": 3
   },
   "file_extension": ".py",
   "mimetype": "text/x-python",
   "name": "python",
   "nbconvert_exporter": "python",
   "pygments_lexer": "ipython3",
   "version": "3.9.6"
  }
 },
 "nbformat": 4,
 "nbformat_minor": 4
}
