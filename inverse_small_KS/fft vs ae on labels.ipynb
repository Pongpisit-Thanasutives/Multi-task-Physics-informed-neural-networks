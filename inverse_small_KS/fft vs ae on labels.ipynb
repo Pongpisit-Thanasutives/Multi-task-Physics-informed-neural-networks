{
 "cells": [
  {
   "cell_type": "code",
   "execution_count": 1,
   "metadata": {},
   "outputs": [
    {
     "name": "stdout",
     "output_type": "stream",
     "text": [
      "Running Python 3.9.6\n",
      "You can use npar for np.array\n"
     ]
    }
   ],
   "source": [
    "%load_ext autoreload\n",
    "%autoreload 2 \n",
    "%reload_ext autoreload\n",
    "%matplotlib inline\n",
    "import matplotlib.pyplot as plt\n",
    "\n",
    "# always import gbm_algos first !\n",
    "import xgboost, lightgbm, catboost\n",
    "from gplearn.genetic import SymbolicRegressor\n",
    "\n",
    "# To access the contents of the parent dir\n",
    "import sys; sys.path.insert(0, '../')\n",
    "import os\n",
    "from scipy.io import loadmat\n",
    "from utils import *\n",
    "from preprocess import *\n",
    "from models import RobustPCANN\n",
    "\n",
    "# Let's do facy optimizers\n",
    "from optimizers import Lookahead, AdamGC, SGDGC\n",
    "from madgrad import MADGRAD\n",
    "from lbfgsnew import LBFGSNew\n",
    "\n",
    "from pytorch_robust_pca import *\n",
    "\n",
    "# Modify at /usr/local/lib/python3.9/site-packages/torch_lr_finder/lr_finder.py\n",
    "from torch_lr_finder import LRFinder\n",
    "\n",
    "# Tracking\n",
    "from tqdm import trange\n",
    "\n",
    "import sympy\n",
    "import sympytorch\n",
    "\n",
    "from TorchCoder import *"
   ]
  },
  {
   "cell_type": "code",
   "execution_count": 2,
   "metadata": {},
   "outputs": [
    {
     "name": "stdout",
     "output_type": "stream",
     "text": [
      "Loaded from ../deephpms_data/KS_simple3.pkl\n"
     ]
    }
   ],
   "source": [
    "# Loading the KS sol\n",
    "DATA_PATH = \"../deephpms_data/KS_simple3.pkl\"\n",
    "data = pickle_load(DATA_PATH)\n",
    "t = data['t']\n",
    "x = data['x']\n",
    "X, T = np.meshgrid(x, t)\n",
    "Exact = data['u'].T\n",
    "u_star = Exact.T.flatten()[:,None]"
   ]
  },
  {
   "cell_type": "code",
   "execution_count": 3,
   "metadata": {},
   "outputs": [
    {
     "name": "stdout",
     "output_type": "stream",
     "text": [
      "Perturbed u_star with intensity = 1.0\n",
      "Running Robust PCA on u_star\n",
      "Robust PCA Loss: 1.5089494224175295e-34\n"
     ]
    }
   ],
   "source": [
    "# Adding noise\n",
    "noise_intensity = 1\n",
    "u_star_clean = u_star\n",
    "noise = perturb(u_star, intensity=noise_intensity, noise_type=\"normal\", overwrite=False)\n",
    "u_star = u_star + noise\n",
    "print(\"Perturbed u_star with intensity =\", float(noise_intensity))\n",
    "\n",
    "print(\"Running Robust PCA on u_star\")\n",
    "rpca = R_pca_numpy(u_star)\n",
    "u_star_L, u_star_S = rpca.fit(tol=1e-16, max_iter=10000, iter_print=100, verbose=False)\n",
    "print('Robust PCA Loss:', mean_squared_error(u_star, u_star_L+u_star_S))"
   ]
  },
  {
   "cell_type": "code",
   "execution_count": 4,
   "metadata": {},
   "outputs": [
    {
     "data": {
      "text/plain": [
       "0.7954338229620993"
      ]
     },
     "execution_count": 4,
     "metadata": {},
     "output_type": "execute_result"
    }
   ],
   "source": [
    "((noise-u_star_S)**2).mean()"
   ]
  },
  {
   "cell_type": "code",
   "execution_count": 5,
   "metadata": {},
   "outputs": [],
   "source": [
    "out, _, PSD = fft1d_denoise(to_tensor(u_star), thres=None, c=0)\n",
    "out = out.detach().numpy()\n",
    "PSD = PSD.detach().numpy()\n",
    "fft_noise = u_star-out"
   ]
  },
  {
   "cell_type": "code",
   "execution_count": 6,
   "metadata": {},
   "outputs": [
    {
     "name": "stdout",
     "output_type": "stream",
     "text": [
      "0.33210165397314806\n",
      "-0.25377807137311775\n"
     ]
    },
    {
     "name": "stderr",
     "output_type": "stream",
     "text": [
      "/usr/local/lib/python3.9/site-packages/torch/nn/functional.py:2747: UserWarning: reduction: 'mean' divides the total loss by both the batch size and the support size.'batchmean' divides only by the batch size, and aligns with the KL div math definition.'mean' will be changed to behave the same as 'batchmean' in the next major release.\n",
      "  warnings.warn(\n"
     ]
    }
   ],
   "source": [
    "print(((noise-(u_star-out))**2).mean())\n",
    "print(F.kl_div(torch.tensor(u_star-out), torch.tensor(noise)).item())"
   ]
  },
  {
   "cell_type": "code",
   "execution_count": 7,
   "metadata": {},
   "outputs": [],
   "source": [
    "import seaborn as sns"
   ]
  },
  {
   "cell_type": "code",
   "execution_count": 8,
   "metadata": {},
   "outputs": [
    {
     "data": {
      "image/png": "[encoded data removed]",
      "text/plain": [
       "<Figure size 432x288 with 1 Axes>"
      ]
     },
     "metadata": {
      "needs_background": "light"
     },
     "output_type": "display_data"
    }
   ],
   "source": [
    "# noise_intensity = 0.01 -> Noise magitude ranges from -0.4 to around 0.6.\n",
    "tmp = {\"Real noise\":noise.flatten(), \"Estimated noise\":(u_star-out).flatten()}\n",
    "sns.histplot(tmp, kde=True, stat=\"probability\")\n",
    "plt.xlabel(\"Noise magnitude\")\n",
    "plt.show()"
   ]
  },
  {
   "cell_type": "code",
   "execution_count": 9,
   "metadata": {},
   "outputs": [
    {
     "name": "stdout",
     "output_type": "stream",
     "text": [
      "epoch : 100, loss_mean : 1.6722881\n",
      "epoch : 200, loss_mean : 1.4757013\n",
      "epoch : 300, loss_mean : 1.1023389\n",
      "epoch : 400, loss_mean : 0.6510507\n",
      "epoch : 500, loss_mean : 0.3088342\n",
      "epoch : 600, loss_mean : 0.1523472\n",
      "epoch : 700, loss_mean : 0.0521809\n",
      "epoch : 800, loss_mean : 0.0194361\n",
      "epoch : 900, loss_mean : 0.0074445\n",
      "epoch : 1000, loss_mean : 0.0033238\n",
      "epoch : 1100, loss_mean : 0.0018668\n",
      "epoch : 1200, loss_mean : 0.0012208\n",
      "epoch : 1300, loss_mean : 0.0008733\n",
      "epoch : 1400, loss_mean : 0.0006603\n",
      "epoch : 1500, loss_mean : 0.0005175\n",
      "epoch : 1600, loss_mean : 0.0004154\n",
      "epoch : 1700, loss_mean : 0.0003389\n",
      "epoch : 1800, loss_mean : 0.0002798\n",
      "Early Stopping activated. Final validation loss : 0.0002836\n"
     ]
    }
   ],
   "source": [
    "encoded, decoded, final_loss = QuickEncode(u_star.tolist(), embedding_dim=2)"
   ]
  },
  {
   "cell_type": "code",
   "execution_count": 10,
   "metadata": {},
   "outputs": [
    {
     "data": {
      "text/plain": [
       "0.7975064228001871"
      ]
     },
     "execution_count": 10,
     "metadata": {},
     "output_type": "execute_result"
    }
   ],
   "source": [
    "lstm_noise = (u_star - decoded.reshape(-1, 1).numpy())\n",
    "((noise-lstm_noise)**2).mean()"
   ]
  },
  {
   "cell_type": "code",
   "execution_count": 11,
   "metadata": {},
   "outputs": [
    {
     "data": {
      "image/png": "[encoded data removed]",
      "text/plain": [
       "<Figure size 432x288 with 1 Axes>"
      ]
     },
     "metadata": {
      "needs_background": "light"
     },
     "output_type": "display_data"
    }
   ],
   "source": [
    "tmp = {\"Real noise\":noise.flatten(), \"Estimated noise\":(lstm_noise).flatten()}\n",
    "sns.histplot(tmp, kde=True, stat=\"probability\")\n",
    "plt.xlabel(\"Noise magnitude\")\n",
    "plt.show()"
   ]
  },
  {
   "cell_type": "code",
   "execution_count": 13,
   "metadata": {},
   "outputs": [
    {
     "name": "stdout",
     "output_type": "stream",
     "text": [
      "0.25597813725471497\n",
      "3.816368579864502\n"
     ]
    }
   ],
   "source": [
    "print(kl_normal(fft_noise, u_star))\n",
    "print(kl_normal(lstm_noise, u_star))"
   ]
  },
  {
   "cell_type": "markdown",
   "metadata": {},
   "source": [
    "Some goals + Notes\n",
    "    \n",
    "    - Is denoising using FFT better than the Robust PCA algo for init?: YES!\n",
    "    - If so, what is the recommended c wrt the varied noise_intensity?: With noise_intensity = 10, the c=1 starts to perform better. So c=0 is quite good for a wide range of noises.\n",
    "    \n",
    "    - noise_intensity = 10 -> c=1 best, noise_intensity = 0.01 -> c=-1 best, noise_intensity = 1 -> c=0 best. If the medium level of noise is presumed, the c=0 is recommended starting point!\n",
    "    \n",
    "    - In practice, the c hyper-parameter can be easily tuned wrt to the the first-epochs loss.\n",
    "    \n",
    "    - Using fft is sometimes better than knowing only the noise dist.\n",
    "    \n",
    "    - Sparse noise is easier to be captured by the FFT than typical normal-distributed noise."
   ]
  },
  {
   "cell_type": "code",
   "execution_count": null,
   "metadata": {},
   "outputs": [],
   "source": []
  }
 ],
 "metadata": {
  "kernelspec": {
   "display_name": "Python 3",
   "language": "python",
   "name": "python3"
  },
  "language_info": {
   "codemirror_mode": {
    "name": "ipython",
    "version": 3
   },
   "file_extension": ".py",
   "mimetype": "text/x-python",
   "name": "python",
   "nbconvert_exporter": "python",
   "pygments_lexer": "ipython3",
   "version": "3.9.6"
  }
 },
 "nbformat": 4,
 "nbformat_minor": 4
}
