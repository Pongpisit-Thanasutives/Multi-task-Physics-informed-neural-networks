{
 "cells": [
  {
   "cell_type": "code",
   "execution_count": null,
   "metadata": {},
   "outputs": [],
   "source": [
    "%load_ext autoreload\n",
    "%autoreload 2 \n",
    "%reload_ext autoreload\n",
    "%matplotlib inline\n",
    "import matplotlib.pyplot as plt\n",
    "\n",
    "# always import gbm_algos first !\n",
    "import xgboost, lightgbm, catboost\n",
    "from gplearn.genetic import SymbolicRegressor\n",
    "\n",
    "# To access the contents of the parent dir\n",
    "import sys; sys.path.insert(0, '../')\n",
    "import os\n",
    "from scipy.io import loadmat\n",
    "from utils import *\n",
    "from preprocess import *\n",
    "from models import RobustPCANN\n",
    "\n",
    "# Let's do facy optimizers\n",
    "from optimizers import Lookahead, AdamGC, SGDGC\n",
    "from madgrad import MADGRAD\n",
    "from lbfgsnew import LBFGSNew\n",
    "\n",
    "from pytorch_robust_pca import *\n",
    "\n",
    "# Modify at /usr/local/lib/python3.9/site-packages/torch_lr_finder/lr_finder.py\n",
    "from torch_lr_finder import LRFinder\n",
    "\n",
    "# Tracking\n",
    "from tqdm import trange\n",
    "\n",
    "import sympy\n",
    "import sympytorch"
   ]
  },
  {
   "cell_type": "code",
   "execution_count": null,
   "metadata": {},
   "outputs": [],
   "source": [
    "# Loading the KS sol\n",
    "DATA_PATH = \"../deephpms_data/KS_simple3.pkl\"\n",
    "data = pickle_load(DATA_PATH)\n",
    "t = data['t']\n",
    "x = data['x']\n",
    "X, T = np.meshgrid(x, t)\n",
    "Exact = data['u'].T\n",
    "u_star = Exact.T.flatten()[:,None]"
   ]
  },
  {
   "cell_type": "code",
   "execution_count": null,
   "metadata": {},
   "outputs": [],
   "source": [
    "# Adding noise\n",
    "noise_intensity = 1\n",
    "u_star_clean = u_star\n",
    "noise = perturb(u_star, intensity=noise_intensity, noise_type=\"normal\", overwrite=False)\n",
    "u_star = u_star + noise\n",
    "print(\"Perturbed u_star with intensity =\", float(noise_intensity))\n",
    "\n",
    "print(\"Running Robust PCA on u_star\")\n",
    "rpca = R_pca_numpy(u_star)\n",
    "u_star_L, u_star_S = rpca.fit(tol=1e-16, max_iter=10000, iter_print=100, verbose=False)\n",
    "print('Robust PCA Loss:', mean_squared_error(u_star, u_star_L+u_star_S))"
   ]
  },
  {
   "cell_type": "code",
   "execution_count": null,
   "metadata": {},
   "outputs": [],
   "source": [
    "((noise-u_star_S)**2).mean()"
   ]
  },
  {
   "cell_type": "code",
   "execution_count": null,
   "metadata": {},
   "outputs": [],
   "source": [
    "out, PSD = fft1d_denoise(to_tensor(u_star), thres=None, c=0)\n",
    "out = out.detach().numpy()\n",
    "PSD = PSD.detach().numpy()"
   ]
  },
  {
   "cell_type": "code",
   "execution_count": null,
   "metadata": {},
   "outputs": [],
   "source": [
    "((noise-(u_star-out))**2).mean()"
   ]
  },
  {
   "cell_type": "code",
   "execution_count": null,
   "metadata": {},
   "outputs": [],
   "source": [
    "n_exps = 50\n",
    "all_u_star_S = np.zeros((u_star_S.shape[0], n_exps))\n",
    "all_fft_noises = np.zeros(all_u_star_S.shape)\n",
    "# all_out_c1 = np.zeros(all_u_star_S.shape)\n",
    "all_noises = np.zeros(all_u_star_S.shape)"
   ]
  },
  {
   "cell_type": "markdown",
   "metadata": {},
   "source": [
    "Some goals\n",
    "    \n",
    "    - Is denoising using FFT better than the Robust PCA algo for init?\n",
    "    - If so, what is the recommended c wrt the varied noise_intensity?"
   ]
  },
  {
   "cell_type": "code",
   "execution_count": null,
   "metadata": {},
   "outputs": [],
   "source": [
    "for i in range(n_exps):\n",
    "    print(i+1)\n",
    "    # Adding noise\n",
    "    noise_intensity = 1\n",
    "    u_star = Exact.T.flatten()[:,None]\n",
    "    noise = perturb(u_star, intensity=noise_intensity, noise_type=\"normal\", overwrite=False)\n",
    "    u_star = u_star + noise\n",
    "    print(\"Perturbed u_star with intensity =\", float(noise_intensity))\n",
    "    all_noises[:, i:i+1] = noise\n",
    "\n",
    "    print(\"Running Robust PCA on u_star\")\n",
    "    rpca = R_pca_numpy(u_star)\n",
    "    u_star_L, u_star_S = rpca.fit(tol=1e-16, max_iter=10000, iter_print=100, verbose=False)\n",
    "    all_u_star_S[:, i:i+1] = u_star_S\n",
    "    \n",
    "    print(\"Running FFT c=0 on u_star\")\n",
    "    out, PSD = fft1d_denoise(to_tensor(u_star), thres=None, c=0)\n",
    "#     PSD = PSD.detach().numpy()\n",
    "    all_fft_noises[:, i:i+1] = (u_star-out.detach().numpy())\n",
    "    \n",
    "#     print(\"Running FFT c=1 on u_star\")\n",
    "#     out, PSD = fft1d_denoise(to_tensor(u_star), thres=None, c=1)\n",
    "#     out = out.detach().numpy()\n",
    "#     PSD = PSD.detach().numpy()\n",
    "#     all_out_c1[:, i:i+1] = out\n",
    "    \n",
    "    print()\n",
    "    \n",
    "print(\"DONE...\")"
   ]
  },
  {
   "cell_type": "code",
   "execution_count": null,
   "metadata": {},
   "outputs": [],
   "source": [
    "rpca_mse = []\n",
    "fft_mse = []\n",
    "for i in range(n_exps):\n",
    "    rpca_mse.append(((all_noises[:, i:i+1]-all_u_star_S[:, i:i+1])**2).mean())\n",
    "    fft_mse.append(((all_noises[:, i:i+1]-all_fft_noises[:, i:i+1])**2).mean())"
   ]
  },
  {
   "cell_type": "code",
   "execution_count": null,
   "metadata": {},
   "outputs": [],
   "source": [
    "from scipy.stats import ttest_ind"
   ]
  },
  {
   "cell_type": "code",
   "execution_count": null,
   "metadata": {},
   "outputs": [],
   "source": [
    "t_stat, p_val = ttest_ind(fft_mse, rpca_mse, equal_var=False, alternative='less')\n",
    "if p_val/2 < 0.05: print(\"FFT is better than Robust PCA\")\n",
    "else: print(\"Robust PCA is better than FFT\")"
   ]
  },
  {
   "cell_type": "code",
   "execution_count": null,
   "metadata": {},
   "outputs": [],
   "source": [
    "t_stat, p_val # (-780.8335423299599, 2.6398217397035094e-102)\n",
    "# print(\"FFT c=0 is better than Robust PCA\")"
   ]
  },
  {
   "cell_type": "code",
   "execution_count": null,
   "metadata": {},
   "outputs": [],
   "source": [
    "import seaborn as sns\n",
    "import pandas as pd"
   ]
  },
  {
   "cell_type": "code",
   "execution_count": null,
   "metadata": {},
   "outputs": [],
   "source": [
    "tmp = pd.DataFrame({\"FFT\":fft_mse, \"Robust PCA\":rpca_mse})\n",
    "sns.histplot(data=tmp, stat=\"count\")\n",
    "plt.xlabel(\"MSE to the true noise\")\n",
    "plt.show()\n",
    "# tmp"
   ]
  },
  {
   "cell_type": "code",
   "execution_count": null,
   "metadata": {},
   "outputs": [],
   "source": []
  }
 ],
 "metadata": {
  "kernelspec": {
   "display_name": "Python 3",
   "language": "python",
   "name": "python3"
  },
  "language_info": {
   "codemirror_mode": {
    "name": "ipython",
    "version": 3
   },
   "file_extension": ".py",
   "mimetype": "text/x-python",
   "name": "python",
   "nbconvert_exporter": "python",
   "pygments_lexer": "ipython3",
   "version": "3.9.6"
  }
 },
 "nbformat": 4,
 "nbformat_minor": 4
}
