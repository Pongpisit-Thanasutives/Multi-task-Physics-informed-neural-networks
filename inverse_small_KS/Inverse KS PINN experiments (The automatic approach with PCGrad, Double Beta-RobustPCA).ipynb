{
 "cells": [
  {
   "cell_type": "code",
   "execution_count": 1,
   "metadata": {},
   "outputs": [
    {
     "name": "stdout",
     "output_type": "stream",
     "text": [
      "Running Python 3.9.6\n",
      "You can use npar for np.array\n"
     ]
    }
   ],
   "source": [
    "%load_ext autoreload\n",
    "%autoreload 2 \n",
    "%reload_ext autoreload\n",
    "%matplotlib inline\n",
    "import matplotlib.pyplot as plt\n",
    "\n",
    "# always import gbm_algos first !\n",
    "import xgboost, lightgbm, catboost\n",
    "from gplearn.genetic import SymbolicRegressor\n",
    "\n",
    "# To access the contents of the parent dir\n",
    "import sys; sys.path.insert(0, '../')\n",
    "import os\n",
    "from scipy.io import loadmat\n",
    "from utils import *\n",
    "from preprocess import *\n",
    "from models import RobustPCANN\n",
    "\n",
    "# Let's do facy optimizers\n",
    "from optimizers import Lookahead, AdamGC, SGDGC\n",
    "from madgrad import MADGRAD\n",
    "from lbfgsnew import LBFGSNew\n",
    "\n",
    "from pytorch_robust_pca import *\n",
    "\n",
    "# Modify at /usr/local/lib/python3.9/site-packages/torch_lr_finder/lr_finder.py\n",
    "from torch_lr_finder import LRFinder\n",
    "\n",
    "# Tracking\n",
    "from tqdm import trange\n",
    "\n",
    "import sympy\n",
    "import sympytorch"
   ]
  },
  {
   "cell_type": "code",
   "execution_count": 2,
   "metadata": {},
   "outputs": [
    {
     "name": "stdout",
     "output_type": "stream",
     "text": [
      "Loaded from ../deephpms_data/KS_simple3.pkl\n",
      "Perturbed Exact with intensity = 0.01\n",
      "Noisy (x, t)\n",
      "Fine-tuning with 5000 samples\n",
      "Running Robust PCA on X_u_train\n",
      "Robust PCA Loss: 5.581351280659424e-33\n",
      "Running Robust PCA on X_u_train\n",
      "Robust PCA Loss: 2.4929027491956193e-34\n"
     ]
    }
   ],
   "source": [
    "# Loading the KS sol\n",
    "DATA_PATH = \"../deephpms_data/KS_simple3.pkl\"\n",
    "data = pickle_load(DATA_PATH)\n",
    "t = data['t']\n",
    "x = data['x']\n",
    "X, T = np.meshgrid(x, t)\n",
    "Exact = data['u'].T\n",
    "\n",
    "# Adding noise\n",
    "noise_intensity = 0.01\n",
    "noisy_xt = True\n",
    "\n",
    "Exact = perturb(Exact, intensity=noise_intensity, noise_type=\"normal\")\n",
    "print(\"Perturbed Exact with intensity =\", float(noise_intensity))\n",
    "\n",
    "x_star = X.flatten()[:,None]\n",
    "t_star = T.flatten()[:,None]\n",
    "X_star = np.hstack((x_star, t_star))\n",
    "u_star = Exact.T.flatten()[:,None]\n",
    "\n",
    "if noisy_xt: \n",
    "    print(\"Noisy (x, t)\")\n",
    "    X_star = perturb(X_star, intensity=noise_intensity, noise_type=\"normal\")\n",
    "else: print(\"Clean (x, t)\")\n",
    "\n",
    "# Doman bounds\n",
    "lb = X_star.min(axis=0)\n",
    "ub = X_star.max(axis=0)\n",
    "\n",
    "N = 5000\n",
    "print(f\"Fine-tuning with {N} samples\")\n",
    "idx = np.random.choice(X_star.shape[0], N, replace=False)\n",
    "X_u_train = X_star[idx, :]\n",
    "u_train = u_star[idx,:]\n",
    "\n",
    "# Robust PCA\n",
    "print(\"Running Robust PCA on X_u_train\")\n",
    "rpca = R_pca_numpy(X_u_train)\n",
    "X_train_L, X_train_S = rpca.fit(tol=1e-20, max_iter=25000, iter_print=100, verbose=False)\n",
    "print('Robust PCA Loss:', mean_squared_error(X_u_train, X_train_L+X_train_S))\n",
    "X_train_S = to_tensor(X_train_S, False)\n",
    "\n",
    "print(\"Running Robust PCA on X_u_train\")\n",
    "rpca = R_pca_numpy(u_train)\n",
    "u_train_L, u_train_S = rpca.fit(tol=1e-20, max_iter=25000, iter_print=100, verbose=False)\n",
    "print('Robust PCA Loss:', mean_squared_error(u_train, u_train_L+u_train_S))\n",
    "u_train_S = to_tensor(u_train_S, False)\n",
    "\n",
    "del rpca, X_train_L, u_train_L, X_star, u_star, Exact, data\n",
    "\n",
    "# Convert to torch.tensor\n",
    "X_u_train = to_tensor(X_u_train, True)\n",
    "u_train = to_tensor(u_train, False)\n",
    "\n",
    "# lb and ub are used in adversarial training\n",
    "scaling_factor = 1.0\n",
    "lb = scaling_factor*to_tensor(lb, False)\n",
    "ub = scaling_factor*to_tensor(ub, False)\n",
    "\n",
    "# Feature names, base on the symbolic regression results\n",
    "feature_names=('uf', 'u_x', 'u_xx', 'u_xxxx'); feature2index = {}"
   ]
  },
  {
   "cell_type": "code",
   "execution_count": 3,
   "metadata": {},
   "outputs": [
    {
     "name": "stdout",
     "output_type": "stream",
     "text": [
      "-0.541081*u_x*uf - 0.534833*u_xx - 0.518928*u_xxxx {u_x, u_xxxx, u_xx, uf}\n"
     ]
    },
    {
     "data": {
      "text/plain": [
       "SymPyModule(expressions=(-0.541081*u_x*uf - 0.534833*u_xx - 0.518928*u_xxxx,))"
      ]
     },
     "execution_count": 3,
     "metadata": {},
     "output_type": "execute_result"
    }
   ],
   "source": [
    "program = '''\n",
    "-0.534833*u_xx-0.518928*u_xxxx-0.541081*uf*u_x\n",
    "'''\n",
    "pde_expr, variables = build_exp(program); print(pde_expr, variables)\n",
    "mod = sympytorch.SymPyModule(expressions=[pde_expr]); mod.train()"
   ]
  },
  {
   "cell_type": "code",
   "execution_count": 4,
   "metadata": {},
   "outputs": [],
   "source": [
    "class RobustPINN(nn.Module):\n",
    "    def __init__(self, model, loss_fn, index2features, scale=False, lb=None, ub=None, pretrained=False):\n",
    "        super(RobustPINN, self).__init__()\n",
    "        self.model = model\n",
    "        if not pretrained: self.model.apply(self.xavier_init)\n",
    "            \n",
    "        # Robust Beta-PCA\n",
    "        self.inp_rpca = RobustPCANN(beta=0.0, is_beta_trainable=True, inp_dims=2, hidden_dims=32)\n",
    "        self.out_rpca = RobustPCANN(beta=0.0, is_beta_trainable=True, inp_dims=1, hidden_dims=32)\n",
    "            \n",
    "        self.callable_loss_fn = loss_fn\n",
    "        self.index2features = index2features; self.feature2index = {}\n",
    "        for idx, fn in enumerate(self.index2features): self.feature2index[fn] = str(idx)\n",
    "        self.scale = scale; self.lb, self.ub = lb, ub\n",
    "        self.diff_flag = diff_flag(self.index2features)\n",
    "        \n",
    "    def xavier_init(self, m):\n",
    "        if type(m) == nn.Linear:\n",
    "            torch.nn.init.xavier_uniform_(m.weight)\n",
    "            m.bias.data.fill_(0.01)\n",
    "        \n",
    "    def forward(self, x, t):\n",
    "        H = torch.cat([x, t], dim=1)\n",
    "        if self.scale: H = self.neural_net_scale(H)\n",
    "        return self.model(H)\n",
    "    \n",
    "    def loss(self, X_input, X_input_S, y_input, y_input_S, update_network_params=True, update_pde_params=True):\n",
    "        total_loss = []\n",
    "        \n",
    "        X_input = self.inp_rpca(X_input, X_input_S, normalize=True)\n",
    "        y_input = self.out_rpca(y_input, y_input_S, normalize=True)\n",
    "        \n",
    "        grads_dict, u_t = self.grads_dict(X_input[:, 0:1], X_input[:, 1:2])\n",
    "        # MSE Loss\n",
    "        if update_network_params:\n",
    "            mse_loss = F.mse_loss(grads_dict[\"uf\"], y_input)\n",
    "            total_loss.append(mse_loss)\n",
    "        # PDE Loss\n",
    "        if update_pde_params:\n",
    "            l_eq = F.mse_loss(self.callable_loss_fn(**grads_dict).squeeze(-1), u_t)\n",
    "            total_loss.append(l_eq)\n",
    "            \n",
    "        return total_loss\n",
    "    \n",
    "    def grads_dict(self, x, t):\n",
    "        uf = self.forward(x, t)\n",
    "        u_t = self.gradients(uf, t)[0]\n",
    "        \n",
    "        ### PDE Loss calculation ###\n",
    "        derivatives = group_diff(uf, (x, t), self.diff_flag[1], function_notation=\"u\", gd_init={\"uf\":uf})\n",
    "        \n",
    "        return derivatives, u_t\n",
    "    \n",
    "    def gradients(self, func, x):\n",
    "        return grad(func, x, create_graph=True, retain_graph=True, grad_outputs=torch.ones(func.shape))\n",
    "    \n",
    "    def neural_net_scale(self, inp): \n",
    "        return -1.0+2.0*(inp-self.lb)/(self.ub-self.lb)"
   ]
  },
  {
   "cell_type": "code",
   "execution_count": 5,
   "metadata": {},
   "outputs": [
    {
     "name": "stdout",
     "output_type": "stream",
     "text": [
      "Using old implementation of TorchMLP. See models.py for more new model-related source code.\n"
     ]
    }
   ],
   "source": [
    "model = TorchMLP(dimensions=[2, 50, 50, 50 ,50, 50, 1], activation_function=nn.Tanh, bn=nn.LayerNorm, dropout=None)\n",
    "\n",
    "# Pretrained model\n",
    "semisup_model_state_dict = torch.load(\"./saved_path_inverse_small_KS/simple3_semisup_model_state_dict_250labeledsamples250unlabeledsamples.pth\")\n",
    "parameters = OrderedDict()\n",
    "# Filter only the parts that I care about renaming (to be similar to what defined in TorchMLP).\n",
    "inner_part = \"network.model.\"\n",
    "for p in semisup_model_state_dict:\n",
    "    if inner_part in p:\n",
    "        parameters[p.replace(inner_part, \"\")] = semisup_model_state_dict[p]\n",
    "model.load_state_dict(parameters)\n",
    "\n",
    "pinn = RobustPINN(model=model, loss_fn=mod, index2features=feature_names, scale=True, lb=lb, ub=ub, pretrained=True)"
   ]
  },
  {
   "cell_type": "code",
   "execution_count": 6,
   "metadata": {},
   "outputs": [
    {
     "name": "stdout",
     "output_type": "stream",
     "text": [
      "Loaded the model's weights properly\n"
     ]
    }
   ],
   "source": [
    "pinn = load_weights(pinn, \"./saved_path_inverse_small_KS/noisy_final_finetuned_doublebetarpca_pinn_5000.pth\")"
   ]
  },
  {
   "cell_type": "code",
   "execution_count": 7,
   "metadata": {},
   "outputs": [],
   "source": [
    "def closure():\n",
    "    if torch.is_grad_enabled():\n",
    "        optimizer2.zero_grad()\n",
    "    losses = pinn.loss(X_u_train, X_train_S, u_train, u_train_S, update_network_params=True, update_pde_params=True)\n",
    "    l = sum(losses)\n",
    "    if l.requires_grad:\n",
    "        l.backward(retain_graph=True)\n",
    "    return l\n",
    "\n",
    "def mtl_closure():\n",
    "    n_obj = 2 # There are two tasks\n",
    "    losses = pinn.loss(X_u_train, X_train_S, u_train, u_train_S, update_network_params=True, update_pde_params=True)\n",
    "    updated_grads = []\n",
    "    \n",
    "    for i in range(n_obj):\n",
    "        optimizer1.zero_grad()\n",
    "        losses[i].backward(retain_graph=True)\n",
    "\n",
    "        g_task = []\n",
    "        for param in pinn.parameters():\n",
    "            if param.grad is not None:\n",
    "                g_task.append(Variable(param.grad.clone(), requires_grad=False))\n",
    "            else:\n",
    "                g_task.append(Variable(torch.zeros(param.shape), requires_grad=False))\n",
    "        # appending the gradients from each task\n",
    "        updated_grads.append(g_task)\n",
    "\n",
    "    updated_grads = list(pcgrad.pc_grad_update(updated_grads))[0]\n",
    "    for idx, param in enumerate(pinn.parameters()): \n",
    "        param.grad = (updated_grads[0][idx]+updated_grads[1][idx])\n",
    "        \n",
    "    return sum(losses)"
   ]
  },
  {
   "cell_type": "code",
   "execution_count": null,
   "metadata": {},
   "outputs": [],
   "source": [
    "epochs1, epochs2 = 200, 0\n",
    "# TODO: Save best state dict and training for more epochs.\n",
    "optimizer1 = MADGRAD(pinn.parameters(), lr=1e-7, momentum=0.9)\n",
    "pinn.train(); best_train_loss = 1e6\n",
    "\n",
    "print('1st Phase optimization using Adam with PCGrad gradient modification')\n",
    "for i in range(epochs1):\n",
    "    optimizer1.step(mtl_closure)\n",
    "    if (i % 10) == 0 or i == epochs1-1:\n",
    "        l = mtl_closure()\n",
    "        print(\"Epoch {}: \".format(i), l.item())\n",
    "        \n",
    "optimizer2 = torch.optim.LBFGS(pinn.parameters(), lr=1e-1, max_iter=500, max_eval=int(500*1.25), history_size=300, line_search_fn='strong_wolfe')\n",
    "print('2nd Phase optimization using LBFGS')\n",
    "for i in range(epochs2):\n",
    "    optimizer2.step(closure)\n",
    "    if (i % 10) == 0 or i == epochs2-1:\n",
    "        l = closure()\n",
    "        print(\"Epoch {}: \".format(i), l.item())"
   ]
  },
  {
   "cell_type": "code",
   "execution_count": 8,
   "metadata": {},
   "outputs": [
    {
     "name": "stdout",
     "output_type": "stream",
     "text": [
      "[-0.9980248212814331, -0.9982557892799377, -0.998869001865387]\n"
     ]
    }
   ],
   "source": [
    "pred_params = [x.item() for x in pinn.callable_loss_fn.parameters()]\n",
    "print(pred_params)"
   ]
  },
  {
   "cell_type": "code",
   "execution_count": 9,
   "metadata": {},
   "outputs": [
    {
     "name": "stdout",
     "output_type": "stream",
     "text": [
      "0.1616795857747396 0.03562172791384541\n"
     ]
    }
   ],
   "source": [
    "errs = 100*np.abs(np.array(pred_params)+1)\n",
    "print(errs.mean(), errs.std())"
   ]
  },
  {
   "cell_type": "code",
   "execution_count": null,
   "metadata": {},
   "outputs": [],
   "source": [
    "### Without AutoEncoder ###\n",
    "\n",
    "# Clean Exact and (x, t)\n",
    "# [-0.999634325504303, -0.9994997382164001, -0.9995566010475159]\n",
    "# (0.04364450772603353, 0.005516461306387781)\n",
    "\n",
    "# Pretrained with final_finetuned_pinn_5000 (do not use / report)\n",
    "# [-0.9996052980422974, -0.9995099902153015, -0.9995319247245789]\n",
    "# 0.04509290059407552 0.0040754479422416435\n",
    "\n",
    "# Noisy Exact and clean (x, t)\n",
    "# [-0.9967969655990601, -0.9969800114631653, -0.9973703026771545]\n",
    "# (0.2950906753540039, 0.023910676954986623)\n",
    "\n",
    "# Noisy Exact and noisy (x, t)\n",
    "# [-0.9975059032440186, -0.9962050914764404, -0.9969104528427124]\n",
    "# 0.3126184145609538 0.05316856937153804"
   ]
  },
  {
   "cell_type": "code",
   "execution_count": null,
   "metadata": {},
   "outputs": [],
   "source": [
    "### Without AutoEncoder & With Robust PCA ###\n",
    "\n",
    "# Noisy Exact and clean (x, t)\n",
    "# [-1.0003160238265991, -1.0005097389221191, -0.9997726678848267]\n",
    "# (0.035103162129720054, 0.011791963483533422)\n",
    "\n",
    "# Noisy Exact and noisy (x, t) + Robust PCA\n",
    "# [-1.000351071357727, -0.9991073608398438, -0.9980993866920471]\n",
    "# (0.08140603701273601 0.09209241474722876)"
   ]
  },
  {
   "cell_type": "code",
   "execution_count": null,
   "metadata": {},
   "outputs": [],
   "source": [
    "### Without AutoEncoder & With Double Beta-Robust PCA ###\n",
    "\n",
    "# Noisy Exact and clean (x, t)\n",
    "# [-1.0013889074325562, -0.998389720916748, -1.0010501146316528]\n",
    "# 0.1349767049153646 0.023035484282371465\n",
    "\n",
    "# Noisy Exact and noisy (x, t) + Robust PCA\n",
    "# [-0.9980248212814331, -0.9982557892799377, -0.998869001865387]\n",
    "# 0.1616795857747396 0.03562172791384541"
   ]
  }
 ],
 "metadata": {
  "kernelspec": {
   "display_name": "Python 3",
   "language": "python",
   "name": "python3"
  },
  "language_info": {
   "codemirror_mode": {
    "name": "ipython",
    "version": 3
   },
   "file_extension": ".py",
   "mimetype": "text/x-python",
   "name": "python",
   "nbconvert_exporter": "python",
   "pygments_lexer": "ipython3",
   "version": "3.9.6"
  }
 },
 "nbformat": 4,
 "nbformat_minor": 4
}
