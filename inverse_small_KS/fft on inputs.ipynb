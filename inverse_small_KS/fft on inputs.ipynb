{
 "cells": [
  {
   "cell_type": "code",
   "execution_count": 1,
   "metadata": {},
   "outputs": [
    {
     "name": "stdout",
     "output_type": "stream",
     "text": [
      "Running Python 3.9.6\n",
      "You can use npar for np.array\n"
     ]
    }
   ],
   "source": [
    "%load_ext autoreload\n",
    "%autoreload 2 \n",
    "%reload_ext autoreload\n",
    "%matplotlib inline\n",
    "import matplotlib.pyplot as plt\n",
    "\n",
    "# always import gbm_algos first !\n",
    "import xgboost, lightgbm, catboost\n",
    "from gplearn.genetic import SymbolicRegressor\n",
    "\n",
    "# To access the contents of the parent dir\n",
    "import sys; sys.path.insert(0, '../')\n",
    "import os\n",
    "from scipy.io import loadmat\n",
    "from utils import *\n",
    "from preprocess import *\n",
    "from models import RobustPCANN\n",
    "\n",
    "# Let's do facy optimizers\n",
    "from optimizers import Lookahead, AdamGC, SGDGC\n",
    "from madgrad import MADGRAD\n",
    "from lbfgsnew import LBFGSNew\n",
    "\n",
    "from pytorch_robust_pca import *\n",
    "\n",
    "# Modify at /usr/local/lib/python3.9/site-packages/torch_lr_finder/lr_finder.py\n",
    "from torch_lr_finder import LRFinder\n",
    "\n",
    "# Tracking\n",
    "from tqdm import trange\n",
    "\n",
    "import sympy\n",
    "import sympytorch"
   ]
  },
  {
   "cell_type": "code",
   "execution_count": 2,
   "metadata": {},
   "outputs": [
    {
     "name": "stdout",
     "output_type": "stream",
     "text": [
      "Loaded from ../deephpms_data/KS_simple3.pkl\n"
     ]
    }
   ],
   "source": [
    "# Loading the KS sol\n",
    "DATA_PATH = \"../deephpms_data/KS_simple3.pkl\"\n",
    "\n",
    "data = pickle_load(DATA_PATH)\n",
    "\n",
    "t = data['t']\n",
    "x = data['x']\n",
    "\n",
    "X, T = np.meshgrid(x, t)\n",
    "Exact = data['u'].T\n",
    "\n",
    "x_star = X.flatten()[:,None]\n",
    "t_star = T.flatten()[:,None]\n",
    "\n",
    "X_star = np.hstack((x_star, t_star))"
   ]
  },
  {
   "cell_type": "code",
   "execution_count": 3,
   "metadata": {},
   "outputs": [
    {
     "name": "stdout",
     "output_type": "stream",
     "text": [
      "Perturbed u_star with intensity = 1.0\n"
     ]
    }
   ],
   "source": [
    "# Adding noise\n",
    "noise_intensity = 1\n",
    "X_star_clean = X_star\n",
    "noise = perturb(X_star, intensity=noise_intensity, noise_type=\"normal\", overwrite=False)\n",
    "X_star = X_star + noise\n",
    "print(\"Perturbed u_star with intensity =\", float(noise_intensity))"
   ]
  },
  {
   "cell_type": "code",
   "execution_count": 4,
   "metadata": {},
   "outputs": [
    {
     "name": "stdout",
     "output_type": "stream",
     "text": [
      "Running Robust PCA on u_star\n",
      "Robust PCA Loss: 3.0266500371819645e-22\n",
      "MSE to the generated noise: 38.05160260602893\n"
     ]
    }
   ],
   "source": [
    "print(\"Running Robust PCA on u_star\")\n",
    "rpca = R_pca_numpy(X_star)\n",
    "X_star_L, X_star_S = rpca.fit(tol=1e-16, max_iter=10000, iter_print=100, verbose=False)\n",
    "print('Robust PCA Loss:', mean_squared_error(X_star, X_star_L+X_star_S))\n",
    "print('MSE to the generated noise:', mse_function(noise, X_star_S))"
   ]
  },
  {
   "cell_type": "code",
   "execution_count": 5,
   "metadata": {},
   "outputs": [
    {
     "data": {
      "text/plain": [
       "38.05160260602893"
      ]
     },
     "execution_count": 5,
     "metadata": {},
     "output_type": "execute_result"
    }
   ],
   "source": [
    "mse_function(noise, X_star_S)"
   ]
  },
  {
   "cell_type": "code",
   "execution_count": 6,
   "metadata": {},
   "outputs": [],
   "source": [
    "x_out, x_PSD = fft1d_denoise_numpy(X_star[:, 0:1], thres=None, c=0)\n",
    "t_out, t_PSD = fft1d_denoise_numpy(X_star[:, 1:2], thres=None, c=0)\n",
    "X_star_denoised = np.hstack((x_out, t_out))"
   ]
  },
  {
   "cell_type": "code",
   "execution_count": 7,
   "metadata": {},
   "outputs": [
    {
     "data": {
      "text/plain": [
       "9.418703079136773"
      ]
     },
     "execution_count": 7,
     "metadata": {},
     "output_type": "execute_result"
    }
   ],
   "source": [
    "mse_function(noise, (X_star-X_star_denoised))"
   ]
  },
  {
   "cell_type": "code",
   "execution_count": 8,
   "metadata": {},
   "outputs": [
    {
     "name": "stdout",
     "output_type": "stream",
     "text": [
      "What if we know only the noise dist? Is that help?\n"
     ]
    },
    {
     "data": {
      "text/plain": [
       "28.991555950218622"
      ]
     },
     "execution_count": 8,
     "metadata": {},
     "output_type": "execute_result"
    }
   ],
   "source": [
    "print(\"What if we know only the noise dist? Is that help?\")\n",
    "mse_function(noise, np.random.rand(noise.shape[0], noise.shape[1]))"
   ]
  },
  {
   "cell_type": "code",
   "execution_count": 9,
   "metadata": {},
   "outputs": [],
   "source": [
    "import seaborn as sns"
   ]
  },
  {
   "cell_type": "code",
   "execution_count": 10,
   "metadata": {},
   "outputs": [
    {
     "name": "stdout",
     "output_type": "stream",
     "text": [
      "1\n"
     ]
    },
    {
     "data": {
      "image/png": "[encoded data removed]",
      "text/plain": [
       "<Figure size 432x288 with 1 Axes>"
      ]
     },
     "metadata": {
      "needs_background": "light"
     },
     "output_type": "display_data"
    }
   ],
   "source": [
    "print(noise_intensity)\n",
    "tmp = {\"Real noise\":noise.flatten(), \"Estimated noise\":(X_star-X_star_denoised).flatten()}\n",
    "sns.histplot(tmp, kde=True, stat=\"probability\")\n",
    "plt.xlabel(\"Noise magnitude\")\n",
    "plt.show()"
   ]
  },
  {
   "cell_type": "code",
   "execution_count": null,
   "metadata": {},
   "outputs": [],
   "source": []
  },
  {
   "cell_type": "code",
   "execution_count": null,
   "metadata": {},
   "outputs": [],
   "source": [
    "n_exps = 50\n",
    "all_fftc0_noises = np.zeros((u_star_S.shape[0], n_exps))\n",
    "all_fftc1_noises = np.zeros(all_fftc0_noises.shape)\n",
    "# all_out_c1 = np.zeros(all_u_star_S.shape)\n",
    "all_noises = np.zeros(all_fftc0_noises.shape)"
   ]
  },
  {
   "cell_type": "markdown",
   "metadata": {},
   "source": [
    "Some goals\n",
    "    \n",
    "    - Is denoising using FFT better than the Robust PCA algo for init?: YES!\n",
    "    - If so, what is the recommended c wrt the varied noise_intensity?: With noise_intensity = 10, the c=1 starts to perform better. So c=0 is quite good for a wide range of noises.\n",
    "    \n",
    "    - noise_intensity = 10 -> c=1 best, noise_intensity = 0.01 -> c=-1 best, noise_intensity = 1 -> c=0 best. If the medium level of noise is presumed, the c=0 is recommended starting point!"
   ]
  },
  {
   "cell_type": "code",
   "execution_count": null,
   "metadata": {},
   "outputs": [],
   "source": [
    "for i in range(n_exps):\n",
    "    print(i+1)\n",
    "    # Adding noise\n",
    "    noise_intensity = 1 # c=0 is better than c=1, -1 for noise_intensity = 1\n",
    "    u_star = Exact.T.flatten()[:,None]\n",
    "    noise = perturb(u_star, intensity=noise_intensity, noise_type=\"normal\", overwrite=False)\n",
    "    u_star = u_star + noise\n",
    "    print(\"Perturbed u_star with intensity =\", float(noise_intensity))\n",
    "    all_noises[:, i:i+1] = noise\n",
    "\n",
    "#     print(\"Running Robust PCA on u_star\")\n",
    "#     rpca = R_pca_numpy(u_star)\n",
    "#     u_star_L, u_star_S = rpca.fit(tol=1e-16, max_iter=10000, iter_print=100, verbose=False)\n",
    "#     all_u_star_S[:, i:i+1] = u_star_S\n",
    "    \n",
    "    print(\"Running FFT c=0 on u_star\")\n",
    "    out, PSD = fft1d_denoise(to_tensor(u_star), thres=None, c=0)\n",
    "#     PSD = PSD.detach().numpy()\n",
    "    all_fftc0_noises[:, i:i+1] = (u_star-out.detach().numpy())\n",
    "    \n",
    "    print(\"Running FFT c=1 on u_star\")\n",
    "    out, PSD = fft1d_denoise(to_tensor(u_star), thres=0, c=-1)\n",
    "#     PSD = PSD.detach().numpy()\n",
    "    all_fftc1_noises[:, i:i+1] = (u_star-out.detach().numpy())\n",
    "    \n",
    "    print()\n",
    "    \n",
    "print(\"DONE...\")"
   ]
  },
  {
   "cell_type": "code",
   "execution_count": null,
   "metadata": {},
   "outputs": [],
   "source": [
    "fftc0_mse = []\n",
    "fftc1_mse = []\n",
    "for i in range(n_exps):\n",
    "    fftc0_mse.append(((all_noises[:, i:i+1]-all_fftc0_noises[:, i:i+1])**2).mean())\n",
    "    fftc1_mse.append(((all_noises[:, i:i+1]-all_fftc1_noises[:, i:i+1])**2).mean())"
   ]
  },
  {
   "cell_type": "code",
   "execution_count": null,
   "metadata": {},
   "outputs": [],
   "source": [
    "from scipy.stats import ttest_ind"
   ]
  },
  {
   "cell_type": "code",
   "execution_count": null,
   "metadata": {},
   "outputs": [],
   "source": [
    "t_stat, p_val = ttest_ind(fftc0_mse, fftc1_mse, equal_var=False, alternative='less')\n",
    "if p_val/2 < 0.05: print(\"FFT c=0 is better than FFT c=1\")\n",
    "else: print(\"FFT c=1 is better than FFT c=0\")"
   ]
  },
  {
   "cell_type": "code",
   "execution_count": null,
   "metadata": {},
   "outputs": [],
   "source": [
    "npar(fftc0_mse).mean(), npar(fftc1_mse).mean()"
   ]
  },
  {
   "cell_type": "code",
   "execution_count": null,
   "metadata": {},
   "outputs": [],
   "source": [
    "t_stat, p_val # (-780.8335423299599, 2.6398217397035094e-102)\n",
    "# print(\"FFT c=0 is better than Robust PCA\")"
   ]
  },
  {
   "cell_type": "code",
   "execution_count": null,
   "metadata": {},
   "outputs": [],
   "source": [
    "# import seaborn as sns\n",
    "# import pandas as pd"
   ]
  },
  {
   "cell_type": "code",
   "execution_count": null,
   "metadata": {},
   "outputs": [],
   "source": [
    "# tmp = pd.DataFrame({\"FFT\":fft_mse, \"Robust PCA\":rpca_mse})\n",
    "# sns.histplot(data=tmp, stat=\"count\")\n",
    "# plt.xlabel(\"MSE to the true noise\")\n",
    "# plt.show()"
   ]
  },
  {
   "cell_type": "code",
   "execution_count": null,
   "metadata": {},
   "outputs": [],
   "source": []
  }
 ],
 "metadata": {
  "kernelspec": {
   "display_name": "Python 3",
   "language": "python",
   "name": "python3"
  },
  "language_info": {
   "codemirror_mode": {
    "name": "ipython",
    "version": 3
   },
   "file_extension": ".py",
   "mimetype": "text/x-python",
   "name": "python",
   "nbconvert_exporter": "python",
   "pygments_lexer": "ipython3",
   "version": "3.9.6"
  }
 },
 "nbformat": 4,
 "nbformat_minor": 4
}
