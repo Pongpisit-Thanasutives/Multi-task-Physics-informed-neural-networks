{
 "cells": [
  {
   "cell_type": "code",
   "execution_count": 1,
   "metadata": {},
   "outputs": [
    {
     "name": "stdout",
     "output_type": "stream",
     "text": [
      "[pyKeOps]: Warning, no cuda detected. Switching to cpu only.\n"
     ]
    },
    {
     "name": "stderr",
     "output_type": "stream",
     "text": [
      "/usr/local/lib/python3.9/site-packages/sklearn/utils/deprecation.py:144: FutureWarning: The sklearn.linear_model.base module is  deprecated in version 0.22 and will be removed in version 0.24. The corresponding classes / functions should instead be imported from sklearn.linear_model. Anything that cannot be imported from sklearn.linear_model is now part of the private API.\n",
      "  warnings.warn(message, FutureWarning)\n"
     ]
    }
   ],
   "source": [
    "%load_ext autoreload\n",
    "%autoreload 2 \n",
    "%reload_ext autoreload\n",
    "%matplotlib inline\n",
    "import matplotlib.pyplot as plt\n",
    "\n",
    "# always import gbm_algos first !\n",
    "import xgboost, lightgbm, catboost\n",
    "from gplearn.genetic import SymbolicRegressor\n",
    "\n",
    "# To access the contents of the parent dir\n",
    "import sys; sys.path.insert(0, '../')\n",
    "import os\n",
    "from scipy.io import loadmat\n",
    "from utils import *\n",
    "from preprocess import *\n",
    "\n",
    "# Let's do facy optimizers\n",
    "from optimizers import Lookahead, AdamGC, SGDGC\n",
    "from madgrad import MADGRAD\n",
    "from lbfgsnew import LBFGSNew\n",
    "# Modify at /usr/local/lib/python3.9/site-packages/torch_lr_finder/lr_finder.py\n",
    "from torch_lr_finder import LRFinder\n",
    "\n",
    "# Distance loss\n",
    "from geomloss import SamplesLoss\n",
    "\n",
    "# Model selection\n",
    "from sparsereg.model import STRidge\n",
    "from sklearn.preprocessing import PolynomialFeatures\n",
    "from sklearn.linear_model import LinearRegression, Ridge\n",
    "from RegscorePy.bic import bic\n",
    "\n",
    "# Tracking\n",
    "from tqdm import trange"
   ]
  },
  {
   "cell_type": "code",
   "execution_count": 2,
   "metadata": {},
   "outputs": [],
   "source": [
    "fd_derivatives = pd.read_csv(\"./tmp_files/fd_derivatives.csv\").values\n",
    "fd_u_t = pd.read_csv(\"./tmp_files/fd_u_t.csv\").values\n",
    "fd_u_t = fd_u_t.ravel()"
   ]
  },
  {
   "cell_type": "code",
   "execution_count": 4,
   "metadata": {},
   "outputs": [
    {
     "name": "stdout",
     "output_type": "stream",
     "text": [
      "    |   Population Average    |             Best Individual              |\n",
      "---- ------------------------- ------------------------------------------ ----------\n",
      " Gen   Length          Fitness   Length          Fitness      OOB Fitness  Time Left\n",
      "   0    26.31         0.191359       15       0.00892383              N/A     23.68s\n",
      "   1     5.56        0.0509723        7       0.00879117              N/A      0.00s\n"
     ]
    },
    {
     "data": {
      "text/plain": [
       "SymbolicRegressor(const_range=(-1, 1), feature_names=None,\n",
       "                  function_set=('add', 'sub', 'mul'), generations=2,\n",
       "                  init_depth=(2, 6), init_method='half and half',\n",
       "                  low_memory=False, max_samples=1.0,\n",
       "                  metric='mean absolute error', n_jobs=3, p_crossover=0.7,\n",
       "                  p_hoist_mutation=0.05, p_point_mutation=0.1,\n",
       "                  p_point_replace=0.05, p_subtree_mutation=0.1,\n",
       "                  parsimony_coefficient=0.001, population_size=60000,\n",
       "                  random_state=None, stopping_criteria=0.0, tournament_size=50,\n",
       "                  verbose=1, warm_start=False)"
      ]
     },
     "execution_count": 4,
     "metadata": {},
     "output_type": "execute_result"
    }
   ],
   "source": [
    "est_gp = SymbolicRegressor(population_size=60000, generations=2, tournament_size=50, \n",
    "                           function_set=('add', 'sub', 'mul'), const_range=(-1, 1),\n",
    "                           p_crossover=0.7, p_subtree_mutation=0.1, p_hoist_mutation=0.05,\n",
    "                           p_point_mutation=0.1, parsimony_coefficient=0.001, max_samples=1.0,\n",
    "                           verbose=1, low_memory=False, n_jobs=3)\n",
    "\n",
    "est_gp.fit(fd_derivatives, fd_u_t)"
   ]
  },
  {
   "cell_type": "code",
   "execution_count": 6,
   "metadata": {},
   "outputs": [
    {
     "name": "stdout",
     "output_type": "stream",
     "text": [
      "sub(mul(add(X2, X4), -0.766), X5)\n"
     ]
    }
   ],
   "source": [
    "# uf,u_x,u_xx,u_xxx,u_xxxx,uf*u_x,uf*u_xx,uf*u_xxx,uf*u_xxxx,u_x*u_xx,u_x*u_xxx,u_x*u_xxxx,u_xx*u_xxx,u_xx*u_xxxx,u_xxx*u_xxxx\n",
    "# This is correct.\n",
    "print(est_gp._program)"
   ]
  },
  {
   "cell_type": "code",
   "execution_count": null,
   "metadata": {},
   "outputs": [],
   "source": []
  }
 ],
 "metadata": {
  "kernelspec": {
   "display_name": "Python 3",
   "language": "python",
   "name": "python3"
  },
  "language_info": {
   "codemirror_mode": {
    "name": "ipython",
    "version": 3
   },
   "file_extension": ".py",
   "mimetype": "text/x-python",
   "name": "python",
   "nbconvert_exporter": "python",
   "pygments_lexer": "ipython3",
   "version": "3.9.6"
  }
 },
 "nbformat": 4,
 "nbformat_minor": 4
}
