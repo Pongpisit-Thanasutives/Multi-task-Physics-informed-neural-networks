{
 "cells": [
  {
   "cell_type": "code",
   "execution_count": 1,
   "metadata": {},
   "outputs": [],
   "source": [
    "%load_ext autoreload\n",
    "%autoreload 2\n",
    "\n",
    "import os\n",
    "import numpy as np\n",
    "import torch\n",
    "import torch.nn as nn\n",
    "import torch.nn.functional as F\n",
    "from torch.autograd import Variable, grad\n",
    "from torch.utils.data import DataLoader, Dataset\n",
    "from torch_lr_finder import LRFinder\n",
    "\n",
    "import matplotlib.pyplot as plt\n",
    "from mpl_toolkits import mplot3d\n",
    "from mpl_toolkits.axes_grid1 import make_axes_locatable\n",
    "import scipy\n",
    "import scipy.io as io\n",
    "from pyDOE import lhs\n",
    "\n",
    "from sklearn.metrics import mean_squared_error, mean_absolute_error\n",
    "\n",
    "from pysr import pysr, best, best_callable\n",
    "from gplearn.genetic import SymbolicRegressor\n",
    "\n",
    "from utils import *\n",
    "import pcgrad\n",
    "from ladder import LadderNetwork\n",
    "\n",
    "# AdamGC (Gradient centrailization) optimizer\n",
    "# Please also try learning finder. (Doesn't have to be included in the paper)\n",
    "from optimizers import Lookahead, AdamGC, SGDGC  # Not have to report Lookahead and GC"
   ]
  },
  {
   "cell_type": "code",
   "execution_count": 2,
   "metadata": {},
   "outputs": [],
   "source": [
    "DATA_PATH = \"/Users/pongpisit/Desktop/research/pinn/Solving-Differential-Equations-with-Neural-Networks/SymbolicMathematics/data/burgers_shock.mat\""
   ]
  },
  {
   "cell_type": "code",
   "execution_count": 3,
   "metadata": {},
   "outputs": [
    {
     "name": "stdout",
     "output_type": "stream",
     "text": [
      "The number of training samples: 2000\n"
     ]
    }
   ],
   "source": [
    "data = io.loadmat(DATA_PATH)\n",
    "\n",
    "t = data['t'].flatten()[:, None]\n",
    "x = data['x'].flatten()[:, None]\n",
    "Exact = np.real(data['usol']).T\n",
    "\n",
    "X, T = np.meshgrid(x, t)\n",
    "\n",
    "X_star = np.hstack((X.flatten()[:, None], T.flatten()[:, None]))\n",
    "u_star = Exact.flatten()[:, None]\n",
    "\n",
    "# Doman bounds\n",
    "lb = X_star.min(0)\n",
    "ub = X_star.max(0)\n",
    "\n",
    "N = 2000\n",
    "print('The number of training samples:', str(N))\n",
    "idx = np.random.choice(X_star.shape[0], N, replace=False)\n",
    "X_u_train = X_star[idx, :]\n",
    "u_train = u_star[idx, :]\n",
    "\n",
    "X_u_train = torch.tensor(X_u_train).float().requires_grad_(True)\n",
    "u_train = torch.tensor(u_train).float().requires_grad_(True)\n",
    "\n",
    "X_star = torch.tensor(X_star).float().requires_grad_(True)\n",
    "u_star = torch.tensor(u_star).float().requires_grad_(True)"
   ]
  },
  {
   "cell_type": "code",
   "execution_count": 4,
   "metadata": {},
   "outputs": [],
   "source": [
    "class Network(nn.Module):\n",
    "    def __init__(self, model, uncert_mode=0):\n",
    "        super(Network, self).__init__()\n",
    "        self.model = model\n",
    "        \n",
    "        print('Init using xavier')\n",
    "        self.model.apply(self.xavier_init)\n",
    "        self.uncert = 0\n",
    "        self.log_vars = None\n",
    "        \n",
    "        if uncert_mode>0:\n",
    "            print(\"Createing an Uncert network\")\n",
    "            self.uncert = uncert_mode\n",
    "            self.log_vars = nn.Parameter(torch.zeros((uncert_mode)))\n",
    "        \n",
    "    def xavier_init(self, m):\n",
    "        if type(m) == nn.Linear:\n",
    "            torch.nn.init.xavier_uniform_(m.weight)\n",
    "        \n",
    "    def forward(self, data, inference=True):\n",
    "        return self.model(data)\n",
    "    \n",
    "    def loss(self, data, y_input, include_unsup=False):\n",
    "        uf, unsup_loss = self.forward(data)\n",
    "        mse_loss = F.mse_loss(uf, y_input)\n",
    "        if not include_unsup:\n",
    "            return mse_loss\n",
    "        \n",
    "        if self.uncert:\n",
    "            mse_loss = mse_loss.unsqueeze(0)\n",
    "            unsup_loss = unsup_loss.unsqueeze(0)\n",
    "            losses = torch.cat([mse_loss, unsup_loss])\n",
    "            weights = torch.exp(-self.log_vars)\n",
    "            return torch.dot(weights, losses)\n",
    "        \n",
    "        return mse_loss + unsup_loss\n",
    "    \n",
    "    def get_gradients_dict(self, x, t):\n",
    "        self.eval()\n",
    "        \n",
    "        uf, _ = self.forward(x, t)\n",
    "        \n",
    "        ### PDE Loss calculation ###\n",
    "        # first-order derivatives\n",
    "        u_t = self.gradients(uf, t)[0]\n",
    "        u_x = self.gradients(uf, x)[0]\n",
    "        # Homo second-order derivatives\n",
    "        u_tt = self.gradients(u_t,t)[0]\n",
    "        u_xx = self.gradients(u_x, x)[0]\n",
    "        # Hetero second-order derivatives\n",
    "        u_xt = self.gradients(u_t, x)[0]\n",
    "        u_tx = self.gradients(u_x, t)[0]\n",
    "        \n",
    "        return {'uf':uf, 'u_x':u_x, 'u_xx':u_xx, 'u_tt':u_tt, 'u_xt':u_xt, 'u_tx':u_tx}, u_t\n",
    "    \n",
    "    def gradients(self, func, x):\n",
    "        return grad(func, x, create_graph=True, retain_graph=True, grad_outputs=torch.ones(func.shape))"
   ]
  },
  {
   "cell_type": "code",
   "execution_count": 5,
   "metadata": {},
   "outputs": [
    {
     "data": {
      "text/plain": [
       "LadderNetwork(\n",
       "  (encoder): Encoder(\n",
       "    (stacked_layers): Sequential(\n",
       "      (layer_0): LinearLayer(\n",
       "        (linear): Linear(in_features=2, out_features=50, bias=True)\n",
       "      )\n",
       "      (layer_1): LinearLayer(\n",
       "        (linear): Linear(in_features=50, out_features=50, bias=True)\n",
       "      )\n",
       "      (layer_2): LinearLayer(\n",
       "        (linear): Linear(in_features=50, out_features=50, bias=True)\n",
       "      )\n",
       "      (layer_3): LinearLayer(\n",
       "        (linear): Linear(in_features=50, out_features=50, bias=True)\n",
       "      )\n",
       "      (layer_4): LinearLayer(\n",
       "        (linear): Linear(in_features=50, out_features=1, bias=True)\n",
       "      )\n",
       "    )\n",
       "  )\n",
       "  (decoder): Decoder(\n",
       "    (stacked_layers): Sequential(\n",
       "      (layer_0): DecoderLayer(\n",
       "        (V): Linear(in_features=1, out_features=50, bias=True)\n",
       "      )\n",
       "      (layer_1): DecoderLayer(\n",
       "        (V): Linear(in_features=50, out_features=50, bias=True)\n",
       "      )\n",
       "      (layer_2): DecoderLayer(\n",
       "        (V): Linear(in_features=50, out_features=50, bias=True)\n",
       "      )\n",
       "      (layer_3): DecoderLayer(\n",
       "        (V): Linear(in_features=50, out_features=50, bias=True)\n",
       "      )\n",
       "      (layer_4): DecoderLayer(\n",
       "        (V): Linear(in_features=50, out_features=2, bias=True)\n",
       "      )\n",
       "    )\n",
       "    (bottom_decoder): DecoderLayer()\n",
       "  )\n",
       ")"
      ]
     },
     "execution_count": 5,
     "metadata": {},
     "output_type": "execute_result"
    }
   ],
   "source": [
    "d_in, hidden_nodes, d_out = 2, 50, 1\n",
    "bias = True, True\n",
    "n_layers = 4\n",
    "activation_function = torch.tanh\n",
    "noise_std = 0.01\n",
    "uncert_mode = 2\n",
    "\n",
    "model = LadderNetwork(d_in=d_in, hidden_dims=hidden_nodes, n_layers=n_layers,\n",
    "                      d_out=d_out, bias=bias, activation_function=activation_function, \n",
    "                      noise_std=noise_std)\n",
    "model"
   ]
  },
  {
   "cell_type": "code",
   "execution_count": 6,
   "metadata": {},
   "outputs": [
    {
     "name": "stdout",
     "output_type": "stream",
     "text": [
      "Learning rate finding\n"
     ]
    },
    {
     "data": {
      "application/vnd.jupyter.widget-view+json": {
       "model_id": "23471723d7cd4f0fb7a425c5f7feaba5",
       "version_major": 2,
       "version_minor": 0
      },
      "text/plain": [
       "HBox(children=(HTML(value=''), FloatProgress(value=0.0, max=300.0), HTML(value='')))"
      ]
     },
     "metadata": {},
     "output_type": "display_data"
    },
    {
     "name": "stdout",
     "output_type": "stream",
     "text": [
      "Stopping early, the loss has diverged\n",
      "\n",
      "Learning rate search finished. See the graph with {finder_name}.plot()\n",
      "LR suggestion: steepest gradient\n",
      "Suggested LR: 3.70E-02\n"
     ]
    },
    {
     "data": {
      "image/png": "[encoded data removed]",
      "text/plain": [
       "<Figure size 432x288 with 1 Axes>"
      ]
     },
     "metadata": {
      "needs_background": "light"
     },
     "output_type": "display_data"
    },
    {
     "name": "stdout",
     "output_type": "stream",
     "text": [
      "Init using xavier\n",
      "Createing an Uncert network\n"
     ]
    }
   ],
   "source": [
    "print('Learning rate finding')\n",
    "bs = 4000\n",
    "bs = N if bs>N else bs\n",
    "criterion = LadderUncertLoss(n_task=2)\n",
    "tmp_optimizer = SGDGC(model.parameters(), lr=1e-7, use_gc=True, nesterov=True, momentum=0.9)\n",
    "trainloader = get_dataloader(X_u_train, u_train, bs=4000)\n",
    "lr_finder = LRFinder(model, optimizer=tmp_optimizer, criterion=criterion, device=\"cpu\")\n",
    "lr_finder.range_test(trainloader, val_loader=None, end_lr=100, num_iter=300)\n",
    "_, suggested_lr = lr_finder.plot() # to inspect the loss-learning rate graph\n",
    "\n",
    "lr_finder.reset()\n",
    "network = Network(model=model, uncert_mode=uncert_mode)"
   ]
  },
  {
   "cell_type": "code",
   "execution_count": 7,
   "metadata": {},
   "outputs": [],
   "source": [
    "# def pcgrad_closure():\n",
    "#     n_obj = 2 # There are two tasks\n",
    "#     losses = network.loss(X_u_train, u_train, include_unsup=True)\n",
    "#     updated_grads = []\n",
    "    \n",
    "#     for i in range(n_obj):\n",
    "#         optimizer1.zero_grad()\n",
    "#         losses[i].backward(retain_graph=True)\n",
    "\n",
    "#         g_task = []\n",
    "#         for param in network.parameters():\n",
    "#             if param.grad is not None:\n",
    "#                 g_task.append(Variable(param.grad.clone(), requires_grad=False))\n",
    "#             else:\n",
    "#                 g_task.append(Variable(torch.zeros(param.shape), requires_grad=False))\n",
    "#         # appending the gradients from each task\n",
    "#         updated_grads.append(g_task)\n",
    "\n",
    "#     updated_grads = list(pcgrad.pc_grad_update(updated_grads))[0]\n",
    "#     for idx, param in enumerate(network.parameters()): \n",
    "#         param.grad = (updated_grads[0][idx]+updated_grads[1][idx]).requires_grad_(True)\n",
    "        \n",
    "#     return sum(losses)\n",
    "\n",
    "def uncert_closure():\n",
    "    if torch.is_grad_enabled():\n",
    "        optimizer1.zero_grad()\n",
    "    l = network.loss(X_u_train, u_train, include_unsup=True)\n",
    "    if l.requires_grad:\n",
    "        l.backward()\n",
    "    return l\n",
    "\n",
    "def closure():\n",
    "    if torch.is_grad_enabled():\n",
    "        optimizer2.zero_grad()\n",
    "    l = network.loss(X_u_train, u_train, include_unsup=False)\n",
    "    if l.requires_grad:\n",
    "        l.backward()\n",
    "    return l"
   ]
  },
  {
   "cell_type": "markdown",
   "metadata": {},
   "source": [
    "### Copy weights from network.model.encoder and build a new feedforward model!\n",
    "### Change a model architecture? (ResNet, ...)"
   ]
  },
  {
   "cell_type": "code",
   "execution_count": 8,
   "metadata": {},
   "outputs": [
    {
     "name": "stdout",
     "output_type": "stream",
     "text": [
      "Not using the lookahead option\n",
      "1st Phase optimization using SGDGC/AdamGC with PCGrad gradient modification\n",
      "Epoch 0:  0.8941341638565063\n",
      "Epoch 10:  0.32361406087875366\n",
      "Epoch 20:  0.16779792308807373\n",
      "Epoch 30:  0.10675227642059326\n",
      "Epoch 40:  0.07974432408809662\n",
      "Epoch 50:  0.06521487981081009\n",
      "Epoch 60:  0.05602208524942398\n",
      "Epoch 70:  0.049556128680706024\n",
      "Epoch 80:  0.044639453291893005\n",
      "Epoch 90:  0.040727823972702026\n",
      "Epoch 100:  0.03749646991491318\n",
      "Epoch 110:  0.03478012979030609\n",
      "Epoch 120:  0.03246025741100311\n",
      "Epoch 130:  0.030436057597398758\n",
      "Epoch 140:  0.028675155714154243\n",
      "Epoch 150:  0.02710013836622238\n",
      "Epoch 160:  0.02569832280278206\n",
      "Epoch 170:  0.02444814145565033\n",
      "Epoch 180:  0.02331254631280899\n",
      "Epoch 190:  0.022281596437096596\n",
      "Epoch 200:  0.021336115896701813\n",
      "Epoch 210:  0.020479463040828705\n",
      "Epoch 220:  0.019684769213199615\n",
      "Epoch 230:  0.018948208540678024\n",
      "Epoch 240:  0.018263783305883408\n",
      "Epoch 250:  0.017639946192502975\n",
      "Epoch 260:  0.01704898476600647\n",
      "Epoch 270:  0.016498642042279243\n",
      "Epoch 280:  0.01598069816827774\n",
      "Epoch 290:  0.015504512004554272\n",
      "Epoch 300:  0.015052612870931625\n",
      "Epoch 310:  0.014617313630878925\n",
      "Epoch 320:  0.014218227937817574\n",
      "Epoch 330:  0.013832451775670052\n",
      "Epoch 340:  0.01346900500357151\n",
      "Epoch 350:  0.013129801489412785\n",
      "Epoch 360:  0.012807102873921394\n",
      "Epoch 370:  0.01248951070010662\n",
      "Epoch 380:  0.012200571596622467\n",
      "Epoch 390:  0.01191760879009962\n",
      "Epoch 400:  0.01164771243929863\n",
      "Epoch 410:  0.011393522843718529\n",
      "Epoch 420:  0.01114675123244524\n",
      "Epoch 430:  0.010913938283920288\n",
      "Epoch 440:  0.010685489512979984\n",
      "Epoch 450:  0.010471065528690815\n",
      "Epoch 460:  0.010259035974740982\n",
      "Epoch 470:  0.010067777708172798\n",
      "Epoch 480:  0.00987251102924347\n",
      "Epoch 490:  0.00968700647354126\n",
      "Epoch 500:  0.009507616981863976\n",
      "Epoch 510:  0.009339001961052418\n",
      "Epoch 520:  0.009170608595013618\n",
      "Epoch 530:  0.009009717032313347\n",
      "Epoch 540:  0.00886322557926178\n",
      "Epoch 550:  0.008710178546607494\n",
      "Epoch 560:  0.008564407005906105\n",
      "Epoch 570:  0.00842650793492794\n",
      "Epoch 580:  0.00829245150089264\n",
      "Epoch 590:  0.008160777390003204\n",
      "Epoch 600:  0.008033420890569687\n",
      "Epoch 610:  0.007912971079349518\n",
      "Epoch 620:  0.0077914344146847725\n",
      "Epoch 630:  0.007676765322685242\n",
      "Epoch 640:  0.007568174973130226\n",
      "Epoch 650:  0.007454398088157177\n",
      "Epoch 660:  0.007347963750362396\n",
      "Epoch 670:  0.007247489877045155\n",
      "Epoch 680:  0.007146893069148064\n",
      "Epoch 690:  0.007047708611935377\n",
      "Epoch 700:  0.006954045034945011\n",
      "Epoch 710:  0.0068619223311543465\n",
      "Epoch 720:  0.006767870392650366\n",
      "Epoch 730:  0.006682557053864002\n",
      "Epoch 740:  0.006598402746021748\n",
      "Epoch 750:  0.006514913402497768\n",
      "Epoch 760:  0.006432906724512577\n",
      "Epoch 770:  0.006351744756102562\n",
      "Epoch 780:  0.00627466244623065\n",
      "Epoch 790:  0.006199295166879892\n",
      "Epoch 800:  0.006126163527369499\n",
      "Epoch 810:  0.006052385549992323\n",
      "Epoch 820:  0.0059828017838299274\n",
      "Epoch 830:  0.005913757719099522\n",
      "Epoch 840:  0.005849657580256462\n",
      "Epoch 850:  0.005780011415481567\n",
      "Epoch 860:  0.005714893341064453\n",
      "Epoch 870:  0.005653094965964556\n",
      "Epoch 880:  0.005590650252997875\n",
      "Epoch 890:  0.005530135706067085\n",
      "Epoch 900:  0.005471150390803814\n",
      "Epoch 910:  0.005413968116044998\n",
      "Epoch 920:  0.005356344394385815\n",
      "Epoch 930:  0.0052998242899775505\n",
      "Epoch 940:  0.005245531443506479\n",
      "Epoch 950:  0.005191325210034847\n",
      "Epoch 960:  0.00513856066390872\n",
      "Epoch 970:  0.005087650381028652\n",
      "Epoch 980:  0.0050380639731884\n",
      "Epoch 990:  0.0049901786260306835\n",
      "Epoch 999:  0.004944219719618559\n",
      "2nd Phase optimization using LBFGS\n",
      "Epoch 0:  0.039179615676403046\n",
      "Epoch 10:  8.384376269532368e-05\n",
      "Epoch 20:  9.273524483432993e-06\n",
      "Epoch 30:  4.398671990202274e-06\n",
      "Epoch 40:  2.8744193514285143e-06\n",
      "Epoch 50:  1.839558990468504e-06\n",
      "Epoch 60:  1.0503755447643925e-06\n",
      "Epoch 70:  1.04890966667881e-06\n",
      "Epoch 80:  1.04890966667881e-06\n",
      "Epoch 90:  1.04890966667881e-06\n",
      "Epoch 100:  1.04890966667881e-06\n",
      "Epoch 110:  1.04890966667881e-06\n",
      "Epoch 120:  1.04890966667881e-06\n",
      "Epoch 130:  1.04890966667881e-06\n",
      "Epoch 140:  1.04890966667881e-06\n",
      "Epoch 150:  1.04890966667881e-06\n",
      "Epoch 160:  1.04890966667881e-06\n",
      "Epoch 170:  1.04890966667881e-06\n",
      "Epoch 180:  1.04890966667881e-06\n",
      "Epoch 190:  1.04890966667881e-06\n",
      "Epoch 200:  1.04890966667881e-06\n",
      "Epoch 210:  1.04890966667881e-06\n",
      "Epoch 220:  1.04890966667881e-06\n",
      "Epoch 230:  1.04890966667881e-06\n",
      "Epoch 240:  1.04890966667881e-06\n",
      "Epoch 250:  1.04890966667881e-06\n",
      "Epoch 260:  1.04890966667881e-06\n",
      "Epoch 270:  1.04890966667881e-06\n",
      "Epoch 280:  1.04890966667881e-06\n",
      "Epoch 290:  1.04890966667881e-06\n",
      "Epoch 299:  1.04890966667881e-06\n"
     ]
    }
   ],
   "source": [
    "lookahead = False \n",
    "\n",
    "# optimizer1 = torch.optim.Adam(network.parameters(), lr=5e-3, use_gc=True, gc_conv_only=False, gc_loc=False)\n",
    "# optimizer1 = torch.optim.SGD(network.parameters(), lr=5e-3)\n",
    "optimizer1 = SGDGC(network.parameters(), lr=suggested_lr, use_gc=True, nesterov=True, momentum=0.9)\n",
    "if lookahead:\n",
    "    print(\"Using the lookahead option\")\n",
    "    optimizer1 = Lookahead(optimizer1)\n",
    "else:\n",
    "    print(\"Not using the lookahead option\")\n",
    "    \n",
    "epochs1 = 1000 # How long this should be ??? (500 and 1000 seem to be a good number.)\n",
    "network.train(); best_train_loss = 1e6\n",
    "\n",
    "print('1st Phase optimization using SGDGC/AdamGC with PCGrad gradient modification')\n",
    "for i in range(epochs1):\n",
    "    optimizer1.step(uncert_closure)\n",
    "    l = uncert_closure()\n",
    "    \n",
    "    if (i % 10) == 0 or i == epochs1-1:\n",
    "        print(\"Epoch {}: \".format(i), l.item())\n",
    "\n",
    "if not bias[0]:\n",
    "    print('Adding encoder biases.')\n",
    "    # Loading weights to a new encoder model with biases\n",
    "    # The bias for decoder could be whatever you want, it doesn't matter.\n",
    "    model = LadderNetwork(d_in=d_in, hidden_dims=hidden_nodes, n_layers=n_layers,\n",
    "                          d_out=d_out, bias=(True, False), activation_function=activation_function, \n",
    "                          noise_std=noise_std)\n",
    "\n",
    "    # Reinit the biases as 0.01\n",
    "    model.load_state_dict(network.model.state_dict(), strict=False)\n",
    "\n",
    "    # delete the old one and create the new network\n",
    "    del network\n",
    "    network = Network(model=model, uncert_mode=uncert_mode)\n",
    "\n",
    "# 2nd Phase optimizer\n",
    "optimizer2 = torch.optim.LBFGS(network.parameters(), lr=5e-3, max_iter=80, max_eval=100, history_size=120, line_search_fn='strong_wolfe')\n",
    "epochs2 = 300\n",
    "\n",
    "print('2nd Phase optimization using LBFGS')\n",
    "for i in range(epochs2):\n",
    "    optimizer2.step(closure)\n",
    "    l = closure()\n",
    "\n",
    "    if (i % 10) == 0 or i == epochs2-1:\n",
    "        print(\"Epoch {}: \".format(i), l.item())"
   ]
  },
  {
   "cell_type": "markdown",
   "metadata": {},
   "source": [
    "### Evaluate the MSE loss comparing btw with & without the sparsity (Average the results from 5 evaluations?)\n",
    "### The better one would benefit the Symbolic regression process to recover PDE relation."
   ]
  },
  {
   "cell_type": "code",
   "execution_count": 9,
   "metadata": {},
   "outputs": [
    {
     "data": {
      "text/plain": [
       "7.343630841205595e-06"
      ]
     },
     "execution_count": 9,
     "metadata": {},
     "output_type": "execute_result"
    }
   ],
   "source": [
    "# Uncert seems to also have large generalization gap with LBFGS[lr=5e-2,1e-1,]\n",
    "((network(X_star)[0].detach() - u_star)**2).mean().item()\n",
    "# BEST-full: 5.905130819883198e-07"
   ]
  },
  {
   "cell_type": "code",
   "execution_count": null,
   "metadata": {},
   "outputs": [],
   "source": []
  },
  {
   "cell_type": "code",
   "execution_count": null,
   "metadata": {},
   "outputs": [],
   "source": []
  },
  {
   "cell_type": "code",
   "execution_count": null,
   "metadata": {},
   "outputs": [],
   "source": []
  },
  {
   "cell_type": "code",
   "execution_count": null,
   "metadata": {},
   "outputs": [],
   "source": []
  },
  {
   "cell_type": "code",
   "execution_count": null,
   "metadata": {},
   "outputs": [],
   "source": []
  },
  {
   "cell_type": "code",
   "execution_count": null,
   "metadata": {},
   "outputs": [],
   "source": []
  },
  {
   "cell_type": "code",
   "execution_count": null,
   "metadata": {},
   "outputs": [],
   "source": []
  },
  {
   "cell_type": "markdown",
   "metadata": {},
   "source": [
    "### Precise pde parameters recovery using the PINN technique"
   ]
  },
  {
   "cell_type": "code",
   "execution_count": null,
   "metadata": {},
   "outputs": [],
   "source": [
    "# lambda_1_init, lambda_2_init = network.get_theta(X_u_train[:, 0:1], X_u_train[:, 1:2])\n",
    "# network.set_lambdas(lambda_1_init, lambda_2_init)\n",
    "\n",
    "lambda_1_init = 0.6860763\n",
    "lambda_2_init = np.log(0.0020577204)\n",
    "\n",
    "### Choosing btw reset model weights or pretraining ###\n",
    "network = Network(model=model, lambda_1_init=lambda_1_init, lambda_2_init=lambda_2_init)\n",
    "optimizer = torch.optim.LBFGS(network.parameters(), lr=5e-2, max_iter=50, max_eval=50, line_search_fn='strong_wolfe')\n",
    "\n",
    "network.train(); best_train_loss = 1e6\n",
    "for i in range(epochs):\n",
    "    ### Add the closure function to calculate the gradient. For LBFGS.\n",
    "    def closure():\n",
    "        if torch.is_grad_enabled():\n",
    "            optimizer.zero_grad()\n",
    "        l = network.loss(X_u_train[:, 0:1], X_u_train[:, 1:2], u_train, is_pde_parameters_update=True)\n",
    "        if l.requires_grad:\n",
    "            l.backward()\n",
    "        return l\n",
    "\n",
    "    optimizer.step(closure)\n",
    "\n",
    "    # calculate the loss again for monitoring\n",
    "    l = closure()\n",
    "\n",
    "    if i > 400 and float(l.item()) < best_train_loss:\n",
    "        torch.save(network.state_dict(), 'nn_with_physical_reg_from_symreg.pth')\n",
    "        best_train_loss = float(l.item())\n",
    "\n",
    "    if (i % 100) == 0:\n",
    "        print(\"Epoch {}: \".format(i), l.item())"
   ]
  },
  {
   "cell_type": "code",
   "execution_count": null,
   "metadata": {},
   "outputs": [],
   "source": [
    "### Loading the best weights ###\n",
    "network.load_state_dict(torch.load(weights_path))"
   ]
  },
  {
   "cell_type": "code",
   "execution_count": null,
   "metadata": {},
   "outputs": [],
   "source": [
    "network.eval()"
   ]
  },
  {
   "cell_type": "code",
   "execution_count": null,
   "metadata": {},
   "outputs": [],
   "source": [
    "nu = 0.01 / np.pi\n",
    "\n",
    "error_lambda_1 = np.abs(network.lambda_1.detach().item() - 1.0)*100\n",
    "error_lambda_2 = np.abs(torch.exp(network.lambda_2).detach().item() - nu) / nu * 100\n",
    "\n",
    "error_lambda_1, error_lambda_2"
   ]
  },
  {
   "cell_type": "code",
   "execution_count": null,
   "metadata": {},
   "outputs": [],
   "source": [
    "1.0, network.lambda_1.detach().item()"
   ]
  },
  {
   "cell_type": "code",
   "execution_count": null,
   "metadata": {},
   "outputs": [],
   "source": [
    "nu, torch.exp(network.lambda_2).detach().item()"
   ]
  },
  {
   "cell_type": "code",
   "execution_count": null,
   "metadata": {},
   "outputs": [],
   "source": []
  },
  {
   "cell_type": "code",
   "execution_count": null,
   "metadata": {},
   "outputs": [],
   "source": []
  },
  {
   "cell_type": "code",
   "execution_count": null,
   "metadata": {},
   "outputs": [],
   "source": []
  },
  {
   "cell_type": "code",
   "execution_count": null,
   "metadata": {},
   "outputs": [],
   "source": []
  },
  {
   "cell_type": "code",
   "execution_count": null,
   "metadata": {},
   "outputs": [],
   "source": []
  },
  {
   "cell_type": "code",
   "execution_count": null,
   "metadata": {},
   "outputs": [],
   "source": []
  },
  {
   "cell_type": "code",
   "execution_count": null,
   "metadata": {},
   "outputs": [],
   "source": []
  },
  {
   "cell_type": "markdown",
   "metadata": {},
   "source": [
    "### Symbolic regression"
   ]
  },
  {
   "cell_type": "code",
   "execution_count": null,
   "metadata": {},
   "outputs": [],
   "source": [
    "grads_dict, target = network.get_gradients_dict(X_u_train[:, 0:1], X_u_train[:, 1:2])\n",
    "index2features = grads_dict.keys()\n",
    "print(index2features)\n",
    "\n",
    "G = torch.cat(list(grads_dict.values()), dim=1).detach().numpy()\n",
    "target = torch.squeeze(target).detach().numpy()"
   ]
  },
  {
   "cell_type": "code",
   "execution_count": null,
   "metadata": {},
   "outputs": [],
   "source": [
    "equations = pysr(G, target, niterations=20, binary_operators=[\"plus\", \"sub\", \"mult\"], unary_operators=[], batching=True, procs=4, populations=10, npop=2000)\n"
   ]
  },
  {
   "cell_type": "code",
   "execution_count": null,
   "metadata": {},
   "outputs": [],
   "source": [
    "# Choose the one with best score => might be overfitting (the lowest loss)\n",
    "print(best(equations))\n",
    "# fn = best_callable(equations)"
   ]
  },
  {
   "cell_type": "code",
   "execution_count": null,
   "metadata": {},
   "outputs": [],
   "source": [
    "df = equations.drop(labels='lambda_format', axis=1)\n",
    "df.to_pickle('./saved_path_inverse_burger/equations_from_pysr.pkl')"
   ]
  },
  {
   "cell_type": "code",
   "execution_count": null,
   "metadata": {},
   "outputs": [],
   "source": [
    "### The one config that I used, and it was giving a good approx symbolic representation of the data. ###\n",
    "\n",
    "# (1)\n",
    "# est_gp = SymbolicRegressor(population_size=50000, generations=20, function_set=('add', 'sub', 'mul'),\n",
    "#                            p_crossover=0.7, p_subtree_mutation=0.1, p_hoist_mutation=0.05,\n",
    "#                            p_point_mutation=0.1, max_samples=0.9, parsimony_coefficient=0.001,\n",
    "#                            verbose=1, low_memory=True, n_jobs=2)\n",
    "\n",
    "# (2)\n",
    "# est_gp = SymbolicRegressor(population_size=60000, generations=20, function_set=('add', 'sub', 'mul'),\n",
    "#                            p_crossover=0.7, p_subtree_mutation=0.1, p_hoist_mutation=0.05,\n",
    "#                            p_point_mutation=0.1, max_samples=0.9, parsimony_coefficient=0.001,\n",
    "#                            verbose=1, low_memory=True, n_jobs=-1)\n",
    "\n",
    "# const_range=(-1. float(G.shape[1])) ?\n",
    "\n",
    "### Current experiment ###\n",
    "est_gp = SymbolicRegressor(population_size=60000, generations=25, function_set=('add', 'sub', 'mul'),\n",
    "                           p_crossover=0.7, p_subtree_mutation=0.1, p_hoist_mutation=0.05,\n",
    "                           p_point_mutation=0.1, max_samples=0.9, parsimony_coefficient=0.001,\n",
    "                           verbose=1, low_memory=True, n_jobs=-1)\n",
    "\n",
    "est_gp.fit(G, target)"
   ]
  },
  {
   "cell_type": "code",
   "execution_count": null,
   "metadata": {},
   "outputs": [],
   "source": [
    "from utils import build_exp\n",
    "program = est_gp._program\n",
    "print(build_exp(program))"
   ]
  },
  {
   "cell_type": "code",
   "execution_count": null,
   "metadata": {},
   "outputs": [],
   "source": [
    "# from utils import pickle_save\n",
    "# pickle_save(est_gp, './data/gp_symreg_with_noisy_features.pkl')"
   ]
  },
  {
   "cell_type": "code",
   "execution_count": null,
   "metadata": {},
   "outputs": [],
   "source": [
    "# Exreacted equation (for further fine-tuning)\n",
    "# u_t + 0.6860763*uf*u_x - 0.0020577204*u_xx"
   ]
  }
 ],
 "metadata": {
  "kernelspec": {
   "display_name": "Python 3",
   "language": "python",
   "name": "python3"
  },
  "language_info": {
   "codemirror_mode": {
    "name": "ipython",
    "version": 3
   },
   "file_extension": ".py",
   "mimetype": "text/x-python",
   "name": "python",
   "nbconvert_exporter": "python",
   "pygments_lexer": "ipython3",
   "version": "3.9.4"
  }
 },
 "nbformat": 4,
 "nbformat_minor": 5
}
