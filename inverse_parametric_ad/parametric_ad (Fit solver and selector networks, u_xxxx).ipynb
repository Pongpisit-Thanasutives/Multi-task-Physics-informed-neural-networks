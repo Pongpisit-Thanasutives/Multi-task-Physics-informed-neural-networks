{
 "cells": [
  {
   "cell_type": "code",
   "execution_count": 1,
   "metadata": {},
   "outputs": [
    {
     "name": "stdout",
     "output_type": "stream",
     "text": [
      "Populating the interactive namespace from numpy and matplotlib\n",
      "Running Python 3.9.7\n",
      "You can use npar for np.array\n"
     ]
    }
   ],
   "source": [
    "%load_ext autoreload\n",
    "%autoreload 2 \n",
    "%reload_ext autoreload\n",
    "%pylab inline\n",
    "%matplotlib inline\n",
    "import matplotlib.pyplot as plt\n",
    "\n",
    "import sys; sys.path.insert(0, \"../\")\n",
    "import sys; sys.path.insert(0, \"../inverse_parametric_burgers/\")\n",
    "\n",
    "import numpy as np\n",
    "from utils import *\n",
    "from models import TanhProb\n",
    "from parametric_discovery_pinnV2 import ParametricSolver\n",
    "\n",
    "# Let's do facy optimizers\n",
    "from optimizers import Lookahead, AdamGC, SGDGC\n",
    "from madgrad import MADGRAD\n",
    "from lbfgsnew import LBFGSNew\n",
    "\n",
    "from pde_diff import TrainSTRidge, FiniteDiff, print_pde\n",
    "from robust_pde_diff import print_pde, RobustPCA, Robust_LRSTR, DLrSR\n",
    "from parametric_pde_diff import TrainSGTRidge, create_groups\n",
    "from pytorch_robust_pca import R_pca\n",
    "\n",
    "from scipy.integrate import odeint\n",
    "from numpy.fft import fft, ifft, fftfreq\n",
    "from time import time\n",
    "\n",
    "from pysr import pysr, best\n",
    "\n",
    "fontsize = 20"
   ]
  },
  {
   "cell_type": "code",
   "execution_count": 2,
   "metadata": {},
   "outputs": [],
   "source": [
    "noise_intensity = 0.01; noisy_xt = False"
   ]
  },
  {
   "cell_type": "code",
   "execution_count": 3,
   "metadata": {},
   "outputs": [
    {
     "name": "stdout",
     "output_type": "stream",
     "text": [
      "Loaded from ../parametric_pde_data/parametric_advection_diffusion.pkl\n",
      "Noisy Exact\n",
      "Noisy X_train\n"
     ]
    }
   ],
   "source": [
    "data = pickle_load(\"../parametric_pde_data/parametric_advection_diffusion.pkl\")\n",
    "\n",
    "x = data['x']; spatial_dims = x.shape[0]\n",
    "t = data['t']; time_dims = t.shape[0]\n",
    "\n",
    "Exact = data['u']\n",
    "# Exact = data['u'].T\n",
    "X, T = np.meshgrid(x, t)\n",
    "\n",
    "if noise_intensity > 0.0:\n",
    "    print(\"Noisy Exact\")\n",
    "    Exact = perturb(Exact, intensity=noise_intensity, noise_type=\"normal\")\n",
    "else: print(\"Clean Exact\")\n",
    "\n",
    "X_star = np.hstack((to_column_vector(X), to_column_vector(T)))\n",
    "u_star = to_column_vector(Exact.T)\n",
    "\n",
    "# domain bounds\n",
    "lb = X_star.min(axis=0)\n",
    "ub = X_star.max(axis=0)\n",
    "\n",
    "# Sampling training data points\n",
    "N = 20000\n",
    "training_idxs = sampling_from_rows(X_star, N, True)\n",
    "X_train = X_star[training_idxs, :]\n",
    "u_train = u_star[training_idxs, :]\n",
    "\n",
    "if noise_intensity > 0.0 and noisy_xt:\n",
    "    print(\"Noisy X_train\")\n",
    "    X_train = perturb(X_train, intensity=noise_intensity, noise_type=\"normal\")\n",
    "else: print(\"Clean X_train\")\n",
    "\n",
    "# to_tensor\n",
    "X_star = to_tensor(X_star, True)\n",
    "u_star = to_tensor(u_star, False)\n",
    "X_train = to_tensor(X_train, True)\n",
    "u_train = to_tensor(u_train, False)\n",
    "lb = to_tensor(lb, False)\n",
    "ub = to_tensor(ub, False)\n",
    "\n",
    "L = 5\n",
    "u_x_true = -1.5 + 1.0*np.cos(2*x*np.pi/L)\n",
    "u_true = -2*np.pi/L*np.sin(2*x*np.pi/L)\n",
    "u_xx_true = 0.1*np.ones(spatial_dims)"
   ]
  },
  {
   "cell_type": "code",
   "execution_count": 4,
   "metadata": {},
   "outputs": [],
   "source": [
    "class AttentionSelectorNetwork(nn.Module):\n",
    "    def __init__(self, layers, prob_activation=torch.sigmoid, bn=None, reg_intensity=1e-3):\n",
    "        super(AttentionSelectorNetwork, self).__init__()\n",
    "        # Nonlinear model, Training with PDE reg.\n",
    "        assert len(layers) > 1\n",
    "        self.linear1 = nn.Linear(layers[0], layers[0])\n",
    "        self.prob_activation = prob_activation\n",
    "        self.nonlinear_model = TorchMLP(dimensions=layers, activation_function=nn.Tanh, bn=bn, dropout=nn.Dropout(p=0.1))\n",
    "        self.latest_weighted_features = None\n",
    "        self.th = (1/layers[0])-(1e-10)\n",
    "        self.reg_intensity = reg_intensity\n",
    "        self.w = torch.tensor([1.0, 1.0, 1.0, 2.0, 3.0, 4.0])\n",
    "        \n",
    "    def xavier_init(self, m):\n",
    "        if type(m) == nn.Linear:\n",
    "            torch.nn.init.xavier_uniform_(m.weight)\n",
    "            m.bias.data.fill_(0.01)\n",
    "        \n",
    "    def forward(self, inn, bi=False):\n",
    "        if bi: att = binarize(self.weighted_features(inn), self.th)\n",
    "        else: att = F.threshold(self.weighted_features(inn), self.th, 0.0)\n",
    "        return self.nonlinear_model(inn*att)\n",
    "    \n",
    "    def weighted_features(self, inn):\n",
    "        self.latest_weighted_features = self.prob_activation(self.linear1(inn)).mean(axis=0)\n",
    "        return self.latest_weighted_features\n",
    "    \n",
    "    def loss(self, X_input, y_input):\n",
    "        ut_approx = self.forward(X_input)\n",
    "        mse_loss = F.mse_loss(ut_approx, y_input, reduction='mean')\n",
    "        reg_term = F.relu(self.latest_weighted_features-self.th)\n",
    "        \n",
    "        l1 = mse_loss\n",
    "        l2 = torch.norm(reg_term, p=0)+torch.dot(self.w, reg_term)\n",
    "        \n",
    "        return l1+self.reg_intensity*(l2)\n",
    "\n",
    "class SemiSupModel(nn.Module):\n",
    "    def __init__(self, network, selector, normalize_derivative_features=False, mini=None, maxi=None):\n",
    "        super(SemiSupModel, self).__init__()\n",
    "        self.network = network\n",
    "        self.selector = selector\n",
    "        self.normalize_derivative_features = normalize_derivative_features\n",
    "        self.mini = mini\n",
    "        self.maxi = maxi\n",
    "        \n",
    "    def forward(self, X_u_train):\n",
    "        X_selector, y_selector = self.network.gradients_dict(*dimension_slicing(X_u_train))\n",
    "        est = X_selector[:, 0:1]\n",
    "        if self.normalize_derivative_features:\n",
    "            X_selector = (X_selector-self.mini)/(self.maxi-self.mini)\n",
    "        unsup_loss = self.selector.loss(X_selector, y_selector)\n",
    "        return est, unsup_loss"
   ]
  },
  {
   "cell_type": "code",
   "execution_count": 5,
   "metadata": {},
   "outputs": [
    {
     "name": "stdout",
     "output_type": "stream",
     "text": [
      "Using old implementation of TorchMLP. See models.py for more new model-related source code.\n",
      "Use pretrained weights\n"
     ]
    }
   ],
   "source": [
    "### Version with normalized derivatives ###\n",
    "pretrained_state_dict = torch.load(\"./new_weights/pretrained_20000samples.pth\")\n",
    "network_state_dict = None # always set to None\n",
    "use_pretrained_weights = True\n",
    "lets_pretrain = False\n",
    "\n",
    "semisup_model = SemiSupModel(network=ParametricSolver(scale=False, lb=lb, ub=ub, input_feature='x', highest_order=4),\n",
    "                            # Be careful of choosing the prob_activation to compute the attentional weights!\n",
    "                            selector=AttentionSelectorNetwork([6, 50, 50, 1], prob_activation=TanhProb(), bn=nn.LayerNorm),\n",
    "#                             selector=AttentionSelectorNetwork([5, 50, 50, 1], bn=nn.LayerNorm),\n",
    "                            normalize_derivative_features=False,\n",
    "                            mini=None,\n",
    "                            maxi=None)\n",
    "\n",
    "if use_pretrained_weights:\n",
    "    print(\"Use pretrained weights\")\n",
    "    semisup_model.load_state_dict(pretrained_state_dict, strict=False)\n",
    "    network_state_dict = semisup_model.network.state_dict()\n",
    "    semisup_model.eval()\n",
    "    referenced_derivatives, _ = semisup_model.network.gradients_dict(*dimension_slicing(X_star))\n",
    "    semisup_model.mini = torch.min(referenced_derivatives, axis=0)[0].detach().requires_grad_(False)\n",
    "    semisup_model.maxi = torch.max(referenced_derivatives, axis=0)[0].detach().requires_grad_(False)"
   ]
  },
  {
   "cell_type": "code",
   "execution_count": 6,
   "metadata": {},
   "outputs": [],
   "source": [
    "if lets_pretrain:\n",
    "    print(\"Pretraining...\")\n",
    "    pretraining_optimizer = LBFGSNew(semisup_model.network.parameters(), \n",
    "                                     lr=1e-1, max_iter=300, \n",
    "                                     max_eval=int(300*1.25), history_size=150, \n",
    "                                     line_search_fn=True, batch_mode=False)\n",
    "\n",
    "    semisup_model.train()\n",
    "    for i in range(200):\n",
    "        def pretraining_closure():\n",
    "            global N, X_train, u_train\n",
    "            if torch.is_grad_enabled(): pretraining_optimizer.zero_grad()\n",
    "            # Only focusing on first [:N, :] elements\n",
    "            mse_loss = F.mse_loss(semisup_model.network(*dimension_slicing(X_train))[:N, :], u_train[:N, :])\n",
    "            if mse_loss.requires_grad: mse_loss.backward(retain_graph=False)\n",
    "            return mse_loss\n",
    "\n",
    "        pretraining_optimizer.step(pretraining_closure)\n",
    "\n",
    "        l = pretraining_closure()\n",
    "        if (i % 10) == 0:\n",
    "            curr_loss = l.item()\n",
    "            print(\"Epoch {}: \".format(i), curr_loss)\n",
    "            \n",
    "            # Sneak on the test performance...\n",
    "            semisup_model.network.eval()\n",
    "            test_performance = F.mse_loss(semisup_model.network(*dimension_slicing(X_star)).detach(), u_star).item()\n",
    "            string_test_performance = scientific2string(test_performance)\n",
    "            print('Test MSE:', string_test_performance)\n",
    "    \n",
    "    print(\"Computing derivatives features\")\n",
    "    semisup_model.eval()\n",
    "    referenced_derivatives, _ = semisup_model.network.gradients_dict(*dimension_slicing(X_star))\n",
    "    semisup_model.mini = torch.min(referenced_derivatives, axis=0)[0].detach().requires_grad_(False)\n",
    "    semisup_model.maxi = torch.max(referenced_derivatives, axis=0)[0].detach().requires_grad_(False)"
   ]
  },
  {
   "cell_type": "code",
   "execution_count": 7,
   "metadata": {},
   "outputs": [
    {
     "data": {
      "text/plain": [
       "6.610539276152849e-05"
      ]
     },
     "execution_count": 7,
     "metadata": {},
     "output_type": "execute_result"
    }
   ],
   "source": [
    "F.mse_loss(semisup_model.network(*dimension_slicing(X_star)).detach(), u_star).item()"
   ]
  },
  {
   "cell_type": "code",
   "execution_count": 8,
   "metadata": {},
   "outputs": [],
   "source": [
    "def pcgrad_closure(return_list=False):\n",
    "    global N, X_train, u_train\n",
    "    predictions, unsup_loss = semisup_model(X_train)\n",
    "    losses = [F.mse_loss(predictions[:N, :], u_train[:N, :]), unsup_loss]\n",
    "    updated_grads = []\n",
    "    \n",
    "    for i in range(2):\n",
    "        optimizer.zero_grad()\n",
    "        losses[i].backward(retain_graph=True)\n",
    "\n",
    "        g_task = []\n",
    "        for param in semisup_model.parameters():\n",
    "            if param.grad is not None:\n",
    "                g_task.append(Variable(param.grad.clone(), requires_grad=False))\n",
    "            else:\n",
    "                g_task.append(Variable(torch.zeros(param.shape), requires_grad=False))\n",
    "        # appending the gradients from each task\n",
    "        updated_grads.append(g_task)\n",
    "\n",
    "    updated_grads = list(pcgrad.pc_grad_update(updated_grads))[0]\n",
    "    for idx, param in enumerate(semisup_model.parameters()):\n",
    "        param.grad = (updated_grads[0][idx]+updated_grads[1][idx])\n",
    "        \n",
    "    if not return_list: return losses[0]+losses[1]\n",
    "    else: return losses"
   ]
  },
  {
   "cell_type": "code",
   "execution_count": 9,
   "metadata": {},
   "outputs": [],
   "source": [
    "# Joint training | Do lambda comparison here\n",
    "optimizer = MADGRAD([{'params':semisup_model.network.parameters()}, {'params':semisup_model.selector.parameters()}], lr=1e-6)\n",
    "optimizer.param_groups[0]['lr'] = 1e-7\n",
    "optimizer.param_groups[1]['lr'] = 1e-1"
   ]
  },
  {
   "cell_type": "code",
   "execution_count": 10,
   "metadata": {},
   "outputs": [
    {
     "name": "stdout",
     "output_type": "stream",
     "text": [
      "[tensor(0.0028, grad_fn=<MseLossBackward0>), tensor(1.7086, grad_fn=<AddBackward0>)]\n",
      "tensor([0.5540, 0.4199, 0.5306, 0.4519, 0.5417, 0.4575],\n",
      "       grad_fn=<MeanBackward1>)\n",
      "tensor([1, 3, 5, 2, 4, 0])\n",
      "[tensor(0.0384, grad_fn=<MseLossBackward0>), tensor(0.1699, grad_fn=<AddBackward0>)]\n",
      "tensor([0.7031, 0.3345, 0.8131, 0.5256, 0.5087, 0.2169],\n",
      "       grad_fn=<MeanBackward1>)\n",
      "tensor([5, 1, 4, 3, 0, 2])\n",
      "[tensor(0.0420, grad_fn=<MseLossBackward0>), tensor(0.1178, grad_fn=<AddBackward0>)]\n",
      "tensor([0.7876, 0.3025, 0.8069, 0.4854, 0.4579, 0.2094],\n",
      "       grad_fn=<MeanBackward1>)\n",
      "tensor([5, 1, 4, 3, 0, 2])\n",
      "[tensor(0.0323, grad_fn=<MseLossBackward0>), tensor(0.0483, grad_fn=<AddBackward0>)]\n",
      "tensor([0.8714, 0.2609, 0.7822, 0.4517, 0.3984, 0.1443],\n",
      "       grad_fn=<MeanBackward1>)\n",
      "tensor([5, 1, 4, 3, 2, 0])\n",
      "[tensor(0.0240, grad_fn=<MseLossBackward0>), tensor(0.0395, grad_fn=<AddBackward0>)]\n",
      "tensor([0.8888, 0.2289, 0.7431, 0.3562, 0.3196, 0.1553],\n",
      "       grad_fn=<MeanBackward1>)\n",
      "tensor([5, 1, 4, 3, 2, 0])\n",
      "[tensor(0.0176, grad_fn=<MseLossBackward0>), tensor(0.0336, grad_fn=<AddBackward0>)]\n",
      "tensor([0.9377, 0.1907, 0.7155, 0.3448, 0.2692, 0.1601],\n",
      "       grad_fn=<MeanBackward1>)\n",
      "tensor([5, 1, 4, 3, 2, 0])\n",
      "[tensor(0.0103, grad_fn=<MseLossBackward0>), tensor(0.0830, grad_fn=<AddBackward0>)]\n",
      "tensor([0.9238, 0.1381, 0.6941, 0.3383, 0.2298, 0.1652],\n",
      "       grad_fn=<MeanBackward1>)\n",
      "tensor([1, 5, 4, 3, 2, 0])\n",
      "[tensor(0.0120, grad_fn=<MseLossBackward0>), tensor(0.3068, grad_fn=<AddBackward0>)]\n",
      "tensor([0.9138, 0.2082, 0.7073, 0.3846, 0.2206, 0.0780],\n",
      "       grad_fn=<MeanBackward1>)\n",
      "tensor([5, 1, 4, 3, 2, 0])\n",
      "[tensor(0.0407, grad_fn=<MseLossBackward0>), tensor(0.0787, grad_fn=<AddBackward0>)]\n",
      "tensor([0.9455, 0.2705, 0.7476, 0.4141, 0.2751, 0.2446],\n",
      "       grad_fn=<MeanBackward1>)\n",
      "tensor([5, 1, 4, 3, 2, 0])\n",
      "[tensor(0.0351, grad_fn=<MseLossBackward0>), tensor(0.0358, grad_fn=<AddBackward0>)]\n",
      "tensor([0.9505, 0.2900, 0.7505, 0.4290, 0.2475, 0.2282],\n",
      "       grad_fn=<MeanBackward1>)\n",
      "tensor([5, 4, 1, 3, 2, 0])\n"
     ]
    }
   ],
   "source": [
    "# Use ~idx to sample\n",
    "for i in range(250):\n",
    "    semisup_model.train()\n",
    "    optimizer.step(pcgrad_closure)\n",
    "    if i%25==0:\n",
    "        loss = pcgrad_closure(return_list=True); print(loss)\n",
    "        fi = semisup_model.selector.latest_weighted_features\n",
    "        print(fi); print(torch.argsort(fi))"
   ]
  },
  {
   "cell_type": "code",
   "execution_count": 13,
   "metadata": {},
   "outputs": [
    {
     "name": "stdout",
     "output_type": "stream",
     "text": [
      "[tensor(0.0088, grad_fn=<MseLossBackward0>), tensor(0.0265, grad_fn=<AddBackward0>)]\n",
      "tensor([0.9635, 0.2711, 0.7405, 0.4302, 0.1816, 0.1891],\n",
      "       grad_fn=<MeanBackward1>)\n",
      "tensor([4, 5, 1, 3, 2, 0])\n",
      "[tensor(0.0070, grad_fn=<MseLossBackward0>), tensor(0.0262, grad_fn=<AddBackward0>)]\n",
      "tensor([0.9554, 0.2581, 0.7364, 0.4122, 0.1710, 0.1855],\n",
      "       grad_fn=<MeanBackward1>)\n",
      "tensor([4, 5, 1, 3, 2, 0])\n",
      "[tensor(0.0063, grad_fn=<MseLossBackward0>), tensor(0.0418, grad_fn=<AddBackward0>)]\n",
      "tensor([0.9619, 0.2604, 0.7326, 0.3718, 0.1104, 0.1727],\n",
      "       grad_fn=<MeanBackward1>)\n",
      "tensor([4, 5, 1, 3, 2, 0])\n",
      "[tensor(0.0067, grad_fn=<MseLossBackward0>), tensor(0.0409, grad_fn=<AddBackward0>)]\n",
      "tensor([0.9246, 0.2474, 0.7269, 0.3325, 0.0965, 0.1581],\n",
      "       grad_fn=<MeanBackward1>)\n",
      "tensor([4, 5, 1, 3, 2, 0])\n"
     ]
    }
   ],
   "source": [
    "semisup_model.train()\n",
    "for i in range(100):\n",
    "    optimizer.step(pcgrad_closure)\n",
    "    if i%25==0:\n",
    "        loss = pcgrad_closure(return_list=True); print(loss)\n",
    "        fi = semisup_model.selector.latest_weighted_features\n",
    "        print(fi); print(torch.argsort(fi))"
   ]
  },
  {
   "cell_type": "code",
   "execution_count": 14,
   "metadata": {},
   "outputs": [
    {
     "data": {
      "text/plain": [
       "tensor([0.9530, 0.2164, 0.7234, 0.3194, 0.0947, 0.1568],\n",
       "       grad_fn=<MeanBackward1>)"
      ]
     },
     "execution_count": 14,
     "metadata": {},
     "output_type": "execute_result"
    }
   ],
   "source": [
    "semisup_model.selector.latest_weighted_features"
   ]
  },
  {
   "cell_type": "code",
   "execution_count": 15,
   "metadata": {},
   "outputs": [],
   "source": [
    "save(semisup_model, \"./new_weights/noisy_semisup_model_uxxxx_20000_unfinetuned.pth\")"
   ]
  },
  {
   "cell_type": "code",
   "execution_count": 16,
   "metadata": {},
   "outputs": [],
   "source": [
    "# semisup_model = load_weights(semisup_model, \"./new_weights/noisy_semisup_model_uxxxx_20000_unfinetuned.pth\")"
   ]
  },
  {
   "cell_type": "code",
   "execution_count": 17,
   "metadata": {},
   "outputs": [
    {
     "name": "stdout",
     "output_type": "stream",
     "text": [
      "0.0012253958266228437\n",
      "0.0012203712249174714\n",
      "0.0012157387100160122\n",
      "0.0012152747949585319\n",
      "0.0012147441739216447\n"
     ]
    }
   ],
   "source": [
    "# Fine-tuning the solver network\n",
    "f_opt = torch.optim.LBFGS(semisup_model.network.parameters(), lr=1e-1, max_iter=500, max_eval=int(1.25*500), history_size=500)\n",
    "\n",
    "def finetuning_closure():\n",
    "    global N, X_train, u_train\n",
    "    if torch.is_grad_enabled(): f_opt.zero_grad()\n",
    "    # the solver network only consider the first N samples.\n",
    "    loss = F.mse_loss(semisup_model.network(*dimension_slicing(X_train[:N, :])), u_train[:N, :])\n",
    "    if loss.requires_grad: loss.backward(retain_graph=True)\n",
    "    return loss\n",
    "\n",
    "semisup_model.network.train()\n",
    "semisup_model.selector.eval()\n",
    "\n",
    "for i in range(50):\n",
    "    f_opt.step(finetuning_closure)\n",
    "    if i%10==0:\n",
    "        loss = finetuning_closure()\n",
    "        print(loss.item())"
   ]
  },
  {
   "cell_type": "code",
   "execution_count": 18,
   "metadata": {},
   "outputs": [],
   "source": [
    "referenced_derivatives, u_t = semisup_model.network.gradients_dict(*dimension_slicing(X_star))\n",
    "referenced_derivatives = to_numpy(referenced_derivatives)\n",
    "u_t = to_numpy(u_t)\n",
    "feature_names = ['u', 'u_x', 'u_xx']"
   ]
  },
  {
   "cell_type": "code",
   "execution_count": 19,
   "metadata": {},
   "outputs": [],
   "source": [
    "referenced_derivatives = np.delete(referenced_derivatives, -1, axis=1)\n",
    "referenced_derivatives = np.delete(referenced_derivatives, -1, axis=1)\n",
    "referenced_derivatives = np.delete(referenced_derivatives, 1, axis=1)"
   ]
  },
  {
   "cell_type": "code",
   "execution_count": 20,
   "metadata": {},
   "outputs": [],
   "source": [
    "poly = PolynomialFeatures(degree=2, interaction_only=True, include_bias=False)\n",
    "Theta = poly.fit_transform(referenced_derivatives)\n",
    "\n",
    "poly_feature_names = poly.get_feature_names(feature_names)\n",
    "for i, f in enumerate(poly_feature_names):\n",
    "    poly_feature_names[i] = f.replace(\" \", \"*\")"
   ]
  },
  {
   "cell_type": "code",
   "execution_count": 21,
   "metadata": {},
   "outputs": [],
   "source": [
    "Theta_grouped = [real(Theta[time_dims*np.arange(spatial_dims)+j,:]) for j in range(spatial_dims)]\n",
    "Ut_grouped = [real(u_t[time_dims*np.arange(spatial_dims)+j]) for j in range(spatial_dims)]"
   ]
  },
  {
   "cell_type": "code",
   "execution_count": 22,
   "metadata": {},
   "outputs": [
    {
     "name": "stderr",
     "output_type": "stream",
     "text": [
      "/Users/pongpisit/Desktop/Multi-task-Physics-informed-neural-networks/inverse_parametric_ad/../parametric_pde_diff.py:609: FutureWarning: arrays to stack must be passed as a \"sequence\" type such as list or tuple. Support for non-sequence iterables such as generators is deprecated as of NumPy 1.16 and will raise an error in the future.\n",
      "  candidate_norms[i] = Norm(np.vstack(A[:,i] for A in As), normalize)\n",
      "/Users/pongpisit/Desktop/Multi-task-Physics-informed-neural-networks/inverse_parametric_ad/../parametric_pde_diff.py:579: FutureWarning: `rcond` parameter will change to the default of machine precision times ``max(M, N)`` where M and N are the input matrix dimensions.\n",
      "To use the future default and silence this warning we advise to pass `rcond=None`, to keep using the old, explicitly pass `rcond=-1`.\n",
      "  W[biginds,i] = np.linalg.lstsq(Xs[i][:, biginds],ys[i])[0].reshape(len(biginds))\n"
     ]
    }
   ],
   "source": [
    "Xi,Tol,Losses = TrainSGTRidge(Theta_grouped, Ut_grouped, num_tols=100)\n",
    "xi = Xi[np.argmin(Losses)]"
   ]
  },
  {
   "cell_type": "code",
   "execution_count": 23,
   "metadata": {},
   "outputs": [
    {
     "data": {
      "text/plain": [
       "['u', 'u_x', 'u_xx', 'u*u_x', 'u*u_xx', 'u_x*u_xx']"
      ]
     },
     "execution_count": 23,
     "metadata": {},
     "output_type": "execute_result"
    }
   ],
   "source": [
    "poly_feature_names"
   ]
  },
  {
   "cell_type": "code",
   "execution_count": 24,
   "metadata": {},
   "outputs": [
    {
     "name": "stdout",
     "output_type": "stream",
     "text": [
      "0 -> u\n",
      "1 -> u_x\n",
      "2 -> u_xx\n"
     ]
    },
    {
     "data": {
      "text/plain": [
       "<matplotlib.legend.Legend at 0x150d57070>"
      ]
     },
     "execution_count": 24,
     "metadata": {},
     "output_type": "execute_result"
    },
    {
     "data": {
      "image/png": "[encoded data removed]",
      "text/plain": [
       "<Figure size 864x576 with 1 Axes>"
      ]
     },
     "metadata": {
      "needs_background": "light"
     },
     "output_type": "display_data"
    }
   ],
   "source": [
    "pylab.rcParams['figure.figsize'] = (12, 8)\n",
    "for j in range(xi.shape[0]): \n",
    "    if np.linalg.norm(xi[j,:]) > 10**-6:\n",
    "        print(j, '->', poly_feature_names[j])\n",
    "        plot(xi[j,:], label = poly_feature_names[j])\n",
    "\n",
    "title('Burgers Equation Coefficients', fontsize = 16)\n",
    "xlabel('Time', fontsize = 16)\n",
    "ylabel('Coefficient Value', fontsize = 16)\n",
    "legend(loc='center left', bbox_to_anchor=(1, 0.5), fontsize = 14)"
   ]
  },
  {
   "cell_type": "code",
   "execution_count": 25,
   "metadata": {},
   "outputs": [
    {
     "name": "stdout",
     "output_type": "stream",
     "text": [
      "Running on julia -O3 /var/folders/z3/_stfms3523dd5mnfr3ch5n100000gp/T/tmpmdhu4its/runfile.jl\n",
      "Activating environment on workers.\n",
      "      From worker 3:\t  Activating environment at `/usr/local/lib/python3.9/site-packages/Project.toml`\n",
      "      From worker 4:\t  Activating environment at `/usr/local/lib/python3.9/site-packages/Project.toml`\n",
      "      From worker 5:\t  Activating environment at `/usr/local/lib/python3.9/site-packages/Project.toml`\n",
      "      From worker 2:\t  Activating environment at `/usr/local/lib/python3.9/site-packages/Project.toml`\n",
      "Importing installed module on workers...Finished!\n",
      "Testing module on workers...Finished!\n",
      "Testing entire pipeline on workers...Finished!\n",
      "Started!\n",
      "\n",
      "Cycles per second: 8.180e+02\n",
      "Head worker occupation: 2.4%\n",
      "Progress: 1 / 250 total iterations (0.400%)\n",
      "==============================\n",
      "Hall of Fame:\n",
      "-----------------------------------------\n",
      "Complexity  Loss       Score     Equation\n",
      "1           7.331e-01  -0.000e+00  -0.023892235\n",
      "3           6.207e-01  8.322e-02  (0.11643655 * x0)\n",
      "4           2.858e-02  3.078e+00  sin(-1.2417386 * x0)\n",
      "6           8.595e-03  6.008e-01  (1.2010298 * sin(-1.2499514 * x0))\n",
      "8           8.198e-03  2.366e-02  (1.2013462 * sin(-0.023521667 + (-1.2499746 * x0)))\n",
      "12          6.977e-03  4.034e-02  (sin((x0 * -1.2499459) + ((x0 * -0.0040762518) * x0)) * 1.2021205)\n",
      "13          6.440e-03  8.006e-02  (1.2021916 * sin((-1.2497382 * x0) + (0.022665977 * (x0 * sin(x0)))))\n",
      "18          4.920e-03  5.383e-02  (1.1977247 * sin((-1.252362 * x0) + ((-0.06796725 * sin(x0)) + (0.023586567 * (x0 * sin(x0))))))\n",
      "\n",
      "==============================\n",
      "\n",
      "Cycles per second: 7.110e+02\n",
      "Head worker occupation: 1.0%\n",
      "Progress: 2 / 250 total iterations (0.800%)\n",
      "==============================\n",
      "Hall of Fame:\n",
      "-----------------------------------------\n",
      "Complexity  Loss       Score     Equation\n",
      "1           7.331e-01  -0.000e+00  -0.023892235\n",
      "3           6.207e-01  8.322e-02  (0.11643655 * x0)\n",
      "4           2.858e-02  3.078e+00  sin(-1.2417386 * x0)\n",
      "6           8.595e-03  6.008e-01  (1.2010298 * sin(-1.2499514 * x0))\n",
      "8           8.198e-03  2.366e-02  (1.2013462 * sin(-0.023521667 + (-1.2499746 * x0)))\n",
      "12          6.977e-03  4.034e-02  (sin((x0 * -1.2499459) + ((x0 * -0.0040762518) * x0)) * 1.2021205)\n",
      "13          6.440e-03  8.006e-02  (1.2021916 * sin((-1.2497382 * x0) + (0.022665977 * (x0 * sin(x0)))))\n",
      "18          4.920e-03  5.383e-02  (1.1977247 * sin((-1.252362 * x0) + ((-0.06796725 * sin(x0)) + (0.023586567 * (x0 * sin(x0))))))\n",
      "\n",
      "==============================\n",
      "\n",
      "Cycles per second: 2.650e+03\n",
      "Head worker occupation: 14.4%\n",
      "Progress: 5 / 250 total iterations (2.000%)\n",
      "==============================\n",
      "Hall of Fame:\n",
      "-----------------------------------------\n",
      "Complexity  Loss       Score     Equation\n",
      "1           7.331e-01  -0.000e+00  -0.023892235\n",
      "3           6.207e-01  8.322e-02  (0.11643655 * x0)\n",
      "4           2.858e-02  3.078e+00  sin(-1.2417386 * x0)\n",
      "6           8.595e-03  6.008e-01  (1.2010298 * sin(-1.2499514 * x0))\n",
      "8           8.198e-03  2.366e-02  (1.2013462 * sin(-0.023521667 + (-1.2499746 * x0)))\n",
      "12          6.977e-03  4.034e-02  (sin((x0 * -1.2499459) + ((x0 * -0.0040762518) * x0)) * 1.2021205)\n",
      "13          6.440e-03  8.006e-02  (1.2021916 * sin((-1.2497382 * x0) + (0.022665977 * (x0 * sin(x0)))))\n",
      "18          4.920e-03  5.383e-02  (1.1977247 * sin((-1.252362 * x0) + ((-0.06796725 * sin(x0)) + (0.023586567 * (x0 * sin(x0))))))\n",
      "\n",
      "==============================\n",
      "Killing process... will return when done.\n"
     ]
    }
   ],
   "source": [
    "equations = pysr(\n",
    "    x, xi[0, :],\n",
    "    populations=50, npop=1500, niterations=5,\n",
    "    binary_operators=[\"+\", \"*\"],\n",
    "    unary_operators=[\"sin\", \"cos\"],\n",
    ")"
   ]
  },
  {
   "cell_type": "code",
   "execution_count": 26,
   "metadata": {},
   "outputs": [
    {
     "data": {
      "text/latex": [
       "$\\displaystyle - \\sin{\\left(1.2417386 x_{0} \\right)}$"
      ],
      "text/plain": [
       "-sin(1.2417386*x0)"
      ]
     },
     "execution_count": 26,
     "metadata": {},
     "output_type": "execute_result"
    }
   ],
   "source": [
    "best(equations)"
   ]
  },
  {
   "cell_type": "code",
   "execution_count": 27,
   "metadata": {},
   "outputs": [
    {
     "name": "stdout",
     "output_type": "stream",
     "text": [
      "Running on julia -O3 /var/folders/z3/_stfms3523dd5mnfr3ch5n100000gp/T/tmphioneku_/runfile.jl\n",
      "Activating environment on workers.\n",
      "      From worker 3:\t  Activating environment at `/usr/local/lib/python3.9/site-packages/Project.toml`\n",
      "      From worker 5:\t  Activating environment at `/usr/local/lib/python3.9/site-packages/Project.toml`\n",
      "      From worker 4:\t  Activating environment at `/usr/local/lib/python3.9/site-packages/Project.toml`\n",
      "      From worker 2:\t  Activating environment at `/usr/local/lib/python3.9/site-packages/Project.toml`\n",
      "Importing installed module on workers...Finished!\n",
      "Testing module on workers...Finished!\n",
      "Testing entire pipeline on workers...Finished!\n",
      "Started!\n",
      "\n",
      "Cycles per second: 8.080e+02\n",
      "Head worker occupation: 2.6%\n",
      "Progress: 1 / 250 total iterations (0.400%)\n",
      "==============================\n",
      "Hall of Fame:\n",
      "-----------------------------------------\n",
      "Complexity  Loss       Score     Equation\n",
      "1           4.606e-01  -0.000e+00  -1.4750705\n",
      "4           2.837e-01  1.615e-01  (-1.2833142 + cos(x0))\n",
      "6           5.269e-03  1.993e+00  (-1.4841684 + cos(-1.2681643 * x0))\n",
      "8           4.048e-03  1.318e-01  (-1.4859191 + (0.9503045 * cos(1.2711784 * x0)))\n",
      "12          3.660e-03  2.521e-02  (-1.4861003 + ((-0.0068258634 * x0) + (0.95001125 * cos(-1.2712548 * x0))))\n",
      "\n",
      "==============================\n"
     ]
    }
   ],
   "source": [
    "equations = pysr(\n",
    "    x, xi[1, :],\n",
    "    populations=50, npop=1500, niterations=5,\n",
    "    binary_operators=[\"+\", \"*\"],\n",
    "    unary_operators=[\"cos\"],\n",
    ")"
   ]
  },
  {
   "cell_type": "code",
   "execution_count": 28,
   "metadata": {},
   "outputs": [
    {
     "data": {
      "text/latex": [
       "$\\displaystyle \\cos{\\left(1.2681643 x_{0} \\right)} - 1.4841684$"
      ],
      "text/plain": [
       "cos(1.2681643*x0) - 1.4841684"
      ]
     },
     "execution_count": 28,
     "metadata": {},
     "output_type": "execute_result"
    }
   ],
   "source": [
    "best(equations)"
   ]
  },
  {
   "cell_type": "code",
   "execution_count": null,
   "metadata": {},
   "outputs": [],
   "source": [
    "# Note: 2*np.pi/5 = 1.2566370614359172\n",
    "\n",
    "### Noisless results ###\n",
    "# Feature importance, noisless, 20000 samples\n",
    "# [u, (t, x), u_x, u_xx, u_xxx, u_xxxx] use this one, (1.2523253 * sin(-1.2530949*x)) | cos(1.2594514*x)−1.5031303\n",
    "# [0.9530, 0.2164, 0.7234, 0.3194, 0.0947, 0.1568]\n",
    "\n",
    "### Noisy (x, t) and noisy labels results ###\n",
    "# Feature importance, 20000 samples, (1.2010298 * sin(-1.2499514*x)) | cos(1.2681643*x)−1.4841684\n",
    "# [u, (t, x), u_x, u_xx, u_xxx, u_xxxx]\n",
    "# [0.8957, 0.1703, 0.5571, 0.2591, 0.1084, 0.1218]\n",
    "\n",
    "### Clean (x, t) and noisy labels results ###\n",
    "# Feature importance, 20000 samples, \n",
    "# [u, (t, x), u_x, u_xx, u_xxx, u_xxxx]\n",
    "# "
   ]
  },
  {
   "cell_type": "code",
   "execution_count": null,
   "metadata": {},
   "outputs": [],
   "source": []
  }
 ],
 "metadata": {
  "kernelspec": {
   "display_name": "Python 3",
   "language": "python",
   "name": "python3"
  },
  "language_info": {
   "codemirror_mode": {
    "name": "ipython",
    "version": 3
   },
   "file_extension": ".py",
   "mimetype": "text/x-python",
   "name": "python",
   "nbconvert_exporter": "python",
   "pygments_lexer": "ipython3",
   "version": "3.9.7"
  }
 },
 "nbformat": 4,
 "nbformat_minor": 4
}
