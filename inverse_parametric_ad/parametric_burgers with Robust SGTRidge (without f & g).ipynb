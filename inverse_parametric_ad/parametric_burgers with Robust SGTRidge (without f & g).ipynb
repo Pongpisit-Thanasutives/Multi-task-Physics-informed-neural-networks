{
 "cells": [
  {
   "cell_type": "code",
   "execution_count": 1,
   "metadata": {},
   "outputs": [
    {
     "name": "stdout",
     "output_type": "stream",
     "text": [
      "Populating the interactive namespace from numpy and matplotlib\n"
     ]
    }
   ],
   "source": [
    "%load_ext autoreload\n",
    "%autoreload 2 \n",
    "%reload_ext autoreload\n",
    "%pylab inline\n",
    "%matplotlib inline\n",
    "import matplotlib.pyplot as plt\n",
    "\n",
    "import sys; sys.path.insert(0, \"../\")\n",
    "import sys; sys.path.insert(0, \"../inverse_parametric_burgers/\")\n",
    "\n",
    "import numpy as np\n",
    "from utils import *\n",
    "from parametric_discovery_pinn import ParametricPINN\n",
    "from madgrad import MADGRAD\n",
    "\n",
    "from pde_diff import TrainSTRidge, FiniteDiff, print_pde\n",
    "from robust_pde_diff import print_pde, RobustPCA, Robust_LRSTR, DLrSR\n",
    "from parametric_pde_diff import TrainSGTRidge, create_groups\n",
    "from pytorch_robust_pca import R_pca\n",
    "\n",
    "from scipy.integrate import odeint\n",
    "from numpy.fft import fft, ifft, fftfreq\n",
    "from time import time\n",
    "\n",
    "from pysr import pysr, best\n",
    "\n",
    "fontsize = 20"
   ]
  },
  {
   "cell_type": "code",
   "execution_count": 2,
   "metadata": {},
   "outputs": [
    {
     "name": "stdout",
     "output_type": "stream",
     "text": [
      "Loaded from ../parametric_pde_data/parametric_advection_diffusion.pkl\n"
     ]
    }
   ],
   "source": [
    "data = pickle_load(\"../parametric_pde_data/parametric_advection_diffusion.pkl\")\n",
    "\n",
    "x = data['x']; spatial_dims = x.shape[0]\n",
    "t = data['t']; time_dims = t.shape[0]\n",
    "\n",
    "# Exact = data['u']\n",
    "Exact = data['u'].T\n",
    "\n",
    "X, T = np.meshgrid(x, t)\n",
    "\n",
    "X_star = np.hstack((to_column_vector(X), to_column_vector(T)))\n",
    "u_star = to_column_vector(Exact.T)\n",
    "\n",
    "# domain bounds\n",
    "lb = X_star.min(axis=0)\n",
    "ub = X_star.max(axis=0)\n",
    "\n",
    "# Sampling training data points\n",
    "N = 20000\n",
    "training_idxs = sampling_from_rows(X_star, N, True)\n",
    "X_train = X_star[training_idxs, :]\n",
    "u_train = u_star[training_idxs, :]\n",
    "\n",
    "# to_tensor\n",
    "X_star = to_tensor(X_star, True)\n",
    "u_star = to_tensor(u_star, False)\n",
    "X_train = to_tensor(X_train, True)\n",
    "u_train = to_tensor(u_train, False)\n",
    "lb = to_tensor(lb, False)\n",
    "ub = to_tensor(ub, False)\n",
    "\n",
    "L = 5\n",
    "u_x_true = -1.5 + 1.0*np.cos(2*x*np.pi/L)\n",
    "u_true = -2*np.pi/L*np.sin(2*x*np.pi/L)\n",
    "u_xx_true = 0.1*np.ones(spatial_dims)"
   ]
  },
  {
   "cell_type": "code",
   "execution_count": 3,
   "metadata": {},
   "outputs": [
    {
     "name": "stdout",
     "output_type": "stream",
     "text": [
      "You are not using the parametric_func_net\n"
     ]
    }
   ],
   "source": [
    "pinn = ParametricPINN(n_funcs=0, scale=True, lb=lb, ub=ub)\n",
    "# print(\"Loaded the pretrained weights\")\n",
    "# pinn.load_state_dict(torch.load(\"...\"))"
   ]
  },
  {
   "cell_type": "code",
   "execution_count": 4,
   "metadata": {},
   "outputs": [],
   "source": [
    "def pcgrad_closure(return_list=False):\n",
    "    global N, X_train, u_train\n",
    "    losses = pinn.loss(*dimension_slicing(X_train), u_train)\n",
    "    updated_grads = []\n",
    "    \n",
    "    for i in range(2):\n",
    "        optimizer.zero_grad()\n",
    "        losses[i].backward(retain_graph=True)\n",
    "\n",
    "        g_task = []\n",
    "        for param in pinn.parameters():\n",
    "            if param.grad is not None:\n",
    "                g_task.append(Variable(param.grad.clone(), requires_grad=False))\n",
    "            else:\n",
    "                g_task.append(Variable(torch.zeros(param.shape), requires_grad=False))\n",
    "        # appending the gradients from each task\n",
    "        updated_grads.append(g_task)\n",
    "\n",
    "    updated_grads = list(pcgrad.pc_grad_update(updated_grads))[0]\n",
    "    for idx, param in enumerate(pinn.parameters()):\n",
    "        param.grad = (updated_grads[0][idx]+updated_grads[1][idx])\n",
    "        \n",
    "    if not return_list: return losses[0]+losses[1]\n",
    "    else: return losses"
   ]
  },
  {
   "cell_type": "code",
   "execution_count": 5,
   "metadata": {},
   "outputs": [],
   "source": [
    "def finetuning_closure():\n",
    "    global N, X_train, u_train\n",
    "    if torch.is_grad_enabled(): f_opt.zero_grad()\n",
    "    # the solver network only consider the first N samples.\n",
    "    mse_loss, pde_loss = pinn.loss(*dimension_slicing(X_train), u_train)\n",
    "    loss = mse_loss\n",
    "    if loss.requires_grad: loss.backward(retain_graph=False)\n",
    "    return loss"
   ]
  },
  {
   "cell_type": "code",
   "execution_count": 6,
   "metadata": {},
   "outputs": [
    {
     "name": "stdout",
     "output_type": "stream",
     "text": [
      "0.020607205107808113\n",
      "7.5448924690135755e-06\n",
      "6.619018222409068e-06\n",
      "4.077708126715152e-06\n",
      "3.7389509088825434e-06\n",
      "3.4926592888950836e-06\n",
      "3.4679285363381496e-06\n",
      "3.234907126170583e-06\n",
      "2.996670446009375e-06\n",
      "2.992350573549629e-06\n"
     ]
    }
   ],
   "source": [
    "# optimizer = MADGRAD(pinn.parameters(), lr=1e-3, momentum=0.9)\n",
    "# for i in range(150):\n",
    "#     pinn.train()\n",
    "#     optimizer.step(pcgrad_closure)\n",
    "#     if i%10==0:\n",
    "#         loss = pcgrad_closure(return_list=True)\n",
    "#         print(loss)\n",
    "        \n",
    "f_opt = torch.optim.LBFGS(pinn.parameters(), lr=1e-1, max_iter=300, max_eval=int(1.25*300), history_size=300, line_search_fn='strong_wolfe')\n",
    "for i in range(100):\n",
    "    f_opt.step(finetuning_closure)\n",
    "    if i%10==0:\n",
    "        loss = finetuning_closure()\n",
    "        print(loss.item())"
   ]
  },
  {
   "cell_type": "code",
   "execution_count": 23,
   "metadata": {},
   "outputs": [
    {
     "data": {
      "text/plain": [
       "tensor(3.0794e-06, grad_fn=<MseLossBackward>)"
      ]
     },
     "execution_count": 23,
     "metadata": {},
     "output_type": "execute_result"
    }
   ],
   "source": [
    "F.mse_loss(pinn(*dimension_slicing(X_star))[0], u_star)"
   ]
  },
  {
   "cell_type": "code",
   "execution_count": 24,
   "metadata": {},
   "outputs": [
    {
     "name": "stdout",
     "output_type": "stream",
     "text": [
      "['u', 'u_t', 'u_x', 'u_xx']\n"
     ]
    }
   ],
   "source": [
    "grads_dict = pinn.gradients_dict(*dimension_slicing(X_star))\n",
    "\n",
    "feature_names = list(grads_dict.keys())\n",
    "print(feature_names)\n",
    "u_t_index = feature_names.index('u_t')\n",
    "\n",
    "referenced_derivatives = np.hstack([t.detach().numpy() for t in list(grads_dict.values())])\n",
    "u_t = referenced_derivatives[:, u_t_index:u_t_index+1]\n",
    "\n",
    "referenced_derivatives = np.delete(referenced_derivatives, u_t_index, 1)\n",
    "del feature_names[u_t_index]"
   ]
  },
  {
   "cell_type": "code",
   "execution_count": 25,
   "metadata": {},
   "outputs": [
    {
     "name": "stdout",
     "output_type": "stream",
     "text": [
      "Please ensure that the shape of U is correct.\n",
      "iteration:1, err:1470.135138329204, nc_norm:385.8056582273569 eta1:0.011908096275171748\n",
      "iteration:50, err:0.1367343340120503, nc_norm:435.11094557769457 eta1:1.270819616287218\n",
      "iteration:100, err:0.0014637184117628598, nc_norm:216.2078253162407 eta1:149.18259861220426\n",
      "iteration:150, err:4.825465435374566e-05, nc_norm:214.35015513292691 eta1:17512.67248589598\n",
      "iteration:170, err:9.114801111539484e-06, nc_norm:214.33698169589096 eta1:117816.50326142123\n"
     ]
    }
   ],
   "source": [
    "xx, tt = dimension_slicing(X_star)\n",
    "pred_Exact, _ = pinn(xx, tt)\n",
    "pred_Exact = pred_Exact.reshape(X.shape)\n",
    "\n",
    "pred_Exact = to_numpy(pred_Exact)\n",
    "Z, E1 = RobustPCA(pred_Exact, lam_2=0.1)\n",
    "\n",
    "# rpca = R_pca(pred_Exact, verbose=True)\n",
    "# Z, E1 = rpca(max_iter=200, iter_print=100)\n",
    "\n",
    "Z = to_column_vector(Z)\n",
    "# Use Z instead\n",
    "referenced_derivatives[:, 0:1] = Z"
   ]
  },
  {
   "cell_type": "code",
   "execution_count": 26,
   "metadata": {},
   "outputs": [],
   "source": [
    "poly = PolynomialFeatures(degree=2, interaction_only=True, include_bias=False)\n",
    "Theta = poly.fit_transform(referenced_derivatives)\n",
    "\n",
    "poly_feature_names = poly.get_feature_names(feature_names)\n",
    "for i, f in enumerate(poly_feature_names):\n",
    "    poly_feature_names[i] = f.replace(\" \", \"*\")"
   ]
  },
  {
   "cell_type": "code",
   "execution_count": 27,
   "metadata": {},
   "outputs": [],
   "source": [
    "# Theta_grouped, Ut_grouped = create_groups(Theta, u_t, spatial_dims, time_dims)"
   ]
  },
  {
   "cell_type": "code",
   "execution_count": 28,
   "metadata": {},
   "outputs": [
    {
     "name": "stdout",
     "output_type": "stream",
     "text": [
      "iteration:1, err:6108.39010326899, nc_norm:1700.4059355563247 eta2:0.0031251396797939866\n",
      "iteration:50, err:0.022825942846055942, nc_norm:957.252736379389 eta2:23.700116971735547\n",
      "iteration:100, err:1.4121000401720807e-05, nc_norm:944.53353816653 eta2:215681.44864909528\n",
      "iteration:116, err:9.241764523373012e-07, nc_norm:944.5323767744118 eta2:3987610.4790895805\n",
      "IALM Finished at iteration 116\n"
     ]
    },
    {
     "name": "stderr",
     "output_type": "stream",
     "text": [
      "/Users/pongpisit/Desktop/Multi-task-Physics-informed-neural-networks/inverse_parametric_ad/../parametric_pde_diff.py:602: FutureWarning: arrays to stack must be passed as a \"sequence\" type such as list or tuple. Support for non-sequence iterables such as generators is deprecated as of NumPy 1.16 and will raise an error in the future.\n",
      "  candidate_norms[i] = Norm(np.vstack(A[:,i] for A in As), normalize)\n",
      "/Users/pongpisit/Desktop/Multi-task-Physics-informed-neural-networks/inverse_parametric_ad/../parametric_pde_diff.py:572: FutureWarning: `rcond` parameter will change to the default of machine precision times ``max(M, N)`` where M and N are the input matrix dimensions.\n",
      "To use the future default and silence this warning we advise to pass `rcond=None`, to keep using the old, explicitly pass `rcond=-1`.\n",
      "  W[biginds,i] = np.linalg.lstsq(Xs[i][:, biginds],ys[i])[0].reshape(len(biginds))\n"
     ]
    }
   ],
   "source": [
    "xi, X, E2 = DLrSR(Theta_grouped, u_t.reshape(X.shape), d_tol=50)"
   ]
  },
  {
   "cell_type": "code",
   "execution_count": 29,
   "metadata": {},
   "outputs": [],
   "source": [
    "Xi,Tol,Losses = TrainSGTRidge(Theta_grouped, Ut_grouped)\n",
    "xi = Xi[np.argmin(Losses)]"
   ]
  },
  {
   "cell_type": "code",
   "execution_count": 30,
   "metadata": {},
   "outputs": [
    {
     "name": "stdout",
     "output_type": "stream",
     "text": [
      "0 -> u\n",
      "1 -> u_x\n",
      "2 -> u_xx\n"
     ]
    },
    {
     "data": {
      "text/plain": [
       "<matplotlib.legend.Legend at 0x1077745b0>"
      ]
     },
     "execution_count": 30,
     "metadata": {},
     "output_type": "execute_result"
    },
    {
     "data": {
      "image/png": "[encoded data removed]",
      "text/plain": [
       "<Figure size 864x576 with 1 Axes>"
      ]
     },
     "metadata": {
      "needs_background": "light"
     },
     "output_type": "display_data"
    }
   ],
   "source": [
    "pylab.rcParams['figure.figsize'] = (12, 8)\n",
    "for j in range(xi.shape[0]): \n",
    "    if np.linalg.norm(xi[j,:]) > 10**-10:\n",
    "        print(j, '->', poly_feature_names[j])\n",
    "        plot(xi[j,:], label = poly_feature_names[j])\n",
    "\n",
    "title('Burgers Equation Coefficients', fontsize = 16)\n",
    "xlabel('Time', fontsize = 16)\n",
    "ylabel('Coefficient Value', fontsize = 16)\n",
    "legend(loc='center left', bbox_to_anchor=(1, 0.5), fontsize = 14)"
   ]
  },
  {
   "cell_type": "code",
   "execution_count": null,
   "metadata": {},
   "outputs": [],
   "source": []
  }
 ],
 "metadata": {
  "kernelspec": {
   "display_name": "Python 3",
   "language": "python",
   "name": "python3"
  },
  "language_info": {
   "codemirror_mode": {
    "name": "ipython",
    "version": 3
   },
   "file_extension": ".py",
   "mimetype": "text/x-python",
   "name": "python",
   "nbconvert_exporter": "python",
   "pygments_lexer": "ipython3",
   "version": "3.9.5"
  }
 },
 "nbformat": 4,
 "nbformat_minor": 4
}
