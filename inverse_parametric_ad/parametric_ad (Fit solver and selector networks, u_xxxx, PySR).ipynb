{
 "cells": [
  {
   "cell_type": "code",
   "execution_count": 1,
   "metadata": {},
   "outputs": [
    {
     "name": "stdout",
     "output_type": "stream",
     "text": [
      "Populating the interactive namespace from numpy and matplotlib\n",
      "Running Python 3.9.8\n",
      "You can use npar for np.array\n"
     ]
    }
   ],
   "source": [
    "%load_ext autoreload\n",
    "%autoreload 2 \n",
    "%reload_ext autoreload\n",
    "%pylab inline\n",
    "%matplotlib inline\n",
    "import matplotlib.pyplot as plt\n",
    "\n",
    "import sys; sys.path.insert(0, \"../\")\n",
    "import sys; sys.path.insert(0, \"../inverse_parametric_burgers/\")\n",
    "\n",
    "import numpy as np\n",
    "from utils import *\n",
    "from models import TanhProb\n",
    "from parametric_discovery_pinnV2 import ParametricSolver\n",
    "\n",
    "# Let's do facy optimizers\n",
    "from optimizers import Lookahead, AdamGC, SGDGC\n",
    "from madgrad import MADGRAD\n",
    "from lbfgsnew import LBFGSNew\n",
    "\n",
    "from pde_diff import TrainSTRidge, FiniteDiff, print_pde\n",
    "from robust_pde_diff import print_pde, RobustPCA, Robust_LRSTR, DLrSR\n",
    "from parametric_pde_diff import TrainSGTRidge, create_groups\n",
    "from pytorch_robust_pca import R_pca\n",
    "\n",
    "from scipy.integrate import odeint\n",
    "from numpy.fft import fft, ifft, fftfreq\n",
    "from time import time\n",
    "\n",
    "from pysr import pysr, best\n",
    "\n",
    "fontsize = 20"
   ]
  },
  {
   "cell_type": "code",
   "execution_count": 2,
   "metadata": {},
   "outputs": [],
   "source": [
    "noise_intensity = 0.01\n",
    "noisy_xt = False; noisy_labels = True"
   ]
  },
  {
   "cell_type": "code",
   "execution_count": 3,
   "metadata": {},
   "outputs": [
    {
     "name": "stdout",
     "output_type": "stream",
     "text": [
      "Loaded from ../parametric_pde_data/parametric_advection_diffusion.pkl\n",
      "Clean X_train\n",
      "Noisy Exact\n"
     ]
    }
   ],
   "source": [
    "data = pickle_load(\"../parametric_pde_data/parametric_advection_diffusion.pkl\")\n",
    "\n",
    "x = data['x']; spatial_dims = x.shape[0]\n",
    "t = data['t']; time_dims = t.shape[0]\n",
    "\n",
    "Exact = data['u']\n",
    "X, T = np.meshgrid(x, t)\n",
    "\n",
    "X_star = np.hstack((to_column_vector(X), to_column_vector(T)))\n",
    "u_star = to_column_vector(Exact.T)\n",
    "\n",
    "# domain bounds\n",
    "lb = X_star.min(axis=0)\n",
    "ub = X_star.max(axis=0)\n",
    "\n",
    "# Sampling training data points\n",
    "N = 20000\n",
    "training_idxs = sampling_from_rows(X_star, N, True)\n",
    "X_train = X_star[training_idxs, :]\n",
    "u_train = u_star[training_idxs, :]\n",
    "\n",
    "if noisy_xt:\n",
    "    print(\"Noisy X_train\")\n",
    "    X_train = perturb(X_train, intensity=noise_intensity, noise_type=\"normal\")\n",
    "else: print(\"Clean X_train\")\n",
    "\n",
    "if noisy_labels:\n",
    "    print(\"Noisy Exact\")\n",
    "    u_train = perturb(u_train, intensity=noise_intensity, noise_type=\"normal\")\n",
    "else: print(\"Clean Exact\")\n",
    "\n",
    "# to_tensor\n",
    "X_star = to_tensor(X_star, True)\n",
    "u_star = to_tensor(u_star, False)\n",
    "X_train = to_tensor(X_train, True)\n",
    "u_train = to_tensor(u_train, False)\n",
    "lb = to_tensor(lb, False)\n",
    "ub = to_tensor(ub, False)\n",
    "\n",
    "L = 5\n",
    "u_x_true = -1.5 + 1.0*np.cos(2*x*np.pi/L)\n",
    "u_true = -2*np.pi/L*np.sin(2*x*np.pi/L)\n",
    "u_xx_true = 0.1*np.ones(spatial_dims)"
   ]
  },
  {
   "cell_type": "code",
   "execution_count": 4,
   "metadata": {},
   "outputs": [],
   "source": [
    "class AttentionSelectorNetwork(nn.Module):\n",
    "    def __init__(self, layers, prob_activation=torch.sigmoid, bn=None, reg_intensity=1e-3):\n",
    "        super(AttentionSelectorNetwork, self).__init__()\n",
    "        # Nonlinear model, Training with PDE reg.\n",
    "        assert len(layers) > 1\n",
    "        self.linear1 = nn.Linear(layers[0], layers[0])\n",
    "        self.prob_activation = prob_activation\n",
    "        self.nonlinear_model = TorchMLP(dimensions=layers, activation_function=nn.Tanh, bn=bn, dropout=nn.Dropout(p=0.1))\n",
    "        self.latest_weighted_features = None\n",
    "        self.th = (1/layers[0])-(1e-10)\n",
    "        self.reg_intensity = reg_intensity\n",
    "        self.w = torch.tensor([1.0, 1.0, 1.0, 2.0, 3.0, 4.0])\n",
    "        \n",
    "    def xavier_init(self, m):\n",
    "        if type(m) == nn.Linear:\n",
    "            torch.nn.init.xavier_uniform_(m.weight)\n",
    "            m.bias.data.fill_(0.01)\n",
    "        \n",
    "    def forward(self, inn, bi=False):\n",
    "        if bi: att = binarize(self.weighted_features(inn), self.th)\n",
    "        else: att = F.threshold(self.weighted_features(inn), self.th, 0.0)\n",
    "        return self.nonlinear_model(inn*att)\n",
    "    \n",
    "    def weighted_features(self, inn):\n",
    "        self.latest_weighted_features = self.prob_activation(self.linear1(inn)).mean(axis=0)\n",
    "        return self.latest_weighted_features\n",
    "    \n",
    "    def loss(self, X_input, y_input):\n",
    "        ut_approx = self.forward(X_input)\n",
    "        mse_loss = F.mse_loss(ut_approx, y_input, reduction='mean')\n",
    "        reg_term = F.relu(self.latest_weighted_features-self.th)\n",
    "        \n",
    "        l1 = mse_loss\n",
    "        l2 = torch.norm(reg_term, p=0)+torch.dot(self.w, reg_term)\n",
    "        \n",
    "        return l1+self.reg_intensity*(l2)\n",
    "\n",
    "class SemiSupModel(nn.Module):\n",
    "    def __init__(self, network, selector, normalize_derivative_features=False, mini=None, maxi=None):\n",
    "        super(SemiSupModel, self).__init__()\n",
    "        self.network = network\n",
    "        self.selector = selector\n",
    "        self.normalize_derivative_features = normalize_derivative_features\n",
    "        self.mini = mini\n",
    "        self.maxi = maxi\n",
    "        \n",
    "    def forward(self, X_u_train):\n",
    "        X_selector, y_selector = self.network.gradients_dict(*dimension_slicing(X_u_train))\n",
    "        est = X_selector[:, 0:1]\n",
    "        if self.normalize_derivative_features:\n",
    "            X_selector = (X_selector-self.mini)/(self.maxi-self.mini)\n",
    "        unsup_loss = self.selector.loss(X_selector, y_selector)\n",
    "        return est, unsup_loss"
   ]
  },
  {
   "cell_type": "code",
   "execution_count": 5,
   "metadata": {},
   "outputs": [
    {
     "name": "stdout",
     "output_type": "stream",
     "text": [
      "Using old implementation of TorchMLP. See models.py for more new model-related source code.\n",
      "Use pretrained weights\n"
     ]
    }
   ],
   "source": [
    "### Version with normalized derivatives ###\n",
    "pretrained_state_dict = torch.load(\"./new_weights/pretrained_20000samples.pth\")\n",
    "network_state_dict = None # always set to None\n",
    "use_pretrained_weights = True\n",
    "\n",
    "semisup_model = SemiSupModel(network=ParametricSolver(scale=False, lb=lb, ub=ub, input_feature='x', highest_order=4),\n",
    "                            # Be careful of choosing the prob_activation to compute the attentional weights!\n",
    "                            selector=AttentionSelectorNetwork([6, 50, 50, 1], prob_activation=TanhProb(), bn=nn.LayerNorm),\n",
    "#                             selector=AttentionSelectorNetwork([5, 50, 50, 1], bn=nn.LayerNorm),\n",
    "                            normalize_derivative_features=False,\n",
    "                            mini=None,\n",
    "                            maxi=None)\n",
    "\n",
    "if use_pretrained_weights:\n",
    "    print(\"Use pretrained weights\")\n",
    "    semisup_model.load_state_dict(pretrained_state_dict, strict=False)\n",
    "    network_state_dict = semisup_model.network.state_dict()\n",
    "    semisup_model.eval()\n",
    "    referenced_derivatives, _ = semisup_model.network.gradients_dict(*dimension_slicing(X_star))\n",
    "    semisup_model.mini = torch.min(referenced_derivatives, axis=0)[0].detach().requires_grad_(False)\n",
    "    semisup_model.maxi = torch.max(referenced_derivatives, axis=0)[0].detach().requires_grad_(False)"
   ]
  },
  {
   "cell_type": "code",
   "execution_count": 6,
   "metadata": {},
   "outputs": [],
   "source": [
    "lets_pretrain = False"
   ]
  },
  {
   "cell_type": "code",
   "execution_count": 7,
   "metadata": {},
   "outputs": [],
   "source": [
    "if lets_pretrain:\n",
    "    print(\"Pretraining...\")\n",
    "    pretraining_optimizer = LBFGSNew(semisup_model.network.parameters(), \n",
    "                                     lr=1e-1, max_iter=300, \n",
    "                                     max_eval=int(300*1.25), history_size=150, \n",
    "                                     line_search_fn=True, batch_mode=False)\n",
    "\n",
    "    semisup_model.train()\n",
    "    for i in range(200):\n",
    "        def pretraining_closure():\n",
    "            global N, X_train, u_train\n",
    "            if torch.is_grad_enabled(): pretraining_optimizer.zero_grad()\n",
    "            # Only focusing on first [:N, :] elements\n",
    "            mse_loss = F.mse_loss(semisup_model.network(*dimension_slicing(X_train))[:N, :], u_train[:N, :])\n",
    "            if mse_loss.requires_grad: mse_loss.backward(retain_graph=False)\n",
    "            return mse_loss\n",
    "\n",
    "        pretraining_optimizer.step(pretraining_closure)\n",
    "\n",
    "        l = pretraining_closure()\n",
    "        if (i % 10) == 0:\n",
    "            curr_loss = l.item()\n",
    "            print(\"Epoch {}: \".format(i), curr_loss)\n",
    "            \n",
    "            # Sneak on the test performance...\n",
    "            semisup_model.network.eval()\n",
    "            test_performance = F.mse_loss(semisup_model.network(*dimension_slicing(X_star)).detach(), u_star).item()\n",
    "            string_test_performance = scientific2string(test_performance)\n",
    "            print('Test MSE:', string_test_performance)\n",
    "    \n",
    "    print(\"Computing derivatives features\")\n",
    "    semisup_model.eval()\n",
    "    referenced_derivatives, _ = semisup_model.network.gradients_dict(*dimension_slicing(X_star))\n",
    "    semisup_model.mini = torch.min(referenced_derivatives, axis=0)[0].detach().requires_grad_(False)\n",
    "    semisup_model.maxi = torch.max(referenced_derivatives, axis=0)[0].detach().requires_grad_(False)"
   ]
  },
  {
   "cell_type": "code",
   "execution_count": 8,
   "metadata": {},
   "outputs": [
    {
     "data": {
      "text/plain": [
       "4.571982572088018e-05"
      ]
     },
     "execution_count": 8,
     "metadata": {},
     "output_type": "execute_result"
    }
   ],
   "source": [
    "F.mse_loss(semisup_model.network(*dimension_slicing(X_star)).detach(), u_star).item()"
   ]
  },
  {
   "cell_type": "code",
   "execution_count": 9,
   "metadata": {},
   "outputs": [],
   "source": [
    "def pcgrad_closure(return_list=False):\n",
    "    global N, X_train, u_train\n",
    "    predictions, unsup_loss = semisup_model(X_train)\n",
    "    losses = [F.mse_loss(predictions[:N, :], u_train[:N, :]), unsup_loss]\n",
    "    updated_grads = []\n",
    "    \n",
    "    for i in range(2):\n",
    "        optimizer.zero_grad()\n",
    "        losses[i].backward(retain_graph=True)\n",
    "\n",
    "        g_task = []\n",
    "        for param in semisup_model.parameters():\n",
    "            if param.grad is not None:\n",
    "                g_task.append(Variable(param.grad.clone(), requires_grad=False))\n",
    "            else:\n",
    "                g_task.append(Variable(torch.zeros(param.shape), requires_grad=False))\n",
    "        # appending the gradients from each task\n",
    "        updated_grads.append(g_task)\n",
    "\n",
    "    updated_grads = list(pcgrad.pc_grad_update(updated_grads))[0]\n",
    "    for idx, param in enumerate(semisup_model.parameters()):\n",
    "        param.grad = (updated_grads[0][idx]+updated_grads[1][idx])\n",
    "        \n",
    "    if not return_list: return losses[0]+losses[1]\n",
    "    else: return losses"
   ]
  },
  {
   "cell_type": "code",
   "execution_count": 10,
   "metadata": {},
   "outputs": [],
   "source": [
    "# Joint training | Do lambda comparison here\n",
    "optimizer = MADGRAD([{'params':semisup_model.network.parameters()}, {'params':semisup_model.selector.parameters()}], lr=1e-6)\n",
    "optimizer.param_groups[0]['lr'] = 1e-7\n",
    "optimizer.param_groups[1]['lr'] = 1e-1"
   ]
  },
  {
   "cell_type": "code",
   "execution_count": 11,
   "metadata": {},
   "outputs": [],
   "source": [
    "# Use ~idx to sample\n",
    "# for i in range(250):\n",
    "#     semisup_model.train()\n",
    "#     optimizer.step(pcgrad_closure)\n",
    "#     if i%25==0:\n",
    "#         loss = pcgrad_closure(return_list=True); print(loss)\n",
    "#         fi = semisup_model.selector.latest_weighted_features\n",
    "#         print(fi); print(torch.argsort(fi))"
   ]
  },
  {
   "cell_type": "code",
   "execution_count": 12,
   "metadata": {},
   "outputs": [
    {
     "name": "stdout",
     "output_type": "stream",
     "text": [
      "Loaded the model's weights properly\n"
     ]
    }
   ],
   "source": [
    "semisup_model = load_weights(semisup_model, \"./new_weights/semisup_model_uxxxx_cleantxnoisy20000labels_unfinetuned.pth\")"
   ]
  },
  {
   "cell_type": "code",
   "execution_count": 13,
   "metadata": {},
   "outputs": [
    {
     "name": "stdout",
     "output_type": "stream",
     "text": [
      "6.369865877786651e-05\n",
      "6.36893673799932e-05\n",
      "6.369040784193203e-05\n",
      "6.369040784193203e-05\n",
      "6.369040784193203e-05\n"
     ]
    }
   ],
   "source": [
    "# Fine-tuning the solver network\n",
    "f_opt = torch.optim.LBFGS(semisup_model.network.parameters(), lr=1e-1, max_iter=500, max_eval=int(1.25*500), history_size=500)\n",
    "\n",
    "def finetuning_closure():\n",
    "    global N, X_train, u_train\n",
    "    if torch.is_grad_enabled(): f_opt.zero_grad()\n",
    "    # the solver network only consider the first N samples.\n",
    "    loss = F.mse_loss(semisup_model.network(*dimension_slicing(X_train[:N, :])), u_train[:N, :])\n",
    "    if loss.requires_grad: loss.backward(retain_graph=True)\n",
    "    return loss\n",
    "\n",
    "semisup_model.network.train()\n",
    "semisup_model.selector.eval()\n",
    "\n",
    "for i in range(50):\n",
    "    f_opt.step(finetuning_closure)\n",
    "    if i%10==0:\n",
    "        loss = finetuning_closure()\n",
    "        print(loss.item())"
   ]
  },
  {
   "cell_type": "code",
   "execution_count": 14,
   "metadata": {},
   "outputs": [],
   "source": [
    "referenced_derivatives, u_t = semisup_model.network.gradients_dict(*dimension_slicing(X_star))\n",
    "referenced_derivatives = to_numpy(referenced_derivatives)\n",
    "u_t = to_numpy(u_t)\n",
    "feature_names = ['u', 'u_x', 'u_xx']"
   ]
  },
  {
   "cell_type": "code",
   "execution_count": 15,
   "metadata": {},
   "outputs": [],
   "source": [
    "referenced_derivatives = np.delete(referenced_derivatives, -1, axis=1)\n",
    "referenced_derivatives = np.delete(referenced_derivatives, -1, axis=1)\n",
    "referenced_derivatives = np.delete(referenced_derivatives, 1, axis=1)"
   ]
  },
  {
   "cell_type": "code",
   "execution_count": 16,
   "metadata": {},
   "outputs": [],
   "source": [
    "poly = PolynomialFeatures(degree=2, interaction_only=True, include_bias=False)\n",
    "Theta = poly.fit_transform(referenced_derivatives)\n",
    "\n",
    "poly_feature_names = poly.get_feature_names(feature_names)\n",
    "for i, f in enumerate(poly_feature_names):\n",
    "    poly_feature_names[i] = f.replace(\" \", \"*\")"
   ]
  },
  {
   "cell_type": "code",
   "execution_count": 17,
   "metadata": {},
   "outputs": [],
   "source": [
    "Theta_grouped = [real(Theta[time_dims*np.arange(spatial_dims)+j,:]) for j in range(spatial_dims)]\n",
    "Ut_grouped = [real(u_t[time_dims*np.arange(spatial_dims)+j]) for j in range(spatial_dims)]"
   ]
  },
  {
   "cell_type": "code",
   "execution_count": 18,
   "metadata": {},
   "outputs": [
    {
     "name": "stderr",
     "output_type": "stream",
     "text": [
      "/Users/pongpisit/Desktop/Multi-task-Physics-informed-neural-networks/inverse_parametric_ad/../parametric_pde_diff.py:609: FutureWarning: arrays to stack must be passed as a \"sequence\" type such as list or tuple. Support for non-sequence iterables such as generators is deprecated as of NumPy 1.16 and will raise an error in the future.\n",
      "  candidate_norms[i] = Norm(np.vstack(A[:,i] for A in As), normalize)\n",
      "/Users/pongpisit/Desktop/Multi-task-Physics-informed-neural-networks/inverse_parametric_ad/../parametric_pde_diff.py:579: FutureWarning: `rcond` parameter will change to the default of machine precision times ``max(M, N)`` where M and N are the input matrix dimensions.\n",
      "To use the future default and silence this warning we advise to pass `rcond=None`, to keep using the old, explicitly pass `rcond=-1`.\n",
      "  W[biginds,i] = np.linalg.lstsq(Xs[i][:, biginds],ys[i])[0].reshape(len(biginds))\n"
     ]
    }
   ],
   "source": [
    "Xi,Tol,Losses = TrainSGTRidge(Theta_grouped, Ut_grouped, num_tols=100)\n",
    "xi = Xi[np.argmin(Losses)]"
   ]
  },
  {
   "cell_type": "code",
   "execution_count": 19,
   "metadata": {},
   "outputs": [
    {
     "data": {
      "text/plain": [
       "['u', 'u_x', 'u_xx', 'u*u_x', 'u*u_xx', 'u_x*u_xx']"
      ]
     },
     "execution_count": 19,
     "metadata": {},
     "output_type": "execute_result"
    }
   ],
   "source": [
    "poly_feature_names"
   ]
  },
  {
   "cell_type": "code",
   "execution_count": 20,
   "metadata": {},
   "outputs": [
    {
     "name": "stdout",
     "output_type": "stream",
     "text": [
      "0 -> u\n",
      "1 -> u_x\n",
      "2 -> u_xx\n"
     ]
    },
    {
     "data": {
      "text/plain": [
       "<matplotlib.legend.Legend at 0x14a477ca0>"
      ]
     },
     "execution_count": 20,
     "metadata": {},
     "output_type": "execute_result"
    },
    {
     "data": {
      "image/png": "[encoded data removed]",
      "text/plain": [
       "<Figure size 864x576 with 1 Axes>"
      ]
     },
     "metadata": {
      "needs_background": "light"
     },
     "output_type": "display_data"
    }
   ],
   "source": [
    "pylab.rcParams['figure.figsize'] = (12, 8)\n",
    "for j in range(xi.shape[0]): \n",
    "    if np.linalg.norm(xi[j,:]) > 10**-6:\n",
    "        print(j, '->', poly_feature_names[j])\n",
    "        plot(xi[j,:], label = poly_feature_names[j])\n",
    "\n",
    "title('Burgers Equation Coefficients', fontsize = 16)\n",
    "xlabel('Time', fontsize = 16)\n",
    "ylabel('Coefficient Value', fontsize = 16)\n",
    "legend(loc='center left', bbox_to_anchor=(1, 0.5), fontsize = 14)"
   ]
  },
  {
   "cell_type": "code",
   "execution_count": 21,
   "metadata": {},
   "outputs": [],
   "source": [
    "# Converting to tensors\n",
    "referenced_derivatives = to_tensor(referenced_derivatives, False)\n",
    "u_t = to_tensor(u_t, False)\n",
    "x_star = X_star[:, 0:1].detach()"
   ]
  },
  {
   "cell_type": "code",
   "execution_count": 22,
   "metadata": {},
   "outputs": [],
   "source": [
    "class CF(nn.Module):\n",
    "    def __init__(self, n_hiddens=32):\n",
    "        super(CF, self).__init__()\n",
    "        self.cf1 = nn.Sequential(nn.Linear(1, n_hiddens), nn.Tanh(), \n",
    "                                 nn.Linear(n_hiddens, n_hiddens), nn.Tanh(), \n",
    "                                 nn.Linear(n_hiddens, 1))\n",
    "        \n",
    "        self.cf2 = nn.Sequential(nn.Linear(1, n_hiddens), nn.Tanh(), \n",
    "                                 nn.Linear(n_hiddens, n_hiddens), nn.Tanh(), \n",
    "                                 nn.Linear(n_hiddens, 1))\n",
    "        \n",
    "        # more general\n",
    "        # self.cf3 = nn.Sequential(nn.Linear(1, n_hiddens), nn.Tanh(), \n",
    "        #                          nn.Linear(n_hiddens, n_hiddens), nn.Tanh(), \n",
    "        #                          nn.Linear(n_hiddens, 1))\n",
    "        \n",
    "        self.cf3 = nn.Parameter(torch.tensor([xi[2,:].mean()]))\n",
    "        \n",
    "    # def forward(self, e): return self.cf1(e), self.cf2(e), self.cf3(e)\n",
    "    def forward(self, e): return self.cf1(e), self.cf2(e), self.cf3"
   ]
  },
  {
   "cell_type": "code",
   "execution_count": 23,
   "metadata": {},
   "outputs": [],
   "source": [
    "cf_model = CF(32)"
   ]
  },
  {
   "cell_type": "code",
   "execution_count": 24,
   "metadata": {},
   "outputs": [],
   "source": [
    "lbfgs_opt = torch.optim.LBFGS(cf_model.parameters(), \n",
    "                              lr=1e-1, max_iter=500, max_eval=int(1.25*500), history_size=500)\n",
    "\n",
    "def cf_closure():\n",
    "    global t_star, referenced_derivatives, u_t\n",
    "    if torch.is_grad_enabled(): lbfgs_opt.zero_grad()\n",
    "    pred_cf1, pred_cf2, pred_cf3 = cf_model(x_star)\n",
    "    u_t_pred = pred_cf1*referenced_derivatives[:, 0:1]+pred_cf2*referenced_derivatives[:, 1:2]+pred_cf3*referenced_derivatives[:, 2:3]\n",
    "    cf_loss = F.mse_loss(u_t_pred, u_t)\n",
    "    if cf_loss.requires_grad: cf_loss.backward(retain_graph=True)\n",
    "    return cf_loss"
   ]
  },
  {
   "cell_type": "code",
   "execution_count": 25,
   "metadata": {},
   "outputs": [
    {
     "name": "stdout",
     "output_type": "stream",
     "text": [
      "0.0026100287213921547\n",
      "0.002334927674382925\n",
      "0.0023349211551249027\n",
      "0.0023349192924797535\n",
      "0.002334917662665248\n"
     ]
    }
   ],
   "source": [
    "for i in range(50):\n",
    "    lbfgs_opt.step(cf_closure)\n",
    "    if i%10==0: print(cf_closure().item())"
   ]
  },
  {
   "cell_type": "code",
   "execution_count": 26,
   "metadata": {},
   "outputs": [],
   "source": [
    "cf_model.eval()\n",
    "pred_cf1, pred_cf2, pred_cf3 = cf_model(to_tensor(x, False).reshape(-1, 1))\n",
    "pred_cf1, pred_cf2, pred_cf3 = to_numpy(pred_cf1), to_numpy(pred_cf2), to_numpy(pred_cf3)"
   ]
  },
  {
   "cell_type": "code",
   "execution_count": 27,
   "metadata": {},
   "outputs": [
    {
     "data": {
      "image/png": "[encoded data removed]",
      "text/plain": [
       "<Figure size 864x576 with 1 Axes>"
      ]
     },
     "metadata": {
      "needs_background": "light"
     },
     "output_type": "display_data"
    }
   ],
   "source": [
    "plot(xi[0,:], label = poly_feature_names[0]+\" (STGRige)\")\n",
    "plot(pred_cf1, label = poly_feature_names[0]+\" (NN)\")\n",
    "plt.legend()\n",
    "plt.show()"
   ]
  },
  {
   "cell_type": "markdown",
   "metadata": {},
   "source": [
    "#### The first arg"
   ]
  },
  {
   "cell_type": "code",
   "execution_count": 28,
   "metadata": {},
   "outputs": [
    {
     "name": "stdout",
     "output_type": "stream",
     "text": [
      "Running on julia -O3 --threads 4 /var/folders/z3/_stfms3523dd5mnfr3ch5n100000gp/T/tmpxdh5zzyj/runfile.jl\n",
      "Started!\n",
      "\n",
      "Cycles per second: 3.600e+02\n",
      "Head worker occupation: 0.9%\n",
      "Progress: 1 / 250 total iterations (0.400%)\n",
      "==============================\n",
      "Hall of Fame:\n",
      "-----------------------------------------\n",
      "Complexity  Loss       Score     Equation\n",
      "1           7.662e-01  -0.000e+00  -0.017038457\n",
      "3           6.444e-01  8.652e-02  (0.121009864 * x0)\n",
      "4           3.031e-02  3.057e+00  sin(-1.243762 * x0)\n",
      "6           3.378e-03  1.097e+00  (1.2335105 * sin(-1.252844 * x0))\n",
      "8           3.091e-03  4.453e-02  (-0.016972803 + (1.2335657 * sin(-1.2529194 * x0)))\n",
      "13          2.547e-03  3.868e-02  (1.2339941 * sin((-1.2528946 * x0) + (0.013569279 * (x0 * sin(x0)))))\n",
      "\n",
      "==============================\n",
      "\n",
      "Cycles per second: 1.780e+03\n",
      "Head worker occupation: 0.8%\n",
      "Progress: 2 / 250 total iterations (0.800%)\n",
      "==============================\n",
      "Hall of Fame:\n",
      "-----------------------------------------\n",
      "Complexity  Loss       Score     Equation\n",
      "1           7.662e-01  -0.000e+00  -0.017038457\n",
      "3           6.444e-01  8.652e-02  (0.121009864 * x0)\n",
      "4           3.031e-02  3.057e+00  sin(-1.243762 * x0)\n",
      "6           3.378e-03  1.097e+00  (1.2335105 * sin(-1.252844 * x0))\n",
      "8           3.091e-03  4.453e-02  (-0.016972803 + (1.2335657 * sin(-1.2529194 * x0)))\n",
      "13          2.547e-03  3.868e-02  (1.2339941 * sin((-1.2528946 * x0) + (0.013569279 * (x0 * sin(x0)))))\n",
      "\n",
      "==============================\n",
      "\n",
      "Cycles per second: 2.220e+03\n",
      "Head worker occupation: 0.7%\n",
      "Progress: 3 / 250 total iterations (1.200%)\n",
      "==============================\n",
      "Hall of Fame:\n",
      "-----------------------------------------\n",
      "Complexity  Loss       Score     Equation\n",
      "1           7.662e-01  -0.000e+00  -0.017038457\n",
      "3           6.444e-01  8.652e-02  (0.121009864 * x0)\n",
      "4           3.031e-02  3.057e+00  sin(-1.243762 * x0)\n",
      "6           3.378e-03  1.097e+00  (1.2335105 * sin(-1.252844 * x0))\n",
      "8           3.091e-03  4.453e-02  (-0.016972803 + (1.2335657 * sin(-1.2529194 * x0)))\n",
      "13          2.547e-03  3.868e-02  (1.2339941 * sin((-1.2528946 * x0) + (0.013569279 * (x0 * sin(x0)))))\n",
      "\n",
      "==============================\n",
      "\n",
      "Cycles per second: 3.020e+03\n",
      "Head worker occupation: 0.6%\n",
      "Progress: 6 / 250 total iterations (2.400%)\n",
      "==============================\n",
      "Hall of Fame:\n",
      "-----------------------------------------\n",
      "Complexity  Loss       Score     Equation\n",
      "1           7.662e-01  -0.000e+00  -0.017038457\n",
      "3           6.444e-01  8.652e-02  (0.121009864 * x0)\n",
      "4           3.031e-02  3.057e+00  sin(-1.243762 * x0)\n",
      "6           3.378e-03  1.097e+00  (1.2335105 * sin(-1.252844 * x0))\n",
      "8           3.091e-03  4.453e-02  (-0.016972803 + (1.2335657 * sin(-1.2529194 * x0)))\n",
      "13          2.547e-03  3.868e-02  (1.2339941 * sin((-1.2528946 * x0) + (0.013569279 * (x0 * sin(x0)))))\n",
      "\n",
      "==============================\n",
      "\n",
      "Cycles per second: 3.170e+03\n",
      "Head worker occupation: 0.6%\n",
      "Progress: 8 / 250 total iterations (3.200%)\n",
      "==============================\n",
      "Hall of Fame:\n",
      "-----------------------------------------\n",
      "Complexity  Loss       Score     Equation\n",
      "1           7.662e-01  -0.000e+00  -0.017038457\n",
      "3           6.444e-01  8.652e-02  (0.121009864 * x0)\n",
      "4           3.031e-02  3.057e+00  sin(-1.243762 * x0)\n",
      "6           3.378e-03  1.097e+00  (1.2335105 * sin(-1.252844 * x0))\n",
      "8           3.091e-03  4.453e-02  (-0.016972803 + (1.2335657 * sin(-1.2529194 * x0)))\n",
      "13          2.547e-03  3.868e-02  (1.2339941 * sin((-1.2528946 * x0) + (0.013569279 * (x0 * sin(x0)))))\n",
      "\n",
      "==============================\n",
      "\n",
      "Cycles per second: 3.990e+03\n",
      "Head worker occupation: 0.5%\n",
      "Progress: 11 / 250 total iterations (4.400%)\n",
      "==============================\n",
      "Hall of Fame:\n",
      "-----------------------------------------\n",
      "Complexity  Loss       Score     Equation\n",
      "1           7.662e-01  -0.000e+00  -0.017038457\n",
      "3           6.444e-01  8.652e-02  (0.121009864 * x0)\n",
      "4           3.031e-02  3.057e+00  sin(-1.243762 * x0)\n",
      "6           3.378e-03  1.097e+00  (1.2335105 * sin(-1.252844 * x0))\n",
      "8           3.091e-03  4.453e-02  (-0.016972803 + (1.2335657 * sin(-1.2529194 * x0)))\n",
      "13          2.547e-03  3.868e-02  (1.2339941 * sin((-1.2528946 * x0) + (0.013569279 * (x0 * sin(x0)))))\n",
      "\n",
      "==============================\n",
      "\n",
      "Cycles per second: 4.570e+03\n",
      "Head worker occupation: 0.5%\n",
      "Progress: 14 / 250 total iterations (5.600%)\n",
      "==============================\n",
      "Hall of Fame:\n",
      "-----------------------------------------\n",
      "Complexity  Loss       Score     Equation\n",
      "1           7.662e-01  -0.000e+00  -0.017038457\n",
      "3           6.444e-01  8.652e-02  (0.121009864 * x0)\n",
      "4           3.031e-02  3.057e+00  sin(-1.243762 * x0)\n",
      "6           3.378e-03  1.097e+00  (1.2335105 * sin(-1.252844 * x0))\n",
      "8           3.091e-03  4.453e-02  (-0.016972803 + (1.2335657 * sin(-1.2529194 * x0)))\n",
      "13          2.547e-03  3.868e-02  (1.2339941 * sin((-1.2528946 * x0) + (0.013569279 * (x0 * sin(x0)))))\n",
      "\n",
      "==============================\n",
      "\n",
      "Cycles per second: 4.360e+03\n",
      "Head worker occupation: 0.5%\n",
      "Progress: 15 / 250 total iterations (6.000%)\n",
      "==============================\n",
      "Hall of Fame:\n",
      "-----------------------------------------\n",
      "Complexity  Loss       Score     Equation\n",
      "1           7.662e-01  -0.000e+00  -0.017038457\n",
      "3           6.444e-01  8.652e-02  (0.121009864 * x0)\n",
      "4           3.031e-02  3.057e+00  sin(-1.243762 * x0)\n",
      "6           3.378e-03  1.097e+00  (1.2335105 * sin(-1.252844 * x0))\n",
      "8           3.091e-03  4.453e-02  (-0.016972803 + (1.2335657 * sin(-1.2529194 * x0)))\n",
      "13          2.547e-03  3.868e-02  (1.2339941 * sin((-1.2528946 * x0) + (0.013569279 * (x0 * sin(x0)))))\n",
      "\n",
      "==============================\n",
      "\n",
      "Cycles per second: 5.140e+03\n",
      "Head worker occupation: 0.5%\n",
      "Progress: 19 / 250 total iterations (7.600%)\n",
      "==============================\n",
      "Hall of Fame:\n",
      "-----------------------------------------\n",
      "Complexity  Loss       Score     Equation\n",
      "1           7.662e-01  -0.000e+00  -0.017038457\n",
      "3           6.444e-01  8.652e-02  (0.121009864 * x0)\n",
      "4           3.031e-02  3.057e+00  sin(-1.243762 * x0)\n",
      "6           3.378e-03  1.097e+00  (1.2335105 * sin(-1.252844 * x0))\n",
      "8           3.091e-03  4.453e-02  (-0.016972803 + (1.2335657 * sin(-1.2529194 * x0)))\n",
      "13          2.547e-03  3.868e-02  (1.2339941 * sin((-1.2528946 * x0) + (0.013569279 * (x0 * sin(x0)))))\n",
      "\n",
      "==============================\n",
      "\n",
      "Cycles per second: 5.410e+03\n",
      "Head worker occupation: 0.4%\n",
      "Progress: 22 / 250 total iterations (8.800%)\n",
      "==============================\n",
      "Hall of Fame:\n",
      "-----------------------------------------\n",
      "Complexity  Loss       Score     Equation\n",
      "1           7.662e-01  -0.000e+00  -0.017038457\n",
      "3           6.444e-01  8.652e-02  (0.121009864 * x0)\n",
      "4           3.031e-02  3.057e+00  sin(-1.243762 * x0)\n",
      "6           3.378e-03  1.097e+00  (1.2335105 * sin(-1.252844 * x0))\n",
      "8           3.091e-03  4.453e-02  (-0.016972803 + (1.2335657 * sin(-1.2529194 * x0)))\n",
      "13          2.547e-03  3.868e-02  (1.2339941 * sin((-1.2528946 * x0) + (0.013569279 * (x0 * sin(x0)))))\n",
      "\n",
      "==============================\n",
      "\n",
      "Cycles per second: 5.820e+03\n",
      "Head worker occupation: 0.4%\n",
      "Progress: 24 / 250 total iterations (9.600%)\n",
      "==============================\n",
      "Hall of Fame:\n",
      "-----------------------------------------\n",
      "Complexity  Loss       Score     Equation\n",
      "1           7.662e-01  -0.000e+00  -0.017038457\n",
      "3           6.444e-01  8.652e-02  (0.121009864 * x0)\n",
      "4           3.031e-02  3.057e+00  sin(-1.243762 * x0)\n",
      "6           3.378e-03  1.097e+00  (1.2335105 * sin(-1.252844 * x0))\n",
      "8           3.091e-03  4.453e-02  (-0.016972803 + (1.2335657 * sin(-1.2529194 * x0)))\n",
      "13          2.547e-03  3.868e-02  (1.2339941 * sin((-1.2528946 * x0) + (0.013569279 * (x0 * sin(x0)))))\n",
      "\n",
      "==============================\n",
      "\n",
      "Cycles per second: 5.810e+03\n",
      "Head worker occupation: 0.4%\n",
      "Progress: 25 / 250 total iterations (10.000%)\n",
      "==============================\n",
      "Hall of Fame:\n",
      "-----------------------------------------\n",
      "Complexity  Loss       Score     Equation\n",
      "1           7.662e-01  -0.000e+00  -0.017038457\n",
      "3           6.444e-01  8.652e-02  (0.121009864 * x0)\n",
      "4           3.031e-02  3.057e+00  sin(-1.243762 * x0)\n",
      "6           3.378e-03  1.097e+00  (1.2335105 * sin(-1.252844 * x0))\n",
      "8           3.091e-03  4.453e-02  (-0.016972803 + (1.2335657 * sin(-1.2529194 * x0)))\n",
      "13          2.547e-03  3.868e-02  (1.2339941 * sin((-1.2528946 * x0) + (0.013569279 * (x0 * sin(x0)))))\n",
      "\n",
      "==============================\n",
      "\n",
      "Cycles per second: 6.260e+03\n",
      "Head worker occupation: 0.4%\n",
      "Progress: 28 / 250 total iterations (11.200%)\n",
      "==============================\n",
      "Hall of Fame:\n",
      "-----------------------------------------\n",
      "Complexity  Loss       Score     Equation\n",
      "1           7.662e-01  -0.000e+00  -0.017038457\n",
      "3           6.444e-01  8.652e-02  (0.121009864 * x0)\n",
      "4           3.031e-02  3.057e+00  sin(-1.243762 * x0)\n",
      "6           3.378e-03  1.097e+00  (1.2335105 * sin(-1.252844 * x0))\n",
      "8           3.091e-03  4.453e-02  (-0.016972803 + (1.2335657 * sin(-1.2529194 * x0)))\n",
      "13          2.547e-03  3.868e-02  (1.2339941 * sin((-1.2528946 * x0) + (0.013569279 * (x0 * sin(x0)))))\n",
      "\n",
      "==============================\n",
      "\n",
      "Cycles per second: 6.020e+03\n",
      "Head worker occupation: 0.4%\n",
      "Progress: 29 / 250 total iterations (11.600%)\n",
      "==============================\n",
      "Hall of Fame:\n",
      "-----------------------------------------\n",
      "Complexity  Loss       Score     Equation\n",
      "1           7.662e-01  -0.000e+00  -0.017038457\n",
      "3           6.444e-01  8.652e-02  (0.121009864 * x0)\n",
      "4           3.031e-02  3.057e+00  sin(-1.243762 * x0)\n",
      "6           3.378e-03  1.097e+00  (1.2335105 * sin(-1.252844 * x0))\n",
      "8           3.091e-03  4.453e-02  (-0.016972803 + (1.2335657 * sin(-1.2529194 * x0)))\n",
      "13          2.547e-03  3.868e-02  (1.2339941 * sin((-1.2528946 * x0) + (0.013569279 * (x0 * sin(x0)))))\n",
      "\n",
      "==============================\n",
      "\n",
      "Cycles per second: 6.310e+03\n",
      "Head worker occupation: 0.3%\n",
      "Progress: 31 / 250 total iterations (12.400%)\n",
      "==============================\n",
      "Hall of Fame:\n",
      "-----------------------------------------\n",
      "Complexity  Loss       Score     Equation\n",
      "1           7.662e-01  -0.000e+00  -0.017038457\n",
      "3           6.444e-01  8.652e-02  (0.121009864 * x0)\n",
      "4           3.031e-02  3.057e+00  sin(-1.243762 * x0)\n",
      "6           3.378e-03  1.097e+00  (1.2335105 * sin(-1.252844 * x0))\n",
      "8           3.091e-03  4.453e-02  (-0.016972803 + (1.2335657 * sin(-1.2529194 * x0)))\n",
      "13          2.547e-03  3.868e-02  (1.2339941 * sin((-1.2528946 * x0) + (0.013569279 * (x0 * sin(x0)))))\n",
      "\n",
      "==============================\n",
      "\n",
      "Cycles per second: 6.290e+03\n",
      "Head worker occupation: 0.3%\n",
      "Progress: 34 / 250 total iterations (13.600%)\n",
      "==============================\n",
      "Hall of Fame:\n",
      "-----------------------------------------\n",
      "Complexity  Loss       Score     Equation\n",
      "1           7.662e-01  -0.000e+00  -0.017038457\n",
      "3           6.444e-01  8.652e-02  (0.121009864 * x0)\n",
      "4           3.031e-02  3.057e+00  sin(-1.243762 * x0)\n",
      "6           3.378e-03  1.097e+00  (1.2335105 * sin(-1.252844 * x0))\n",
      "8           3.091e-03  4.453e-02  (-0.016972803 + (1.2335657 * sin(-1.2529194 * x0)))\n",
      "13          2.547e-03  3.868e-02  (1.2339941 * sin((-1.2528946 * x0) + (0.013569279 * (x0 * sin(x0)))))\n",
      "\n",
      "==============================\n",
      "Killing process... will return when done.\n"
     ]
    }
   ],
   "source": [
    "equations = pysr(\n",
    "    x, pred_cf1.flatten(),\n",
    "    populations=50, npop=1500, niterations=5,\n",
    "    binary_operators=[\"+\", \"*\"],\n",
    "    unary_operators=[\"sin\", \"cos\"],\n",
    ")"
   ]
  },
  {
   "cell_type": "code",
   "execution_count": 29,
   "metadata": {},
   "outputs": [
    {
     "data": {
      "text/latex": [
       "$\\displaystyle - \\sin{\\left(1.243762 x_{0} \\right)}$"
      ],
      "text/plain": [
       "-sin(1.243762*x0)"
      ]
     },
     "execution_count": 29,
     "metadata": {},
     "output_type": "execute_result"
    }
   ],
   "source": [
    "# (1.2335105 * sin(-1.252844 * x0)) is actually better, based on the plotting.\n",
    "best(equations)"
   ]
  },
  {
   "cell_type": "markdown",
   "metadata": {},
   "source": [
    "#### The second arg"
   ]
  },
  {
   "cell_type": "code",
   "execution_count": 30,
   "metadata": {},
   "outputs": [
    {
     "name": "stdout",
     "output_type": "stream",
     "text": [
      "Running on julia -O3 --threads 4 /var/folders/z3/_stfms3523dd5mnfr3ch5n100000gp/T/tmpsntcyazc/runfile.jl\n",
      "Started!\n",
      "\n",
      "Cycles per second: 9.630e+03\n",
      "Head worker occupation: 14.0%\n",
      "Progress: 2 / 250 total iterations (0.800%)\n",
      "==============================\n",
      "Hall of Fame:\n",
      "-----------------------------------------\n",
      "Complexity  Loss       Score     Equation\n",
      "1           4.811e-01  -0.000e+00  -1.4871632\n",
      "4           2.747e-01  1.868e-01  (-1.2953185 + cos(x0))\n",
      "6           1.601e-03  2.572e+00  (-1.488726 + cos(1.2587078 * x0))\n",
      "8           1.369e-03  7.831e-02  (-1.4897106 + (0.97821385 * cos(-1.2600102 * x0)))\n",
      "\n",
      "==============================\n",
      "\n",
      "Cycles per second: 7.880e+03\n",
      "Head worker occupation: 7.2%\n",
      "Progress: 3 / 250 total iterations (1.200%)\n",
      "==============================\n",
      "Hall of Fame:\n",
      "-----------------------------------------\n",
      "Complexity  Loss       Score     Equation\n",
      "1           4.811e-01  -0.000e+00  -1.4871632\n",
      "4           2.747e-01  1.868e-01  (-1.2953185 + cos(x0))\n",
      "6           1.601e-03  2.572e+00  (-1.488726 + cos(1.2587078 * x0))\n",
      "8           1.369e-03  7.831e-02  (-1.4897106 + (0.97821385 * cos(-1.2600102 * x0)))\n",
      "\n",
      "==============================\n",
      "\n",
      "Cycles per second: 8.340e+03\n",
      "Head worker occupation: 4.8%\n",
      "Progress: 5 / 250 total iterations (2.000%)\n",
      "==============================\n",
      "Hall of Fame:\n",
      "-----------------------------------------\n",
      "Complexity  Loss       Score     Equation\n",
      "1           4.811e-01  -0.000e+00  -1.4871632\n",
      "4           2.747e-01  1.868e-01  (-1.2953185 + cos(x0))\n",
      "6           1.601e-03  2.572e+00  (-1.488726 + cos(1.2587078 * x0))\n",
      "8           1.369e-03  7.831e-02  (-1.4897106 + (0.97821385 * cos(-1.2600102 * x0)))\n",
      "\n",
      "==============================\n",
      "\n",
      "Cycles per second: 8.060e+03\n",
      "Head worker occupation: 4.0%\n",
      "Progress: 6 / 250 total iterations (2.400%)\n",
      "==============================\n",
      "Hall of Fame:\n",
      "-----------------------------------------\n",
      "Complexity  Loss       Score     Equation\n",
      "1           4.811e-01  -0.000e+00  -1.4871632\n",
      "4           2.747e-01  1.868e-01  (-1.2953185 + cos(x0))\n",
      "6           1.601e-03  2.572e+00  (-1.488726 + cos(1.2587078 * x0))\n",
      "8           1.369e-03  7.831e-02  (-1.4897106 + (0.97821385 * cos(-1.2600102 * x0)))\n",
      "\n",
      "==============================\n",
      "\n",
      "Cycles per second: 7.510e+03\n",
      "Head worker occupation: 3.2%\n",
      "Progress: 7 / 250 total iterations (2.800%)\n",
      "==============================\n",
      "Hall of Fame:\n",
      "-----------------------------------------\n",
      "Complexity  Loss       Score     Equation\n",
      "1           4.811e-01  -0.000e+00  -1.4871632\n",
      "4           2.747e-01  1.868e-01  (-1.2953185 + cos(x0))\n",
      "6           1.601e-03  2.572e+00  (-1.488726 + cos(1.2587078 * x0))\n",
      "8           1.369e-03  7.831e-02  (-1.4897106 + (0.97821385 * cos(-1.2600102 * x0)))\n",
      "\n",
      "==============================\n",
      "\n",
      "Cycles per second: 8.050e+03\n",
      "Head worker occupation: 2.7%\n",
      "Progress: 9 / 250 total iterations (3.600%)\n",
      "==============================\n",
      "Hall of Fame:\n",
      "-----------------------------------------\n",
      "Complexity  Loss       Score     Equation\n",
      "1           4.811e-01  -0.000e+00  -1.4871632\n",
      "4           2.747e-01  1.868e-01  (-1.2953185 + cos(x0))\n",
      "6           1.601e-03  2.572e+00  (-1.488726 + cos(1.2587078 * x0))\n",
      "8           1.369e-03  7.831e-02  (-1.4897106 + (0.97821385 * cos(-1.2600102 * x0)))\n",
      "\n",
      "==============================\n",
      "Killing process... will return when done.\n"
     ]
    }
   ],
   "source": [
    "equations = pysr(\n",
    "    x, pred_cf2.flatten(),\n",
    "    populations=50, npop=1500, niterations=5,\n",
    "    binary_operators=[\"+\", \"*\"],\n",
    "    unary_operators=[\"cos\"],\n",
    ")"
   ]
  },
  {
   "cell_type": "code",
   "execution_count": 31,
   "metadata": {},
   "outputs": [
    {
     "data": {
      "text/latex": [
       "$\\displaystyle \\cos{\\left(1.2587078 x_{0} \\right)} - 1.488726$"
      ],
      "text/plain": [
       "cos(1.2587078*x0) - 1.488726"
      ]
     },
     "execution_count": 31,
     "metadata": {},
     "output_type": "execute_result"
    }
   ],
   "source": [
    "best(equations)"
   ]
  },
  {
   "cell_type": "code",
   "execution_count": 32,
   "metadata": {},
   "outputs": [],
   "source": [
    "# Note: 2*np.pi/5 = 1.2566370614359172\n",
    "\n",
    "### Noisless results ###\n",
    "# Feature importance, noisless, 20000 samples\n",
    "# [u, (t, x), u_x, u_xx, u_xxx, u_xxxx] use this one, (1.2523253 * sin(-1.2530949*x)) | cos(1.2594514*x)−1.5031303\n",
    "# [0.9530, 0.2164, 0.7234, 0.3194, 0.0947, 0.1568]\n",
    "\n",
    "### Clean (x, t) and noisy labels results ###\n",
    "# Feature importance, 20000 samples, (1.2536734 * sin(-1.252591*x)) | cos(1.2590762*x)−1.5028094\n",
    "# [u, (t, x), u_x, u_xx, u_xxx, u_xxxx]\n",
    "# [0.8957, 0.1703, 0.5571, 0.2591, 0.1084, 0.1218]\n",
    "\n",
    "### Noisy (x, t) and noisy labels results ### (Worst)\n",
    "# Feature importance, 20000 samples, (1.2010298 * sin(-1.2499514*x)) | cos(1.2681643*x)−1.4841684\n",
    "# [u, (t, x), u_x, u_xx, u_xxx, u_xxxx]\n",
    "# [0.8290, 0.1519, 0.5936, 0.2880, 0.1105, 0.1368]"
   ]
  },
  {
   "cell_type": "code",
   "execution_count": null,
   "metadata": {},
   "outputs": [],
   "source": []
  }
 ],
 "metadata": {
  "kernelspec": {
   "display_name": "Python 3",
   "language": "python",
   "name": "python3"
  },
  "language_info": {
   "codemirror_mode": {
    "name": "ipython",
    "version": 3
   },
   "file_extension": ".py",
   "mimetype": "text/x-python",
   "name": "python",
   "nbconvert_exporter": "python",
   "pygments_lexer": "ipython3",
   "version": "3.9.8"
  }
 },
 "nbformat": 4,
 "nbformat_minor": 4
}
