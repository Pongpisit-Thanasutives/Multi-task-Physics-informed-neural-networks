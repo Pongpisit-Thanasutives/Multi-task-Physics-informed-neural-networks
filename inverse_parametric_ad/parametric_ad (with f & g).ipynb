{
 "cells": [
  {
   "cell_type": "code",
   "execution_count": 1,
   "metadata": {},
   "outputs": [
    {
     "name": "stdout",
     "output_type": "stream",
     "text": [
      "Populating the interactive namespace from numpy and matplotlib\n"
     ]
    }
   ],
   "source": [
    "%load_ext autoreload\n",
    "%autoreload 2 \n",
    "%reload_ext autoreload\n",
    "%pylab inline\n",
    "%matplotlib inline\n",
    "import matplotlib.pyplot as plt\n",
    "\n",
    "import sys; sys.path.insert(0, \"../\")\n",
    "import sys; sys.path.insert(0, \"../inverse_parametric_burgers/\")\n",
    "\n",
    "import numpy as np\n",
    "from utils import *\n",
    "from parametric_discovery_pinn import ParametricPINN\n",
    "from madgrad import MADGRAD\n",
    "\n",
    "from pde_diff import TrainSTRidge, FiniteDiff, print_pde\n",
    "from robust_pde_diff import print_pde, RobustPCA, Robust_LRSTR, DLrSR\n",
    "from parametric_pde_diff import TrainSGTRidge, create_groups\n",
    "from pytorch_robust_pca import R_pca\n",
    "\n",
    "from scipy.integrate import odeint\n",
    "from numpy.fft import fft, ifft, fftfreq\n",
    "from time import time\n",
    "\n",
    "from pysr import pysr, best\n",
    "\n",
    "fontsize = 20"
   ]
  },
  {
   "cell_type": "code",
   "execution_count": 2,
   "metadata": {},
   "outputs": [
    {
     "name": "stdout",
     "output_type": "stream",
     "text": [
      "Loaded from ../parametric_pde_data/parametric_advection_diffusion.pkl\n"
     ]
    }
   ],
   "source": [
    "data = pickle_load(\"../parametric_pde_data/parametric_advection_diffusion.pkl\")\n",
    "\n",
    "x = data['x']; spatial_dims = x.shape[0]\n",
    "t = data['t']; time_dims = t.shape[0]\n",
    "Exact = data['u']\n",
    "\n",
    "X, T = np.meshgrid(x, t)\n",
    "\n",
    "X_star = np.hstack((to_column_vector(X), to_column_vector(T)))\n",
    "u_star = to_column_vector(Exact.T)\n",
    "\n",
    "# domain bounds\n",
    "lb = X_star.min(axis=0)\n",
    "ub = X_star.max(axis=0)\n",
    "\n",
    "# Sampling training data points\n",
    "N = 20000\n",
    "training_idxs = sampling_from_rows(X_star, N, True)\n",
    "X_train = X_star[training_idxs, :]\n",
    "u_train = u_star[training_idxs, :]\n",
    "\n",
    "# to_tensor\n",
    "X_star = to_tensor(X_star, True)\n",
    "u_star = to_tensor(u_star, False)\n",
    "X_train = to_tensor(X_train, True)\n",
    "u_train = to_tensor(u_train, False)\n",
    "lb = to_tensor(lb, False)\n",
    "ub = to_tensor(ub, False)\n",
    "\n",
    "L = 5\n",
    "u_true = -2*np.pi/L*np.sin(2*x*np.pi/L)\n",
    "u_x_true = -1.5 + 1.0*np.cos(2*x*np.pi/L)\n",
    "u_xx_true = 0.1*np.ones(spatial_dims)\n",
    "\n",
    "eq_name = \"ad\""
   ]
  },
  {
   "cell_type": "code",
   "execution_count": 3,
   "metadata": {},
   "outputs": [
    {
     "data": {
      "text/plain": [
       "ParametricPINN(\n",
       "  (activation_module): Tanh()\n",
       "  (preprocessor_net): Sequential(\n",
       "    (0): Linear(in_features=2, out_features=50, bias=True)\n",
       "    (1): Tanh()\n",
       "    (2): Linear(in_features=50, out_features=50, bias=True)\n",
       "    (3): Tanh()\n",
       "  )\n",
       "  (parametric_func_net): FuncNet(\n",
       "    (activation_module): Tanh()\n",
       "    (preprocessor_net): Linear(in_features=1, out_features=1, bias=True)\n",
       "    (neural_net): Sequential(\n",
       "      (0): Linear(in_features=1, out_features=50, bias=True)\n",
       "      (1): Tanh()\n",
       "      (2): Linear(in_features=50, out_features=3, bias=True)\n",
       "    )\n",
       "  )\n",
       "  (pde_solver_net): Sequential(\n",
       "    (0): Linear(in_features=50, out_features=50, bias=True)\n",
       "    (1): Tanh()\n",
       "    (2): Linear(in_features=50, out_features=50, bias=True)\n",
       "    (3): Tanh()\n",
       "    (4): Linear(in_features=50, out_features=50, bias=True)\n",
       "    (5): Tanh()\n",
       "    (6): Linear(in_features=50, out_features=1, bias=True)\n",
       "  )\n",
       ")"
      ]
     },
     "execution_count": 3,
     "metadata": {},
     "output_type": "execute_result"
    }
   ],
   "source": [
    "pinn = ParametricPINN(n_funcs=3, scale=True, lb=lb, ub=ub, eq_name=eq_name)\n",
    "# print(\"Loaded the pretrained weights\")\n",
    "# pinn.load_state_dict(torch.load(\"./saved_path_inverse_parametric_ad/parametric_pinn_no_fg.pth\"))\n",
    "\n",
    "# new_pinn = ParametricPINN(n_funcs=3, scale=True, lb=lb, ub=ub, eq_name=eq_name)\n",
    "# new_pinn.preprocessor_net.load_state_dict(pinn.preprocessor_net.state_dict())\n",
    "# new_pinn.pde_solver_net.load_state_dict(pinn.pde_solver_net.state_dict())\n",
    "\n",
    "# pinn = new_pinn\n",
    "# del new_pinn\n",
    "pinn"
   ]
  },
  {
   "cell_type": "code",
   "execution_count": 4,
   "metadata": {},
   "outputs": [],
   "source": [
    "def pcgrad_closure(return_list=False):\n",
    "    global N, X_train, u_train\n",
    "    losses = pinn.loss(*dimension_slicing(X_train), u_train)\n",
    "    updated_grads = []\n",
    "    \n",
    "    for i in range(2):\n",
    "        optimizer.zero_grad()\n",
    "        losses[i].backward(retain_graph=True)\n",
    "\n",
    "        g_task = []\n",
    "        for param in pinn.parameters():\n",
    "            if param.grad is not None:\n",
    "                g_task.append(Variable(param.grad.clone(), requires_grad=False))\n",
    "            else:\n",
    "                g_task.append(Variable(torch.zeros(param.shape), requires_grad=False))\n",
    "        # appending the gradients from each task\n",
    "        updated_grads.append(g_task)\n",
    "\n",
    "    updated_grads = list(pcgrad.pc_grad_update(updated_grads))[0]\n",
    "    for idx, param in enumerate(pinn.parameters()):\n",
    "        param.grad = (updated_grads[0][idx]+updated_grads[1][idx])\n",
    "        \n",
    "    if not return_list: return losses[0]+losses[1]\n",
    "    else: return losses"
   ]
  },
  {
   "cell_type": "code",
   "execution_count": 5,
   "metadata": {},
   "outputs": [],
   "source": [
    "def finetuning_closure():\n",
    "    global N, X_train, u_train\n",
    "    if torch.is_grad_enabled(): f_opt.zero_grad()\n",
    "    # the solver network only consider the first N samples.\n",
    "    mse_loss, pde_loss = pinn.loss(*dimension_slicing(X_train), u_train)\n",
    "    loss = mse_loss + pde_loss\n",
    "    if loss.requires_grad: loss.backward(retain_graph=False)\n",
    "    return loss"
   ]
  },
  {
   "cell_type": "code",
   "execution_count": 6,
   "metadata": {},
   "outputs": [
    {
     "name": "stdout",
     "output_type": "stream",
     "text": [
      "0.019794845953583717\n",
      "0.00013888977991882712\n",
      "3.256838317611255e-05\n",
      "2.1700347133446485e-05\n",
      "2.1338504666346125e-05\n",
      "2.1144198399269953e-05\n",
      "1.989890733966604e-05\n",
      "1.9537630578270182e-05\n",
      "1.8925789845525287e-05\n",
      "1.8082495444105007e-05\n",
      "1.7376363757648505e-05\n",
      "1.6665711882524192e-05\n",
      "1.6456880985060707e-05\n",
      "1.6346566553693265e-05\n",
      "1.6275516827590764e-05\n",
      "1.620727198314853e-05\n",
      "1.601122676220257e-05\n",
      "1.5963476471370086e-05\n",
      "1.5945202903822064e-05\n",
      "1.5945202903822064e-05\n"
     ]
    }
   ],
   "source": [
    "optimizer = MADGRAD(pinn.parameters(), lr=1e-6, momentum=0.9)\n",
    "for i in range(150):\n",
    "    pinn.train()\n",
    "    optimizer.step(pcgrad_closure)\n",
    "    if i%10==0:\n",
    "        loss = pcgrad_closure(return_list=True)\n",
    "        print(loss)\n",
    "        \n",
    "f_opt = torch.optim.LBFGS(pinn.parameters(), lr=1e-1, max_iter=500, max_eval=int(1.25*500), history_size=300, line_search_fn='strong_wolfe')\n",
    "for i in range(200):\n",
    "    f_opt.step(finetuning_closure)\n",
    "    if i%10==0:\n",
    "        loss = finetuning_closure()\n",
    "        print(loss.item())"
   ]
  },
  {
   "cell_type": "code",
   "execution_count": 7,
   "metadata": {},
   "outputs": [
    {
     "data": {
      "text/plain": [
       "tensor(1.2301e-05, grad_fn=<MseLossBackward>)"
      ]
     },
     "execution_count": 7,
     "metadata": {},
     "output_type": "execute_result"
    }
   ],
   "source": [
    "F.mse_loss(pinn(*dimension_slicing(X_star))[0], u_star)"
   ]
  },
  {
   "cell_type": "code",
   "execution_count": 8,
   "metadata": {},
   "outputs": [],
   "source": [
    "u_preds, learned_func = pinn(*dimension_slicing(X_star))\n",
    "learned_func1 = learned_func[:, 0:1].reshape(X.shape).mean(axis=0).detach().numpy()\n",
    "learned_func2 = learned_func[:, 1:2].reshape(X.shape).mean(axis=0).detach().numpy()\n",
    "learned_func3 = learned_func[:, 2:3].reshape(X.shape).mean(axis=0).detach().numpy()"
   ]
  },
  {
   "cell_type": "code",
   "execution_count": 9,
   "metadata": {},
   "outputs": [
    {
     "name": "stdout",
     "output_type": "stream",
     "text": [
      "0.005829576807788755\n",
      "0.0018759516610899\n",
      "0.000466546516611277\n"
     ]
    }
   ],
   "source": [
    "print(np.mean((learned_func1-u_true)**2))\n",
    "print(np.mean((learned_func2-u_x_true)**2))\n",
    "print(np.mean((learned_func3-u_xx_true)**2))"
   ]
  },
  {
   "cell_type": "code",
   "execution_count": 10,
   "metadata": {},
   "outputs": [
    {
     "data": {
      "image/png": "[encoded data removed]",
      "text/plain": [
       "<Figure size 432x288 with 1 Axes>"
      ]
     },
     "metadata": {
      "needs_background": "light"
     },
     "output_type": "display_data"
    }
   ],
   "source": [
    "plt.scatter(x, u_true)\n",
    "plt.scatter(x, learned_func1)\n",
    "plt.show()"
   ]
  },
  {
   "cell_type": "code",
   "execution_count": 11,
   "metadata": {},
   "outputs": [
    {
     "data": {
      "image/png": "[encoded data removed]",
      "text/plain": [
       "<Figure size 432x288 with 1 Axes>"
      ]
     },
     "metadata": {
      "needs_background": "light"
     },
     "output_type": "display_data"
    }
   ],
   "source": [
    "plt.scatter(x, u_x_true)\n",
    "plt.scatter(x, learned_func2)\n",
    "plt.show()"
   ]
  },
  {
   "cell_type": "code",
   "execution_count": 14,
   "metadata": {},
   "outputs": [],
   "source": [
    "save(pinn, \"parametric_pinn_with_fg.pth\")"
   ]
  },
  {
   "cell_type": "code",
   "execution_count": 23,
   "metadata": {},
   "outputs": [
    {
     "name": "stdout",
     "output_type": "stream",
     "text": [
      "Running on julia -O3 /var/folders/z3/_stfms3523dd5mnfr3ch5n100000gp/T/tmpfroh__uh/runfile.jl\n",
      "Activating environment on workers.\n",
      "      From worker 4:\t  Activating environment at `/usr/local/lib/python3.9/site-packages/Project.toml`\n",
      "      From worker 3:\t  Activating environment at `/usr/local/lib/python3.9/site-packages/Project.toml`\n",
      "      From worker 5:\t  Activating environment at `/usr/local/lib/python3.9/site-packages/Project.toml`\n",
      "      From worker 2:\t  Activating environment at `/usr/local/lib/python3.9/site-packages/Project.toml`\n",
      "Importing installed module on workers...Finished!\n",
      "Testing module on workers...Finished!\n",
      "Testing entire pipeline on workers...Finished!\n",
      "Started!\n",
      "\n",
      "Cycles per second: 2.420e+03\n",
      "Head worker occupation: 4.6%\n",
      "Progress: 1 / 250 total iterations (0.400%)\n",
      "==============================\n",
      "Hall of Fame:\n",
      "-----------------------------------------\n",
      "Complexity  Loss       Score     Equation\n",
      "1           7.948e-01  -0.000e+00  -0.0039955135\n",
      "3           6.555e-01  9.635e-02  (0.12929986 * x0)\n",
      "4           3.525e-02  2.923e+00  sin(-1.231026 * x0)\n",
      "6           4.203e-03  1.063e+00  (1.2495854 * sin(-1.2408444 * x0))\n",
      "8           3.775e-03  5.370e-02  (1.2499828 * sin(-0.023560295 + (-1.2409184 * x0)))\n",
      "11          2.259e-03  1.711e-01  (1.2401067 * sin(sin(-0.24857283 * x0) + (-1.0300225 * x0)))\n",
      "\n",
      "==============================\n",
      "Killing process... will return when done.\n",
      "-sin(1.231026*x0)\n"
     ]
    }
   ],
   "source": [
    "equations = pysr(\n",
    "    x, learned_func1,\n",
    "    populations=50, npop=2000, niterations=5,\n",
    "    binary_operators=[\"+\", \"*\"],\n",
    "    unary_operators=[\"sin\", \"cos\"],\n",
    ")\n",
    "# learned_func1: sin(-1.231026 * x0)\n",
    "# learned_func2: cos(1.2608153*x0) - 1.5014627\n",
    "# learned_func3: 0.09376708 (Constant)\n",
    "print(best(equations))"
   ]
  },
  {
   "cell_type": "code",
   "execution_count": 22,
   "metadata": {},
   "outputs": [
    {
     "name": "stdout",
     "output_type": "stream",
     "text": [
      "Running on julia -O3 /var/folders/z3/_stfms3523dd5mnfr3ch5n100000gp/T/tmp59pbn8cx/runfile.jl\n",
      "Activating environment on workers.\n",
      "      From worker 4:\t  Activating environment at `/usr/local/lib/python3.9/site-packages/Project.toml`\n",
      "      From worker 5:\t  Activating environment at `/usr/local/lib/python3.9/site-packages/Project.toml`\n",
      "      From worker 3:\t  Activating environment at `/usr/local/lib/python3.9/site-packages/Project.toml`\n",
      "      From worker 2:\t  Activating environment at `/usr/local/lib/python3.9/site-packages/Project.toml`\n",
      "Importing installed module on workers...Finished!\n",
      "Testing module on workers...Finished!\n",
      "Testing entire pipeline on workers...Finished!\n",
      "Started!\n",
      "\n",
      "Cycles per second: 1.820e+03\n",
      "Head worker occupation: 3.8%\n",
      "Progress: 1 / 250 total iterations (0.400%)\n",
      "==============================\n",
      "Hall of Fame:\n",
      "-----------------------------------------\n",
      "Complexity  Loss       Score     Equation\n",
      "1           4.900e-01  -0.000e+00  -1.4981421\n",
      "4           2.741e-01  1.936e-01  (cos(x0) + -1.3023497)\n",
      "6           2.463e-01  5.349e-02  (-1.3547968 + (0.74752414 * cos(x0)))\n",
      "7           1.368e-01  5.879e-01  (-2.078443 * cos(cos(-0.6500595 * x0)))\n",
      "9           1.754e-03  2.178e+00  (-2.52643 * cos(1.3501185 * cos(0.62930095 * x0)))\n",
      "11          1.554e-03  6.051e-02  (1.4939567 + (-4.0046835 * cos(1.0390395 * cos(-0.6299525 * x0))))\n",
      "\n",
      "==============================\n",
      "\n",
      "Cycles per second: 1.260e+03\n",
      "Head worker occupation: 1.2%\n",
      "Progress: 2 / 250 total iterations (0.800%)\n",
      "==============================\n",
      "Hall of Fame:\n",
      "-----------------------------------------\n",
      "Complexity  Loss       Score     Equation\n",
      "1           4.900e-01  -0.000e+00  -1.4981421\n",
      "4           2.741e-01  1.936e-01  (cos(x0) + -1.3023497)\n",
      "6           1.817e-03  2.508e+00  (-1.5014627 + cos(1.2608153 * x0))\n",
      "8           1.683e-03  3.815e-02  (-1.5016649 + cos(-0.01651464 + (1.2610594 * x0)))\n",
      "11          1.554e-03  2.668e-02  (1.4939567 + (-4.0046835 * cos(1.0390395 * cos(-0.6299525 * x0))))\n",
      "\n",
      "==============================\n",
      "\n",
      "Cycles per second: 5.670e+03\n",
      "Head worker occupation: 13.0%\n",
      "Progress: 6 / 250 total iterations (2.400%)\n",
      "==============================\n",
      "Hall of Fame:\n",
      "-----------------------------------------\n",
      "Complexity  Loss       Score     Equation\n",
      "1           4.900e-01  -0.000e+00  -1.4981421\n",
      "4           2.741e-01  1.936e-01  (cos(x0) + -1.3023497)\n",
      "6           1.817e-03  2.508e+00  (-1.5014627 + cos(1.2608153 * x0))\n",
      "8           1.683e-03  3.815e-02  (-1.5016649 + cos(-0.01651464 + (1.2610594 * x0)))\n",
      "11          1.554e-03  2.668e-02  (1.4939567 + (-4.0046835 * cos(1.0390395 * cos(-0.6299525 * x0))))\n",
      "\n",
      "==============================\n",
      "\n",
      "Cycles per second: 1.320e+04\n",
      "Head worker occupation: 12.6%\n",
      "Progress: 9 / 250 total iterations (3.600%)\n",
      "==============================\n",
      "Hall of Fame:\n",
      "-----------------------------------------\n",
      "Complexity  Loss       Score     Equation\n",
      "1           4.900e-01  -0.000e+00  -1.4981421\n",
      "4           2.741e-01  1.936e-01  (cos(x0) + -1.3023497)\n",
      "6           1.817e-03  2.508e+00  (-1.5014627 + cos(1.2608153 * x0))\n",
      "8           1.683e-03  3.815e-02  (-1.5016649 + cos(-0.01651464 + (1.2610594 * x0)))\n",
      "11          1.554e-03  2.668e-02  (1.4939567 + (-4.0046835 * cos(1.0390395 * cos(-0.6299525 * x0))))\n",
      "\n",
      "==============================\n",
      "Killing process... will return when done.\n",
      "cos(1.2608153*x0) - 1.5014627\n"
     ]
    }
   ],
   "source": [
    "equations = pysr(\n",
    "    x, learned_func2,\n",
    "    populations=50, npop=2000, niterations=5,\n",
    "    binary_operators=[\"+\", \"*\"],\n",
    "    unary_operators=[\"sin\", \"cos\"],\n",
    ")\n",
    "print(best(equations))"
   ]
  },
  {
   "cell_type": "code",
   "execution_count": null,
   "metadata": {},
   "outputs": [],
   "source": []
  }
 ],
 "metadata": {
  "kernelspec": {
   "display_name": "Python 3",
   "language": "python",
   "name": "python3"
  },
  "language_info": {
   "codemirror_mode": {
    "name": "ipython",
    "version": 3
   },
   "file_extension": ".py",
   "mimetype": "text/x-python",
   "name": "python",
   "nbconvert_exporter": "python",
   "pygments_lexer": "ipython3",
   "version": "3.9.7"
  }
 },
 "nbformat": 4,
 "nbformat_minor": 4
}
