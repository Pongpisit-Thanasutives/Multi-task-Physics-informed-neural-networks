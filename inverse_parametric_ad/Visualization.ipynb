{
 "cells": [
  {
   "cell_type": "code",
   "execution_count": 1,
   "metadata": {},
   "outputs": [
    {
     "name": "stdout",
     "output_type": "stream",
     "text": [
      "Populating the interactive namespace from numpy and matplotlib\n",
      "Running Python 3.9.8\n",
      "You can use npar for np.array\n"
     ]
    }
   ],
   "source": [
    "%load_ext autoreload\n",
    "%autoreload 2 \n",
    "%reload_ext autoreload\n",
    "%pylab inline\n",
    "\n",
    "# plotting\n",
    "%matplotlib inline\n",
    "import matplotlib.pyplot as plt\n",
    "plt.rcParams.update({'font.size': 10})\n",
    "plt.style.use('science')\n",
    "import matplotlib.gridspec as gridspec\n",
    "from mpl_toolkits.axes_grid1 import make_axes_locatable\n",
    "\n",
    "import sys; sys.path.insert(0, \"../\")\n",
    "import sys; sys.path.insert(0, \"../inverse_parametric_burgers/\")\n",
    "\n",
    "import numpy as np\n",
    "from utils import *\n",
    "from models import RobustPCANN\n",
    "from parametric_discovery_pinn import ParametricPINN, FinalParametricPINN\n",
    "from madgrad import MADGRAD\n",
    "\n",
    "from pde_diff import TrainSTRidge, FiniteDiff, print_pde\n",
    "from robust_pde_diff import print_pde, RobustPCA, Robust_LRSTR, DLrSR\n",
    "from parametric_pde_diff import TrainSGTRidge, create_groups\n",
    "from pytorch_robust_pca import R_pca\n",
    "\n",
    "from scipy.integrate import odeint\n",
    "from numpy.fft import fft, ifft, fftfreq\n",
    "from time import time\n",
    "\n",
    "from pysr import pysr, best\n",
    "\n",
    "fontsize = 20"
   ]
  },
  {
   "cell_type": "code",
   "execution_count": 2,
   "metadata": {},
   "outputs": [
    {
     "name": "stdout",
     "output_type": "stream",
     "text": [
      "Loaded from ../parametric_pde_data/parametric_advection_diffusion.pkl\n",
      "Denoising on\n",
      "Clean (x, t)\n",
      "Clean labels\n"
     ]
    }
   ],
   "source": [
    "data = pickle_load(\"../parametric_pde_data/parametric_advection_diffusion.pkl\")\n",
    "\n",
    "x = data['x']; spatial_dims = x.shape[0]\n",
    "t = data['t']; time_dims = t.shape[0]\n",
    "Exact = data['u']\n",
    "\n",
    "X, T = np.meshgrid(x, t)\n",
    "\n",
    "# Adding noise\n",
    "noise_intensity = 0.01\n",
    "NOISELESS_MODE = False\n",
    "if NOISELESS_MODE: print(\"Denoising off\")\n",
    "else: print(\"Denoising on\")\n",
    "noisy_xt = False; noisy_labels = False; mode = int(noisy_xt)+int(noisy_labels)\n",
    "\n",
    "X_star = np.hstack((to_column_vector(X), to_column_vector(T)))\n",
    "u_star = to_column_vector(Exact.T)\n",
    "\n",
    "# domain bounds\n",
    "lb = X_star.min(axis=0)\n",
    "ub = X_star.max(axis=0)\n",
    "\n",
    "# Sampling training data points\n",
    "N = 25000\n",
    "training_idxs = sampling_from_rows(X_star, N, True)\n",
    "X_train = X_star[training_idxs, :]\n",
    "u_train = u_star[training_idxs, :]\n",
    "\n",
    "# Add noise to (x, t) before setting the lb, and ub.\n",
    "if noisy_xt: \n",
    "    print(\"Noisy (x, t)\")\n",
    "    X_train = perturb(X_train, intensity=noise_intensity, noise_type=\"normal\")\n",
    "else: print(\"Clean (x, t)\")\n",
    "if noisy_labels:\n",
    "    print(\"Noisy labels\")\n",
    "    u_train = perturb(u_train, intensity=noise_intensity, noise_type=\"normal\")\n",
    "else: print(\"Clean labels\")\n",
    "\n",
    "# to_tensor\n",
    "X_star = to_tensor(X_star, True)\n",
    "u_star = to_tensor(u_star, False)\n",
    "X_train = to_tensor(X_train, True)\n",
    "u_train = to_tensor(u_train, False)\n",
    "lb = to_tensor(lb, False)\n",
    "ub = to_tensor(ub, False)\n",
    "\n",
    "L = 5\n",
    "u_true = -2*np.pi/L*np.sin(2*x*np.pi/L)\n",
    "u_x_true = -1.5 + 1.0*np.cos(2*x*np.pi/L)\n",
    "u_xx_true = 0.1*np.ones(spatial_dims)\n",
    "\n",
    "eq_name = \"ad\""
   ]
  },
  {
   "cell_type": "code",
   "execution_count": 3,
   "metadata": {},
   "outputs": [],
   "source": [
    "x, t = dimension_slicing(X_train)"
   ]
  },
  {
   "cell_type": "code",
   "execution_count": 4,
   "metadata": {},
   "outputs": [],
   "source": [
    "# Clean all: (1.2523253 * sin(-1.2530949*x)) | cos(1.2594514*x)−1.5031303\n",
    "# Noisy1: (1.2536734 * sin(-1.252591*x)) | cos(1.2590762*x)−1.5028094\n",
    "# Noisy2: (1.2010298 * sin(-1.2499514*x)) | cos(1.2681643*x)−1.4841684"
   ]
  },
  {
   "cell_type": "code",
   "execution_count": 5,
   "metadata": {},
   "outputs": [
    {
     "name": "stdout",
     "output_type": "stream",
     "text": [
      "Loaded the model's weights properly\n"
     ]
    }
   ],
   "source": [
    "pinn = ParametricPINN(n_funcs=3, scale=True, lb=lb, ub=ub, eq_name=eq_name)\n",
    "pinn = load_weights(pinn, \"./saved_path_inverse_parametric_ad/parametric_pinn_with_fg.pth\")\n",
    "model = nn.Sequential(pinn.preprocessor_net, pinn.pde_solver_net)\n",
    "\n",
    "pde_terms = [\"u\", \"u_x\", \"u_xx\"]\n",
    "\n",
    "if mode == 0 or mode > 2: \n",
    "    func_terms = [\"-1.2523253*sin(1.2530949*x)\", \"cos(1.2594514*x)-1.5031303\", \"0.09376708\"]\n",
    "    name = \"cleanall\"\n",
    "elif mode == 1: \n",
    "    func_terms = [\"-1.2536734*sin(1.2536734*x)\", \"cos(1.2608153*x)-1.5014627\", \"0.09376708\"]\n",
    "    name = \"noisy1\"\n",
    "elif mode == 2: \n",
    "    func_terms = [\"-1.2010298*sin(1.2010298*x)\", \"cos(1.2608153*x)-1.5014627\", \"0.09376708\"]\n",
    "    name = \"noisy2\"\n",
    "\n",
    "final_ad_pinn = FinalParametricPINN(model=model, pde_terms=pde_terms, \n",
    "                                        func_terms=func_terms, uncert=True, \n",
    "                                        scale=pinn.scale, lb=pinn.lb, ub=pinn.ub, \n",
    "                                        trainable_one=True\n",
    "                                       )\n",
    "del pinn"
   ]
  },
  {
   "cell_type": "code",
   "execution_count": 6,
   "metadata": {},
   "outputs": [
    {
     "name": "stdout",
     "output_type": "stream",
     "text": [
      "[tensor(-1.2523), tensor(1.2531)]\n",
      "[tensor(-1.5031), tensor(1.2595)]\n",
      "[tensor(0.0938)]\n"
     ]
    }
   ],
   "source": [
    "for i in range(3): print(see_params(final_ad_pinn.pdc.funcs[i]))"
   ]
  },
  {
   "cell_type": "code",
   "execution_count": 7,
   "metadata": {},
   "outputs": [],
   "source": [
    "_, x_fft, x_PSD = fft1d_denoise(X_train[:, 0:1], c=-5, return_real=True)\n",
    "_, t_fft, t_PSD = fft1d_denoise(X_train[:, 1:2], c=-5, return_real=True)\n",
    "_, u_train_fft, u_train_PSD = fft1d_denoise(u_train, c=-5, return_real=True)\n",
    "x_fft, x_PSD = x_fft.detach(), x_PSD.detach()\n",
    "t_fft, t_PSD = t_fft.detach(), t_PSD.detach()"
   ]
  },
  {
   "cell_type": "code",
   "execution_count": 8,
   "metadata": {},
   "outputs": [],
   "source": [
    "### New implementation ###\n",
    "class RobustFinalParametricPINN(nn.Module):\n",
    "    def __init__(self, pinn, init_cs=(0.1, 0.1), init_betas=(0.0, 0.0), noiseless_mode=True):\n",
    "        super(RobustFinalParametricPINN, self).__init__()\n",
    "        self.pinn = pinn\n",
    "        self.noiseless_mode = noiseless_mode\n",
    "        self.in_fft_nn = None; self.out_fft_nn = None\n",
    "        self.inp_rpca = None; self.out_rpca = None\n",
    "        if not self.noiseless_mode:\n",
    "            # FFTNN\n",
    "            self.in_fft_nn = FFTTh(c=init_cs[0])\n",
    "            self.out_fft_nn = FFTTh(c=init_cs[1])\n",
    "\n",
    "            # Robust Beta-PCA\n",
    "            self.inp_rpca = RobustPCANN(beta=init_betas[0], is_beta_trainable=True, inp_dims=2, hidden_dims=32)\n",
    "            self.out_rpca = RobustPCANN(beta=init_betas[1], is_beta_trainable=True, inp_dims=1, hidden_dims=32)\n",
    "\n",
    "    def forward(self, x, t):\n",
    "        return self.pinn(x, t)\n",
    "\n",
    "    def loss(self, X_input, X_input_noise, y_input, y_input_noise):\n",
    "        if not self.noiseless_mode:\n",
    "            # (1) Denoising FFT on (x, t)\n",
    "            # This line returns the approx. recon.\n",
    "            X_input_noise = cat(torch.fft.ifft(self.in_fft_nn(X_input_noise[1])*X_input_noise[0]).real.reshape(-1, 1), \n",
    "                                torch.fft.ifft(self.in_fft_nn(X_input_noise[3])*X_input_noise[2]).real.reshape(-1, 1))\n",
    "            X_input_noise = X_input-X_input_noise\n",
    "            X_input = self.inp_rpca(X_input, X_input_noise, normalize=True)\n",
    "            \n",
    "            # (2) Denoising FFT on y_input\n",
    "            y_input_noise = y_input-torch.fft.ifft(self.out_fft_nn(y_input_noise[1])*y_input_noise[0]).real.reshape(-1, 1)\n",
    "            y_input = self.out_rpca(y_input, y_input_noise, normalize=True)\n",
    "            \n",
    "        return self.pinn.loss(X_input[:, 0:1], X_input[:, 1:2], y_input)"
   ]
  },
  {
   "cell_type": "code",
   "execution_count": 9,
   "metadata": {},
   "outputs": [],
   "source": [
    "robust_ad_pinn = RobustFinalParametricPINN(pinn=final_ad_pinn, noiseless_mode=NOISELESS_MODE)"
   ]
  },
  {
   "cell_type": "code",
   "execution_count": 10,
   "metadata": {},
   "outputs": [],
   "source": [
    "def pcgrad_closure(return_list=False):\n",
    "    global N, x, t, u_train\n",
    "    losses = robust_ad_pinn.loss(X_train, (x_fft, x_PSD, t_fft, t_PSD), u_train, (u_train_fft, u_train_PSD))\n",
    "    updated_grads = []\n",
    "    \n",
    "    for i in range(2):\n",
    "        optimizer.zero_grad()\n",
    "        losses[i].backward(retain_graph=True)\n",
    "\n",
    "        g_task = []\n",
    "        for param in final_ad_pinn.parameters():\n",
    "            if param.grad is not None:\n",
    "                g_task.append(Variable(param.grad.clone(), requires_grad=False))\n",
    "            else:\n",
    "                g_task.append(Variable(torch.zeros(param.shape), requires_grad=False))\n",
    "        # appending the gradients from each task\n",
    "        updated_grads.append(g_task)\n",
    "\n",
    "    updated_grads = list(pcgrad.pc_grad_update(updated_grads))[0]\n",
    "    for idx, param in enumerate(final_ad_pinn.parameters()):\n",
    "        param.grad = (updated_grads[0][idx]+updated_grads[1][idx])\n",
    "        \n",
    "    if not return_list: return losses[0]+losses[1]\n",
    "    else: return losses"
   ]
  },
  {
   "cell_type": "code",
   "execution_count": 11,
   "metadata": {},
   "outputs": [],
   "source": [
    "def finetuning_closure():\n",
    "    global N, x, t, u_train\n",
    "    if torch.is_grad_enabled(): f_opt.zero_grad()\n",
    "    # the solver network only consider the first N samples.\n",
    "    mse_loss, pde_loss = robust_ad_pinn.loss(X_train, (x_fft, x_PSD, t_fft, t_PSD), u_train, (u_train_fft, u_train_PSD))\n",
    "    loss = mse_loss + pde_loss\n",
    "    if loss.requires_grad: loss.backward(retain_graph=False)\n",
    "    return loss"
   ]
  },
  {
   "cell_type": "code",
   "execution_count": 12,
   "metadata": {},
   "outputs": [],
   "source": [
    "# optimizer = MADGRAD(robust_ad_pinn.parameters(), lr=1e-6, momentum=0.9)\n",
    "# for i in range(150):\n",
    "#     final_ad_pinn.train()\n",
    "#     optimizer.step(pcgrad_closure)\n",
    "#     if i%10==0: print(pcgrad_closure(return_list=True))\n",
    "        \n",
    "# f_opt = torch.optim.LBFGS(robust_ad_pinn.parameters(), lr=1e-1, max_iter=500, max_eval=int(1.25*500), history_size=300, line_search_fn='strong_wolfe')\n",
    "# # final_ad_pinn.is_uncert = False\n",
    "# for i in range(50):\n",
    "#     f_opt.step(finetuning_closure)\n",
    "#     if i%10==0: print(finetuning_closure())"
   ]
  },
  {
   "cell_type": "code",
   "execution_count": 13,
   "metadata": {},
   "outputs": [
    {
     "name": "stdout",
     "output_type": "stream",
     "text": [
      "Loaded the model's weights properly\n"
     ]
    }
   ],
   "source": [
    "if mode == 0: weights_path = \"./saved_path_inverse_parametric_ad/cleanall_final_finetuned_robust_pinn.pth\"\n",
    "if mode == 1: weights_path = \"./saved_path_inverse_parametric_ad/noisy1_final_finetuned_robust_pinn.pth\"\n",
    "if mode == 2: weights_path = \"./saved_path_inverse_parametric_ad/noisy2_final_finetuned_robust_pinn.pth\"\n",
    "robust_ad_pinn = load_weights(robust_ad_pinn, weights_path)"
   ]
  },
  {
   "cell_type": "code",
   "execution_count": 14,
   "metadata": {},
   "outputs": [
    {
     "data": {
      "text/plain": [
       "2.2811040878423228e-07"
      ]
     },
     "execution_count": 14,
     "metadata": {},
     "output_type": "execute_result"
    }
   ],
   "source": [
    "F.mse_loss(robust_ad_pinn(X_star[:, 0:1], X_star[:, 1:2]), u_star).item()"
   ]
  },
  {
   "cell_type": "code",
   "execution_count": 15,
   "metadata": {},
   "outputs": [
    {
     "name": "stdout",
     "output_type": "stream",
     "text": [
      "0.0010589083\n"
     ]
    }
   ],
   "source": [
    "u_pred = robust_ad_pinn(X_star[:, 0:1], X_star[:, 1:2]).detach().numpy()\n",
    "print(relative_l2_error(u_pred, u_star.detach().numpy()))\n",
    "u_pred = u_pred.reshape(X.shape)"
   ]
  },
  {
   "cell_type": "code",
   "execution_count": 16,
   "metadata": {},
   "outputs": [
    {
     "data": {
      "image/png": "[encoded data removed]",
      "text/plain": [
       "<Figure size 252x189 with 2 Axes>"
      ]
     },
     "metadata": {
      "needs_background": "light"
     },
     "output_type": "display_data"
    }
   ],
   "source": [
    "fig, ax = plt.subplots(1, 1)\n",
    "\n",
    "h = ax.imshow(Exact.T, interpolation='nearest', cmap='jet', \n",
    "          extent=[lb[0], ub[0], lb[1], ub[1]], \n",
    "          origin='lower', aspect='auto')\n",
    "\n",
    "ax.set_title(\"Exact Dynamics: $u_{t} = c^{\\prime}(x)u+c(x)u_{x}+\\epsilon u_{xx}$\\n $c(x)=-1.5+\\cos(0.4\\pi x)$, $\\epsilon = 0.1$\", fontsize = 10)\n",
    "ax.set_xlabel('x')\n",
    "ax.set_ylabel('t')\n",
    "\n",
    "divider = make_axes_locatable(ax)\n",
    "cax = divider.append_axes(\"right\", size=\"5%\", pad=0.05)\n",
    "fig.colorbar(h, cax=cax)\n",
    "\n",
    "fig.savefig(f\"./vis_pics/Exact_Dynamics.png\", dpi=300)\n",
    "plt.show()"
   ]
  },
  {
   "cell_type": "code",
   "execution_count": 17,
   "metadata": {},
   "outputs": [
    {
     "data": {
      "image/png": "[encoded data removed]",
      "text/plain": [
       "<Figure size 252x189 with 2 Axes>"
      ]
     },
     "metadata": {
      "needs_background": "light"
     },
     "output_type": "display_data"
    }
   ],
   "source": [
    "fig, ax = plt.subplots(1, 1)\n",
    "\n",
    "h = ax.imshow(u_pred, interpolation='nearest', cmap='jet', \n",
    "          extent=[lb[0], ub[0], lb[1], ub[1]], \n",
    "          origin='lower', aspect='auto')\n",
    "\n",
    "# ax.set_title(\"Exact Dynamics: $u_{t} = c^{\\prime}(x)u+c(x)u_{x}+\\epsilon u_{xx}$\\n $c(x)=-1.5+\\cos(0.4\\pi x)$, $\\epsilon = 0.1$\", fontsize = 10)\n",
    "if mode == 0: ax.set_title(\"Learned Dynamics: $u_{t} = a(x)u+b(x)u_{x}+\\epsilon u_{xx}$\\n $a(x)=-1.256\\sin(1.257x)$,\\n $b(x)=-1.500+\\cos(1.257 x)$, $\\epsilon = 0.100$\", fontsize = 10)\n",
    "if mode == 1: ax.set_title(\"Learned Dynamics: $u_{t} = a(x)u+b(x)u_{x}+\\epsilon u_{xx}$\\n $a(x)=-1.257\\sin(1.257x)$,\\n $b(x)=-1.500+\\cos(1.257 x)$, $\\epsilon = 0.100$\", fontsize = 10)\n",
    "if mode == 2: ax.set_title(\"Learned Dynamics: $u_{t} = a(x)u+b(x)u_{x}+\\epsilon u_{xx}$\\n $a(x)=-1.256\\sin(1.258x)$,\\n $b(x)=-1.499+\\cos(1.256 x)$, $\\epsilon = 0.100$\", fontsize = 10)\n",
    "ax.set_xlabel('x')\n",
    "ax.set_ylabel('t')\n",
    "\n",
    "divider = make_axes_locatable(ax)\n",
    "cax = divider.append_axes(\"right\", size=\"5%\", pad=0.05)\n",
    "fig.colorbar(h, cax=cax)\n",
    "\n",
    "fig.savefig(f\"./vis_pics/Learned_Dynamics_{name}.png\", dpi=300)\n",
    "plt.show()"
   ]
  },
  {
   "cell_type": "code",
   "execution_count": 18,
   "metadata": {},
   "outputs": [],
   "source": [
    "# w/ DFT\n",
    "# Clean all\n",
    "# array([-1.25622261,  1.25651634, -1.49988151,  1.25663877,  0.09995594])\n",
    "# (0.018936938168554983, 0.01667836126337147)\n",
    "# Noisy1 | relative l2 error = 0.001746914\n",
    "# array([-1.25678468,  1.25660324, -1.49969542,  1.2565794 ,  0.10003757])\n",
    "# (0.015379903264666196, 0.012705832108171925)\n",
    "# Noisy2\n",
    "# array([-1.2556591 ,  1.2577163 , -1.49899721,  1.25608265,  0.10037906])\n",
    "# (0.13074689872742037, 0.12494693424397522)"
   ]
  },
  {
   "cell_type": "code",
   "execution_count": 19,
   "metadata": {},
   "outputs": [],
   "source": [
    "# ax.set_title(\"Learned Dynamics $u_{t} = a(x)u+b(x)u_{x}+\\epsilon u_{xx}$\\n $a(x)=-1.256+\\sin(1.257x)$, $b(x)=-1.500+\\cos(1.257 x)$, $\\epsilon = 0.100$\", fontsize = 10)\n",
    "# ax.set_title(\"Learned Dynamics $u_{t} = a(x)u+b(x)u_{x}+\\epsilon u_{xx}$\\n $a(x)=-1.257+\\sin(1.257x)$, $b(x)=-1.500+\\cos(1.257 x)$, $\\epsilon = 0.100$\", fontsize = 10)\n",
    "# ax.set_title(\"Learned Dynamics $u_{t} = a(x)u+b(x)u_{x}+\\epsilon u_{xx}$\\n $a(x)=-1.256+\\sin(1.258x)$, $b(x)=-1.499+\\cos(1.256 x)$, $\\epsilon = 0.100$\", fontsize = 10)"
   ]
  },
  {
   "cell_type": "code",
   "execution_count": null,
   "metadata": {},
   "outputs": [],
   "source": []
  },
  {
   "cell_type": "code",
   "execution_count": null,
   "metadata": {},
   "outputs": [],
   "source": []
  },
  {
   "cell_type": "code",
   "execution_count": null,
   "metadata": {},
   "outputs": [],
   "source": []
  },
  {
   "cell_type": "code",
   "execution_count": null,
   "metadata": {},
   "outputs": [],
   "source": []
  },
  {
   "cell_type": "code",
   "execution_count": 20,
   "metadata": {},
   "outputs": [
    {
     "name": "stdout",
     "output_type": "stream",
     "text": [
      "[tensor(-1.2564), tensor(1.2565)]\n",
      "[tensor(-1.4998), tensor(1.2566)]\n",
      "[tensor(0.1000)]\n"
     ]
    }
   ],
   "source": [
    "for i in range(3): print(see_params(final_ad_pinn.pdc.funcs[i]))"
   ]
  },
  {
   "cell_type": "code",
   "execution_count": 21,
   "metadata": {},
   "outputs": [],
   "source": [
    "cc = 2.0*np.pi/5.0"
   ]
  },
  {
   "cell_type": "code",
   "execution_count": 22,
   "metadata": {},
   "outputs": [
    {
     "data": {
      "text/plain": [
       "array([-1.25635958,  1.2565304 , -1.49984944,  1.25664961,  0.0999872 ])"
      ]
     },
     "execution_count": 22,
     "metadata": {},
     "output_type": "execute_result"
    }
   ],
   "source": [
    "preds = npar([x.item() for x in final_ad_pinn.pdc.funcs.parameters()])\n",
    "grounds = npar([-cc, cc, -1.5, cc, 0.1])\n",
    "preds"
   ]
  },
  {
   "cell_type": "code",
   "execution_count": 23,
   "metadata": {},
   "outputs": [
    {
     "data": {
      "text/plain": [
       "(0.010880779787934478, 0.006829722230739345)"
      ]
     },
     "execution_count": 23,
     "metadata": {},
     "output_type": "execute_result"
    }
   ],
   "source": [
    "errs = 100*(np.abs(preds-grounds)/np.abs(grounds))\n",
    "errs.mean(), errs.std()"
   ]
  },
  {
   "cell_type": "code",
   "execution_count": 24,
   "metadata": {},
   "outputs": [],
   "source": [
    "# New results\n",
    "# w/o DFT\n",
    "# Clean all\n",
    "# array([-1.25623655,  1.25656128, -1.49985731,  1.25665808,  0.09997236])\n",
    "# (0.015345486828358346, 0.012099642990359417)\n",
    "# Noisy1\n",
    "# array([-1.25596786,  1.25678086, -1.49993205,  1.25670695,  0.09998032])\n",
    "# (0.018892862741893963, 0.018004370233254713)\n",
    "# Noisy2\n",
    "# array([-1.25149083,  1.25566435, -1.49853253,  1.25527477,  0.10061844])\n",
    "# (0.26232110489992866, 0.21606809907599014)\n",
    "\n",
    "# w/ DFT\n",
    "# Clean all\n",
    "# V1\n",
    "# array([-1.25622261,  1.25651634, -1.49988151,  1.25663877,  0.09995594])\n",
    "# (0.018936938168554983, 0.01667836126337147)\n",
    "# V2, Use this one. | relative l2 error  = 0.0010589083\n",
    "# array([-1.25635958,  1.2565304 , -1.49984944,  1.25664961,  0.0999872 ])\n",
    "# (0.010880779787934478, 0.006829722230739345)\n",
    "# Noisy1 | relative l2 error = 0.001746914\n",
    "# array([-1.25678468,  1.25660324, -1.49969542,  1.2565794 ,  0.10003757])\n",
    "# (0.015379903264666196, 0.012705832108171925)\n",
    "# Noisy2 | relative l2 error = 0.0067189233\n",
    "# array([-1.2556591 ,  1.2577163 , -1.49899721,  1.25608265,  0.10037906])\n",
    "# (0.13074689872742037, 0.12494693424397522)"
   ]
  },
  {
   "cell_type": "code",
   "execution_count": 25,
   "metadata": {},
   "outputs": [],
   "source": [
    "# mean, std\n",
    "# (0.04264339677138114, 0.0523326488183105)"
   ]
  },
  {
   "cell_type": "code",
   "execution_count": null,
   "metadata": {},
   "outputs": [],
   "source": []
  }
 ],
 "metadata": {
  "kernelspec": {
   "display_name": "Python 3",
   "language": "python",
   "name": "python3"
  },
  "language_info": {
   "codemirror_mode": {
    "name": "ipython",
    "version": 3
   },
   "file_extension": ".py",
   "mimetype": "text/x-python",
   "name": "python",
   "nbconvert_exporter": "python",
   "pygments_lexer": "ipython3",
   "version": "3.9.8"
  }
 },
 "nbformat": 4,
 "nbformat_minor": 4
}
