{
 "cells": [
  {
   "cell_type": "code",
   "execution_count": 1,
   "metadata": {},
   "outputs": [
    {
     "name": "stdout",
     "output_type": "stream",
     "text": [
      "Running Python 3.9.8\n",
      "You can use npar for np.array\n"
     ]
    }
   ],
   "source": [
    "import sys; sys.path.insert(0, \"../\"); from utils import *\n",
    "from sympy import symbols, lambdify, sympify\n",
    "import numpy as np\n",
    "import torch"
   ]
  },
  {
   "cell_type": "markdown",
   "metadata": {},
   "source": [
    "### Parametric Advection-Diffusion discovery results"
   ]
  },
  {
   "cell_type": "code",
   "execution_count": 2,
   "metadata": {},
   "outputs": [],
   "source": [
    "xs = np.linspace(-5, 5, 256)"
   ]
  },
  {
   "cell_type": "code",
   "execution_count": 3,
   "metadata": {},
   "outputs": [],
   "source": [
    "const = 2*np.pi/5\n",
    "ground1 = -const*np.sin(const*xs)\n",
    "ground2 = -1.5 + np.cos(const*xs)\n",
    "ground3 = npar([0.1])"
   ]
  },
  {
   "cell_type": "code",
   "execution_count": 4,
   "metadata": {},
   "outputs": [],
   "source": [
    "est1 = -1.2553554773330688*np.sin(1.2564677000045776*xs)\n",
    "est2 = -1.4997742176055908+np.cos(1.2567481994628906*xs)\n",
    "est3 = npar([0.09986680001020432])"
   ]
  },
  {
   "cell_type": "code",
   "execution_count": 5,
   "metadata": {},
   "outputs": [
    {
     "data": {
      "text/plain": [
       "(0.08696933248390322, 0.047897817294635)"
      ]
     },
     "execution_count": 5,
     "metadata": {},
     "output_type": "execute_result"
    }
   ],
   "source": [
    "errs = npar([percent_error(est1, ground1), \n",
    "        percent_error(est2, ground2), \n",
    "        percent_error(est3, ground3)])\n",
    "\n",
    "errs.mean(), errs.std()"
   ]
  },
  {
   "cell_type": "code",
   "execution_count": 6,
   "metadata": {},
   "outputs": [],
   "source": [
    "all_params = [[-1.25623655,  1.25656128, -1.49985731,  1.25665808,  0.09997236], \n",
    "              [-1.25596786,  1.25678086, -1.49993205,  1.25670695,  0.09998032], \n",
    "              [-1.25149083,  1.25566435, -1.49853253,  1.25527477,  0.10061844], \n",
    "              [-1.25622261,  1.25651634, -1.49988151,  1.25663877,  0.09995594], \n",
    "              [-1.25678468,  1.25660324, -1.49969542,  1.2565794 ,  0.10003757], \n",
    "              [-1.2556591 ,  1.2577163 , -1.49899721,  1.25608265,  0.10037906]]"
   ]
  },
  {
   "cell_type": "code",
   "execution_count": 7,
   "metadata": {},
   "outputs": [],
   "source": [
    "def est_f1(params, domain): return params[0]*np.sin(params[1]*domain)\n",
    "def est_f2(params, domain): return np.cos(params[3]*domain)+params[2]\n",
    "def est_f3(params, domain): return npar(params[4])"
   ]
  },
  {
   "cell_type": "code",
   "execution_count": 8,
   "metadata": {},
   "outputs": [
    {
     "name": "stdout",
     "output_type": "stream",
     "text": [
      "0.024852436735562627 0.010641653510431812\n",
      "0.033417744749667105 0.027418062927952274\n",
      "0.412837556687257 0.19299865946375605\n",
      "0.03222090836266606 0.01712074867974253\n",
      "0.02368350538918333 0.009830008558860728\n",
      "0.24692653488759544 0.13004034389508512\n"
     ]
    }
   ],
   "source": [
    "for params in all_params:\n",
    "    est1 = est_f1(params, xs)\n",
    "    est2 = est_f2(params, xs)\n",
    "    est3 = est_f3(params, xs)\n",
    "    \n",
    "    errs = npar([percent_error(est1, ground1), \n",
    "            percent_error(est2, ground2),\n",
    "            percent_error(est3, ground3)])\n",
    "\n",
    "    print(errs.mean(), errs.std())"
   ]
  },
  {
   "cell_type": "code",
   "execution_count": 9,
   "metadata": {},
   "outputs": [],
   "source": [
    "# 0.024852436735562627 0.010641653510431812\n",
    "# 0.033417744749667105 0.027418062927952274\n",
    "# 0.412837556687257 0.19299865946375605\n",
    "# 0.03222090836266606 0.01712074867974253\n",
    "# 0.02368350538918333 0.009830008558860728\n",
    "# 0.24692653488759544 0.13004034389508512"
   ]
  }
 ],
 "metadata": {
  "kernelspec": {
   "display_name": "Python 3",
   "language": "python",
   "name": "python3"
  },
  "language_info": {
   "codemirror_mode": {
    "name": "ipython",
    "version": 3
   },
   "file_extension": ".py",
   "mimetype": "text/x-python",
   "name": "python",
   "nbconvert_exporter": "python",
   "pygments_lexer": "ipython3",
   "version": "3.9.8"
  }
 },
 "nbformat": 4,
 "nbformat_minor": 4
}
