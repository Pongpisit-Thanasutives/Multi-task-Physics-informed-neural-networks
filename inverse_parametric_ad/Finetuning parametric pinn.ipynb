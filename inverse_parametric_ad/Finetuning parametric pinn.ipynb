{
 "cells": [
  {
   "cell_type": "code",
   "execution_count": 1,
   "metadata": {},
   "outputs": [
    {
     "name": "stdout",
     "output_type": "stream",
     "text": [
      "Populating the interactive namespace from numpy and matplotlib\n"
     ]
    }
   ],
   "source": [
    "%load_ext autoreload\n",
    "%autoreload 2 \n",
    "%reload_ext autoreload\n",
    "%pylab inline\n",
    "%matplotlib inline\n",
    "import matplotlib.pyplot as plt\n",
    "\n",
    "import sys; sys.path.insert(0, \"../\")\n",
    "import sys; sys.path.insert(0, \"../inverse_parametric_burgers/\")\n",
    "\n",
    "import numpy as np\n",
    "from utils import *\n",
    "from parametric_discovery_pinn import ParametricPINN, FinalParametricPINN\n",
    "from madgrad import MADGRAD\n",
    "\n",
    "from pde_diff import TrainSTRidge, FiniteDiff, print_pde\n",
    "from robust_pde_diff import print_pde, RobustPCA, Robust_LRSTR, DLrSR\n",
    "from parametric_pde_diff import TrainSGTRidge, create_groups\n",
    "from pytorch_robust_pca import R_pca\n",
    "\n",
    "from scipy.integrate import odeint\n",
    "from numpy.fft import fft, ifft, fftfreq\n",
    "from time import time\n",
    "\n",
    "from pysr import pysr, best\n",
    "\n",
    "fontsize = 20"
   ]
  },
  {
   "cell_type": "code",
   "execution_count": 2,
   "metadata": {},
   "outputs": [
    {
     "name": "stdout",
     "output_type": "stream",
     "text": [
      "Loaded from ../parametric_pde_data/parametric_advection_diffusion.pkl\n"
     ]
    }
   ],
   "source": [
    "data = pickle_load(\"../parametric_pde_data/parametric_advection_diffusion.pkl\")\n",
    "\n",
    "x = data['x']; spatial_dims = x.shape[0]\n",
    "t = data['t']; time_dims = t.shape[0]\n",
    "Exact = data['u']\n",
    "\n",
    "X, T = np.meshgrid(x, t)\n",
    "\n",
    "X_star = np.hstack((to_column_vector(X), to_column_vector(T)))\n",
    "u_star = to_column_vector(Exact.T)\n",
    "\n",
    "# domain bounds\n",
    "lb = X_star.min(axis=0)\n",
    "ub = X_star.max(axis=0)\n",
    "\n",
    "# Sampling training data points\n",
    "N = 20000\n",
    "training_idxs = sampling_from_rows(X_star, N, True)\n",
    "X_train = X_star[training_idxs, :]\n",
    "u_train = u_star[training_idxs, :]\n",
    "\n",
    "# to_tensor\n",
    "X_star = to_tensor(X_star, True)\n",
    "u_star = to_tensor(u_star, False)\n",
    "X_train = to_tensor(X_train, True)\n",
    "u_train = to_tensor(u_train, False)\n",
    "lb = to_tensor(lb, False)\n",
    "ub = to_tensor(ub, False)\n",
    "\n",
    "L = 5\n",
    "u_true = -2*np.pi/L*np.sin(2*x*np.pi/L)\n",
    "u_x_true = -1.5 + 1.0*np.cos(2*x*np.pi/L)\n",
    "u_xx_true = 0.1*np.ones(spatial_dims)\n",
    "\n",
    "eq_name = \"ad\""
   ]
  },
  {
   "cell_type": "code",
   "execution_count": 3,
   "metadata": {},
   "outputs": [
    {
     "name": "stdout",
     "output_type": "stream",
     "text": [
      "Loaded the model's weights properly\n"
     ]
    }
   ],
   "source": [
    "pinn = ParametricPINN(n_funcs=3, scale=True, lb=lb, ub=ub, eq_name=eq_name)\n",
    "pinn = load_weights(pinn, \"./saved_path_inverse_parametric_ad/parametric_pinn_with_fg.pth\")\n",
    "model = nn.Sequential(pinn.preprocessor_net, pinn.pde_solver_net)\n",
    "# 1.231026\n",
    "pde_terms = [\"u\", \"u_x\", \"u_xx\"]\n",
    "func_terms = [\"-sin(1.2608153*x)\", \"cos(1.2608153*x)-1.5014627\", \"0.09376708\"]\n",
    "final_ad_pinn = FinalParametricPINN(model=model, pde_terms=pde_terms, \n",
    "                                        func_terms=func_terms, uncert=True, \n",
    "                                        scale=pinn.scale, lb=pinn.lb, ub=pinn.ub, \n",
    "                                        trainable_one=True\n",
    "                                       )\n",
    "del pinn"
   ]
  },
  {
   "cell_type": "code",
   "execution_count": 4,
   "metadata": {},
   "outputs": [
    {
     "name": "stdout",
     "output_type": "stream",
     "text": [
      "[tensor(-1.), tensor(1.2608)]\n",
      "[tensor(-1.5015), tensor(1.2608)]\n",
      "[tensor(0.0938)]\n"
     ]
    }
   ],
   "source": [
    "for i in range(3): print(see_params(final_ad_pinn.pdc.funcs[i]))"
   ]
  },
  {
   "cell_type": "code",
   "execution_count": 5,
   "metadata": {},
   "outputs": [],
   "source": [
    "x, t = dimension_slicing(X_train)"
   ]
  },
  {
   "cell_type": "code",
   "execution_count": 6,
   "metadata": {},
   "outputs": [],
   "source": [
    "def pcgrad_closure(return_list=False):\n",
    "    global N, x, t, u_train\n",
    "    losses = final_ad_pinn.loss(x, t, u_train)\n",
    "    updated_grads = []\n",
    "    \n",
    "    for i in range(2):\n",
    "        optimizer.zero_grad()\n",
    "        losses[i].backward(retain_graph=True)\n",
    "\n",
    "        g_task = []\n",
    "        for param in final_ad_pinn.parameters():\n",
    "            if param.grad is not None:\n",
    "                g_task.append(Variable(param.grad.clone(), requires_grad=False))\n",
    "            else:\n",
    "                g_task.append(Variable(torch.zeros(param.shape), requires_grad=False))\n",
    "        # appending the gradients from each task\n",
    "        updated_grads.append(g_task)\n",
    "\n",
    "    updated_grads = list(pcgrad.pc_grad_update(updated_grads))[0]\n",
    "    for idx, param in enumerate(final_ad_pinn.parameters()):\n",
    "        param.grad = (updated_grads[0][idx]+updated_grads[1][idx])\n",
    "        \n",
    "    if not return_list: return losses[0]+losses[1]\n",
    "    else: return losses"
   ]
  },
  {
   "cell_type": "code",
   "execution_count": 7,
   "metadata": {},
   "outputs": [],
   "source": [
    "def finetuning_closure():\n",
    "    global N, x, t, u_train\n",
    "    if torch.is_grad_enabled(): f_opt.zero_grad()\n",
    "    # the solver network only consider the first N samples.\n",
    "    mse_loss, pde_loss = final_ad_pinn.loss(x, t, u_train)\n",
    "    loss = mse_loss + pde_loss\n",
    "    if loss.requires_grad: loss.backward(retain_graph=False)\n",
    "    return loss"
   ]
  },
  {
   "cell_type": "code",
   "execution_count": 8,
   "metadata": {},
   "outputs": [
    {
     "name": "stdout",
     "output_type": "stream",
     "text": [
      "[tensor(0.6931, grad_fn=<AddBackward0>), tensor(0.9891, grad_fn=<AddBackward0>)]\n",
      "[tensor(0.6929, grad_fn=<AddBackward0>), tensor(0.6995, grad_fn=<AddBackward0>)]\n",
      "[tensor(0.6918, grad_fn=<AddBackward0>), tensor(0.6944, grad_fn=<AddBackward0>)]\n",
      "[tensor(0.6907, grad_fn=<AddBackward0>), tensor(0.6922, grad_fn=<AddBackward0>)]\n",
      "[tensor(0.6895, grad_fn=<AddBackward0>), tensor(0.6907, grad_fn=<AddBackward0>)]\n",
      "[tensor(0.6883, grad_fn=<AddBackward0>), tensor(0.6893, grad_fn=<AddBackward0>)]\n",
      "[tensor(0.6871, grad_fn=<AddBackward0>), tensor(0.6879, grad_fn=<AddBackward0>)]\n",
      "[tensor(0.6859, grad_fn=<AddBackward0>), tensor(0.6866, grad_fn=<AddBackward0>)]\n",
      "[tensor(0.6847, grad_fn=<AddBackward0>), tensor(0.6853, grad_fn=<AddBackward0>)]\n",
      "[tensor(0.6834, grad_fn=<AddBackward0>), tensor(0.6840, grad_fn=<AddBackward0>)]\n",
      "[tensor(0.6822, grad_fn=<AddBackward0>), tensor(0.6828, grad_fn=<AddBackward0>)]\n",
      "[tensor(0.6810, grad_fn=<AddBackward0>), tensor(0.6815, grad_fn=<AddBackward0>)]\n",
      "[tensor(0.6798, grad_fn=<AddBackward0>), tensor(0.6803, grad_fn=<AddBackward0>)]\n",
      "[tensor(0.6786, grad_fn=<AddBackward0>), tensor(0.6790, grad_fn=<AddBackward0>)]\n",
      "[tensor(0.6774, grad_fn=<AddBackward0>), tensor(0.6778, grad_fn=<AddBackward0>)]\n",
      "tensor(0.0097, grad_fn=<AddBackward0>)\n",
      "tensor(0.0053, grad_fn=<AddBackward0>)\n",
      "tensor(0.0053, grad_fn=<AddBackward0>)\n",
      "tensor(0.0053, grad_fn=<AddBackward0>)\n",
      "tensor(0.0053, grad_fn=<AddBackward0>)\n",
      "tensor(0.0053, grad_fn=<AddBackward0>)\n",
      "tensor(0.0053, grad_fn=<AddBackward0>)\n",
      "tensor(0.0053, grad_fn=<AddBackward0>)\n",
      "tensor(0.0053, grad_fn=<AddBackward0>)\n",
      "tensor(0.0053, grad_fn=<AddBackward0>)\n"
     ]
    }
   ],
   "source": [
    "optimizer = MADGRAD(final_ad_pinn.parameters(), lr=1e-6, momentum=0.9)\n",
    "for i in range(150):\n",
    "    final_ad_pinn.train()\n",
    "    optimizer.step(pcgrad_closure)\n",
    "    if i%10==0: print(pcgrad_closure(return_list=True))\n",
    "        \n",
    "f_opt = torch.optim.LBFGS(final_ad_pinn.parameters(), lr=1e-1, max_iter=500, max_eval=int(1.25*500), history_size=300, line_search_fn='strong_wolfe')\n",
    "# final_ad_pinn.is_uncert = False\n",
    "for i in range(100):\n",
    "    f_opt.step(finetuning_closure)\n",
    "    if i%10==0: print(finetuning_closure())"
   ]
  },
  {
   "cell_type": "code",
   "execution_count": 16,
   "metadata": {},
   "outputs": [
    {
     "name": "stdout",
     "output_type": "stream",
     "text": [
      "[tensor(-1.2554), tensor(1.2565)]\n",
      "[tensor(-1.4998), tensor(1.2567)]\n",
      "[tensor(0.0999)]\n"
     ]
    }
   ],
   "source": [
    "for i in range(3): print(see_params(final_ad_pinn.pdc.funcs[i]))"
   ]
  },
  {
   "cell_type": "code",
   "execution_count": 17,
   "metadata": {},
   "outputs": [],
   "source": [
    "cc = 2.0*np.pi/5.0"
   ]
  },
  {
   "cell_type": "code",
   "execution_count": 18,
   "metadata": {},
   "outputs": [
    {
     "data": {
      "text/plain": [
       "[-1.2553554773330688,\n",
       " 1.2564677000045776,\n",
       " -1.4997742176055908,\n",
       " 1.2567481994628906,\n",
       " 0.09986680001020432]"
      ]
     },
     "execution_count": 18,
     "metadata": {},
     "output_type": "execute_result"
    }
   ],
   "source": [
    "[x.item() for x in final_ad_pinn.pdc.funcs.parameters()]"
   ]
  },
  {
   "cell_type": "code",
   "execution_count": 19,
   "metadata": {},
   "outputs": [
    {
     "data": {
      "text/plain": [
       "(0.04264339677138114, 0.0523326488183105)"
      ]
     },
     "execution_count": 19,
     "metadata": {},
     "output_type": "execute_result"
    }
   ],
   "source": [
    "errs = 100*np.array([abs(cc-1.2564677000045776)/cc, (1.5-1.4997742176055908)/1.5, abs(cc-1.2567481994628906)/cc, (0.1-0.09986680001020432)/0.1])\n",
    "errs.mean(), errs.std()"
   ]
  },
  {
   "cell_type": "code",
   "execution_count": 20,
   "metadata": {},
   "outputs": [],
   "source": [
    "# save(final_ad_pinn, \"./saved_path_inverse_parametric_ad/final_finetuned_pinn.pth\")"
   ]
  },
  {
   "cell_type": "code",
   "execution_count": null,
   "metadata": {},
   "outputs": [],
   "source": [
    "# mean, std\n",
    "# (0.04264339677138114, 0.0523326488183105)"
   ]
  }
 ],
 "metadata": {
  "kernelspec": {
   "display_name": "Python 3",
   "language": "python",
   "name": "python3"
  },
  "language_info": {
   "codemirror_mode": {
    "name": "ipython",
    "version": 3
   },
   "file_extension": ".py",
   "mimetype": "text/x-python",
   "name": "python",
   "nbconvert_exporter": "python",
   "pygments_lexer": "ipython3",
   "version": "3.9.5"
  }
 },
 "nbformat": 4,
 "nbformat_minor": 4
}
