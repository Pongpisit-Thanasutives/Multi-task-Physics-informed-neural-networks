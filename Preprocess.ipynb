{
 "cells": [
  {
   "cell_type": "code",
   "execution_count": 1,
   "metadata": {},
   "outputs": [
    {
     "name": "stdout",
     "output_type": "stream",
     "text": [
      "Populating the interactive namespace from numpy and matplotlib\n"
     ]
    }
   ],
   "source": [
    "%pylab inline\n",
    "pylab.rcParams['figure.figsize'] = (12, 8)\n",
    "from mpl_toolkits.mplot3d import Axes3D\n",
    "\n",
    "import os\n",
    "import glob\n",
    "import numpy as np\n",
    "from scipy.io import loadmat"
   ]
  },
  {
   "cell_type": "code",
   "execution_count": 2,
   "metadata": {},
   "outputs": [
    {
     "data": {
      "text/plain": [
       "['./PDE_FIND_experimental_datasets/kuramoto_sivishinky.mat',\n",
       " './PDE_FIND_experimental_datasets/reaction_diffusion_big.mat',\n",
       " './PDE_FIND_experimental_datasets/harmonic_osc.mat',\n",
       " './PDE_FIND_experimental_datasets/nls.mat',\n",
       " './PDE_FIND_experimental_datasets/kdv.mat',\n",
       " './PDE_FIND_experimental_datasets/large_kuramoto_sivishinky.mat',\n",
       " './PDE_FIND_experimental_datasets/burgers.mat']"
      ]
     },
     "execution_count": 2,
     "metadata": {},
     "output_type": "execute_result"
    }
   ],
   "source": [
    "data_paths = glob.glob(\"./PDE_FIND_experimental_datasets/*.mat\")\n",
    "data_paths"
   ]
  },
  {
   "cell_type": "code",
   "execution_count": 3,
   "metadata": {},
   "outputs": [],
   "source": [
    "def space_time_grid(data_path, real_solution=False):\n",
    "    data = loadmat(data_path)\n",
    "    \n",
    "    time_key = 't' if 't' in data.keys() else 'tt'\n",
    "    u_key = 'usol' if 'usol' in data.keys() else None\n",
    "    if u_key is None:\n",
    "        if 'u' in data.keys(): u_key = 'u'\n",
    "        else: u_key = 'uu'\n",
    "    spatial_key = 'x' if 'x' in data.keys() else 'xx'\n",
    "    \n",
    "    t = data[time_key].flatten()[:, None]\n",
    "    x = data[spatial_key].flatten()[:, None]\n",
    "    \n",
    "    Exact = data[u_key]\n",
    "    if real_solution: Exact = np.real(Exact)\n",
    "    Exact = Exact.T\n",
    "    \n",
    "    X, T = np.meshgrid(x, t)\n",
    "    \n",
    "    return X, T, Exact\n",
    "\n",
    "def get_trainable_data(X, T, Exact):\n",
    "    X_star = np.hstack((X.flatten()[:,None], T.flatten()[:,None]))\n",
    "    u_star = u.flatten()[:,None]\n",
    "    return X_star, u_star"
   ]
  },
  {
   "cell_type": "code",
   "execution_count": 4,
   "metadata": {},
   "outputs": [],
   "source": [
    "X, T, u = space_time_grid(data_paths[3], True)\n",
    "X_star, u_star = get_trainable_data(X, T, u)"
   ]
  },
  {
   "cell_type": "code",
   "execution_count": 5,
   "metadata": {},
   "outputs": [
    {
     "data": {
      "text/plain": [
       "(array([[-5.        ,  0.        ],\n",
       "        [-4.98046875,  0.        ],\n",
       "        [-4.9609375 ,  0.        ],\n",
       "        ...,\n",
       "        [ 4.94140625,  3.14159265],\n",
       "        [ 4.9609375 ,  3.14159265],\n",
       "        [ 4.98046875,  3.14159265]]),\n",
       " array([[ 0.02695056],\n",
       "        [ 0.02814753],\n",
       "        [ 0.02864335],\n",
       "        ...,\n",
       "        [-0.01126165],\n",
       "        [-0.01166977],\n",
       "        [-0.01189685]]))"
      ]
     },
     "execution_count": 5,
     "metadata": {},
     "output_type": "execute_result"
    }
   ],
   "source": [
    "X_star, u_star"
   ]
  },
  {
   "cell_type": "code",
   "execution_count": null,
   "metadata": {},
   "outputs": [],
   "source": []
  }
 ],
 "metadata": {
  "kernelspec": {
   "display_name": "Python 3",
   "language": "python",
   "name": "python3"
  },
  "language_info": {
   "codemirror_mode": {
    "name": "ipython",
    "version": 3
   },
   "file_extension": ".py",
   "mimetype": "text/x-python",
   "name": "python",
   "nbconvert_exporter": "python",
   "pygments_lexer": "ipython3",
   "version": "3.9.4"
  }
 },
 "nbformat": 4,
 "nbformat_minor": 4
}
